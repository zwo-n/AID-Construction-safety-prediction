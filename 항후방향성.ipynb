{
  "nbformat": 4,
  "nbformat_minor": 0,
  "metadata": {
    "colab": {
      "provenance": [],
      "gpuType": "T4"
    },
    "kernelspec": {
      "name": "python3",
      "display_name": "Python 3"
    },
    "language_info": {
      "name": "python"
    },
    "accelerator": "GPU",
    "widgets": {
      "application/vnd.jupyter.widget-state+json": {
        "fd963e0718a441a58e4212a8c2ae4a42": {
          "model_module": "@jupyter-widgets/controls",
          "model_name": "HBoxModel",
          "model_module_version": "1.5.0",
          "state": {
            "_dom_classes": [],
            "_model_module": "@jupyter-widgets/controls",
            "_model_module_version": "1.5.0",
            "_model_name": "HBoxModel",
            "_view_count": null,
            "_view_module": "@jupyter-widgets/controls",
            "_view_module_version": "1.5.0",
            "_view_name": "HBoxView",
            "box_style": "",
            "children": [
              "IPY_MODEL_eedcfb13afaf4e0491b7a5fee3b4a692",
              "IPY_MODEL_fa1d957b2dbd44f086fc90ae51707a23",
              "IPY_MODEL_880ac7ada99d4f1ebd72309939fa4d4b"
            ],
            "layout": "IPY_MODEL_aaf2ec5432b34f9fa6e8da4ad0a8c10e"
          }
        },
        "eedcfb13afaf4e0491b7a5fee3b4a692": {
          "model_module": "@jupyter-widgets/controls",
          "model_name": "HTMLModel",
          "model_module_version": "1.5.0",
          "state": {
            "_dom_classes": [],
            "_model_module": "@jupyter-widgets/controls",
            "_model_module_version": "1.5.0",
            "_model_name": "HTMLModel",
            "_view_count": null,
            "_view_module": "@jupyter-widgets/controls",
            "_view_module_version": "1.5.0",
            "_view_name": "HTMLView",
            "description": "",
            "description_tooltip": null,
            "layout": "IPY_MODEL_c2f9b084bde04d2686fedd7f9679c755",
            "placeholder": "​",
            "style": "IPY_MODEL_7d54f5f946f54c2386a3b21949242683",
            "value": "tokenizer_config.json: 100%"
          }
        },
        "fa1d957b2dbd44f086fc90ae51707a23": {
          "model_module": "@jupyter-widgets/controls",
          "model_name": "FloatProgressModel",
          "model_module_version": "1.5.0",
          "state": {
            "_dom_classes": [],
            "_model_module": "@jupyter-widgets/controls",
            "_model_module_version": "1.5.0",
            "_model_name": "FloatProgressModel",
            "_view_count": null,
            "_view_module": "@jupyter-widgets/controls",
            "_view_module_version": "1.5.0",
            "_view_name": "ProgressView",
            "bar_style": "success",
            "description": "",
            "description_tooltip": null,
            "layout": "IPY_MODEL_4eaad01fb7a94b49800bffff8aeff81e",
            "max": 289,
            "min": 0,
            "orientation": "horizontal",
            "style": "IPY_MODEL_773b38d4ec9e4f3380db9008748e6359",
            "value": 289
          }
        },
        "880ac7ada99d4f1ebd72309939fa4d4b": {
          "model_module": "@jupyter-widgets/controls",
          "model_name": "HTMLModel",
          "model_module_version": "1.5.0",
          "state": {
            "_dom_classes": [],
            "_model_module": "@jupyter-widgets/controls",
            "_model_module_version": "1.5.0",
            "_model_name": "HTMLModel",
            "_view_count": null,
            "_view_module": "@jupyter-widgets/controls",
            "_view_module_version": "1.5.0",
            "_view_name": "HTMLView",
            "description": "",
            "description_tooltip": null,
            "layout": "IPY_MODEL_1f630289a40f498696092095c1fe1aab",
            "placeholder": "​",
            "style": "IPY_MODEL_c927142e962a40b3bd8e544d5e6a51c0",
            "value": " 289/289 [00:00&lt;00:00, 14.8kB/s]"
          }
        },
        "aaf2ec5432b34f9fa6e8da4ad0a8c10e": {
          "model_module": "@jupyter-widgets/base",
          "model_name": "LayoutModel",
          "model_module_version": "1.2.0",
          "state": {
            "_model_module": "@jupyter-widgets/base",
            "_model_module_version": "1.2.0",
            "_model_name": "LayoutModel",
            "_view_count": null,
            "_view_module": "@jupyter-widgets/base",
            "_view_module_version": "1.2.0",
            "_view_name": "LayoutView",
            "align_content": null,
            "align_items": null,
            "align_self": null,
            "border": null,
            "bottom": null,
            "display": null,
            "flex": null,
            "flex_flow": null,
            "grid_area": null,
            "grid_auto_columns": null,
            "grid_auto_flow": null,
            "grid_auto_rows": null,
            "grid_column": null,
            "grid_gap": null,
            "grid_row": null,
            "grid_template_areas": null,
            "grid_template_columns": null,
            "grid_template_rows": null,
            "height": null,
            "justify_content": null,
            "justify_items": null,
            "left": null,
            "margin": null,
            "max_height": null,
            "max_width": null,
            "min_height": null,
            "min_width": null,
            "object_fit": null,
            "object_position": null,
            "order": null,
            "overflow": null,
            "overflow_x": null,
            "overflow_y": null,
            "padding": null,
            "right": null,
            "top": null,
            "visibility": null,
            "width": null
          }
        },
        "c2f9b084bde04d2686fedd7f9679c755": {
          "model_module": "@jupyter-widgets/base",
          "model_name": "LayoutModel",
          "model_module_version": "1.2.0",
          "state": {
            "_model_module": "@jupyter-widgets/base",
            "_model_module_version": "1.2.0",
            "_model_name": "LayoutModel",
            "_view_count": null,
            "_view_module": "@jupyter-widgets/base",
            "_view_module_version": "1.2.0",
            "_view_name": "LayoutView",
            "align_content": null,
            "align_items": null,
            "align_self": null,
            "border": null,
            "bottom": null,
            "display": null,
            "flex": null,
            "flex_flow": null,
            "grid_area": null,
            "grid_auto_columns": null,
            "grid_auto_flow": null,
            "grid_auto_rows": null,
            "grid_column": null,
            "grid_gap": null,
            "grid_row": null,
            "grid_template_areas": null,
            "grid_template_columns": null,
            "grid_template_rows": null,
            "height": null,
            "justify_content": null,
            "justify_items": null,
            "left": null,
            "margin": null,
            "max_height": null,
            "max_width": null,
            "min_height": null,
            "min_width": null,
            "object_fit": null,
            "object_position": null,
            "order": null,
            "overflow": null,
            "overflow_x": null,
            "overflow_y": null,
            "padding": null,
            "right": null,
            "top": null,
            "visibility": null,
            "width": null
          }
        },
        "7d54f5f946f54c2386a3b21949242683": {
          "model_module": "@jupyter-widgets/controls",
          "model_name": "DescriptionStyleModel",
          "model_module_version": "1.5.0",
          "state": {
            "_model_module": "@jupyter-widgets/controls",
            "_model_module_version": "1.5.0",
            "_model_name": "DescriptionStyleModel",
            "_view_count": null,
            "_view_module": "@jupyter-widgets/base",
            "_view_module_version": "1.2.0",
            "_view_name": "StyleView",
            "description_width": ""
          }
        },
        "4eaad01fb7a94b49800bffff8aeff81e": {
          "model_module": "@jupyter-widgets/base",
          "model_name": "LayoutModel",
          "model_module_version": "1.2.0",
          "state": {
            "_model_module": "@jupyter-widgets/base",
            "_model_module_version": "1.2.0",
            "_model_name": "LayoutModel",
            "_view_count": null,
            "_view_module": "@jupyter-widgets/base",
            "_view_module_version": "1.2.0",
            "_view_name": "LayoutView",
            "align_content": null,
            "align_items": null,
            "align_self": null,
            "border": null,
            "bottom": null,
            "display": null,
            "flex": null,
            "flex_flow": null,
            "grid_area": null,
            "grid_auto_columns": null,
            "grid_auto_flow": null,
            "grid_auto_rows": null,
            "grid_column": null,
            "grid_gap": null,
            "grid_row": null,
            "grid_template_areas": null,
            "grid_template_columns": null,
            "grid_template_rows": null,
            "height": null,
            "justify_content": null,
            "justify_items": null,
            "left": null,
            "margin": null,
            "max_height": null,
            "max_width": null,
            "min_height": null,
            "min_width": null,
            "object_fit": null,
            "object_position": null,
            "order": null,
            "overflow": null,
            "overflow_x": null,
            "overflow_y": null,
            "padding": null,
            "right": null,
            "top": null,
            "visibility": null,
            "width": null
          }
        },
        "773b38d4ec9e4f3380db9008748e6359": {
          "model_module": "@jupyter-widgets/controls",
          "model_name": "ProgressStyleModel",
          "model_module_version": "1.5.0",
          "state": {
            "_model_module": "@jupyter-widgets/controls",
            "_model_module_version": "1.5.0",
            "_model_name": "ProgressStyleModel",
            "_view_count": null,
            "_view_module": "@jupyter-widgets/base",
            "_view_module_version": "1.2.0",
            "_view_name": "StyleView",
            "bar_color": null,
            "description_width": ""
          }
        },
        "1f630289a40f498696092095c1fe1aab": {
          "model_module": "@jupyter-widgets/base",
          "model_name": "LayoutModel",
          "model_module_version": "1.2.0",
          "state": {
            "_model_module": "@jupyter-widgets/base",
            "_model_module_version": "1.2.0",
            "_model_name": "LayoutModel",
            "_view_count": null,
            "_view_module": "@jupyter-widgets/base",
            "_view_module_version": "1.2.0",
            "_view_name": "LayoutView",
            "align_content": null,
            "align_items": null,
            "align_self": null,
            "border": null,
            "bottom": null,
            "display": null,
            "flex": null,
            "flex_flow": null,
            "grid_area": null,
            "grid_auto_columns": null,
            "grid_auto_flow": null,
            "grid_auto_rows": null,
            "grid_column": null,
            "grid_gap": null,
            "grid_row": null,
            "grid_template_areas": null,
            "grid_template_columns": null,
            "grid_template_rows": null,
            "height": null,
            "justify_content": null,
            "justify_items": null,
            "left": null,
            "margin": null,
            "max_height": null,
            "max_width": null,
            "min_height": null,
            "min_width": null,
            "object_fit": null,
            "object_position": null,
            "order": null,
            "overflow": null,
            "overflow_x": null,
            "overflow_y": null,
            "padding": null,
            "right": null,
            "top": null,
            "visibility": null,
            "width": null
          }
        },
        "c927142e962a40b3bd8e544d5e6a51c0": {
          "model_module": "@jupyter-widgets/controls",
          "model_name": "DescriptionStyleModel",
          "model_module_version": "1.5.0",
          "state": {
            "_model_module": "@jupyter-widgets/controls",
            "_model_module_version": "1.5.0",
            "_model_name": "DescriptionStyleModel",
            "_view_count": null,
            "_view_module": "@jupyter-widgets/base",
            "_view_module_version": "1.2.0",
            "_view_name": "StyleView",
            "description_width": ""
          }
        },
        "1b4f0cc5b4b0437bb760c396187763f9": {
          "model_module": "@jupyter-widgets/controls",
          "model_name": "HBoxModel",
          "model_module_version": "1.5.0",
          "state": {
            "_dom_classes": [],
            "_model_module": "@jupyter-widgets/controls",
            "_model_module_version": "1.5.0",
            "_model_name": "HBoxModel",
            "_view_count": null,
            "_view_module": "@jupyter-widgets/controls",
            "_view_module_version": "1.5.0",
            "_view_name": "HBoxView",
            "box_style": "",
            "children": [
              "IPY_MODEL_91eae078f6f64f8292a69a554ac2e2a4",
              "IPY_MODEL_66de9ec13559463a8573f0a9a03b0abd",
              "IPY_MODEL_9935290b482b499bae500deff681961e"
            ],
            "layout": "IPY_MODEL_b95e46e276804fbaaed0baa4b3d48f95"
          }
        },
        "91eae078f6f64f8292a69a554ac2e2a4": {
          "model_module": "@jupyter-widgets/controls",
          "model_name": "HTMLModel",
          "model_module_version": "1.5.0",
          "state": {
            "_dom_classes": [],
            "_model_module": "@jupyter-widgets/controls",
            "_model_module_version": "1.5.0",
            "_model_name": "HTMLModel",
            "_view_count": null,
            "_view_module": "@jupyter-widgets/controls",
            "_view_module_version": "1.5.0",
            "_view_name": "HTMLView",
            "description": "",
            "description_tooltip": null,
            "layout": "IPY_MODEL_5b5bcee982204a4b9476fcf9f64aac9c",
            "placeholder": "​",
            "style": "IPY_MODEL_f2caa6dcc9594ccb906039d416d5333a",
            "value": "config.json: 100%"
          }
        },
        "66de9ec13559463a8573f0a9a03b0abd": {
          "model_module": "@jupyter-widgets/controls",
          "model_name": "FloatProgressModel",
          "model_module_version": "1.5.0",
          "state": {
            "_dom_classes": [],
            "_model_module": "@jupyter-widgets/controls",
            "_model_module_version": "1.5.0",
            "_model_name": "FloatProgressModel",
            "_view_count": null,
            "_view_module": "@jupyter-widgets/controls",
            "_view_module_version": "1.5.0",
            "_view_name": "ProgressView",
            "bar_style": "success",
            "description": "",
            "description_tooltip": null,
            "layout": "IPY_MODEL_117ce7c88e3543958f933c93d4d33a62",
            "max": 425,
            "min": 0,
            "orientation": "horizontal",
            "style": "IPY_MODEL_df978441985943408dd1c8c18f1a2e85",
            "value": 425
          }
        },
        "9935290b482b499bae500deff681961e": {
          "model_module": "@jupyter-widgets/controls",
          "model_name": "HTMLModel",
          "model_module_version": "1.5.0",
          "state": {
            "_dom_classes": [],
            "_model_module": "@jupyter-widgets/controls",
            "_model_module_version": "1.5.0",
            "_model_name": "HTMLModel",
            "_view_count": null,
            "_view_module": "@jupyter-widgets/controls",
            "_view_module_version": "1.5.0",
            "_view_name": "HTMLView",
            "description": "",
            "description_tooltip": null,
            "layout": "IPY_MODEL_06ebad7ae7b2475aa1261b9da04d5067",
            "placeholder": "​",
            "style": "IPY_MODEL_d9977da44769497295e6a469bc0db3cd",
            "value": " 425/425 [00:00&lt;00:00, 28.6kB/s]"
          }
        },
        "b95e46e276804fbaaed0baa4b3d48f95": {
          "model_module": "@jupyter-widgets/base",
          "model_name": "LayoutModel",
          "model_module_version": "1.2.0",
          "state": {
            "_model_module": "@jupyter-widgets/base",
            "_model_module_version": "1.2.0",
            "_model_name": "LayoutModel",
            "_view_count": null,
            "_view_module": "@jupyter-widgets/base",
            "_view_module_version": "1.2.0",
            "_view_name": "LayoutView",
            "align_content": null,
            "align_items": null,
            "align_self": null,
            "border": null,
            "bottom": null,
            "display": null,
            "flex": null,
            "flex_flow": null,
            "grid_area": null,
            "grid_auto_columns": null,
            "grid_auto_flow": null,
            "grid_auto_rows": null,
            "grid_column": null,
            "grid_gap": null,
            "grid_row": null,
            "grid_template_areas": null,
            "grid_template_columns": null,
            "grid_template_rows": null,
            "height": null,
            "justify_content": null,
            "justify_items": null,
            "left": null,
            "margin": null,
            "max_height": null,
            "max_width": null,
            "min_height": null,
            "min_width": null,
            "object_fit": null,
            "object_position": null,
            "order": null,
            "overflow": null,
            "overflow_x": null,
            "overflow_y": null,
            "padding": null,
            "right": null,
            "top": null,
            "visibility": null,
            "width": null
          }
        },
        "5b5bcee982204a4b9476fcf9f64aac9c": {
          "model_module": "@jupyter-widgets/base",
          "model_name": "LayoutModel",
          "model_module_version": "1.2.0",
          "state": {
            "_model_module": "@jupyter-widgets/base",
            "_model_module_version": "1.2.0",
            "_model_name": "LayoutModel",
            "_view_count": null,
            "_view_module": "@jupyter-widgets/base",
            "_view_module_version": "1.2.0",
            "_view_name": "LayoutView",
            "align_content": null,
            "align_items": null,
            "align_self": null,
            "border": null,
            "bottom": null,
            "display": null,
            "flex": null,
            "flex_flow": null,
            "grid_area": null,
            "grid_auto_columns": null,
            "grid_auto_flow": null,
            "grid_auto_rows": null,
            "grid_column": null,
            "grid_gap": null,
            "grid_row": null,
            "grid_template_areas": null,
            "grid_template_columns": null,
            "grid_template_rows": null,
            "height": null,
            "justify_content": null,
            "justify_items": null,
            "left": null,
            "margin": null,
            "max_height": null,
            "max_width": null,
            "min_height": null,
            "min_width": null,
            "object_fit": null,
            "object_position": null,
            "order": null,
            "overflow": null,
            "overflow_x": null,
            "overflow_y": null,
            "padding": null,
            "right": null,
            "top": null,
            "visibility": null,
            "width": null
          }
        },
        "f2caa6dcc9594ccb906039d416d5333a": {
          "model_module": "@jupyter-widgets/controls",
          "model_name": "DescriptionStyleModel",
          "model_module_version": "1.5.0",
          "state": {
            "_model_module": "@jupyter-widgets/controls",
            "_model_module_version": "1.5.0",
            "_model_name": "DescriptionStyleModel",
            "_view_count": null,
            "_view_module": "@jupyter-widgets/base",
            "_view_module_version": "1.2.0",
            "_view_name": "StyleView",
            "description_width": ""
          }
        },
        "117ce7c88e3543958f933c93d4d33a62": {
          "model_module": "@jupyter-widgets/base",
          "model_name": "LayoutModel",
          "model_module_version": "1.2.0",
          "state": {
            "_model_module": "@jupyter-widgets/base",
            "_model_module_version": "1.2.0",
            "_model_name": "LayoutModel",
            "_view_count": null,
            "_view_module": "@jupyter-widgets/base",
            "_view_module_version": "1.2.0",
            "_view_name": "LayoutView",
            "align_content": null,
            "align_items": null,
            "align_self": null,
            "border": null,
            "bottom": null,
            "display": null,
            "flex": null,
            "flex_flow": null,
            "grid_area": null,
            "grid_auto_columns": null,
            "grid_auto_flow": null,
            "grid_auto_rows": null,
            "grid_column": null,
            "grid_gap": null,
            "grid_row": null,
            "grid_template_areas": null,
            "grid_template_columns": null,
            "grid_template_rows": null,
            "height": null,
            "justify_content": null,
            "justify_items": null,
            "left": null,
            "margin": null,
            "max_height": null,
            "max_width": null,
            "min_height": null,
            "min_width": null,
            "object_fit": null,
            "object_position": null,
            "order": null,
            "overflow": null,
            "overflow_x": null,
            "overflow_y": null,
            "padding": null,
            "right": null,
            "top": null,
            "visibility": null,
            "width": null
          }
        },
        "df978441985943408dd1c8c18f1a2e85": {
          "model_module": "@jupyter-widgets/controls",
          "model_name": "ProgressStyleModel",
          "model_module_version": "1.5.0",
          "state": {
            "_model_module": "@jupyter-widgets/controls",
            "_model_module_version": "1.5.0",
            "_model_name": "ProgressStyleModel",
            "_view_count": null,
            "_view_module": "@jupyter-widgets/base",
            "_view_module_version": "1.2.0",
            "_view_name": "StyleView",
            "bar_color": null,
            "description_width": ""
          }
        },
        "06ebad7ae7b2475aa1261b9da04d5067": {
          "model_module": "@jupyter-widgets/base",
          "model_name": "LayoutModel",
          "model_module_version": "1.2.0",
          "state": {
            "_model_module": "@jupyter-widgets/base",
            "_model_module_version": "1.2.0",
            "_model_name": "LayoutModel",
            "_view_count": null,
            "_view_module": "@jupyter-widgets/base",
            "_view_module_version": "1.2.0",
            "_view_name": "LayoutView",
            "align_content": null,
            "align_items": null,
            "align_self": null,
            "border": null,
            "bottom": null,
            "display": null,
            "flex": null,
            "flex_flow": null,
            "grid_area": null,
            "grid_auto_columns": null,
            "grid_auto_flow": null,
            "grid_auto_rows": null,
            "grid_column": null,
            "grid_gap": null,
            "grid_row": null,
            "grid_template_areas": null,
            "grid_template_columns": null,
            "grid_template_rows": null,
            "height": null,
            "justify_content": null,
            "justify_items": null,
            "left": null,
            "margin": null,
            "max_height": null,
            "max_width": null,
            "min_height": null,
            "min_width": null,
            "object_fit": null,
            "object_position": null,
            "order": null,
            "overflow": null,
            "overflow_x": null,
            "overflow_y": null,
            "padding": null,
            "right": null,
            "top": null,
            "visibility": null,
            "width": null
          }
        },
        "d9977da44769497295e6a469bc0db3cd": {
          "model_module": "@jupyter-widgets/controls",
          "model_name": "DescriptionStyleModel",
          "model_module_version": "1.5.0",
          "state": {
            "_model_module": "@jupyter-widgets/controls",
            "_model_module_version": "1.5.0",
            "_model_name": "DescriptionStyleModel",
            "_view_count": null,
            "_view_module": "@jupyter-widgets/base",
            "_view_module_version": "1.2.0",
            "_view_name": "StyleView",
            "description_width": ""
          }
        },
        "00a086da2c42493db3860a8b6ba6debd": {
          "model_module": "@jupyter-widgets/controls",
          "model_name": "HBoxModel",
          "model_module_version": "1.5.0",
          "state": {
            "_dom_classes": [],
            "_model_module": "@jupyter-widgets/controls",
            "_model_module_version": "1.5.0",
            "_model_name": "HBoxModel",
            "_view_count": null,
            "_view_module": "@jupyter-widgets/controls",
            "_view_module_version": "1.5.0",
            "_view_name": "HBoxView",
            "box_style": "",
            "children": [
              "IPY_MODEL_34d8929b3f4f4c348a9ba49755f35ae9",
              "IPY_MODEL_692911f563d843ca84f23eda1f99e4f5",
              "IPY_MODEL_80f03b400aef47e29f3df50558347bda"
            ],
            "layout": "IPY_MODEL_31a8b2dcbad14ea2b96dc0af15b22034"
          }
        },
        "34d8929b3f4f4c348a9ba49755f35ae9": {
          "model_module": "@jupyter-widgets/controls",
          "model_name": "HTMLModel",
          "model_module_version": "1.5.0",
          "state": {
            "_dom_classes": [],
            "_model_module": "@jupyter-widgets/controls",
            "_model_module_version": "1.5.0",
            "_model_name": "HTMLModel",
            "_view_count": null,
            "_view_module": "@jupyter-widgets/controls",
            "_view_module_version": "1.5.0",
            "_view_name": "HTMLView",
            "description": "",
            "description_tooltip": null,
            "layout": "IPY_MODEL_81027c19b41a48e6ade9ee729d08f858",
            "placeholder": "​",
            "style": "IPY_MODEL_a6f83e5265fc4334bf1e80924d35cdb5",
            "value": "vocab.txt: 100%"
          }
        },
        "692911f563d843ca84f23eda1f99e4f5": {
          "model_module": "@jupyter-widgets/controls",
          "model_name": "FloatProgressModel",
          "model_module_version": "1.5.0",
          "state": {
            "_dom_classes": [],
            "_model_module": "@jupyter-widgets/controls",
            "_model_module_version": "1.5.0",
            "_model_name": "FloatProgressModel",
            "_view_count": null,
            "_view_module": "@jupyter-widgets/controls",
            "_view_module_version": "1.5.0",
            "_view_name": "ProgressView",
            "bar_style": "success",
            "description": "",
            "description_tooltip": null,
            "layout": "IPY_MODEL_651c8fc6479d47839235c236f5e3275b",
            "max": 248477,
            "min": 0,
            "orientation": "horizontal",
            "style": "IPY_MODEL_8daaa82878b140e881ab9399f322ca6c",
            "value": 248477
          }
        },
        "80f03b400aef47e29f3df50558347bda": {
          "model_module": "@jupyter-widgets/controls",
          "model_name": "HTMLModel",
          "model_module_version": "1.5.0",
          "state": {
            "_dom_classes": [],
            "_model_module": "@jupyter-widgets/controls",
            "_model_module_version": "1.5.0",
            "_model_name": "HTMLModel",
            "_view_count": null,
            "_view_module": "@jupyter-widgets/controls",
            "_view_module_version": "1.5.0",
            "_view_name": "HTMLView",
            "description": "",
            "description_tooltip": null,
            "layout": "IPY_MODEL_7c5cae2e65814119a5b3c4e4dd8b6150",
            "placeholder": "​",
            "style": "IPY_MODEL_7d6c6a538bcd4d37bb179a8df6fe4fe6",
            "value": " 248k/248k [00:00&lt;00:00, 1.89MB/s]"
          }
        },
        "31a8b2dcbad14ea2b96dc0af15b22034": {
          "model_module": "@jupyter-widgets/base",
          "model_name": "LayoutModel",
          "model_module_version": "1.2.0",
          "state": {
            "_model_module": "@jupyter-widgets/base",
            "_model_module_version": "1.2.0",
            "_model_name": "LayoutModel",
            "_view_count": null,
            "_view_module": "@jupyter-widgets/base",
            "_view_module_version": "1.2.0",
            "_view_name": "LayoutView",
            "align_content": null,
            "align_items": null,
            "align_self": null,
            "border": null,
            "bottom": null,
            "display": null,
            "flex": null,
            "flex_flow": null,
            "grid_area": null,
            "grid_auto_columns": null,
            "grid_auto_flow": null,
            "grid_auto_rows": null,
            "grid_column": null,
            "grid_gap": null,
            "grid_row": null,
            "grid_template_areas": null,
            "grid_template_columns": null,
            "grid_template_rows": null,
            "height": null,
            "justify_content": null,
            "justify_items": null,
            "left": null,
            "margin": null,
            "max_height": null,
            "max_width": null,
            "min_height": null,
            "min_width": null,
            "object_fit": null,
            "object_position": null,
            "order": null,
            "overflow": null,
            "overflow_x": null,
            "overflow_y": null,
            "padding": null,
            "right": null,
            "top": null,
            "visibility": null,
            "width": null
          }
        },
        "81027c19b41a48e6ade9ee729d08f858": {
          "model_module": "@jupyter-widgets/base",
          "model_name": "LayoutModel",
          "model_module_version": "1.2.0",
          "state": {
            "_model_module": "@jupyter-widgets/base",
            "_model_module_version": "1.2.0",
            "_model_name": "LayoutModel",
            "_view_count": null,
            "_view_module": "@jupyter-widgets/base",
            "_view_module_version": "1.2.0",
            "_view_name": "LayoutView",
            "align_content": null,
            "align_items": null,
            "align_self": null,
            "border": null,
            "bottom": null,
            "display": null,
            "flex": null,
            "flex_flow": null,
            "grid_area": null,
            "grid_auto_columns": null,
            "grid_auto_flow": null,
            "grid_auto_rows": null,
            "grid_column": null,
            "grid_gap": null,
            "grid_row": null,
            "grid_template_areas": null,
            "grid_template_columns": null,
            "grid_template_rows": null,
            "height": null,
            "justify_content": null,
            "justify_items": null,
            "left": null,
            "margin": null,
            "max_height": null,
            "max_width": null,
            "min_height": null,
            "min_width": null,
            "object_fit": null,
            "object_position": null,
            "order": null,
            "overflow": null,
            "overflow_x": null,
            "overflow_y": null,
            "padding": null,
            "right": null,
            "top": null,
            "visibility": null,
            "width": null
          }
        },
        "a6f83e5265fc4334bf1e80924d35cdb5": {
          "model_module": "@jupyter-widgets/controls",
          "model_name": "DescriptionStyleModel",
          "model_module_version": "1.5.0",
          "state": {
            "_model_module": "@jupyter-widgets/controls",
            "_model_module_version": "1.5.0",
            "_model_name": "DescriptionStyleModel",
            "_view_count": null,
            "_view_module": "@jupyter-widgets/base",
            "_view_module_version": "1.2.0",
            "_view_name": "StyleView",
            "description_width": ""
          }
        },
        "651c8fc6479d47839235c236f5e3275b": {
          "model_module": "@jupyter-widgets/base",
          "model_name": "LayoutModel",
          "model_module_version": "1.2.0",
          "state": {
            "_model_module": "@jupyter-widgets/base",
            "_model_module_version": "1.2.0",
            "_model_name": "LayoutModel",
            "_view_count": null,
            "_view_module": "@jupyter-widgets/base",
            "_view_module_version": "1.2.0",
            "_view_name": "LayoutView",
            "align_content": null,
            "align_items": null,
            "align_self": null,
            "border": null,
            "bottom": null,
            "display": null,
            "flex": null,
            "flex_flow": null,
            "grid_area": null,
            "grid_auto_columns": null,
            "grid_auto_flow": null,
            "grid_auto_rows": null,
            "grid_column": null,
            "grid_gap": null,
            "grid_row": null,
            "grid_template_areas": null,
            "grid_template_columns": null,
            "grid_template_rows": null,
            "height": null,
            "justify_content": null,
            "justify_items": null,
            "left": null,
            "margin": null,
            "max_height": null,
            "max_width": null,
            "min_height": null,
            "min_width": null,
            "object_fit": null,
            "object_position": null,
            "order": null,
            "overflow": null,
            "overflow_x": null,
            "overflow_y": null,
            "padding": null,
            "right": null,
            "top": null,
            "visibility": null,
            "width": null
          }
        },
        "8daaa82878b140e881ab9399f322ca6c": {
          "model_module": "@jupyter-widgets/controls",
          "model_name": "ProgressStyleModel",
          "model_module_version": "1.5.0",
          "state": {
            "_model_module": "@jupyter-widgets/controls",
            "_model_module_version": "1.5.0",
            "_model_name": "ProgressStyleModel",
            "_view_count": null,
            "_view_module": "@jupyter-widgets/base",
            "_view_module_version": "1.2.0",
            "_view_name": "StyleView",
            "bar_color": null,
            "description_width": ""
          }
        },
        "7c5cae2e65814119a5b3c4e4dd8b6150": {
          "model_module": "@jupyter-widgets/base",
          "model_name": "LayoutModel",
          "model_module_version": "1.2.0",
          "state": {
            "_model_module": "@jupyter-widgets/base",
            "_model_module_version": "1.2.0",
            "_model_name": "LayoutModel",
            "_view_count": null,
            "_view_module": "@jupyter-widgets/base",
            "_view_module_version": "1.2.0",
            "_view_name": "LayoutView",
            "align_content": null,
            "align_items": null,
            "align_self": null,
            "border": null,
            "bottom": null,
            "display": null,
            "flex": null,
            "flex_flow": null,
            "grid_area": null,
            "grid_auto_columns": null,
            "grid_auto_flow": null,
            "grid_auto_rows": null,
            "grid_column": null,
            "grid_gap": null,
            "grid_row": null,
            "grid_template_areas": null,
            "grid_template_columns": null,
            "grid_template_rows": null,
            "height": null,
            "justify_content": null,
            "justify_items": null,
            "left": null,
            "margin": null,
            "max_height": null,
            "max_width": null,
            "min_height": null,
            "min_width": null,
            "object_fit": null,
            "object_position": null,
            "order": null,
            "overflow": null,
            "overflow_x": null,
            "overflow_y": null,
            "padding": null,
            "right": null,
            "top": null,
            "visibility": null,
            "width": null
          }
        },
        "7d6c6a538bcd4d37bb179a8df6fe4fe6": {
          "model_module": "@jupyter-widgets/controls",
          "model_name": "DescriptionStyleModel",
          "model_module_version": "1.5.0",
          "state": {
            "_model_module": "@jupyter-widgets/controls",
            "_model_module_version": "1.5.0",
            "_model_name": "DescriptionStyleModel",
            "_view_count": null,
            "_view_module": "@jupyter-widgets/base",
            "_view_module_version": "1.2.0",
            "_view_name": "StyleView",
            "description_width": ""
          }
        },
        "bdc00e27891b4ff3a24e125f5b3235c8": {
          "model_module": "@jupyter-widgets/controls",
          "model_name": "HBoxModel",
          "model_module_version": "1.5.0",
          "state": {
            "_dom_classes": [],
            "_model_module": "@jupyter-widgets/controls",
            "_model_module_version": "1.5.0",
            "_model_name": "HBoxModel",
            "_view_count": null,
            "_view_module": "@jupyter-widgets/controls",
            "_view_module_version": "1.5.0",
            "_view_name": "HBoxView",
            "box_style": "",
            "children": [
              "IPY_MODEL_97fe90ca3f154d74bdde65be7fd8f84c",
              "IPY_MODEL_013a44cd33114d41950b759ac07f5208",
              "IPY_MODEL_a2132fe256cb497ca811a3912b31e677"
            ],
            "layout": "IPY_MODEL_3cb74935ad0b46e09f6cb3ace793d989"
          }
        },
        "97fe90ca3f154d74bdde65be7fd8f84c": {
          "model_module": "@jupyter-widgets/controls",
          "model_name": "HTMLModel",
          "model_module_version": "1.5.0",
          "state": {
            "_dom_classes": [],
            "_model_module": "@jupyter-widgets/controls",
            "_model_module_version": "1.5.0",
            "_model_name": "HTMLModel",
            "_view_count": null,
            "_view_module": "@jupyter-widgets/controls",
            "_view_module_version": "1.5.0",
            "_view_name": "HTMLView",
            "description": "",
            "description_tooltip": null,
            "layout": "IPY_MODEL_4e578e8bf1e44c2fb651b9bf10cbce90",
            "placeholder": "​",
            "style": "IPY_MODEL_e518d20bdc17412d9d4971cef986486d",
            "value": "tokenizer.json: 100%"
          }
        },
        "013a44cd33114d41950b759ac07f5208": {
          "model_module": "@jupyter-widgets/controls",
          "model_name": "FloatProgressModel",
          "model_module_version": "1.5.0",
          "state": {
            "_dom_classes": [],
            "_model_module": "@jupyter-widgets/controls",
            "_model_module_version": "1.5.0",
            "_model_name": "FloatProgressModel",
            "_view_count": null,
            "_view_module": "@jupyter-widgets/controls",
            "_view_module_version": "1.5.0",
            "_view_name": "ProgressView",
            "bar_style": "success",
            "description": "",
            "description_tooltip": null,
            "layout": "IPY_MODEL_5bb78f0b23ff485f82ba0f1841c36432",
            "max": 494860,
            "min": 0,
            "orientation": "horizontal",
            "style": "IPY_MODEL_ec11ce0a76f14ddfb407e72a23c2749e",
            "value": 494860
          }
        },
        "a2132fe256cb497ca811a3912b31e677": {
          "model_module": "@jupyter-widgets/controls",
          "model_name": "HTMLModel",
          "model_module_version": "1.5.0",
          "state": {
            "_dom_classes": [],
            "_model_module": "@jupyter-widgets/controls",
            "_model_module_version": "1.5.0",
            "_model_name": "HTMLModel",
            "_view_count": null,
            "_view_module": "@jupyter-widgets/controls",
            "_view_module_version": "1.5.0",
            "_view_name": "HTMLView",
            "description": "",
            "description_tooltip": null,
            "layout": "IPY_MODEL_20b2bb949968432b81e3fe6b44fa5cb7",
            "placeholder": "​",
            "style": "IPY_MODEL_1973919e2e794aae9f7f8c94edd7f5f6",
            "value": " 495k/495k [00:00&lt;00:00, 6.95MB/s]"
          }
        },
        "3cb74935ad0b46e09f6cb3ace793d989": {
          "model_module": "@jupyter-widgets/base",
          "model_name": "LayoutModel",
          "model_module_version": "1.2.0",
          "state": {
            "_model_module": "@jupyter-widgets/base",
            "_model_module_version": "1.2.0",
            "_model_name": "LayoutModel",
            "_view_count": null,
            "_view_module": "@jupyter-widgets/base",
            "_view_module_version": "1.2.0",
            "_view_name": "LayoutView",
            "align_content": null,
            "align_items": null,
            "align_self": null,
            "border": null,
            "bottom": null,
            "display": null,
            "flex": null,
            "flex_flow": null,
            "grid_area": null,
            "grid_auto_columns": null,
            "grid_auto_flow": null,
            "grid_auto_rows": null,
            "grid_column": null,
            "grid_gap": null,
            "grid_row": null,
            "grid_template_areas": null,
            "grid_template_columns": null,
            "grid_template_rows": null,
            "height": null,
            "justify_content": null,
            "justify_items": null,
            "left": null,
            "margin": null,
            "max_height": null,
            "max_width": null,
            "min_height": null,
            "min_width": null,
            "object_fit": null,
            "object_position": null,
            "order": null,
            "overflow": null,
            "overflow_x": null,
            "overflow_y": null,
            "padding": null,
            "right": null,
            "top": null,
            "visibility": null,
            "width": null
          }
        },
        "4e578e8bf1e44c2fb651b9bf10cbce90": {
          "model_module": "@jupyter-widgets/base",
          "model_name": "LayoutModel",
          "model_module_version": "1.2.0",
          "state": {
            "_model_module": "@jupyter-widgets/base",
            "_model_module_version": "1.2.0",
            "_model_name": "LayoutModel",
            "_view_count": null,
            "_view_module": "@jupyter-widgets/base",
            "_view_module_version": "1.2.0",
            "_view_name": "LayoutView",
            "align_content": null,
            "align_items": null,
            "align_self": null,
            "border": null,
            "bottom": null,
            "display": null,
            "flex": null,
            "flex_flow": null,
            "grid_area": null,
            "grid_auto_columns": null,
            "grid_auto_flow": null,
            "grid_auto_rows": null,
            "grid_column": null,
            "grid_gap": null,
            "grid_row": null,
            "grid_template_areas": null,
            "grid_template_columns": null,
            "grid_template_rows": null,
            "height": null,
            "justify_content": null,
            "justify_items": null,
            "left": null,
            "margin": null,
            "max_height": null,
            "max_width": null,
            "min_height": null,
            "min_width": null,
            "object_fit": null,
            "object_position": null,
            "order": null,
            "overflow": null,
            "overflow_x": null,
            "overflow_y": null,
            "padding": null,
            "right": null,
            "top": null,
            "visibility": null,
            "width": null
          }
        },
        "e518d20bdc17412d9d4971cef986486d": {
          "model_module": "@jupyter-widgets/controls",
          "model_name": "DescriptionStyleModel",
          "model_module_version": "1.5.0",
          "state": {
            "_model_module": "@jupyter-widgets/controls",
            "_model_module_version": "1.5.0",
            "_model_name": "DescriptionStyleModel",
            "_view_count": null,
            "_view_module": "@jupyter-widgets/base",
            "_view_module_version": "1.2.0",
            "_view_name": "StyleView",
            "description_width": ""
          }
        },
        "5bb78f0b23ff485f82ba0f1841c36432": {
          "model_module": "@jupyter-widgets/base",
          "model_name": "LayoutModel",
          "model_module_version": "1.2.0",
          "state": {
            "_model_module": "@jupyter-widgets/base",
            "_model_module_version": "1.2.0",
            "_model_name": "LayoutModel",
            "_view_count": null,
            "_view_module": "@jupyter-widgets/base",
            "_view_module_version": "1.2.0",
            "_view_name": "LayoutView",
            "align_content": null,
            "align_items": null,
            "align_self": null,
            "border": null,
            "bottom": null,
            "display": null,
            "flex": null,
            "flex_flow": null,
            "grid_area": null,
            "grid_auto_columns": null,
            "grid_auto_flow": null,
            "grid_auto_rows": null,
            "grid_column": null,
            "grid_gap": null,
            "grid_row": null,
            "grid_template_areas": null,
            "grid_template_columns": null,
            "grid_template_rows": null,
            "height": null,
            "justify_content": null,
            "justify_items": null,
            "left": null,
            "margin": null,
            "max_height": null,
            "max_width": null,
            "min_height": null,
            "min_width": null,
            "object_fit": null,
            "object_position": null,
            "order": null,
            "overflow": null,
            "overflow_x": null,
            "overflow_y": null,
            "padding": null,
            "right": null,
            "top": null,
            "visibility": null,
            "width": null
          }
        },
        "ec11ce0a76f14ddfb407e72a23c2749e": {
          "model_module": "@jupyter-widgets/controls",
          "model_name": "ProgressStyleModel",
          "model_module_version": "1.5.0",
          "state": {
            "_model_module": "@jupyter-widgets/controls",
            "_model_module_version": "1.5.0",
            "_model_name": "ProgressStyleModel",
            "_view_count": null,
            "_view_module": "@jupyter-widgets/base",
            "_view_module_version": "1.2.0",
            "_view_name": "StyleView",
            "bar_color": null,
            "description_width": ""
          }
        },
        "20b2bb949968432b81e3fe6b44fa5cb7": {
          "model_module": "@jupyter-widgets/base",
          "model_name": "LayoutModel",
          "model_module_version": "1.2.0",
          "state": {
            "_model_module": "@jupyter-widgets/base",
            "_model_module_version": "1.2.0",
            "_model_name": "LayoutModel",
            "_view_count": null,
            "_view_module": "@jupyter-widgets/base",
            "_view_module_version": "1.2.0",
            "_view_name": "LayoutView",
            "align_content": null,
            "align_items": null,
            "align_self": null,
            "border": null,
            "bottom": null,
            "display": null,
            "flex": null,
            "flex_flow": null,
            "grid_area": null,
            "grid_auto_columns": null,
            "grid_auto_flow": null,
            "grid_auto_rows": null,
            "grid_column": null,
            "grid_gap": null,
            "grid_row": null,
            "grid_template_areas": null,
            "grid_template_columns": null,
            "grid_template_rows": null,
            "height": null,
            "justify_content": null,
            "justify_items": null,
            "left": null,
            "margin": null,
            "max_height": null,
            "max_width": null,
            "min_height": null,
            "min_width": null,
            "object_fit": null,
            "object_position": null,
            "order": null,
            "overflow": null,
            "overflow_x": null,
            "overflow_y": null,
            "padding": null,
            "right": null,
            "top": null,
            "visibility": null,
            "width": null
          }
        },
        "1973919e2e794aae9f7f8c94edd7f5f6": {
          "model_module": "@jupyter-widgets/controls",
          "model_name": "DescriptionStyleModel",
          "model_module_version": "1.5.0",
          "state": {
            "_model_module": "@jupyter-widgets/controls",
            "_model_module_version": "1.5.0",
            "_model_name": "DescriptionStyleModel",
            "_view_count": null,
            "_view_module": "@jupyter-widgets/base",
            "_view_module_version": "1.2.0",
            "_view_name": "StyleView",
            "description_width": ""
          }
        },
        "436dd54880854b089a633dce15e2621f": {
          "model_module": "@jupyter-widgets/controls",
          "model_name": "HBoxModel",
          "model_module_version": "1.5.0",
          "state": {
            "_dom_classes": [],
            "_model_module": "@jupyter-widgets/controls",
            "_model_module_version": "1.5.0",
            "_model_name": "HBoxModel",
            "_view_count": null,
            "_view_module": "@jupyter-widgets/controls",
            "_view_module_version": "1.5.0",
            "_view_name": "HBoxView",
            "box_style": "",
            "children": [
              "IPY_MODEL_1fe351abc2cd4b8c9a081188d2916bd2",
              "IPY_MODEL_c9409cb3f2c44d3bb3cd00a6e27513b6",
              "IPY_MODEL_1b359f5ca6e641b38eac2f41f4ca1985"
            ],
            "layout": "IPY_MODEL_efa5056e7d74445ba5b88248db2915d6"
          }
        },
        "1fe351abc2cd4b8c9a081188d2916bd2": {
          "model_module": "@jupyter-widgets/controls",
          "model_name": "HTMLModel",
          "model_module_version": "1.5.0",
          "state": {
            "_dom_classes": [],
            "_model_module": "@jupyter-widgets/controls",
            "_model_module_version": "1.5.0",
            "_model_name": "HTMLModel",
            "_view_count": null,
            "_view_module": "@jupyter-widgets/controls",
            "_view_module_version": "1.5.0",
            "_view_name": "HTMLView",
            "description": "",
            "description_tooltip": null,
            "layout": "IPY_MODEL_8edd86bb619c4934ab0585a09fa70408",
            "placeholder": "​",
            "style": "IPY_MODEL_531ed08fdf5d449593aa570601595971",
            "value": "special_tokens_map.json: 100%"
          }
        },
        "c9409cb3f2c44d3bb3cd00a6e27513b6": {
          "model_module": "@jupyter-widgets/controls",
          "model_name": "FloatProgressModel",
          "model_module_version": "1.5.0",
          "state": {
            "_dom_classes": [],
            "_model_module": "@jupyter-widgets/controls",
            "_model_module_version": "1.5.0",
            "_model_name": "FloatProgressModel",
            "_view_count": null,
            "_view_module": "@jupyter-widgets/controls",
            "_view_module_version": "1.5.0",
            "_view_name": "ProgressView",
            "bar_style": "success",
            "description": "",
            "description_tooltip": null,
            "layout": "IPY_MODEL_e92fe9ae2be044dd81d6e89ae2920e51",
            "max": 125,
            "min": 0,
            "orientation": "horizontal",
            "style": "IPY_MODEL_6f225c6d16f54544a2e3c5c98ba5be46",
            "value": 125
          }
        },
        "1b359f5ca6e641b38eac2f41f4ca1985": {
          "model_module": "@jupyter-widgets/controls",
          "model_name": "HTMLModel",
          "model_module_version": "1.5.0",
          "state": {
            "_dom_classes": [],
            "_model_module": "@jupyter-widgets/controls",
            "_model_module_version": "1.5.0",
            "_model_name": "HTMLModel",
            "_view_count": null,
            "_view_module": "@jupyter-widgets/controls",
            "_view_module_version": "1.5.0",
            "_view_name": "HTMLView",
            "description": "",
            "description_tooltip": null,
            "layout": "IPY_MODEL_843dceb84ee4440387797c8196844e47",
            "placeholder": "​",
            "style": "IPY_MODEL_d66d5aed65c24f208a8c3227df54cec6",
            "value": " 125/125 [00:00&lt;00:00, 1.91kB/s]"
          }
        },
        "efa5056e7d74445ba5b88248db2915d6": {
          "model_module": "@jupyter-widgets/base",
          "model_name": "LayoutModel",
          "model_module_version": "1.2.0",
          "state": {
            "_model_module": "@jupyter-widgets/base",
            "_model_module_version": "1.2.0",
            "_model_name": "LayoutModel",
            "_view_count": null,
            "_view_module": "@jupyter-widgets/base",
            "_view_module_version": "1.2.0",
            "_view_name": "LayoutView",
            "align_content": null,
            "align_items": null,
            "align_self": null,
            "border": null,
            "bottom": null,
            "display": null,
            "flex": null,
            "flex_flow": null,
            "grid_area": null,
            "grid_auto_columns": null,
            "grid_auto_flow": null,
            "grid_auto_rows": null,
            "grid_column": null,
            "grid_gap": null,
            "grid_row": null,
            "grid_template_areas": null,
            "grid_template_columns": null,
            "grid_template_rows": null,
            "height": null,
            "justify_content": null,
            "justify_items": null,
            "left": null,
            "margin": null,
            "max_height": null,
            "max_width": null,
            "min_height": null,
            "min_width": null,
            "object_fit": null,
            "object_position": null,
            "order": null,
            "overflow": null,
            "overflow_x": null,
            "overflow_y": null,
            "padding": null,
            "right": null,
            "top": null,
            "visibility": null,
            "width": null
          }
        },
        "8edd86bb619c4934ab0585a09fa70408": {
          "model_module": "@jupyter-widgets/base",
          "model_name": "LayoutModel",
          "model_module_version": "1.2.0",
          "state": {
            "_model_module": "@jupyter-widgets/base",
            "_model_module_version": "1.2.0",
            "_model_name": "LayoutModel",
            "_view_count": null,
            "_view_module": "@jupyter-widgets/base",
            "_view_module_version": "1.2.0",
            "_view_name": "LayoutView",
            "align_content": null,
            "align_items": null,
            "align_self": null,
            "border": null,
            "bottom": null,
            "display": null,
            "flex": null,
            "flex_flow": null,
            "grid_area": null,
            "grid_auto_columns": null,
            "grid_auto_flow": null,
            "grid_auto_rows": null,
            "grid_column": null,
            "grid_gap": null,
            "grid_row": null,
            "grid_template_areas": null,
            "grid_template_columns": null,
            "grid_template_rows": null,
            "height": null,
            "justify_content": null,
            "justify_items": null,
            "left": null,
            "margin": null,
            "max_height": null,
            "max_width": null,
            "min_height": null,
            "min_width": null,
            "object_fit": null,
            "object_position": null,
            "order": null,
            "overflow": null,
            "overflow_x": null,
            "overflow_y": null,
            "padding": null,
            "right": null,
            "top": null,
            "visibility": null,
            "width": null
          }
        },
        "531ed08fdf5d449593aa570601595971": {
          "model_module": "@jupyter-widgets/controls",
          "model_name": "DescriptionStyleModel",
          "model_module_version": "1.5.0",
          "state": {
            "_model_module": "@jupyter-widgets/controls",
            "_model_module_version": "1.5.0",
            "_model_name": "DescriptionStyleModel",
            "_view_count": null,
            "_view_module": "@jupyter-widgets/base",
            "_view_module_version": "1.2.0",
            "_view_name": "StyleView",
            "description_width": ""
          }
        },
        "e92fe9ae2be044dd81d6e89ae2920e51": {
          "model_module": "@jupyter-widgets/base",
          "model_name": "LayoutModel",
          "model_module_version": "1.2.0",
          "state": {
            "_model_module": "@jupyter-widgets/base",
            "_model_module_version": "1.2.0",
            "_model_name": "LayoutModel",
            "_view_count": null,
            "_view_module": "@jupyter-widgets/base",
            "_view_module_version": "1.2.0",
            "_view_name": "LayoutView",
            "align_content": null,
            "align_items": null,
            "align_self": null,
            "border": null,
            "bottom": null,
            "display": null,
            "flex": null,
            "flex_flow": null,
            "grid_area": null,
            "grid_auto_columns": null,
            "grid_auto_flow": null,
            "grid_auto_rows": null,
            "grid_column": null,
            "grid_gap": null,
            "grid_row": null,
            "grid_template_areas": null,
            "grid_template_columns": null,
            "grid_template_rows": null,
            "height": null,
            "justify_content": null,
            "justify_items": null,
            "left": null,
            "margin": null,
            "max_height": null,
            "max_width": null,
            "min_height": null,
            "min_width": null,
            "object_fit": null,
            "object_position": null,
            "order": null,
            "overflow": null,
            "overflow_x": null,
            "overflow_y": null,
            "padding": null,
            "right": null,
            "top": null,
            "visibility": null,
            "width": null
          }
        },
        "6f225c6d16f54544a2e3c5c98ba5be46": {
          "model_module": "@jupyter-widgets/controls",
          "model_name": "ProgressStyleModel",
          "model_module_version": "1.5.0",
          "state": {
            "_model_module": "@jupyter-widgets/controls",
            "_model_module_version": "1.5.0",
            "_model_name": "ProgressStyleModel",
            "_view_count": null,
            "_view_module": "@jupyter-widgets/base",
            "_view_module_version": "1.2.0",
            "_view_name": "StyleView",
            "bar_color": null,
            "description_width": ""
          }
        },
        "843dceb84ee4440387797c8196844e47": {
          "model_module": "@jupyter-widgets/base",
          "model_name": "LayoutModel",
          "model_module_version": "1.2.0",
          "state": {
            "_model_module": "@jupyter-widgets/base",
            "_model_module_version": "1.2.0",
            "_model_name": "LayoutModel",
            "_view_count": null,
            "_view_module": "@jupyter-widgets/base",
            "_view_module_version": "1.2.0",
            "_view_name": "LayoutView",
            "align_content": null,
            "align_items": null,
            "align_self": null,
            "border": null,
            "bottom": null,
            "display": null,
            "flex": null,
            "flex_flow": null,
            "grid_area": null,
            "grid_auto_columns": null,
            "grid_auto_flow": null,
            "grid_auto_rows": null,
            "grid_column": null,
            "grid_gap": null,
            "grid_row": null,
            "grid_template_areas": null,
            "grid_template_columns": null,
            "grid_template_rows": null,
            "height": null,
            "justify_content": null,
            "justify_items": null,
            "left": null,
            "margin": null,
            "max_height": null,
            "max_width": null,
            "min_height": null,
            "min_width": null,
            "object_fit": null,
            "object_position": null,
            "order": null,
            "overflow": null,
            "overflow_x": null,
            "overflow_y": null,
            "padding": null,
            "right": null,
            "top": null,
            "visibility": null,
            "width": null
          }
        },
        "d66d5aed65c24f208a8c3227df54cec6": {
          "model_module": "@jupyter-widgets/controls",
          "model_name": "DescriptionStyleModel",
          "model_module_version": "1.5.0",
          "state": {
            "_model_module": "@jupyter-widgets/controls",
            "_model_module_version": "1.5.0",
            "_model_name": "DescriptionStyleModel",
            "_view_count": null,
            "_view_module": "@jupyter-widgets/base",
            "_view_module_version": "1.2.0",
            "_view_name": "StyleView",
            "description_width": ""
          }
        },
        "7bd01687116f45ec9984a2b84a1c389f": {
          "model_module": "@jupyter-widgets/controls",
          "model_name": "HBoxModel",
          "model_module_version": "1.5.0",
          "state": {
            "_dom_classes": [],
            "_model_module": "@jupyter-widgets/controls",
            "_model_module_version": "1.5.0",
            "_model_name": "HBoxModel",
            "_view_count": null,
            "_view_module": "@jupyter-widgets/controls",
            "_view_module_version": "1.5.0",
            "_view_name": "HBoxView",
            "box_style": "",
            "children": [
              "IPY_MODEL_fc78dbfff3694ac28002b07ac0ed3f67",
              "IPY_MODEL_654559d52dc24a40a7c0d8afbf8da3f2",
              "IPY_MODEL_9173ea3ab839470a88b33abae73ecf13"
            ],
            "layout": "IPY_MODEL_2469e51a11534c6c940ec014ddda8063"
          }
        },
        "fc78dbfff3694ac28002b07ac0ed3f67": {
          "model_module": "@jupyter-widgets/controls",
          "model_name": "HTMLModel",
          "model_module_version": "1.5.0",
          "state": {
            "_dom_classes": [],
            "_model_module": "@jupyter-widgets/controls",
            "_model_module_version": "1.5.0",
            "_model_name": "HTMLModel",
            "_view_count": null,
            "_view_module": "@jupyter-widgets/controls",
            "_view_module_version": "1.5.0",
            "_view_name": "HTMLView",
            "description": "",
            "description_tooltip": null,
            "layout": "IPY_MODEL_7c435cd97dfc416d9c162f3ceeff9604",
            "placeholder": "​",
            "style": "IPY_MODEL_f20e97ce6a4f45d296cc02035282a2d5",
            "value": "model.safetensors: 100%"
          }
        },
        "654559d52dc24a40a7c0d8afbf8da3f2": {
          "model_module": "@jupyter-widgets/controls",
          "model_name": "FloatProgressModel",
          "model_module_version": "1.5.0",
          "state": {
            "_dom_classes": [],
            "_model_module": "@jupyter-widgets/controls",
            "_model_module_version": "1.5.0",
            "_model_name": "FloatProgressModel",
            "_view_count": null,
            "_view_module": "@jupyter-widgets/controls",
            "_view_module_version": "1.5.0",
            "_view_name": "ProgressView",
            "bar_style": "success",
            "description": "",
            "description_tooltip": null,
            "layout": "IPY_MODEL_d59ac488376b40cabb994409800ff7dc",
            "max": 445000316,
            "min": 0,
            "orientation": "horizontal",
            "style": "IPY_MODEL_5bf1c634a37f4acdaf4f20f9e91210f5",
            "value": 445000316
          }
        },
        "9173ea3ab839470a88b33abae73ecf13": {
          "model_module": "@jupyter-widgets/controls",
          "model_name": "HTMLModel",
          "model_module_version": "1.5.0",
          "state": {
            "_dom_classes": [],
            "_model_module": "@jupyter-widgets/controls",
            "_model_module_version": "1.5.0",
            "_model_name": "HTMLModel",
            "_view_count": null,
            "_view_module": "@jupyter-widgets/controls",
            "_view_module_version": "1.5.0",
            "_view_name": "HTMLView",
            "description": "",
            "description_tooltip": null,
            "layout": "IPY_MODEL_ddf6e0590f9e4cc1b753279dc7874fa2",
            "placeholder": "​",
            "style": "IPY_MODEL_98482ab3b461470c86aa1eddcd5ea9bf",
            "value": " 445M/445M [00:06&lt;00:00, 79.3MB/s]"
          }
        },
        "2469e51a11534c6c940ec014ddda8063": {
          "model_module": "@jupyter-widgets/base",
          "model_name": "LayoutModel",
          "model_module_version": "1.2.0",
          "state": {
            "_model_module": "@jupyter-widgets/base",
            "_model_module_version": "1.2.0",
            "_model_name": "LayoutModel",
            "_view_count": null,
            "_view_module": "@jupyter-widgets/base",
            "_view_module_version": "1.2.0",
            "_view_name": "LayoutView",
            "align_content": null,
            "align_items": null,
            "align_self": null,
            "border": null,
            "bottom": null,
            "display": null,
            "flex": null,
            "flex_flow": null,
            "grid_area": null,
            "grid_auto_columns": null,
            "grid_auto_flow": null,
            "grid_auto_rows": null,
            "grid_column": null,
            "grid_gap": null,
            "grid_row": null,
            "grid_template_areas": null,
            "grid_template_columns": null,
            "grid_template_rows": null,
            "height": null,
            "justify_content": null,
            "justify_items": null,
            "left": null,
            "margin": null,
            "max_height": null,
            "max_width": null,
            "min_height": null,
            "min_width": null,
            "object_fit": null,
            "object_position": null,
            "order": null,
            "overflow": null,
            "overflow_x": null,
            "overflow_y": null,
            "padding": null,
            "right": null,
            "top": null,
            "visibility": null,
            "width": null
          }
        },
        "7c435cd97dfc416d9c162f3ceeff9604": {
          "model_module": "@jupyter-widgets/base",
          "model_name": "LayoutModel",
          "model_module_version": "1.2.0",
          "state": {
            "_model_module": "@jupyter-widgets/base",
            "_model_module_version": "1.2.0",
            "_model_name": "LayoutModel",
            "_view_count": null,
            "_view_module": "@jupyter-widgets/base",
            "_view_module_version": "1.2.0",
            "_view_name": "LayoutView",
            "align_content": null,
            "align_items": null,
            "align_self": null,
            "border": null,
            "bottom": null,
            "display": null,
            "flex": null,
            "flex_flow": null,
            "grid_area": null,
            "grid_auto_columns": null,
            "grid_auto_flow": null,
            "grid_auto_rows": null,
            "grid_column": null,
            "grid_gap": null,
            "grid_row": null,
            "grid_template_areas": null,
            "grid_template_columns": null,
            "grid_template_rows": null,
            "height": null,
            "justify_content": null,
            "justify_items": null,
            "left": null,
            "margin": null,
            "max_height": null,
            "max_width": null,
            "min_height": null,
            "min_width": null,
            "object_fit": null,
            "object_position": null,
            "order": null,
            "overflow": null,
            "overflow_x": null,
            "overflow_y": null,
            "padding": null,
            "right": null,
            "top": null,
            "visibility": null,
            "width": null
          }
        },
        "f20e97ce6a4f45d296cc02035282a2d5": {
          "model_module": "@jupyter-widgets/controls",
          "model_name": "DescriptionStyleModel",
          "model_module_version": "1.5.0",
          "state": {
            "_model_module": "@jupyter-widgets/controls",
            "_model_module_version": "1.5.0",
            "_model_name": "DescriptionStyleModel",
            "_view_count": null,
            "_view_module": "@jupyter-widgets/base",
            "_view_module_version": "1.2.0",
            "_view_name": "StyleView",
            "description_width": ""
          }
        },
        "d59ac488376b40cabb994409800ff7dc": {
          "model_module": "@jupyter-widgets/base",
          "model_name": "LayoutModel",
          "model_module_version": "1.2.0",
          "state": {
            "_model_module": "@jupyter-widgets/base",
            "_model_module_version": "1.2.0",
            "_model_name": "LayoutModel",
            "_view_count": null,
            "_view_module": "@jupyter-widgets/base",
            "_view_module_version": "1.2.0",
            "_view_name": "LayoutView",
            "align_content": null,
            "align_items": null,
            "align_self": null,
            "border": null,
            "bottom": null,
            "display": null,
            "flex": null,
            "flex_flow": null,
            "grid_area": null,
            "grid_auto_columns": null,
            "grid_auto_flow": null,
            "grid_auto_rows": null,
            "grid_column": null,
            "grid_gap": null,
            "grid_row": null,
            "grid_template_areas": null,
            "grid_template_columns": null,
            "grid_template_rows": null,
            "height": null,
            "justify_content": null,
            "justify_items": null,
            "left": null,
            "margin": null,
            "max_height": null,
            "max_width": null,
            "min_height": null,
            "min_width": null,
            "object_fit": null,
            "object_position": null,
            "order": null,
            "overflow": null,
            "overflow_x": null,
            "overflow_y": null,
            "padding": null,
            "right": null,
            "top": null,
            "visibility": null,
            "width": null
          }
        },
        "5bf1c634a37f4acdaf4f20f9e91210f5": {
          "model_module": "@jupyter-widgets/controls",
          "model_name": "ProgressStyleModel",
          "model_module_version": "1.5.0",
          "state": {
            "_model_module": "@jupyter-widgets/controls",
            "_model_module_version": "1.5.0",
            "_model_name": "ProgressStyleModel",
            "_view_count": null,
            "_view_module": "@jupyter-widgets/base",
            "_view_module_version": "1.2.0",
            "_view_name": "StyleView",
            "bar_color": null,
            "description_width": ""
          }
        },
        "ddf6e0590f9e4cc1b753279dc7874fa2": {
          "model_module": "@jupyter-widgets/base",
          "model_name": "LayoutModel",
          "model_module_version": "1.2.0",
          "state": {
            "_model_module": "@jupyter-widgets/base",
            "_model_module_version": "1.2.0",
            "_model_name": "LayoutModel",
            "_view_count": null,
            "_view_module": "@jupyter-widgets/base",
            "_view_module_version": "1.2.0",
            "_view_name": "LayoutView",
            "align_content": null,
            "align_items": null,
            "align_self": null,
            "border": null,
            "bottom": null,
            "display": null,
            "flex": null,
            "flex_flow": null,
            "grid_area": null,
            "grid_auto_columns": null,
            "grid_auto_flow": null,
            "grid_auto_rows": null,
            "grid_column": null,
            "grid_gap": null,
            "grid_row": null,
            "grid_template_areas": null,
            "grid_template_columns": null,
            "grid_template_rows": null,
            "height": null,
            "justify_content": null,
            "justify_items": null,
            "left": null,
            "margin": null,
            "max_height": null,
            "max_width": null,
            "min_height": null,
            "min_width": null,
            "object_fit": null,
            "object_position": null,
            "order": null,
            "overflow": null,
            "overflow_x": null,
            "overflow_y": null,
            "padding": null,
            "right": null,
            "top": null,
            "visibility": null,
            "width": null
          }
        },
        "98482ab3b461470c86aa1eddcd5ea9bf": {
          "model_module": "@jupyter-widgets/controls",
          "model_name": "DescriptionStyleModel",
          "model_module_version": "1.5.0",
          "state": {
            "_model_module": "@jupyter-widgets/controls",
            "_model_module_version": "1.5.0",
            "_model_name": "DescriptionStyleModel",
            "_view_count": null,
            "_view_module": "@jupyter-widgets/base",
            "_view_module_version": "1.2.0",
            "_view_name": "StyleView",
            "description_width": ""
          }
        }
      }
    }
  },
  "cells": [
    {
      "cell_type": "code",
      "source": [
        "!pip install pdfminer.six"
      ],
      "metadata": {
        "colab": {
          "base_uri": "https://localhost:8080/"
        },
        "id": "gN2lnkC8Dhne",
        "outputId": "9976c483-71ae-4817-ec70-21bb4eb6bd1b"
      },
      "execution_count": null,
      "outputs": [
        {
          "output_type": "stream",
          "name": "stdout",
          "text": [
            "Requirement already satisfied: pdfminer.six in /usr/local/lib/python3.11/dist-packages (20250416)\n",
            "Requirement already satisfied: charset-normalizer>=2.0.0 in /usr/local/lib/python3.11/dist-packages (from pdfminer.six) (3.4.1)\n",
            "Requirement already satisfied: cryptography>=36.0.0 in /usr/local/lib/python3.11/dist-packages (from pdfminer.six) (43.0.3)\n",
            "Requirement already satisfied: cffi>=1.12 in /usr/local/lib/python3.11/dist-packages (from cryptography>=36.0.0->pdfminer.six) (1.17.1)\n",
            "Requirement already satisfied: pycparser in /usr/local/lib/python3.11/dist-packages (from cffi>=1.12->cryptography>=36.0.0->pdfminer.six) (2.22)\n"
          ]
        }
      ]
    },
    {
      "cell_type": "code",
      "execution_count": null,
      "metadata": {
        "colab": {
          "base_uri": "https://localhost:8080/"
        },
        "id": "5H_RkYzLsJeF",
        "outputId": "559e490c-d1e5-4e7c-ed93-a153b58ae6ec"
      },
      "outputs": [
        {
          "output_type": "stream",
          "name": "stdout",
          "text": [
            "'I.L.M 교량공사 안전보건작업 지침.pdf' 파일의 텍스트를 추출했습니다. (길이: 12061 자)\n",
            "'F.C.M 교량공사 안전보건작업 지침.pdf' 파일의 텍스트를 추출했습니다. (길이: 12859 자)\n",
            "총 2개 PDF의 텍스트를 '/content/drive/MyDrive/pdf_texts.json'에 저장했습니다.\n"
          ]
        }
      ],
      "source": [
        "import os\n",
        "import json\n",
        "from pdfminer.high_level import extract_text\n",
        "\n",
        "# 폴더 내의 모든 PDF 파일에서 안전 지침 추출하고 PDF별로 배열에 저장\n",
        "def extract_safety_guidelines_from_folder(folder_path, output_file):\n",
        "    results = {}\n",
        "\n",
        "    # 폴더 내의 모든 파일 순회\n",
        "    for filename in os.listdir(folder_path):\n",
        "        if filename.endswith('.pdf'):\n",
        "            pdf_path = os.path.join(folder_path, filename)\n",
        "\n",
        "            # 각 PDF 파일에서 텍스트 추출\n",
        "            try:\n",
        "                text = extract_text(pdf_path)\n",
        "                # 전체 텍스트를 하나의 문자열로 저장\n",
        "                # 줄바꿈 및 여러 공백 제거하여 깔끔하게 정리\n",
        "                cleaned_text = ' '.join(text.split())\n",
        "\n",
        "                # PDF 파일명을 키로, 텍스트를 값으로 저장\n",
        "                pdf_name = os.path.splitext(filename)[0]  # 확장자 제거\n",
        "                results[pdf_name] = cleaned_text\n",
        "\n",
        "                print(f\"'{filename}' 파일의 텍스트를 추출했습니다. (길이: {len(cleaned_text)} 자)\")\n",
        "            except Exception as e:\n",
        "                print(f\"'{filename}' 파일 처리 중 오류 발생: {e}\")\n",
        "\n",
        "    # 결과를 JSON 파일로 저장\n",
        "    with open(output_file, 'w', encoding='utf-8') as f:\n",
        "        json.dump(results, f, ensure_ascii=False, indent=2)\n",
        "\n",
        "    print(f\"총 {len(results)}개 PDF의 텍스트를 '{output_file}'에 저장했습니다.\")\n",
        "    return results\n",
        "\n",
        "# 사용 예시\n",
        "folder_path = \"/content/drive/MyDrive/pdfs\"  # 실제 PDF 폴더 경로로 변경하세요\n",
        "output_file = \"/content/drive/MyDrive/pdf_texts.json\"  # 결과를 저장할 파일명\n",
        "pdf_texts = extract_safety_guidelines_from_folder(folder_path, output_file)\n",
        "\n",
        "# 수행완료 시 결과 예시\n",
        "# {\n",
        "#   \"F.C.M 교량공사 안전보건작업 지침\": \"F.C.M(Free Cantilever Method) 교량공사는 주로 계곡이나 깊은 하천을 횡단하는 교량 시공법으로, 양쪽 교각에서 시작하여 중앙부에서 만나도록 시공하는 공법입니다. 이 공법은 높은 고소작업이 수반되므로 다음과 같은 안전보건 지침을 준수해야 합니다. 작업자는 반드시 안전모, 안전대, 안전화 등 개인보호구를 착용해야 합니다. 고소작업 시 추락방지용 안전망을 설치하고 작업발판은 견고하게 고정해야 합니다. 강풍이나 폭우 시에는 작업을 중지하고 안전한 장소로 대피해야 합니다...\",\n",
        "\n",
        "#   \"I.L.M 교량공사 안전보건작업 지침\": \"I.L.M(Incremental Launching Method) 교량공사는 육상에서 상부구조물을 제작한 후 교각 위로 밀어내는 방식으로 시공하는 공법입니다. 이 공법은 주로 도심지나 환경보전지역에서 사용되며 다음과 같은 안전보건 지침을 준수해야 합니다. 교량 상부구조를 제작하는 제작장은 평탄하게 조성하고 작업공간을 충분히 확보해야 합니다. 발사(Launching) 작업 시 구조물의 안정성을 수시로 확인하고 작업자가 구조물과 고정 구조물 사이에 끼이지 않도록 주의해야 합니다. 유압장치 및 기계장비는 사용 전 반드시 점검하고 안전장치가 정상 작동하는지 확인해야 합니다...\"\n",
        "# }"
      ]
    },
    {
      "cell_type": "code",
      "source": [
        "# 간단한 3개 카테고리로 시작 -> 학습용\n",
        "categories = ['위험경고', '예방조치', '점검사항']\n",
        "\n",
        "# 수동 라벨링 예시 (각 카테고리당 30-50개)\n",
        "labeled_examples = [\n",
        "    {'text': '교각 브라켓 해체작업 시 근로자가 추락할 위험이 있습니다.', 'category': '위험경고'},\n",
        "    {'text': '거푸집은 시공 중 변형이 발생되지 않도록 강성과 정밀도를 확보하여야 한다.', 'category': '예방조치'},\n",
        "    {'text': '이동식 작업대차는 정기 및 수시 점검을 통하여 이상유무를 확인하여야 한다.', 'category': '점검사항'}\n",
        "]\n",
        "\n",
        "# Flair 형식으로 변환\n",
        "with open('train.txt', 'w', encoding='utf-8') as f:\n",
        "    for example in labeled_examples:\n",
        "        f.write(f\"__label__{example['category']} {example['text']}\\n\")\n",
        "\n",
        "# 결과 예시(train.txt) -> __label__ , 카테고리 , 우리 넣은  모델 훈련 용 데이터셋\n",
        "\n",
        "# __label__위험경고 교각 브라켓 해체작업 시 근로자가 추락할 위험이 있습니다.\n",
        "# __label__예방조치 거푸집은 시공 중 변형이 발생되지 않도록 강성과 정밀도를 확보하여야 한다.\n",
        "# __label__점검사항 이동식 작업대차는 정기 및 수시 점검을 통하여 이상유무를 확인하여야 한다.\n",
        "# __label__위험경고 크레인 작업 반경 내에 근로자의 출입을 금지시켜야 한다.\n",
        "# __label__예방조치 추락위험이 있는 장소에서 콘크리트 타설 작업 시에는 안전모, 안전대 등의 보호구를 항상 착용하여야 한다.\n",
        "# __label__점검사항 압출잭의 압출용량이 충분한지를 확인하고, 압출력 및 압출상태 등 압출장비에 대한 이상유무도 점검하여야 한다."
      ],
      "metadata": {
        "id": "qfvB9dP0aQ2W"
      },
      "execution_count": null,
      "outputs": []
    },
    {
      "cell_type": "code",
      "source": [
        "!pip install scikit-learn"
      ],
      "metadata": {
        "colab": {
          "base_uri": "https://localhost:8080/"
        },
        "id": "Gxl907dc3nFX",
        "outputId": "f514d750-3a20-490b-c26f-f8721591d18d"
      },
      "execution_count": null,
      "outputs": [
        {
          "output_type": "stream",
          "name": "stdout",
          "text": [
            "Requirement already satisfied: scikit-learn in /usr/local/lib/python3.11/dist-packages (1.6.1)\n",
            "Requirement already satisfied: numpy>=1.19.5 in /usr/local/lib/python3.11/dist-packages (from scikit-learn) (2.0.2)\n",
            "Requirement already satisfied: scipy>=1.6.0 in /usr/local/lib/python3.11/dist-packages (from scikit-learn) (1.15.2)\n",
            "Requirement already satisfied: joblib>=1.2.0 in /usr/local/lib/python3.11/dist-packages (from scikit-learn) (1.4.2)\n",
            "Requirement already satisfied: threadpoolctl>=3.1.0 in /usr/local/lib/python3.11/dist-packages (from scikit-learn) (3.6.0)\n"
          ]
        }
      ]
    },
    {
      "cell_type": "code",
      "source": [
        "# 이게 실제로 우리가 사용할 학습데이터들.\n",
        "\n",
        "import pandas as pd\n",
        "from sklearn.model_selection import train_test_split\n",
        "\n",
        "# CSV 파일에서 데이터 로드\n",
        "df = pd.read_csv(\"/content/drive/MyDrive/processed_construction-safety-guidelines.csv\")\n",
        "\n",
        "# NaN 값 처리 및 텍스트 정제\n",
        "df = df.dropna(subset=['지침내용', '지침유형', '공사종류'])  # 필수 열에 NaN이 있는 행 제거\n",
        "df['지침내용'] = df['지침내용'].str.replace('\\n', ' ').str.strip()  # 줄바꿈 제거 및 공백 정리\n",
        "\n",
        "# 추가 CSV 파일들 리스트\n",
        "additional_files = [ \"/content/drive/MyDrive/labels_강경민.csv\" , \"/content/drive/MyDrive/건설 데이터라벨링_최민혜2.CSV\" , \"/content/drive/MyDrive/part4_sentence.csv\" ,\"/content/drive/MyDrive/aid_5_데이터_박비원.csv\"]\n",
        "\n",
        "# 나머지 파일들도 같은 방식으로 처리해서 하나의 리스트에 담기\n",
        "dfs = [df]  # 첫 번째 df도 포함\n",
        "for file in additional_files:\n",
        "    temp_df = pd.read_csv(file)\n",
        "    temp_df = temp_df.dropna(subset=['지침내용', '지침유형', '공사종류'])\n",
        "    temp_df['지침내용'] = temp_df['지침내용'].str.replace('\\n', ' ').str.strip()\n",
        "    dfs.append(temp_df)\n",
        "\n",
        "# 모든 데이터프레임 합치기\n",
        "combined_df = pd.concat(dfs, ignore_index=True)\n",
        "print(\"combined_df의 행 수 , \")\n",
        "print(len(combined_df))\n",
        "\n",
        "# 방법 1: loc 또는 iloc을 사용하여 원본 데이터프레임 직접 수정\n",
        "for idx, row in combined_df.iterrows():\n",
        "    if row[\"지침유형\"] == \"예방 조치\":\n",
        "        combined_df.loc[idx, \"지침유형\"] = \"예방조치\"\n",
        "    elif row[\"지침유형\"] == \"위험 경고\":\n",
        "        combined_df.loc[idx, \"지침유형\"] = \"위험경고\"\n",
        "    elif row[\"지침유형\"] == \"점검 사항\":\n",
        "        combined_df.loc[idx, \"지침유형\"] = \"점검사항\"\n",
        "\n",
        "# 방법 2: replace 메서드 사용 (더 간단하고 효율적)\n",
        "combined_df[\"지침유형\"] = combined_df[\"지침유형\"].replace({\n",
        "    \"예방 조치\": \"예방조치\",\n",
        "    \"위험 경고\": \"위험경고\",\n",
        "    \"점검 사항\": \"점검사항\"\n",
        "})\n",
        "\n",
        "    # 1. TypeError: tuple indices must be integers, not str when accessing cursor.fetchall results -> row[1][\"지침유형\"] 로 써야 함.\n",
        "    # 2. iterrows()쓰면 변화값이 원본에 반영이 안 됨 -> loc , iloc[idx, \"column명\"] = 으로 바꾸던지 replce 사용 필수.\n",
        "\n",
        "indices_to_drop = combined_df[combined_df[\"지침유형\"] == \"지침유형\"].index\n",
        "combined_df = combined_df.drop(indices_to_drop) # 또는 .isin()\n",
        "\n",
        "print(combined_df[\"지침유형\"].unique())\n",
        "\n",
        "count = 0;\n",
        "\n",
        "for idx, row in combined_df.iterrows():\n",
        "    if row[\"지침유형\"] == \"위험경고\":\n",
        "      count += 1;\n",
        "\n",
        "print(count)\n",
        "\n",
        "# 먼저 train과 temp로 나누기 (80% 학습, 20% 임시)\n",
        "train_df, temp_df = train_test_split(combined_df, test_size=0.2, random_state=42)\n",
        "\n",
        "print(train_df['지침유형'].value_counts())\n",
        "\n",
        "# temp를 다시 dev와 test로 나누기 (각각 10%)\n",
        "dev_df, test_df = train_test_split(temp_df, test_size=0.5, random_state=42)\n",
        "\n",
        "# 각 분류 차원에 대한 별도 파일 생성\n",
        "with open('type_train.txt', 'w', encoding='utf-8') as f:\n",
        "    for _, row in train_df.iterrows():\n",
        "        text = row['지침내용']\n",
        "        type_category = row['지침유형']\n",
        "        f.write(f\"__label__{type_category} {text}\\n\")\n",
        "\n",
        "with open('type_dev.txt', 'w', encoding='utf-8') as f:\n",
        "    for _, row in dev_df.iterrows():\n",
        "        text = row['지침내용']\n",
        "        type_category = row['지침유형']\n",
        "        f.write(f\"__label__{type_category} {text}\\n\")\n",
        "\n",
        "with open('type_test.txt', 'w', encoding='utf-8') as f:\n",
        "    for _, row in test_df.iterrows():\n",
        "        text = row['지침내용']\n",
        "        type_category = row['지침유형']\n",
        "        f.write(f\"__label__{type_category} {text}\\n\")\n",
        "\n",
        "with open('construction_train.txt', 'w', encoding='utf-8') as f:\n",
        "    for _, row in train_df.iterrows():\n",
        "        text = row['지침내용']\n",
        "        construction_category = row['공사종류']\n",
        "        f.write(f\"__label__{construction_category} {text}\\n\")\n",
        "\n",
        "with open('construction_dev.txt', 'w', encoding='utf-8') as f:\n",
        "    for _, row in dev_df.iterrows():\n",
        "        text = row['지침내용']\n",
        "        type_category = row['공사종류']\n",
        "        f.write(f\"__label__{type_category} {text}\\n\")\n",
        "\n",
        "with open('construction_test.txt', 'w', encoding='utf-8') as f:\n",
        "    for _, row in test_df.iterrows():\n",
        "        text = row['지침내용']\n",
        "        type_category = row['공사종류']\n",
        "        f.write(f\"__label__{type_category} {text}\\n\")\n",
        "\n",
        "print(f\"처리된 데이터 수: {len(combined_df)}\")"
      ],
      "metadata": {
        "id": "2hRSJnSQFeVW",
        "colab": {
          "base_uri": "https://localhost:8080/"
        },
        "outputId": "3850f958-bf19-4c41-f574-511072fcdbc2"
      },
      "execution_count": null,
      "outputs": [
        {
          "output_type": "stream",
          "name": "stdout",
          "text": [
            "combined_df의 행 수 , \n",
            "1049\n",
            "['예방조치' '위험경고' '점검사항']\n",
            "117\n",
            "지침유형\n",
            "예방조치    419\n",
            "점검사항    325\n",
            "위험경고     94\n",
            "Name: count, dtype: int64\n",
            "처리된 데이터 수: 1048\n"
          ]
        }
      ]
    },
    {
      "cell_type": "code",
      "source": [
        "!head -n 5 /content/sample_data/type_train_dev_test/type_train.txt"
      ],
      "metadata": {
        "colab": {
          "base_uri": "https://localhost:8080/"
        },
        "id": "hsEmOVGbwKYn",
        "outputId": "73aaf670-d42f-4885-8770-f0f4cbd1fe6a"
      },
      "execution_count": null,
      "outputs": [
        {
          "output_type": "stream",
          "name": "stdout",
          "text": [
            "head: cannot open '/content/sample_data/type_train_dev_test/type_train.txt' for reading: No such file or directory\n"
          ]
        }
      ]
    },
    {
      "cell_type": "markdown",
      "source": [
        "<1주차 정리>\n",
        "\n",
        "- 머신러닝 , 딥러닝 , 지도학습 , 비지도학습 , 강화학습 기본 설명\n",
        "\n",
        "- 안전지침 pdf들이 모여있는 폴더를 순회하면서 ,\n",
        "   키 : pdf의 제목 , value: 추출한 문장들 형식의 추출결과 저장\n",
        "\n",
        "- train.csv 를 읽어서 필요한 열의 정보들을 추출\n",
        "\n",
        "- 안전지침만을 자동으로 추출하는 엔진 제작 과정을 설명\n",
        "\n",
        "- 안전지침 분류 모델로 사용할 Flair 모듈에 주입할 훈련용 라벨링 데이터 제작 설명\n",
        "\n",
        "해야할 것 : 개인별 랩탑 세팅 , 개인별 라벨링 한 데이터 수집."
      ],
      "metadata": {
        "id": "OqrClUUDb-rC"
      }
    },
    {
      "cell_type": "markdown",
      "source": [
        "PyTorch(torch)는 딥러닝 프레임워크로, Flair 라이브러리가 내부적으로 PyTorch를 기반으로 작동하기 때문에 필요합니다.\n",
        "\n",
        "Flair의 핵심 기능들은 모두 PyTorch로 구현되어 있습니다:\n",
        "\n",
        "모델 구조: TextClassifier 같은 Flair의 모델들은 PyTorch의 nn.Module을 상속받아 구현됩니다.\n",
        "\n",
        "학습 과정: 모델 학습은 PyTorch의 옵티마이저와 손실 함수를 사용합니다.\n",
        "\n",
        "GPU 가속: PyTorch를 통해 CUDA를 활용한 GPU 학습이 가능합니다.\n",
        "\n",
        "임베딩 처리: 트랜스포머 모델을 포함한 다양한 임베딩도 PyTorch를 통해 처리됩니다.\n",
        "\n",
        "따라서 Flair를 사용하려면 반드시 PyTorch가 설치되어 있어야 합니다. PyTorch가 없으면 Flair 라이브러리 자체가 작동하지 않습니다."
      ],
      "metadata": {
        "id": "uEMzxve8qBjq"
      }
    },
    {
      "cell_type": "code",
      "source": [
        "# 1. 필요한 패키지 설치\n",
        "!pip install flair transformers torch sentencepiece kobert-transformers -q\n",
        "# 넘파이 - transformer 버전 조합 때문에 고민을 했었는데 tourch 를 설치 함으로써 딥러닝이 요하는 연산을 다 커버할 수 있게 되었다.\n",
        "!pip install -U huggingface_hub\n",
        "\n",
        "# 2. 디렉토리 생성\n",
        "!mkdir -p /content/sample_data/type_train_dev_test\n",
        "!mkdir -p /content/sample_data/construction_train_dev_test\n",
        "!mkdir -p models/type-classifier\n",
        "!mkdir -p models/construction-classifier"
      ],
      "metadata": {
        "colab": {
          "base_uri": "https://localhost:8080/"
        },
        "id": "BHGDM4s-p77z",
        "outputId": "040f40c7-a391-45a2-d2c3-b1e53940fafa",
        "collapsed": true
      },
      "execution_count": null,
      "outputs": [
        {
          "output_type": "stream",
          "name": "stdout",
          "text": [
            "\u001b[?25l     \u001b[90m━━━━━━━━━━━━━━━━━━━━━━━━━━━━━━━━━━━━━━━━\u001b[0m \u001b[32m0.0/981.5 kB\u001b[0m \u001b[31m?\u001b[0m eta \u001b[36m-:--:--\u001b[0m\r\u001b[2K     \u001b[91m━━━━━━━━━━━━━━━━━━━━━━━━━━━━━━━━━━━━━\u001b[0m\u001b[91m╸\u001b[0m \u001b[32m972.8/981.5 kB\u001b[0m \u001b[31m31.8 MB/s\u001b[0m eta \u001b[36m0:00:01\u001b[0m\r\u001b[2K     \u001b[90m━━━━━━━━━━━━━━━━━━━━━━━━━━━━━━━━━━━━━━\u001b[0m \u001b[32m981.5/981.5 kB\u001b[0m \u001b[31m22.9 MB/s\u001b[0m eta \u001b[36m0:00:00\u001b[0m\n",
            "\u001b[?25h  Preparing metadata (setup.py) ... \u001b[?25l\u001b[?25hdone\n",
            "  Preparing metadata (setup.py) ... \u001b[?25l\u001b[?25hdone\n",
            "  Preparing metadata (setup.py) ... \u001b[?25l\u001b[?25hdone\n",
            "  Preparing metadata (setup.py) ... \u001b[?25l\u001b[?25hdone\n",
            "  Preparing metadata (setup.py) ... \u001b[?25l\u001b[?25hdone\n",
            "  Preparing metadata (setup.py) ... \u001b[?25l\u001b[?25hdone\n",
            "\u001b[2K   \u001b[90m━━━━━━━━━━━━━━━━━━━━━━━━━━━━━━━━━━━━━━━━\u001b[0m \u001b[32m1.2/1.2 MB\u001b[0m \u001b[31m48.9 MB/s\u001b[0m eta \u001b[36m0:00:00\u001b[0m\n",
            "\u001b[2K   \u001b[90m━━━━━━━━━━━━━━━━━━━━━━━━━━━━━━━━━━━━━━━━\u001b[0m \u001b[32m363.4/363.4 MB\u001b[0m \u001b[31m5.0 MB/s\u001b[0m eta \u001b[36m0:00:00\u001b[0m\n",
            "\u001b[2K   \u001b[90m━━━━━━━━━━━━━━━━━━━━━━━━━━━━━━━━━━━━━━━━\u001b[0m \u001b[32m13.8/13.8 MB\u001b[0m \u001b[31m85.6 MB/s\u001b[0m eta \u001b[36m0:00:00\u001b[0m\n",
            "\u001b[2K   \u001b[90m━━━━━━━━━━━━━━━━━━━━━━━━━━━━━━━━━━━━━━━━\u001b[0m \u001b[32m24.6/24.6 MB\u001b[0m \u001b[31m95.6 MB/s\u001b[0m eta \u001b[36m0:00:00\u001b[0m\n",
            "\u001b[2K   \u001b[90m━━━━━━━━━━━━━━━━━━━━━━━━━━━━━━━━━━━━━━━━\u001b[0m \u001b[32m883.7/883.7 kB\u001b[0m \u001b[31m60.3 MB/s\u001b[0m eta \u001b[36m0:00:00\u001b[0m\n",
            "\u001b[2K   \u001b[90m━━━━━━━━━━━━━━━━━━━━━━━━━━━━━━━━━━━━━━━━\u001b[0m \u001b[32m664.8/664.8 MB\u001b[0m \u001b[31m2.4 MB/s\u001b[0m eta \u001b[36m0:00:00\u001b[0m\n",
            "\u001b[2K   \u001b[90m━━━━━━━━━━━━━━━━━━━━━━━━━━━━━━━━━━━━━━━━\u001b[0m \u001b[32m211.5/211.5 MB\u001b[0m \u001b[31m5.0 MB/s\u001b[0m eta \u001b[36m0:00:00\u001b[0m\n",
            "\u001b[2K   \u001b[90m━━━━━━━━━━━━━━━━━━━━━━━━━━━━━━━━━━━━━━━━\u001b[0m \u001b[32m56.3/56.3 MB\u001b[0m \u001b[31m13.1 MB/s\u001b[0m eta \u001b[36m0:00:00\u001b[0m\n",
            "\u001b[2K   \u001b[90m━━━━━━━━━━━━━━━━━━━━━━━━━━━━━━━━━━━━━━━━\u001b[0m \u001b[32m127.9/127.9 MB\u001b[0m \u001b[31m7.3 MB/s\u001b[0m eta \u001b[36m0:00:00\u001b[0m\n",
            "\u001b[2K   \u001b[90m━━━━━━━━━━━━━━━━━━━━━━━━━━━━━━━━━━━━━━━━\u001b[0m \u001b[32m207.5/207.5 MB\u001b[0m \u001b[31m6.3 MB/s\u001b[0m eta \u001b[36m0:00:00\u001b[0m\n",
            "\u001b[2K   \u001b[90m━━━━━━━━━━━━━━━━━━━━━━━━━━━━━━━━━━━━━━━━\u001b[0m \u001b[32m21.1/21.1 MB\u001b[0m \u001b[31m105.4 MB/s\u001b[0m eta \u001b[36m0:00:00\u001b[0m\n",
            "\u001b[2K   \u001b[90m━━━━━━━━━━━━━━━━━━━━━━━━━━━━━━━━━━━━━━━━\u001b[0m \u001b[32m139.9/139.9 kB\u001b[0m \u001b[31m13.0 MB/s\u001b[0m eta \u001b[36m0:00:00\u001b[0m\n",
            "\u001b[2K   \u001b[90m━━━━━━━━━━━━━━━━━━━━━━━━━━━━━━━━━━━━━━━━\u001b[0m \u001b[32m44.8/44.8 kB\u001b[0m \u001b[31m3.7 MB/s\u001b[0m eta \u001b[36m0:00:00\u001b[0m\n",
            "\u001b[2K   \u001b[90m━━━━━━━━━━━━━━━━━━━━━━━━━━━━━━━━━━━━━━━━\u001b[0m \u001b[32m202.6/202.6 kB\u001b[0m \u001b[31m19.3 MB/s\u001b[0m eta \u001b[36m0:00:00\u001b[0m\n",
            "\u001b[2K   \u001b[90m━━━━━━━━━━━━━━━━━━━━━━━━━━━━━━━━━━━━━━━━\u001b[0m \u001b[32m13.5/13.5 MB\u001b[0m \u001b[31m119.1 MB/s\u001b[0m eta \u001b[36m0:00:00\u001b[0m\n",
            "\u001b[2K   \u001b[90m━━━━━━━━━━━━━━━━━━━━━━━━━━━━━━━━━━━━━━━━\u001b[0m \u001b[32m84.8/84.8 kB\u001b[0m \u001b[31m8.7 MB/s\u001b[0m eta \u001b[36m0:00:00\u001b[0m\n",
            "\u001b[?25h  Building wheel for langdetect (setup.py) ... \u001b[?25l\u001b[?25hdone\n",
            "  Building wheel for pptree (setup.py) ... \u001b[?25l\u001b[?25hdone\n",
            "  Building wheel for sqlitedict (setup.py) ... \u001b[?25l\u001b[?25hdone\n",
            "  Building wheel for wikipedia-api (setup.py) ... \u001b[?25l\u001b[?25hdone\n",
            "  Building wheel for docopt (setup.py) ... \u001b[?25l\u001b[?25hdone\n",
            "  Building wheel for intervaltree (setup.py) ... \u001b[?25l\u001b[?25hdone\n",
            "Requirement already satisfied: huggingface_hub in /usr/local/lib/python3.11/dist-packages (0.30.2)\n",
            "Requirement already satisfied: filelock in /usr/local/lib/python3.11/dist-packages (from huggingface_hub) (3.18.0)\n",
            "Requirement already satisfied: fsspec>=2023.5.0 in /usr/local/lib/python3.11/dist-packages (from huggingface_hub) (2025.3.2)\n",
            "Requirement already satisfied: packaging>=20.9 in /usr/local/lib/python3.11/dist-packages (from huggingface_hub) (24.2)\n",
            "Requirement already satisfied: pyyaml>=5.1 in /usr/local/lib/python3.11/dist-packages (from huggingface_hub) (6.0.2)\n",
            "Requirement already satisfied: requests in /usr/local/lib/python3.11/dist-packages (from huggingface_hub) (2.32.3)\n",
            "Requirement already satisfied: tqdm>=4.42.1 in /usr/local/lib/python3.11/dist-packages (from huggingface_hub) (4.67.1)\n",
            "Requirement already satisfied: typing-extensions>=3.7.4.3 in /usr/local/lib/python3.11/dist-packages (from huggingface_hub) (4.13.2)\n",
            "Requirement already satisfied: charset-normalizer<4,>=2 in /usr/local/lib/python3.11/dist-packages (from requests->huggingface_hub) (3.4.1)\n",
            "Requirement already satisfied: idna<4,>=2.5 in /usr/local/lib/python3.11/dist-packages (from requests->huggingface_hub) (3.10)\n",
            "Requirement already satisfied: urllib3<3,>=1.21.1 in /usr/local/lib/python3.11/dist-packages (from requests->huggingface_hub) (2.4.0)\n",
            "Requirement already satisfied: certifi>=2017.4.17 in /usr/local/lib/python3.11/dist-packages (from requests->huggingface_hub) (2025.1.31)\n"
          ]
        }
      ]
    },
    {
      "cell_type": "code",
      "source": [
        "# 3. 이미 생성된 파일들을 적절한 디렉토리로 이동\n",
        "!mv type_train.txt /content/sample_data/type_train_dev_test/\n",
        "!mv type_dev.txt /content/sample_data/type_train_dev_test/\n",
        "!mv type_test.txt /content/sample_data/type_train_dev_test/\n",
        "!mv construction_train.txt /content/sample_data/construction_train_dev_test/\n",
        "!mv construction_dev.txt /content/sample_data/construction_train_dev_test/\n",
        "!mv construction_test.txt /content/sample_data/construction_train_dev_test/\n",
        "\n",
        "# 4. 필요한 라이브러리 및 모듈 임포트\n",
        "import torch\n",
        "from flair.data import Corpus # 텍스트 데이터 처리를 위한 Corpus 클래스\n",
        "from flair.datasets import ClassificationCorpus # 분류 작업을 위한 특화된 코퍼스 클래스\n",
        "from flair.embeddings import TransformerDocumentEmbeddings # 트랜스포머 기반 임베딩 (BERT 등)\n",
        "from flair.models import TextClassifier # 텍스트 분류 모델\n",
        "from flair.trainers import ModelTrainer # 모델 학습을 위한 트레이너\n",
        "\n",
        "# 5. GPU 확인 # colab 설정에서 하드웨어 가속기로 cpu가 아닌 gpu를 사용하도록 설정 변경.\n",
        "print(f\"CUDA 사용 가능: {torch.cuda.is_available()}\")\n",
        "if torch.cuda.is_available():\n",
        "    print(f\"GPU 이름: {torch.cuda.get_device_name(0)}\")"
      ],
      "metadata": {
        "colab": {
          "base_uri": "https://localhost:8080/"
        },
        "id": "_TLsfhIls_7t",
        "outputId": "0758afbc-d989-494a-c5e4-f3f0b442addd"
      },
      "execution_count": null,
      "outputs": [
        {
          "output_type": "stream",
          "name": "stdout",
          "text": [
            "CUDA 사용 가능: True\n",
            "GPU 이름: Tesla T4\n"
          ]
        }
      ]
    },
    {
      "cell_type": "markdown",
      "source": [
        "type_corpus = ClassificationCorpus(\"/content/sample_data/type_train_dev_test\",  # 데이터 디렉토리 경로\n",
        "                                 train_file='type_train.txt',  # 학습 데이터 파일\n",
        "                                 dev_file='type_dev.txt',  # 검증 데이터 파일\n",
        "                                 test_file='type_test.txt')  # 테스트 데이터 파일:\n",
        "\n",
        "이 코드의 역할 ->\n",
        "\n",
        "1.파일 경로 지정\n",
        "\n",
        "- 첫 번째 인자 (\"/content/sample_data/type_train_dev_test\")는 데이터 파일들이 위치한 기본 디렉토리 경로입니다 ,\n",
        "\n",
        "- train_file, dev_file, test_file 매개변수는 각각 학습, 검증, 테스트에 사용될 데이터 파일의 이름을 지정합니다.\n",
        "\n",
        "2.데이터 로드 및 전처리:\n",
        "\n",
        "- 지정된 파일들에서 텍스트와 라벨을 읽어옵니다.(아까 txt 파일을 열어서 봤듯이 __label__라벨명-실제내용 이런 형태로 쭉 쓰여져 있다.)\n",
        "- 텍스트와 라벨을 Flair의 내부 형식으로 변환합니다.\n",
        "- 학습/검증/테스트 세트를 각각 분리하여 저장합니다.\n",
        "\n",
        "3.라벨 처리:\n",
        "\n",
        "- 파일에서 'label'로 시작하는 라벨을 추출하고, 기본적으로 'class' 타입의 라벨로 변환합니다.\n",
        "- 이렇게 생성된 코퍼스에서 나중에 make_label_dictionary()를 호출하면 라벨 사전을 얻을 수 있습니다.\n",
        "\n",
        "\n",
        "결론 : type_corpus 객체는 모델 학습, 평가, 예측 등의 과정에서 데이터를 제공하는 역할 -> 모델이 이해할 수 있도록 우리가 만든 텍스트와 라벨쌍을 그 내부 구조에 맞춰 바꿔주는 역할.\n"
      ],
      "metadata": {
        "id": "Fm-Uklq5yTcq"
      }
    },
    {
      "cell_type": "markdown",
      "source": [
        "\n",
        "---------------------------------------------------------\n",
        "\n",
        "type_classifier = TextClassifier(document_embeddings,\n",
        "                                label_dictionary=type_corpus.make_label_dictionary(label_type= 'class'), label_type='class')\n",
        " 이 코드의 역할 :\n",
        "\n",
        "1.분류기 생성:\n",
        "\n",
        "- TextClassifier 인스턴스를 생성합니다.\n",
        "\n",
        "2.임베딩 모델 연결:\n",
        "\n",
        "- document_embeddings 매개변수를 통해 텍스트를 벡터로на 변환하는 임베딩 모델을 분류기에 연결합니다.\n",
        "\n",
        "3.라벨 사전 설정:\n",
        "\n",
        "- type_corpus.make_label_dictionary(label_type='class')는 코퍼스에서 'class' 타입으로 지정된 모든 라벨을 수집하여 사전(dictionary) 형태로 만듭니다. 이 사전은 분류기가 어떤 클래스들을 예측할 수 있는지 정의합니다.\n",
        "\n",
        "4.라벨 타입 지정:\n",
        "\n",
        "- label_type='class' 매개변수는 분류기가 'class' 타입의 라벨을 예측할 것임을 지정합니다. 이는 코퍼스에서 사용한 라벨 타입과 일치해야 합니다.\n",
        "\n",
        "- (결과적으로 분류된 그 카테고리의 타입이 class일 것을 의미함 -> 당연하다. 왜냐면 class 타입의 라벨들을 corpus에서 받아서 dictionary의 인덱스로 설정해 놓은 셈이기에.)\n",
        "\n",
        "결론:\n",
        "\n",
        "- 이 분류기는 입력 텍스트를 document_embeddings를 사용해 벡터로 변환한 후, 그 벡터를 바탕으로 라벨 사전에 정의된 클래스 중 하나로 분류하는 작업을 수행합니다. 'class' 타입으로 지정된 라벨들(원래 파일에서는 'label'로 시작하는 태그들)을 예측하게 됩니다."
      ],
      "metadata": {
        "id": "SG1Fv7sg0hhc"
      }
    },
    {
      "cell_type": "markdown",
      "source": [
        "# 랜덤 서치 + 교차 검증 방식:\n",
        "\n",
        "하이퍼파라미터 공간 정의:\n",
        "\n",
        "- 학습률: [0.001, 0.1] 연속 공간\n",
        "- 배치 크기: [8, 16, 32, 64]\n",
        "- 에폭 수: [5, 10, 20]\n",
        "\n",
        "\n",
        "랜덤 조합 생성:\n",
        "\n",
        "- 정의된 공간에서 15 ~ 20개 하이퍼 파라미터 조합을 무작위로 추출\n",
        "\n",
        "\n",
        "각 랜덤 조합에 교차 검증 적용:\n",
        "\n",
        "- 각 조합마다 5-fold 교차 검증 수행\n",
        "- 각 조합별로 5개 성능 점수의 평균 계산\n",
        "\n",
        "\n",
        "최적 조합 선택:\n",
        "\n",
        "- 교차 검증 평균 성능이 가장 높은 하이퍼 파라미터 조합 선택\n",
        "\n",
        "\n",
        "최종 모델링:\n",
        "\n",
        "- 선택된 최적 조합으로 전체 훈련 데이터 사용해 최종 모델 학습\n",
        "\n",
        "\n",
        "## 교차검증이란?\n",
        "\n",
        "- 교차 검증(Cross-validation)은 모델 성능을 더 안정적으로 평가하고 과적합을 방지하는 기법입니다.\n",
        "교차 검증 기본 개념:\n",
        "\n",
        "데이터 분할:\n",
        "- 전체 데이터셋을 여러 개의 부분(폴드)으로 나눕니다.\n",
        "반복 학습 및 평가: 각 반복에서 하나의 폴드를 검증용으로 사용하고 나머지를 훈련용으로 사용합니다.\n",
        "성능 평균화: 모든 폴드에 대한 평가 결과를 평균내어 최종 성능을 측정합니다.\n",
        "\n",
        "가장 일반적인 형태 - k-fold 교차 검증:\n",
        "\n",
        "예를 들어 5-fold 교차 검증에서는:\n",
        "\n",
        "데이터를 5개 부분으로 나눕니다.\n",
        "5번의 실험을 수행합니다:\n",
        "\n",
        "1번째 실험: 1번 폴드를 검증용, 2~5번 폴드를 훈련용으로 사용\n",
        "\n",
        "2번째 실험: 2번 폴드를 검증용, 1,3~5번 폴드를 훈련용으로 사용\n",
        "\n",
        "...이런 식으로 5번째 실험까지 진행\n",
        "\n",
        "\n",
        "5번의 실험에서 얻은 성능 지표의 평균값을 최종 성능으로 사용합니다.\n",
        "\n",
        "교차 검증의 장점:\n",
        "\n",
        "- 더 안정적인 성능 평가: 데이터 분할에 따른 우연의 영향을 줄여줍니다.\n",
        "- 전체 데이터 활용: 모든 데이터 포인트가 훈련과 검증에 모두 사용됩니다.\n",
        "- 과적합 감지: 폴드 간 성능 차이가 크면 과적합의 징후일 수 있습니다.\n",
        "- 하이퍼파라미터 튜닝 신뢰성 향상: 단일 검증 세트보다 더 안정적인 평가를 제공합니다.\n",
        "\n",
        "- 텍스트 분류 모델 튜닝에서는 5-fold나 10-fold 교차 검증을 많이 사용하며, 각 하이퍼파라미터 조합에 대해 교차 검증 점수의 평균을 비교하여 최적의 조합을 선택합니다.\n",
        "\n",
        "### 교차검증 수행 예시(구체적)\n",
        "\n",
        "5-fold 교차 검증의 정확한 과정:\n",
        "\n",
        "- 데이터 분할: 전체 데이터를 5개의 동일한 크기의 폴드로 나눕니다.\n",
        "\n",
        "  각 폴드는 전체 데이터의 20%를 포함\n",
        "\n",
        "\n",
        "- 1차 반복:\n",
        "\n",
        "  검증용: 1번 폴드(전체의 20%)\n",
        "  훈련용: 2,3,4,5번 폴드(전체의 80%)\n",
        "  모델을 처음부터 학습 후 1번 폴드로 검증\n",
        "\n",
        "\n",
        "- 2차 반복:\n",
        "\n",
        "  검증용: 2번 폴드(전체의 20%)\n",
        "  훈련용: 1,3,4,5번 폴드(전체의 80%)\n",
        "  새 모델을 처음부터 학습 후 2번 폴드로 검증\n",
        "\n",
        "\n",
        "- 3~5차 반복:\n",
        "\n",
        "  각 폴드를 한 번씩 검증용으로 사용\n",
        "  항상 나머지 4개 폴드(80%)로 훈련\n",
        "\n",
        "\n",
        "- 최종 결과:\n",
        "\n",
        "  5번의 검증 성능 평균을 해당 하이퍼파라미터의 성능으로 결정\n",
        "\n",
        "\n",
        "\n",
        "각 폴드가 검증용으로 사용될 때, 그 폴드 전체가 검증에 사용됩니다(폴드 내에서 다시 나누지 않음). 이렇게 모든 데이터가 한 번씩 검증에 사용되고, 모든 데이터 포인트가 모델 평가에 기여하게 됩니다.\n",
        "\n",
        "#올바른 머신러닝 평가 파이프라인:\n",
        "\n",
        "1. 최초 데이터 분리:\n",
        "\n",
        "  전체 데이터를 훈련/검증용(80%)과 테스트용(20%)으로 분리\n",
        "  테스트 데이터는 \"봉인\"하여 최종 평가 전까지 절대 사용하지 않음\n",
        "\n",
        "\n",
        "\n",
        "2. 하이퍼파라미터 최적화 (랜덤 서치 + 교차 검증):\n",
        "\n",
        "  훈련/검증용 데이터(80%)만 가지고 교차 검증 수행\n",
        "  각 하이퍼파라미터 조합마다 k-fold 교차 검증으로 안정적인 평가\n",
        "  평균 성능이 가장 높은 하이퍼파라미터 조합 선택\n",
        "\n",
        "\n",
        "\n",
        "3. 최종 모델 학습:\n",
        "\n",
        "  선택된 최적 하이퍼파라미터로\n",
        "  전체 훈련/검증용 데이터(80%)를 사용해 최종 모델 학습\n",
        "\n",
        "\n",
        "4.  최종 평가:\n",
        "\n",
        "  처음에 분리해 놓은 테스트 데이터(20%)로\n",
        "  최종 모델의 성능을 한 번만 평가\n",
        "  이 성능이 가장 신뢰할 수 있는 일반화 성능 지표\n"
      ],
      "metadata": {
        "id": "iGFLupf3Szij"
      }
    },
    {
      "cell_type": "code",
      "source": [
        "import random\n",
        "import numpy as np\n",
        "from sklearn.model_selection import StratifiedKFold\n",
        "from flair.models import TextClassifier\n",
        "from flair.trainers import ModelTrainer\n",
        "from flair.data import Sentence\n",
        "from flair.datasets import ClassificationCorpus\n",
        "import os\n",
        "import tempfile\n",
        "import gc\n",
        "import torch\n",
        "\n",
        "def random_search_with_cross_validation(corpus, document_embeddings, n_trials=15, n_folds=2, label_type='class'): # 15 ~ 20 회가 랜덤 수행의 결과가 좋을 가능성이 높지만 , gpu시간을 고려해서 우선 15회로 설정.\n",
        "    \"\"\"\n",
        "    랜덤 하이퍼파라미터 서치 + 교차 검증\n",
        "    \"\"\"\n",
        "    # 데이터 준비\n",
        "    sentences = corpus.train\n",
        "    texts = [s.to_plain_string() for s in sentences]\n",
        "    labels = [s.get_label(label_type).value for s in sentences]\n",
        "\n",
        "    # 계층적 폴드 분할 -> labels-texts 를 균등하게(shuffle = true) fold 만큼의 카테고리로 나누기.\n",
        "    skf = StratifiedKFold(n_splits=n_folds, shuffle=True, random_state=42)\n",
        "    fold_indices = list(skf.split(texts, labels))\n",
        "\n",
        "    # 하이퍼파라미터 범위 정의\n",
        "    learning_rate_range = [0.005, 0.1]  # 학습률 범위\n",
        "    batch_sizes = [8, 16, 32]  # 배치 크기 옵션\n",
        "    epochs_range = [5, 12]  # 에폭 범위(이 범위를 넘어서는 수가 설정되면 바로 과적합 나옴.)\n",
        "\n",
        "    # 결과 저장용\n",
        "    best_score = 0\n",
        "    best_params = None\n",
        "    results = []\n",
        "\n",
        "    # 랜덤 서치 시작\n",
        "    for trial in range(n_trials):\n",
        "        # 랜덤 하이퍼파라미터 생성\n",
        "        lr = np.exp(random.uniform(np.log(learning_rate_range[0]),\n",
        "                                  np.log(learning_rate_range[1])))\n",
        "        batch_size = random.choice(batch_sizes)\n",
        "        epochs = random.randint(epochs_range[0], epochs_range[1])\n",
        "\n",
        "        params = {\n",
        "            'learning_rate': lr,\n",
        "            'batch_size': batch_size,\n",
        "            'epochs': epochs\n",
        "        }\n",
        "\n",
        "        print(f\"시도 {trial+1}/{n_trials}: lr={lr:.4f}, batch_size={batch_size}, epochs={epochs}\")\n",
        "\n",
        "        # 교차 검증 수행\n",
        "        fold_scores = []\n",
        "        valid_fold_count = 0  # 유효한 폴드 수 추적\n",
        "\n",
        "        for fold_idx, (train_idx, val_idx) in enumerate(fold_indices): # fold_idx 는 해당 폴드가 몇번째인지 , (train_idx , val_idx) 는 해당 폴드에 지정된 np.array\n",
        "            print(f\"  폴드 {fold_idx+1}/{n_folds} 학습 중...\")\n",
        "\n",
        "            # 이 폴드의 훈련/검증 문장 추출\n",
        "            train_sentences = [sentences[i] for i in train_idx]\n",
        "            val_sentences = [sentences[i] for i in val_idx]\n",
        "\n",
        "            # 임시 파일 및 코퍼스 생성 -> 그냥 label-texts 쌍만 우리가 만들어 놓은 상태라서 이를 학습용 파일 즉 flair이 사용할 수 있는 형태의 텍스트 임시 파일로 변형.\n",
        "            with tempfile.TemporaryDirectory() as temp_dir:\n",
        "                # 훈련/검증 파일 생성 -> 임시 디렉터리 생성 후 그 내에 임시 파일 생성 -> 각 순번의 훈련이 끝나면 삭제.\n",
        "                train_file = os.path.join(temp_dir, \"train.txt\")\n",
        "                dev_file = os.path.join(temp_dir, \"dev.txt\")\n",
        "\n",
        "                # 훈련 파일 작성\n",
        "                with open(train_file, 'w', encoding='utf-8') as f:\n",
        "                    for s in train_sentences:\n",
        "                        f.write(f\"__label__{s.get_label(label_type).value} {s.to_plain_string()}\\n\")\n",
        "\n",
        "                # 검증 파일 작성\n",
        "                with open(dev_file, 'w', encoding='utf-8') as f:\n",
        "                    for s in val_sentences:\n",
        "                        f.write(f\"__label__{s.get_label(label_type).value} {s.to_plain_string()}\\n\")\n",
        "\n",
        "                # 임시 코퍼스 생성\n",
        "                temp_corpus = ClassificationCorpus(temp_dir, train_file=\"train.txt\",\n",
        "                                                 dev_file=\"dev.txt\", test_file=None)\n",
        "\n",
        "                # 분류기 생성\n",
        "                classifier = TextClassifier(document_embeddings,\n",
        "                                          label_dictionary=temp_corpus.make_label_dictionary(label_type),\n",
        "                                          label_type=label_type)\n",
        "\n",
        "                # 트레이너 생성 및 학습\n",
        "                trainer = ModelTrainer(classifier, temp_corpus)\n",
        "                try:\n",
        "                    result = trainer.train(\n",
        "                        base_path=os.path.join(temp_dir, f\"model\"),\n",
        "                        learning_rate=lr,\n",
        "                        mini_batch_size=batch_size,\n",
        "                        max_epochs=epochs\n",
        "                    )\n",
        "                    # 결과 출력해보기\n",
        "                    print(f\"  훈련 결과: {result}\")\n",
        "\n",
        "                    # 결과 구조에 따라 적절히 접근\n",
        "                    # 현재 폴드에서 학습된 모델을 로드해서 직접 평가하는 것이 더 안전\n",
        "                    current_fold_model_path = os.path.join(temp_dir, f\"model/best-model.pt\")\n",
        "\n",
        "                    # 현재 폴드에서 학습된 모델로 직접 점수 계산\n",
        "                    current_fold_model = TextClassifier.load(current_fold_model_path)\n",
        "\n",
        "                    # 현재 폴드의 검증 세트에서 직접 평가\n",
        "                    correct_predictions = 0\n",
        "                    total_samples = 0\n",
        "\n",
        "                    for sentence in val_sentences:\n",
        "                        # 문장 복제 (레이블 정보 보존)\n",
        "                        test_sentence = Sentence(sentence.to_plain_string())\n",
        "                        true_label = sentence.get_label(label_type).value\n",
        "\n",
        "                        # 예측\n",
        "                        current_fold_model.predict(test_sentence)\n",
        "                        pred_label = test_sentence.get_label('class').value\n",
        "\n",
        "                        if pred_label == true_label:\n",
        "                            correct_predictions += 1\n",
        "                        total_samples += 1\n",
        "\n",
        "                    # 현재 폴드의 정확도 계산\n",
        "                    current_fold_accuracy = correct_predictions / total_samples if total_samples > 0 else 0\n",
        "                    fold_scores.append(current_fold_accuracy)\n",
        "                    valid_fold_count += 1  # 유효한 폴드 증가\n",
        "                    print(f\"  현재 폴드 정확도: {current_fold_accuracy:.4f}\")\n",
        "\n",
        "                    # 메모리 정리\n",
        "                    del current_fold_model\n",
        "                    if torch.cuda.is_available():\n",
        "                        torch.cuda.empty_cache()\n",
        "                    gc.collect()\n",
        "\n",
        "                except Exception as e:\n",
        "                    print(f\"  오류 발생: {e}\")\n",
        "                    # 오류 발생 시 점수를 추가하지 않음 (유효 폴드 수가 증가하지 않음)\n",
        "\n",
        "        # 이 조합의 평균 점수 계산\n",
        "        if valid_fold_count > 0:  # 유효한 폴드가 있을 때만 처리\n",
        "            avg_score = sum(fold_scores) / valid_fold_count\n",
        "            print(f\"  평균 성능: {avg_score:.4f} (유효한 폴드: {valid_fold_count}/{n_folds})\")\n",
        "\n",
        "            results.append({\n",
        "                'params': params,\n",
        "                'score': avg_score,\n",
        "                'fold_scores': fold_scores,\n",
        "                'valid_folds': valid_fold_count\n",
        "            })\n",
        "\n",
        "            # 최고 성능 갱신\n",
        "            if avg_score > best_score:\n",
        "                best_score = avg_score\n",
        "                best_params = params\n",
        "        else:\n",
        "            print(f\"  이 하이퍼파라미터 조합에 대한 유효한 결과 없음\")\n",
        "\n",
        "    # 결과 정렬 및 출력\n",
        "    sorted_results = sorted(results, key=lambda x: x['score'], reverse=True)\n",
        "\n",
        "    print(\"\\n=== 랜덤 서치 결과 요약 ===\")\n",
        "    for i, result in enumerate(sorted_results[:5]):  # 상위 5개만 표시\n",
        "        p = result['params']\n",
        "        print(f\"{i+1}위: lr={p['learning_rate']:.4f}, batch_size={p['batch_size']}, epochs={p['epochs']} \"\n",
        "              f\"- 점수: {result['score']:.4f} (유효 폴드: {result['valid_folds']}/{n_folds})\")\n",
        "\n",
        "    print(f\"\\n최적 하이퍼파라미터: {best_params}, 점수: {best_score:.4f}\")\n",
        "\n",
        "    return best_params, sorted_results\n",
        "\n",
        "\n",
        "\n",
        "construction_corpus = ClassificationCorpus(\"/content/sample_data/construction_train_dev_test\",  # 데이터 디렉토리 경로\n",
        "                                         train_file='construction_train.txt',  # 학습 데이터 파일\n",
        "                                         dev_file='construction_dev.txt',  # 검증 데이터 파일\n",
        "                                         test_file='construction_test.txt', # 테스트 데이터 파일\n",
        "                                         )\n",
        "\n",
        "document_embeddings = TransformerDocumentEmbeddings('klue/bert-base')\n",
        "\n",
        "\n",
        "# 앞서 생성한 document_embeddings를 재사용 (모델 공유)\n",
        "construction_classifier = TextClassifier(document_embeddings,\n",
        "                                       label_dictionary=construction_corpus.make_label_dictionary(label_type= 'class'), label_type='class')  # 공사 유형 레이블 사전 생성\n",
        "\n",
        "\n",
        "\n",
        "#랜덤서치 하이퍼파라미터 최적화 수행\n",
        "best_params, results = random_search_with_cross_validation(\n",
        "    corpus=construction_corpus,\n",
        "    document_embeddings=document_embeddings,\n",
        "    n_trials=2,  # 10번의 랜덤 시도 -> 즉!! \"n-trials * (폴드수) \" -> 만큼의 accuracy 측정이 있겠죠.\n",
        "    n_folds=5     # 5-fold 교차 검증\n",
        ")"
      ],
      "metadata": {
        "colab": {
          "base_uri": "https://localhost:8080/",
          "height": 1000,
          "referenced_widgets": [
            "fd963e0718a441a58e4212a8c2ae4a42",
            "eedcfb13afaf4e0491b7a5fee3b4a692",
            "fa1d957b2dbd44f086fc90ae51707a23",
            "880ac7ada99d4f1ebd72309939fa4d4b",
            "aaf2ec5432b34f9fa6e8da4ad0a8c10e",
            "c2f9b084bde04d2686fedd7f9679c755",
            "7d54f5f946f54c2386a3b21949242683",
            "4eaad01fb7a94b49800bffff8aeff81e",
            "773b38d4ec9e4f3380db9008748e6359",
            "1f630289a40f498696092095c1fe1aab",
            "c927142e962a40b3bd8e544d5e6a51c0",
            "1b4f0cc5b4b0437bb760c396187763f9",
            "91eae078f6f64f8292a69a554ac2e2a4",
            "66de9ec13559463a8573f0a9a03b0abd",
            "9935290b482b499bae500deff681961e",
            "b95e46e276804fbaaed0baa4b3d48f95",
            "5b5bcee982204a4b9476fcf9f64aac9c",
            "f2caa6dcc9594ccb906039d416d5333a",
            "117ce7c88e3543958f933c93d4d33a62",
            "df978441985943408dd1c8c18f1a2e85",
            "06ebad7ae7b2475aa1261b9da04d5067",
            "d9977da44769497295e6a469bc0db3cd",
            "00a086da2c42493db3860a8b6ba6debd",
            "34d8929b3f4f4c348a9ba49755f35ae9",
            "692911f563d843ca84f23eda1f99e4f5",
            "80f03b400aef47e29f3df50558347bda",
            "31a8b2dcbad14ea2b96dc0af15b22034",
            "81027c19b41a48e6ade9ee729d08f858",
            "a6f83e5265fc4334bf1e80924d35cdb5",
            "651c8fc6479d47839235c236f5e3275b",
            "8daaa82878b140e881ab9399f322ca6c",
            "7c5cae2e65814119a5b3c4e4dd8b6150",
            "7d6c6a538bcd4d37bb179a8df6fe4fe6",
            "bdc00e27891b4ff3a24e125f5b3235c8",
            "97fe90ca3f154d74bdde65be7fd8f84c",
            "013a44cd33114d41950b759ac07f5208",
            "a2132fe256cb497ca811a3912b31e677",
            "3cb74935ad0b46e09f6cb3ace793d989",
            "4e578e8bf1e44c2fb651b9bf10cbce90",
            "e518d20bdc17412d9d4971cef986486d",
            "5bb78f0b23ff485f82ba0f1841c36432",
            "ec11ce0a76f14ddfb407e72a23c2749e",
            "20b2bb949968432b81e3fe6b44fa5cb7",
            "1973919e2e794aae9f7f8c94edd7f5f6",
            "436dd54880854b089a633dce15e2621f",
            "1fe351abc2cd4b8c9a081188d2916bd2",
            "c9409cb3f2c44d3bb3cd00a6e27513b6",
            "1b359f5ca6e641b38eac2f41f4ca1985",
            "efa5056e7d74445ba5b88248db2915d6",
            "8edd86bb619c4934ab0585a09fa70408",
            "531ed08fdf5d449593aa570601595971",
            "e92fe9ae2be044dd81d6e89ae2920e51",
            "6f225c6d16f54544a2e3c5c98ba5be46",
            "843dceb84ee4440387797c8196844e47",
            "d66d5aed65c24f208a8c3227df54cec6",
            "7bd01687116f45ec9984a2b84a1c389f",
            "fc78dbfff3694ac28002b07ac0ed3f67",
            "654559d52dc24a40a7c0d8afbf8da3f2",
            "9173ea3ab839470a88b33abae73ecf13",
            "2469e51a11534c6c940ec014ddda8063",
            "7c435cd97dfc416d9c162f3ceeff9604",
            "f20e97ce6a4f45d296cc02035282a2d5",
            "d59ac488376b40cabb994409800ff7dc",
            "5bf1c634a37f4acdaf4f20f9e91210f5",
            "ddf6e0590f9e4cc1b753279dc7874fa2",
            "98482ab3b461470c86aa1eddcd5ea9bf"
          ]
        },
        "id": "qvrELbdtHM1Y",
        "outputId": "ea3ebe9a-73aa-4083-85d8-969dab6efc7f",
        "collapsed": true
      },
      "execution_count": null,
      "outputs": [
        {
          "output_type": "stream",
          "name": "stdout",
          "text": [
            "2025-05-01 08:12:43,071 Reading data from /content/sample_data/construction_train_dev_test\n",
            "2025-05-01 08:12:43,072 Train: /content/sample_data/construction_train_dev_test/construction_train.txt\n",
            "2025-05-01 08:12:43,073 Dev: /content/sample_data/construction_train_dev_test/construction_dev.txt\n",
            "2025-05-01 08:12:43,074 Test: /content/sample_data/construction_train_dev_test/construction_test.txt\n",
            "2025-05-01 08:12:43,116 Initialized corpus /content/sample_data/construction_train_dev_test (label type name is 'class')\n"
          ]
        },
        {
          "output_type": "stream",
          "name": "stderr",
          "text": [
            "/usr/local/lib/python3.11/dist-packages/huggingface_hub/utils/_auth.py:94: UserWarning: \n",
            "The secret `HF_TOKEN` does not exist in your Colab secrets.\n",
            "To authenticate with the Hugging Face Hub, create a token in your settings tab (https://huggingface.co/settings/tokens), set it as secret in your Google Colab and restart your session.\n",
            "You will be able to reuse this secret in all of your notebooks.\n",
            "Please note that authentication is recommended but still optional to access public models or datasets.\n",
            "  warnings.warn(\n"
          ]
        },
        {
          "output_type": "display_data",
          "data": {
            "text/plain": [
              "tokenizer_config.json:   0%|          | 0.00/289 [00:00<?, ?B/s]"
            ],
            "application/vnd.jupyter.widget-view+json": {
              "version_major": 2,
              "version_minor": 0,
              "model_id": "fd963e0718a441a58e4212a8c2ae4a42"
            }
          },
          "metadata": {}
        },
        {
          "output_type": "display_data",
          "data": {
            "text/plain": [
              "config.json:   0%|          | 0.00/425 [00:00<?, ?B/s]"
            ],
            "application/vnd.jupyter.widget-view+json": {
              "version_major": 2,
              "version_minor": 0,
              "model_id": "1b4f0cc5b4b0437bb760c396187763f9"
            }
          },
          "metadata": {}
        },
        {
          "output_type": "display_data",
          "data": {
            "text/plain": [
              "vocab.txt:   0%|          | 0.00/248k [00:00<?, ?B/s]"
            ],
            "application/vnd.jupyter.widget-view+json": {
              "version_major": 2,
              "version_minor": 0,
              "model_id": "00a086da2c42493db3860a8b6ba6debd"
            }
          },
          "metadata": {}
        },
        {
          "output_type": "display_data",
          "data": {
            "text/plain": [
              "tokenizer.json:   0%|          | 0.00/495k [00:00<?, ?B/s]"
            ],
            "application/vnd.jupyter.widget-view+json": {
              "version_major": 2,
              "version_minor": 0,
              "model_id": "bdc00e27891b4ff3a24e125f5b3235c8"
            }
          },
          "metadata": {}
        },
        {
          "output_type": "display_data",
          "data": {
            "text/plain": [
              "special_tokens_map.json:   0%|          | 0.00/125 [00:00<?, ?B/s]"
            ],
            "application/vnd.jupyter.widget-view+json": {
              "version_major": 2,
              "version_minor": 0,
              "model_id": "436dd54880854b089a633dce15e2621f"
            }
          },
          "metadata": {}
        },
        {
          "output_type": "stream",
          "name": "stderr",
          "text": [
            "Xet Storage is enabled for this repo, but the 'hf_xet' package is not installed. Falling back to regular HTTP download. For better performance, install the package with: `pip install huggingface_hub[hf_xet]` or `pip install hf_xet`\n",
            "WARNING:huggingface_hub.file_download:Xet Storage is enabled for this repo, but the 'hf_xet' package is not installed. Falling back to regular HTTP download. For better performance, install the package with: `pip install huggingface_hub[hf_xet]` or `pip install hf_xet`\n"
          ]
        },
        {
          "output_type": "display_data",
          "data": {
            "text/plain": [
              "model.safetensors:   0%|          | 0.00/445M [00:00<?, ?B/s]"
            ],
            "application/vnd.jupyter.widget-view+json": {
              "version_major": 2,
              "version_minor": 0,
              "model_id": "7bd01687116f45ec9984a2b84a1c389f"
            }
          },
          "metadata": {}
        },
        {
          "output_type": "stream",
          "name": "stdout",
          "text": [
            "2025-05-01 08:13:02,897 Computing label dictionary. Progress:\n"
          ]
        },
        {
          "output_type": "stream",
          "name": "stderr",
          "text": [
            "0it [00:00, ?it/s]\n",
            "838it [00:00, 1143.76it/s]"
          ]
        },
        {
          "output_type": "stream",
          "name": "stdout",
          "text": [
            "2025-05-01 08:13:03,646 Dictionary created for label 'class' with 7 values: 공통 (seen 244 times), 가설구조물 (seen 198 times), 교량 (seen 132 times), 굴착공사 (seen 109 times), 건축 (seen 77 times), 양중작업 (seen 73 times),  (seen 5 times)\n"
          ]
        },
        {
          "output_type": "stream",
          "name": "stderr",
          "text": [
            "\n"
          ]
        },
        {
          "output_type": "stream",
          "name": "stdout",
          "text": [
            "시도 1/2: lr=0.0503, batch_size=16, epochs=8\n",
            "  폴드 1/5 학습 중...\n",
            "2025-05-01 08:13:04,335 Reading data from /tmp/tmpxb3cy61c\n",
            "2025-05-01 08:13:04,338 Train: /tmp/tmpxb3cy61c/train.txt\n",
            "2025-05-01 08:13:04,339 Dev: /tmp/tmpxb3cy61c/dev.txt\n",
            "2025-05-01 08:13:04,339 Test: None\n",
            "2025-05-01 08:13:04,396 No test split found. Using 10% (i.e. 67 samples) of the train split as test data\n",
            "2025-05-01 08:13:04,397 Initialized corpus /tmp/tmpxb3cy61c (label type name is 'class')\n",
            "2025-05-01 08:13:04,398 Computing label dictionary. Progress:\n"
          ]
        },
        {
          "output_type": "stream",
          "name": "stderr",
          "text": [
            "0it [00:00, ?it/s]\n",
            "603it [00:00, 5074.18it/s]"
          ]
        },
        {
          "output_type": "stream",
          "name": "stdout",
          "text": [
            "2025-05-01 08:13:04,524 Dictionary created for label 'class' with 7 values: 공통 (seen 177 times), 가설구조물 (seen 139 times), 교량 (seen 100 times), 굴착공사 (seen 74 times), 건축 (seen 56 times), 양중작업 (seen 53 times),  (seen 4 times)\n",
            "2025-05-01 08:13:04,535 ----------------------------------------------------------------------------------------------------\n",
            "2025-05-01 08:13:04,539 Model: \"TextClassifier(\n",
            "  (embeddings): TransformerDocumentEmbeddings(\n",
            "    (model): BertModel(\n",
            "      (embeddings): BertEmbeddings(\n",
            "        (word_embeddings): Embedding(32001, 768, padding_idx=0)\n",
            "        (position_embeddings): Embedding(512, 768)\n",
            "        (token_type_embeddings): Embedding(2, 768)\n",
            "        (LayerNorm): LayerNorm((768,), eps=1e-12, elementwise_affine=True)\n",
            "        (dropout): Dropout(p=0.1, inplace=False)\n",
            "      )\n",
            "      (encoder): BertEncoder(\n",
            "        (layer): ModuleList(\n",
            "          (0-11): 12 x BertLayer(\n",
            "            (attention): BertAttention(\n",
            "              (self): BertSdpaSelfAttention(\n",
            "                (query): Linear(in_features=768, out_features=768, bias=True)\n",
            "                (key): Linear(in_features=768, out_features=768, bias=True)\n",
            "                (value): Linear(in_features=768, out_features=768, bias=True)\n",
            "                (dropout): Dropout(p=0.1, inplace=False)\n",
            "              )\n",
            "              (output): BertSelfOutput(\n",
            "                (dense): Linear(in_features=768, out_features=768, bias=True)\n",
            "                (LayerNorm): LayerNorm((768,), eps=1e-12, elementwise_affine=True)\n",
            "                (dropout): Dropout(p=0.1, inplace=False)\n",
            "              )\n",
            "            )\n",
            "            (intermediate): BertIntermediate(\n",
            "              (dense): Linear(in_features=768, out_features=3072, bias=True)\n",
            "              (intermediate_act_fn): GELUActivation()\n",
            "            )\n",
            "            (output): BertOutput(\n",
            "              (dense): Linear(in_features=3072, out_features=768, bias=True)\n",
            "              (LayerNorm): LayerNorm((768,), eps=1e-12, elementwise_affine=True)\n",
            "              (dropout): Dropout(p=0.1, inplace=False)\n",
            "            )\n",
            "          )\n",
            "        )\n",
            "      )\n",
            "      (pooler): BertPooler(\n",
            "        (dense): Linear(in_features=768, out_features=768, bias=True)\n",
            "        (activation): Tanh()\n",
            "      )\n",
            "    )\n",
            "  )\n",
            "  (decoder): Linear(in_features=768, out_features=7, bias=True)\n",
            "  (dropout): Dropout(p=0.0, inplace=False)\n",
            "  (locked_dropout): LockedDropout(p=0.0)\n",
            "  (word_dropout): WordDropout(p=0.0)\n",
            "  (loss_function): CrossEntropyLoss()\n",
            "  (weights): None\n",
            "  (weight_tensor) None\n",
            ")\"\n",
            "2025-05-01 08:13:04,541 ----------------------------------------------------------------------------------------------------\n",
            "2025-05-01 08:13:04,542 Corpus: 603 train + 168 dev + 67 test sentences\n",
            "2025-05-01 08:13:04,543 ----------------------------------------------------------------------------------------------------\n",
            "2025-05-01 08:13:04,543 Train:  603 sentences\n",
            "2025-05-01 08:13:04,544         (train_with_dev=False, train_with_test=False)\n",
            "2025-05-01 08:13:04,545 ----------------------------------------------------------------------------------------------------\n",
            "2025-05-01 08:13:04,546 Training Params:\n",
            "2025-05-01 08:13:04,546  - learning_rate: \"0.05032745864710779\" \n",
            "2025-05-01 08:13:04,547  - mini_batch_size: \"16\"\n",
            "2025-05-01 08:13:04,548  - max_epochs: \"8\"\n",
            "2025-05-01 08:13:04,548  - shuffle: \"True\"\n",
            "2025-05-01 08:13:04,549 ----------------------------------------------------------------------------------------------------\n",
            "2025-05-01 08:13:04,550 Plugins:\n",
            "2025-05-01 08:13:04,550  - AnnealOnPlateau | patience: '3', anneal_factor: '0.5', min_learning_rate: '0.0001'\n",
            "2025-05-01 08:13:04,551 ----------------------------------------------------------------------------------------------------\n",
            "2025-05-01 08:13:04,552 Final evaluation on model from best epoch (best-model.pt)\n",
            "2025-05-01 08:13:04,552  - metric: \"('micro avg', 'f1-score')\"\n",
            "2025-05-01 08:13:04,553 ----------------------------------------------------------------------------------------------------\n",
            "2025-05-01 08:13:04,554 Computation:\n",
            "2025-05-01 08:13:04,554  - compute on device: cuda:0\n",
            "2025-05-01 08:13:04,556  - embedding storage: cpu\n",
            "2025-05-01 08:13:04,556 ----------------------------------------------------------------------------------------------------\n",
            "2025-05-01 08:13:04,557 Model training base path: \"/tmp/tmpxb3cy61c/model\"\n",
            "2025-05-01 08:13:04,558 ----------------------------------------------------------------------------------------------------\n",
            "2025-05-01 08:13:04,558 ----------------------------------------------------------------------------------------------------\n"
          ]
        },
        {
          "output_type": "stream",
          "name": "stderr",
          "text": [
            "\n",
            "/usr/local/lib/python3.11/dist-packages/flair/trainers/trainer.py:545: FutureWarning: `torch.cuda.amp.GradScaler(args...)` is deprecated. Please use `torch.amp.GradScaler('cuda', args...)` instead.\n",
            "  scaler = torch.cuda.amp.GradScaler(enabled=use_amp and flair.device.type != \"cpu\")\n"
          ]
        },
        {
          "output_type": "stream",
          "name": "stdout",
          "text": [
            "2025-05-01 08:13:05,880 epoch 1 - iter 3/38 - loss 3.26755722 - time (sec): 1.32 - samples/sec: 36.40 - lr: 0.050327 - momentum: 0.000000\n",
            "2025-05-01 08:13:06,448 epoch 1 - iter 6/38 - loss 3.13176449 - time (sec): 1.89 - samples/sec: 50.88 - lr: 0.050327 - momentum: 0.000000\n",
            "2025-05-01 08:13:07,060 epoch 1 - iter 9/38 - loss 2.94551969 - time (sec): 2.50 - samples/sec: 57.63 - lr: 0.050327 - momentum: 0.000000\n",
            "2025-05-01 08:13:07,606 epoch 1 - iter 12/38 - loss 2.91978808 - time (sec): 3.04 - samples/sec: 63.06 - lr: 0.050327 - momentum: 0.000000\n",
            "2025-05-01 08:13:08,203 epoch 1 - iter 15/38 - loss 2.82252033 - time (sec): 3.64 - samples/sec: 65.91 - lr: 0.050327 - momentum: 0.000000\n",
            "2025-05-01 08:13:08,815 epoch 1 - iter 18/38 - loss 2.89470624 - time (sec): 4.25 - samples/sec: 67.71 - lr: 0.050327 - momentum: 0.000000\n",
            "2025-05-01 08:13:09,373 epoch 1 - iter 21/38 - loss 2.89145561 - time (sec): 4.81 - samples/sec: 69.82 - lr: 0.050327 - momentum: 0.000000\n",
            "2025-05-01 08:13:09,938 epoch 1 - iter 24/38 - loss 2.78403940 - time (sec): 5.38 - samples/sec: 71.42 - lr: 0.050327 - momentum: 0.000000\n",
            "2025-05-01 08:13:10,469 epoch 1 - iter 27/38 - loss 2.75485451 - time (sec): 5.91 - samples/sec: 73.12 - lr: 0.050327 - momentum: 0.000000\n",
            "2025-05-01 08:13:10,986 epoch 1 - iter 30/38 - loss 2.69616083 - time (sec): 6.42 - samples/sec: 74.71 - lr: 0.050327 - momentum: 0.000000\n",
            "2025-05-01 08:13:11,632 epoch 1 - iter 33/38 - loss 2.63896117 - time (sec): 7.07 - samples/sec: 74.68 - lr: 0.050327 - momentum: 0.000000\n",
            "2025-05-01 08:13:12,186 epoch 1 - iter 36/38 - loss 2.58817197 - time (sec): 7.62 - samples/sec: 75.54 - lr: 0.050327 - momentum: 0.000000\n",
            "2025-05-01 08:13:12,463 ----------------------------------------------------------------------------------------------------\n",
            "2025-05-01 08:13:12,463 EPOCH 1 done: loss 2.5668 - lr: 0.050327\n"
          ]
        },
        {
          "output_type": "stream",
          "name": "stderr",
          "text": [
            "100%|██████████| 3/3 [00:00<00:00,  3.21it/s]\n"
          ]
        },
        {
          "output_type": "stream",
          "name": "stdout",
          "text": [
            "2025-05-01 08:13:13,422 DEV : loss 1.861786127090454 - f1-score (micro avg)  0.2798\n",
            "2025-05-01 08:13:13,457  - 0 epochs without improvement\n",
            "2025-05-01 08:13:13,458 saving best model\n",
            "2025-05-01 08:13:14,590 ----------------------------------------------------------------------------------------------------\n",
            "2025-05-01 08:13:15,127 epoch 2 - iter 3/38 - loss 1.65985131 - time (sec): 0.53 - samples/sec: 89.85 - lr: 0.050327 - momentum: 0.000000\n",
            "2025-05-01 08:13:15,758 epoch 2 - iter 6/38 - loss 1.69219470 - time (sec): 1.17 - samples/sec: 82.38 - lr: 0.050327 - momentum: 0.000000\n",
            "2025-05-01 08:13:16,232 epoch 2 - iter 9/38 - loss 1.67736080 - time (sec): 1.64 - samples/sec: 87.82 - lr: 0.050327 - momentum: 0.000000\n",
            "2025-05-01 08:13:16,769 epoch 2 - iter 12/38 - loss 1.63732860 - time (sec): 2.18 - samples/sec: 88.22 - lr: 0.050327 - momentum: 0.000000\n",
            "2025-05-01 08:13:17,363 epoch 2 - iter 15/38 - loss 1.61816514 - time (sec): 2.77 - samples/sec: 86.61 - lr: 0.050327 - momentum: 0.000000\n",
            "2025-05-01 08:13:17,933 epoch 2 - iter 18/38 - loss 1.61658351 - time (sec): 3.34 - samples/sec: 86.20 - lr: 0.050327 - momentum: 0.000000\n",
            "2025-05-01 08:13:18,566 epoch 2 - iter 21/38 - loss 1.64520480 - time (sec): 3.97 - samples/sec: 84.55 - lr: 0.050327 - momentum: 0.000000\n",
            "2025-05-01 08:13:19,139 epoch 2 - iter 24/38 - loss 1.62341227 - time (sec): 4.55 - samples/sec: 84.46 - lr: 0.050327 - momentum: 0.000000\n",
            "2025-05-01 08:13:19,787 epoch 2 - iter 27/38 - loss 1.62855066 - time (sec): 5.19 - samples/sec: 83.17 - lr: 0.050327 - momentum: 0.000000\n",
            "2025-05-01 08:13:20,303 epoch 2 - iter 30/38 - loss 1.61757240 - time (sec): 5.71 - samples/sec: 84.05 - lr: 0.050327 - momentum: 0.000000\n",
            "2025-05-01 08:13:20,847 epoch 2 - iter 33/38 - loss 1.61848645 - time (sec): 6.25 - samples/sec: 84.42 - lr: 0.050327 - momentum: 0.000000\n",
            "2025-05-01 08:13:21,396 epoch 2 - iter 36/38 - loss 1.61176871 - time (sec): 6.80 - samples/sec: 84.66 - lr: 0.050327 - momentum: 0.000000\n",
            "2025-05-01 08:13:21,755 ----------------------------------------------------------------------------------------------------\n",
            "2025-05-01 08:13:21,755 EPOCH 2 done: loss 1.6159 - lr: 0.050327\n"
          ]
        },
        {
          "output_type": "stream",
          "name": "stderr",
          "text": [
            "100%|██████████| 3/3 [00:00<00:00,  3.28it/s]\n"
          ]
        },
        {
          "output_type": "stream",
          "name": "stdout",
          "text": [
            "2025-05-01 08:13:22,692 DEV : loss 1.502973198890686 - f1-score (micro avg)  0.4464\n",
            "2025-05-01 08:13:22,726  - 0 epochs without improvement\n",
            "2025-05-01 08:13:22,727 saving best model\n",
            "2025-05-01 08:13:23,961 ----------------------------------------------------------------------------------------------------\n",
            "2025-05-01 08:13:24,490 epoch 3 - iter 3/38 - loss 1.36040465 - time (sec): 0.53 - samples/sec: 91.26 - lr: 0.050327 - momentum: 0.000000\n",
            "2025-05-01 08:13:25,048 epoch 3 - iter 6/38 - loss 1.39076789 - time (sec): 1.08 - samples/sec: 88.52 - lr: 0.050327 - momentum: 0.000000\n",
            "2025-05-01 08:13:25,578 epoch 3 - iter 9/38 - loss 1.43552938 - time (sec): 1.61 - samples/sec: 89.18 - lr: 0.050327 - momentum: 0.000000\n",
            "2025-05-01 08:13:26,153 epoch 3 - iter 12/38 - loss 1.35587086 - time (sec): 2.19 - samples/sec: 87.71 - lr: 0.050327 - momentum: 0.000000\n",
            "2025-05-01 08:13:26,694 epoch 3 - iter 15/38 - loss 1.32954001 - time (sec): 2.73 - samples/sec: 87.90 - lr: 0.050327 - momentum: 0.000000\n",
            "2025-05-01 08:13:27,380 epoch 3 - iter 18/38 - loss 1.30754426 - time (sec): 3.42 - samples/sec: 84.30 - lr: 0.050327 - momentum: 0.000000\n",
            "2025-05-01 08:13:27,974 epoch 3 - iter 21/38 - loss 1.28600511 - time (sec): 4.01 - samples/sec: 83.79 - lr: 0.050327 - momentum: 0.000000\n",
            "2025-05-01 08:13:28,547 epoch 3 - iter 24/38 - loss 1.27351653 - time (sec): 4.58 - samples/sec: 83.79 - lr: 0.050327 - momentum: 0.000000\n",
            "2025-05-01 08:13:29,139 epoch 3 - iter 27/38 - loss 1.25774455 - time (sec): 5.18 - samples/sec: 83.47 - lr: 0.050327 - momentum: 0.000000\n",
            "2025-05-01 08:13:29,675 epoch 3 - iter 30/38 - loss 1.27292505 - time (sec): 5.71 - samples/sec: 84.04 - lr: 0.050327 - momentum: 0.000000\n",
            "2025-05-01 08:13:30,206 epoch 3 - iter 33/38 - loss 1.25178244 - time (sec): 6.24 - samples/sec: 84.59 - lr: 0.050327 - momentum: 0.000000\n",
            "2025-05-01 08:13:30,856 epoch 3 - iter 36/38 - loss 1.26134513 - time (sec): 6.89 - samples/sec: 83.58 - lr: 0.050327 - momentum: 0.000000\n",
            "2025-05-01 08:13:31,172 ----------------------------------------------------------------------------------------------------\n",
            "2025-05-01 08:13:31,172 EPOCH 3 done: loss 1.2507 - lr: 0.050327\n"
          ]
        },
        {
          "output_type": "stream",
          "name": "stderr",
          "text": [
            "100%|██████████| 3/3 [00:00<00:00,  3.09it/s]\n"
          ]
        },
        {
          "output_type": "stream",
          "name": "stdout",
          "text": [
            "2025-05-01 08:13:32,170 DEV : loss 1.2187988758087158 - f1-score (micro avg)  0.5536\n",
            "2025-05-01 08:13:32,204  - 0 epochs without improvement\n",
            "2025-05-01 08:13:32,204 saving best model\n",
            "2025-05-01 08:13:33,489 ----------------------------------------------------------------------------------------------------\n",
            "2025-05-01 08:13:33,977 epoch 4 - iter 3/38 - loss 1.10208827 - time (sec): 0.48 - samples/sec: 99.04 - lr: 0.050327 - momentum: 0.000000\n",
            "2025-05-01 08:13:34,544 epoch 4 - iter 6/38 - loss 1.00668321 - time (sec): 1.05 - samples/sec: 91.33 - lr: 0.050327 - momentum: 0.000000\n",
            "2025-05-01 08:13:35,177 epoch 4 - iter 9/38 - loss 1.00393397 - time (sec): 1.68 - samples/sec: 85.46 - lr: 0.050327 - momentum: 0.000000\n",
            "2025-05-01 08:13:35,796 epoch 4 - iter 12/38 - loss 1.00844193 - time (sec): 2.30 - samples/sec: 83.37 - lr: 0.050327 - momentum: 0.000000\n",
            "2025-05-01 08:13:36,418 epoch 4 - iter 15/38 - loss 0.91392610 - time (sec): 2.93 - samples/sec: 82.03 - lr: 0.050327 - momentum: 0.000000\n",
            "2025-05-01 08:13:36,998 epoch 4 - iter 18/38 - loss 0.87445313 - time (sec): 3.51 - samples/sec: 82.15 - lr: 0.050327 - momentum: 0.000000\n",
            "2025-05-01 08:13:37,465 epoch 4 - iter 21/38 - loss 0.84066381 - time (sec): 3.97 - samples/sec: 84.58 - lr: 0.050327 - momentum: 0.000000\n",
            "2025-05-01 08:13:37,972 epoch 4 - iter 24/38 - loss 0.87763160 - time (sec): 4.48 - samples/sec: 85.73 - lr: 0.050327 - momentum: 0.000000\n",
            "2025-05-01 08:13:38,687 epoch 4 - iter 27/38 - loss 0.88230582 - time (sec): 5.19 - samples/sec: 83.16 - lr: 0.050327 - momentum: 0.000000\n",
            "2025-05-01 08:13:39,222 epoch 4 - iter 30/38 - loss 0.89818747 - time (sec): 5.73 - samples/sec: 83.78 - lr: 0.050327 - momentum: 0.000000\n",
            "2025-05-01 08:13:39,834 epoch 4 - iter 33/38 - loss 0.89746985 - time (sec): 6.34 - samples/sec: 83.26 - lr: 0.050327 - momentum: 0.000000\n",
            "2025-05-01 08:13:40,383 epoch 4 - iter 36/38 - loss 0.89924019 - time (sec): 6.89 - samples/sec: 83.59 - lr: 0.050327 - momentum: 0.000000\n",
            "2025-05-01 08:13:40,775 ----------------------------------------------------------------------------------------------------\n",
            "2025-05-01 08:13:40,779 EPOCH 4 done: loss 0.9007 - lr: 0.050327\n"
          ]
        },
        {
          "output_type": "stream",
          "name": "stderr",
          "text": [
            "100%|██████████| 3/3 [00:00<00:00,  3.08it/s]"
          ]
        },
        {
          "output_type": "stream",
          "name": "stdout",
          "text": [
            "2025-05-01 08:13:41,783 DEV : loss 2.208052158355713 - f1-score (micro avg)  0.3869\n",
            "2025-05-01 08:13:41,872  - 1 epochs without improvement\n",
            "2025-05-01 08:13:41,876 ----------------------------------------------------------------------------------------------------\n"
          ]
        },
        {
          "output_type": "stream",
          "name": "stderr",
          "text": [
            "\n"
          ]
        },
        {
          "output_type": "stream",
          "name": "stdout",
          "text": [
            "2025-05-01 08:13:42,413 epoch 5 - iter 3/38 - loss 1.12504298 - time (sec): 0.53 - samples/sec: 89.85 - lr: 0.050327 - momentum: 0.000000\n",
            "2025-05-01 08:13:43,123 epoch 5 - iter 6/38 - loss 0.96098133 - time (sec): 1.25 - samples/sec: 77.11 - lr: 0.050327 - momentum: 0.000000\n",
            "2025-05-01 08:13:43,718 epoch 5 - iter 9/38 - loss 0.81011896 - time (sec): 1.84 - samples/sec: 78.27 - lr: 0.050327 - momentum: 0.000000\n",
            "2025-05-01 08:13:44,292 epoch 5 - iter 12/38 - loss 0.78954063 - time (sec): 2.41 - samples/sec: 79.55 - lr: 0.050327 - momentum: 0.000000\n",
            "2025-05-01 08:13:44,865 epoch 5 - iter 15/38 - loss 0.72737244 - time (sec): 2.99 - samples/sec: 80.35 - lr: 0.050327 - momentum: 0.000000\n",
            "2025-05-01 08:13:45,511 epoch 5 - iter 18/38 - loss 0.67017189 - time (sec): 3.63 - samples/sec: 79.27 - lr: 0.050327 - momentum: 0.000000\n",
            "2025-05-01 08:13:46,075 epoch 5 - iter 21/38 - loss 0.68357563 - time (sec): 4.20 - samples/sec: 80.06 - lr: 0.050327 - momentum: 0.000000\n",
            "2025-05-01 08:13:46,611 epoch 5 - iter 24/38 - loss 0.70435855 - time (sec): 4.73 - samples/sec: 81.15 - lr: 0.050327 - momentum: 0.000000\n",
            "2025-05-01 08:13:47,174 epoch 5 - iter 27/38 - loss 0.70379494 - time (sec): 5.30 - samples/sec: 81.58 - lr: 0.050327 - momentum: 0.000000\n",
            "2025-05-01 08:13:47,659 epoch 5 - iter 30/38 - loss 0.69276407 - time (sec): 5.78 - samples/sec: 83.04 - lr: 0.050327 - momentum: 0.000000\n",
            "2025-05-01 08:13:48,292 epoch 5 - iter 33/38 - loss 0.69129511 - time (sec): 6.41 - samples/sec: 82.33 - lr: 0.050327 - momentum: 0.000000\n",
            "2025-05-01 08:13:48,928 epoch 5 - iter 36/38 - loss 0.70200793 - time (sec): 7.05 - samples/sec: 81.70 - lr: 0.050327 - momentum: 0.000000\n",
            "2025-05-01 08:13:49,244 ----------------------------------------------------------------------------------------------------\n",
            "2025-05-01 08:13:49,244 EPOCH 5 done: loss 0.7078 - lr: 0.050327\n"
          ]
        },
        {
          "output_type": "stream",
          "name": "stderr",
          "text": [
            "100%|██████████| 3/3 [00:00<00:00,  3.09it/s]\n"
          ]
        },
        {
          "output_type": "stream",
          "name": "stdout",
          "text": [
            "2025-05-01 08:13:50,242 DEV : loss 1.2387458086013794 - f1-score (micro avg)  0.5952\n",
            "2025-05-01 08:13:50,278  - 0 epochs without improvement\n",
            "2025-05-01 08:13:50,279 saving best model\n",
            "2025-05-01 08:13:51,453 ----------------------------------------------------------------------------------------------------\n",
            "2025-05-01 08:13:51,925 epoch 6 - iter 3/38 - loss 0.60478787 - time (sec): 0.47 - samples/sec: 102.38 - lr: 0.050327 - momentum: 0.000000\n",
            "2025-05-01 08:13:52,589 epoch 6 - iter 6/38 - loss 0.55367414 - time (sec): 1.13 - samples/sec: 84.74 - lr: 0.050327 - momentum: 0.000000\n",
            "2025-05-01 08:13:53,181 epoch 6 - iter 9/38 - loss 0.52564158 - time (sec): 1.72 - samples/sec: 83.50 - lr: 0.050327 - momentum: 0.000000\n",
            "2025-05-01 08:13:53,713 epoch 6 - iter 12/38 - loss 0.46112339 - time (sec): 2.26 - samples/sec: 85.08 - lr: 0.050327 - momentum: 0.000000\n",
            "2025-05-01 08:13:54,458 epoch 6 - iter 15/38 - loss 0.49316414 - time (sec): 3.00 - samples/sec: 79.96 - lr: 0.050327 - momentum: 0.000000\n",
            "2025-05-01 08:13:54,968 epoch 6 - iter 18/38 - loss 0.49249253 - time (sec): 3.51 - samples/sec: 82.00 - lr: 0.050327 - momentum: 0.000000\n",
            "2025-05-01 08:13:55,706 epoch 6 - iter 21/38 - loss 0.48730749 - time (sec): 4.25 - samples/sec: 79.07 - lr: 0.050327 - momentum: 0.000000\n",
            "2025-05-01 08:13:56,301 epoch 6 - iter 24/38 - loss 0.47758123 - time (sec): 4.84 - samples/sec: 79.26 - lr: 0.050327 - momentum: 0.000000\n",
            "2025-05-01 08:13:56,936 epoch 6 - iter 27/38 - loss 0.48277440 - time (sec): 5.48 - samples/sec: 78.84 - lr: 0.050327 - momentum: 0.000000\n",
            "2025-05-01 08:13:57,543 epoch 6 - iter 30/38 - loss 0.46915038 - time (sec): 6.09 - samples/sec: 78.85 - lr: 0.050327 - momentum: 0.000000\n",
            "2025-05-01 08:13:58,156 epoch 6 - iter 33/38 - loss 0.46727906 - time (sec): 6.70 - samples/sec: 78.81 - lr: 0.050327 - momentum: 0.000000\n",
            "2025-05-01 08:13:58,740 epoch 6 - iter 36/38 - loss 0.46860606 - time (sec): 7.28 - samples/sec: 79.08 - lr: 0.050327 - momentum: 0.000000\n",
            "2025-05-01 08:13:59,133 ----------------------------------------------------------------------------------------------------\n",
            "2025-05-01 08:13:59,134 EPOCH 6 done: loss 0.4783 - lr: 0.050327\n"
          ]
        },
        {
          "output_type": "stream",
          "name": "stderr",
          "text": [
            "100%|██████████| 3/3 [00:00<00:00,  3.05it/s]\n"
          ]
        },
        {
          "output_type": "stream",
          "name": "stdout",
          "text": [
            "2025-05-01 08:14:00,143 DEV : loss 1.4244213104248047 - f1-score (micro avg)  0.5595\n",
            "2025-05-01 08:14:00,179  - 1 epochs without improvement\n",
            "2025-05-01 08:14:00,180 ----------------------------------------------------------------------------------------------------\n",
            "2025-05-01 08:14:00,571 epoch 7 - iter 3/38 - loss 0.16379378 - time (sec): 0.39 - samples/sec: 123.76 - lr: 0.050327 - momentum: 0.000000\n",
            "2025-05-01 08:14:01,070 epoch 7 - iter 6/38 - loss 0.16576345 - time (sec): 0.89 - samples/sec: 108.28 - lr: 0.050327 - momentum: 0.000000\n",
            "2025-05-01 08:14:01,624 epoch 7 - iter 9/38 - loss 0.20624248 - time (sec): 1.44 - samples/sec: 100.00 - lr: 0.050327 - momentum: 0.000000\n",
            "2025-05-01 08:14:02,262 epoch 7 - iter 12/38 - loss 0.24135019 - time (sec): 2.08 - samples/sec: 92.36 - lr: 0.050327 - momentum: 0.000000\n",
            "2025-05-01 08:14:02,880 epoch 7 - iter 15/38 - loss 0.27347921 - time (sec): 2.70 - samples/sec: 89.01 - lr: 0.050327 - momentum: 0.000000\n",
            "2025-05-01 08:14:03,542 epoch 7 - iter 18/38 - loss 0.26097888 - time (sec): 3.36 - samples/sec: 85.74 - lr: 0.050327 - momentum: 0.000000\n",
            "2025-05-01 08:14:04,134 epoch 7 - iter 21/38 - loss 0.27352397 - time (sec): 3.95 - samples/sec: 85.05 - lr: 0.050327 - momentum: 0.000000\n",
            "2025-05-01 08:14:04,787 epoch 7 - iter 24/38 - loss 0.27746040 - time (sec): 4.60 - samples/sec: 83.42 - lr: 0.050327 - momentum: 0.000000\n",
            "2025-05-01 08:14:05,320 epoch 7 - iter 27/38 - loss 0.29880243 - time (sec): 5.14 - samples/sec: 84.11 - lr: 0.050327 - momentum: 0.000000\n",
            "2025-05-01 08:14:05,906 epoch 7 - iter 30/38 - loss 0.28834056 - time (sec): 5.72 - samples/sec: 83.88 - lr: 0.050327 - momentum: 0.000000\n",
            "2025-05-01 08:14:06,618 epoch 7 - iter 33/38 - loss 0.33838340 - time (sec): 6.43 - samples/sec: 82.06 - lr: 0.050327 - momentum: 0.000000\n",
            "2025-05-01 08:14:07,177 epoch 7 - iter 36/38 - loss 0.34616900 - time (sec): 6.99 - samples/sec: 82.37 - lr: 0.050327 - momentum: 0.000000\n",
            "2025-05-01 08:14:07,574 ----------------------------------------------------------------------------------------------------\n",
            "2025-05-01 08:14:07,577 EPOCH 7 done: loss 0.3505 - lr: 0.050327\n"
          ]
        },
        {
          "output_type": "stream",
          "name": "stderr",
          "text": [
            "100%|██████████| 3/3 [00:01<00:00,  2.82it/s]"
          ]
        },
        {
          "output_type": "stream",
          "name": "stdout",
          "text": [
            "2025-05-01 08:14:08,670 DEV : loss 1.3846898078918457 - f1-score (micro avg)  0.625\n",
            "2025-05-01 08:14:08,728  - 0 epochs without improvement\n",
            "2025-05-01 08:14:08,731 saving best model\n"
          ]
        },
        {
          "output_type": "stream",
          "name": "stderr",
          "text": [
            "\n"
          ]
        },
        {
          "output_type": "stream",
          "name": "stdout",
          "text": [
            "2025-05-01 08:14:10,016 ----------------------------------------------------------------------------------------------------\n",
            "2025-05-01 08:14:10,552 epoch 8 - iter 3/38 - loss 0.25968062 - time (sec): 0.53 - samples/sec: 90.90 - lr: 0.050327 - momentum: 0.000000\n",
            "2025-05-01 08:14:11,129 epoch 8 - iter 6/38 - loss 0.32978250 - time (sec): 1.10 - samples/sec: 86.92 - lr: 0.050327 - momentum: 0.000000\n",
            "2025-05-01 08:14:11,678 epoch 8 - iter 9/38 - loss 0.33529147 - time (sec): 1.65 - samples/sec: 87.10 - lr: 0.050327 - momentum: 0.000000\n",
            "2025-05-01 08:14:12,333 epoch 8 - iter 12/38 - loss 0.31727731 - time (sec): 2.31 - samples/sec: 83.15 - lr: 0.050327 - momentum: 0.000000\n",
            "2025-05-01 08:14:12,908 epoch 8 - iter 15/38 - loss 0.29879111 - time (sec): 2.88 - samples/sec: 83.23 - lr: 0.050327 - momentum: 0.000000\n",
            "2025-05-01 08:14:13,562 epoch 8 - iter 18/38 - loss 0.27482591 - time (sec): 3.54 - samples/sec: 81.41 - lr: 0.050327 - momentum: 0.000000\n",
            "2025-05-01 08:14:14,171 epoch 8 - iter 21/38 - loss 0.29132189 - time (sec): 4.15 - samples/sec: 81.03 - lr: 0.050327 - momentum: 0.000000\n",
            "2025-05-01 08:14:14,787 epoch 8 - iter 24/38 - loss 0.29171654 - time (sec): 4.76 - samples/sec: 80.63 - lr: 0.050327 - momentum: 0.000000\n",
            "2025-05-01 08:14:15,444 epoch 8 - iter 27/38 - loss 0.29519477 - time (sec): 5.42 - samples/sec: 79.71 - lr: 0.050327 - momentum: 0.000000\n",
            "2025-05-01 08:14:16,071 epoch 8 - iter 30/38 - loss 0.29651017 - time (sec): 6.05 - samples/sec: 79.39 - lr: 0.050327 - momentum: 0.000000\n",
            "2025-05-01 08:14:16,571 epoch 8 - iter 33/38 - loss 0.29345351 - time (sec): 6.55 - samples/sec: 80.65 - lr: 0.050327 - momentum: 0.000000\n",
            "2025-05-01 08:14:17,233 epoch 8 - iter 36/38 - loss 0.28913919 - time (sec): 7.21 - samples/sec: 79.90 - lr: 0.050327 - momentum: 0.000000\n",
            "2025-05-01 08:14:17,591 ----------------------------------------------------------------------------------------------------\n",
            "2025-05-01 08:14:17,592 EPOCH 8 done: loss 0.2917 - lr: 0.050327\n"
          ]
        },
        {
          "output_type": "stream",
          "name": "stderr",
          "text": [
            "100%|██████████| 3/3 [00:00<00:00,  3.01it/s]"
          ]
        },
        {
          "output_type": "stream",
          "name": "stdout",
          "text": [
            "2025-05-01 08:14:18,609 DEV : loss 1.340975046157837 - f1-score (micro avg)  0.6488\n",
            "2025-05-01 08:14:18,645  - 0 epochs without improvement\n",
            "2025-05-01 08:14:18,646 saving best model\n"
          ]
        },
        {
          "output_type": "stream",
          "name": "stderr",
          "text": [
            "\n"
          ]
        },
        {
          "output_type": "stream",
          "name": "stdout",
          "text": [
            "2025-05-01 08:14:23,237 ----------------------------------------------------------------------------------------------------\n",
            "2025-05-01 08:14:23,241 Loading model from best epoch ...\n"
          ]
        },
        {
          "output_type": "stream",
          "name": "stderr",
          "text": [
            "100%|██████████| 2/2 [00:00<00:00,  5.64it/s]"
          ]
        },
        {
          "output_type": "stream",
          "name": "stdout",
          "text": [
            "2025-05-01 08:14:26,084 \n",
            "Results:\n",
            "- F-score (micro) 0.6567\n",
            "- F-score (macro) 0.5738\n",
            "- Accuracy 0.6567\n",
            "\n",
            "By class:\n",
            "              precision    recall  f1-score   support\n",
            "\n",
            "          공통     0.5263    0.5556    0.5405        18\n",
            "       가설구조물     0.8889    0.8421    0.8649        19\n",
            "        굴착공사     0.8333    0.7692    0.8000        13\n",
            "          교량     0.4545    0.8333    0.5882         6\n",
            "        양중작업     0.3333    0.4000    0.3636         5\n",
            "          건축     1.0000    0.1667    0.2857         6\n",
            "\n",
            "    accuracy                         0.6567        67\n",
            "   macro avg     0.6727    0.5945    0.5738        67\n",
            "weighted avg     0.7103    0.6567    0.6511        67\n",
            "\n",
            "2025-05-01 08:14:26,085 ----------------------------------------------------------------------------------------------------\n"
          ]
        },
        {
          "output_type": "stream",
          "name": "stderr",
          "text": [
            "\n"
          ]
        },
        {
          "output_type": "stream",
          "name": "stdout",
          "text": [
            "  훈련 결과: {'test_score': 0.6567164179104478}\n",
            "  현재 폴드 정확도: 0.6488\n",
            "  폴드 2/5 학습 중...\n",
            "2025-05-01 08:14:30,508 Reading data from /tmp/tmp_1uugntv\n",
            "2025-05-01 08:14:30,509 Train: /tmp/tmp_1uugntv/train.txt\n",
            "2025-05-01 08:14:30,509 Dev: /tmp/tmp_1uugntv/dev.txt\n",
            "2025-05-01 08:14:30,510 Test: None\n",
            "2025-05-01 08:14:30,549 No test split found. Using 10% (i.e. 67 samples) of the train split as test data\n",
            "2025-05-01 08:14:30,550 Initialized corpus /tmp/tmp_1uugntv (label type name is 'class')\n",
            "2025-05-01 08:14:30,551 Computing label dictionary. Progress:\n"
          ]
        },
        {
          "output_type": "stream",
          "name": "stderr",
          "text": [
            "0it [00:00, ?it/s]\n",
            "603it [00:00, 5052.68it/s]"
          ]
        },
        {
          "output_type": "stream",
          "name": "stdout",
          "text": [
            "2025-05-01 08:14:30,676 Dictionary created for label 'class' with 7 values: 공통 (seen 173 times), 가설구조물 (seen 149 times), 교량 (seen 91 times), 굴착공사 (seen 77 times), 건축 (seen 56 times), 양중작업 (seen 54 times),  (seen 3 times)\n",
            "2025-05-01 08:14:30,683 ----------------------------------------------------------------------------------------------------\n",
            "2025-05-01 08:14:30,685 Model: \"TextClassifier(\n",
            "  (embeddings): TransformerDocumentEmbeddings(\n",
            "    (model): BertModel(\n",
            "      (embeddings): BertEmbeddings(\n",
            "        (word_embeddings): Embedding(32001, 768, padding_idx=0)\n",
            "        (position_embeddings): Embedding(512, 768)\n",
            "        (token_type_embeddings): Embedding(2, 768)\n",
            "        (LayerNorm): LayerNorm((768,), eps=1e-12, elementwise_affine=True)\n",
            "        (dropout): Dropout(p=0.1, inplace=False)\n",
            "      )\n",
            "      (encoder): BertEncoder(\n",
            "        (layer): ModuleList(\n",
            "          (0-11): 12 x BertLayer(\n",
            "            (attention): BertAttention(\n",
            "              (self): BertSdpaSelfAttention(\n",
            "                (query): Linear(in_features=768, out_features=768, bias=True)\n",
            "                (key): Linear(in_features=768, out_features=768, bias=True)\n",
            "                (value): Linear(in_features=768, out_features=768, bias=True)\n",
            "                (dropout): Dropout(p=0.1, inplace=False)\n",
            "              )\n",
            "              (output): BertSelfOutput(\n",
            "                (dense): Linear(in_features=768, out_features=768, bias=True)\n",
            "                (LayerNorm): LayerNorm((768,), eps=1e-12, elementwise_affine=True)\n",
            "                (dropout): Dropout(p=0.1, inplace=False)\n",
            "              )\n",
            "            )\n",
            "            (intermediate): BertIntermediate(\n",
            "              (dense): Linear(in_features=768, out_features=3072, bias=True)\n",
            "              (intermediate_act_fn): GELUActivation()\n",
            "            )\n",
            "            (output): BertOutput(\n",
            "              (dense): Linear(in_features=3072, out_features=768, bias=True)\n",
            "              (LayerNorm): LayerNorm((768,), eps=1e-12, elementwise_affine=True)\n",
            "              (dropout): Dropout(p=0.1, inplace=False)\n",
            "            )\n",
            "          )\n",
            "        )\n",
            "      )\n",
            "      (pooler): BertPooler(\n",
            "        (dense): Linear(in_features=768, out_features=768, bias=True)\n",
            "        (activation): Tanh()\n",
            "      )\n",
            "    )\n",
            "  )\n",
            "  (decoder): Linear(in_features=768, out_features=7, bias=True)\n",
            "  (dropout): Dropout(p=0.0, inplace=False)\n",
            "  (locked_dropout): LockedDropout(p=0.0)\n",
            "  (word_dropout): WordDropout(p=0.0)\n",
            "  (loss_function): CrossEntropyLoss()\n",
            "  (weights): None\n",
            "  (weight_tensor) None\n",
            ")\"\n",
            "2025-05-01 08:14:30,685 ----------------------------------------------------------------------------------------------------\n",
            "2025-05-01 08:14:30,686 Corpus: 603 train + 168 dev + 67 test sentences\n",
            "2025-05-01 08:14:30,687 ----------------------------------------------------------------------------------------------------\n",
            "2025-05-01 08:14:30,688 Train:  603 sentences\n",
            "2025-05-01 08:14:30,689         (train_with_dev=False, train_with_test=False)\n",
            "2025-05-01 08:14:30,689 ----------------------------------------------------------------------------------------------------\n",
            "2025-05-01 08:14:30,690 Training Params:\n",
            "2025-05-01 08:14:30,691  - learning_rate: \"0.05032745864710779\" \n",
            "2025-05-01 08:14:30,691  - mini_batch_size: \"16\"\n",
            "2025-05-01 08:14:30,695  - max_epochs: \"8\"\n",
            "2025-05-01 08:14:30,696  - shuffle: \"True\"\n",
            "2025-05-01 08:14:30,696 ----------------------------------------------------------------------------------------------------\n",
            "2025-05-01 08:14:30,697 Plugins:\n",
            "2025-05-01 08:14:30,699  - AnnealOnPlateau | patience: '3', anneal_factor: '0.5', min_learning_rate: '0.0001'\n",
            "2025-05-01 08:14:30,699 ----------------------------------------------------------------------------------------------------\n",
            "2025-05-01 08:14:30,700 Final evaluation on model from best epoch (best-model.pt)\n",
            "2025-05-01 08:14:30,701  - metric: \"('micro avg', 'f1-score')\"\n",
            "2025-05-01 08:14:30,702 ----------------------------------------------------------------------------------------------------\n",
            "2025-05-01 08:14:30,703 Computation:\n",
            "2025-05-01 08:14:30,704  - compute on device: cuda:0\n",
            "2025-05-01 08:14:30,706  - embedding storage: cpu\n",
            "2025-05-01 08:14:30,707 ----------------------------------------------------------------------------------------------------\n",
            "2025-05-01 08:14:30,708 Model training base path: \"/tmp/tmp_1uugntv/model\"\n",
            "2025-05-01 08:14:30,709 ----------------------------------------------------------------------------------------------------\n",
            "2025-05-01 08:14:30,710 ----------------------------------------------------------------------------------------------------\n"
          ]
        },
        {
          "output_type": "stream",
          "name": "stderr",
          "text": [
            "\n",
            "/usr/local/lib/python3.11/dist-packages/flair/trainers/trainer.py:545: FutureWarning: `torch.cuda.amp.GradScaler(args...)` is deprecated. Please use `torch.amp.GradScaler('cuda', args...)` instead.\n",
            "  scaler = torch.cuda.amp.GradScaler(enabled=use_amp and flair.device.type != \"cpu\")\n"
          ]
        },
        {
          "output_type": "stream",
          "name": "stdout",
          "text": [
            "2025-05-01 08:14:31,252 epoch 1 - iter 3/38 - loss 2.33830166 - time (sec): 0.54 - samples/sec: 88.75 - lr: 0.050327 - momentum: 0.000000\n",
            "2025-05-01 08:14:31,822 epoch 1 - iter 6/38 - loss 1.95266201 - time (sec): 1.11 - samples/sec: 86.40 - lr: 0.050327 - momentum: 0.000000\n",
            "2025-05-01 08:14:32,369 epoch 1 - iter 9/38 - loss 1.62753481 - time (sec): 1.66 - samples/sec: 86.88 - lr: 0.050327 - momentum: 0.000000\n",
            "2025-05-01 08:14:32,906 epoch 1 - iter 12/38 - loss 1.50548852 - time (sec): 2.19 - samples/sec: 87.49 - lr: 0.050327 - momentum: 0.000000\n",
            "2025-05-01 08:14:33,465 epoch 1 - iter 15/38 - loss 1.36240276 - time (sec): 2.75 - samples/sec: 87.14 - lr: 0.050327 - momentum: 0.000000\n",
            "2025-05-01 08:14:34,079 epoch 1 - iter 18/38 - loss 1.30314729 - time (sec): 3.37 - samples/sec: 85.51 - lr: 0.050327 - momentum: 0.000000\n",
            "2025-05-01 08:14:34,690 epoch 1 - iter 21/38 - loss 1.22489236 - time (sec): 3.98 - samples/sec: 84.45 - lr: 0.050327 - momentum: 0.000000\n",
            "2025-05-01 08:14:35,454 epoch 1 - iter 24/38 - loss 1.16593049 - time (sec): 4.74 - samples/sec: 80.96 - lr: 0.050327 - momentum: 0.000000\n",
            "2025-05-01 08:14:35,982 epoch 1 - iter 27/38 - loss 1.16476055 - time (sec): 5.27 - samples/sec: 81.97 - lr: 0.050327 - momentum: 0.000000\n",
            "2025-05-01 08:14:36,674 epoch 1 - iter 30/38 - loss 1.13261541 - time (sec): 5.96 - samples/sec: 80.51 - lr: 0.050327 - momentum: 0.000000\n",
            "2025-05-01 08:14:37,326 epoch 1 - iter 33/38 - loss 1.09924499 - time (sec): 6.61 - samples/sec: 79.83 - lr: 0.050327 - momentum: 0.000000\n",
            "2025-05-01 08:14:38,006 epoch 1 - iter 36/38 - loss 1.05854142 - time (sec): 7.30 - samples/sec: 78.96 - lr: 0.050327 - momentum: 0.000000\n",
            "2025-05-01 08:14:38,310 ----------------------------------------------------------------------------------------------------\n",
            "2025-05-01 08:14:38,310 EPOCH 1 done: loss 1.0472 - lr: 0.050327\n"
          ]
        },
        {
          "output_type": "stream",
          "name": "stderr",
          "text": [
            "100%|██████████| 3/3 [00:01<00:00,  2.81it/s]"
          ]
        },
        {
          "output_type": "stream",
          "name": "stdout",
          "text": [
            "2025-05-01 08:14:39,403 DEV : loss 0.5289103984832764 - f1-score (micro avg)  0.8512\n",
            "2025-05-01 08:14:39,440  - 0 epochs without improvement\n",
            "2025-05-01 08:14:39,441 saving best model\n"
          ]
        },
        {
          "output_type": "stream",
          "name": "stderr",
          "text": [
            "\n"
          ]
        },
        {
          "output_type": "stream",
          "name": "stdout",
          "text": [
            "2025-05-01 08:14:40,515 ----------------------------------------------------------------------------------------------------\n",
            "2025-05-01 08:14:41,025 epoch 2 - iter 3/38 - loss 0.86803367 - time (sec): 0.51 - samples/sec: 94.71 - lr: 0.050327 - momentum: 0.000000\n",
            "2025-05-01 08:14:41,740 epoch 2 - iter 6/38 - loss 0.72891757 - time (sec): 1.22 - samples/sec: 78.56 - lr: 0.050327 - momentum: 0.000000\n",
            "2025-05-01 08:14:42,363 epoch 2 - iter 9/38 - loss 0.59530458 - time (sec): 1.84 - samples/sec: 78.06 - lr: 0.050327 - momentum: 0.000000\n",
            "2025-05-01 08:14:43,107 epoch 2 - iter 12/38 - loss 0.61478953 - time (sec): 2.59 - samples/sec: 74.17 - lr: 0.050327 - momentum: 0.000000\n",
            "2025-05-01 08:14:43,763 epoch 2 - iter 15/38 - loss 0.60860295 - time (sec): 3.24 - samples/sec: 73.97 - lr: 0.050327 - momentum: 0.000000\n",
            "2025-05-01 08:14:44,391 epoch 2 - iter 18/38 - loss 0.57822967 - time (sec): 3.87 - samples/sec: 74.36 - lr: 0.050327 - momentum: 0.000000\n",
            "2025-05-01 08:14:45,075 epoch 2 - iter 21/38 - loss 0.60574267 - time (sec): 4.56 - samples/sec: 73.73 - lr: 0.050327 - momentum: 0.000000\n",
            "2025-05-01 08:14:45,835 epoch 2 - iter 24/38 - loss 0.59820758 - time (sec): 5.32 - samples/sec: 72.22 - lr: 0.050327 - momentum: 0.000000\n",
            "2025-05-01 08:14:46,525 epoch 2 - iter 27/38 - loss 0.56715482 - time (sec): 6.01 - samples/sec: 71.92 - lr: 0.050327 - momentum: 0.000000\n",
            "2025-05-01 08:14:47,126 epoch 2 - iter 30/38 - loss 0.57305239 - time (sec): 6.61 - samples/sec: 72.64 - lr: 0.050327 - momentum: 0.000000\n",
            "2025-05-01 08:14:47,730 epoch 2 - iter 33/38 - loss 0.58664513 - time (sec): 7.21 - samples/sec: 73.21 - lr: 0.050327 - momentum: 0.000000\n",
            "2025-05-01 08:14:48,549 epoch 2 - iter 36/38 - loss 0.59846882 - time (sec): 8.03 - samples/sec: 71.72 - lr: 0.050327 - momentum: 0.000000\n",
            "2025-05-01 08:14:49,011 ----------------------------------------------------------------------------------------------------\n",
            "2025-05-01 08:14:49,016 EPOCH 2 done: loss 0.6044 - lr: 0.050327\n"
          ]
        },
        {
          "output_type": "stream",
          "name": "stderr",
          "text": [
            "100%|██████████| 3/3 [00:01<00:00,  2.33it/s]"
          ]
        },
        {
          "output_type": "stream",
          "name": "stdout",
          "text": [
            "2025-05-01 08:14:50,378 DEV : loss 0.5023905038833618 - f1-score (micro avg)  0.8333\n"
          ]
        },
        {
          "output_type": "stream",
          "name": "stderr",
          "text": [
            "\n"
          ]
        },
        {
          "output_type": "stream",
          "name": "stdout",
          "text": [
            "2025-05-01 08:14:50,568  - 1 epochs without improvement\n",
            "2025-05-01 08:14:50,571 ----------------------------------------------------------------------------------------------------\n",
            "2025-05-01 08:14:51,029 epoch 3 - iter 3/38 - loss 0.28833633 - time (sec): 0.45 - samples/sec: 105.92 - lr: 0.050327 - momentum: 0.000000\n",
            "2025-05-01 08:14:51,645 epoch 3 - iter 6/38 - loss 0.34221961 - time (sec): 1.07 - samples/sec: 89.75 - lr: 0.050327 - momentum: 0.000000\n",
            "2025-05-01 08:14:52,393 epoch 3 - iter 9/38 - loss 0.36874781 - time (sec): 1.82 - samples/sec: 79.24 - lr: 0.050327 - momentum: 0.000000\n",
            "2025-05-01 08:14:53,104 epoch 3 - iter 12/38 - loss 0.33002997 - time (sec): 2.53 - samples/sec: 75.94 - lr: 0.050327 - momentum: 0.000000\n",
            "2025-05-01 08:14:53,778 epoch 3 - iter 15/38 - loss 0.31320864 - time (sec): 3.20 - samples/sec: 74.95 - lr: 0.050327 - momentum: 0.000000\n",
            "2025-05-01 08:14:54,474 epoch 3 - iter 18/38 - loss 0.35852941 - time (sec): 3.90 - samples/sec: 73.88 - lr: 0.050327 - momentum: 0.000000\n",
            "2025-05-01 08:14:55,082 epoch 3 - iter 21/38 - loss 0.35940275 - time (sec): 4.51 - samples/sec: 74.56 - lr: 0.050327 - momentum: 0.000000\n",
            "2025-05-01 08:14:55,665 epoch 3 - iter 24/38 - loss 0.38020430 - time (sec): 5.09 - samples/sec: 75.45 - lr: 0.050327 - momentum: 0.000000\n",
            "2025-05-01 08:14:56,344 epoch 3 - iter 27/38 - loss 0.35655635 - time (sec): 5.77 - samples/sec: 74.89 - lr: 0.050327 - momentum: 0.000000\n",
            "2025-05-01 08:14:56,969 epoch 3 - iter 30/38 - loss 0.36264173 - time (sec): 6.39 - samples/sec: 75.08 - lr: 0.050327 - momentum: 0.000000\n",
            "2025-05-01 08:14:57,553 epoch 3 - iter 33/38 - loss 0.39284403 - time (sec): 6.98 - samples/sec: 75.68 - lr: 0.050327 - momentum: 0.000000\n",
            "2025-05-01 08:14:58,264 epoch 3 - iter 36/38 - loss 0.37743691 - time (sec): 7.69 - samples/sec: 74.92 - lr: 0.050327 - momentum: 0.000000\n",
            "2025-05-01 08:14:58,544 ----------------------------------------------------------------------------------------------------\n",
            "2025-05-01 08:14:58,545 EPOCH 3 done: loss 0.3771 - lr: 0.050327\n"
          ]
        },
        {
          "output_type": "stream",
          "name": "stderr",
          "text": [
            "100%|██████████| 3/3 [00:01<00:00,  2.58it/s]"
          ]
        },
        {
          "output_type": "stream",
          "name": "stdout",
          "text": [
            "2025-05-01 08:14:59,733 DEV : loss 0.3799492418766022 - f1-score (micro avg)  0.869\n",
            "2025-05-01 08:14:59,789  - 0 epochs without improvement\n",
            "2025-05-01 08:14:59,793 saving best model\n"
          ]
        },
        {
          "output_type": "stream",
          "name": "stderr",
          "text": [
            "\n"
          ]
        },
        {
          "output_type": "stream",
          "name": "stdout",
          "text": [
            "2025-05-01 08:15:01,113 ----------------------------------------------------------------------------------------------------\n",
            "2025-05-01 08:15:01,853 epoch 4 - iter 3/38 - loss 0.16137489 - time (sec): 0.74 - samples/sec: 65.16 - lr: 0.050327 - momentum: 0.000000\n",
            "2025-05-01 08:15:02,408 epoch 4 - iter 6/38 - loss 0.26971460 - time (sec): 1.29 - samples/sec: 74.31 - lr: 0.050327 - momentum: 0.000000\n",
            "2025-05-01 08:15:03,014 epoch 4 - iter 9/38 - loss 0.21869569 - time (sec): 1.90 - samples/sec: 75.86 - lr: 0.050327 - momentum: 0.000000\n",
            "2025-05-01 08:15:03,620 epoch 4 - iter 12/38 - loss 0.19574498 - time (sec): 2.50 - samples/sec: 76.69 - lr: 0.050327 - momentum: 0.000000\n",
            "2025-05-01 08:15:04,143 epoch 4 - iter 15/38 - loss 0.22069852 - time (sec): 3.03 - samples/sec: 79.30 - lr: 0.050327 - momentum: 0.000000\n",
            "2025-05-01 08:15:04,812 epoch 4 - iter 18/38 - loss 0.23120255 - time (sec): 3.70 - samples/sec: 77.92 - lr: 0.050327 - momentum: 0.000000\n",
            "2025-05-01 08:15:05,505 epoch 4 - iter 21/38 - loss 0.22216545 - time (sec): 4.39 - samples/sec: 76.56 - lr: 0.050327 - momentum: 0.000000\n",
            "2025-05-01 08:15:06,141 epoch 4 - iter 24/38 - loss 0.21120226 - time (sec): 5.02 - samples/sec: 76.42 - lr: 0.050327 - momentum: 0.000000\n",
            "2025-05-01 08:15:06,869 epoch 4 - iter 27/38 - loss 0.21125547 - time (sec): 5.75 - samples/sec: 75.09 - lr: 0.050327 - momentum: 0.000000\n",
            "2025-05-01 08:15:07,442 epoch 4 - iter 30/38 - loss 0.20768561 - time (sec): 6.33 - samples/sec: 75.88 - lr: 0.050327 - momentum: 0.000000\n",
            "2025-05-01 08:15:08,200 epoch 4 - iter 33/38 - loss 0.22773566 - time (sec): 7.08 - samples/sec: 74.54 - lr: 0.050327 - momentum: 0.000000\n",
            "2025-05-01 08:15:08,876 epoch 4 - iter 36/38 - loss 0.23035126 - time (sec): 7.76 - samples/sec: 74.22 - lr: 0.050327 - momentum: 0.000000\n",
            "2025-05-01 08:15:09,310 ----------------------------------------------------------------------------------------------------\n",
            "2025-05-01 08:15:09,311 EPOCH 4 done: loss 0.2286 - lr: 0.050327\n"
          ]
        },
        {
          "output_type": "stream",
          "name": "stderr",
          "text": [
            "100%|██████████| 3/3 [00:01<00:00,  2.61it/s]"
          ]
        },
        {
          "output_type": "stream",
          "name": "stdout",
          "text": [
            "2025-05-01 08:15:10,482 DEV : loss 0.37354201078414917 - f1-score (micro avg)  0.869\n",
            "2025-05-01 08:15:10,517  - 0 epochs without improvement\n",
            "2025-05-01 08:15:10,518 ----------------------------------------------------------------------------------------------------\n"
          ]
        },
        {
          "output_type": "stream",
          "name": "stderr",
          "text": [
            "\n"
          ]
        },
        {
          "output_type": "stream",
          "name": "stdout",
          "text": [
            "2025-05-01 08:15:11,085 epoch 5 - iter 3/38 - loss 0.12886137 - time (sec): 0.56 - samples/sec: 85.12 - lr: 0.050327 - momentum: 0.000000\n",
            "2025-05-01 08:15:11,636 epoch 5 - iter 6/38 - loss 0.09914342 - time (sec): 1.11 - samples/sec: 86.10 - lr: 0.050327 - momentum: 0.000000\n",
            "2025-05-01 08:15:12,276 epoch 5 - iter 9/38 - loss 0.11176258 - time (sec): 1.75 - samples/sec: 82.08 - lr: 0.050327 - momentum: 0.000000\n",
            "2025-05-01 08:15:12,898 epoch 5 - iter 12/38 - loss 0.13332337 - time (sec): 2.38 - samples/sec: 80.79 - lr: 0.050327 - momentum: 0.000000\n",
            "2025-05-01 08:15:13,520 epoch 5 - iter 15/38 - loss 0.15319410 - time (sec): 3.00 - samples/sec: 80.03 - lr: 0.050327 - momentum: 0.000000\n",
            "2025-05-01 08:15:14,254 epoch 5 - iter 18/38 - loss 0.13770341 - time (sec): 3.73 - samples/sec: 77.15 - lr: 0.050327 - momentum: 0.000000\n",
            "2025-05-01 08:15:14,894 epoch 5 - iter 21/38 - loss 0.14964807 - time (sec): 4.37 - samples/sec: 76.84 - lr: 0.050327 - momentum: 0.000000\n",
            "2025-05-01 08:15:15,501 epoch 5 - iter 24/38 - loss 0.15514090 - time (sec): 4.98 - samples/sec: 77.11 - lr: 0.050327 - momentum: 0.000000\n",
            "2025-05-01 08:15:16,378 epoch 5 - iter 27/38 - loss 0.17160918 - time (sec): 5.86 - samples/sec: 73.76 - lr: 0.050327 - momentum: 0.000000\n",
            "2025-05-01 08:15:17,038 epoch 5 - iter 30/38 - loss 0.16104976 - time (sec): 6.52 - samples/sec: 73.66 - lr: 0.050327 - momentum: 0.000000\n",
            "2025-05-01 08:15:17,662 epoch 5 - iter 33/38 - loss 0.16274104 - time (sec): 7.14 - samples/sec: 73.94 - lr: 0.050327 - momentum: 0.000000\n",
            "2025-05-01 08:15:18,379 epoch 5 - iter 36/38 - loss 0.17184442 - time (sec): 7.86 - samples/sec: 73.30 - lr: 0.050327 - momentum: 0.000000\n",
            "2025-05-01 08:15:18,762 ----------------------------------------------------------------------------------------------------\n",
            "2025-05-01 08:15:18,763 EPOCH 5 done: loss 0.1775 - lr: 0.050327\n"
          ]
        },
        {
          "output_type": "stream",
          "name": "stderr",
          "text": [
            "100%|██████████| 3/3 [00:01<00:00,  2.34it/s]"
          ]
        },
        {
          "output_type": "stream",
          "name": "stdout",
          "text": [
            "2025-05-01 08:15:20,078 DEV : loss 0.41671159863471985 - f1-score (micro avg)  0.8631\n",
            "2025-05-01 08:15:20,163  - 1 epochs without improvement\n",
            "2025-05-01 08:15:20,167 ----------------------------------------------------------------------------------------------------\n"
          ]
        },
        {
          "output_type": "stream",
          "name": "stderr",
          "text": [
            "\n"
          ]
        },
        {
          "output_type": "stream",
          "name": "stdout",
          "text": [
            "2025-05-01 08:15:20,591 epoch 6 - iter 3/38 - loss 0.32500830 - time (sec): 0.42 - samples/sec: 114.24 - lr: 0.050327 - momentum: 0.000000\n",
            "2025-05-01 08:15:21,488 epoch 6 - iter 6/38 - loss 0.21682050 - time (sec): 1.32 - samples/sec: 72.91 - lr: 0.050327 - momentum: 0.000000\n",
            "2025-05-01 08:15:22,177 epoch 6 - iter 9/38 - loss 0.17553905 - time (sec): 2.01 - samples/sec: 71.80 - lr: 0.050327 - momentum: 0.000000\n",
            "2025-05-01 08:15:22,798 epoch 6 - iter 12/38 - loss 0.15184471 - time (sec): 2.63 - samples/sec: 73.10 - lr: 0.050327 - momentum: 0.000000\n",
            "2025-05-01 08:15:23,510 epoch 6 - iter 15/38 - loss 0.12502334 - time (sec): 3.34 - samples/sec: 71.88 - lr: 0.050327 - momentum: 0.000000\n",
            "2025-05-01 08:15:24,074 epoch 6 - iter 18/38 - loss 0.13170492 - time (sec): 3.90 - samples/sec: 73.79 - lr: 0.050327 - momentum: 0.000000\n",
            "2025-05-01 08:15:24,710 epoch 6 - iter 21/38 - loss 0.12738029 - time (sec): 4.54 - samples/sec: 74.03 - lr: 0.050327 - momentum: 0.000000\n",
            "2025-05-01 08:15:25,402 epoch 6 - iter 24/38 - loss 0.13333457 - time (sec): 5.23 - samples/sec: 73.42 - lr: 0.050327 - momentum: 0.000000\n",
            "2025-05-01 08:15:26,058 epoch 6 - iter 27/38 - loss 0.14192910 - time (sec): 5.89 - samples/sec: 73.39 - lr: 0.050327 - momentum: 0.000000\n",
            "2025-05-01 08:15:26,693 epoch 6 - iter 30/38 - loss 0.13538456 - time (sec): 6.52 - samples/sec: 73.60 - lr: 0.050327 - momentum: 0.000000\n",
            "2025-05-01 08:15:27,378 epoch 6 - iter 33/38 - loss 0.13054878 - time (sec): 7.21 - samples/sec: 73.26 - lr: 0.050327 - momentum: 0.000000\n",
            "2025-05-01 08:15:28,164 epoch 6 - iter 36/38 - loss 0.13316534 - time (sec): 7.99 - samples/sec: 72.07 - lr: 0.050327 - momentum: 0.000000\n",
            "2025-05-01 08:15:28,576 ----------------------------------------------------------------------------------------------------\n",
            "2025-05-01 08:15:28,577 EPOCH 6 done: loss 0.1320 - lr: 0.050327\n"
          ]
        },
        {
          "output_type": "stream",
          "name": "stderr",
          "text": [
            "100%|██████████| 3/3 [00:01<00:00,  2.52it/s]"
          ]
        },
        {
          "output_type": "stream",
          "name": "stdout",
          "text": [
            "2025-05-01 08:15:29,796 DEV : loss 0.47065073251724243 - f1-score (micro avg)  0.9048\n",
            "2025-05-01 08:15:29,859  - 0 epochs without improvement\n",
            "2025-05-01 08:15:29,860 saving best model\n"
          ]
        },
        {
          "output_type": "stream",
          "name": "stderr",
          "text": [
            "\n"
          ]
        },
        {
          "output_type": "stream",
          "name": "stdout",
          "text": [
            "2025-05-01 08:15:31,079 ----------------------------------------------------------------------------------------------------\n",
            "2025-05-01 08:15:31,607 epoch 7 - iter 3/38 - loss 0.09442966 - time (sec): 0.52 - samples/sec: 91.89 - lr: 0.050327 - momentum: 0.000000\n",
            "2025-05-01 08:15:32,347 epoch 7 - iter 6/38 - loss 0.05687005 - time (sec): 1.26 - samples/sec: 76.03 - lr: 0.050327 - momentum: 0.000000\n",
            "2025-05-01 08:15:32,957 epoch 7 - iter 9/38 - loss 0.10480525 - time (sec): 1.87 - samples/sec: 76.91 - lr: 0.050327 - momentum: 0.000000\n",
            "2025-05-01 08:15:33,597 epoch 7 - iter 12/38 - loss 0.11173539 - time (sec): 2.51 - samples/sec: 76.42 - lr: 0.050327 - momentum: 0.000000\n",
            "2025-05-01 08:15:34,325 epoch 7 - iter 15/38 - loss 0.09170144 - time (sec): 3.24 - samples/sec: 74.05 - lr: 0.050327 - momentum: 0.000000\n",
            "2025-05-01 08:15:34,843 epoch 7 - iter 18/38 - loss 0.11577238 - time (sec): 3.76 - samples/sec: 76.63 - lr: 0.050327 - momentum: 0.000000\n",
            "2025-05-01 08:15:35,431 epoch 7 - iter 21/38 - loss 0.13322247 - time (sec): 4.35 - samples/sec: 77.30 - lr: 0.050327 - momentum: 0.000000\n",
            "2025-05-01 08:15:35,972 epoch 7 - iter 24/38 - loss 0.12497043 - time (sec): 4.89 - samples/sec: 78.57 - lr: 0.050327 - momentum: 0.000000\n",
            "2025-05-01 08:15:36,659 epoch 7 - iter 27/38 - loss 0.11725404 - time (sec): 5.58 - samples/sec: 77.49 - lr: 0.050327 - momentum: 0.000000\n",
            "2025-05-01 08:15:37,438 epoch 7 - iter 30/38 - loss 0.10852920 - time (sec): 6.35 - samples/sec: 75.55 - lr: 0.050327 - momentum: 0.000000\n",
            "2025-05-01 08:15:38,095 epoch 7 - iter 33/38 - loss 0.10293538 - time (sec): 7.01 - samples/sec: 75.31 - lr: 0.050327 - momentum: 0.000000\n",
            "2025-05-01 08:15:38,702 epoch 7 - iter 36/38 - loss 0.09751966 - time (sec): 7.62 - samples/sec: 75.62 - lr: 0.050327 - momentum: 0.000000\n",
            "2025-05-01 08:15:39,076 ----------------------------------------------------------------------------------------------------\n",
            "2025-05-01 08:15:39,078 EPOCH 7 done: loss 0.0935 - lr: 0.050327\n"
          ]
        },
        {
          "output_type": "stream",
          "name": "stderr",
          "text": [
            "100%|██████████| 3/3 [00:01<00:00,  2.20it/s]"
          ]
        },
        {
          "output_type": "stream",
          "name": "stdout",
          "text": [
            "2025-05-01 08:15:40,485 DEV : loss 0.6780446767807007 - f1-score (micro avg)  0.8571\n",
            "2025-05-01 08:15:40,573  - 1 epochs without improvement\n",
            "2025-05-01 08:15:40,574 ----------------------------------------------------------------------------------------------------\n"
          ]
        },
        {
          "output_type": "stream",
          "name": "stderr",
          "text": [
            "\n"
          ]
        },
        {
          "output_type": "stream",
          "name": "stdout",
          "text": [
            "2025-05-01 08:15:41,213 epoch 8 - iter 3/38 - loss 0.02207414 - time (sec): 0.64 - samples/sec: 75.45 - lr: 0.050327 - momentum: 0.000000\n",
            "2025-05-01 08:15:41,992 epoch 8 - iter 6/38 - loss 0.04674705 - time (sec): 1.42 - samples/sec: 67.81 - lr: 0.050327 - momentum: 0.000000\n",
            "2025-05-01 08:15:42,556 epoch 8 - iter 9/38 - loss 0.04898805 - time (sec): 1.98 - samples/sec: 72.73 - lr: 0.050327 - momentum: 0.000000\n",
            "2025-05-01 08:15:43,250 epoch 8 - iter 12/38 - loss 0.08655992 - time (sec): 2.67 - samples/sec: 71.81 - lr: 0.050327 - momentum: 0.000000\n",
            "2025-05-01 08:15:43,921 epoch 8 - iter 15/38 - loss 0.11061526 - time (sec): 3.34 - samples/sec: 71.75 - lr: 0.050327 - momentum: 0.000000\n",
            "2025-05-01 08:15:44,465 epoch 8 - iter 18/38 - loss 0.09367215 - time (sec): 3.89 - samples/sec: 74.06 - lr: 0.050327 - momentum: 0.000000\n",
            "2025-05-01 08:15:45,073 epoch 8 - iter 21/38 - loss 0.08807614 - time (sec): 4.50 - samples/sec: 74.73 - lr: 0.050327 - momentum: 0.000000\n",
            "2025-05-01 08:15:45,711 epoch 8 - iter 24/38 - loss 0.09758463 - time (sec): 5.13 - samples/sec: 74.79 - lr: 0.050327 - momentum: 0.000000\n",
            "2025-05-01 08:15:46,369 epoch 8 - iter 27/38 - loss 0.08886201 - time (sec): 5.79 - samples/sec: 74.58 - lr: 0.050327 - momentum: 0.000000\n",
            "2025-05-01 08:15:47,026 epoch 8 - iter 30/38 - loss 0.09140630 - time (sec): 6.45 - samples/sec: 74.42 - lr: 0.050327 - momentum: 0.000000\n",
            "2025-05-01 08:15:47,636 epoch 8 - iter 33/38 - loss 0.08874773 - time (sec): 7.06 - samples/sec: 74.80 - lr: 0.050327 - momentum: 0.000000\n",
            "2025-05-01 08:15:48,260 epoch 8 - iter 36/38 - loss 0.08883314 - time (sec): 7.68 - samples/sec: 74.97 - lr: 0.050327 - momentum: 0.000000\n",
            "2025-05-01 08:15:48,625 ----------------------------------------------------------------------------------------------------\n",
            "2025-05-01 08:15:48,625 EPOCH 8 done: loss 0.0867 - lr: 0.050327\n"
          ]
        },
        {
          "output_type": "stream",
          "name": "stderr",
          "text": [
            "100%|██████████| 3/3 [00:01<00:00,  2.75it/s]"
          ]
        },
        {
          "output_type": "stream",
          "name": "stdout",
          "text": [
            "2025-05-01 08:15:49,736 DEV : loss 0.6293829083442688 - f1-score (micro avg)  0.8929\n",
            "2025-05-01 08:15:49,776  - 2 epochs without improvement\n"
          ]
        },
        {
          "output_type": "stream",
          "name": "stderr",
          "text": [
            "\n"
          ]
        },
        {
          "output_type": "stream",
          "name": "stdout",
          "text": [
            "2025-05-01 08:15:50,882 ----------------------------------------------------------------------------------------------------\n",
            "2025-05-01 08:15:50,885 Loading model from best epoch ...\n"
          ]
        },
        {
          "output_type": "stream",
          "name": "stderr",
          "text": [
            "100%|██████████| 2/2 [00:00<00:00,  4.41it/s]"
          ]
        },
        {
          "output_type": "stream",
          "name": "stdout",
          "text": [
            "2025-05-01 08:15:53,606 \n",
            "Results:\n",
            "- F-score (micro) 0.8209\n",
            "- F-score (macro) 0.8184\n",
            "- Accuracy 0.8209\n",
            "\n",
            "By class:\n",
            "              precision    recall  f1-score   support\n",
            "\n",
            "          공통     0.8571    0.8182    0.8372        22\n",
            "          교량     0.8667    0.8667    0.8667        15\n",
            "       가설구조물     0.6667    0.8000    0.7273        10\n",
            "        굴착공사     1.0000    0.9000    0.9474        10\n",
            "        양중작업     0.5000    0.7500    0.6000         4\n",
            "          건축     1.0000    0.6000    0.7500         5\n",
            "                 1.0000    1.0000    1.0000         1\n",
            "\n",
            "    accuracy                         0.8209        67\n",
            "   macro avg     0.8415    0.8193    0.8184        67\n",
            "weighted avg     0.8436    0.8209    0.8256        67\n",
            "\n",
            "2025-05-01 08:15:53,607 ----------------------------------------------------------------------------------------------------\n"
          ]
        },
        {
          "output_type": "stream",
          "name": "stderr",
          "text": [
            "\n"
          ]
        },
        {
          "output_type": "stream",
          "name": "stdout",
          "text": [
            "  훈련 결과: {'test_score': 0.8208955223880597}\n",
            "  현재 폴드 정확도: 0.9048\n",
            "  폴드 3/5 학습 중...\n",
            "2025-05-01 08:15:58,938 Reading data from /tmp/tmprveu3ocn\n",
            "2025-05-01 08:15:58,942 Train: /tmp/tmprveu3ocn/train.txt\n",
            "2025-05-01 08:15:58,943 Dev: /tmp/tmprveu3ocn/dev.txt\n",
            "2025-05-01 08:15:58,944 Test: None\n",
            "2025-05-01 08:15:58,983 No test split found. Using 10% (i.e. 67 samples) of the train split as test data\n",
            "2025-05-01 08:15:58,984 Initialized corpus /tmp/tmprveu3ocn (label type name is 'class')\n",
            "2025-05-01 08:15:58,985 Computing label dictionary. Progress:\n"
          ]
        },
        {
          "output_type": "stream",
          "name": "stderr",
          "text": [
            "0it [00:00, ?it/s]\n",
            "603it [00:00, 2319.88it/s]"
          ]
        },
        {
          "output_type": "stream",
          "name": "stdout",
          "text": [
            "2025-05-01 08:15:59,252 Dictionary created for label 'class' with 7 values: 공통 (seen 178 times), 가설구조물 (seen 142 times), 교량 (seen 99 times), 굴착공사 (seen 75 times), 건축 (seen 54 times), 양중작업 (seen 54 times),  (seen 1 times)\n",
            "2025-05-01 08:15:59,262 ----------------------------------------------------------------------------------------------------\n",
            "2025-05-01 08:15:59,265 Model: \"TextClassifier(\n",
            "  (embeddings): TransformerDocumentEmbeddings(\n",
            "    (model): BertModel(\n",
            "      (embeddings): BertEmbeddings(\n",
            "        (word_embeddings): Embedding(32001, 768, padding_idx=0)\n",
            "        (position_embeddings): Embedding(512, 768)\n",
            "        (token_type_embeddings): Embedding(2, 768)\n",
            "        (LayerNorm): LayerNorm((768,), eps=1e-12, elementwise_affine=True)\n",
            "        (dropout): Dropout(p=0.1, inplace=False)\n",
            "      )\n",
            "      (encoder): BertEncoder(\n",
            "        (layer): ModuleList(\n",
            "          (0-11): 12 x BertLayer(\n",
            "            (attention): BertAttention(\n",
            "              (self): BertSdpaSelfAttention(\n",
            "                (query): Linear(in_features=768, out_features=768, bias=True)\n",
            "                (key): Linear(in_features=768, out_features=768, bias=True)\n",
            "                (value): Linear(in_features=768, out_features=768, bias=True)\n",
            "                (dropout): Dropout(p=0.1, inplace=False)\n",
            "              )\n",
            "              (output): BertSelfOutput(\n",
            "                (dense): Linear(in_features=768, out_features=768, bias=True)\n",
            "                (LayerNorm): LayerNorm((768,), eps=1e-12, elementwise_affine=True)\n",
            "                (dropout): Dropout(p=0.1, inplace=False)\n",
            "              )\n",
            "            )\n",
            "            (intermediate): BertIntermediate(\n",
            "              (dense): Linear(in_features=768, out_features=3072, bias=True)\n",
            "              (intermediate_act_fn): GELUActivation()\n",
            "            )\n",
            "            (output): BertOutput(\n",
            "              (dense): Linear(in_features=3072, out_features=768, bias=True)\n",
            "              (LayerNorm): LayerNorm((768,), eps=1e-12, elementwise_affine=True)\n",
            "              (dropout): Dropout(p=0.1, inplace=False)\n",
            "            )\n",
            "          )\n",
            "        )\n",
            "      )\n",
            "      (pooler): BertPooler(\n",
            "        (dense): Linear(in_features=768, out_features=768, bias=True)\n",
            "        (activation): Tanh()\n",
            "      )\n",
            "    )\n",
            "  )\n",
            "  (decoder): Linear(in_features=768, out_features=7, bias=True)\n",
            "  (dropout): Dropout(p=0.0, inplace=False)\n",
            "  (locked_dropout): LockedDropout(p=0.0)\n",
            "  (word_dropout): WordDropout(p=0.0)\n",
            "  (loss_function): CrossEntropyLoss()\n",
            "  (weights): None\n",
            "  (weight_tensor) None\n",
            ")\"\n",
            "2025-05-01 08:15:59,266 ----------------------------------------------------------------------------------------------------\n",
            "2025-05-01 08:15:59,266 Corpus: 603 train + 168 dev + 67 test sentences\n",
            "2025-05-01 08:15:59,267 ----------------------------------------------------------------------------------------------------\n",
            "2025-05-01 08:15:59,268 Train:  603 sentences\n",
            "2025-05-01 08:15:59,268         (train_with_dev=False, train_with_test=False)\n",
            "2025-05-01 08:15:59,269 ----------------------------------------------------------------------------------------------------\n",
            "2025-05-01 08:15:59,270 Training Params:\n",
            "2025-05-01 08:15:59,271  - learning_rate: \"0.05032745864710779\" \n",
            "2025-05-01 08:15:59,271  - mini_batch_size: \"16\"\n",
            "2025-05-01 08:15:59,273  - max_epochs: \"8\"\n",
            "2025-05-01 08:15:59,274  - shuffle: \"True\"\n",
            "2025-05-01 08:15:59,275 ----------------------------------------------------------------------------------------------------\n",
            "2025-05-01 08:15:59,276 Plugins:\n",
            "2025-05-01 08:15:59,277  - AnnealOnPlateau | patience: '3', anneal_factor: '0.5', min_learning_rate: '0.0001'\n",
            "2025-05-01 08:15:59,278 ----------------------------------------------------------------------------------------------------\n",
            "2025-05-01 08:15:59,279 Final evaluation on model from best epoch (best-model.pt)\n",
            "2025-05-01 08:15:59,279  - metric: \"('micro avg', 'f1-score')\"\n",
            "2025-05-01 08:15:59,280 ----------------------------------------------------------------------------------------------------\n",
            "2025-05-01 08:15:59,281 Computation:\n",
            "2025-05-01 08:15:59,281  - compute on device: cuda:0\n",
            "2025-05-01 08:15:59,282  - embedding storage: cpu\n",
            "2025-05-01 08:15:59,283 ----------------------------------------------------------------------------------------------------\n",
            "2025-05-01 08:15:59,283 Model training base path: \"/tmp/tmprveu3ocn/model\"\n",
            "2025-05-01 08:15:59,284 ----------------------------------------------------------------------------------------------------\n",
            "2025-05-01 08:15:59,284 ----------------------------------------------------------------------------------------------------\n"
          ]
        },
        {
          "output_type": "stream",
          "name": "stderr",
          "text": [
            "\n",
            "/usr/local/lib/python3.11/dist-packages/flair/trainers/trainer.py:545: FutureWarning: `torch.cuda.amp.GradScaler(args...)` is deprecated. Please use `torch.amp.GradScaler('cuda', args...)` instead.\n",
            "  scaler = torch.cuda.amp.GradScaler(enabled=use_amp and flair.device.type != \"cpu\")\n"
          ]
        },
        {
          "output_type": "stream",
          "name": "stdout",
          "text": [
            "2025-05-01 08:15:59,694 epoch 1 - iter 3/38 - loss 2.24848262 - time (sec): 0.41 - samples/sec: 117.71 - lr: 0.050327 - momentum: 0.000000\n",
            "2025-05-01 08:16:00,283 epoch 1 - iter 6/38 - loss 1.66073280 - time (sec): 1.00 - samples/sec: 96.33 - lr: 0.050327 - momentum: 0.000000\n",
            "2025-05-01 08:16:00,844 epoch 1 - iter 9/38 - loss 1.31492981 - time (sec): 1.56 - samples/sec: 92.48 - lr: 0.050327 - momentum: 0.000000\n",
            "2025-05-01 08:16:01,550 epoch 1 - iter 12/38 - loss 1.13624440 - time (sec): 2.26 - samples/sec: 84.82 - lr: 0.050327 - momentum: 0.000000\n",
            "2025-05-01 08:16:02,073 epoch 1 - iter 15/38 - loss 1.04962017 - time (sec): 2.79 - samples/sec: 86.14 - lr: 0.050327 - momentum: 0.000000\n",
            "2025-05-01 08:16:02,647 epoch 1 - iter 18/38 - loss 0.94493064 - time (sec): 3.36 - samples/sec: 85.71 - lr: 0.050327 - momentum: 0.000000\n",
            "2025-05-01 08:16:03,347 epoch 1 - iter 21/38 - loss 0.89532019 - time (sec): 4.06 - samples/sec: 82.74 - lr: 0.050327 - momentum: 0.000000\n",
            "2025-05-01 08:16:03,922 epoch 1 - iter 24/38 - loss 0.87740438 - time (sec): 4.64 - samples/sec: 82.85 - lr: 0.050327 - momentum: 0.000000\n",
            "2025-05-01 08:16:04,596 epoch 1 - iter 27/38 - loss 0.84161156 - time (sec): 5.31 - samples/sec: 81.36 - lr: 0.050327 - momentum: 0.000000\n",
            "2025-05-01 08:16:05,353 epoch 1 - iter 30/38 - loss 0.78969918 - time (sec): 6.07 - samples/sec: 79.12 - lr: 0.050327 - momentum: 0.000000\n",
            "2025-05-01 08:16:06,051 epoch 1 - iter 33/38 - loss 0.77115128 - time (sec): 6.76 - samples/sec: 78.05 - lr: 0.050327 - momentum: 0.000000\n",
            "2025-05-01 08:16:06,648 epoch 1 - iter 36/38 - loss 0.74339910 - time (sec): 7.36 - samples/sec: 78.24 - lr: 0.050327 - momentum: 0.000000\n",
            "2025-05-01 08:16:06,977 ----------------------------------------------------------------------------------------------------\n",
            "2025-05-01 08:16:06,982 EPOCH 1 done: loss 0.7558 - lr: 0.050327\n"
          ]
        },
        {
          "output_type": "stream",
          "name": "stderr",
          "text": [
            "100%|██████████| 3/3 [00:00<00:00,  3.07it/s]"
          ]
        },
        {
          "output_type": "stream",
          "name": "stdout",
          "text": [
            "2025-05-01 08:16:07,989 DEV : loss 0.17013466358184814 - f1-score (micro avg)  0.9583\n"
          ]
        },
        {
          "output_type": "stream",
          "name": "stderr",
          "text": [
            "\n"
          ]
        },
        {
          "output_type": "stream",
          "name": "stdout",
          "text": [
            "2025-05-01 08:16:08,045  - 0 epochs without improvement\n",
            "2025-05-01 08:16:08,047 saving best model\n",
            "2025-05-01 08:16:09,236 ----------------------------------------------------------------------------------------------------\n",
            "2025-05-01 08:16:09,674 epoch 2 - iter 3/38 - loss 0.27682553 - time (sec): 0.44 - samples/sec: 110.25 - lr: 0.050327 - momentum: 0.000000\n",
            "2025-05-01 08:16:10,331 epoch 2 - iter 6/38 - loss 0.27525952 - time (sec): 1.09 - samples/sec: 87.85 - lr: 0.050327 - momentum: 0.000000\n",
            "2025-05-01 08:16:10,902 epoch 2 - iter 9/38 - loss 0.27331628 - time (sec): 1.66 - samples/sec: 86.55 - lr: 0.050327 - momentum: 0.000000\n",
            "2025-05-01 08:16:11,504 epoch 2 - iter 12/38 - loss 0.25266853 - time (sec): 2.27 - samples/sec: 84.75 - lr: 0.050327 - momentum: 0.000000\n",
            "2025-05-01 08:16:12,096 epoch 2 - iter 15/38 - loss 0.26074409 - time (sec): 2.86 - samples/sec: 83.98 - lr: 0.050327 - momentum: 0.000000\n",
            "2025-05-01 08:16:12,697 epoch 2 - iter 18/38 - loss 0.26986567 - time (sec): 3.46 - samples/sec: 83.27 - lr: 0.050327 - momentum: 0.000000\n",
            "2025-05-01 08:16:13,425 epoch 2 - iter 21/38 - loss 0.27930564 - time (sec): 4.19 - samples/sec: 80.26 - lr: 0.050327 - momentum: 0.000000\n",
            "2025-05-01 08:16:13,983 epoch 2 - iter 24/38 - loss 0.28550954 - time (sec): 4.74 - samples/sec: 80.93 - lr: 0.050327 - momentum: 0.000000\n",
            "2025-05-01 08:16:14,706 epoch 2 - iter 27/38 - loss 0.28117066 - time (sec): 5.47 - samples/sec: 79.01 - lr: 0.050327 - momentum: 0.000000\n",
            "2025-05-01 08:16:15,332 epoch 2 - iter 30/38 - loss 0.30636916 - time (sec): 6.09 - samples/sec: 78.77 - lr: 0.050327 - momentum: 0.000000\n",
            "2025-05-01 08:16:15,964 epoch 2 - iter 33/38 - loss 0.30547530 - time (sec): 6.73 - samples/sec: 78.50 - lr: 0.050327 - momentum: 0.000000\n",
            "2025-05-01 08:16:16,704 epoch 2 - iter 36/38 - loss 0.31280844 - time (sec): 7.47 - samples/sec: 77.16 - lr: 0.050327 - momentum: 0.000000\n",
            "2025-05-01 08:16:17,070 ----------------------------------------------------------------------------------------------------\n",
            "2025-05-01 08:16:17,071 EPOCH 2 done: loss 0.3124 - lr: 0.050327\n"
          ]
        },
        {
          "output_type": "stream",
          "name": "stderr",
          "text": [
            "100%|██████████| 3/3 [00:00<00:00,  3.02it/s]\n"
          ]
        },
        {
          "output_type": "stream",
          "name": "stdout",
          "text": [
            "2025-05-01 08:16:18,153 DEV : loss 0.19517108798027039 - f1-score (micro avg)  0.9583\n",
            "2025-05-01 08:16:18,249  - 1 epochs without improvement\n",
            "2025-05-01 08:16:18,254 ----------------------------------------------------------------------------------------------------\n",
            "2025-05-01 08:16:18,862 epoch 3 - iter 3/38 - loss 0.17864542 - time (sec): 0.60 - samples/sec: 79.58 - lr: 0.050327 - momentum: 0.000000\n",
            "2025-05-01 08:16:19,627 epoch 3 - iter 6/38 - loss 0.12190514 - time (sec): 1.37 - samples/sec: 70.16 - lr: 0.050327 - momentum: 0.000000\n",
            "2025-05-01 08:16:20,371 epoch 3 - iter 9/38 - loss 0.20056882 - time (sec): 2.11 - samples/sec: 68.18 - lr: 0.050327 - momentum: 0.000000\n",
            "2025-05-01 08:16:20,988 epoch 3 - iter 12/38 - loss 0.20221118 - time (sec): 2.73 - samples/sec: 70.34 - lr: 0.050327 - momentum: 0.000000\n",
            "2025-05-01 08:16:21,708 epoch 3 - iter 15/38 - loss 0.17056208 - time (sec): 3.45 - samples/sec: 69.58 - lr: 0.050327 - momentum: 0.000000\n",
            "2025-05-01 08:16:22,516 epoch 3 - iter 18/38 - loss 0.17909681 - time (sec): 4.26 - samples/sec: 67.65 - lr: 0.050327 - momentum: 0.000000\n",
            "2025-05-01 08:16:23,122 epoch 3 - iter 21/38 - loss 0.26773688 - time (sec): 4.86 - samples/sec: 69.10 - lr: 0.050327 - momentum: 0.000000\n",
            "2025-05-01 08:16:23,844 epoch 3 - iter 24/38 - loss 0.24487026 - time (sec): 5.58 - samples/sec: 68.76 - lr: 0.050327 - momentum: 0.000000\n",
            "2025-05-01 08:16:24,477 epoch 3 - iter 27/38 - loss 0.24117374 - time (sec): 6.22 - samples/sec: 69.47 - lr: 0.050327 - momentum: 0.000000\n",
            "2025-05-01 08:16:25,087 epoch 3 - iter 30/38 - loss 0.23460988 - time (sec): 6.83 - samples/sec: 70.30 - lr: 0.050327 - momentum: 0.000000\n",
            "2025-05-01 08:16:25,664 epoch 3 - iter 33/38 - loss 0.22540100 - time (sec): 7.41 - samples/sec: 71.30 - lr: 0.050327 - momentum: 0.000000\n",
            "2025-05-01 08:16:26,277 epoch 3 - iter 36/38 - loss 0.21447465 - time (sec): 8.02 - samples/sec: 71.83 - lr: 0.050327 - momentum: 0.000000\n",
            "2025-05-01 08:16:26,697 ----------------------------------------------------------------------------------------------------\n",
            "2025-05-01 08:16:26,698 EPOCH 3 done: loss 0.2210 - lr: 0.050327\n"
          ]
        },
        {
          "output_type": "stream",
          "name": "stderr",
          "text": [
            "100%|██████████| 3/3 [00:01<00:00,  2.88it/s]"
          ]
        },
        {
          "output_type": "stream",
          "name": "stdout",
          "text": [
            "2025-05-01 08:16:27,760 DEV : loss 0.2843647301197052 - f1-score (micro avg)  0.9345\n"
          ]
        },
        {
          "output_type": "stream",
          "name": "stderr",
          "text": [
            "\n"
          ]
        },
        {
          "output_type": "stream",
          "name": "stdout",
          "text": [
            "2025-05-01 08:16:27,797  - 2 epochs without improvement\n",
            "2025-05-01 08:16:27,798 ----------------------------------------------------------------------------------------------------\n",
            "2025-05-01 08:16:28,376 epoch 4 - iter 3/38 - loss 0.26871024 - time (sec): 0.58 - samples/sec: 83.39 - lr: 0.050327 - momentum: 0.000000\n",
            "2025-05-01 08:16:28,891 epoch 4 - iter 6/38 - loss 0.22780668 - time (sec): 1.09 - samples/sec: 88.06 - lr: 0.050327 - momentum: 0.000000\n",
            "2025-05-01 08:16:29,477 epoch 4 - iter 9/38 - loss 0.18714840 - time (sec): 1.68 - samples/sec: 85.87 - lr: 0.050327 - momentum: 0.000000\n",
            "2025-05-01 08:16:30,165 epoch 4 - iter 12/38 - loss 0.15418597 - time (sec): 2.36 - samples/sec: 81.21 - lr: 0.050327 - momentum: 0.000000\n",
            "2025-05-01 08:16:30,644 epoch 4 - iter 15/38 - loss 0.20256385 - time (sec): 2.84 - samples/sec: 84.39 - lr: 0.050327 - momentum: 0.000000\n",
            "2025-05-01 08:16:31,359 epoch 4 - iter 18/38 - loss 0.19650588 - time (sec): 3.56 - samples/sec: 80.93 - lr: 0.050327 - momentum: 0.000000\n",
            "2025-05-01 08:16:31,987 epoch 4 - iter 21/38 - loss 0.18013679 - time (sec): 4.19 - samples/sec: 80.26 - lr: 0.050327 - momentum: 0.000000\n",
            "2025-05-01 08:16:32,540 epoch 4 - iter 24/38 - loss 0.16699784 - time (sec): 4.74 - samples/sec: 81.02 - lr: 0.050327 - momentum: 0.000000\n",
            "2025-05-01 08:16:33,297 epoch 4 - iter 27/38 - loss 0.15787899 - time (sec): 5.50 - samples/sec: 78.60 - lr: 0.050327 - momentum: 0.000000\n",
            "2025-05-01 08:16:33,962 epoch 4 - iter 30/38 - loss 0.16357370 - time (sec): 6.16 - samples/sec: 77.90 - lr: 0.050327 - momentum: 0.000000\n",
            "2025-05-01 08:16:34,667 epoch 4 - iter 33/38 - loss 0.15407658 - time (sec): 6.87 - samples/sec: 76.90 - lr: 0.050327 - momentum: 0.000000\n",
            "2025-05-01 08:16:35,314 epoch 4 - iter 36/38 - loss 0.16638020 - time (sec): 7.51 - samples/sec: 76.66 - lr: 0.050327 - momentum: 0.000000\n",
            "2025-05-01 08:16:35,704 ----------------------------------------------------------------------------------------------------\n",
            "2025-05-01 08:16:35,708 EPOCH 4 done: loss 0.1786 - lr: 0.050327\n"
          ]
        },
        {
          "output_type": "stream",
          "name": "stderr",
          "text": [
            "100%|██████████| 3/3 [00:01<00:00,  2.94it/s]"
          ]
        },
        {
          "output_type": "stream",
          "name": "stdout",
          "text": [
            "2025-05-01 08:16:36,749 DEV : loss 0.2469739317893982 - f1-score (micro avg)  0.9464\n"
          ]
        },
        {
          "output_type": "stream",
          "name": "stderr",
          "text": [
            "\n"
          ]
        },
        {
          "output_type": "stream",
          "name": "stdout",
          "text": [
            "2025-05-01 08:16:36,787  - 3 epochs without improvement\n",
            "2025-05-01 08:16:36,788 ----------------------------------------------------------------------------------------------------\n",
            "2025-05-01 08:16:37,372 epoch 5 - iter 3/38 - loss 0.01967841 - time (sec): 0.58 - samples/sec: 82.58 - lr: 0.050327 - momentum: 0.000000\n",
            "2025-05-01 08:16:38,094 epoch 5 - iter 6/38 - loss 0.05813030 - time (sec): 1.30 - samples/sec: 73.64 - lr: 0.050327 - momentum: 0.000000\n",
            "2025-05-01 08:16:38,625 epoch 5 - iter 9/38 - loss 0.12674076 - time (sec): 1.83 - samples/sec: 78.52 - lr: 0.050327 - momentum: 0.000000\n",
            "2025-05-01 08:16:39,233 epoch 5 - iter 12/38 - loss 0.11808002 - time (sec): 2.44 - samples/sec: 78.61 - lr: 0.050327 - momentum: 0.000000\n",
            "2025-05-01 08:16:39,824 epoch 5 - iter 15/38 - loss 0.12155837 - time (sec): 3.03 - samples/sec: 79.13 - lr: 0.050327 - momentum: 0.000000\n",
            "2025-05-01 08:16:40,351 epoch 5 - iter 18/38 - loss 0.12535816 - time (sec): 3.56 - samples/sec: 80.90 - lr: 0.050327 - momentum: 0.000000\n",
            "2025-05-01 08:16:40,912 epoch 5 - iter 21/38 - loss 0.11365913 - time (sec): 4.12 - samples/sec: 81.53 - lr: 0.050327 - momentum: 0.000000\n",
            "2025-05-01 08:16:41,599 epoch 5 - iter 24/38 - loss 0.10844964 - time (sec): 4.81 - samples/sec: 79.87 - lr: 0.050327 - momentum: 0.000000\n",
            "2025-05-01 08:16:42,341 epoch 5 - iter 27/38 - loss 0.13311179 - time (sec): 5.55 - samples/sec: 77.84 - lr: 0.050327 - momentum: 0.000000\n",
            "2025-05-01 08:16:42,956 epoch 5 - iter 30/38 - loss 0.12087845 - time (sec): 6.17 - samples/sec: 77.86 - lr: 0.050327 - momentum: 0.000000\n",
            "2025-05-01 08:16:43,604 epoch 5 - iter 33/38 - loss 0.11073375 - time (sec): 6.81 - samples/sec: 77.50 - lr: 0.050327 - momentum: 0.000000\n",
            "2025-05-01 08:16:44,241 epoch 5 - iter 36/38 - loss 0.10975499 - time (sec): 7.45 - samples/sec: 77.31 - lr: 0.050327 - momentum: 0.000000\n",
            "2025-05-01 08:16:44,625 ----------------------------------------------------------------------------------------------------\n",
            "2025-05-01 08:16:44,626 EPOCH 5 done: loss 0.1102 - lr: 0.050327\n"
          ]
        },
        {
          "output_type": "stream",
          "name": "stderr",
          "text": [
            "100%|██████████| 3/3 [00:01<00:00,  2.94it/s]"
          ]
        },
        {
          "output_type": "stream",
          "name": "stdout",
          "text": [
            "2025-05-01 08:16:45,669 DEV : loss 0.27261579036712646 - f1-score (micro avg)  0.9464\n"
          ]
        },
        {
          "output_type": "stream",
          "name": "stderr",
          "text": [
            "\n"
          ]
        },
        {
          "output_type": "stream",
          "name": "stdout",
          "text": [
            "2025-05-01 08:16:45,707  - 4 epochs without improvement (above 'patience')-> annealing learning_rate to [0.025163729323553895]\n",
            "2025-05-01 08:16:45,709 ----------------------------------------------------------------------------------------------------\n",
            "2025-05-01 08:16:46,169 epoch 6 - iter 3/38 - loss 0.02791257 - time (sec): 0.46 - samples/sec: 104.82 - lr: 0.025164 - momentum: 0.000000\n",
            "2025-05-01 08:16:46,908 epoch 6 - iter 6/38 - loss 0.01595764 - time (sec): 1.20 - samples/sec: 80.22 - lr: 0.025164 - momentum: 0.000000\n",
            "2025-05-01 08:16:47,585 epoch 6 - iter 9/38 - loss 0.01264701 - time (sec): 1.87 - samples/sec: 76.85 - lr: 0.025164 - momentum: 0.000000\n",
            "2025-05-01 08:16:48,191 epoch 6 - iter 12/38 - loss 0.02387852 - time (sec): 2.48 - samples/sec: 77.41 - lr: 0.025164 - momentum: 0.000000\n",
            "2025-05-01 08:16:48,811 epoch 6 - iter 15/38 - loss 0.03596077 - time (sec): 3.10 - samples/sec: 77.42 - lr: 0.025164 - momentum: 0.000000\n",
            "2025-05-01 08:16:49,524 epoch 6 - iter 18/38 - loss 0.04534831 - time (sec): 3.81 - samples/sec: 75.53 - lr: 0.025164 - momentum: 0.000000\n",
            "2025-05-01 08:16:50,205 epoch 6 - iter 21/38 - loss 0.03920211 - time (sec): 4.49 - samples/sec: 74.76 - lr: 0.025164 - momentum: 0.000000\n",
            "2025-05-01 08:16:50,840 epoch 6 - iter 24/38 - loss 0.04094824 - time (sec): 5.13 - samples/sec: 74.87 - lr: 0.025164 - momentum: 0.000000\n",
            "2025-05-01 08:16:51,376 epoch 6 - iter 27/38 - loss 0.05050766 - time (sec): 5.67 - samples/sec: 76.25 - lr: 0.025164 - momentum: 0.000000\n",
            "2025-05-01 08:16:52,054 epoch 6 - iter 30/38 - loss 0.04556247 - time (sec): 6.34 - samples/sec: 75.67 - lr: 0.025164 - momentum: 0.000000\n",
            "2025-05-01 08:16:52,779 epoch 6 - iter 33/38 - loss 0.04339343 - time (sec): 7.07 - samples/sec: 74.70 - lr: 0.025164 - momentum: 0.000000\n",
            "2025-05-01 08:16:53,413 epoch 6 - iter 36/38 - loss 0.04378246 - time (sec): 7.70 - samples/sec: 74.78 - lr: 0.025164 - momentum: 0.000000\n",
            "2025-05-01 08:16:53,834 ----------------------------------------------------------------------------------------------------\n",
            "2025-05-01 08:16:53,835 EPOCH 6 done: loss 0.0419 - lr: 0.025164\n"
          ]
        },
        {
          "output_type": "stream",
          "name": "stderr",
          "text": [
            "100%|██████████| 3/3 [00:01<00:00,  2.89it/s]"
          ]
        },
        {
          "output_type": "stream",
          "name": "stdout",
          "text": [
            "2025-05-01 08:16:54,896 DEV : loss 0.2650255858898163 - f1-score (micro avg)  0.9583\n"
          ]
        },
        {
          "output_type": "stream",
          "name": "stderr",
          "text": [
            "\n"
          ]
        },
        {
          "output_type": "stream",
          "name": "stdout",
          "text": [
            "2025-05-01 08:16:54,932  - 1 epochs without improvement\n",
            "2025-05-01 08:16:54,933 ----------------------------------------------------------------------------------------------------\n",
            "2025-05-01 08:16:55,533 epoch 7 - iter 3/38 - loss 0.00098082 - time (sec): 0.60 - samples/sec: 80.65 - lr: 0.025164 - momentum: 0.000000\n",
            "2025-05-01 08:16:56,212 epoch 7 - iter 6/38 - loss 0.00074739 - time (sec): 1.27 - samples/sec: 75.30 - lr: 0.025164 - momentum: 0.000000\n",
            "2025-05-01 08:16:56,964 epoch 7 - iter 9/38 - loss 0.00077813 - time (sec): 2.03 - samples/sec: 71.05 - lr: 0.025164 - momentum: 0.000000\n",
            "2025-05-01 08:16:57,579 epoch 7 - iter 12/38 - loss 0.00135596 - time (sec): 2.64 - samples/sec: 72.68 - lr: 0.025164 - momentum: 0.000000\n",
            "2025-05-01 08:16:58,169 epoch 7 - iter 15/38 - loss 0.00865120 - time (sec): 3.23 - samples/sec: 74.26 - lr: 0.025164 - momentum: 0.000000\n",
            "2025-05-01 08:16:58,808 epoch 7 - iter 18/38 - loss 0.00723839 - time (sec): 3.87 - samples/sec: 74.40 - lr: 0.025164 - momentum: 0.000000\n",
            "2025-05-01 08:16:59,495 epoch 7 - iter 21/38 - loss 0.00801028 - time (sec): 4.56 - samples/sec: 73.72 - lr: 0.025164 - momentum: 0.000000\n",
            "2025-05-01 08:17:00,038 epoch 7 - iter 24/38 - loss 0.00862184 - time (sec): 5.10 - samples/sec: 75.29 - lr: 0.025164 - momentum: 0.000000\n",
            "2025-05-01 08:17:00,571 epoch 7 - iter 27/38 - loss 0.01710881 - time (sec): 5.63 - samples/sec: 76.69 - lr: 0.025164 - momentum: 0.000000\n",
            "2025-05-01 08:17:01,359 epoch 7 - iter 30/38 - loss 0.01549509 - time (sec): 6.42 - samples/sec: 74.74 - lr: 0.025164 - momentum: 0.000000\n",
            "2025-05-01 08:17:01,994 epoch 7 - iter 33/38 - loss 0.01708300 - time (sec): 7.06 - samples/sec: 74.83 - lr: 0.025164 - momentum: 0.000000\n",
            "2025-05-01 08:17:02,592 epoch 7 - iter 36/38 - loss 0.01896245 - time (sec): 7.65 - samples/sec: 75.25 - lr: 0.025164 - momentum: 0.000000\n",
            "2025-05-01 08:17:03,002 ----------------------------------------------------------------------------------------------------\n",
            "2025-05-01 08:17:03,003 EPOCH 7 done: loss 0.0187 - lr: 0.025164\n"
          ]
        },
        {
          "output_type": "stream",
          "name": "stderr",
          "text": [
            "100%|██████████| 3/3 [00:01<00:00,  2.92it/s]"
          ]
        },
        {
          "output_type": "stream",
          "name": "stdout",
          "text": [
            "2025-05-01 08:17:04,050 DEV : loss 0.3197686970233917 - f1-score (micro avg)  0.9524\n"
          ]
        },
        {
          "output_type": "stream",
          "name": "stderr",
          "text": [
            "\n"
          ]
        },
        {
          "output_type": "stream",
          "name": "stdout",
          "text": [
            "2025-05-01 08:17:04,089  - 2 epochs without improvement\n",
            "2025-05-01 08:17:04,090 ----------------------------------------------------------------------------------------------------\n",
            "2025-05-01 08:17:04,545 epoch 8 - iter 3/38 - loss 0.00043883 - time (sec): 0.45 - samples/sec: 106.04 - lr: 0.025164 - momentum: 0.000000\n",
            "2025-05-01 08:17:05,156 epoch 8 - iter 6/38 - loss 0.03381117 - time (sec): 1.06 - samples/sec: 90.26 - lr: 0.025164 - momentum: 0.000000\n",
            "2025-05-01 08:17:05,763 epoch 8 - iter 9/38 - loss 0.02300816 - time (sec): 1.67 - samples/sec: 86.17 - lr: 0.025164 - momentum: 0.000000\n",
            "2025-05-01 08:17:06,316 epoch 8 - iter 12/38 - loss 0.03689639 - time (sec): 2.22 - samples/sec: 86.33 - lr: 0.025164 - momentum: 0.000000\n",
            "2025-05-01 08:17:06,972 epoch 8 - iter 15/38 - loss 0.02953678 - time (sec): 2.88 - samples/sec: 83.34 - lr: 0.025164 - momentum: 0.000000\n",
            "2025-05-01 08:17:07,641 epoch 8 - iter 18/38 - loss 0.02479942 - time (sec): 3.55 - samples/sec: 81.14 - lr: 0.025164 - momentum: 0.000000\n",
            "2025-05-01 08:17:08,339 epoch 8 - iter 21/38 - loss 0.02127306 - time (sec): 4.25 - samples/sec: 79.12 - lr: 0.025164 - momentum: 0.000000\n",
            "2025-05-01 08:17:08,933 epoch 8 - iter 24/38 - loss 0.01863824 - time (sec): 4.84 - samples/sec: 79.33 - lr: 0.025164 - momentum: 0.000000\n",
            "2025-05-01 08:17:09,614 epoch 8 - iter 27/38 - loss 0.01658317 - time (sec): 5.52 - samples/sec: 78.23 - lr: 0.025164 - momentum: 0.000000\n",
            "2025-05-01 08:17:10,298 epoch 8 - iter 30/38 - loss 0.01499858 - time (sec): 6.21 - samples/sec: 77.34 - lr: 0.025164 - momentum: 0.000000\n",
            "2025-05-01 08:17:10,971 epoch 8 - iter 33/38 - loss 0.02210902 - time (sec): 6.88 - samples/sec: 76.75 - lr: 0.025164 - momentum: 0.000000\n",
            "2025-05-01 08:17:11,695 epoch 8 - iter 36/38 - loss 0.02035962 - time (sec): 7.60 - samples/sec: 75.76 - lr: 0.025164 - momentum: 0.000000\n",
            "2025-05-01 08:17:12,087 ----------------------------------------------------------------------------------------------------\n",
            "2025-05-01 08:17:12,089 EPOCH 8 done: loss 0.0196 - lr: 0.025164\n"
          ]
        },
        {
          "output_type": "stream",
          "name": "stderr",
          "text": [
            "100%|██████████| 3/3 [00:00<00:00,  3.02it/s]"
          ]
        },
        {
          "output_type": "stream",
          "name": "stdout",
          "text": [
            "2025-05-01 08:17:13,126 DEV : loss 0.3481385409832001 - f1-score (micro avg)  0.9464\n"
          ]
        },
        {
          "output_type": "stream",
          "name": "stderr",
          "text": [
            "\n"
          ]
        },
        {
          "output_type": "stream",
          "name": "stdout",
          "text": [
            "2025-05-01 08:17:13,196  - 3 epochs without improvement\n",
            "2025-05-01 08:17:14,404 ----------------------------------------------------------------------------------------------------\n",
            "2025-05-01 08:17:14,410 Loading model from best epoch ...\n"
          ]
        },
        {
          "output_type": "stream",
          "name": "stderr",
          "text": [
            "100%|██████████| 2/2 [00:00<00:00,  6.05it/s]"
          ]
        },
        {
          "output_type": "stream",
          "name": "stdout",
          "text": [
            "2025-05-01 08:17:17,140 \n",
            "Results:\n",
            "- F-score (micro) 0.9403\n",
            "- F-score (macro) 0.804\n",
            "- Accuracy 0.9403\n",
            "\n",
            "By class:\n",
            "              precision    recall  f1-score   support\n",
            "\n",
            "       가설구조물     0.9444    1.0000    0.9714        17\n",
            "          공통     1.0000    1.0000    1.0000        17\n",
            "        굴착공사     1.0000    1.0000    1.0000        12\n",
            "          교량     0.8750    1.0000    0.9333         7\n",
            "          건축     1.0000    0.8571    0.9231         7\n",
            "        양중작업     0.6667    1.0000    0.8000         4\n",
            "                 0.0000    0.0000    0.0000         3\n",
            "\n",
            "    accuracy                         0.9403        67\n",
            "   macro avg     0.7837    0.8367    0.8040        67\n",
            "weighted avg     0.9082    0.9403    0.9210        67\n",
            "\n",
            "2025-05-01 08:17:17,141 ----------------------------------------------------------------------------------------------------\n"
          ]
        },
        {
          "output_type": "stream",
          "name": "stderr",
          "text": [
            "\n"
          ]
        },
        {
          "output_type": "stream",
          "name": "stdout",
          "text": [
            "  훈련 결과: {'test_score': 0.9402985074626866}\n",
            "  현재 폴드 정확도: 0.9583\n",
            "  폴드 4/5 학습 중...\n",
            "2025-05-01 08:17:21,920 Reading data from /tmp/tmpa40w623p\n",
            "2025-05-01 08:17:21,920 Train: /tmp/tmpa40w623p/train.txt\n",
            "2025-05-01 08:17:21,921 Dev: /tmp/tmpa40w623p/dev.txt\n",
            "2025-05-01 08:17:21,922 Test: None\n",
            "2025-05-01 08:17:21,968 No test split found. Using 10% (i.e. 67 samples) of the train split as test data\n",
            "2025-05-01 08:17:21,969 Initialized corpus /tmp/tmpa40w623p (label type name is 'class')\n",
            "2025-05-01 08:17:21,970 Computing label dictionary. Progress:\n"
          ]
        },
        {
          "output_type": "stream",
          "name": "stderr",
          "text": [
            "0it [00:00, ?it/s]\n",
            "604it [00:00, 4841.11it/s]"
          ]
        },
        {
          "output_type": "stream",
          "name": "stdout",
          "text": [
            "2025-05-01 08:17:22,100 Dictionary created for label 'class' with 7 values: 공통 (seen 177 times), 가설구조물 (seen 140 times), 교량 (seen 92 times), 굴착공사 (seen 81 times), 건축 (seen 56 times), 양중작업 (seen 54 times),  (seen 4 times)\n",
            "2025-05-01 08:17:22,108 ----------------------------------------------------------------------------------------------------\n",
            "2025-05-01 08:17:22,109 Model: \"TextClassifier(\n",
            "  (embeddings): TransformerDocumentEmbeddings(\n",
            "    (model): BertModel(\n",
            "      (embeddings): BertEmbeddings(\n",
            "        (word_embeddings): Embedding(32001, 768, padding_idx=0)\n",
            "        (position_embeddings): Embedding(512, 768)\n",
            "        (token_type_embeddings): Embedding(2, 768)\n",
            "        (LayerNorm): LayerNorm((768,), eps=1e-12, elementwise_affine=True)\n",
            "        (dropout): Dropout(p=0.1, inplace=False)\n",
            "      )\n",
            "      (encoder): BertEncoder(\n",
            "        (layer): ModuleList(\n",
            "          (0-11): 12 x BertLayer(\n",
            "            (attention): BertAttention(\n",
            "              (self): BertSdpaSelfAttention(\n",
            "                (query): Linear(in_features=768, out_features=768, bias=True)\n",
            "                (key): Linear(in_features=768, out_features=768, bias=True)\n",
            "                (value): Linear(in_features=768, out_features=768, bias=True)\n",
            "                (dropout): Dropout(p=0.1, inplace=False)\n",
            "              )\n",
            "              (output): BertSelfOutput(\n",
            "                (dense): Linear(in_features=768, out_features=768, bias=True)\n",
            "                (LayerNorm): LayerNorm((768,), eps=1e-12, elementwise_affine=True)\n",
            "                (dropout): Dropout(p=0.1, inplace=False)\n",
            "              )\n",
            "            )\n",
            "            (intermediate): BertIntermediate(\n",
            "              (dense): Linear(in_features=768, out_features=3072, bias=True)\n",
            "              (intermediate_act_fn): GELUActivation()\n",
            "            )\n",
            "            (output): BertOutput(\n",
            "              (dense): Linear(in_features=3072, out_features=768, bias=True)\n",
            "              (LayerNorm): LayerNorm((768,), eps=1e-12, elementwise_affine=True)\n",
            "              (dropout): Dropout(p=0.1, inplace=False)\n",
            "            )\n",
            "          )\n",
            "        )\n",
            "      )\n",
            "      (pooler): BertPooler(\n",
            "        (dense): Linear(in_features=768, out_features=768, bias=True)\n",
            "        (activation): Tanh()\n",
            "      )\n",
            "    )\n",
            "  )\n",
            "  (decoder): Linear(in_features=768, out_features=7, bias=True)\n",
            "  (dropout): Dropout(p=0.0, inplace=False)\n",
            "  (locked_dropout): LockedDropout(p=0.0)\n",
            "  (word_dropout): WordDropout(p=0.0)\n",
            "  (loss_function): CrossEntropyLoss()\n",
            "  (weights): None\n",
            "  (weight_tensor) None\n",
            ")\"\n",
            "2025-05-01 08:17:22,111 ----------------------------------------------------------------------------------------------------\n",
            "2025-05-01 08:17:22,113 Corpus: 604 train + 167 dev + 67 test sentences\n",
            "2025-05-01 08:17:22,114 ----------------------------------------------------------------------------------------------------\n",
            "2025-05-01 08:17:22,116 Train:  604 sentences\n",
            "2025-05-01 08:17:22,117         (train_with_dev=False, train_with_test=False)\n",
            "2025-05-01 08:17:22,119 ----------------------------------------------------------------------------------------------------\n",
            "2025-05-01 08:17:22,120 Training Params:\n",
            "2025-05-01 08:17:22,122  - learning_rate: \"0.05032745864710779\" \n",
            "2025-05-01 08:17:22,123  - mini_batch_size: \"16\"\n",
            "2025-05-01 08:17:22,124  - max_epochs: \"8\"\n",
            "2025-05-01 08:17:22,126  - shuffle: \"True\"\n",
            "2025-05-01 08:17:22,126 ----------------------------------------------------------------------------------------------------\n",
            "2025-05-01 08:17:22,128 Plugins:\n",
            "2025-05-01 08:17:22,130  - AnnealOnPlateau | patience: '3', anneal_factor: '0.5', min_learning_rate: '0.0001'\n",
            "2025-05-01 08:17:22,131 ----------------------------------------------------------------------------------------------------\n",
            "2025-05-01 08:17:22,132 Final evaluation on model from best epoch (best-model.pt)\n",
            "2025-05-01 08:17:22,132  - metric: \"('micro avg', 'f1-score')\"\n",
            "2025-05-01 08:17:22,134 ----------------------------------------------------------------------------------------------------\n",
            "2025-05-01 08:17:22,135 Computation:\n",
            "2025-05-01 08:17:22,135  - compute on device: cuda:0\n",
            "2025-05-01 08:17:22,136  - embedding storage: cpu\n",
            "2025-05-01 08:17:22,137 ----------------------------------------------------------------------------------------------------\n",
            "2025-05-01 08:17:22,139 Model training base path: \"/tmp/tmpa40w623p/model\"\n",
            "2025-05-01 08:17:22,140 ----------------------------------------------------------------------------------------------------\n",
            "2025-05-01 08:17:22,140 ----------------------------------------------------------------------------------------------------\n"
          ]
        },
        {
          "output_type": "stream",
          "name": "stderr",
          "text": [
            "\n",
            "/usr/local/lib/python3.11/dist-packages/flair/trainers/trainer.py:545: FutureWarning: `torch.cuda.amp.GradScaler(args...)` is deprecated. Please use `torch.amp.GradScaler('cuda', args...)` instead.\n",
            "  scaler = torch.cuda.amp.GradScaler(enabled=use_amp and flair.device.type != \"cpu\")\n"
          ]
        },
        {
          "output_type": "stream",
          "name": "stdout",
          "text": [
            "2025-05-01 08:17:22,609 epoch 1 - iter 3/38 - loss 2.50787981 - time (sec): 0.47 - samples/sec: 102.76 - lr: 0.050327 - momentum: 0.000000\n",
            "2025-05-01 08:17:23,262 epoch 1 - iter 6/38 - loss 1.63860222 - time (sec): 1.12 - samples/sec: 85.70 - lr: 0.050327 - momentum: 0.000000\n",
            "2025-05-01 08:17:24,028 epoch 1 - iter 9/38 - loss 1.33342675 - time (sec): 1.89 - samples/sec: 76.36 - lr: 0.050327 - momentum: 0.000000\n",
            "2025-05-01 08:17:24,640 epoch 1 - iter 12/38 - loss 1.26644128 - time (sec): 2.50 - samples/sec: 76.87 - lr: 0.050327 - momentum: 0.000000\n",
            "2025-05-01 08:17:25,376 epoch 1 - iter 15/38 - loss 1.05422340 - time (sec): 3.23 - samples/sec: 74.22 - lr: 0.050327 - momentum: 0.000000\n",
            "2025-05-01 08:17:25,939 epoch 1 - iter 18/38 - loss 0.91681375 - time (sec): 3.80 - samples/sec: 75.86 - lr: 0.050327 - momentum: 0.000000\n",
            "2025-05-01 08:17:26,576 epoch 1 - iter 21/38 - loss 0.81904276 - time (sec): 4.43 - samples/sec: 75.78 - lr: 0.050327 - momentum: 0.000000\n",
            "2025-05-01 08:17:27,213 epoch 1 - iter 24/38 - loss 0.75856696 - time (sec): 5.07 - samples/sec: 75.74 - lr: 0.050327 - momentum: 0.000000\n",
            "2025-05-01 08:17:27,810 epoch 1 - iter 27/38 - loss 0.74755495 - time (sec): 5.67 - samples/sec: 76.22 - lr: 0.050327 - momentum: 0.000000\n",
            "2025-05-01 08:17:28,360 epoch 1 - iter 30/38 - loss 0.71696271 - time (sec): 6.22 - samples/sec: 77.20 - lr: 0.050327 - momentum: 0.000000\n",
            "2025-05-01 08:17:29,039 epoch 1 - iter 33/38 - loss 0.68593290 - time (sec): 6.90 - samples/sec: 76.56 - lr: 0.050327 - momentum: 0.000000\n",
            "2025-05-01 08:17:29,635 epoch 1 - iter 36/38 - loss 0.64369441 - time (sec): 7.49 - samples/sec: 76.87 - lr: 0.050327 - momentum: 0.000000\n",
            "2025-05-01 08:17:30,000 ----------------------------------------------------------------------------------------------------\n",
            "2025-05-01 08:17:30,000 EPOCH 1 done: loss 0.6713 - lr: 0.050327\n"
          ]
        },
        {
          "output_type": "stream",
          "name": "stderr",
          "text": [
            "100%|██████████| 3/3 [00:01<00:00,  2.93it/s]"
          ]
        },
        {
          "output_type": "stream",
          "name": "stdout",
          "text": [
            "2025-05-01 08:17:31,047 DEV : loss 0.322968989610672 - f1-score (micro avg)  0.9222\n"
          ]
        },
        {
          "output_type": "stream",
          "name": "stderr",
          "text": [
            "\n"
          ]
        },
        {
          "output_type": "stream",
          "name": "stdout",
          "text": [
            "2025-05-01 08:17:31,087  - 0 epochs without improvement\n",
            "2025-05-01 08:17:31,088 saving best model\n",
            "2025-05-01 08:17:34,124 ----------------------------------------------------------------------------------------------------\n",
            "2025-05-01 08:17:34,660 epoch 2 - iter 3/38 - loss 0.50161953 - time (sec): 0.53 - samples/sec: 90.18 - lr: 0.050327 - momentum: 0.000000\n",
            "2025-05-01 08:17:35,287 epoch 2 - iter 6/38 - loss 0.33579726 - time (sec): 1.16 - samples/sec: 82.77 - lr: 0.050327 - momentum: 0.000000\n",
            "2025-05-01 08:17:36,002 epoch 2 - iter 9/38 - loss 0.34325531 - time (sec): 1.87 - samples/sec: 76.83 - lr: 0.050327 - momentum: 0.000000\n",
            "2025-05-01 08:17:36,578 epoch 2 - iter 12/38 - loss 0.28873582 - time (sec): 2.45 - samples/sec: 78.33 - lr: 0.050327 - momentum: 0.000000\n",
            "2025-05-01 08:17:37,319 epoch 2 - iter 15/38 - loss 0.30650718 - time (sec): 3.19 - samples/sec: 75.20 - lr: 0.050327 - momentum: 0.000000\n",
            "2025-05-01 08:17:37,844 epoch 2 - iter 18/38 - loss 0.29000142 - time (sec): 3.72 - samples/sec: 77.48 - lr: 0.050327 - momentum: 0.000000\n",
            "2025-05-01 08:17:38,457 epoch 2 - iter 21/38 - loss 0.26123042 - time (sec): 4.33 - samples/sec: 77.60 - lr: 0.050327 - momentum: 0.000000\n",
            "2025-05-01 08:17:39,025 epoch 2 - iter 24/38 - loss 0.25161559 - time (sec): 4.90 - samples/sec: 78.41 - lr: 0.050327 - momentum: 0.000000\n",
            "2025-05-01 08:17:39,689 epoch 2 - iter 27/38 - loss 0.24018997 - time (sec): 5.56 - samples/sec: 77.68 - lr: 0.050327 - momentum: 0.000000\n",
            "2025-05-01 08:17:40,337 epoch 2 - iter 30/38 - loss 0.25380391 - time (sec): 6.21 - samples/sec: 77.30 - lr: 0.050327 - momentum: 0.000000\n",
            "2025-05-01 08:17:40,923 epoch 2 - iter 33/38 - loss 0.25704124 - time (sec): 6.80 - samples/sec: 77.70 - lr: 0.050327 - momentum: 0.000000\n",
            "2025-05-01 08:17:41,523 epoch 2 - iter 36/38 - loss 0.28222728 - time (sec): 7.40 - samples/sec: 77.88 - lr: 0.050327 - momentum: 0.000000\n",
            "2025-05-01 08:17:41,908 ----------------------------------------------------------------------------------------------------\n",
            "2025-05-01 08:17:41,909 EPOCH 2 done: loss 0.2785 - lr: 0.050327\n"
          ]
        },
        {
          "output_type": "stream",
          "name": "stderr",
          "text": [
            "100%|██████████| 3/3 [00:01<00:00,  2.78it/s]\n"
          ]
        },
        {
          "output_type": "stream",
          "name": "stdout",
          "text": [
            "2025-05-01 08:17:43,011 DEV : loss 0.1625068336725235 - f1-score (micro avg)  0.9401\n",
            "2025-05-01 08:17:43,066  - 0 epochs without improvement\n",
            "2025-05-01 08:17:43,067 saving best model\n",
            "2025-05-01 08:17:44,280 ----------------------------------------------------------------------------------------------------\n",
            "2025-05-01 08:17:44,839 epoch 3 - iter 3/38 - loss 0.04148756 - time (sec): 0.56 - samples/sec: 86.34 - lr: 0.050327 - momentum: 0.000000\n",
            "2025-05-01 08:17:45,531 epoch 3 - iter 6/38 - loss 0.05369051 - time (sec): 1.25 - samples/sec: 76.88 - lr: 0.050327 - momentum: 0.000000\n",
            "2025-05-01 08:17:46,044 epoch 3 - iter 9/38 - loss 0.10186088 - time (sec): 1.76 - samples/sec: 81.77 - lr: 0.050327 - momentum: 0.000000\n",
            "2025-05-01 08:17:46,705 epoch 3 - iter 12/38 - loss 0.11850723 - time (sec): 2.42 - samples/sec: 79.26 - lr: 0.050327 - momentum: 0.000000\n",
            "2025-05-01 08:17:47,307 epoch 3 - iter 15/38 - loss 0.15639102 - time (sec): 3.02 - samples/sec: 79.37 - lr: 0.050327 - momentum: 0.000000\n",
            "2025-05-01 08:17:47,878 epoch 3 - iter 18/38 - loss 0.16919665 - time (sec): 3.60 - samples/sec: 80.10 - lr: 0.050327 - momentum: 0.000000\n",
            "2025-05-01 08:17:48,456 epoch 3 - iter 21/38 - loss 0.18373004 - time (sec): 4.17 - samples/sec: 80.50 - lr: 0.050327 - momentum: 0.000000\n",
            "2025-05-01 08:17:49,045 epoch 3 - iter 24/38 - loss 0.20884409 - time (sec): 4.76 - samples/sec: 80.64 - lr: 0.050327 - momentum: 0.000000\n",
            "2025-05-01 08:17:49,616 epoch 3 - iter 27/38 - loss 0.19391118 - time (sec): 5.33 - samples/sec: 81.00 - lr: 0.050327 - momentum: 0.000000\n",
            "2025-05-01 08:17:50,269 epoch 3 - iter 30/38 - loss 0.19457503 - time (sec): 5.99 - samples/sec: 80.18 - lr: 0.050327 - momentum: 0.000000\n",
            "2025-05-01 08:17:50,930 epoch 3 - iter 33/38 - loss 0.18920856 - time (sec): 6.65 - samples/sec: 79.43 - lr: 0.050327 - momentum: 0.000000\n",
            "2025-05-01 08:17:51,619 epoch 3 - iter 36/38 - loss 0.18703442 - time (sec): 7.34 - samples/sec: 78.51 - lr: 0.050327 - momentum: 0.000000\n",
            "2025-05-01 08:17:52,093 ----------------------------------------------------------------------------------------------------\n",
            "2025-05-01 08:17:52,098 EPOCH 3 done: loss 0.1797 - lr: 0.050327\n"
          ]
        },
        {
          "output_type": "stream",
          "name": "stderr",
          "text": [
            "100%|██████████| 3/3 [00:01<00:00,  2.74it/s]\n"
          ]
        },
        {
          "output_type": "stream",
          "name": "stdout",
          "text": [
            "2025-05-01 08:17:53,220 DEV : loss 0.24150680005550385 - f1-score (micro avg)  0.9401\n",
            "2025-05-01 08:17:53,273  - 1 epochs without improvement\n",
            "2025-05-01 08:17:53,276 ----------------------------------------------------------------------------------------------------\n",
            "2025-05-01 08:17:53,905 epoch 4 - iter 3/38 - loss 0.13647172 - time (sec): 0.63 - samples/sec: 76.65 - lr: 0.050327 - momentum: 0.000000\n",
            "2025-05-01 08:17:54,532 epoch 4 - iter 6/38 - loss 0.09140591 - time (sec): 1.25 - samples/sec: 76.59 - lr: 0.050327 - momentum: 0.000000\n",
            "2025-05-01 08:17:55,221 epoch 4 - iter 9/38 - loss 0.09209284 - time (sec): 1.94 - samples/sec: 74.14 - lr: 0.050327 - momentum: 0.000000\n",
            "2025-05-01 08:17:55,840 epoch 4 - iter 12/38 - loss 0.12892349 - time (sec): 2.56 - samples/sec: 74.95 - lr: 0.050327 - momentum: 0.000000\n",
            "2025-05-01 08:17:56,574 epoch 4 - iter 15/38 - loss 0.11113089 - time (sec): 3.30 - samples/sec: 72.83 - lr: 0.050327 - momentum: 0.000000\n",
            "2025-05-01 08:17:57,257 epoch 4 - iter 18/38 - loss 0.10749251 - time (sec): 3.98 - samples/sec: 72.40 - lr: 0.050327 - momentum: 0.000000\n",
            "2025-05-01 08:17:57,918 epoch 4 - iter 21/38 - loss 0.14951673 - time (sec): 4.64 - samples/sec: 72.42 - lr: 0.050327 - momentum: 0.000000\n",
            "2025-05-01 08:17:58,532 epoch 4 - iter 24/38 - loss 0.15208117 - time (sec): 5.25 - samples/sec: 73.10 - lr: 0.050327 - momentum: 0.000000\n",
            "2025-05-01 08:17:59,078 epoch 4 - iter 27/38 - loss 0.14980106 - time (sec): 5.80 - samples/sec: 74.48 - lr: 0.050327 - momentum: 0.000000\n",
            "2025-05-01 08:17:59,761 epoch 4 - iter 30/38 - loss 0.14640276 - time (sec): 6.48 - samples/sec: 74.05 - lr: 0.050327 - momentum: 0.000000\n",
            "2025-05-01 08:18:00,414 epoch 4 - iter 33/38 - loss 0.13442740 - time (sec): 7.14 - samples/sec: 73.99 - lr: 0.050327 - momentum: 0.000000\n",
            "2025-05-01 08:18:01,099 epoch 4 - iter 36/38 - loss 0.12509908 - time (sec): 7.82 - samples/sec: 73.65 - lr: 0.050327 - momentum: 0.000000\n",
            "2025-05-01 08:18:01,484 ----------------------------------------------------------------------------------------------------\n",
            "2025-05-01 08:18:01,485 EPOCH 4 done: loss 0.1320 - lr: 0.050327\n"
          ]
        },
        {
          "output_type": "stream",
          "name": "stderr",
          "text": [
            "100%|██████████| 3/3 [00:01<00:00,  2.84it/s]"
          ]
        },
        {
          "output_type": "stream",
          "name": "stdout",
          "text": [
            "2025-05-01 08:18:02,563 DEV : loss 0.16096295416355133 - f1-score (micro avg)  0.9641\n"
          ]
        },
        {
          "output_type": "stream",
          "name": "stderr",
          "text": [
            "\n"
          ]
        },
        {
          "output_type": "stream",
          "name": "stdout",
          "text": [
            "2025-05-01 08:18:02,602  - 0 epochs without improvement\n",
            "2025-05-01 08:18:02,603 saving best model\n",
            "2025-05-01 08:18:03,824 ----------------------------------------------------------------------------------------------------\n",
            "2025-05-01 08:18:04,330 epoch 5 - iter 3/38 - loss 0.14026909 - time (sec): 0.50 - samples/sec: 95.39 - lr: 0.050327 - momentum: 0.000000\n",
            "2025-05-01 08:18:05,110 epoch 5 - iter 6/38 - loss 0.07245050 - time (sec): 1.28 - samples/sec: 74.80 - lr: 0.050327 - momentum: 0.000000\n",
            "2025-05-01 08:18:05,690 epoch 5 - iter 9/38 - loss 0.05963151 - time (sec): 1.86 - samples/sec: 77.29 - lr: 0.050327 - momentum: 0.000000\n",
            "2025-05-01 08:18:06,406 epoch 5 - iter 12/38 - loss 0.09809272 - time (sec): 2.58 - samples/sec: 74.45 - lr: 0.050327 - momentum: 0.000000\n",
            "2025-05-01 08:18:07,085 epoch 5 - iter 15/38 - loss 0.10624994 - time (sec): 3.26 - samples/sec: 73.65 - lr: 0.050327 - momentum: 0.000000\n",
            "2025-05-01 08:18:07,743 epoch 5 - iter 18/38 - loss 0.12573252 - time (sec): 3.92 - samples/sec: 73.55 - lr: 0.050327 - momentum: 0.000000\n",
            "2025-05-01 08:18:08,443 epoch 5 - iter 21/38 - loss 0.12212499 - time (sec): 4.62 - samples/sec: 72.78 - lr: 0.050327 - momentum: 0.000000\n",
            "2025-05-01 08:18:09,059 epoch 5 - iter 24/38 - loss 0.12505813 - time (sec): 5.23 - samples/sec: 73.39 - lr: 0.050327 - momentum: 0.000000\n",
            "2025-05-01 08:18:09,641 epoch 5 - iter 27/38 - loss 0.12542555 - time (sec): 5.81 - samples/sec: 74.30 - lr: 0.050327 - momentum: 0.000000\n",
            "2025-05-01 08:18:10,312 epoch 5 - iter 30/38 - loss 0.12018129 - time (sec): 6.48 - samples/sec: 74.02 - lr: 0.050327 - momentum: 0.000000\n",
            "2025-05-01 08:18:10,864 epoch 5 - iter 33/38 - loss 0.11248334 - time (sec): 7.04 - samples/sec: 75.03 - lr: 0.050327 - momentum: 0.000000\n",
            "2025-05-01 08:18:11,486 epoch 5 - iter 36/38 - loss 0.10993497 - time (sec): 7.66 - samples/sec: 75.21 - lr: 0.050327 - momentum: 0.000000\n",
            "2025-05-01 08:18:11,878 ----------------------------------------------------------------------------------------------------\n",
            "2025-05-01 08:18:11,879 EPOCH 5 done: loss 0.1056 - lr: 0.050327\n"
          ]
        },
        {
          "output_type": "stream",
          "name": "stderr",
          "text": [
            "100%|██████████| 3/3 [00:01<00:00,  2.71it/s]\n"
          ]
        },
        {
          "output_type": "stream",
          "name": "stdout",
          "text": [
            "2025-05-01 08:18:13,012 DEV : loss 0.23478756844997406 - f1-score (micro avg)  0.9401\n",
            "2025-05-01 08:18:13,047  - 1 epochs without improvement\n",
            "2025-05-01 08:18:13,048 ----------------------------------------------------------------------------------------------------\n",
            "2025-05-01 08:18:13,619 epoch 6 - iter 3/38 - loss 0.12465567 - time (sec): 0.57 - samples/sec: 84.41 - lr: 0.050327 - momentum: 0.000000\n",
            "2025-05-01 08:18:14,215 epoch 6 - iter 6/38 - loss 0.10823992 - time (sec): 1.17 - samples/sec: 82.39 - lr: 0.050327 - momentum: 0.000000\n",
            "2025-05-01 08:18:14,717 epoch 6 - iter 9/38 - loss 0.14673162 - time (sec): 1.67 - samples/sec: 86.39 - lr: 0.050327 - momentum: 0.000000\n",
            "2025-05-01 08:18:15,486 epoch 6 - iter 12/38 - loss 0.16967453 - time (sec): 2.44 - samples/sec: 78.81 - lr: 0.050327 - momentum: 0.000000\n",
            "2025-05-01 08:18:16,179 epoch 6 - iter 15/38 - loss 0.14414859 - time (sec): 3.13 - samples/sec: 76.70 - lr: 0.050327 - momentum: 0.000000\n",
            "2025-05-01 08:18:16,736 epoch 6 - iter 18/38 - loss 0.12450179 - time (sec): 3.69 - samples/sec: 78.13 - lr: 0.050327 - momentum: 0.000000\n",
            "2025-05-01 08:18:17,431 epoch 6 - iter 21/38 - loss 0.11055517 - time (sec): 4.38 - samples/sec: 76.70 - lr: 0.050327 - momentum: 0.000000\n",
            "2025-05-01 08:18:18,044 epoch 6 - iter 24/38 - loss 0.11506251 - time (sec): 4.99 - samples/sec: 76.89 - lr: 0.050327 - momentum: 0.000000\n",
            "2025-05-01 08:18:18,596 epoch 6 - iter 27/38 - loss 0.10496905 - time (sec): 5.55 - samples/sec: 77.89 - lr: 0.050327 - momentum: 0.000000\n",
            "2025-05-01 08:18:19,211 epoch 6 - iter 30/38 - loss 0.10650873 - time (sec): 6.16 - samples/sec: 77.91 - lr: 0.050327 - momentum: 0.000000\n",
            "2025-05-01 08:18:19,883 epoch 6 - iter 33/38 - loss 0.09897951 - time (sec): 6.83 - samples/sec: 77.27 - lr: 0.050327 - momentum: 0.000000\n",
            "2025-05-01 08:18:20,485 epoch 6 - iter 36/38 - loss 0.10942698 - time (sec): 7.44 - samples/sec: 77.47 - lr: 0.050327 - momentum: 0.000000\n",
            "2025-05-01 08:18:20,924 ----------------------------------------------------------------------------------------------------\n",
            "2025-05-01 08:18:20,925 EPOCH 6 done: loss 0.1044 - lr: 0.050327\n"
          ]
        },
        {
          "output_type": "stream",
          "name": "stderr",
          "text": [
            "100%|██████████| 3/3 [00:01<00:00,  2.80it/s]\n"
          ]
        },
        {
          "output_type": "stream",
          "name": "stdout",
          "text": [
            "2025-05-01 08:18:22,019 DEV : loss 0.3112974464893341 - f1-score (micro avg)  0.9341\n",
            "2025-05-01 08:18:22,054  - 2 epochs without improvement\n",
            "2025-05-01 08:18:22,055 ----------------------------------------------------------------------------------------------------\n",
            "2025-05-01 08:18:22,538 epoch 7 - iter 3/38 - loss 0.00468647 - time (sec): 0.48 - samples/sec: 100.03 - lr: 0.050327 - momentum: 0.000000\n",
            "2025-05-01 08:18:23,238 epoch 7 - iter 6/38 - loss 0.00304567 - time (sec): 1.18 - samples/sec: 81.33 - lr: 0.050327 - momentum: 0.000000\n",
            "2025-05-01 08:18:23,821 epoch 7 - iter 9/38 - loss 0.00226784 - time (sec): 1.76 - samples/sec: 81.69 - lr: 0.050327 - momentum: 0.000000\n",
            "2025-05-01 08:18:24,400 epoch 7 - iter 12/38 - loss 0.00184734 - time (sec): 2.34 - samples/sec: 81.98 - lr: 0.050327 - momentum: 0.000000\n",
            "2025-05-01 08:18:24,978 epoch 7 - iter 15/38 - loss 0.03023275 - time (sec): 2.92 - samples/sec: 82.20 - lr: 0.050327 - momentum: 0.000000\n",
            "2025-05-01 08:18:25,679 epoch 7 - iter 18/38 - loss 0.02521794 - time (sec): 3.62 - samples/sec: 79.54 - lr: 0.050327 - momentum: 0.000000\n",
            "2025-05-01 08:18:26,407 epoch 7 - iter 21/38 - loss 0.02777798 - time (sec): 4.35 - samples/sec: 77.26 - lr: 0.050327 - momentum: 0.000000\n",
            "2025-05-01 08:18:27,101 epoch 7 - iter 24/38 - loss 0.02450856 - time (sec): 5.04 - samples/sec: 76.14 - lr: 0.050327 - momentum: 0.000000\n",
            "2025-05-01 08:18:27,764 epoch 7 - iter 27/38 - loss 0.02227814 - time (sec): 5.71 - samples/sec: 75.70 - lr: 0.050327 - momentum: 0.000000\n",
            "2025-05-01 08:18:28,394 epoch 7 - iter 30/38 - loss 0.04797557 - time (sec): 6.34 - samples/sec: 75.75 - lr: 0.050327 - momentum: 0.000000\n",
            "2025-05-01 08:18:29,173 epoch 7 - iter 33/38 - loss 0.05762979 - time (sec): 7.11 - samples/sec: 74.21 - lr: 0.050327 - momentum: 0.000000\n",
            "2025-05-01 08:18:29,733 epoch 7 - iter 36/38 - loss 0.05291714 - time (sec): 7.67 - samples/sec: 75.05 - lr: 0.050327 - momentum: 0.000000\n",
            "2025-05-01 08:18:30,119 ----------------------------------------------------------------------------------------------------\n",
            "2025-05-01 08:18:30,120 EPOCH 7 done: loss 0.0516 - lr: 0.050327\n"
          ]
        },
        {
          "output_type": "stream",
          "name": "stderr",
          "text": [
            "100%|██████████| 3/3 [00:01<00:00,  2.81it/s]\n"
          ]
        },
        {
          "output_type": "stream",
          "name": "stdout",
          "text": [
            "2025-05-01 08:18:31,218 DEV : loss 0.5167253017425537 - f1-score (micro avg)  0.8982\n",
            "2025-05-01 08:18:31,278  - 3 epochs without improvement\n",
            "2025-05-01 08:18:31,279 ----------------------------------------------------------------------------------------------------\n",
            "2025-05-01 08:18:31,805 epoch 8 - iter 3/38 - loss 0.16042374 - time (sec): 0.52 - samples/sec: 92.26 - lr: 0.050327 - momentum: 0.000000\n",
            "2025-05-01 08:18:32,526 epoch 8 - iter 6/38 - loss 0.08394397 - time (sec): 1.24 - samples/sec: 77.34 - lr: 0.050327 - momentum: 0.000000\n",
            "2025-05-01 08:18:33,123 epoch 8 - iter 9/38 - loss 0.05639951 - time (sec): 1.84 - samples/sec: 78.34 - lr: 0.050327 - momentum: 0.000000\n",
            "2025-05-01 08:18:33,690 epoch 8 - iter 12/38 - loss 0.04396510 - time (sec): 2.41 - samples/sec: 79.80 - lr: 0.050327 - momentum: 0.000000\n",
            "2025-05-01 08:18:34,344 epoch 8 - iter 15/38 - loss 0.04472144 - time (sec): 3.06 - samples/sec: 78.46 - lr: 0.050327 - momentum: 0.000000\n",
            "2025-05-01 08:18:34,882 epoch 8 - iter 18/38 - loss 0.04012853 - time (sec): 3.60 - samples/sec: 80.05 - lr: 0.050327 - momentum: 0.000000\n",
            "2025-05-01 08:18:35,550 epoch 8 - iter 21/38 - loss 0.03448366 - time (sec): 4.27 - samples/sec: 78.77 - lr: 0.050327 - momentum: 0.000000\n",
            "2025-05-01 08:18:36,154 epoch 8 - iter 24/38 - loss 0.03773775 - time (sec): 4.87 - samples/sec: 78.85 - lr: 0.050327 - momentum: 0.000000\n",
            "2025-05-01 08:18:36,750 epoch 8 - iter 27/38 - loss 0.03419517 - time (sec): 5.47 - samples/sec: 79.04 - lr: 0.050327 - momentum: 0.000000\n",
            "2025-05-01 08:18:37,417 epoch 8 - iter 30/38 - loss 0.04795010 - time (sec): 6.13 - samples/sec: 78.27 - lr: 0.050327 - momentum: 0.000000\n",
            "2025-05-01 08:18:38,100 epoch 8 - iter 33/38 - loss 0.04404803 - time (sec): 6.82 - samples/sec: 77.47 - lr: 0.050327 - momentum: 0.000000\n",
            "2025-05-01 08:18:38,858 epoch 8 - iter 36/38 - loss 0.04459649 - time (sec): 7.57 - samples/sec: 76.05 - lr: 0.050327 - momentum: 0.000000\n",
            "2025-05-01 08:18:39,247 ----------------------------------------------------------------------------------------------------\n",
            "2025-05-01 08:18:39,248 EPOCH 8 done: loss 0.0439 - lr: 0.050327\n"
          ]
        },
        {
          "output_type": "stream",
          "name": "stderr",
          "text": [
            "100%|██████████| 3/3 [00:01<00:00,  2.85it/s]\n"
          ]
        },
        {
          "output_type": "stream",
          "name": "stdout",
          "text": [
            "2025-05-01 08:18:40,330 DEV : loss 0.7095023393630981 - f1-score (micro avg)  0.9102\n",
            "2025-05-01 08:18:40,365  - 4 epochs without improvement (above 'patience')-> annealing learning_rate to [0.025163729323553895]\n",
            "2025-05-01 08:18:41,469 ----------------------------------------------------------------------------------------------------\n",
            "2025-05-01 08:18:41,471 Loading model from best epoch ...\n"
          ]
        },
        {
          "output_type": "stream",
          "name": "stderr",
          "text": [
            "100%|██████████| 2/2 [00:00<00:00,  4.07it/s]"
          ]
        },
        {
          "output_type": "stream",
          "name": "stdout",
          "text": [
            "2025-05-01 08:18:44,262 \n",
            "Results:\n",
            "- F-score (micro) 0.8507\n",
            "- F-score (macro) 0.7236\n",
            "- Accuracy 0.8507\n",
            "\n",
            "By class:\n",
            "              precision    recall  f1-score   support\n",
            "\n",
            "       가설구조물     1.0000    0.8333    0.9091        18\n",
            "          공통     0.9286    0.7222    0.8125        18\n",
            "          교량     0.8125    1.0000    0.8966        13\n",
            "        굴착공사     0.8571    0.8571    0.8571         7\n",
            "          건축     0.8571    1.0000    0.9231         6\n",
            "        양중작업     0.5714    0.8000    0.6667         5\n",
            "                 0.0000    0.0000    0.0000         0\n",
            "\n",
            "    accuracy                         0.8507        67\n",
            "   macro avg     0.7181    0.7447    0.7236        67\n",
            "weighted avg     0.8847    0.8507    0.8584        67\n",
            "\n",
            "2025-05-01 08:18:44,262 ----------------------------------------------------------------------------------------------------\n"
          ]
        },
        {
          "output_type": "stream",
          "name": "stderr",
          "text": [
            "\n"
          ]
        },
        {
          "output_type": "stream",
          "name": "stdout",
          "text": [
            "  훈련 결과: {'test_score': 0.8507462686567164}\n",
            "  현재 폴드 정확도: 0.9641\n",
            "  폴드 5/5 학습 중...\n",
            "2025-05-01 08:18:49,597 Reading data from /tmp/tmpsxh0u8j1\n",
            "2025-05-01 08:18:49,598 Train: /tmp/tmpsxh0u8j1/train.txt\n",
            "2025-05-01 08:18:49,599 Dev: /tmp/tmpsxh0u8j1/dev.txt\n",
            "2025-05-01 08:18:49,599 Test: None\n",
            "2025-05-01 08:18:49,643 No test split found. Using 10% (i.e. 67 samples) of the train split as test data\n",
            "2025-05-01 08:18:49,644 Initialized corpus /tmp/tmpsxh0u8j1 (label type name is 'class')\n",
            "2025-05-01 08:18:49,645 Computing label dictionary. Progress:\n"
          ]
        },
        {
          "output_type": "stream",
          "name": "stderr",
          "text": [
            "0it [00:00, ?it/s]\n",
            "604it [00:00, 4988.83it/s]"
          ]
        },
        {
          "output_type": "stream",
          "name": "stdout",
          "text": [
            "2025-05-01 08:18:49,772 Dictionary created for label 'class' with 7 values: 공통 (seen 179 times), 가설구조물 (seen 143 times), 교량 (seen 92 times), 굴착공사 (seen 78 times), 건축 (seen 54 times), 양중작업 (seen 54 times),  (seen 4 times)\n",
            "2025-05-01 08:18:49,779 ----------------------------------------------------------------------------------------------------\n",
            "2025-05-01 08:18:49,782 Model: \"TextClassifier(\n",
            "  (embeddings): TransformerDocumentEmbeddings(\n",
            "    (model): BertModel(\n",
            "      (embeddings): BertEmbeddings(\n",
            "        (word_embeddings): Embedding(32001, 768, padding_idx=0)\n",
            "        (position_embeddings): Embedding(512, 768)\n",
            "        (token_type_embeddings): Embedding(2, 768)\n",
            "        (LayerNorm): LayerNorm((768,), eps=1e-12, elementwise_affine=True)\n",
            "        (dropout): Dropout(p=0.1, inplace=False)\n",
            "      )\n",
            "      (encoder): BertEncoder(\n",
            "        (layer): ModuleList(\n",
            "          (0-11): 12 x BertLayer(\n",
            "            (attention): BertAttention(\n",
            "              (self): BertSdpaSelfAttention(\n",
            "                (query): Linear(in_features=768, out_features=768, bias=True)\n",
            "                (key): Linear(in_features=768, out_features=768, bias=True)\n",
            "                (value): Linear(in_features=768, out_features=768, bias=True)\n",
            "                (dropout): Dropout(p=0.1, inplace=False)\n",
            "              )\n",
            "              (output): BertSelfOutput(\n",
            "                (dense): Linear(in_features=768, out_features=768, bias=True)\n",
            "                (LayerNorm): LayerNorm((768,), eps=1e-12, elementwise_affine=True)\n",
            "                (dropout): Dropout(p=0.1, inplace=False)\n",
            "              )\n",
            "            )\n",
            "            (intermediate): BertIntermediate(\n",
            "              (dense): Linear(in_features=768, out_features=3072, bias=True)\n",
            "              (intermediate_act_fn): GELUActivation()\n",
            "            )\n",
            "            (output): BertOutput(\n",
            "              (dense): Linear(in_features=3072, out_features=768, bias=True)\n",
            "              (LayerNorm): LayerNorm((768,), eps=1e-12, elementwise_affine=True)\n",
            "              (dropout): Dropout(p=0.1, inplace=False)\n",
            "            )\n",
            "          )\n",
            "        )\n",
            "      )\n",
            "      (pooler): BertPooler(\n",
            "        (dense): Linear(in_features=768, out_features=768, bias=True)\n",
            "        (activation): Tanh()\n",
            "      )\n",
            "    )\n",
            "  )\n",
            "  (decoder): Linear(in_features=768, out_features=7, bias=True)\n",
            "  (dropout): Dropout(p=0.0, inplace=False)\n",
            "  (locked_dropout): LockedDropout(p=0.0)\n",
            "  (word_dropout): WordDropout(p=0.0)\n",
            "  (loss_function): CrossEntropyLoss()\n",
            "  (weights): None\n",
            "  (weight_tensor) None\n",
            ")\"\n",
            "2025-05-01 08:18:49,783 ----------------------------------------------------------------------------------------------------\n",
            "2025-05-01 08:18:49,784 Corpus: 604 train + 167 dev + 67 test sentences\n",
            "2025-05-01 08:18:49,784 ----------------------------------------------------------------------------------------------------\n",
            "2025-05-01 08:18:49,785 Train:  604 sentences\n",
            "2025-05-01 08:18:49,786         (train_with_dev=False, train_with_test=False)\n",
            "2025-05-01 08:18:49,787 ----------------------------------------------------------------------------------------------------\n",
            "2025-05-01 08:18:49,787 Training Params:\n",
            "2025-05-01 08:18:49,788  - learning_rate: \"0.05032745864710779\" \n",
            "2025-05-01 08:18:49,789  - mini_batch_size: \"16\"\n",
            "2025-05-01 08:18:49,790  - max_epochs: \"8\"\n",
            "2025-05-01 08:18:49,790  - shuffle: \"True\"\n",
            "2025-05-01 08:18:49,791 ----------------------------------------------------------------------------------------------------\n",
            "2025-05-01 08:18:49,792 Plugins:\n",
            "2025-05-01 08:18:49,792  - AnnealOnPlateau | patience: '3', anneal_factor: '0.5', min_learning_rate: '0.0001'\n",
            "2025-05-01 08:18:49,793 ----------------------------------------------------------------------------------------------------\n",
            "2025-05-01 08:18:49,794 Final evaluation on model from best epoch (best-model.pt)\n",
            "2025-05-01 08:18:49,794  - metric: \"('micro avg', 'f1-score')\"\n",
            "2025-05-01 08:18:49,795 ----------------------------------------------------------------------------------------------------\n",
            "2025-05-01 08:18:49,796 Computation:\n",
            "2025-05-01 08:18:49,796  - compute on device: cuda:0\n",
            "2025-05-01 08:18:49,797  - embedding storage: cpu\n",
            "2025-05-01 08:18:49,798 ----------------------------------------------------------------------------------------------------\n",
            "2025-05-01 08:18:49,799 Model training base path: \"/tmp/tmpsxh0u8j1/model\"\n",
            "2025-05-01 08:18:49,799 ----------------------------------------------------------------------------------------------------\n",
            "2025-05-01 08:18:49,800 ----------------------------------------------------------------------------------------------------\n"
          ]
        },
        {
          "output_type": "stream",
          "name": "stderr",
          "text": [
            "\n",
            "/usr/local/lib/python3.11/dist-packages/flair/trainers/trainer.py:545: FutureWarning: `torch.cuda.amp.GradScaler(args...)` is deprecated. Please use `torch.amp.GradScaler('cuda', args...)` instead.\n",
            "  scaler = torch.cuda.amp.GradScaler(enabled=use_amp and flair.device.type != \"cpu\")\n"
          ]
        },
        {
          "output_type": "stream",
          "name": "stdout",
          "text": [
            "2025-05-01 08:18:50,290 epoch 1 - iter 3/38 - loss 1.85312831 - time (sec): 0.49 - samples/sec: 98.39 - lr: 0.050327 - momentum: 0.000000\n",
            "2025-05-01 08:18:51,011 epoch 1 - iter 6/38 - loss 1.11280120 - time (sec): 1.21 - samples/sec: 79.38 - lr: 0.050327 - momentum: 0.000000\n",
            "2025-05-01 08:18:51,659 epoch 1 - iter 9/38 - loss 0.84113726 - time (sec): 1.86 - samples/sec: 77.55 - lr: 0.050327 - momentum: 0.000000\n",
            "2025-05-01 08:18:52,215 epoch 1 - iter 12/38 - loss 0.73679551 - time (sec): 2.41 - samples/sec: 79.56 - lr: 0.050327 - momentum: 0.000000\n",
            "2025-05-01 08:18:52,769 epoch 1 - iter 15/38 - loss 0.66810653 - time (sec): 2.97 - samples/sec: 80.88 - lr: 0.050327 - momentum: 0.000000\n",
            "2025-05-01 08:18:53,374 epoch 1 - iter 18/38 - loss 0.58577295 - time (sec): 3.57 - samples/sec: 80.63 - lr: 0.050327 - momentum: 0.000000\n",
            "2025-05-01 08:18:54,120 epoch 1 - iter 21/38 - loss 0.54997227 - time (sec): 4.32 - samples/sec: 77.82 - lr: 0.050327 - momentum: 0.000000\n",
            "2025-05-01 08:18:54,841 epoch 1 - iter 24/38 - loss 0.52654918 - time (sec): 5.04 - samples/sec: 76.21 - lr: 0.050327 - momentum: 0.000000\n",
            "2025-05-01 08:18:55,466 epoch 1 - iter 27/38 - loss 0.50968731 - time (sec): 5.66 - samples/sec: 76.27 - lr: 0.050327 - momentum: 0.000000\n",
            "2025-05-01 08:18:56,137 epoch 1 - iter 30/38 - loss 0.47038491 - time (sec): 6.33 - samples/sec: 75.77 - lr: 0.050327 - momentum: 0.000000\n",
            "2025-05-01 08:18:56,658 epoch 1 - iter 33/38 - loss 0.46513762 - time (sec): 6.86 - samples/sec: 77.02 - lr: 0.050327 - momentum: 0.000000\n",
            "2025-05-01 08:18:57,267 epoch 1 - iter 36/38 - loss 0.46102497 - time (sec): 7.47 - samples/sec: 77.16 - lr: 0.050327 - momentum: 0.000000\n",
            "2025-05-01 08:18:57,668 ----------------------------------------------------------------------------------------------------\n",
            "2025-05-01 08:18:57,669 EPOCH 1 done: loss 0.4529 - lr: 0.050327\n"
          ]
        },
        {
          "output_type": "stream",
          "name": "stderr",
          "text": [
            "100%|██████████| 3/3 [00:00<00:00,  3.30it/s]"
          ]
        },
        {
          "output_type": "stream",
          "name": "stdout",
          "text": [
            "2025-05-01 08:18:58,604 DEV : loss 0.05909803882241249 - f1-score (micro avg)  0.982\n",
            "2025-05-01 08:18:58,662  - 0 epochs without improvement\n",
            "2025-05-01 08:18:58,664 saving best model\n"
          ]
        },
        {
          "output_type": "stream",
          "name": "stderr",
          "text": [
            "\n"
          ]
        },
        {
          "output_type": "stream",
          "name": "stdout",
          "text": [
            "2025-05-01 08:19:00,069 ----------------------------------------------------------------------------------------------------\n",
            "2025-05-01 08:19:00,607 epoch 2 - iter 3/38 - loss 0.11927805 - time (sec): 0.53 - samples/sec: 90.07 - lr: 0.050327 - momentum: 0.000000\n",
            "2025-05-01 08:19:01,119 epoch 2 - iter 6/38 - loss 0.21315944 - time (sec): 1.04 - samples/sec: 91.90 - lr: 0.050327 - momentum: 0.000000\n",
            "2025-05-01 08:19:01,810 epoch 2 - iter 9/38 - loss 0.20653984 - time (sec): 1.74 - samples/sec: 82.96 - lr: 0.050327 - momentum: 0.000000\n",
            "2025-05-01 08:19:02,538 epoch 2 - iter 12/38 - loss 0.18757819 - time (sec): 2.46 - samples/sec: 77.91 - lr: 0.050327 - momentum: 0.000000\n",
            "2025-05-01 08:19:03,181 epoch 2 - iter 15/38 - loss 0.18625949 - time (sec): 3.11 - samples/sec: 77.24 - lr: 0.050327 - momentum: 0.000000\n",
            "2025-05-01 08:19:04,011 epoch 2 - iter 18/38 - loss 0.21807389 - time (sec): 3.94 - samples/sec: 73.16 - lr: 0.050327 - momentum: 0.000000\n",
            "2025-05-01 08:19:04,592 epoch 2 - iter 21/38 - loss 0.24741585 - time (sec): 4.52 - samples/sec: 74.38 - lr: 0.050327 - momentum: 0.000000\n",
            "2025-05-01 08:19:05,195 epoch 2 - iter 24/38 - loss 0.22417916 - time (sec): 5.12 - samples/sec: 74.98 - lr: 0.050327 - momentum: 0.000000\n",
            "2025-05-01 08:19:05,741 epoch 2 - iter 27/38 - loss 0.24577003 - time (sec): 5.67 - samples/sec: 76.24 - lr: 0.050327 - momentum: 0.000000\n",
            "2025-05-01 08:19:06,429 epoch 2 - iter 30/38 - loss 0.24203999 - time (sec): 6.35 - samples/sec: 75.53 - lr: 0.050327 - momentum: 0.000000\n",
            "2025-05-01 08:19:07,077 epoch 2 - iter 33/38 - loss 0.24139725 - time (sec): 7.00 - samples/sec: 75.39 - lr: 0.050327 - momentum: 0.000000\n",
            "2025-05-01 08:19:07,719 epoch 2 - iter 36/38 - loss 0.22447559 - time (sec): 7.64 - samples/sec: 75.34 - lr: 0.050327 - momentum: 0.000000\n",
            "2025-05-01 08:19:08,057 ----------------------------------------------------------------------------------------------------\n",
            "2025-05-01 08:19:08,057 EPOCH 2 done: loss 0.2266 - lr: 0.050327\n"
          ]
        },
        {
          "output_type": "stream",
          "name": "stderr",
          "text": [
            "100%|██████████| 3/3 [00:00<00:00,  3.21it/s]"
          ]
        },
        {
          "output_type": "stream",
          "name": "stdout",
          "text": [
            "2025-05-01 08:19:09,013 DEV : loss 0.0918714627623558 - f1-score (micro avg)  0.9701\n",
            "2025-05-01 08:19:09,048  - 1 epochs without improvement\n",
            "2025-05-01 08:19:09,049 ----------------------------------------------------------------------------------------------------\n"
          ]
        },
        {
          "output_type": "stream",
          "name": "stderr",
          "text": [
            "\n"
          ]
        },
        {
          "output_type": "stream",
          "name": "stdout",
          "text": [
            "2025-05-01 08:19:09,614 epoch 3 - iter 3/38 - loss 0.05751220 - time (sec): 0.56 - samples/sec: 85.32 - lr: 0.050327 - momentum: 0.000000\n",
            "2025-05-01 08:19:10,162 epoch 3 - iter 6/38 - loss 0.08840697 - time (sec): 1.11 - samples/sec: 86.49 - lr: 0.050327 - momentum: 0.000000\n",
            "2025-05-01 08:19:10,749 epoch 3 - iter 9/38 - loss 0.08880498 - time (sec): 1.70 - samples/sec: 84.82 - lr: 0.050327 - momentum: 0.000000\n",
            "2025-05-01 08:19:11,435 epoch 3 - iter 12/38 - loss 0.08265518 - time (sec): 2.38 - samples/sec: 80.56 - lr: 0.050327 - momentum: 0.000000\n",
            "2025-05-01 08:19:12,129 epoch 3 - iter 15/38 - loss 0.10894362 - time (sec): 3.08 - samples/sec: 77.99 - lr: 0.050327 - momentum: 0.000000\n",
            "2025-05-01 08:19:12,723 epoch 3 - iter 18/38 - loss 0.12142242 - time (sec): 3.67 - samples/sec: 78.45 - lr: 0.050327 - momentum: 0.000000\n",
            "2025-05-01 08:19:13,270 epoch 3 - iter 21/38 - loss 0.10761383 - time (sec): 4.22 - samples/sec: 79.64 - lr: 0.050327 - momentum: 0.000000\n",
            "2025-05-01 08:19:13,894 epoch 3 - iter 24/38 - loss 0.10978475 - time (sec): 4.84 - samples/sec: 79.29 - lr: 0.050327 - momentum: 0.000000\n",
            "2025-05-01 08:19:14,628 epoch 3 - iter 27/38 - loss 0.09903935 - time (sec): 5.58 - samples/sec: 77.47 - lr: 0.050327 - momentum: 0.000000\n",
            "2025-05-01 08:19:15,479 epoch 3 - iter 30/38 - loss 0.10517833 - time (sec): 6.43 - samples/sec: 74.68 - lr: 0.050327 - momentum: 0.000000\n",
            "2025-05-01 08:19:16,142 epoch 3 - iter 33/38 - loss 0.09918721 - time (sec): 7.09 - samples/sec: 74.47 - lr: 0.050327 - momentum: 0.000000\n",
            "2025-05-01 08:19:16,778 epoch 3 - iter 36/38 - loss 0.09625072 - time (sec): 7.73 - samples/sec: 74.55 - lr: 0.050327 - momentum: 0.000000\n",
            "2025-05-01 08:19:17,168 ----------------------------------------------------------------------------------------------------\n",
            "2025-05-01 08:19:17,168 EPOCH 3 done: loss 0.0984 - lr: 0.050327\n"
          ]
        },
        {
          "output_type": "stream",
          "name": "stderr",
          "text": [
            "100%|██████████| 3/3 [00:00<00:00,  3.34it/s]"
          ]
        },
        {
          "output_type": "stream",
          "name": "stdout",
          "text": [
            "2025-05-01 08:19:18,089 DEV : loss 0.14097976684570312 - f1-score (micro avg)  0.9581\n",
            "2025-05-01 08:19:18,124  - 2 epochs without improvement\n",
            "2025-05-01 08:19:18,125 ----------------------------------------------------------------------------------------------------\n"
          ]
        },
        {
          "output_type": "stream",
          "name": "stderr",
          "text": [
            "\n"
          ]
        },
        {
          "output_type": "stream",
          "name": "stdout",
          "text": [
            "2025-05-01 08:19:18,659 epoch 4 - iter 3/38 - loss 0.15007539 - time (sec): 0.53 - samples/sec: 90.37 - lr: 0.050327 - momentum: 0.000000\n",
            "2025-05-01 08:19:19,391 epoch 4 - iter 6/38 - loss 0.16115556 - time (sec): 1.26 - samples/sec: 76.02 - lr: 0.050327 - momentum: 0.000000\n",
            "2025-05-01 08:19:20,129 epoch 4 - iter 9/38 - loss 0.17547536 - time (sec): 2.00 - samples/sec: 71.96 - lr: 0.050327 - momentum: 0.000000\n",
            "2025-05-01 08:19:20,774 epoch 4 - iter 12/38 - loss 0.14502208 - time (sec): 2.65 - samples/sec: 72.56 - lr: 0.050327 - momentum: 0.000000\n",
            "2025-05-01 08:19:21,487 epoch 4 - iter 15/38 - loss 0.13853109 - time (sec): 3.36 - samples/sec: 71.46 - lr: 0.050327 - momentum: 0.000000\n",
            "2025-05-01 08:19:22,040 epoch 4 - iter 18/38 - loss 0.11780746 - time (sec): 3.91 - samples/sec: 73.63 - lr: 0.050327 - momentum: 0.000000\n",
            "2025-05-01 08:19:22,718 epoch 4 - iter 21/38 - loss 0.10365694 - time (sec): 4.59 - samples/sec: 73.20 - lr: 0.050327 - momentum: 0.000000\n",
            "2025-05-01 08:19:23,501 epoch 4 - iter 24/38 - loss 0.09132051 - time (sec): 5.37 - samples/sec: 71.47 - lr: 0.050327 - momentum: 0.000000\n",
            "2025-05-01 08:19:24,091 epoch 4 - iter 27/38 - loss 0.11081740 - time (sec): 5.96 - samples/sec: 72.45 - lr: 0.050327 - momentum: 0.000000\n",
            "2025-05-01 08:19:24,709 epoch 4 - iter 30/38 - loss 0.12696292 - time (sec): 6.58 - samples/sec: 72.93 - lr: 0.050327 - momentum: 0.000000\n",
            "2025-05-01 08:19:25,318 epoch 4 - iter 33/38 - loss 0.11877676 - time (sec): 7.19 - samples/sec: 73.44 - lr: 0.050327 - momentum: 0.000000\n",
            "2025-05-01 08:19:25,914 epoch 4 - iter 36/38 - loss 0.11148433 - time (sec): 7.79 - samples/sec: 73.98 - lr: 0.050327 - momentum: 0.000000\n",
            "2025-05-01 08:19:26,227 ----------------------------------------------------------------------------------------------------\n",
            "2025-05-01 08:19:26,228 EPOCH 4 done: loss 0.1103 - lr: 0.050327\n"
          ]
        },
        {
          "output_type": "stream",
          "name": "stderr",
          "text": [
            "100%|██████████| 3/3 [00:00<00:00,  3.21it/s]"
          ]
        },
        {
          "output_type": "stream",
          "name": "stdout",
          "text": [
            "2025-05-01 08:19:27,184 DEV : loss 0.4540753960609436 - f1-score (micro avg)  0.9162\n",
            "2025-05-01 08:19:27,218  - 3 epochs without improvement\n",
            "2025-05-01 08:19:27,219 ----------------------------------------------------------------------------------------------------\n"
          ]
        },
        {
          "output_type": "stream",
          "name": "stderr",
          "text": [
            "\n"
          ]
        },
        {
          "output_type": "stream",
          "name": "stdout",
          "text": [
            "2025-05-01 08:19:27,721 epoch 5 - iter 3/38 - loss 0.00251192 - time (sec): 0.50 - samples/sec: 96.17 - lr: 0.050327 - momentum: 0.000000\n",
            "2025-05-01 08:19:28,495 epoch 5 - iter 6/38 - loss 0.00408040 - time (sec): 1.27 - samples/sec: 75.41 - lr: 0.050327 - momentum: 0.000000\n",
            "2025-05-01 08:19:29,147 epoch 5 - iter 9/38 - loss 0.02647106 - time (sec): 1.93 - samples/sec: 74.79 - lr: 0.050327 - momentum: 0.000000\n",
            "2025-05-01 08:19:29,713 epoch 5 - iter 12/38 - loss 0.12047726 - time (sec): 2.49 - samples/sec: 77.07 - lr: 0.050327 - momentum: 0.000000\n",
            "2025-05-01 08:19:30,404 epoch 5 - iter 15/38 - loss 0.09731858 - time (sec): 3.18 - samples/sec: 75.42 - lr: 0.050327 - momentum: 0.000000\n",
            "2025-05-01 08:19:31,125 epoch 5 - iter 18/38 - loss 0.08580379 - time (sec): 3.90 - samples/sec: 73.79 - lr: 0.050327 - momentum: 0.000000\n",
            "2025-05-01 08:19:31,776 epoch 5 - iter 21/38 - loss 0.07490983 - time (sec): 4.55 - samples/sec: 73.78 - lr: 0.050327 - momentum: 0.000000\n",
            "2025-05-01 08:19:32,460 epoch 5 - iter 24/38 - loss 0.06949845 - time (sec): 5.24 - samples/sec: 73.30 - lr: 0.050327 - momentum: 0.000000\n",
            "2025-05-01 08:19:33,235 epoch 5 - iter 27/38 - loss 0.06424573 - time (sec): 6.01 - samples/sec: 71.85 - lr: 0.050327 - momentum: 0.000000\n",
            "2025-05-01 08:19:33,907 epoch 5 - iter 30/38 - loss 0.06558444 - time (sec): 6.69 - samples/sec: 71.80 - lr: 0.050327 - momentum: 0.000000\n",
            "2025-05-01 08:19:34,575 epoch 5 - iter 33/38 - loss 0.07097825 - time (sec): 7.35 - samples/sec: 71.80 - lr: 0.050327 - momentum: 0.000000\n",
            "2025-05-01 08:19:35,190 epoch 5 - iter 36/38 - loss 0.06668838 - time (sec): 7.97 - samples/sec: 72.28 - lr: 0.050327 - momentum: 0.000000\n",
            "2025-05-01 08:19:35,606 ----------------------------------------------------------------------------------------------------\n",
            "2025-05-01 08:19:35,607 EPOCH 5 done: loss 0.0637 - lr: 0.050327\n"
          ]
        },
        {
          "output_type": "stream",
          "name": "stderr",
          "text": [
            "100%|██████████| 3/3 [00:00<00:00,  3.12it/s]"
          ]
        },
        {
          "output_type": "stream",
          "name": "stdout",
          "text": [
            "2025-05-01 08:19:36,598 DEV : loss 0.2988980710506439 - f1-score (micro avg)  0.9521\n",
            "2025-05-01 08:19:36,653  - 4 epochs without improvement (above 'patience')-> annealing learning_rate to [0.025163729323553895]\n",
            "2025-05-01 08:19:36,658 ----------------------------------------------------------------------------------------------------\n"
          ]
        },
        {
          "output_type": "stream",
          "name": "stderr",
          "text": [
            "\n"
          ]
        },
        {
          "output_type": "stream",
          "name": "stdout",
          "text": [
            "2025-05-01 08:19:37,107 epoch 6 - iter 3/38 - loss 0.08806183 - time (sec): 0.45 - samples/sec: 107.63 - lr: 0.025164 - momentum: 0.000000\n",
            "2025-05-01 08:19:37,756 epoch 6 - iter 6/38 - loss 0.08606856 - time (sec): 1.09 - samples/sec: 87.68 - lr: 0.025164 - momentum: 0.000000\n",
            "2025-05-01 08:19:38,478 epoch 6 - iter 9/38 - loss 0.06220129 - time (sec): 1.82 - samples/sec: 79.22 - lr: 0.025164 - momentum: 0.000000\n",
            "2025-05-01 08:19:39,003 epoch 6 - iter 12/38 - loss 0.05067393 - time (sec): 2.34 - samples/sec: 81.95 - lr: 0.025164 - momentum: 0.000000\n",
            "2025-05-01 08:19:39,749 epoch 6 - iter 15/38 - loss 0.05640969 - time (sec): 3.09 - samples/sec: 77.70 - lr: 0.025164 - momentum: 0.000000\n",
            "2025-05-01 08:19:40,349 epoch 6 - iter 18/38 - loss 0.04710479 - time (sec): 3.69 - samples/sec: 78.08 - lr: 0.025164 - momentum: 0.000000\n",
            "2025-05-01 08:19:40,928 epoch 6 - iter 21/38 - loss 0.04041374 - time (sec): 4.27 - samples/sec: 78.73 - lr: 0.025164 - momentum: 0.000000\n",
            "2025-05-01 08:19:41,623 epoch 6 - iter 24/38 - loss 0.03538322 - time (sec): 4.96 - samples/sec: 77.38 - lr: 0.025164 - momentum: 0.000000\n",
            "2025-05-01 08:19:42,357 epoch 6 - iter 27/38 - loss 0.03147580 - time (sec): 5.70 - samples/sec: 75.84 - lr: 0.025164 - momentum: 0.000000\n",
            "2025-05-01 08:19:43,018 epoch 6 - iter 30/38 - loss 0.04691697 - time (sec): 6.36 - samples/sec: 75.50 - lr: 0.025164 - momentum: 0.000000\n",
            "2025-05-01 08:19:43,692 epoch 6 - iter 33/38 - loss 0.04312607 - time (sec): 7.03 - samples/sec: 75.09 - lr: 0.025164 - momentum: 0.000000\n",
            "2025-05-01 08:19:44,425 epoch 6 - iter 36/38 - loss 0.03962395 - time (sec): 7.76 - samples/sec: 74.18 - lr: 0.025164 - momentum: 0.000000\n",
            "2025-05-01 08:19:44,897 ----------------------------------------------------------------------------------------------------\n",
            "2025-05-01 08:19:44,898 EPOCH 6 done: loss 0.0378 - lr: 0.025164\n"
          ]
        },
        {
          "output_type": "stream",
          "name": "stderr",
          "text": [
            "100%|██████████| 3/3 [00:00<00:00,  3.20it/s]"
          ]
        },
        {
          "output_type": "stream",
          "name": "stdout",
          "text": [
            "2025-05-01 08:19:45,862 DEV : loss 0.14629405736923218 - f1-score (micro avg)  0.9641\n",
            "2025-05-01 08:19:45,897  - 1 epochs without improvement\n",
            "2025-05-01 08:19:45,898 ----------------------------------------------------------------------------------------------------\n"
          ]
        },
        {
          "output_type": "stream",
          "name": "stderr",
          "text": [
            "\n"
          ]
        },
        {
          "output_type": "stream",
          "name": "stdout",
          "text": [
            "2025-05-01 08:19:46,463 epoch 7 - iter 3/38 - loss 0.02521092 - time (sec): 0.56 - samples/sec: 85.32 - lr: 0.025164 - momentum: 0.000000\n",
            "2025-05-01 08:19:47,146 epoch 7 - iter 6/38 - loss 0.01289998 - time (sec): 1.25 - samples/sec: 77.05 - lr: 0.025164 - momentum: 0.000000\n",
            "2025-05-01 08:19:47,754 epoch 7 - iter 9/38 - loss 0.00868744 - time (sec): 1.85 - samples/sec: 77.69 - lr: 0.025164 - momentum: 0.000000\n",
            "2025-05-01 08:19:48,583 epoch 7 - iter 12/38 - loss 0.00848968 - time (sec): 2.68 - samples/sec: 71.58 - lr: 0.025164 - momentum: 0.000000\n",
            "2025-05-01 08:19:49,209 epoch 7 - iter 15/38 - loss 0.03509425 - time (sec): 3.31 - samples/sec: 72.54 - lr: 0.025164 - momentum: 0.000000\n",
            "2025-05-01 08:19:49,868 epoch 7 - iter 18/38 - loss 0.02968649 - time (sec): 3.97 - samples/sec: 72.59 - lr: 0.025164 - momentum: 0.000000\n",
            "2025-05-01 08:19:50,444 epoch 7 - iter 21/38 - loss 0.02544963 - time (sec): 4.54 - samples/sec: 73.95 - lr: 0.025164 - momentum: 0.000000\n",
            "2025-05-01 08:19:51,116 epoch 7 - iter 24/38 - loss 0.02227647 - time (sec): 5.22 - samples/sec: 73.62 - lr: 0.025164 - momentum: 0.000000\n",
            "2025-05-01 08:19:51,851 epoch 7 - iter 27/38 - loss 0.03452681 - time (sec): 5.95 - samples/sec: 72.59 - lr: 0.025164 - momentum: 0.000000\n",
            "2025-05-01 08:19:52,530 epoch 7 - iter 30/38 - loss 0.03120875 - time (sec): 6.63 - samples/sec: 72.40 - lr: 0.025164 - momentum: 0.000000\n",
            "2025-05-01 08:19:53,098 epoch 7 - iter 33/38 - loss 0.02838944 - time (sec): 7.20 - samples/sec: 73.35 - lr: 0.025164 - momentum: 0.000000\n",
            "2025-05-01 08:19:53,825 epoch 7 - iter 36/38 - loss 0.02603157 - time (sec): 7.92 - samples/sec: 72.69 - lr: 0.025164 - momentum: 0.000000\n",
            "2025-05-01 08:19:54,221 ----------------------------------------------------------------------------------------------------\n",
            "2025-05-01 08:19:54,222 EPOCH 7 done: loss 0.0248 - lr: 0.025164\n"
          ]
        },
        {
          "output_type": "stream",
          "name": "stderr",
          "text": [
            "100%|██████████| 3/3 [00:00<00:00,  3.36it/s]"
          ]
        },
        {
          "output_type": "stream",
          "name": "stdout",
          "text": [
            "2025-05-01 08:19:55,136 DEV : loss 0.1670839935541153 - f1-score (micro avg)  0.9701\n",
            "2025-05-01 08:19:55,171  - 2 epochs without improvement\n",
            "2025-05-01 08:19:55,172 ----------------------------------------------------------------------------------------------------\n"
          ]
        },
        {
          "output_type": "stream",
          "name": "stderr",
          "text": [
            "\n"
          ]
        },
        {
          "output_type": "stream",
          "name": "stdout",
          "text": [
            "2025-05-01 08:19:55,589 epoch 8 - iter 3/38 - loss 0.03615372 - time (sec): 0.41 - samples/sec: 115.94 - lr: 0.025164 - momentum: 0.000000\n",
            "2025-05-01 08:19:56,326 epoch 8 - iter 6/38 - loss 0.01849236 - time (sec): 1.15 - samples/sec: 83.45 - lr: 0.025164 - momentum: 0.000000\n",
            "2025-05-01 08:19:56,908 epoch 8 - iter 9/38 - loss 0.01234971 - time (sec): 1.73 - samples/sec: 83.12 - lr: 0.025164 - momentum: 0.000000\n",
            "2025-05-01 08:19:57,509 epoch 8 - iter 12/38 - loss 0.01429854 - time (sec): 2.33 - samples/sec: 82.28 - lr: 0.025164 - momentum: 0.000000\n",
            "2025-05-01 08:19:58,187 epoch 8 - iter 15/38 - loss 0.01152071 - time (sec): 3.01 - samples/sec: 79.68 - lr: 0.025164 - momentum: 0.000000\n",
            "2025-05-01 08:19:58,854 epoch 8 - iter 18/38 - loss 0.00960336 - time (sec): 3.68 - samples/sec: 78.28 - lr: 0.025164 - momentum: 0.000000\n",
            "2025-05-01 08:19:59,444 epoch 8 - iter 21/38 - loss 0.00823871 - time (sec): 4.27 - samples/sec: 78.71 - lr: 0.025164 - momentum: 0.000000\n",
            "2025-05-01 08:20:00,081 epoch 8 - iter 24/38 - loss 0.00721372 - time (sec): 4.91 - samples/sec: 78.27 - lr: 0.025164 - momentum: 0.000000\n",
            "2025-05-01 08:20:00,781 epoch 8 - iter 27/38 - loss 0.00641919 - time (sec): 5.61 - samples/sec: 77.06 - lr: 0.025164 - momentum: 0.000000\n",
            "2025-05-01 08:20:01,422 epoch 8 - iter 30/38 - loss 0.00581368 - time (sec): 6.25 - samples/sec: 76.84 - lr: 0.025164 - momentum: 0.000000\n",
            "2025-05-01 08:20:02,263 epoch 8 - iter 33/38 - loss 0.00534878 - time (sec): 7.09 - samples/sec: 74.50 - lr: 0.025164 - momentum: 0.000000\n",
            "2025-05-01 08:20:03,040 epoch 8 - iter 36/38 - loss 0.00502360 - time (sec): 7.87 - samples/sec: 73.24 - lr: 0.025164 - momentum: 0.000000\n",
            "2025-05-01 08:20:03,418 ----------------------------------------------------------------------------------------------------\n",
            "2025-05-01 08:20:03,420 EPOCH 8 done: loss 0.0050 - lr: 0.025164\n"
          ]
        },
        {
          "output_type": "stream",
          "name": "stderr",
          "text": [
            "100%|██████████| 3/3 [00:00<00:00,  3.33it/s]"
          ]
        },
        {
          "output_type": "stream",
          "name": "stdout",
          "text": [
            "2025-05-01 08:20:04,360 DEV : loss 0.2440890520811081 - f1-score (micro avg)  0.9701\n",
            "2025-05-01 08:20:04,441  - 3 epochs without improvement\n"
          ]
        },
        {
          "output_type": "stream",
          "name": "stderr",
          "text": [
            "\n"
          ]
        },
        {
          "output_type": "stream",
          "name": "stdout",
          "text": [
            "2025-05-01 08:20:05,624 ----------------------------------------------------------------------------------------------------\n",
            "2025-05-01 08:20:05,627 Loading model from best epoch ...\n"
          ]
        },
        {
          "output_type": "stream",
          "name": "stderr",
          "text": [
            "100%|██████████| 2/2 [00:00<00:00,  5.14it/s]"
          ]
        },
        {
          "output_type": "stream",
          "name": "stdout",
          "text": [
            "2025-05-01 08:20:08,142 \n",
            "Results:\n",
            "- F-score (micro) 0.9254\n",
            "- F-score (macro) 0.9199\n",
            "- Accuracy 0.9254\n",
            "\n",
            "By class:\n",
            "              precision    recall  f1-score   support\n",
            "\n",
            "          공통     0.8889    0.9412    0.9143        17\n",
            "       가설구조물     0.9286    0.8667    0.8966        15\n",
            "          교량     1.0000    1.0000    1.0000        13\n",
            "        굴착공사     1.0000    0.7778    0.8750         9\n",
            "          건축     1.0000    1.0000    1.0000         8\n",
            "        양중작업     0.7143    1.0000    0.8333         5\n",
            "\n",
            "    accuracy                         0.9254        67\n",
            "   macro avg     0.9220    0.9309    0.9199        67\n",
            "weighted avg     0.9345    0.9254    0.9259        67\n",
            "\n",
            "2025-05-01 08:20:08,143 ----------------------------------------------------------------------------------------------------\n"
          ]
        },
        {
          "output_type": "stream",
          "name": "stderr",
          "text": [
            "\n"
          ]
        },
        {
          "output_type": "stream",
          "name": "stdout",
          "text": [
            "  훈련 결과: {'test_score': 0.9253731343283582}\n",
            "  현재 폴드 정확도: 0.9820\n",
            "  평균 성능: 0.8916 (유효한 폴드: 5/5)\n",
            "시도 2/2: lr=0.0344, batch_size=32, epochs=19\n",
            "  폴드 1/5 학습 중...\n",
            "2025-05-01 08:20:12,599 Reading data from /tmp/tmpoigi5gih\n",
            "2025-05-01 08:20:12,600 Train: /tmp/tmpoigi5gih/train.txt\n",
            "2025-05-01 08:20:12,600 Dev: /tmp/tmpoigi5gih/dev.txt\n",
            "2025-05-01 08:20:12,601 Test: None\n",
            "2025-05-01 08:20:12,646 No test split found. Using 10% (i.e. 67 samples) of the train split as test data\n",
            "2025-05-01 08:20:12,647 Initialized corpus /tmp/tmpoigi5gih (label type name is 'class')\n",
            "2025-05-01 08:20:12,648 Computing label dictionary. Progress:\n"
          ]
        },
        {
          "output_type": "stream",
          "name": "stderr",
          "text": [
            "0it [00:00, ?it/s]\n",
            "603it [00:00, 4173.37it/s]"
          ]
        },
        {
          "output_type": "stream",
          "name": "stdout",
          "text": [
            "2025-05-01 08:20:12,799 Dictionary created for label 'class' with 7 values: 공통 (seen 176 times), 가설구조물 (seen 137 times), 교량 (seen 94 times), 굴착공사 (seen 82 times), 건축 (seen 60 times), 양중작업 (seen 51 times),  (seen 3 times)\n",
            "2025-05-01 08:20:12,807 ----------------------------------------------------------------------------------------------------\n",
            "2025-05-01 08:20:12,809 Model: \"TextClassifier(\n",
            "  (embeddings): TransformerDocumentEmbeddings(\n",
            "    (model): BertModel(\n",
            "      (embeddings): BertEmbeddings(\n",
            "        (word_embeddings): Embedding(32001, 768, padding_idx=0)\n",
            "        (position_embeddings): Embedding(512, 768)\n",
            "        (token_type_embeddings): Embedding(2, 768)\n",
            "        (LayerNorm): LayerNorm((768,), eps=1e-12, elementwise_affine=True)\n",
            "        (dropout): Dropout(p=0.1, inplace=False)\n",
            "      )\n",
            "      (encoder): BertEncoder(\n",
            "        (layer): ModuleList(\n",
            "          (0-11): 12 x BertLayer(\n",
            "            (attention): BertAttention(\n",
            "              (self): BertSdpaSelfAttention(\n",
            "                (query): Linear(in_features=768, out_features=768, bias=True)\n",
            "                (key): Linear(in_features=768, out_features=768, bias=True)\n",
            "                (value): Linear(in_features=768, out_features=768, bias=True)\n",
            "                (dropout): Dropout(p=0.1, inplace=False)\n",
            "              )\n",
            "              (output): BertSelfOutput(\n",
            "                (dense): Linear(in_features=768, out_features=768, bias=True)\n",
            "                (LayerNorm): LayerNorm((768,), eps=1e-12, elementwise_affine=True)\n",
            "                (dropout): Dropout(p=0.1, inplace=False)\n",
            "              )\n",
            "            )\n",
            "            (intermediate): BertIntermediate(\n",
            "              (dense): Linear(in_features=768, out_features=3072, bias=True)\n",
            "              (intermediate_act_fn): GELUActivation()\n",
            "            )\n",
            "            (output): BertOutput(\n",
            "              (dense): Linear(in_features=3072, out_features=768, bias=True)\n",
            "              (LayerNorm): LayerNorm((768,), eps=1e-12, elementwise_affine=True)\n",
            "              (dropout): Dropout(p=0.1, inplace=False)\n",
            "            )\n",
            "          )\n",
            "        )\n",
            "      )\n",
            "      (pooler): BertPooler(\n",
            "        (dense): Linear(in_features=768, out_features=768, bias=True)\n",
            "        (activation): Tanh()\n",
            "      )\n",
            "    )\n",
            "  )\n",
            "  (decoder): Linear(in_features=768, out_features=7, bias=True)\n",
            "  (dropout): Dropout(p=0.0, inplace=False)\n",
            "  (locked_dropout): LockedDropout(p=0.0)\n",
            "  (word_dropout): WordDropout(p=0.0)\n",
            "  (loss_function): CrossEntropyLoss()\n",
            "  (weights): None\n",
            "  (weight_tensor) None\n",
            ")\"\n",
            "2025-05-01 08:20:12,811 ----------------------------------------------------------------------------------------------------\n",
            "2025-05-01 08:20:12,812 Corpus: 603 train + 168 dev + 67 test sentences\n",
            "2025-05-01 08:20:12,813 ----------------------------------------------------------------------------------------------------\n",
            "2025-05-01 08:20:12,813 Train:  603 sentences\n",
            "2025-05-01 08:20:12,814         (train_with_dev=False, train_with_test=False)\n",
            "2025-05-01 08:20:12,815 ----------------------------------------------------------------------------------------------------\n",
            "2025-05-01 08:20:12,815 Training Params:\n",
            "2025-05-01 08:20:12,816  - learning_rate: \"0.03438585961287222\" \n",
            "2025-05-01 08:20:12,817  - mini_batch_size: \"32\"\n",
            "2025-05-01 08:20:12,818  - max_epochs: \"19\"\n",
            "2025-05-01 08:20:12,818  - shuffle: \"True\"\n",
            "2025-05-01 08:20:12,819 ----------------------------------------------------------------------------------------------------\n",
            "2025-05-01 08:20:12,823 Plugins:\n",
            "2025-05-01 08:20:12,824  - AnnealOnPlateau | patience: '3', anneal_factor: '0.5', min_learning_rate: '0.0001'\n",
            "2025-05-01 08:20:12,824 ----------------------------------------------------------------------------------------------------\n",
            "2025-05-01 08:20:12,825 Final evaluation on model from best epoch (best-model.pt)\n",
            "2025-05-01 08:20:12,826  - metric: \"('micro avg', 'f1-score')\"\n",
            "2025-05-01 08:20:12,826 ----------------------------------------------------------------------------------------------------\n",
            "2025-05-01 08:20:12,827 Computation:\n",
            "2025-05-01 08:20:12,828  - compute on device: cuda:0\n",
            "2025-05-01 08:20:12,828  - embedding storage: cpu\n",
            "2025-05-01 08:20:12,829 ----------------------------------------------------------------------------------------------------\n",
            "2025-05-01 08:20:12,829 Model training base path: \"/tmp/tmpoigi5gih/model\"\n",
            "2025-05-01 08:20:12,830 ----------------------------------------------------------------------------------------------------\n",
            "2025-05-01 08:20:12,831 ----------------------------------------------------------------------------------------------------\n"
          ]
        },
        {
          "output_type": "stream",
          "name": "stderr",
          "text": [
            "\n",
            "/usr/local/lib/python3.11/dist-packages/flair/trainers/trainer.py:545: FutureWarning: `torch.cuda.amp.GradScaler(args...)` is deprecated. Please use `torch.amp.GradScaler('cuda', args...)` instead.\n",
            "  scaler = torch.cuda.amp.GradScaler(enabled=use_amp and flair.device.type != \"cpu\")\n"
          ]
        },
        {
          "output_type": "stream",
          "name": "stdout",
          "text": [
            "2025-05-01 08:20:13,411 epoch 1 - iter 1/19 - loss 2.09917474 - time (sec): 0.58 - samples/sec: 55.33 - lr: 0.034386 - momentum: 0.000000\n",
            "2025-05-01 08:20:13,639 epoch 1 - iter 2/19 - loss 1.91428477 - time (sec): 0.81 - samples/sec: 79.34 - lr: 0.034386 - momentum: 0.000000\n",
            "2025-05-01 08:20:14,152 epoch 1 - iter 3/19 - loss 1.56019574 - time (sec): 1.32 - samples/sec: 72.78 - lr: 0.034386 - momentum: 0.000000\n",
            "2025-05-01 08:20:14,516 epoch 1 - iter 4/19 - loss 1.31506813 - time (sec): 1.68 - samples/sec: 76.02 - lr: 0.034386 - momentum: 0.000000\n",
            "2025-05-01 08:20:14,922 epoch 1 - iter 5/19 - loss 1.15295062 - time (sec): 2.09 - samples/sec: 76.59 - lr: 0.034386 - momentum: 0.000000\n",
            "2025-05-01 08:20:15,363 epoch 1 - iter 6/19 - loss 1.04201777 - time (sec): 2.53 - samples/sec: 75.89 - lr: 0.034386 - momentum: 0.000000\n",
            "2025-05-01 08:20:15,767 epoch 1 - iter 7/19 - loss 0.93539656 - time (sec): 2.93 - samples/sec: 76.34 - lr: 0.034386 - momentum: 0.000000\n",
            "2025-05-01 08:20:16,221 epoch 1 - iter 8/19 - loss 0.86389893 - time (sec): 3.39 - samples/sec: 75.56 - lr: 0.034386 - momentum: 0.000000\n",
            "2025-05-01 08:20:16,660 epoch 1 - iter 9/19 - loss 0.78498880 - time (sec): 3.83 - samples/sec: 75.26 - lr: 0.034386 - momentum: 0.000000\n",
            "2025-05-01 08:20:17,124 epoch 1 - iter 10/19 - loss 0.73895778 - time (sec): 4.29 - samples/sec: 74.58 - lr: 0.034386 - momentum: 0.000000\n",
            "2025-05-01 08:20:17,659 epoch 1 - iter 11/19 - loss 0.70200259 - time (sec): 4.83 - samples/sec: 72.94 - lr: 0.034386 - momentum: 0.000000\n",
            "2025-05-01 08:20:18,153 epoch 1 - iter 12/19 - loss 0.65000216 - time (sec): 5.32 - samples/sec: 72.17 - lr: 0.034386 - momentum: 0.000000\n",
            "2025-05-01 08:20:18,539 epoch 1 - iter 13/19 - loss 0.61535600 - time (sec): 5.71 - samples/sec: 72.90 - lr: 0.034386 - momentum: 0.000000\n",
            "2025-05-01 08:20:18,969 epoch 1 - iter 14/19 - loss 0.57584248 - time (sec): 6.14 - samples/sec: 73.01 - lr: 0.034386 - momentum: 0.000000\n",
            "2025-05-01 08:20:19,461 epoch 1 - iter 15/19 - loss 0.54959190 - time (sec): 6.63 - samples/sec: 72.41 - lr: 0.034386 - momentum: 0.000000\n",
            "2025-05-01 08:20:19,950 epoch 1 - iter 16/19 - loss 0.52487537 - time (sec): 7.12 - samples/sec: 71.93 - lr: 0.034386 - momentum: 0.000000\n",
            "2025-05-01 08:20:20,439 epoch 1 - iter 17/19 - loss 0.49947983 - time (sec): 7.61 - samples/sec: 71.52 - lr: 0.034386 - momentum: 0.000000\n",
            "2025-05-01 08:20:20,808 epoch 1 - iter 18/19 - loss 0.47413037 - time (sec): 7.98 - samples/sec: 72.22 - lr: 0.034386 - momentum: 0.000000\n",
            "2025-05-01 08:20:21,206 epoch 1 - iter 19/19 - loss 0.45936954 - time (sec): 8.37 - samples/sec: 72.02 - lr: 0.034386 - momentum: 0.000000\n",
            "2025-05-01 08:20:21,207 ----------------------------------------------------------------------------------------------------\n",
            "2025-05-01 08:20:21,208 EPOCH 1 done: loss 0.4594 - lr: 0.034386\n"
          ]
        },
        {
          "output_type": "stream",
          "name": "stderr",
          "text": [
            "100%|██████████| 3/3 [00:01<00:00,  2.54it/s]"
          ]
        },
        {
          "output_type": "stream",
          "name": "stdout",
          "text": [
            "2025-05-01 08:20:22,411 DEV : loss 0.1037428081035614 - f1-score (micro avg)  0.9821\n",
            "2025-05-01 08:20:22,448  - 0 epochs without improvement\n",
            "2025-05-01 08:20:22,449 saving best model\n"
          ]
        },
        {
          "output_type": "stream",
          "name": "stderr",
          "text": [
            "\n"
          ]
        },
        {
          "output_type": "stream",
          "name": "stdout",
          "text": [
            "2025-05-01 08:20:23,605 ----------------------------------------------------------------------------------------------------\n",
            "2025-05-01 08:20:23,791 epoch 2 - iter 1/19 - loss 0.23522298 - time (sec): 0.18 - samples/sec: 174.10 - lr: 0.034386 - momentum: 0.000000\n",
            "2025-05-01 08:20:24,261 epoch 2 - iter 2/19 - loss 0.15262741 - time (sec): 0.65 - samples/sec: 97.91 - lr: 0.034386 - momentum: 0.000000\n",
            "2025-05-01 08:20:24,771 epoch 2 - iter 3/19 - loss 0.11028490 - time (sec): 1.16 - samples/sec: 82.53 - lr: 0.034386 - momentum: 0.000000\n",
            "2025-05-01 08:20:25,234 epoch 2 - iter 4/19 - loss 0.08674011 - time (sec): 1.63 - samples/sec: 78.72 - lr: 0.034386 - momentum: 0.000000\n",
            "2025-05-01 08:20:25,745 epoch 2 - iter 5/19 - loss 0.10286731 - time (sec): 2.14 - samples/sec: 74.86 - lr: 0.034386 - momentum: 0.000000\n",
            "2025-05-01 08:20:26,211 epoch 2 - iter 6/19 - loss 0.08631046 - time (sec): 2.60 - samples/sec: 73.75 - lr: 0.034386 - momentum: 0.000000\n",
            "2025-05-01 08:20:26,658 epoch 2 - iter 7/19 - loss 0.09527589 - time (sec): 3.05 - samples/sec: 73.43 - lr: 0.034386 - momentum: 0.000000\n",
            "2025-05-01 08:20:27,212 epoch 2 - iter 8/19 - loss 0.11519597 - time (sec): 3.60 - samples/sec: 71.03 - lr: 0.034386 - momentum: 0.000000\n",
            "2025-05-01 08:20:27,761 epoch 2 - iter 9/19 - loss 0.10465309 - time (sec): 4.15 - samples/sec: 69.35 - lr: 0.034386 - momentum: 0.000000\n",
            "2025-05-01 08:20:28,237 epoch 2 - iter 10/19 - loss 0.10678409 - time (sec): 4.63 - samples/sec: 69.12 - lr: 0.034386 - momentum: 0.000000\n",
            "2025-05-01 08:20:28,636 epoch 2 - iter 11/19 - loss 0.10106648 - time (sec): 5.03 - samples/sec: 70.00 - lr: 0.034386 - momentum: 0.000000\n",
            "2025-05-01 08:20:29,037 epoch 2 - iter 12/19 - loss 0.09919929 - time (sec): 5.43 - samples/sec: 70.73 - lr: 0.034386 - momentum: 0.000000\n",
            "2025-05-01 08:20:29,502 epoch 2 - iter 13/19 - loss 0.09347586 - time (sec): 5.89 - samples/sec: 70.57 - lr: 0.034386 - momentum: 0.000000\n",
            "2025-05-01 08:20:30,077 epoch 2 - iter 14/19 - loss 0.08725627 - time (sec): 6.47 - samples/sec: 69.25 - lr: 0.034386 - momentum: 0.000000\n",
            "2025-05-01 08:20:30,653 epoch 2 - iter 15/19 - loss 0.08207617 - time (sec): 7.04 - samples/sec: 68.13 - lr: 0.034386 - momentum: 0.000000\n",
            "2025-05-01 08:20:31,135 epoch 2 - iter 16/19 - loss 0.08194176 - time (sec): 7.53 - samples/sec: 68.02 - lr: 0.034386 - momentum: 0.000000\n",
            "2025-05-01 08:20:31,614 epoch 2 - iter 17/19 - loss 0.07735806 - time (sec): 8.01 - samples/sec: 67.94 - lr: 0.034386 - momentum: 0.000000\n",
            "2025-05-01 08:20:32,029 epoch 2 - iter 18/19 - loss 0.07835593 - time (sec): 8.42 - samples/sec: 68.40 - lr: 0.034386 - momentum: 0.000000\n",
            "2025-05-01 08:20:32,459 epoch 2 - iter 19/19 - loss 0.07899360 - time (sec): 8.85 - samples/sec: 68.12 - lr: 0.034386 - momentum: 0.000000\n",
            "2025-05-01 08:20:32,460 ----------------------------------------------------------------------------------------------------\n",
            "2025-05-01 08:20:32,464 EPOCH 2 done: loss 0.0790 - lr: 0.034386\n"
          ]
        },
        {
          "output_type": "stream",
          "name": "stderr",
          "text": [
            "100%|██████████| 3/3 [00:01<00:00,  2.26it/s]"
          ]
        },
        {
          "output_type": "stream",
          "name": "stdout",
          "text": [
            "2025-05-01 08:20:33,818 DEV : loss 0.08293493837118149 - f1-score (micro avg)  0.9821\n",
            "2025-05-01 08:20:33,852  - 0 epochs without improvement\n",
            "2025-05-01 08:20:33,853 ----------------------------------------------------------------------------------------------------\n"
          ]
        },
        {
          "output_type": "stream",
          "name": "stderr",
          "text": [
            "\n"
          ]
        },
        {
          "output_type": "stream",
          "name": "stdout",
          "text": [
            "2025-05-01 08:20:34,064 epoch 3 - iter 1/19 - loss 0.02283334 - time (sec): 0.21 - samples/sec: 153.59 - lr: 0.034386 - momentum: 0.000000\n",
            "2025-05-01 08:20:34,572 epoch 3 - iter 2/19 - loss 0.01939324 - time (sec): 0.72 - samples/sec: 89.27 - lr: 0.034386 - momentum: 0.000000\n",
            "2025-05-01 08:20:35,099 epoch 3 - iter 3/19 - loss 0.05611778 - time (sec): 1.24 - samples/sec: 77.15 - lr: 0.034386 - momentum: 0.000000\n",
            "2025-05-01 08:20:35,618 epoch 3 - iter 4/19 - loss 0.04272132 - time (sec): 1.76 - samples/sec: 72.60 - lr: 0.034386 - momentum: 0.000000\n",
            "2025-05-01 08:20:36,098 epoch 3 - iter 5/19 - loss 0.05318022 - time (sec): 2.24 - samples/sec: 71.33 - lr: 0.034386 - momentum: 0.000000\n",
            "2025-05-01 08:20:36,510 epoch 3 - iter 6/19 - loss 0.04801784 - time (sec): 2.65 - samples/sec: 72.33 - lr: 0.034386 - momentum: 0.000000\n",
            "2025-05-01 08:20:36,928 epoch 3 - iter 7/19 - loss 0.04159813 - time (sec): 3.07 - samples/sec: 72.89 - lr: 0.034386 - momentum: 0.000000\n",
            "2025-05-01 08:20:37,378 epoch 3 - iter 8/19 - loss 0.03757747 - time (sec): 3.52 - samples/sec: 72.67 - lr: 0.034386 - momentum: 0.000000\n",
            "2025-05-01 08:20:37,787 epoch 3 - iter 9/19 - loss 0.03358869 - time (sec): 3.93 - samples/sec: 73.25 - lr: 0.034386 - momentum: 0.000000\n",
            "2025-05-01 08:20:38,183 epoch 3 - iter 10/19 - loss 0.03118281 - time (sec): 4.33 - samples/sec: 73.95 - lr: 0.034386 - momentum: 0.000000\n",
            "2025-05-01 08:20:38,822 epoch 3 - iter 11/19 - loss 0.03034749 - time (sec): 4.97 - samples/sec: 70.87 - lr: 0.034386 - momentum: 0.000000\n",
            "2025-05-01 08:20:39,369 epoch 3 - iter 12/19 - loss 0.02797486 - time (sec): 5.51 - samples/sec: 69.64 - lr: 0.034386 - momentum: 0.000000\n",
            "2025-05-01 08:20:39,783 epoch 3 - iter 13/19 - loss 0.02724737 - time (sec): 5.93 - samples/sec: 70.18 - lr: 0.034386 - momentum: 0.000000\n",
            "2025-05-01 08:20:40,192 epoch 3 - iter 14/19 - loss 0.02558478 - time (sec): 6.34 - samples/sec: 70.70 - lr: 0.034386 - momentum: 0.000000\n",
            "2025-05-01 08:20:40,594 epoch 3 - iter 15/19 - loss 0.04043243 - time (sec): 6.74 - samples/sec: 71.23 - lr: 0.034386 - momentum: 0.000000\n",
            "2025-05-01 08:20:41,039 epoch 3 - iter 16/19 - loss 0.03820792 - time (sec): 7.18 - samples/sec: 71.27 - lr: 0.034386 - momentum: 0.000000\n",
            "2025-05-01 08:20:41,516 epoch 3 - iter 17/19 - loss 0.05805934 - time (sec): 7.66 - samples/sec: 71.01 - lr: 0.034386 - momentum: 0.000000\n",
            "2025-05-01 08:20:42,061 epoch 3 - iter 18/19 - loss 0.05493115 - time (sec): 8.21 - samples/sec: 70.20 - lr: 0.034386 - momentum: 0.000000\n",
            "2025-05-01 08:20:42,500 epoch 3 - iter 19/19 - loss 0.05731171 - time (sec): 8.65 - samples/sec: 69.75 - lr: 0.034386 - momentum: 0.000000\n",
            "2025-05-01 08:20:42,506 ----------------------------------------------------------------------------------------------------\n",
            "2025-05-01 08:20:42,517 EPOCH 3 done: loss 0.0573 - lr: 0.034386\n"
          ]
        },
        {
          "output_type": "stream",
          "name": "stderr",
          "text": [
            "100%|██████████| 3/3 [00:01<00:00,  2.21it/s]"
          ]
        },
        {
          "output_type": "stream",
          "name": "stdout",
          "text": [
            "2025-05-01 08:20:43,933 DEV : loss 0.162916362285614 - f1-score (micro avg)  0.9702\n",
            "2025-05-01 08:20:44,058  - 1 epochs without improvement\n",
            "2025-05-01 08:20:44,060 ----------------------------------------------------------------------------------------------------\n"
          ]
        },
        {
          "output_type": "stream",
          "name": "stderr",
          "text": [
            "\n"
          ]
        },
        {
          "output_type": "stream",
          "name": "stdout",
          "text": [
            "2025-05-01 08:20:44,395 epoch 4 - iter 1/19 - loss 0.00092996 - time (sec): 0.32 - samples/sec: 101.24 - lr: 0.034386 - momentum: 0.000000\n",
            "2025-05-01 08:20:44,872 epoch 4 - iter 2/19 - loss 0.03940922 - time (sec): 0.79 - samples/sec: 80.78 - lr: 0.034386 - momentum: 0.000000\n",
            "2025-05-01 08:20:45,428 epoch 4 - iter 3/19 - loss 0.02647864 - time (sec): 1.35 - samples/sec: 71.17 - lr: 0.034386 - momentum: 0.000000\n",
            "2025-05-01 08:20:45,841 epoch 4 - iter 4/19 - loss 0.02011203 - time (sec): 1.76 - samples/sec: 72.67 - lr: 0.034386 - momentum: 0.000000\n",
            "2025-05-01 08:20:46,247 epoch 4 - iter 5/19 - loss 0.03222226 - time (sec): 2.17 - samples/sec: 73.83 - lr: 0.034386 - momentum: 0.000000\n",
            "2025-05-01 08:20:46,638 epoch 4 - iter 6/19 - loss 0.02856187 - time (sec): 2.56 - samples/sec: 75.03 - lr: 0.034386 - momentum: 0.000000\n",
            "2025-05-01 08:20:47,103 epoch 4 - iter 7/19 - loss 0.03154675 - time (sec): 3.02 - samples/sec: 74.08 - lr: 0.034386 - momentum: 0.000000\n",
            "2025-05-01 08:20:47,570 epoch 4 - iter 8/19 - loss 0.05206456 - time (sec): 3.49 - samples/sec: 73.34 - lr: 0.034386 - momentum: 0.000000\n",
            "2025-05-01 08:20:48,017 epoch 4 - iter 9/19 - loss 0.04672993 - time (sec): 3.94 - samples/sec: 73.15 - lr: 0.034386 - momentum: 0.000000\n",
            "2025-05-01 08:20:48,454 epoch 4 - iter 10/19 - loss 0.04292532 - time (sec): 4.37 - samples/sec: 73.15 - lr: 0.034386 - momentum: 0.000000\n",
            "2025-05-01 08:20:48,871 epoch 4 - iter 11/19 - loss 0.04040998 - time (sec): 4.79 - samples/sec: 73.46 - lr: 0.034386 - momentum: 0.000000\n",
            "2025-05-01 08:20:49,372 epoch 4 - iter 12/19 - loss 0.03762598 - time (sec): 5.29 - samples/sec: 72.55 - lr: 0.034386 - momentum: 0.000000\n",
            "2025-05-01 08:20:49,976 epoch 4 - iter 13/19 - loss 0.03477528 - time (sec): 5.90 - samples/sec: 70.55 - lr: 0.034386 - momentum: 0.000000\n",
            "2025-05-01 08:20:50,498 epoch 4 - iter 14/19 - loss 0.03243296 - time (sec): 6.42 - samples/sec: 69.79 - lr: 0.034386 - momentum: 0.000000\n",
            "2025-05-01 08:20:50,936 epoch 4 - iter 15/19 - loss 0.03341972 - time (sec): 6.86 - samples/sec: 70.01 - lr: 0.034386 - momentum: 0.000000\n",
            "2025-05-01 08:20:51,342 epoch 4 - iter 16/19 - loss 0.03225327 - time (sec): 7.26 - samples/sec: 70.50 - lr: 0.034386 - momentum: 0.000000\n",
            "2025-05-01 08:20:51,907 epoch 4 - iter 17/19 - loss 0.03229217 - time (sec): 7.83 - samples/sec: 69.50 - lr: 0.034386 - momentum: 0.000000\n",
            "2025-05-01 08:20:52,393 epoch 4 - iter 18/19 - loss 0.03052610 - time (sec): 8.31 - samples/sec: 69.28 - lr: 0.034386 - momentum: 0.000000\n",
            "2025-05-01 08:20:52,832 epoch 4 - iter 19/19 - loss 0.03006894 - time (sec): 8.75 - samples/sec: 68.89 - lr: 0.034386 - momentum: 0.000000\n",
            "2025-05-01 08:20:52,833 ----------------------------------------------------------------------------------------------------\n",
            "2025-05-01 08:20:52,834 EPOCH 4 done: loss 0.0301 - lr: 0.034386\n"
          ]
        },
        {
          "output_type": "stream",
          "name": "stderr",
          "text": [
            "100%|██████████| 3/3 [00:01<00:00,  2.30it/s]"
          ]
        },
        {
          "output_type": "stream",
          "name": "stdout",
          "text": [
            "2025-05-01 08:20:54,162 DEV : loss 0.19780831038951874 - f1-score (micro avg)  0.9464\n",
            "2025-05-01 08:20:54,195  - 2 epochs without improvement\n",
            "2025-05-01 08:20:54,196 ----------------------------------------------------------------------------------------------------\n",
            "2025-05-01 08:20:54,323 epoch 5 - iter 1/19 - loss 0.01045141 - time (sec): 0.12 - samples/sec: 257.09 - lr: 0.034386 - momentum: 0.000000\n"
          ]
        },
        {
          "output_type": "stream",
          "name": "stderr",
          "text": [
            "\n"
          ]
        },
        {
          "output_type": "stream",
          "name": "stdout",
          "text": [
            "2025-05-01 08:20:54,749 epoch 5 - iter 2/19 - loss 0.01050214 - time (sec): 0.55 - samples/sec: 116.41 - lr: 0.034386 - momentum: 0.000000\n",
            "2025-05-01 08:20:55,304 epoch 5 - iter 3/19 - loss 0.06069338 - time (sec): 1.10 - samples/sec: 86.89 - lr: 0.034386 - momentum: 0.000000\n",
            "2025-05-01 08:20:55,798 epoch 5 - iter 4/19 - loss 0.04558448 - time (sec): 1.60 - samples/sec: 80.05 - lr: 0.034386 - momentum: 0.000000\n",
            "2025-05-01 08:20:56,375 epoch 5 - iter 5/19 - loss 0.03666503 - time (sec): 2.18 - samples/sec: 73.52 - lr: 0.034386 - momentum: 0.000000\n",
            "2025-05-01 08:20:56,884 epoch 5 - iter 6/19 - loss 0.03173042 - time (sec): 2.69 - samples/sec: 71.50 - lr: 0.034386 - momentum: 0.000000\n",
            "2025-05-01 08:20:57,362 epoch 5 - iter 7/19 - loss 0.02748213 - time (sec): 3.16 - samples/sec: 70.81 - lr: 0.034386 - momentum: 0.000000\n",
            "2025-05-01 08:20:57,831 epoch 5 - iter 8/19 - loss 0.02613008 - time (sec): 3.63 - samples/sec: 70.49 - lr: 0.034386 - momentum: 0.000000\n",
            "2025-05-01 08:20:58,147 epoch 5 - iter 9/19 - loss 0.02386196 - time (sec): 3.95 - samples/sec: 72.94 - lr: 0.034386 - momentum: 0.000000\n",
            "2025-05-01 08:20:58,582 epoch 5 - iter 10/19 - loss 0.04565424 - time (sec): 4.38 - samples/sec: 73.00 - lr: 0.034386 - momentum: 0.000000\n",
            "2025-05-01 08:20:59,104 epoch 5 - iter 11/19 - loss 0.04180379 - time (sec): 4.91 - samples/sec: 71.75 - lr: 0.034386 - momentum: 0.000000\n",
            "2025-05-01 08:20:59,489 epoch 5 - iter 12/19 - loss 0.03839685 - time (sec): 5.29 - samples/sec: 72.59 - lr: 0.034386 - momentum: 0.000000\n",
            "2025-05-01 08:20:59,912 epoch 5 - iter 13/19 - loss 0.03547237 - time (sec): 5.71 - samples/sec: 72.82 - lr: 0.034386 - momentum: 0.000000\n",
            "2025-05-01 08:21:00,463 epoch 5 - iter 14/19 - loss 0.03314626 - time (sec): 6.26 - samples/sec: 71.52 - lr: 0.034386 - momentum: 0.000000\n",
            "2025-05-01 08:21:00,977 epoch 5 - iter 15/19 - loss 0.04847659 - time (sec): 6.78 - samples/sec: 70.81 - lr: 0.034386 - momentum: 0.000000\n",
            "2025-05-01 08:21:01,414 epoch 5 - iter 16/19 - loss 0.04597190 - time (sec): 7.21 - samples/sec: 70.97 - lr: 0.034386 - momentum: 0.000000\n",
            "2025-05-01 08:21:01,912 epoch 5 - iter 17/19 - loss 0.04328347 - time (sec): 7.71 - samples/sec: 70.53 - lr: 0.034386 - momentum: 0.000000\n",
            "2025-05-01 08:21:02,428 epoch 5 - iter 18/19 - loss 0.04088892 - time (sec): 8.23 - samples/sec: 69.99 - lr: 0.034386 - momentum: 0.000000\n",
            "2025-05-01 08:21:02,829 epoch 5 - iter 19/19 - loss 0.04200140 - time (sec): 8.63 - samples/sec: 69.87 - lr: 0.034386 - momentum: 0.000000\n",
            "2025-05-01 08:21:02,830 ----------------------------------------------------------------------------------------------------\n",
            "2025-05-01 08:21:02,831 EPOCH 5 done: loss 0.0420 - lr: 0.034386\n"
          ]
        },
        {
          "output_type": "stream",
          "name": "stderr",
          "text": [
            "100%|██████████| 3/3 [00:01<00:00,  2.40it/s]"
          ]
        },
        {
          "output_type": "stream",
          "name": "stdout",
          "text": [
            "2025-05-01 08:21:04,116 DEV : loss 0.22918328642845154 - f1-score (micro avg)  0.9643\n",
            "2025-05-01 08:21:04,171  - 3 epochs without improvement\n",
            "2025-05-01 08:21:04,172 ----------------------------------------------------------------------------------------------------\n"
          ]
        },
        {
          "output_type": "stream",
          "name": "stderr",
          "text": [
            "\n"
          ]
        },
        {
          "output_type": "stream",
          "name": "stdout",
          "text": [
            "2025-05-01 08:21:04,377 epoch 6 - iter 1/19 - loss 0.00167381 - time (sec): 0.20 - samples/sec: 158.06 - lr: 0.034386 - momentum: 0.000000\n",
            "2025-05-01 08:21:04,842 epoch 6 - iter 2/19 - loss 0.00228485 - time (sec): 0.67 - samples/sec: 95.82 - lr: 0.034386 - momentum: 0.000000\n",
            "2025-05-01 08:21:05,349 epoch 6 - iter 3/19 - loss 0.00162216 - time (sec): 1.17 - samples/sec: 81.75 - lr: 0.034386 - momentum: 0.000000\n",
            "2025-05-01 08:21:05,855 epoch 6 - iter 4/19 - loss 0.00134405 - time (sec): 1.68 - samples/sec: 76.16 - lr: 0.034386 - momentum: 0.000000\n",
            "2025-05-01 08:21:06,281 epoch 6 - iter 5/19 - loss 0.00339012 - time (sec): 2.11 - samples/sec: 75.97 - lr: 0.034386 - momentum: 0.000000\n",
            "2025-05-01 08:21:06,733 epoch 6 - iter 6/19 - loss 0.00301892 - time (sec): 2.56 - samples/sec: 75.03 - lr: 0.034386 - momentum: 0.000000\n",
            "2025-05-01 08:21:07,230 epoch 6 - iter 7/19 - loss 0.00264010 - time (sec): 3.05 - samples/sec: 73.32 - lr: 0.034386 - momentum: 0.000000\n",
            "2025-05-01 08:21:07,706 epoch 6 - iter 8/19 - loss 0.00271049 - time (sec): 3.53 - samples/sec: 72.49 - lr: 0.034386 - momentum: 0.000000\n",
            "2025-05-01 08:21:08,194 epoch 6 - iter 9/19 - loss 0.00242972 - time (sec): 4.02 - samples/sec: 71.65 - lr: 0.034386 - momentum: 0.000000\n",
            "2025-05-01 08:21:08,624 epoch 6 - iter 10/19 - loss 0.00554912 - time (sec): 4.45 - samples/sec: 71.92 - lr: 0.034386 - momentum: 0.000000\n",
            "2025-05-01 08:21:09,139 epoch 6 - iter 11/19 - loss 0.00654750 - time (sec): 4.96 - samples/sec: 70.91 - lr: 0.034386 - momentum: 0.000000\n",
            "2025-05-01 08:21:09,668 epoch 6 - iter 12/19 - loss 0.00618008 - time (sec): 5.49 - samples/sec: 69.90 - lr: 0.034386 - momentum: 0.000000\n",
            "2025-05-01 08:21:10,105 epoch 6 - iter 13/19 - loss 0.00848431 - time (sec): 5.93 - samples/sec: 70.14 - lr: 0.034386 - momentum: 0.000000\n",
            "2025-05-01 08:21:10,551 epoch 6 - iter 14/19 - loss 0.01211189 - time (sec): 6.38 - samples/sec: 70.26 - lr: 0.034386 - momentum: 0.000000\n",
            "2025-05-01 08:21:11,050 epoch 6 - iter 15/19 - loss 0.02527455 - time (sec): 6.88 - samples/sec: 69.81 - lr: 0.034386 - momentum: 0.000000\n",
            "2025-05-01 08:21:11,557 epoch 6 - iter 16/19 - loss 0.02424300 - time (sec): 7.38 - samples/sec: 69.35 - lr: 0.034386 - momentum: 0.000000\n",
            "2025-05-01 08:21:12,024 epoch 6 - iter 17/19 - loss 0.02288397 - time (sec): 7.85 - samples/sec: 69.31 - lr: 0.034386 - momentum: 0.000000\n",
            "2025-05-01 08:21:12,495 epoch 6 - iter 18/19 - loss 0.02164334 - time (sec): 8.32 - samples/sec: 69.23 - lr: 0.034386 - momentum: 0.000000\n",
            "2025-05-01 08:21:13,049 epoch 6 - iter 19/19 - loss 0.02072797 - time (sec): 8.87 - samples/sec: 67.95 - lr: 0.034386 - momentum: 0.000000\n",
            "2025-05-01 08:21:13,050 ----------------------------------------------------------------------------------------------------\n",
            "2025-05-01 08:21:13,051 EPOCH 6 done: loss 0.0207 - lr: 0.034386\n"
          ]
        },
        {
          "output_type": "stream",
          "name": "stderr",
          "text": [
            "100%|██████████| 3/3 [00:01<00:00,  2.32it/s]"
          ]
        },
        {
          "output_type": "stream",
          "name": "stdout",
          "text": [
            "2025-05-01 08:21:14,367 DEV : loss 0.1821536272764206 - f1-score (micro avg)  0.9643\n",
            "2025-05-01 08:21:14,406  - 4 epochs without improvement (above 'patience')-> annealing learning_rate to [0.01719292980643611]\n",
            "2025-05-01 08:21:14,409 ----------------------------------------------------------------------------------------------------\n"
          ]
        },
        {
          "output_type": "stream",
          "name": "stderr",
          "text": [
            "\n"
          ]
        },
        {
          "output_type": "stream",
          "name": "stdout",
          "text": [
            "2025-05-01 08:21:14,623 epoch 7 - iter 1/19 - loss 0.00023325 - time (sec): 0.21 - samples/sec: 151.39 - lr: 0.017193 - momentum: 0.000000\n",
            "2025-05-01 08:21:15,134 epoch 7 - iter 2/19 - loss 0.00088633 - time (sec): 0.72 - samples/sec: 88.66 - lr: 0.017193 - momentum: 0.000000\n",
            "2025-05-01 08:21:15,685 epoch 7 - iter 3/19 - loss 0.00063447 - time (sec): 1.27 - samples/sec: 75.37 - lr: 0.017193 - momentum: 0.000000\n",
            "2025-05-01 08:21:16,193 epoch 7 - iter 4/19 - loss 0.00051650 - time (sec): 1.78 - samples/sec: 71.84 - lr: 0.017193 - momentum: 0.000000\n",
            "2025-05-01 08:21:16,654 epoch 7 - iter 5/19 - loss 0.00046036 - time (sec): 2.24 - samples/sec: 71.35 - lr: 0.017193 - momentum: 0.000000\n",
            "2025-05-01 08:21:17,204 epoch 7 - iter 6/19 - loss 0.00412436 - time (sec): 2.79 - samples/sec: 68.75 - lr: 0.017193 - momentum: 0.000000\n",
            "2025-05-01 08:21:17,677 epoch 7 - iter 7/19 - loss 0.00357248 - time (sec): 3.26 - samples/sec: 68.61 - lr: 0.017193 - momentum: 0.000000\n",
            "2025-05-01 08:21:18,121 epoch 7 - iter 8/19 - loss 0.00314930 - time (sec): 3.71 - samples/sec: 69.02 - lr: 0.017193 - momentum: 0.000000\n",
            "2025-05-01 08:21:18,518 epoch 7 - iter 9/19 - loss 0.00282217 - time (sec): 4.11 - samples/sec: 70.14 - lr: 0.017193 - momentum: 0.000000\n",
            "2025-05-01 08:21:18,944 epoch 7 - iter 10/19 - loss 0.00257087 - time (sec): 4.53 - samples/sec: 70.60 - lr: 0.017193 - momentum: 0.000000\n",
            "2025-05-01 08:21:19,326 epoch 7 - iter 11/19 - loss 0.00243291 - time (sec): 4.91 - samples/sec: 71.63 - lr: 0.017193 - momentum: 0.000000\n",
            "2025-05-01 08:21:19,727 epoch 7 - iter 12/19 - loss 0.00224234 - time (sec): 5.32 - samples/sec: 72.24 - lr: 0.017193 - momentum: 0.000000\n",
            "2025-05-01 08:21:20,118 epoch 7 - iter 13/19 - loss 0.00236055 - time (sec): 5.71 - samples/sec: 72.90 - lr: 0.017193 - momentum: 0.000000\n",
            "2025-05-01 08:21:20,523 epoch 7 - iter 14/19 - loss 0.00220962 - time (sec): 6.11 - samples/sec: 73.30 - lr: 0.017193 - momentum: 0.000000\n",
            "2025-05-01 08:21:20,998 epoch 7 - iter 15/19 - loss 0.00211952 - time (sec): 6.59 - samples/sec: 72.88 - lr: 0.017193 - momentum: 0.000000\n",
            "2025-05-01 08:21:21,465 epoch 7 - iter 16/19 - loss 0.00199515 - time (sec): 7.05 - samples/sec: 72.59 - lr: 0.017193 - momentum: 0.000000\n",
            "2025-05-01 08:21:21,805 epoch 7 - iter 17/19 - loss 0.00450866 - time (sec): 7.39 - samples/sec: 73.59 - lr: 0.017193 - momentum: 0.000000\n",
            "2025-05-01 08:21:22,238 epoch 7 - iter 18/19 - loss 0.00428495 - time (sec): 7.83 - samples/sec: 73.60 - lr: 0.017193 - momentum: 0.000000\n",
            "2025-05-01 08:21:22,671 epoch 7 - iter 19/19 - loss 0.00409434 - time (sec): 8.26 - samples/sec: 73.01 - lr: 0.017193 - momentum: 0.000000\n",
            "2025-05-01 08:21:22,676 ----------------------------------------------------------------------------------------------------\n",
            "2025-05-01 08:21:22,676 EPOCH 7 done: loss 0.0041 - lr: 0.017193\n"
          ]
        },
        {
          "output_type": "stream",
          "name": "stderr",
          "text": [
            "100%|██████████| 3/3 [00:01<00:00,  2.42it/s]"
          ]
        },
        {
          "output_type": "stream",
          "name": "stdout",
          "text": [
            "2025-05-01 08:21:23,950 DEV : loss 0.16224010288715363 - f1-score (micro avg)  0.9702\n",
            "2025-05-01 08:21:24,017  - 1 epochs without improvement\n",
            "2025-05-01 08:21:24,019 ----------------------------------------------------------------------------------------------------\n"
          ]
        },
        {
          "output_type": "stream",
          "name": "stderr",
          "text": [
            "\n"
          ]
        },
        {
          "output_type": "stream",
          "name": "stdout",
          "text": [
            "2025-05-01 08:21:24,262 epoch 8 - iter 1/19 - loss 0.00009053 - time (sec): 0.24 - samples/sec: 135.14 - lr: 0.017193 - momentum: 0.000000\n",
            "2025-05-01 08:21:24,829 epoch 8 - iter 2/19 - loss 0.00006177 - time (sec): 0.80 - samples/sec: 79.69 - lr: 0.017193 - momentum: 0.000000\n",
            "2025-05-01 08:21:25,396 epoch 8 - iter 3/19 - loss 0.00013484 - time (sec): 1.37 - samples/sec: 70.07 - lr: 0.017193 - momentum: 0.000000\n",
            "2025-05-01 08:21:25,863 epoch 8 - iter 4/19 - loss 0.00016805 - time (sec): 1.84 - samples/sec: 69.67 - lr: 0.017193 - momentum: 0.000000\n",
            "2025-05-01 08:21:26,348 epoch 8 - iter 5/19 - loss 0.00020414 - time (sec): 2.32 - samples/sec: 68.90 - lr: 0.017193 - momentum: 0.000000\n",
            "2025-05-01 08:21:26,849 epoch 8 - iter 6/19 - loss 0.00017196 - time (sec): 2.82 - samples/sec: 67.99 - lr: 0.017193 - momentum: 0.000000\n",
            "2025-05-01 08:21:27,249 epoch 8 - iter 7/19 - loss 0.00016886 - time (sec): 3.22 - samples/sec: 69.49 - lr: 0.017193 - momentum: 0.000000\n",
            "2025-05-01 08:21:27,696 epoch 8 - iter 8/19 - loss 0.00015448 - time (sec): 3.67 - samples/sec: 69.74 - lr: 0.017193 - momentum: 0.000000\n",
            "2025-05-01 08:21:28,188 epoch 8 - iter 9/19 - loss 0.00014728 - time (sec): 4.16 - samples/sec: 69.19 - lr: 0.017193 - momentum: 0.000000\n",
            "2025-05-01 08:21:28,640 epoch 8 - iter 10/19 - loss 0.00028961 - time (sec): 4.61 - samples/sec: 69.35 - lr: 0.017193 - momentum: 0.000000\n",
            "2025-05-01 08:21:29,046 epoch 8 - iter 11/19 - loss 0.00026503 - time (sec): 5.02 - samples/sec: 70.11 - lr: 0.017193 - momentum: 0.000000\n",
            "2025-05-01 08:21:29,448 epoch 8 - iter 12/19 - loss 0.00026781 - time (sec): 5.42 - samples/sec: 70.82 - lr: 0.017193 - momentum: 0.000000\n",
            "2025-05-01 08:21:29,897 epoch 8 - iter 13/19 - loss 0.00025211 - time (sec): 5.87 - samples/sec: 70.85 - lr: 0.017193 - momentum: 0.000000\n",
            "2025-05-01 08:21:30,353 epoch 8 - iter 14/19 - loss 0.00024297 - time (sec): 6.33 - samples/sec: 70.80 - lr: 0.017193 - momentum: 0.000000\n",
            "2025-05-01 08:21:30,822 epoch 8 - iter 15/19 - loss 0.00022803 - time (sec): 6.80 - samples/sec: 70.62 - lr: 0.017193 - momentum: 0.000000\n",
            "2025-05-01 08:21:31,275 epoch 8 - iter 16/19 - loss 0.00021484 - time (sec): 7.25 - samples/sec: 70.63 - lr: 0.017193 - momentum: 0.000000\n",
            "2025-05-01 08:21:31,832 epoch 8 - iter 17/19 - loss 0.00020447 - time (sec): 7.81 - samples/sec: 69.68 - lr: 0.017193 - momentum: 0.000000\n",
            "2025-05-01 08:21:32,324 epoch 8 - iter 18/19 - loss 0.00021484 - time (sec): 8.30 - samples/sec: 69.41 - lr: 0.017193 - momentum: 0.000000\n",
            "2025-05-01 08:21:32,717 epoch 8 - iter 19/19 - loss 0.00040388 - time (sec): 8.69 - samples/sec: 69.37 - lr: 0.017193 - momentum: 0.000000\n",
            "2025-05-01 08:21:32,719 ----------------------------------------------------------------------------------------------------\n",
            "2025-05-01 08:21:32,720 EPOCH 8 done: loss 0.0004 - lr: 0.017193\n"
          ]
        },
        {
          "output_type": "stream",
          "name": "stderr",
          "text": [
            "100%|██████████| 3/3 [00:01<00:00,  2.52it/s]"
          ]
        },
        {
          "output_type": "stream",
          "name": "stdout",
          "text": [
            "2025-05-01 08:21:33,939 DEV : loss 0.17510749399662018 - f1-score (micro avg)  0.9643\n",
            "2025-05-01 08:21:33,974  - 2 epochs without improvement\n",
            "2025-05-01 08:21:33,975 ----------------------------------------------------------------------------------------------------\n"
          ]
        },
        {
          "output_type": "stream",
          "name": "stderr",
          "text": [
            "\n"
          ]
        },
        {
          "output_type": "stream",
          "name": "stdout",
          "text": [
            "2025-05-01 08:21:34,217 epoch 9 - iter 1/19 - loss 0.00001303 - time (sec): 0.24 - samples/sec: 133.84 - lr: 0.017193 - momentum: 0.000000\n",
            "2025-05-01 08:21:34,746 epoch 9 - iter 2/19 - loss 0.00005570 - time (sec): 0.77 - samples/sec: 83.38 - lr: 0.017193 - momentum: 0.000000\n",
            "2025-05-01 08:21:35,244 epoch 9 - iter 3/19 - loss 0.00004625 - time (sec): 1.27 - samples/sec: 75.85 - lr: 0.017193 - momentum: 0.000000\n",
            "2025-05-01 08:21:35,651 epoch 9 - iter 4/19 - loss 0.00008044 - time (sec): 1.67 - samples/sec: 76.51 - lr: 0.017193 - momentum: 0.000000\n",
            "2025-05-01 08:21:36,040 epoch 9 - iter 5/19 - loss 0.01487245 - time (sec): 2.06 - samples/sec: 77.59 - lr: 0.017193 - momentum: 0.000000\n",
            "2025-05-01 08:21:36,451 epoch 9 - iter 6/19 - loss 0.01239771 - time (sec): 2.47 - samples/sec: 77.65 - lr: 0.017193 - momentum: 0.000000\n",
            "2025-05-01 08:21:36,934 epoch 9 - iter 7/19 - loss 0.01063003 - time (sec): 2.96 - samples/sec: 75.78 - lr: 0.017193 - momentum: 0.000000\n",
            "2025-05-01 08:21:37,385 epoch 9 - iter 8/19 - loss 0.00930530 - time (sec): 3.41 - samples/sec: 75.14 - lr: 0.017193 - momentum: 0.000000\n",
            "2025-05-01 08:21:37,929 epoch 9 - iter 9/19 - loss 0.00827723 - time (sec): 3.95 - samples/sec: 72.90 - lr: 0.017193 - momentum: 0.000000\n",
            "2025-05-01 08:21:38,403 epoch 9 - iter 10/19 - loss 0.00745082 - time (sec): 4.43 - samples/sec: 72.31 - lr: 0.017193 - momentum: 0.000000\n",
            "2025-05-01 08:21:38,740 epoch 9 - iter 11/19 - loss 0.00678370 - time (sec): 4.76 - samples/sec: 73.92 - lr: 0.017193 - momentum: 0.000000\n",
            "2025-05-01 08:21:39,214 epoch 9 - iter 12/19 - loss 0.00625382 - time (sec): 5.24 - samples/sec: 73.34 - lr: 0.017193 - momentum: 0.000000\n",
            "2025-05-01 08:21:39,768 epoch 9 - iter 13/19 - loss 0.00577364 - time (sec): 5.79 - samples/sec: 71.84 - lr: 0.017193 - momentum: 0.000000\n",
            "2025-05-01 08:21:40,296 epoch 9 - iter 14/19 - loss 0.00536192 - time (sec): 6.32 - samples/sec: 70.91 - lr: 0.017193 - momentum: 0.000000\n",
            "2025-05-01 08:21:40,755 epoch 9 - iter 15/19 - loss 0.00534779 - time (sec): 6.78 - samples/sec: 70.83 - lr: 0.017193 - momentum: 0.000000\n",
            "2025-05-01 08:21:41,169 epoch 9 - iter 16/19 - loss 0.00501685 - time (sec): 7.19 - samples/sec: 71.20 - lr: 0.017193 - momentum: 0.000000\n",
            "2025-05-01 08:21:41,590 epoch 9 - iter 17/19 - loss 0.00472558 - time (sec): 7.61 - samples/sec: 71.47 - lr: 0.017193 - momentum: 0.000000\n",
            "2025-05-01 08:21:42,001 epoch 9 - iter 18/19 - loss 0.00447096 - time (sec): 8.02 - samples/sec: 71.79 - lr: 0.017193 - momentum: 0.000000\n",
            "2025-05-01 08:21:42,446 epoch 9 - iter 19/19 - loss 0.00427116 - time (sec): 8.47 - samples/sec: 71.21 - lr: 0.017193 - momentum: 0.000000\n",
            "2025-05-01 08:21:42,447 ----------------------------------------------------------------------------------------------------\n",
            "2025-05-01 08:21:42,448 EPOCH 9 done: loss 0.0043 - lr: 0.017193\n"
          ]
        },
        {
          "output_type": "stream",
          "name": "stderr",
          "text": [
            "100%|██████████| 3/3 [00:01<00:00,  2.39it/s]"
          ]
        },
        {
          "output_type": "stream",
          "name": "stdout",
          "text": [
            "2025-05-01 08:21:43,724 DEV : loss 0.1657159924507141 - f1-score (micro avg)  0.9762\n",
            "2025-05-01 08:21:43,760  - 3 epochs without improvement\n",
            "2025-05-01 08:21:43,761 ----------------------------------------------------------------------------------------------------\n"
          ]
        },
        {
          "output_type": "stream",
          "name": "stderr",
          "text": [
            "\n"
          ]
        },
        {
          "output_type": "stream",
          "name": "stdout",
          "text": [
            "2025-05-01 08:21:43,993 epoch 10 - iter 1/19 - loss 0.00003542 - time (sec): 0.23 - samples/sec: 139.30 - lr: 0.017193 - momentum: 0.000000\n",
            "2025-05-01 08:21:44,524 epoch 10 - iter 2/19 - loss 0.00035346 - time (sec): 0.76 - samples/sec: 84.21 - lr: 0.017193 - momentum: 0.000000\n",
            "2025-05-01 08:21:45,025 epoch 10 - iter 3/19 - loss 0.00024406 - time (sec): 1.26 - samples/sec: 76.11 - lr: 0.017193 - momentum: 0.000000\n",
            "2025-05-01 08:21:45,607 epoch 10 - iter 4/19 - loss 0.00026611 - time (sec): 1.84 - samples/sec: 69.44 - lr: 0.017193 - momentum: 0.000000\n",
            "2025-05-01 08:21:46,132 epoch 10 - iter 5/19 - loss 0.00021999 - time (sec): 2.37 - samples/sec: 67.55 - lr: 0.017193 - momentum: 0.000000\n",
            "2025-05-01 08:21:46,594 epoch 10 - iter 6/19 - loss 0.01049197 - time (sec): 2.83 - samples/sec: 67.82 - lr: 0.017193 - momentum: 0.000000\n",
            "2025-05-01 08:21:47,070 epoch 10 - iter 7/19 - loss 0.00902275 - time (sec): 3.31 - samples/sec: 67.76 - lr: 0.017193 - momentum: 0.000000\n",
            "2025-05-01 08:21:47,463 epoch 10 - iter 8/19 - loss 0.00789800 - time (sec): 3.70 - samples/sec: 69.19 - lr: 0.017193 - momentum: 0.000000\n",
            "2025-05-01 08:21:47,903 epoch 10 - iter 9/19 - loss 0.00702335 - time (sec): 4.14 - samples/sec: 69.57 - lr: 0.017193 - momentum: 0.000000\n",
            "2025-05-01 08:21:48,374 epoch 10 - iter 10/19 - loss 0.00635164 - time (sec): 4.61 - samples/sec: 69.41 - lr: 0.017193 - momentum: 0.000000\n",
            "2025-05-01 08:21:48,816 epoch 10 - iter 11/19 - loss 0.00577805 - time (sec): 5.05 - samples/sec: 69.68 - lr: 0.017193 - momentum: 0.000000\n",
            "2025-05-01 08:21:49,332 epoch 10 - iter 12/19 - loss 0.00529773 - time (sec): 5.57 - samples/sec: 68.97 - lr: 0.017193 - momentum: 0.000000\n",
            "2025-05-01 08:21:49,784 epoch 10 - iter 13/19 - loss 0.00489240 - time (sec): 6.02 - samples/sec: 69.09 - lr: 0.017193 - momentum: 0.000000\n",
            "2025-05-01 08:21:50,353 epoch 10 - iter 14/19 - loss 0.00454948 - time (sec): 6.59 - samples/sec: 67.99 - lr: 0.017193 - momentum: 0.000000\n",
            "2025-05-01 08:21:50,711 epoch 10 - iter 15/19 - loss 0.00427269 - time (sec): 6.95 - samples/sec: 69.09 - lr: 0.017193 - momentum: 0.000000\n",
            "2025-05-01 08:21:51,114 epoch 10 - iter 16/19 - loss 0.00400711 - time (sec): 7.35 - samples/sec: 69.66 - lr: 0.017193 - momentum: 0.000000\n",
            "2025-05-01 08:21:51,575 epoch 10 - iter 17/19 - loss 0.00377257 - time (sec): 7.81 - samples/sec: 69.64 - lr: 0.017193 - momentum: 0.000000\n",
            "2025-05-01 08:21:52,086 epoch 10 - iter 18/19 - loss 0.00356358 - time (sec): 8.32 - samples/sec: 69.21 - lr: 0.017193 - momentum: 0.000000\n",
            "2025-05-01 08:21:52,494 epoch 10 - iter 19/19 - loss 0.00340736 - time (sec): 8.73 - samples/sec: 69.07 - lr: 0.017193 - momentum: 0.000000\n",
            "2025-05-01 08:21:52,495 ----------------------------------------------------------------------------------------------------\n",
            "2025-05-01 08:21:52,496 EPOCH 10 done: loss 0.0034 - lr: 0.017193\n"
          ]
        },
        {
          "output_type": "stream",
          "name": "stderr",
          "text": [
            "100%|██████████| 3/3 [00:01<00:00,  2.39it/s]"
          ]
        },
        {
          "output_type": "stream",
          "name": "stdout",
          "text": [
            "2025-05-01 08:21:53,779 DEV : loss 0.17796966433525085 - f1-score (micro avg)  0.9702\n",
            "2025-05-01 08:21:53,815  - 4 epochs without improvement (above 'patience')-> annealing learning_rate to [0.008596464903218056]\n",
            "2025-05-01 08:21:53,816 ----------------------------------------------------------------------------------------------------\n"
          ]
        },
        {
          "output_type": "stream",
          "name": "stderr",
          "text": [
            "\n"
          ]
        },
        {
          "output_type": "stream",
          "name": "stdout",
          "text": [
            "2025-05-01 08:21:54,044 epoch 11 - iter 1/19 - loss 0.00005118 - time (sec): 0.23 - samples/sec: 141.50 - lr: 0.008596 - momentum: 0.000000\n",
            "2025-05-01 08:21:54,602 epoch 11 - iter 2/19 - loss 0.00003493 - time (sec): 0.78 - samples/sec: 81.65 - lr: 0.008596 - momentum: 0.000000\n",
            "2025-05-01 08:21:55,178 epoch 11 - iter 3/19 - loss 0.00003229 - time (sec): 1.36 - samples/sec: 70.58 - lr: 0.008596 - momentum: 0.000000\n",
            "2025-05-01 08:21:55,642 epoch 11 - iter 4/19 - loss 0.00023687 - time (sec): 1.82 - samples/sec: 70.19 - lr: 0.008596 - momentum: 0.000000\n",
            "2025-05-01 08:21:56,085 epoch 11 - iter 5/19 - loss 0.00019742 - time (sec): 2.27 - samples/sec: 70.59 - lr: 0.008596 - momentum: 0.000000\n",
            "2025-05-01 08:21:56,597 epoch 11 - iter 6/19 - loss 0.00017006 - time (sec): 2.78 - samples/sec: 69.10 - lr: 0.008596 - momentum: 0.000000\n",
            "2025-05-01 08:21:57,071 epoch 11 - iter 7/19 - loss 0.00022754 - time (sec): 3.25 - samples/sec: 68.86 - lr: 0.008596 - momentum: 0.000000\n",
            "2025-05-01 08:21:57,474 epoch 11 - iter 8/19 - loss 0.00020948 - time (sec): 3.66 - samples/sec: 70.04 - lr: 0.008596 - momentum: 0.000000\n",
            "2025-05-01 08:21:57,899 epoch 11 - iter 9/19 - loss 0.00022252 - time (sec): 4.08 - samples/sec: 70.58 - lr: 0.008596 - momentum: 0.000000\n",
            "2025-05-01 08:21:58,290 epoch 11 - iter 10/19 - loss 0.00024830 - time (sec): 4.47 - samples/sec: 71.56 - lr: 0.008596 - momentum: 0.000000\n",
            "2025-05-01 08:21:58,754 epoch 11 - iter 11/19 - loss 0.00022691 - time (sec): 4.94 - samples/sec: 71.32 - lr: 0.008596 - momentum: 0.000000\n",
            "2025-05-01 08:21:59,295 epoch 11 - iter 12/19 - loss 0.00021210 - time (sec): 5.48 - samples/sec: 70.12 - lr: 0.008596 - momentum: 0.000000\n",
            "2025-05-01 08:21:59,709 epoch 11 - iter 13/19 - loss 0.00019707 - time (sec): 5.89 - samples/sec: 70.62 - lr: 0.008596 - momentum: 0.000000\n",
            "2025-05-01 08:22:00,114 epoch 11 - iter 14/19 - loss 0.00018501 - time (sec): 6.30 - samples/sec: 71.16 - lr: 0.008596 - momentum: 0.000000\n",
            "2025-05-01 08:22:01,045 epoch 11 - iter 15/19 - loss 0.00017495 - time (sec): 7.23 - samples/sec: 66.43 - lr: 0.008596 - momentum: 0.000000\n",
            "2025-05-01 08:22:01,620 epoch 11 - iter 16/19 - loss 0.00016542 - time (sec): 7.80 - samples/sec: 65.63 - lr: 0.008596 - momentum: 0.000000\n",
            "2025-05-01 08:22:02,081 epoch 11 - iter 17/19 - loss 0.00015619 - time (sec): 8.26 - samples/sec: 65.84 - lr: 0.008596 - momentum: 0.000000\n",
            "2025-05-01 08:22:02,583 epoch 11 - iter 18/19 - loss 0.00016700 - time (sec): 8.76 - samples/sec: 65.72 - lr: 0.008596 - momentum: 0.000000\n",
            "2025-05-01 08:22:03,060 epoch 11 - iter 19/19 - loss 0.00016960 - time (sec): 9.24 - samples/sec: 65.25 - lr: 0.008596 - momentum: 0.000000\n",
            "2025-05-01 08:22:03,068 ----------------------------------------------------------------------------------------------------\n",
            "2025-05-01 08:22:03,070 EPOCH 11 done: loss 0.0002 - lr: 0.008596\n"
          ]
        },
        {
          "output_type": "stream",
          "name": "stderr",
          "text": [
            "100%|██████████| 3/3 [00:01<00:00,  2.57it/s]"
          ]
        },
        {
          "output_type": "stream",
          "name": "stdout",
          "text": [
            "2025-05-01 08:22:04,265 DEV : loss 0.19040855765342712 - f1-score (micro avg)  0.9643\n",
            "2025-05-01 08:22:04,302  - 1 epochs without improvement\n",
            "2025-05-01 08:22:04,303 ----------------------------------------------------------------------------------------------------\n"
          ]
        },
        {
          "output_type": "stream",
          "name": "stderr",
          "text": [
            "\n"
          ]
        },
        {
          "output_type": "stream",
          "name": "stdout",
          "text": [
            "2025-05-01 08:22:04,446 epoch 12 - iter 1/19 - loss 0.00002705 - time (sec): 0.14 - samples/sec: 227.06 - lr: 0.008596 - momentum: 0.000000\n",
            "2025-05-01 08:22:04,780 epoch 12 - iter 2/19 - loss 0.00029001 - time (sec): 0.47 - samples/sec: 134.75 - lr: 0.008596 - momentum: 0.000000\n",
            "2025-05-01 08:22:05,187 epoch 12 - iter 3/19 - loss 0.00020015 - time (sec): 0.88 - samples/sec: 108.89 - lr: 0.008596 - momentum: 0.000000\n",
            "2025-05-01 08:22:05,598 epoch 12 - iter 4/19 - loss 0.00015401 - time (sec): 1.29 - samples/sec: 99.03 - lr: 0.008596 - momentum: 0.000000\n",
            "2025-05-01 08:22:06,094 epoch 12 - iter 5/19 - loss 0.00012984 - time (sec): 1.79 - samples/sec: 89.46 - lr: 0.008596 - momentum: 0.000000\n",
            "2025-05-01 08:22:06,604 epoch 12 - iter 6/19 - loss 0.00011263 - time (sec): 2.30 - samples/sec: 83.51 - lr: 0.008596 - momentum: 0.000000\n",
            "2025-05-01 08:22:07,159 epoch 12 - iter 7/19 - loss 0.00010483 - time (sec): 2.85 - samples/sec: 78.49 - lr: 0.008596 - momentum: 0.000000\n",
            "2025-05-01 08:22:07,667 epoch 12 - iter 8/19 - loss 0.00011223 - time (sec): 3.36 - samples/sec: 76.15 - lr: 0.008596 - momentum: 0.000000\n",
            "2025-05-01 08:22:08,028 epoch 12 - iter 9/19 - loss 0.00010187 - time (sec): 3.72 - samples/sec: 77.37 - lr: 0.008596 - momentum: 0.000000\n",
            "2025-05-01 08:22:08,446 epoch 12 - iter 10/19 - loss 0.00009423 - time (sec): 4.14 - samples/sec: 77.29 - lr: 0.008596 - momentum: 0.000000\n",
            "2025-05-01 08:22:08,958 epoch 12 - iter 11/19 - loss 0.00009084 - time (sec): 4.65 - samples/sec: 75.65 - lr: 0.008596 - momentum: 0.000000\n",
            "2025-05-01 08:22:09,350 epoch 12 - iter 12/19 - loss 0.00009104 - time (sec): 5.04 - samples/sec: 76.12 - lr: 0.008596 - momentum: 0.000000\n",
            "2025-05-01 08:22:09,737 epoch 12 - iter 13/19 - loss 0.00008694 - time (sec): 5.43 - samples/sec: 76.59 - lr: 0.008596 - momentum: 0.000000\n",
            "2025-05-01 08:22:10,158 epoch 12 - iter 14/19 - loss 0.00009732 - time (sec): 5.85 - samples/sec: 76.55 - lr: 0.008596 - momentum: 0.000000\n",
            "2025-05-01 08:22:10,681 epoch 12 - iter 15/19 - loss 0.00009284 - time (sec): 6.38 - samples/sec: 75.29 - lr: 0.008596 - momentum: 0.000000\n",
            "2025-05-01 08:22:11,152 epoch 12 - iter 16/19 - loss 0.00008786 - time (sec): 6.85 - samples/sec: 74.78 - lr: 0.008596 - momentum: 0.000000\n",
            "2025-05-01 08:22:11,693 epoch 12 - iter 17/19 - loss 0.00008366 - time (sec): 7.39 - samples/sec: 73.64 - lr: 0.008596 - momentum: 0.000000\n",
            "2025-05-01 08:22:12,216 epoch 12 - iter 18/19 - loss 0.00008072 - time (sec): 7.91 - samples/sec: 72.81 - lr: 0.008596 - momentum: 0.000000\n",
            "2025-05-01 08:22:12,577 epoch 12 - iter 19/19 - loss 0.00007847 - time (sec): 8.27 - samples/sec: 72.90 - lr: 0.008596 - momentum: 0.000000\n",
            "2025-05-01 08:22:12,578 ----------------------------------------------------------------------------------------------------\n",
            "2025-05-01 08:22:12,580 EPOCH 12 done: loss 0.0001 - lr: 0.008596\n"
          ]
        },
        {
          "output_type": "stream",
          "name": "stderr",
          "text": [
            "100%|██████████| 3/3 [00:01<00:00,  2.51it/s]"
          ]
        },
        {
          "output_type": "stream",
          "name": "stdout",
          "text": [
            "2025-05-01 08:22:13,801 DEV : loss 0.1857258528470993 - f1-score (micro avg)  0.9702\n",
            "2025-05-01 08:22:13,858  - 2 epochs without improvement\n",
            "2025-05-01 08:22:13,859 ----------------------------------------------------------------------------------------------------\n"
          ]
        },
        {
          "output_type": "stream",
          "name": "stderr",
          "text": [
            "\n"
          ]
        },
        {
          "output_type": "stream",
          "name": "stdout",
          "text": [
            "2025-05-01 08:22:14,166 epoch 13 - iter 1/19 - loss 0.00002076 - time (sec): 0.30 - samples/sec: 105.63 - lr: 0.008596 - momentum: 0.000000\n",
            "2025-05-01 08:22:14,749 epoch 13 - iter 2/19 - loss 0.00001955 - time (sec): 0.89 - samples/sec: 72.27 - lr: 0.008596 - momentum: 0.000000\n",
            "2025-05-01 08:22:15,158 epoch 13 - iter 3/19 - loss 0.00005072 - time (sec): 1.29 - samples/sec: 74.16 - lr: 0.008596 - momentum: 0.000000\n",
            "2025-05-01 08:22:15,552 epoch 13 - iter 4/19 - loss 0.00004382 - time (sec): 1.69 - samples/sec: 75.78 - lr: 0.008596 - momentum: 0.000000\n",
            "2025-05-01 08:22:16,114 epoch 13 - iter 5/19 - loss 0.00012216 - time (sec): 2.25 - samples/sec: 71.09 - lr: 0.008596 - momentum: 0.000000\n",
            "2025-05-01 08:22:16,609 epoch 13 - iter 6/19 - loss 0.00032630 - time (sec): 2.75 - samples/sec: 69.92 - lr: 0.008596 - momentum: 0.000000\n",
            "2025-05-01 08:22:17,010 epoch 13 - iter 7/19 - loss 0.00028453 - time (sec): 3.15 - samples/sec: 71.20 - lr: 0.008596 - momentum: 0.000000\n",
            "2025-05-01 08:22:17,459 epoch 13 - iter 8/19 - loss 0.00025044 - time (sec): 3.60 - samples/sec: 71.19 - lr: 0.008596 - momentum: 0.000000\n",
            "2025-05-01 08:22:17,856 epoch 13 - iter 9/19 - loss 0.00022460 - time (sec): 3.99 - samples/sec: 72.13 - lr: 0.008596 - momentum: 0.000000\n",
            "2025-05-01 08:22:18,239 epoch 13 - iter 10/19 - loss 0.00020365 - time (sec): 4.38 - samples/sec: 73.14 - lr: 0.008596 - momentum: 0.000000\n",
            "2025-05-01 08:22:18,702 epoch 13 - iter 11/19 - loss 0.00021216 - time (sec): 4.84 - samples/sec: 72.74 - lr: 0.008596 - momentum: 0.000000\n",
            "2025-05-01 08:22:19,124 epoch 13 - iter 12/19 - loss 0.00019560 - time (sec): 5.26 - samples/sec: 72.99 - lr: 0.008596 - momentum: 0.000000\n",
            "2025-05-01 08:22:19,595 epoch 13 - iter 13/19 - loss 0.00018412 - time (sec): 5.73 - samples/sec: 72.58 - lr: 0.008596 - momentum: 0.000000\n",
            "2025-05-01 08:22:20,132 epoch 13 - iter 14/19 - loss 0.00017153 - time (sec): 6.27 - samples/sec: 71.47 - lr: 0.008596 - momentum: 0.000000\n",
            "2025-05-01 08:22:20,579 epoch 13 - iter 15/19 - loss 0.00016113 - time (sec): 6.72 - samples/sec: 71.48 - lr: 0.008596 - momentum: 0.000000\n",
            "2025-05-01 08:22:21,066 epoch 13 - iter 16/19 - loss 0.00015547 - time (sec): 7.20 - samples/sec: 71.08 - lr: 0.008596 - momentum: 0.000000\n",
            "2025-05-01 08:22:21,565 epoch 13 - iter 17/19 - loss 0.00014881 - time (sec): 7.70 - samples/sec: 70.64 - lr: 0.008596 - momentum: 0.000000\n",
            "2025-05-01 08:22:22,120 epoch 13 - iter 18/19 - loss 0.00016267 - time (sec): 8.26 - samples/sec: 69.76 - lr: 0.008596 - momentum: 0.000000\n",
            "2025-05-01 08:22:22,601 epoch 13 - iter 19/19 - loss 0.00015604 - time (sec): 8.74 - samples/sec: 69.01 - lr: 0.008596 - momentum: 0.000000\n",
            "2025-05-01 08:22:22,602 ----------------------------------------------------------------------------------------------------\n",
            "2025-05-01 08:22:22,603 EPOCH 13 done: loss 0.0002 - lr: 0.008596\n"
          ]
        },
        {
          "output_type": "stream",
          "name": "stderr",
          "text": [
            "100%|██████████| 3/3 [00:01<00:00,  2.51it/s]"
          ]
        },
        {
          "output_type": "stream",
          "name": "stdout",
          "text": [
            "2025-05-01 08:22:23,822 DEV : loss 0.18869416415691376 - f1-score (micro avg)  0.9702\n",
            "2025-05-01 08:22:23,857  - 3 epochs without improvement\n",
            "2025-05-01 08:22:23,858 ----------------------------------------------------------------------------------------------------\n"
          ]
        },
        {
          "output_type": "stream",
          "name": "stderr",
          "text": [
            "\n"
          ]
        },
        {
          "output_type": "stream",
          "name": "stdout",
          "text": [
            "2025-05-01 08:22:24,025 epoch 14 - iter 1/19 - loss 0.00002440 - time (sec): 0.16 - samples/sec: 196.08 - lr: 0.008596 - momentum: 0.000000\n",
            "2025-05-01 08:22:24,528 epoch 14 - iter 2/19 - loss 0.00002418 - time (sec): 0.67 - samples/sec: 96.02 - lr: 0.008596 - momentum: 0.000000\n",
            "2025-05-01 08:22:25,060 epoch 14 - iter 3/19 - loss 0.00003821 - time (sec): 1.20 - samples/sec: 80.12 - lr: 0.008596 - momentum: 0.000000\n",
            "2025-05-01 08:22:25,560 epoch 14 - iter 4/19 - loss 0.00003534 - time (sec): 1.70 - samples/sec: 75.37 - lr: 0.008596 - momentum: 0.000000\n",
            "2025-05-01 08:22:26,038 epoch 14 - iter 5/19 - loss 0.00003105 - time (sec): 2.18 - samples/sec: 73.51 - lr: 0.008596 - momentum: 0.000000\n",
            "2025-05-01 08:22:26,494 epoch 14 - iter 6/19 - loss 0.00003255 - time (sec): 2.63 - samples/sec: 72.92 - lr: 0.008596 - momentum: 0.000000\n",
            "2025-05-01 08:22:26,879 epoch 14 - iter 7/19 - loss 0.00003801 - time (sec): 3.02 - samples/sec: 74.23 - lr: 0.008596 - momentum: 0.000000\n",
            "2025-05-01 08:22:27,282 epoch 14 - iter 8/19 - loss 0.00003594 - time (sec): 3.42 - samples/sec: 74.85 - lr: 0.008596 - momentum: 0.000000\n",
            "2025-05-01 08:22:27,817 epoch 14 - iter 9/19 - loss 0.00003636 - time (sec): 3.96 - samples/sec: 72.81 - lr: 0.008596 - momentum: 0.000000\n",
            "2025-05-01 08:22:28,406 epoch 14 - iter 10/19 - loss 0.00003602 - time (sec): 4.54 - samples/sec: 70.42 - lr: 0.008596 - momentum: 0.000000\n",
            "2025-05-01 08:22:28,959 epoch 14 - iter 11/19 - loss 0.00003699 - time (sec): 5.10 - samples/sec: 69.05 - lr: 0.008596 - momentum: 0.000000\n",
            "2025-05-01 08:22:29,482 epoch 14 - iter 12/19 - loss 0.00003687 - time (sec): 5.62 - samples/sec: 68.32 - lr: 0.008596 - momentum: 0.000000\n",
            "2025-05-01 08:22:30,040 epoch 14 - iter 13/19 - loss 0.00003507 - time (sec): 6.18 - samples/sec: 67.33 - lr: 0.008596 - momentum: 0.000000\n",
            "2025-05-01 08:22:30,425 epoch 14 - iter 14/19 - loss 0.00018854 - time (sec): 6.56 - samples/sec: 68.25 - lr: 0.008596 - momentum: 0.000000\n",
            "2025-05-01 08:22:30,784 epoch 14 - iter 15/19 - loss 0.00017664 - time (sec): 6.92 - samples/sec: 69.34 - lr: 0.008596 - momentum: 0.000000\n",
            "2025-05-01 08:22:31,167 epoch 14 - iter 16/19 - loss 0.00016680 - time (sec): 7.31 - samples/sec: 70.08 - lr: 0.008596 - momentum: 0.000000\n",
            "2025-05-01 08:22:31,664 epoch 14 - iter 17/19 - loss 0.00015852 - time (sec): 7.80 - samples/sec: 69.72 - lr: 0.008596 - momentum: 0.000000\n",
            "2025-05-01 08:22:32,080 epoch 14 - iter 18/19 - loss 0.00015083 - time (sec): 8.22 - samples/sec: 70.09 - lr: 0.008596 - momentum: 0.000000\n",
            "2025-05-01 08:22:32,529 epoch 14 - iter 19/19 - loss 0.00014426 - time (sec): 8.67 - samples/sec: 69.57 - lr: 0.008596 - momentum: 0.000000\n",
            "2025-05-01 08:22:32,530 ----------------------------------------------------------------------------------------------------\n",
            "2025-05-01 08:22:32,532 EPOCH 14 done: loss 0.0001 - lr: 0.008596\n"
          ]
        },
        {
          "output_type": "stream",
          "name": "stderr",
          "text": [
            "100%|██████████| 3/3 [00:01<00:00,  2.29it/s]"
          ]
        },
        {
          "output_type": "stream",
          "name": "stdout",
          "text": [
            "2025-05-01 08:22:33,869 DEV : loss 0.19908101856708527 - f1-score (micro avg)  0.9702\n",
            "2025-05-01 08:22:33,904  - 4 epochs without improvement (above 'patience')-> annealing learning_rate to [0.004298232451609028]\n",
            "2025-05-01 08:22:33,905 ----------------------------------------------------------------------------------------------------\n"
          ]
        },
        {
          "output_type": "stream",
          "name": "stderr",
          "text": [
            "\n"
          ]
        },
        {
          "output_type": "stream",
          "name": "stdout",
          "text": [
            "2025-05-01 08:22:34,138 epoch 15 - iter 1/19 - loss 0.00001453 - time (sec): 0.23 - samples/sec: 138.95 - lr: 0.004298 - momentum: 0.000000\n",
            "2025-05-01 08:22:34,629 epoch 15 - iter 2/19 - loss 0.00003657 - time (sec): 0.72 - samples/sec: 88.65 - lr: 0.004298 - momentum: 0.000000\n",
            "2025-05-01 08:22:34,969 epoch 15 - iter 3/19 - loss 0.00004543 - time (sec): 1.06 - samples/sec: 90.46 - lr: 0.004298 - momentum: 0.000000\n",
            "2025-05-01 08:22:35,343 epoch 15 - iter 4/19 - loss 0.00003722 - time (sec): 1.44 - samples/sec: 89.15 - lr: 0.004298 - momentum: 0.000000\n",
            "2025-05-01 08:22:35,773 epoch 15 - iter 5/19 - loss 0.00030102 - time (sec): 1.87 - samples/sec: 85.79 - lr: 0.004298 - momentum: 0.000000\n",
            "2025-05-01 08:22:36,273 epoch 15 - iter 6/19 - loss 0.00025357 - time (sec): 2.37 - samples/sec: 81.17 - lr: 0.004298 - momentum: 0.000000\n",
            "2025-05-01 08:22:36,731 epoch 15 - iter 7/19 - loss 0.00024083 - time (sec): 2.82 - samples/sec: 79.35 - lr: 0.004298 - momentum: 0.000000\n",
            "2025-05-01 08:22:37,146 epoch 15 - iter 8/19 - loss 0.00021326 - time (sec): 3.24 - samples/sec: 79.05 - lr: 0.004298 - momentum: 0.000000\n",
            "2025-05-01 08:22:37,594 epoch 15 - iter 9/19 - loss 0.00019259 - time (sec): 3.69 - samples/sec: 78.13 - lr: 0.004298 - momentum: 0.000000\n",
            "2025-05-01 08:22:38,076 epoch 15 - iter 10/19 - loss 0.00017455 - time (sec): 4.17 - samples/sec: 76.76 - lr: 0.004298 - momentum: 0.000000\n",
            "2025-05-01 08:22:38,525 epoch 15 - iter 11/19 - loss 0.00017566 - time (sec): 4.62 - samples/sec: 76.23 - lr: 0.004298 - momentum: 0.000000\n",
            "2025-05-01 08:22:39,024 epoch 15 - iter 12/19 - loss 0.00016274 - time (sec): 5.12 - samples/sec: 75.05 - lr: 0.004298 - momentum: 0.000000\n",
            "2025-05-01 08:22:39,534 epoch 15 - iter 13/19 - loss 0.00016852 - time (sec): 5.63 - samples/sec: 73.93 - lr: 0.004298 - momentum: 0.000000\n",
            "2025-05-01 08:22:39,989 epoch 15 - iter 14/19 - loss 0.00015924 - time (sec): 6.08 - samples/sec: 73.67 - lr: 0.004298 - momentum: 0.000000\n",
            "2025-05-01 08:22:40,556 epoch 15 - iter 15/19 - loss 0.00014987 - time (sec): 6.65 - samples/sec: 72.20 - lr: 0.004298 - momentum: 0.000000\n",
            "2025-05-01 08:22:41,080 epoch 15 - iter 16/19 - loss 0.00014441 - time (sec): 7.17 - samples/sec: 71.38 - lr: 0.004298 - momentum: 0.000000\n",
            "2025-05-01 08:22:41,574 epoch 15 - iter 17/19 - loss 0.00013756 - time (sec): 7.67 - samples/sec: 70.96 - lr: 0.004298 - momentum: 0.000000\n",
            "2025-05-01 08:22:42,140 epoch 15 - iter 18/19 - loss 0.00013117 - time (sec): 8.23 - samples/sec: 69.97 - lr: 0.004298 - momentum: 0.000000\n",
            "2025-05-01 08:22:42,654 epoch 15 - iter 19/19 - loss 0.00012629 - time (sec): 8.75 - samples/sec: 68.94 - lr: 0.004298 - momentum: 0.000000\n",
            "2025-05-01 08:22:42,656 ----------------------------------------------------------------------------------------------------\n",
            "2025-05-01 08:22:42,656 EPOCH 15 done: loss 0.0001 - lr: 0.004298\n"
          ]
        },
        {
          "output_type": "stream",
          "name": "stderr",
          "text": [
            "100%|██████████| 3/3 [00:01<00:00,  2.48it/s]"
          ]
        },
        {
          "output_type": "stream",
          "name": "stdout",
          "text": [
            "2025-05-01 08:22:43,893 DEV : loss 0.2003456950187683 - f1-score (micro avg)  0.9702\n",
            "2025-05-01 08:22:43,931  - 1 epochs without improvement\n",
            "2025-05-01 08:22:43,932 ----------------------------------------------------------------------------------------------------\n"
          ]
        },
        {
          "output_type": "stream",
          "name": "stderr",
          "text": [
            "\n"
          ]
        },
        {
          "output_type": "stream",
          "name": "stdout",
          "text": [
            "2025-05-01 08:22:44,163 epoch 16 - iter 1/19 - loss 0.00000605 - time (sec): 0.23 - samples/sec: 139.46 - lr: 0.004298 - momentum: 0.000000\n",
            "2025-05-01 08:22:44,662 epoch 16 - iter 2/19 - loss 0.00001258 - time (sec): 0.73 - samples/sec: 87.86 - lr: 0.004298 - momentum: 0.000000\n",
            "2025-05-01 08:22:45,092 epoch 16 - iter 3/19 - loss 0.00002197 - time (sec): 1.16 - samples/sec: 82.88 - lr: 0.004298 - momentum: 0.000000\n",
            "2025-05-01 08:22:45,504 epoch 16 - iter 4/19 - loss 0.00002388 - time (sec): 1.57 - samples/sec: 81.52 - lr: 0.004298 - momentum: 0.000000\n",
            "2025-05-01 08:22:45,916 epoch 16 - iter 5/19 - loss 0.00002625 - time (sec): 1.98 - samples/sec: 80.73 - lr: 0.004298 - momentum: 0.000000\n",
            "2025-05-01 08:22:46,356 epoch 16 - iter 6/19 - loss 0.00002303 - time (sec): 2.42 - samples/sec: 79.27 - lr: 0.004298 - momentum: 0.000000\n",
            "2025-05-01 08:22:46,843 epoch 16 - iter 7/19 - loss 0.00002145 - time (sec): 2.91 - samples/sec: 77.01 - lr: 0.004298 - momentum: 0.000000\n",
            "2025-05-01 08:22:47,338 epoch 16 - iter 8/19 - loss 0.00001981 - time (sec): 3.40 - samples/sec: 75.21 - lr: 0.004298 - momentum: 0.000000\n",
            "2025-05-01 08:22:47,856 epoch 16 - iter 9/19 - loss 0.00002227 - time (sec): 3.92 - samples/sec: 73.43 - lr: 0.004298 - momentum: 0.000000\n",
            "2025-05-01 08:22:48,253 epoch 16 - iter 10/19 - loss 0.00003375 - time (sec): 4.32 - samples/sec: 74.09 - lr: 0.004298 - momentum: 0.000000\n",
            "2025-05-01 08:22:48,723 epoch 16 - iter 11/19 - loss 0.00003361 - time (sec): 4.79 - samples/sec: 73.50 - lr: 0.004298 - momentum: 0.000000\n",
            "2025-05-01 08:22:49,287 epoch 16 - iter 12/19 - loss 0.00003252 - time (sec): 5.35 - samples/sec: 71.74 - lr: 0.004298 - momentum: 0.000000\n",
            "2025-05-01 08:22:49,781 epoch 16 - iter 13/19 - loss 0.00005996 - time (sec): 5.85 - samples/sec: 71.15 - lr: 0.004298 - momentum: 0.000000\n",
            "2025-05-01 08:22:50,215 epoch 16 - iter 14/19 - loss 0.00005833 - time (sec): 6.28 - samples/sec: 71.33 - lr: 0.004298 - momentum: 0.000000\n",
            "2025-05-01 08:22:50,644 epoch 16 - iter 15/19 - loss 0.00005616 - time (sec): 6.71 - samples/sec: 71.53 - lr: 0.004298 - momentum: 0.000000\n",
            "2025-05-01 08:22:51,154 epoch 16 - iter 16/19 - loss 0.00005441 - time (sec): 7.22 - samples/sec: 70.91 - lr: 0.004298 - momentum: 0.000000\n",
            "2025-05-01 08:22:51,685 epoch 16 - iter 17/19 - loss 0.00005258 - time (sec): 7.75 - samples/sec: 70.18 - lr: 0.004298 - momentum: 0.000000\n",
            "2025-05-01 08:22:52,242 epoch 16 - iter 18/19 - loss 0.00005002 - time (sec): 8.31 - samples/sec: 69.33 - lr: 0.004298 - momentum: 0.000000\n",
            "2025-05-01 08:22:52,753 epoch 16 - iter 19/19 - loss 0.00004922 - time (sec): 8.82 - samples/sec: 68.38 - lr: 0.004298 - momentum: 0.000000\n",
            "2025-05-01 08:22:52,754 ----------------------------------------------------------------------------------------------------\n",
            "2025-05-01 08:22:52,755 EPOCH 16 done: loss 0.0000 - lr: 0.004298\n"
          ]
        },
        {
          "output_type": "stream",
          "name": "stderr",
          "text": [
            "100%|██████████| 3/3 [00:01<00:00,  2.27it/s]"
          ]
        },
        {
          "output_type": "stream",
          "name": "stdout",
          "text": [
            "2025-05-01 08:22:54,116 DEV : loss 0.19626286625862122 - f1-score (micro avg)  0.9702\n",
            "2025-05-01 08:22:54,243  - 2 epochs without improvement\n",
            "2025-05-01 08:22:54,256 ----------------------------------------------------------------------------------------------------\n"
          ]
        },
        {
          "output_type": "stream",
          "name": "stderr",
          "text": [
            "\n"
          ]
        },
        {
          "output_type": "stream",
          "name": "stdout",
          "text": [
            "2025-05-01 08:22:54,516 epoch 17 - iter 1/19 - loss 0.00002776 - time (sec): 0.26 - samples/sec: 124.07 - lr: 0.004298 - momentum: 0.000000\n",
            "2025-05-01 08:22:54,865 epoch 17 - iter 2/19 - loss 0.00003160 - time (sec): 0.61 - samples/sec: 105.43 - lr: 0.004298 - momentum: 0.000000\n",
            "2025-05-01 08:22:55,361 epoch 17 - iter 3/19 - loss 0.00002398 - time (sec): 1.10 - samples/sec: 87.08 - lr: 0.004298 - momentum: 0.000000\n",
            "2025-05-01 08:22:55,931 epoch 17 - iter 4/19 - loss 0.00003217 - time (sec): 1.67 - samples/sec: 76.52 - lr: 0.004298 - momentum: 0.000000\n",
            "2025-05-01 08:22:56,391 epoch 17 - iter 5/19 - loss 0.00002979 - time (sec): 2.13 - samples/sec: 75.03 - lr: 0.004298 - momentum: 0.000000\n",
            "2025-05-01 08:22:56,749 epoch 17 - iter 6/19 - loss 0.00003994 - time (sec): 2.49 - samples/sec: 77.09 - lr: 0.004298 - momentum: 0.000000\n",
            "2025-05-01 08:22:57,292 epoch 17 - iter 7/19 - loss 0.00003774 - time (sec): 3.03 - samples/sec: 73.85 - lr: 0.004298 - momentum: 0.000000\n",
            "2025-05-01 08:22:57,871 epoch 17 - iter 8/19 - loss 0.00003412 - time (sec): 3.61 - samples/sec: 70.87 - lr: 0.004298 - momentum: 0.000000\n",
            "2025-05-01 08:22:58,397 epoch 17 - iter 9/19 - loss 0.00003276 - time (sec): 4.14 - samples/sec: 69.59 - lr: 0.004298 - momentum: 0.000000\n",
            "2025-05-01 08:22:58,865 epoch 17 - iter 10/19 - loss 0.00003072 - time (sec): 4.61 - samples/sec: 69.46 - lr: 0.004298 - momentum: 0.000000\n",
            "2025-05-01 08:22:59,379 epoch 17 - iter 11/19 - loss 0.00002957 - time (sec): 5.12 - samples/sec: 68.74 - lr: 0.004298 - momentum: 0.000000\n",
            "2025-05-01 08:22:59,907 epoch 17 - iter 12/19 - loss 0.00002827 - time (sec): 5.65 - samples/sec: 67.98 - lr: 0.004298 - momentum: 0.000000\n",
            "2025-05-01 08:23:00,429 epoch 17 - iter 13/19 - loss 0.00002781 - time (sec): 6.17 - samples/sec: 67.42 - lr: 0.004298 - momentum: 0.000000\n",
            "2025-05-01 08:23:00,850 epoch 17 - iter 14/19 - loss 0.00002685 - time (sec): 6.59 - samples/sec: 67.97 - lr: 0.004298 - momentum: 0.000000\n",
            "2025-05-01 08:23:01,281 epoch 17 - iter 15/19 - loss 0.00002550 - time (sec): 7.02 - samples/sec: 68.35 - lr: 0.004298 - momentum: 0.000000\n",
            "2025-05-01 08:23:01,683 epoch 17 - iter 16/19 - loss 0.00056121 - time (sec): 7.42 - samples/sec: 68.96 - lr: 0.004298 - momentum: 0.000000\n",
            "2025-05-01 08:23:02,102 epoch 17 - iter 17/19 - loss 0.00053136 - time (sec): 7.84 - samples/sec: 69.36 - lr: 0.004298 - momentum: 0.000000\n",
            "2025-05-01 08:23:02,562 epoch 17 - iter 18/19 - loss 0.00050225 - time (sec): 8.30 - samples/sec: 69.36 - lr: 0.004298 - momentum: 0.000000\n",
            "2025-05-01 08:23:03,026 epoch 17 - iter 19/19 - loss 0.00048001 - time (sec): 8.77 - samples/sec: 68.77 - lr: 0.004298 - momentum: 0.000000\n",
            "2025-05-01 08:23:03,027 ----------------------------------------------------------------------------------------------------\n",
            "2025-05-01 08:23:03,029 EPOCH 17 done: loss 0.0005 - lr: 0.004298\n"
          ]
        },
        {
          "output_type": "stream",
          "name": "stderr",
          "text": [
            "100%|██████████| 3/3 [00:01<00:00,  2.46it/s]"
          ]
        },
        {
          "output_type": "stream",
          "name": "stdout",
          "text": [
            "2025-05-01 08:23:04,271 DEV : loss 0.19809573888778687 - f1-score (micro avg)  0.9702\n",
            "2025-05-01 08:23:04,307  - 3 epochs without improvement\n",
            "2025-05-01 08:23:04,308 ----------------------------------------------------------------------------------------------------\n"
          ]
        },
        {
          "output_type": "stream",
          "name": "stderr",
          "text": [
            "\n"
          ]
        },
        {
          "output_type": "stream",
          "name": "stdout",
          "text": [
            "2025-05-01 08:23:04,473 epoch 18 - iter 1/19 - loss 0.00001139 - time (sec): 0.16 - samples/sec: 198.10 - lr: 0.004298 - momentum: 0.000000\n",
            "2025-05-01 08:23:04,884 epoch 18 - iter 2/19 - loss 0.00000859 - time (sec): 0.57 - samples/sec: 111.87 - lr: 0.004298 - momentum: 0.000000\n",
            "2025-05-01 08:23:05,355 epoch 18 - iter 3/19 - loss 0.00003478 - time (sec): 1.04 - samples/sec: 92.05 - lr: 0.004298 - momentum: 0.000000\n",
            "2025-05-01 08:23:05,797 epoch 18 - iter 4/19 - loss 0.00003265 - time (sec): 1.49 - samples/sec: 86.17 - lr: 0.004298 - momentum: 0.000000\n",
            "2025-05-01 08:23:06,226 epoch 18 - iter 5/19 - loss 0.00003686 - time (sec): 1.91 - samples/sec: 83.58 - lr: 0.004298 - momentum: 0.000000\n",
            "2025-05-01 08:23:06,709 epoch 18 - iter 6/19 - loss 0.00003966 - time (sec): 2.40 - samples/sec: 80.10 - lr: 0.004298 - momentum: 0.000000\n",
            "2025-05-01 08:23:07,224 epoch 18 - iter 7/19 - loss 0.00038511 - time (sec): 2.91 - samples/sec: 76.93 - lr: 0.004298 - momentum: 0.000000\n",
            "2025-05-01 08:23:07,696 epoch 18 - iter 8/19 - loss 0.00034067 - time (sec): 3.38 - samples/sec: 75.64 - lr: 0.004298 - momentum: 0.000000\n",
            "2025-05-01 08:23:08,138 epoch 18 - iter 9/19 - loss 0.00030582 - time (sec): 3.83 - samples/sec: 75.26 - lr: 0.004298 - momentum: 0.000000\n",
            "2025-05-01 08:23:08,643 epoch 18 - iter 10/19 - loss 0.00027857 - time (sec): 4.33 - samples/sec: 73.89 - lr: 0.004298 - momentum: 0.000000\n",
            "2025-05-01 08:23:09,038 epoch 18 - iter 11/19 - loss 0.00025782 - time (sec): 4.73 - samples/sec: 74.47 - lr: 0.004298 - momentum: 0.000000\n",
            "2025-05-01 08:23:09,520 epoch 18 - iter 12/19 - loss 0.00023714 - time (sec): 5.21 - samples/sec: 73.73 - lr: 0.004298 - momentum: 0.000000\n",
            "2025-05-01 08:23:09,992 epoch 18 - iter 13/19 - loss 0.00021970 - time (sec): 5.68 - samples/sec: 73.24 - lr: 0.004298 - momentum: 0.000000\n",
            "2025-05-01 08:23:10,382 epoch 18 - iter 14/19 - loss 0.00020452 - time (sec): 6.07 - samples/sec: 73.80 - lr: 0.004298 - momentum: 0.000000\n",
            "2025-05-01 08:23:10,790 epoch 18 - iter 15/19 - loss 0.00019534 - time (sec): 6.48 - samples/sec: 74.09 - lr: 0.004298 - momentum: 0.000000\n",
            "2025-05-01 08:23:11,207 epoch 18 - iter 16/19 - loss 0.00018362 - time (sec): 6.90 - samples/sec: 74.26 - lr: 0.004298 - momentum: 0.000000\n",
            "2025-05-01 08:23:11,735 epoch 18 - iter 17/19 - loss 0.00017328 - time (sec): 7.42 - samples/sec: 73.28 - lr: 0.004298 - momentum: 0.000000\n",
            "2025-05-01 08:23:12,309 epoch 18 - iter 18/19 - loss 0.00016408 - time (sec): 8.00 - samples/sec: 72.02 - lr: 0.004298 - momentum: 0.000000\n",
            "2025-05-01 08:23:12,848 epoch 18 - iter 19/19 - loss 0.00015705 - time (sec): 8.54 - samples/sec: 70.64 - lr: 0.004298 - momentum: 0.000000\n",
            "2025-05-01 08:23:12,849 ----------------------------------------------------------------------------------------------------\n",
            "2025-05-01 08:23:12,851 EPOCH 18 done: loss 0.0002 - lr: 0.004298\n"
          ]
        },
        {
          "output_type": "stream",
          "name": "stderr",
          "text": [
            "100%|██████████| 3/3 [00:01<00:00,  2.35it/s]"
          ]
        },
        {
          "output_type": "stream",
          "name": "stdout",
          "text": [
            "2025-05-01 08:23:14,151 DEV : loss 0.20055952668190002 - f1-score (micro avg)  0.9702\n",
            "2025-05-01 08:23:14,204  - 4 epochs without improvement (above 'patience')-> annealing learning_rate to [0.002149116225804514]\n",
            "2025-05-01 08:23:14,205 ----------------------------------------------------------------------------------------------------\n"
          ]
        },
        {
          "output_type": "stream",
          "name": "stderr",
          "text": [
            "\n"
          ]
        },
        {
          "output_type": "stream",
          "name": "stdout",
          "text": [
            "2025-05-01 08:23:14,392 epoch 19 - iter 1/19 - loss 0.00001072 - time (sec): 0.18 - samples/sec: 173.58 - lr: 0.002149 - momentum: 0.000000\n",
            "2025-05-01 08:23:14,862 epoch 19 - iter 2/19 - loss 0.00001622 - time (sec): 0.65 - samples/sec: 97.81 - lr: 0.002149 - momentum: 0.000000\n",
            "2025-05-01 08:23:15,366 epoch 19 - iter 3/19 - loss 0.00001872 - time (sec): 1.16 - samples/sec: 82.88 - lr: 0.002149 - momentum: 0.000000\n",
            "2025-05-01 08:23:15,881 epoch 19 - iter 4/19 - loss 0.00003905 - time (sec): 1.67 - samples/sec: 76.50 - lr: 0.002149 - momentum: 0.000000\n",
            "2025-05-01 08:23:16,294 epoch 19 - iter 5/19 - loss 0.00003413 - time (sec): 2.09 - samples/sec: 76.69 - lr: 0.002149 - momentum: 0.000000\n",
            "2025-05-01 08:23:16,698 epoch 19 - iter 6/19 - loss 0.00002970 - time (sec): 2.49 - samples/sec: 77.10 - lr: 0.002149 - momentum: 0.000000\n",
            "2025-05-01 08:23:17,097 epoch 19 - iter 7/19 - loss 0.00003074 - time (sec): 2.89 - samples/sec: 77.51 - lr: 0.002149 - momentum: 0.000000\n",
            "2025-05-01 08:23:17,614 epoch 19 - iter 8/19 - loss 0.00002892 - time (sec): 3.41 - samples/sec: 75.15 - lr: 0.002149 - momentum: 0.000000\n",
            "2025-05-01 08:23:18,088 epoch 19 - iter 9/19 - loss 0.00002754 - time (sec): 3.88 - samples/sec: 74.22 - lr: 0.002149 - momentum: 0.000000\n",
            "2025-05-01 08:23:18,555 epoch 19 - iter 10/19 - loss 0.00002639 - time (sec): 4.35 - samples/sec: 73.61 - lr: 0.002149 - momentum: 0.000000\n",
            "2025-05-01 08:23:19,118 epoch 19 - iter 11/19 - loss 0.00002635 - time (sec): 4.91 - samples/sec: 71.69 - lr: 0.002149 - momentum: 0.000000\n",
            "2025-05-01 08:23:19,598 epoch 19 - iter 12/19 - loss 0.00002485 - time (sec): 5.39 - samples/sec: 71.24 - lr: 0.002149 - momentum: 0.000000\n",
            "2025-05-01 08:23:20,020 epoch 19 - iter 13/19 - loss 0.00002398 - time (sec): 5.81 - samples/sec: 71.57 - lr: 0.002149 - momentum: 0.000000\n",
            "2025-05-01 08:23:20,509 epoch 19 - iter 14/19 - loss 0.00002443 - time (sec): 6.30 - samples/sec: 71.09 - lr: 0.002149 - momentum: 0.000000\n",
            "2025-05-01 08:23:21,016 epoch 19 - iter 15/19 - loss 0.00002366 - time (sec): 6.81 - samples/sec: 70.50 - lr: 0.002149 - momentum: 0.000000\n",
            "2025-05-01 08:23:21,450 epoch 19 - iter 16/19 - loss 0.00002288 - time (sec): 7.24 - samples/sec: 70.70 - lr: 0.002149 - momentum: 0.000000\n",
            "2025-05-01 08:23:21,837 epoch 19 - iter 17/19 - loss 0.00002444 - time (sec): 7.63 - samples/sec: 71.30 - lr: 0.002149 - momentum: 0.000000\n",
            "2025-05-01 08:23:22,260 epoch 19 - iter 18/19 - loss 0.00002358 - time (sec): 8.05 - samples/sec: 71.54 - lr: 0.002149 - momentum: 0.000000\n",
            "2025-05-01 08:23:22,698 epoch 19 - iter 19/19 - loss 0.00002308 - time (sec): 8.49 - samples/sec: 71.02 - lr: 0.002149 - momentum: 0.000000\n",
            "2025-05-01 08:23:22,699 ----------------------------------------------------------------------------------------------------\n",
            "2025-05-01 08:23:22,700 EPOCH 19 done: loss 0.0000 - lr: 0.002149\n"
          ]
        },
        {
          "output_type": "stream",
          "name": "stderr",
          "text": [
            "100%|██████████| 3/3 [00:01<00:00,  2.30it/s]"
          ]
        },
        {
          "output_type": "stream",
          "name": "stdout",
          "text": [
            "2025-05-01 08:23:24,030 DEV : loss 0.20012083649635315 - f1-score (micro avg)  0.9702\n",
            "2025-05-01 08:23:24,065  - 1 epochs without improvement\n"
          ]
        },
        {
          "output_type": "stream",
          "name": "stderr",
          "text": [
            "\n"
          ]
        },
        {
          "output_type": "stream",
          "name": "stdout",
          "text": [
            "2025-05-01 08:23:25,172 ----------------------------------------------------------------------------------------------------\n",
            "2025-05-01 08:23:25,175 Loading model from best epoch ...\n"
          ]
        },
        {
          "output_type": "stream",
          "name": "stderr",
          "text": [
            "100%|██████████| 2/2 [00:00<00:00,  5.39it/s]"
          ]
        },
        {
          "output_type": "stream",
          "name": "stdout",
          "text": [
            "2025-05-01 08:23:27,971 \n",
            "Results:\n",
            "- F-score (micro) 0.9701\n",
            "- F-score (macro) 0.8377\n",
            "- Accuracy 0.9701\n",
            "\n",
            "By class:\n",
            "              precision    recall  f1-score   support\n",
            "\n",
            "       가설구조물     1.0000    1.0000    1.0000        21\n",
            "          공통     0.9500    1.0000    0.9744        19\n",
            "          교량     1.0000    0.9167    0.9565        12\n",
            "        양중작업     0.8750    1.0000    0.9333         7\n",
            "        굴착공사     1.0000    1.0000    1.0000         5\n",
            "          건축     1.0000    1.0000    1.0000         2\n",
            "                 0.0000    0.0000    0.0000         1\n",
            "\n",
            "    accuracy                         0.9701        67\n",
            "   macro avg     0.8321    0.8452    0.8377        67\n",
            "weighted avg     0.9578    0.9701    0.9631        67\n",
            "\n",
            "2025-05-01 08:23:27,972 ----------------------------------------------------------------------------------------------------\n"
          ]
        },
        {
          "output_type": "stream",
          "name": "stderr",
          "text": [
            "\n"
          ]
        },
        {
          "output_type": "stream",
          "name": "stdout",
          "text": [
            "  훈련 결과: {'test_score': 0.9701492537313433}\n",
            "  현재 폴드 정확도: 0.9821\n",
            "  폴드 2/5 학습 중...\n",
            "2025-05-01 08:23:33,383 Reading data from /tmp/tmp7th8oxa1\n",
            "2025-05-01 08:23:33,385 Train: /tmp/tmp7th8oxa1/train.txt\n",
            "2025-05-01 08:23:33,386 Dev: /tmp/tmp7th8oxa1/dev.txt\n",
            "2025-05-01 08:23:33,387 Test: None\n",
            "2025-05-01 08:23:33,446 No test split found. Using 10% (i.e. 67 samples) of the train split as test data\n",
            "2025-05-01 08:23:33,447 Initialized corpus /tmp/tmp7th8oxa1 (label type name is 'class')\n",
            "2025-05-01 08:23:33,448 Computing label dictionary. Progress:\n"
          ]
        },
        {
          "output_type": "stream",
          "name": "stderr",
          "text": [
            "0it [00:00, ?it/s]\n",
            "603it [00:00, 2628.50it/s]"
          ]
        },
        {
          "output_type": "stream",
          "name": "stdout",
          "text": [
            "2025-05-01 08:23:33,691 Dictionary created for label 'class' with 7 values: 공통 (seen 177 times), 가설구조물 (seen 147 times), 교량 (seen 92 times), 굴착공사 (seen 79 times), 건축 (seen 57 times), 양중작업 (seen 47 times),  (seen 4 times)\n",
            "2025-05-01 08:23:33,702 ----------------------------------------------------------------------------------------------------\n",
            "2025-05-01 08:23:33,711 Model: \"TextClassifier(\n",
            "  (embeddings): TransformerDocumentEmbeddings(\n",
            "    (model): BertModel(\n",
            "      (embeddings): BertEmbeddings(\n",
            "        (word_embeddings): Embedding(32001, 768, padding_idx=0)\n",
            "        (position_embeddings): Embedding(512, 768)\n",
            "        (token_type_embeddings): Embedding(2, 768)\n",
            "        (LayerNorm): LayerNorm((768,), eps=1e-12, elementwise_affine=True)\n",
            "        (dropout): Dropout(p=0.1, inplace=False)\n",
            "      )\n",
            "      (encoder): BertEncoder(\n",
            "        (layer): ModuleList(\n",
            "          (0-11): 12 x BertLayer(\n",
            "            (attention): BertAttention(\n",
            "              (self): BertSdpaSelfAttention(\n",
            "                (query): Linear(in_features=768, out_features=768, bias=True)\n",
            "                (key): Linear(in_features=768, out_features=768, bias=True)\n",
            "                (value): Linear(in_features=768, out_features=768, bias=True)\n",
            "                (dropout): Dropout(p=0.1, inplace=False)\n",
            "              )\n",
            "              (output): BertSelfOutput(\n",
            "                (dense): Linear(in_features=768, out_features=768, bias=True)\n",
            "                (LayerNorm): LayerNorm((768,), eps=1e-12, elementwise_affine=True)\n",
            "                (dropout): Dropout(p=0.1, inplace=False)\n",
            "              )\n",
            "            )\n",
            "            (intermediate): BertIntermediate(\n",
            "              (dense): Linear(in_features=768, out_features=3072, bias=True)\n",
            "              (intermediate_act_fn): GELUActivation()\n",
            "            )\n",
            "            (output): BertOutput(\n",
            "              (dense): Linear(in_features=3072, out_features=768, bias=True)\n",
            "              (LayerNorm): LayerNorm((768,), eps=1e-12, elementwise_affine=True)\n",
            "              (dropout): Dropout(p=0.1, inplace=False)\n",
            "            )\n",
            "          )\n",
            "        )\n",
            "      )\n",
            "      (pooler): BertPooler(\n",
            "        (dense): Linear(in_features=768, out_features=768, bias=True)\n",
            "        (activation): Tanh()\n",
            "      )\n",
            "    )\n",
            "  )\n",
            "  (decoder): Linear(in_features=768, out_features=7, bias=True)\n",
            "  (dropout): Dropout(p=0.0, inplace=False)\n",
            "  (locked_dropout): LockedDropout(p=0.0)\n",
            "  (word_dropout): WordDropout(p=0.0)\n",
            "  (loss_function): CrossEntropyLoss()\n",
            "  (weights): None\n",
            "  (weight_tensor) None\n",
            ")\"\n",
            "2025-05-01 08:23:33,711 ----------------------------------------------------------------------------------------------------\n",
            "2025-05-01 08:23:33,712 Corpus: 603 train + 168 dev + 67 test sentences\n",
            "2025-05-01 08:23:33,717 ----------------------------------------------------------------------------------------------------\n",
            "2025-05-01 08:23:33,718 Train:  603 sentences\n",
            "2025-05-01 08:23:33,718         (train_with_dev=False, train_with_test=False)\n",
            "2025-05-01 08:23:33,719 ----------------------------------------------------------------------------------------------------\n",
            "2025-05-01 08:23:33,719 Training Params:\n",
            "2025-05-01 08:23:33,720  - learning_rate: \"0.03438585961287222\" \n",
            "2025-05-01 08:23:33,723  - mini_batch_size: \"32\"\n",
            "2025-05-01 08:23:33,724  - max_epochs: \"19\"\n",
            "2025-05-01 08:23:33,724  - shuffle: \"True\"\n",
            "2025-05-01 08:23:33,725 ----------------------------------------------------------------------------------------------------\n",
            "2025-05-01 08:23:33,725 Plugins:\n",
            "2025-05-01 08:23:33,726  - AnnealOnPlateau | patience: '3', anneal_factor: '0.5', min_learning_rate: '0.0001'\n",
            "2025-05-01 08:23:33,727 ----------------------------------------------------------------------------------------------------\n",
            "2025-05-01 08:23:33,727 Final evaluation on model from best epoch (best-model.pt)\n",
            "2025-05-01 08:23:33,728  - metric: \"('micro avg', 'f1-score')\"\n",
            "2025-05-01 08:23:33,728 ----------------------------------------------------------------------------------------------------\n",
            "2025-05-01 08:23:33,729 Computation:\n",
            "2025-05-01 08:23:33,730  - compute on device: cuda:0\n",
            "2025-05-01 08:23:33,737  - embedding storage: cpu\n",
            "2025-05-01 08:23:33,738 ----------------------------------------------------------------------------------------------------\n",
            "2025-05-01 08:23:33,738 Model training base path: \"/tmp/tmp7th8oxa1/model\"\n",
            "2025-05-01 08:23:33,739 ----------------------------------------------------------------------------------------------------\n",
            "2025-05-01 08:23:33,741 ----------------------------------------------------------------------------------------------------\n"
          ]
        },
        {
          "output_type": "stream",
          "name": "stderr",
          "text": [
            "\n",
            "/usr/local/lib/python3.11/dist-packages/flair/trainers/trainer.py:545: FutureWarning: `torch.cuda.amp.GradScaler(args...)` is deprecated. Please use `torch.amp.GradScaler('cuda', args...)` instead.\n",
            "  scaler = torch.cuda.amp.GradScaler(enabled=use_amp and flair.device.type != \"cpu\")\n"
          ]
        },
        {
          "output_type": "stream",
          "name": "stdout",
          "text": [
            "2025-05-01 08:23:33,971 epoch 1 - iter 1/19 - loss 2.43954039 - time (sec): 0.23 - samples/sec: 140.50 - lr: 0.034386 - momentum: 0.000000\n",
            "2025-05-01 08:23:34,505 epoch 1 - iter 2/19 - loss 1.71552783 - time (sec): 0.76 - samples/sec: 83.96 - lr: 0.034386 - momentum: 0.000000\n",
            "2025-05-01 08:23:34,972 epoch 1 - iter 3/19 - loss 1.26229782 - time (sec): 1.23 - samples/sec: 78.10 - lr: 0.034386 - momentum: 0.000000\n",
            "2025-05-01 08:23:35,375 epoch 1 - iter 4/19 - loss 1.07284544 - time (sec): 1.63 - samples/sec: 78.42 - lr: 0.034386 - momentum: 0.000000\n",
            "2025-05-01 08:23:35,777 epoch 1 - iter 5/19 - loss 0.88646805 - time (sec): 2.03 - samples/sec: 78.64 - lr: 0.034386 - momentum: 0.000000\n",
            "2025-05-01 08:23:36,195 epoch 1 - iter 6/19 - loss 0.75818575 - time (sec): 2.45 - samples/sec: 78.28 - lr: 0.034386 - momentum: 0.000000\n",
            "2025-05-01 08:23:36,697 epoch 1 - iter 7/19 - loss 0.65775625 - time (sec): 2.95 - samples/sec: 75.83 - lr: 0.034386 - momentum: 0.000000\n",
            "2025-05-01 08:23:37,290 epoch 1 - iter 8/19 - loss 0.59865876 - time (sec): 3.55 - samples/sec: 72.17 - lr: 0.034386 - momentum: 0.000000\n",
            "2025-05-01 08:23:37,797 epoch 1 - iter 9/19 - loss 0.54526184 - time (sec): 4.05 - samples/sec: 71.04 - lr: 0.034386 - momentum: 0.000000\n",
            "2025-05-01 08:23:38,172 epoch 1 - iter 10/19 - loss 0.53766004 - time (sec): 4.43 - samples/sec: 72.25 - lr: 0.034386 - momentum: 0.000000\n",
            "2025-05-01 08:23:38,693 epoch 1 - iter 11/19 - loss 0.49975527 - time (sec): 4.95 - samples/sec: 71.11 - lr: 0.034386 - momentum: 0.000000\n",
            "2025-05-01 08:23:39,282 epoch 1 - iter 12/19 - loss 0.48065758 - time (sec): 5.54 - samples/sec: 69.32 - lr: 0.034386 - momentum: 0.000000\n",
            "2025-05-01 08:23:39,785 epoch 1 - iter 13/19 - loss 0.44804842 - time (sec): 6.04 - samples/sec: 68.85 - lr: 0.034386 - momentum: 0.000000\n",
            "2025-05-01 08:23:40,221 epoch 1 - iter 14/19 - loss 0.42909044 - time (sec): 6.48 - samples/sec: 69.15 - lr: 0.034386 - momentum: 0.000000\n",
            "2025-05-01 08:23:40,707 epoch 1 - iter 15/19 - loss 0.40319762 - time (sec): 6.96 - samples/sec: 68.92 - lr: 0.034386 - momentum: 0.000000\n",
            "2025-05-01 08:23:41,129 epoch 1 - iter 16/19 - loss 0.39210215 - time (sec): 7.39 - samples/sec: 69.32 - lr: 0.034386 - momentum: 0.000000\n",
            "2025-05-01 08:23:41,473 epoch 1 - iter 17/19 - loss 0.37371889 - time (sec): 7.73 - samples/sec: 70.37 - lr: 0.034386 - momentum: 0.000000\n",
            "2025-05-01 08:23:41,911 epoch 1 - iter 18/19 - loss 0.35997406 - time (sec): 8.17 - samples/sec: 70.52 - lr: 0.034386 - momentum: 0.000000\n",
            "2025-05-01 08:23:42,368 epoch 1 - iter 19/19 - loss 0.34978447 - time (sec): 8.63 - samples/sec: 69.91 - lr: 0.034386 - momentum: 0.000000\n",
            "2025-05-01 08:23:42,369 ----------------------------------------------------------------------------------------------------\n",
            "2025-05-01 08:23:42,371 EPOCH 1 done: loss 0.3498 - lr: 0.034386\n"
          ]
        },
        {
          "output_type": "stream",
          "name": "stderr",
          "text": [
            "100%|██████████| 3/3 [00:01<00:00,  2.44it/s]"
          ]
        },
        {
          "output_type": "stream",
          "name": "stdout",
          "text": [
            "2025-05-01 08:23:43,627 DEV : loss 0.07486464083194733 - f1-score (micro avg)  0.9762\n",
            "2025-05-01 08:23:43,665  - 0 epochs without improvement\n",
            "2025-05-01 08:23:43,666 saving best model\n"
          ]
        },
        {
          "output_type": "stream",
          "name": "stderr",
          "text": [
            "\n"
          ]
        },
        {
          "output_type": "stream",
          "name": "stdout",
          "text": [
            "2025-05-01 08:23:44,818 ----------------------------------------------------------------------------------------------------\n",
            "2025-05-01 08:23:45,008 epoch 2 - iter 1/19 - loss 0.09689152 - time (sec): 0.19 - samples/sec: 170.87 - lr: 0.034386 - momentum: 0.000000\n",
            "2025-05-01 08:23:45,471 epoch 2 - iter 2/19 - loss 0.08391744 - time (sec): 0.65 - samples/sec: 98.44 - lr: 0.034386 - momentum: 0.000000\n",
            "2025-05-01 08:23:45,940 epoch 2 - iter 3/19 - loss 0.06000459 - time (sec): 1.12 - samples/sec: 85.76 - lr: 0.034386 - momentum: 0.000000\n",
            "2025-05-01 08:23:46,379 epoch 2 - iter 4/19 - loss 0.06442383 - time (sec): 1.56 - samples/sec: 82.11 - lr: 0.034386 - momentum: 0.000000\n",
            "2025-05-01 08:23:46,801 epoch 2 - iter 5/19 - loss 0.08324149 - time (sec): 1.98 - samples/sec: 80.78 - lr: 0.034386 - momentum: 0.000000\n",
            "2025-05-01 08:23:47,206 epoch 2 - iter 6/19 - loss 0.08630604 - time (sec): 2.39 - samples/sec: 80.49 - lr: 0.034386 - momentum: 0.000000\n",
            "2025-05-01 08:23:47,680 epoch 2 - iter 7/19 - loss 0.08003218 - time (sec): 2.86 - samples/sec: 78.35 - lr: 0.034386 - momentum: 0.000000\n",
            "2025-05-01 08:23:48,214 epoch 2 - iter 8/19 - loss 0.07550502 - time (sec): 3.39 - samples/sec: 75.44 - lr: 0.034386 - momentum: 0.000000\n",
            "2025-05-01 08:23:48,620 epoch 2 - iter 9/19 - loss 0.06794307 - time (sec): 3.80 - samples/sec: 75.80 - lr: 0.034386 - momentum: 0.000000\n",
            "2025-05-01 08:23:49,015 epoch 2 - iter 10/19 - loss 0.06813389 - time (sec): 4.19 - samples/sec: 76.30 - lr: 0.034386 - momentum: 0.000000\n",
            "2025-05-01 08:23:49,500 epoch 2 - iter 11/19 - loss 0.06377902 - time (sec): 4.68 - samples/sec: 75.22 - lr: 0.034386 - momentum: 0.000000\n",
            "2025-05-01 08:23:50,023 epoch 2 - iter 12/19 - loss 0.08017834 - time (sec): 5.20 - samples/sec: 73.82 - lr: 0.034386 - momentum: 0.000000\n",
            "2025-05-01 08:23:50,437 epoch 2 - iter 13/19 - loss 0.07512637 - time (sec): 5.62 - samples/sec: 74.07 - lr: 0.034386 - momentum: 0.000000\n",
            "2025-05-01 08:23:50,968 epoch 2 - iter 14/19 - loss 0.06994217 - time (sec): 6.15 - samples/sec: 72.87 - lr: 0.034386 - momentum: 0.000000\n",
            "2025-05-01 08:23:51,531 epoch 2 - iter 15/19 - loss 0.08928053 - time (sec): 6.71 - samples/sec: 71.54 - lr: 0.034386 - momentum: 0.000000\n",
            "2025-05-01 08:23:52,024 epoch 2 - iter 16/19 - loss 0.09116846 - time (sec): 7.20 - samples/sec: 71.08 - lr: 0.034386 - momentum: 0.000000\n",
            "2025-05-01 08:23:52,527 epoch 2 - iter 17/19 - loss 0.08684563 - time (sec): 7.71 - samples/sec: 70.60 - lr: 0.034386 - momentum: 0.000000\n",
            "2025-05-01 08:23:53,011 epoch 2 - iter 18/19 - loss 0.08749795 - time (sec): 8.19 - samples/sec: 70.33 - lr: 0.034386 - momentum: 0.000000\n",
            "2025-05-01 08:23:53,390 epoch 2 - iter 19/19 - loss 0.08500708 - time (sec): 8.57 - samples/sec: 70.37 - lr: 0.034386 - momentum: 0.000000\n",
            "2025-05-01 08:23:53,391 ----------------------------------------------------------------------------------------------------\n",
            "2025-05-01 08:23:53,392 EPOCH 2 done: loss 0.0850 - lr: 0.034386\n"
          ]
        },
        {
          "output_type": "stream",
          "name": "stderr",
          "text": [
            "100%|██████████| 3/3 [00:01<00:00,  2.39it/s]"
          ]
        },
        {
          "output_type": "stream",
          "name": "stdout",
          "text": [
            "2025-05-01 08:23:54,674 DEV : loss 0.10684556514024734 - f1-score (micro avg)  0.9702\n",
            "2025-05-01 08:23:54,712  - 1 epochs without improvement\n",
            "2025-05-01 08:23:54,713 ----------------------------------------------------------------------------------------------------\n"
          ]
        },
        {
          "output_type": "stream",
          "name": "stderr",
          "text": [
            "\n"
          ]
        },
        {
          "output_type": "stream",
          "name": "stdout",
          "text": [
            "2025-05-01 08:23:54,879 epoch 3 - iter 1/19 - loss 0.01574805 - time (sec): 0.16 - samples/sec: 195.99 - lr: 0.034386 - momentum: 0.000000\n",
            "2025-05-01 08:23:55,288 epoch 3 - iter 2/19 - loss 0.03178204 - time (sec): 0.57 - samples/sec: 111.83 - lr: 0.034386 - momentum: 0.000000\n",
            "2025-05-01 08:23:55,741 epoch 3 - iter 3/19 - loss 0.03013014 - time (sec): 1.03 - samples/sec: 93.61 - lr: 0.034386 - momentum: 0.000000\n",
            "2025-05-01 08:23:56,178 epoch 3 - iter 4/19 - loss 0.02801449 - time (sec): 1.46 - samples/sec: 87.50 - lr: 0.034386 - momentum: 0.000000\n",
            "2025-05-01 08:23:56,558 epoch 3 - iter 5/19 - loss 0.02789444 - time (sec): 1.84 - samples/sec: 86.82 - lr: 0.034386 - momentum: 0.000000\n",
            "2025-05-01 08:23:57,019 epoch 3 - iter 6/19 - loss 0.03969683 - time (sec): 2.30 - samples/sec: 83.35 - lr: 0.034386 - momentum: 0.000000\n",
            "2025-05-01 08:23:57,445 epoch 3 - iter 7/19 - loss 0.03735865 - time (sec): 2.73 - samples/sec: 82.08 - lr: 0.034386 - momentum: 0.000000\n",
            "2025-05-01 08:23:57,865 epoch 3 - iter 8/19 - loss 0.03633937 - time (sec): 3.15 - samples/sec: 81.30 - lr: 0.034386 - momentum: 0.000000\n",
            "2025-05-01 08:23:58,386 epoch 3 - iter 9/19 - loss 0.03260292 - time (sec): 3.67 - samples/sec: 78.47 - lr: 0.034386 - momentum: 0.000000\n",
            "2025-05-01 08:23:58,865 epoch 3 - iter 10/19 - loss 0.03560914 - time (sec): 4.15 - samples/sec: 77.11 - lr: 0.034386 - momentum: 0.000000\n",
            "2025-05-01 08:23:59,291 epoch 3 - iter 11/19 - loss 0.03403281 - time (sec): 4.58 - samples/sec: 76.93 - lr: 0.034386 - momentum: 0.000000\n",
            "2025-05-01 08:23:59,783 epoch 3 - iter 12/19 - loss 0.04149777 - time (sec): 5.07 - samples/sec: 75.78 - lr: 0.034386 - momentum: 0.000000\n",
            "2025-05-01 08:24:00,386 epoch 3 - iter 13/19 - loss 0.03870207 - time (sec): 5.67 - samples/sec: 73.37 - lr: 0.034386 - momentum: 0.000000\n",
            "2025-05-01 08:24:00,937 epoch 3 - iter 14/19 - loss 0.03672796 - time (sec): 6.22 - samples/sec: 72.01 - lr: 0.034386 - momentum: 0.000000\n",
            "2025-05-01 08:24:01,427 epoch 3 - iter 15/19 - loss 0.03446319 - time (sec): 6.71 - samples/sec: 71.53 - lr: 0.034386 - momentum: 0.000000\n",
            "2025-05-01 08:24:01,906 epoch 3 - iter 16/19 - loss 0.03676290 - time (sec): 7.19 - samples/sec: 71.21 - lr: 0.034386 - momentum: 0.000000\n",
            "2025-05-01 08:24:02,357 epoch 3 - iter 17/19 - loss 0.03533359 - time (sec): 7.64 - samples/sec: 71.19 - lr: 0.034386 - momentum: 0.000000\n",
            "2025-05-01 08:24:02,876 epoch 3 - iter 18/19 - loss 0.03358388 - time (sec): 8.16 - samples/sec: 70.58 - lr: 0.034386 - momentum: 0.000000\n",
            "2025-05-01 08:24:03,292 epoch 3 - iter 19/19 - loss 0.03217038 - time (sec): 8.58 - samples/sec: 70.31 - lr: 0.034386 - momentum: 0.000000\n",
            "2025-05-01 08:24:03,293 ----------------------------------------------------------------------------------------------------\n",
            "2025-05-01 08:24:03,294 EPOCH 3 done: loss 0.0322 - lr: 0.034386\n"
          ]
        },
        {
          "output_type": "stream",
          "name": "stderr",
          "text": [
            "100%|██████████| 3/3 [00:01<00:00,  2.23it/s]"
          ]
        },
        {
          "output_type": "stream",
          "name": "stdout",
          "text": [
            "2025-05-01 08:24:04,661 DEV : loss 0.07399797439575195 - f1-score (micro avg)  0.9762\n",
            "2025-05-01 08:24:04,699  - 0 epochs without improvement\n",
            "2025-05-01 08:24:04,699 ----------------------------------------------------------------------------------------------------\n"
          ]
        },
        {
          "output_type": "stream",
          "name": "stderr",
          "text": [
            "\n"
          ]
        },
        {
          "output_type": "stream",
          "name": "stdout",
          "text": [
            "2025-05-01 08:24:04,867 epoch 4 - iter 1/19 - loss 0.01318120 - time (sec): 0.16 - samples/sec: 194.36 - lr: 0.034386 - momentum: 0.000000\n",
            "2025-05-01 08:24:05,324 epoch 4 - iter 2/19 - loss 0.00814638 - time (sec): 0.62 - samples/sec: 102.86 - lr: 0.034386 - momentum: 0.000000\n",
            "2025-05-01 08:24:05,768 epoch 4 - iter 3/19 - loss 0.01755562 - time (sec): 1.07 - samples/sec: 90.08 - lr: 0.034386 - momentum: 0.000000\n",
            "2025-05-01 08:24:06,241 epoch 4 - iter 4/19 - loss 0.01519730 - time (sec): 1.54 - samples/sec: 83.14 - lr: 0.034386 - momentum: 0.000000\n",
            "2025-05-01 08:24:06,721 epoch 4 - iter 5/19 - loss 0.01367336 - time (sec): 2.02 - samples/sec: 79.26 - lr: 0.034386 - momentum: 0.000000\n",
            "2025-05-01 08:24:07,065 epoch 4 - iter 6/19 - loss 0.01393448 - time (sec): 2.36 - samples/sec: 81.24 - lr: 0.034386 - momentum: 0.000000\n",
            "2025-05-01 08:24:07,461 epoch 4 - iter 7/19 - loss 0.01642409 - time (sec): 2.76 - samples/sec: 81.19 - lr: 0.034386 - momentum: 0.000000\n",
            "2025-05-01 08:24:07,904 epoch 4 - iter 8/19 - loss 0.02464859 - time (sec): 3.20 - samples/sec: 79.94 - lr: 0.034386 - momentum: 0.000000\n",
            "2025-05-01 08:24:08,394 epoch 4 - iter 9/19 - loss 0.02247901 - time (sec): 3.69 - samples/sec: 78.00 - lr: 0.034386 - momentum: 0.000000\n",
            "2025-05-01 08:24:08,865 epoch 4 - iter 10/19 - loss 0.02025893 - time (sec): 4.16 - samples/sec: 76.86 - lr: 0.034386 - momentum: 0.000000\n",
            "2025-05-01 08:24:09,307 epoch 4 - iter 11/19 - loss 0.01847695 - time (sec): 4.61 - samples/sec: 76.44 - lr: 0.034386 - momentum: 0.000000\n",
            "2025-05-01 08:24:09,907 epoch 4 - iter 12/19 - loss 0.01702599 - time (sec): 5.21 - samples/sec: 73.77 - lr: 0.034386 - momentum: 0.000000\n",
            "2025-05-01 08:24:10,510 epoch 4 - iter 13/19 - loss 0.01594945 - time (sec): 5.81 - samples/sec: 71.62 - lr: 0.034386 - momentum: 0.000000\n",
            "2025-05-01 08:24:11,053 epoch 4 - iter 14/19 - loss 0.01487216 - time (sec): 6.35 - samples/sec: 70.54 - lr: 0.034386 - momentum: 0.000000\n",
            "2025-05-01 08:24:11,533 epoch 4 - iter 15/19 - loss 0.01398678 - time (sec): 6.83 - samples/sec: 70.27 - lr: 0.034386 - momentum: 0.000000\n",
            "2025-05-01 08:24:11,992 epoch 4 - iter 16/19 - loss 0.01313284 - time (sec): 7.29 - samples/sec: 70.23 - lr: 0.034386 - momentum: 0.000000\n",
            "2025-05-01 08:24:12,460 epoch 4 - iter 17/19 - loss 0.01254275 - time (sec): 7.76 - samples/sec: 70.12 - lr: 0.034386 - momentum: 0.000000\n",
            "2025-05-01 08:24:12,961 epoch 4 - iter 18/19 - loss 0.03257104 - time (sec): 8.26 - samples/sec: 69.74 - lr: 0.034386 - momentum: 0.000000\n",
            "2025-05-01 08:24:13,404 epoch 4 - iter 19/19 - loss 0.03139194 - time (sec): 8.70 - samples/sec: 69.29 - lr: 0.034386 - momentum: 0.000000\n",
            "2025-05-01 08:24:13,409 ----------------------------------------------------------------------------------------------------\n",
            "2025-05-01 08:24:13,411 EPOCH 4 done: loss 0.0314 - lr: 0.034386\n"
          ]
        },
        {
          "output_type": "stream",
          "name": "stderr",
          "text": [
            "100%|██████████| 3/3 [00:01<00:00,  2.33it/s]"
          ]
        },
        {
          "output_type": "stream",
          "name": "stdout",
          "text": [
            "2025-05-01 08:24:14,736 DEV : loss 0.28882896900177 - f1-score (micro avg)  0.9286\n",
            "2025-05-01 08:24:14,808  - 1 epochs without improvement\n",
            "2025-05-01 08:24:14,809 ----------------------------------------------------------------------------------------------------\n"
          ]
        },
        {
          "output_type": "stream",
          "name": "stderr",
          "text": [
            "\n"
          ]
        },
        {
          "output_type": "stream",
          "name": "stdout",
          "text": [
            "2025-05-01 08:24:15,020 epoch 5 - iter 1/19 - loss 0.00159176 - time (sec): 0.21 - samples/sec: 154.21 - lr: 0.034386 - momentum: 0.000000\n",
            "2025-05-01 08:24:15,434 epoch 5 - iter 2/19 - loss 0.00177483 - time (sec): 0.62 - samples/sec: 103.00 - lr: 0.034386 - momentum: 0.000000\n",
            "2025-05-01 08:24:15,844 epoch 5 - iter 3/19 - loss 0.00124419 - time (sec): 1.03 - samples/sec: 93.13 - lr: 0.034386 - momentum: 0.000000\n",
            "2025-05-01 08:24:16,284 epoch 5 - iter 4/19 - loss 0.00421635 - time (sec): 1.47 - samples/sec: 87.03 - lr: 0.034386 - momentum: 0.000000\n",
            "2025-05-01 08:24:16,751 epoch 5 - iter 5/19 - loss 0.00352232 - time (sec): 1.94 - samples/sec: 82.56 - lr: 0.034386 - momentum: 0.000000\n",
            "2025-05-01 08:24:17,272 epoch 5 - iter 6/19 - loss 0.00300189 - time (sec): 2.46 - samples/sec: 78.06 - lr: 0.034386 - momentum: 0.000000\n",
            "2025-05-01 08:24:17,742 epoch 5 - iter 7/19 - loss 0.00621003 - time (sec): 2.93 - samples/sec: 76.47 - lr: 0.034386 - momentum: 0.000000\n",
            "2025-05-01 08:24:18,313 epoch 5 - iter 8/19 - loss 0.00549703 - time (sec): 3.50 - samples/sec: 73.14 - lr: 0.034386 - momentum: 0.000000\n",
            "2025-05-01 08:24:18,837 epoch 5 - iter 9/19 - loss 0.00494090 - time (sec): 4.02 - samples/sec: 71.58 - lr: 0.034386 - momentum: 0.000000\n",
            "2025-05-01 08:24:19,377 epoch 5 - iter 10/19 - loss 0.00448366 - time (sec): 4.56 - samples/sec: 70.11 - lr: 0.034386 - momentum: 0.000000\n",
            "2025-05-01 08:24:19,892 epoch 5 - iter 11/19 - loss 0.00417023 - time (sec): 5.08 - samples/sec: 69.31 - lr: 0.034386 - momentum: 0.000000\n",
            "2025-05-01 08:24:20,271 epoch 5 - iter 12/19 - loss 0.00460675 - time (sec): 5.46 - samples/sec: 70.35 - lr: 0.034386 - momentum: 0.000000\n",
            "2025-05-01 08:24:20,700 epoch 5 - iter 13/19 - loss 0.02669576 - time (sec): 5.89 - samples/sec: 70.66 - lr: 0.034386 - momentum: 0.000000\n",
            "2025-05-01 08:24:21,167 epoch 5 - iter 14/19 - loss 0.02486450 - time (sec): 6.35 - samples/sec: 70.51 - lr: 0.034386 - momentum: 0.000000\n",
            "2025-05-01 08:24:21,539 epoch 5 - iter 15/19 - loss 0.02322580 - time (sec): 6.73 - samples/sec: 71.36 - lr: 0.034386 - momentum: 0.000000\n",
            "2025-05-01 08:24:21,967 epoch 5 - iter 16/19 - loss 0.02180612 - time (sec): 7.15 - samples/sec: 71.57 - lr: 0.034386 - momentum: 0.000000\n",
            "2025-05-01 08:24:22,462 epoch 5 - iter 17/19 - loss 0.02056088 - time (sec): 7.65 - samples/sec: 71.12 - lr: 0.034386 - momentum: 0.000000\n",
            "2025-05-01 08:24:22,883 epoch 5 - iter 18/19 - loss 0.01943775 - time (sec): 8.07 - samples/sec: 71.38 - lr: 0.034386 - momentum: 0.000000\n",
            "2025-05-01 08:24:23,300 epoch 5 - iter 19/19 - loss 0.01858538 - time (sec): 8.49 - samples/sec: 71.05 - lr: 0.034386 - momentum: 0.000000\n",
            "2025-05-01 08:24:23,301 ----------------------------------------------------------------------------------------------------\n",
            "2025-05-01 08:24:23,304 EPOCH 5 done: loss 0.0186 - lr: 0.034386\n"
          ]
        },
        {
          "output_type": "stream",
          "name": "stderr",
          "text": [
            "100%|██████████| 3/3 [00:01<00:00,  2.40it/s]"
          ]
        },
        {
          "output_type": "stream",
          "name": "stdout",
          "text": [
            "2025-05-01 08:24:24,582 DEV : loss 0.20878899097442627 - f1-score (micro avg)  0.9643\n",
            "2025-05-01 08:24:24,625  - 2 epochs without improvement\n",
            "2025-05-01 08:24:24,625 ----------------------------------------------------------------------------------------------------\n"
          ]
        },
        {
          "output_type": "stream",
          "name": "stderr",
          "text": [
            "\n"
          ]
        },
        {
          "output_type": "stream",
          "name": "stdout",
          "text": [
            "2025-05-01 08:24:24,830 epoch 6 - iter 1/19 - loss 0.00015621 - time (sec): 0.20 - samples/sec: 159.78 - lr: 0.034386 - momentum: 0.000000\n",
            "2025-05-01 08:24:25,262 epoch 6 - iter 2/19 - loss 0.00014267 - time (sec): 0.63 - samples/sec: 101.14 - lr: 0.034386 - momentum: 0.000000\n",
            "2025-05-01 08:24:25,661 epoch 6 - iter 3/19 - loss 0.05162216 - time (sec): 1.03 - samples/sec: 93.09 - lr: 0.034386 - momentum: 0.000000\n",
            "2025-05-01 08:24:26,167 epoch 6 - iter 4/19 - loss 0.03875381 - time (sec): 1.54 - samples/sec: 83.27 - lr: 0.034386 - momentum: 0.000000\n",
            "2025-05-01 08:24:26,619 epoch 6 - iter 5/19 - loss 0.04451158 - time (sec): 1.99 - samples/sec: 80.42 - lr: 0.034386 - momentum: 0.000000\n",
            "2025-05-01 08:24:27,029 epoch 6 - iter 6/19 - loss 0.03716538 - time (sec): 2.40 - samples/sec: 80.01 - lr: 0.034386 - momentum: 0.000000\n",
            "2025-05-01 08:24:27,515 epoch 6 - iter 7/19 - loss 0.03186453 - time (sec): 2.89 - samples/sec: 77.63 - lr: 0.034386 - momentum: 0.000000\n",
            "2025-05-01 08:24:28,099 epoch 6 - iter 8/19 - loss 0.02788684 - time (sec): 3.47 - samples/sec: 73.78 - lr: 0.034386 - momentum: 0.000000\n",
            "2025-05-01 08:24:28,678 epoch 6 - iter 9/19 - loss 0.02479949 - time (sec): 4.05 - samples/sec: 71.13 - lr: 0.034386 - momentum: 0.000000\n",
            "2025-05-01 08:24:29,201 epoch 6 - iter 10/19 - loss 0.02233285 - time (sec): 4.57 - samples/sec: 70.00 - lr: 0.034386 - momentum: 0.000000\n",
            "2025-05-01 08:24:29,592 epoch 6 - iter 11/19 - loss 0.02030661 - time (sec): 4.96 - samples/sec: 70.93 - lr: 0.034386 - momentum: 0.000000\n",
            "2025-05-01 08:24:29,990 epoch 6 - iter 12/19 - loss 0.01862718 - time (sec): 5.36 - samples/sec: 71.64 - lr: 0.034386 - momentum: 0.000000\n",
            "2025-05-01 08:24:30,455 epoch 6 - iter 13/19 - loss 0.01828342 - time (sec): 5.83 - samples/sec: 71.41 - lr: 0.034386 - momentum: 0.000000\n",
            "2025-05-01 08:24:31,001 epoch 6 - iter 14/19 - loss 0.01700547 - time (sec): 6.37 - samples/sec: 70.31 - lr: 0.034386 - momentum: 0.000000\n",
            "2025-05-01 08:24:31,524 epoch 6 - iter 15/19 - loss 0.01588212 - time (sec): 6.89 - samples/sec: 69.62 - lr: 0.034386 - momentum: 0.000000\n",
            "2025-05-01 08:24:31,971 epoch 6 - iter 16/19 - loss 0.01495347 - time (sec): 7.34 - samples/sec: 69.74 - lr: 0.034386 - momentum: 0.000000\n",
            "2025-05-01 08:24:32,360 epoch 6 - iter 17/19 - loss 0.01438956 - time (sec): 7.73 - samples/sec: 70.37 - lr: 0.034386 - momentum: 0.000000\n",
            "2025-05-01 08:24:32,801 epoch 6 - iter 18/19 - loss 0.03543843 - time (sec): 8.17 - samples/sec: 70.48 - lr: 0.034386 - momentum: 0.000000\n",
            "2025-05-01 08:24:33,188 epoch 6 - iter 19/19 - loss 0.03576696 - time (sec): 8.56 - samples/sec: 70.45 - lr: 0.034386 - momentum: 0.000000\n",
            "2025-05-01 08:24:33,189 ----------------------------------------------------------------------------------------------------\n",
            "2025-05-01 08:24:33,190 EPOCH 6 done: loss 0.0358 - lr: 0.034386\n"
          ]
        },
        {
          "output_type": "stream",
          "name": "stderr",
          "text": [
            "100%|██████████| 3/3 [00:01<00:00,  2.45it/s]"
          ]
        },
        {
          "output_type": "stream",
          "name": "stdout",
          "text": [
            "2025-05-01 08:24:34,438 DEV : loss 0.20604977011680603 - f1-score (micro avg)  0.9643\n",
            "2025-05-01 08:24:34,477  - 3 epochs without improvement\n",
            "2025-05-01 08:24:34,478 ----------------------------------------------------------------------------------------------------\n"
          ]
        },
        {
          "output_type": "stream",
          "name": "stderr",
          "text": [
            "\n"
          ]
        },
        {
          "output_type": "stream",
          "name": "stdout",
          "text": [
            "2025-05-01 08:24:34,646 epoch 7 - iter 1/19 - loss 0.00017463 - time (sec): 0.17 - samples/sec: 193.06 - lr: 0.034386 - momentum: 0.000000\n",
            "2025-05-01 08:24:35,020 epoch 7 - iter 2/19 - loss 0.00020327 - time (sec): 0.54 - samples/sec: 118.56 - lr: 0.034386 - momentum: 0.000000\n",
            "2025-05-01 08:24:35,442 epoch 7 - iter 3/19 - loss 0.00017174 - time (sec): 0.96 - samples/sec: 99.82 - lr: 0.034386 - momentum: 0.000000\n",
            "2025-05-01 08:24:35,915 epoch 7 - iter 4/19 - loss 0.00066818 - time (sec): 1.43 - samples/sec: 89.23 - lr: 0.034386 - momentum: 0.000000\n",
            "2025-05-01 08:24:36,470 epoch 7 - iter 5/19 - loss 0.00060272 - time (sec): 1.99 - samples/sec: 80.42 - lr: 0.034386 - momentum: 0.000000\n",
            "2025-05-01 08:24:36,936 epoch 7 - iter 6/19 - loss 0.00084689 - time (sec): 2.46 - samples/sec: 78.18 - lr: 0.034386 - momentum: 0.000000\n",
            "2025-05-01 08:24:37,389 epoch 7 - iter 7/19 - loss 0.00080257 - time (sec): 2.91 - samples/sec: 77.00 - lr: 0.034386 - momentum: 0.000000\n",
            "2025-05-01 08:24:37,917 epoch 7 - iter 8/19 - loss 0.00568833 - time (sec): 3.44 - samples/sec: 74.47 - lr: 0.034386 - momentum: 0.000000\n",
            "2025-05-01 08:24:38,402 epoch 7 - iter 9/19 - loss 0.00511037 - time (sec): 3.92 - samples/sec: 73.43 - lr: 0.034386 - momentum: 0.000000\n",
            "2025-05-01 08:24:38,933 epoch 7 - iter 10/19 - loss 0.00462895 - time (sec): 4.45 - samples/sec: 71.87 - lr: 0.034386 - momentum: 0.000000\n",
            "2025-05-01 08:24:39,472 epoch 7 - iter 11/19 - loss 0.00421097 - time (sec): 4.99 - samples/sec: 70.51 - lr: 0.034386 - momentum: 0.000000\n",
            "2025-05-01 08:24:39,977 epoch 7 - iter 12/19 - loss 0.00396481 - time (sec): 5.50 - samples/sec: 69.86 - lr: 0.034386 - momentum: 0.000000\n",
            "2025-05-01 08:24:40,485 epoch 7 - iter 13/19 - loss 0.00372379 - time (sec): 6.01 - samples/sec: 69.27 - lr: 0.034386 - momentum: 0.000000\n",
            "2025-05-01 08:24:41,014 epoch 7 - iter 14/19 - loss 0.00368454 - time (sec): 6.53 - samples/sec: 68.57 - lr: 0.034386 - momentum: 0.000000\n",
            "2025-05-01 08:24:41,531 epoch 7 - iter 15/19 - loss 0.00345191 - time (sec): 7.05 - samples/sec: 68.07 - lr: 0.034386 - momentum: 0.000000\n",
            "2025-05-01 08:24:42,069 epoch 7 - iter 16/19 - loss 0.00327802 - time (sec): 7.59 - samples/sec: 67.46 - lr: 0.034386 - momentum: 0.000000\n",
            "2025-05-01 08:24:42,515 epoch 7 - iter 17/19 - loss 0.00320610 - time (sec): 8.03 - samples/sec: 67.71 - lr: 0.034386 - momentum: 0.000000\n",
            "2025-05-01 08:24:42,968 epoch 7 - iter 18/19 - loss 0.00304493 - time (sec): 8.49 - samples/sec: 67.86 - lr: 0.034386 - momentum: 0.000000\n",
            "2025-05-01 08:24:43,333 epoch 7 - iter 19/19 - loss 0.00292724 - time (sec): 8.85 - samples/sec: 68.11 - lr: 0.034386 - momentum: 0.000000\n",
            "2025-05-01 08:24:43,334 ----------------------------------------------------------------------------------------------------\n",
            "2025-05-01 08:24:43,335 EPOCH 7 done: loss 0.0029 - lr: 0.034386\n"
          ]
        },
        {
          "output_type": "stream",
          "name": "stderr",
          "text": [
            "100%|██████████| 3/3 [00:01<00:00,  2.52it/s]"
          ]
        },
        {
          "output_type": "stream",
          "name": "stdout",
          "text": [
            "2025-05-01 08:24:44,553 DEV : loss 0.19700540602207184 - f1-score (micro avg)  0.9702\n",
            "2025-05-01 08:24:44,593  - 4 epochs without improvement (above 'patience')-> annealing learning_rate to [0.01719292980643611]\n",
            "2025-05-01 08:24:44,593 ----------------------------------------------------------------------------------------------------\n"
          ]
        },
        {
          "output_type": "stream",
          "name": "stderr",
          "text": [
            "\n"
          ]
        },
        {
          "output_type": "stream",
          "name": "stdout",
          "text": [
            "2025-05-01 08:24:44,777 epoch 8 - iter 1/19 - loss 0.00002483 - time (sec): 0.18 - samples/sec: 177.07 - lr: 0.017193 - momentum: 0.000000\n",
            "2025-05-01 08:24:45,271 epoch 8 - iter 2/19 - loss 0.00034203 - time (sec): 0.67 - samples/sec: 94.96 - lr: 0.017193 - momentum: 0.000000\n",
            "2025-05-01 08:24:45,771 epoch 8 - iter 3/19 - loss 0.00024947 - time (sec): 1.17 - samples/sec: 81.74 - lr: 0.017193 - momentum: 0.000000\n",
            "2025-05-01 08:24:46,232 epoch 8 - iter 4/19 - loss 0.00019279 - time (sec): 1.64 - samples/sec: 78.29 - lr: 0.017193 - momentum: 0.000000\n",
            "2025-05-01 08:24:46,798 epoch 8 - iter 5/19 - loss 0.00825376 - time (sec): 2.20 - samples/sec: 72.68 - lr: 0.017193 - momentum: 0.000000\n",
            "2025-05-01 08:24:47,268 epoch 8 - iter 6/19 - loss 0.00689450 - time (sec): 2.67 - samples/sec: 71.88 - lr: 0.017193 - momentum: 0.000000\n",
            "2025-05-01 08:24:47,710 epoch 8 - iter 7/19 - loss 0.00592275 - time (sec): 3.11 - samples/sec: 71.95 - lr: 0.017193 - momentum: 0.000000\n",
            "2025-05-01 08:24:48,180 epoch 8 - iter 8/19 - loss 0.00519309 - time (sec): 3.58 - samples/sec: 71.44 - lr: 0.017193 - momentum: 0.000000\n",
            "2025-05-01 08:24:48,614 epoch 8 - iter 9/19 - loss 0.00466421 - time (sec): 4.02 - samples/sec: 71.68 - lr: 0.017193 - momentum: 0.000000\n",
            "2025-05-01 08:24:49,152 epoch 8 - iter 10/19 - loss 0.00424525 - time (sec): 4.56 - samples/sec: 70.24 - lr: 0.017193 - momentum: 0.000000\n",
            "2025-05-01 08:24:49,697 epoch 8 - iter 11/19 - loss 0.00386087 - time (sec): 5.10 - samples/sec: 69.02 - lr: 0.017193 - momentum: 0.000000\n",
            "2025-05-01 08:24:50,138 epoch 8 - iter 12/19 - loss 0.00353995 - time (sec): 5.54 - samples/sec: 69.30 - lr: 0.017193 - momentum: 0.000000\n",
            "2025-05-01 08:24:50,543 epoch 8 - iter 13/19 - loss 0.00326853 - time (sec): 5.95 - samples/sec: 69.96 - lr: 0.017193 - momentum: 0.000000\n",
            "2025-05-01 08:24:50,945 epoch 8 - iter 14/19 - loss 0.00304310 - time (sec): 6.35 - samples/sec: 70.57 - lr: 0.017193 - momentum: 0.000000\n",
            "2025-05-01 08:24:51,330 epoch 8 - iter 15/19 - loss 0.00292733 - time (sec): 6.73 - samples/sec: 71.29 - lr: 0.017193 - momentum: 0.000000\n",
            "2025-05-01 08:24:51,658 epoch 8 - iter 16/19 - loss 0.00288206 - time (sec): 7.06 - samples/sec: 72.51 - lr: 0.017193 - momentum: 0.000000\n",
            "2025-05-01 08:24:52,141 epoch 8 - iter 17/19 - loss 0.00271387 - time (sec): 7.54 - samples/sec: 72.11 - lr: 0.017193 - momentum: 0.000000\n",
            "2025-05-01 08:24:52,655 epoch 8 - iter 18/19 - loss 0.00266772 - time (sec): 8.06 - samples/sec: 71.48 - lr: 0.017193 - momentum: 0.000000\n",
            "2025-05-01 08:24:53,090 epoch 8 - iter 19/19 - loss 0.00255655 - time (sec): 8.49 - samples/sec: 71.00 - lr: 0.017193 - momentum: 0.000000\n",
            "2025-05-01 08:24:53,091 ----------------------------------------------------------------------------------------------------\n",
            "2025-05-01 08:24:53,095 EPOCH 8 done: loss 0.0026 - lr: 0.017193\n"
          ]
        },
        {
          "output_type": "stream",
          "name": "stderr",
          "text": [
            "100%|██████████| 3/3 [00:01<00:00,  2.29it/s]"
          ]
        },
        {
          "output_type": "stream",
          "name": "stdout",
          "text": [
            "2025-05-01 08:24:54,430 DEV : loss 0.23745816946029663 - f1-score (micro avg)  0.9643\n",
            "2025-05-01 08:24:54,470  - 1 epochs without improvement\n",
            "2025-05-01 08:24:54,471 ----------------------------------------------------------------------------------------------------\n"
          ]
        },
        {
          "output_type": "stream",
          "name": "stderr",
          "text": [
            "\n"
          ]
        },
        {
          "output_type": "stream",
          "name": "stdout",
          "text": [
            "2025-05-01 08:24:54,640 epoch 9 - iter 1/19 - loss 0.19251271 - time (sec): 0.17 - samples/sec: 191.87 - lr: 0.017193 - momentum: 0.000000\n",
            "2025-05-01 08:24:55,072 epoch 9 - iter 2/19 - loss 0.09664804 - time (sec): 0.60 - samples/sec: 106.82 - lr: 0.017193 - momentum: 0.000000\n",
            "2025-05-01 08:24:55,524 epoch 9 - iter 3/19 - loss 0.06445067 - time (sec): 1.05 - samples/sec: 91.39 - lr: 0.017193 - momentum: 0.000000\n",
            "2025-05-01 08:24:55,903 epoch 9 - iter 4/19 - loss 0.04835403 - time (sec): 1.43 - samples/sec: 89.55 - lr: 0.017193 - momentum: 0.000000\n",
            "2025-05-01 08:24:56,436 epoch 9 - iter 5/19 - loss 0.03871428 - time (sec): 1.96 - samples/sec: 81.51 - lr: 0.017193 - momentum: 0.000000\n",
            "2025-05-01 08:24:57,013 epoch 9 - iter 6/19 - loss 0.03230748 - time (sec): 2.54 - samples/sec: 75.59 - lr: 0.017193 - momentum: 0.000000\n",
            "2025-05-01 08:24:57,556 epoch 9 - iter 7/19 - loss 0.02769933 - time (sec): 3.08 - samples/sec: 72.67 - lr: 0.017193 - momentum: 0.000000\n",
            "2025-05-01 08:24:58,016 epoch 9 - iter 8/19 - loss 0.02424106 - time (sec): 3.54 - samples/sec: 72.25 - lr: 0.017193 - momentum: 0.000000\n",
            "2025-05-01 08:24:58,423 epoch 9 - iter 9/19 - loss 0.02154961 - time (sec): 3.95 - samples/sec: 72.91 - lr: 0.017193 - momentum: 0.000000\n",
            "2025-05-01 08:24:58,937 epoch 9 - iter 10/19 - loss 0.01939762 - time (sec): 4.46 - samples/sec: 71.69 - lr: 0.017193 - momentum: 0.000000\n",
            "2025-05-01 08:24:59,451 epoch 9 - iter 11/19 - loss 0.01771210 - time (sec): 4.98 - samples/sec: 70.71 - lr: 0.017193 - momentum: 0.000000\n",
            "2025-05-01 08:24:59,873 epoch 9 - iter 12/19 - loss 0.01623745 - time (sec): 5.40 - samples/sec: 71.12 - lr: 0.017193 - momentum: 0.000000\n",
            "2025-05-01 08:25:00,297 epoch 9 - iter 13/19 - loss 0.01500735 - time (sec): 5.82 - samples/sec: 71.43 - lr: 0.017193 - momentum: 0.000000\n",
            "2025-05-01 08:25:00,713 epoch 9 - iter 14/19 - loss 0.01393674 - time (sec): 6.24 - samples/sec: 71.79 - lr: 0.017193 - momentum: 0.000000\n",
            "2025-05-01 08:25:01,210 epoch 9 - iter 15/19 - loss 0.01300930 - time (sec): 6.74 - samples/sec: 71.25 - lr: 0.017193 - momentum: 0.000000\n",
            "2025-05-01 08:25:01,660 epoch 9 - iter 16/19 - loss 0.01219999 - time (sec): 7.19 - samples/sec: 71.24 - lr: 0.017193 - momentum: 0.000000\n",
            "2025-05-01 08:25:02,095 epoch 9 - iter 17/19 - loss 0.01148375 - time (sec): 7.62 - samples/sec: 71.38 - lr: 0.017193 - momentum: 0.000000\n",
            "2025-05-01 08:25:02,433 epoch 9 - iter 18/19 - loss 0.01084695 - time (sec): 7.96 - samples/sec: 72.36 - lr: 0.017193 - momentum: 0.000000\n",
            "2025-05-01 08:25:02,811 epoch 9 - iter 19/19 - loss 0.01036329 - time (sec): 8.34 - samples/sec: 72.32 - lr: 0.017193 - momentum: 0.000000\n",
            "2025-05-01 08:25:02,812 ----------------------------------------------------------------------------------------------------\n",
            "2025-05-01 08:25:02,813 EPOCH 9 done: loss 0.0104 - lr: 0.017193\n"
          ]
        },
        {
          "output_type": "stream",
          "name": "stderr",
          "text": [
            "100%|██████████| 3/3 [00:01<00:00,  2.43it/s]"
          ]
        },
        {
          "output_type": "stream",
          "name": "stdout",
          "text": [
            "2025-05-01 08:25:04,076 DEV : loss 0.22680135071277618 - f1-score (micro avg)  0.9643\n",
            "2025-05-01 08:25:04,117  - 2 epochs without improvement\n",
            "2025-05-01 08:25:04,118 ----------------------------------------------------------------------------------------------------\n"
          ]
        },
        {
          "output_type": "stream",
          "name": "stderr",
          "text": [
            "\n"
          ]
        },
        {
          "output_type": "stream",
          "name": "stdout",
          "text": [
            "2025-05-01 08:25:04,335 epoch 10 - iter 1/19 - loss 0.00022898 - time (sec): 0.21 - samples/sec: 149.04 - lr: 0.017193 - momentum: 0.000000\n",
            "2025-05-01 08:25:04,859 epoch 10 - iter 2/19 - loss 0.00014067 - time (sec): 0.74 - samples/sec: 86.64 - lr: 0.017193 - momentum: 0.000000\n",
            "2025-05-01 08:25:05,337 epoch 10 - iter 3/19 - loss 0.00010546 - time (sec): 1.22 - samples/sec: 78.94 - lr: 0.017193 - momentum: 0.000000\n",
            "2025-05-01 08:25:05,787 epoch 10 - iter 4/19 - loss 0.00127283 - time (sec): 1.67 - samples/sec: 76.81 - lr: 0.017193 - momentum: 0.000000\n",
            "2025-05-01 08:25:06,384 epoch 10 - iter 5/19 - loss 0.00101902 - time (sec): 2.26 - samples/sec: 70.68 - lr: 0.017193 - momentum: 0.000000\n",
            "2025-05-01 08:25:06,905 epoch 10 - iter 6/19 - loss 0.00085044 - time (sec): 2.78 - samples/sec: 68.94 - lr: 0.017193 - momentum: 0.000000\n",
            "2025-05-01 08:25:07,300 epoch 10 - iter 7/19 - loss 0.00074067 - time (sec): 3.18 - samples/sec: 70.44 - lr: 0.017193 - momentum: 0.000000\n",
            "2025-05-01 08:25:07,695 epoch 10 - iter 8/19 - loss 0.00414540 - time (sec): 3.57 - samples/sec: 71.62 - lr: 0.017193 - momentum: 0.000000\n",
            "2025-05-01 08:25:08,160 epoch 10 - iter 9/19 - loss 0.00368598 - time (sec): 4.04 - samples/sec: 71.30 - lr: 0.017193 - momentum: 0.000000\n",
            "2025-05-01 08:25:08,624 epoch 10 - iter 10/19 - loss 0.00332095 - time (sec): 4.50 - samples/sec: 71.06 - lr: 0.017193 - momentum: 0.000000\n",
            "2025-05-01 08:25:09,021 epoch 10 - iter 11/19 - loss 0.00302003 - time (sec): 4.90 - samples/sec: 71.83 - lr: 0.017193 - momentum: 0.000000\n",
            "2025-05-01 08:25:09,535 epoch 10 - iter 12/19 - loss 0.00276973 - time (sec): 5.41 - samples/sec: 70.92 - lr: 0.017193 - momentum: 0.000000\n",
            "2025-05-01 08:25:09,983 epoch 10 - iter 13/19 - loss 0.00255992 - time (sec): 5.86 - samples/sec: 70.95 - lr: 0.017193 - momentum: 0.000000\n",
            "2025-05-01 08:25:10,454 epoch 10 - iter 14/19 - loss 0.00239911 - time (sec): 6.33 - samples/sec: 70.73 - lr: 0.017193 - momentum: 0.000000\n",
            "2025-05-01 08:25:10,961 epoch 10 - iter 15/19 - loss 0.00224175 - time (sec): 6.84 - samples/sec: 70.17 - lr: 0.017193 - momentum: 0.000000\n",
            "2025-05-01 08:25:11,450 epoch 10 - iter 16/19 - loss 0.00210263 - time (sec): 7.33 - samples/sec: 69.85 - lr: 0.017193 - momentum: 0.000000\n",
            "2025-05-01 08:25:11,899 epoch 10 - iter 17/19 - loss 0.00198132 - time (sec): 7.78 - samples/sec: 69.93 - lr: 0.017193 - momentum: 0.000000\n",
            "2025-05-01 08:25:12,294 epoch 10 - iter 18/19 - loss 0.00187228 - time (sec): 8.17 - samples/sec: 70.48 - lr: 0.017193 - momentum: 0.000000\n",
            "2025-05-01 08:25:12,684 epoch 10 - iter 19/19 - loss 0.00178912 - time (sec): 8.56 - samples/sec: 70.41 - lr: 0.017193 - momentum: 0.000000\n",
            "2025-05-01 08:25:12,685 ----------------------------------------------------------------------------------------------------\n",
            "2025-05-01 08:25:12,686 EPOCH 10 done: loss 0.0018 - lr: 0.017193\n"
          ]
        },
        {
          "output_type": "stream",
          "name": "stderr",
          "text": [
            "100%|██████████| 3/3 [00:01<00:00,  2.38it/s]"
          ]
        },
        {
          "output_type": "stream",
          "name": "stdout",
          "text": [
            "2025-05-01 08:25:13,975 DEV : loss 0.20636574923992157 - f1-score (micro avg)  0.9702\n",
            "2025-05-01 08:25:14,014  - 3 epochs without improvement\n",
            "2025-05-01 08:25:14,015 ----------------------------------------------------------------------------------------------------\n"
          ]
        },
        {
          "output_type": "stream",
          "name": "stderr",
          "text": [
            "\n"
          ]
        },
        {
          "output_type": "stream",
          "name": "stdout",
          "text": [
            "2025-05-01 08:25:14,247 epoch 11 - iter 1/19 - loss 0.00001883 - time (sec): 0.23 - samples/sec: 139.23 - lr: 0.017193 - momentum: 0.000000\n",
            "2025-05-01 08:25:14,810 epoch 11 - iter 2/19 - loss 0.00007690 - time (sec): 0.79 - samples/sec: 80.66 - lr: 0.017193 - momentum: 0.000000\n",
            "2025-05-01 08:25:15,389 epoch 11 - iter 3/19 - loss 0.00006111 - time (sec): 1.37 - samples/sec: 69.99 - lr: 0.017193 - momentum: 0.000000\n",
            "2025-05-01 08:25:15,915 epoch 11 - iter 4/19 - loss 0.00004913 - time (sec): 1.90 - samples/sec: 67.43 - lr: 0.017193 - momentum: 0.000000\n",
            "2025-05-01 08:25:16,286 epoch 11 - iter 5/19 - loss 0.00004286 - time (sec): 2.27 - samples/sec: 70.52 - lr: 0.017193 - momentum: 0.000000\n",
            "2025-05-01 08:25:16,697 epoch 11 - iter 6/19 - loss 0.00003728 - time (sec): 2.68 - samples/sec: 71.65 - lr: 0.017193 - momentum: 0.000000\n",
            "2025-05-01 08:25:17,248 epoch 11 - iter 7/19 - loss 0.00003366 - time (sec): 3.23 - samples/sec: 69.34 - lr: 0.017193 - momentum: 0.000000\n",
            "2025-05-01 08:25:17,719 epoch 11 - iter 8/19 - loss 0.00006413 - time (sec): 3.70 - samples/sec: 69.15 - lr: 0.017193 - momentum: 0.000000\n",
            "2025-05-01 08:25:18,249 epoch 11 - iter 9/19 - loss 0.00006012 - time (sec): 4.23 - samples/sec: 68.05 - lr: 0.017193 - momentum: 0.000000\n",
            "2025-05-01 08:25:18,712 epoch 11 - iter 10/19 - loss 0.00005714 - time (sec): 4.69 - samples/sec: 68.16 - lr: 0.017193 - momentum: 0.000000\n",
            "2025-05-01 08:25:19,118 epoch 11 - iter 11/19 - loss 0.00005338 - time (sec): 5.10 - samples/sec: 69.01 - lr: 0.017193 - momentum: 0.000000\n",
            "2025-05-01 08:25:19,580 epoch 11 - iter 12/19 - loss 0.00005613 - time (sec): 5.56 - samples/sec: 69.03 - lr: 0.017193 - momentum: 0.000000\n",
            "2025-05-01 08:25:20,050 epoch 11 - iter 13/19 - loss 0.00005222 - time (sec): 6.03 - samples/sec: 68.95 - lr: 0.017193 - momentum: 0.000000\n",
            "2025-05-01 08:25:20,538 epoch 11 - iter 14/19 - loss 0.00004954 - time (sec): 6.52 - samples/sec: 68.70 - lr: 0.017193 - momentum: 0.000000\n",
            "2025-05-01 08:25:21,012 epoch 11 - iter 15/19 - loss 0.00004855 - time (sec): 7.00 - samples/sec: 68.62 - lr: 0.017193 - momentum: 0.000000\n",
            "2025-05-01 08:25:21,417 epoch 11 - iter 16/19 - loss 0.00011190 - time (sec): 7.40 - samples/sec: 69.19 - lr: 0.017193 - momentum: 0.000000\n",
            "2025-05-01 08:25:21,857 epoch 11 - iter 17/19 - loss 0.00010859 - time (sec): 7.84 - samples/sec: 69.38 - lr: 0.017193 - momentum: 0.000000\n",
            "2025-05-01 08:25:22,287 epoch 11 - iter 18/19 - loss 0.00010457 - time (sec): 8.27 - samples/sec: 69.65 - lr: 0.017193 - momentum: 0.000000\n",
            "2025-05-01 08:25:22,656 epoch 11 - iter 19/19 - loss 0.00010071 - time (sec): 8.64 - samples/sec: 69.80 - lr: 0.017193 - momentum: 0.000000\n",
            "2025-05-01 08:25:22,658 ----------------------------------------------------------------------------------------------------\n",
            "2025-05-01 08:25:22,659 EPOCH 11 done: loss 0.0001 - lr: 0.017193\n"
          ]
        },
        {
          "output_type": "stream",
          "name": "stderr",
          "text": [
            "100%|██████████| 3/3 [00:01<00:00,  1.58it/s]"
          ]
        },
        {
          "output_type": "stream",
          "name": "stdout",
          "text": [
            "2025-05-01 08:25:24,592 DEV : loss 0.22172749042510986 - f1-score (micro avg)  0.9762\n",
            "2025-05-01 08:25:24,631  - 4 epochs without improvement (above 'patience')-> annealing learning_rate to [0.008596464903218056]\n",
            "2025-05-01 08:25:24,632 ----------------------------------------------------------------------------------------------------\n"
          ]
        },
        {
          "output_type": "stream",
          "name": "stderr",
          "text": [
            "\n"
          ]
        },
        {
          "output_type": "stream",
          "name": "stdout",
          "text": [
            "2025-05-01 08:25:24,821 epoch 12 - iter 1/19 - loss 0.00003131 - time (sec): 0.18 - samples/sec: 173.56 - lr: 0.008596 - momentum: 0.000000\n",
            "2025-05-01 08:25:25,293 epoch 12 - iter 2/19 - loss 0.00002544 - time (sec): 0.66 - samples/sec: 97.48 - lr: 0.008596 - momentum: 0.000000\n",
            "2025-05-01 08:25:25,733 epoch 12 - iter 3/19 - loss 0.00002154 - time (sec): 1.10 - samples/sec: 87.50 - lr: 0.008596 - momentum: 0.000000\n",
            "2025-05-01 08:25:26,160 epoch 12 - iter 4/19 - loss 0.00002003 - time (sec): 1.52 - samples/sec: 84.00 - lr: 0.008596 - momentum: 0.000000\n",
            "2025-05-01 08:25:26,507 epoch 12 - iter 5/19 - loss 0.00001974 - time (sec): 1.87 - samples/sec: 85.53 - lr: 0.008596 - momentum: 0.000000\n",
            "2025-05-01 08:25:26,968 epoch 12 - iter 6/19 - loss 0.00003290 - time (sec): 2.33 - samples/sec: 82.33 - lr: 0.008596 - momentum: 0.000000\n",
            "2025-05-01 08:25:27,572 epoch 12 - iter 7/19 - loss 0.00003346 - time (sec): 2.94 - samples/sec: 76.29 - lr: 0.008596 - momentum: 0.000000\n",
            "2025-05-01 08:25:28,040 epoch 12 - iter 8/19 - loss 0.00003095 - time (sec): 3.40 - samples/sec: 75.22 - lr: 0.008596 - momentum: 0.000000\n",
            "2025-05-01 08:25:28,381 epoch 12 - iter 9/19 - loss 0.00004328 - time (sec): 3.74 - samples/sec: 76.91 - lr: 0.008596 - momentum: 0.000000\n",
            "2025-05-01 08:25:28,786 epoch 12 - iter 10/19 - loss 0.00004101 - time (sec): 4.15 - samples/sec: 77.11 - lr: 0.008596 - momentum: 0.000000\n",
            "2025-05-01 08:25:29,166 epoch 12 - iter 11/19 - loss 0.00003872 - time (sec): 4.53 - samples/sec: 77.71 - lr: 0.008596 - momentum: 0.000000\n",
            "2025-05-01 08:25:29,582 epoch 12 - iter 12/19 - loss 0.00003783 - time (sec): 4.95 - samples/sec: 77.65 - lr: 0.008596 - momentum: 0.000000\n",
            "2025-05-01 08:25:30,079 epoch 12 - iter 13/19 - loss 0.00003571 - time (sec): 5.44 - samples/sec: 76.43 - lr: 0.008596 - momentum: 0.000000\n",
            "2025-05-01 08:25:30,596 epoch 12 - iter 14/19 - loss 0.00005327 - time (sec): 5.96 - samples/sec: 75.17 - lr: 0.008596 - momentum: 0.000000\n",
            "2025-05-01 08:25:30,978 epoch 12 - iter 15/19 - loss 0.00005065 - time (sec): 6.34 - samples/sec: 75.69 - lr: 0.008596 - momentum: 0.000000\n",
            "2025-05-01 08:25:31,371 epoch 12 - iter 16/19 - loss 0.00004886 - time (sec): 6.74 - samples/sec: 76.02 - lr: 0.008596 - momentum: 0.000000\n",
            "2025-05-01 08:25:31,818 epoch 12 - iter 17/19 - loss 0.00004653 - time (sec): 7.18 - samples/sec: 75.75 - lr: 0.008596 - momentum: 0.000000\n",
            "2025-05-01 08:25:32,258 epoch 12 - iter 18/19 - loss 0.00004467 - time (sec): 7.62 - samples/sec: 75.57 - lr: 0.008596 - momentum: 0.000000\n",
            "2025-05-01 08:25:32,740 epoch 12 - iter 19/19 - loss 0.00004337 - time (sec): 8.10 - samples/sec: 74.41 - lr: 0.008596 - momentum: 0.000000\n",
            "2025-05-01 08:25:32,744 ----------------------------------------------------------------------------------------------------\n",
            "2025-05-01 08:25:32,745 EPOCH 12 done: loss 0.0000 - lr: 0.008596\n"
          ]
        },
        {
          "output_type": "stream",
          "name": "stderr",
          "text": [
            "100%|██████████| 3/3 [00:01<00:00,  2.26it/s]"
          ]
        },
        {
          "output_type": "stream",
          "name": "stdout",
          "text": [
            "2025-05-01 08:25:34,103 DEV : loss 0.22213977575302124 - f1-score (micro avg)  0.9762\n",
            "2025-05-01 08:25:34,142  - 1 epochs without improvement\n",
            "2025-05-01 08:25:34,143 ----------------------------------------------------------------------------------------------------\n"
          ]
        },
        {
          "output_type": "stream",
          "name": "stderr",
          "text": [
            "\n"
          ]
        },
        {
          "output_type": "stream",
          "name": "stdout",
          "text": [
            "2025-05-01 08:25:34,387 epoch 13 - iter 1/19 - loss 0.00002788 - time (sec): 0.24 - samples/sec: 133.60 - lr: 0.008596 - momentum: 0.000000\n",
            "2025-05-01 08:25:34,934 epoch 13 - iter 2/19 - loss 0.00001859 - time (sec): 0.79 - samples/sec: 81.33 - lr: 0.008596 - momentum: 0.000000\n",
            "2025-05-01 08:25:35,394 epoch 13 - iter 3/19 - loss 0.00002736 - time (sec): 1.25 - samples/sec: 76.97 - lr: 0.008596 - momentum: 0.000000\n",
            "2025-05-01 08:25:35,847 epoch 13 - iter 4/19 - loss 0.00002318 - time (sec): 1.70 - samples/sec: 75.29 - lr: 0.008596 - momentum: 0.000000\n",
            "2025-05-01 08:25:36,296 epoch 13 - iter 5/19 - loss 0.00002023 - time (sec): 2.15 - samples/sec: 74.46 - lr: 0.008596 - momentum: 0.000000\n",
            "2025-05-01 08:25:36,813 epoch 13 - iter 6/19 - loss 0.00002088 - time (sec): 2.67 - samples/sec: 72.01 - lr: 0.008596 - momentum: 0.000000\n",
            "2025-05-01 08:25:37,231 epoch 13 - iter 7/19 - loss 0.00002189 - time (sec): 3.08 - samples/sec: 72.64 - lr: 0.008596 - momentum: 0.000000\n",
            "2025-05-01 08:25:37,720 epoch 13 - iter 8/19 - loss 0.00002033 - time (sec): 3.57 - samples/sec: 71.66 - lr: 0.008596 - momentum: 0.000000\n",
            "2025-05-01 08:25:38,197 epoch 13 - iter 9/19 - loss 0.00001902 - time (sec): 4.05 - samples/sec: 71.10 - lr: 0.008596 - momentum: 0.000000\n",
            "2025-05-01 08:25:38,587 epoch 13 - iter 10/19 - loss 0.00002667 - time (sec): 4.44 - samples/sec: 72.08 - lr: 0.008596 - momentum: 0.000000\n",
            "2025-05-01 08:25:38,982 epoch 13 - iter 11/19 - loss 0.00002664 - time (sec): 4.84 - samples/sec: 72.80 - lr: 0.008596 - momentum: 0.000000\n",
            "2025-05-01 08:25:39,423 epoch 13 - iter 12/19 - loss 0.00002589 - time (sec): 5.28 - samples/sec: 72.78 - lr: 0.008596 - momentum: 0.000000\n",
            "2025-05-01 08:25:39,916 epoch 13 - iter 13/19 - loss 0.00002460 - time (sec): 5.77 - samples/sec: 72.11 - lr: 0.008596 - momentum: 0.000000\n",
            "2025-05-01 08:25:40,469 epoch 13 - iter 14/19 - loss 0.00002344 - time (sec): 6.32 - samples/sec: 70.86 - lr: 0.008596 - momentum: 0.000000\n",
            "2025-05-01 08:25:40,941 epoch 13 - iter 15/19 - loss 0.00002320 - time (sec): 6.79 - samples/sec: 70.65 - lr: 0.008596 - momentum: 0.000000\n",
            "2025-05-01 08:25:41,346 epoch 13 - iter 16/19 - loss 0.00002237 - time (sec): 7.20 - samples/sec: 71.13 - lr: 0.008596 - momentum: 0.000000\n",
            "2025-05-01 08:25:41,785 epoch 13 - iter 17/19 - loss 0.00002185 - time (sec): 7.64 - samples/sec: 71.22 - lr: 0.008596 - momentum: 0.000000\n",
            "2025-05-01 08:25:42,298 epoch 13 - iter 18/19 - loss 0.00002485 - time (sec): 8.15 - samples/sec: 70.67 - lr: 0.008596 - momentum: 0.000000\n",
            "2025-05-01 08:25:42,809 epoch 13 - iter 19/19 - loss 0.00002481 - time (sec): 8.66 - samples/sec: 69.61 - lr: 0.008596 - momentum: 0.000000\n",
            "2025-05-01 08:25:42,811 ----------------------------------------------------------------------------------------------------\n",
            "2025-05-01 08:25:42,812 EPOCH 13 done: loss 0.0000 - lr: 0.008596\n"
          ]
        },
        {
          "output_type": "stream",
          "name": "stderr",
          "text": [
            "100%|██████████| 3/3 [00:01<00:00,  2.19it/s]"
          ]
        },
        {
          "output_type": "stream",
          "name": "stdout",
          "text": [
            "2025-05-01 08:25:44,217 DEV : loss 0.22247976064682007 - f1-score (micro avg)  0.9762\n",
            "2025-05-01 08:25:44,290  - 2 epochs without improvement\n",
            "2025-05-01 08:25:44,295 ----------------------------------------------------------------------------------------------------\n"
          ]
        },
        {
          "output_type": "stream",
          "name": "stderr",
          "text": [
            "\n"
          ]
        },
        {
          "output_type": "stream",
          "name": "stdout",
          "text": [
            "2025-05-01 08:25:44,463 epoch 14 - iter 1/19 - loss 0.00002528 - time (sec): 0.17 - samples/sec: 193.50 - lr: 0.008596 - momentum: 0.000000\n",
            "2025-05-01 08:25:44,860 epoch 14 - iter 2/19 - loss 0.00003819 - time (sec): 0.56 - samples/sec: 113.65 - lr: 0.008596 - momentum: 0.000000\n",
            "2025-05-01 08:25:45,382 epoch 14 - iter 3/19 - loss 0.00007959 - time (sec): 1.08 - samples/sec: 88.52 - lr: 0.008596 - momentum: 0.000000\n",
            "2025-05-01 08:25:45,841 epoch 14 - iter 4/19 - loss 0.00006220 - time (sec): 1.54 - samples/sec: 82.92 - lr: 0.008596 - momentum: 0.000000\n",
            "2025-05-01 08:25:46,353 epoch 14 - iter 5/19 - loss 0.00005068 - time (sec): 2.06 - samples/sec: 77.82 - lr: 0.008596 - momentum: 0.000000\n",
            "2025-05-01 08:25:46,905 epoch 14 - iter 6/19 - loss 0.00004327 - time (sec): 2.61 - samples/sec: 73.62 - lr: 0.008596 - momentum: 0.000000\n",
            "2025-05-01 08:25:47,441 epoch 14 - iter 7/19 - loss 0.00009737 - time (sec): 3.14 - samples/sec: 71.26 - lr: 0.008596 - momentum: 0.000000\n",
            "2025-05-01 08:25:47,899 epoch 14 - iter 8/19 - loss 0.00009105 - time (sec): 3.60 - samples/sec: 71.07 - lr: 0.008596 - momentum: 0.000000\n",
            "2025-05-01 08:25:48,292 epoch 14 - iter 9/19 - loss 0.00008362 - time (sec): 3.99 - samples/sec: 72.09 - lr: 0.008596 - momentum: 0.000000\n",
            "2025-05-01 08:25:48,716 epoch 14 - iter 10/19 - loss 0.00008313 - time (sec): 4.42 - samples/sec: 72.42 - lr: 0.008596 - momentum: 0.000000\n",
            "2025-05-01 08:25:49,143 epoch 14 - iter 11/19 - loss 0.00007656 - time (sec): 4.85 - samples/sec: 72.64 - lr: 0.008596 - momentum: 0.000000\n",
            "2025-05-01 08:25:49,622 epoch 14 - iter 12/19 - loss 0.00007119 - time (sec): 5.32 - samples/sec: 72.12 - lr: 0.008596 - momentum: 0.000000\n",
            "2025-05-01 08:25:50,129 epoch 14 - iter 13/19 - loss 0.00007071 - time (sec): 5.83 - samples/sec: 71.34 - lr: 0.008596 - momentum: 0.000000\n",
            "2025-05-01 08:25:50,638 epoch 14 - iter 14/19 - loss 0.00006724 - time (sec): 6.34 - samples/sec: 70.66 - lr: 0.008596 - momentum: 0.000000\n",
            "2025-05-01 08:25:51,024 epoch 14 - iter 15/19 - loss 0.00006373 - time (sec): 6.73 - samples/sec: 71.36 - lr: 0.008596 - momentum: 0.000000\n",
            "2025-05-01 08:25:51,489 epoch 14 - iter 16/19 - loss 0.00006032 - time (sec): 7.19 - samples/sec: 71.19 - lr: 0.008596 - momentum: 0.000000\n",
            "2025-05-01 08:25:52,003 epoch 14 - iter 17/19 - loss 0.00005713 - time (sec): 7.71 - samples/sec: 70.60 - lr: 0.008596 - momentum: 0.000000\n",
            "2025-05-01 08:25:52,435 epoch 14 - iter 18/19 - loss 0.00005802 - time (sec): 8.14 - samples/sec: 70.78 - lr: 0.008596 - momentum: 0.000000\n",
            "2025-05-01 08:25:52,741 epoch 14 - iter 19/19 - loss 0.00005612 - time (sec): 8.44 - samples/sec: 71.41 - lr: 0.008596 - momentum: 0.000000\n",
            "2025-05-01 08:25:52,742 ----------------------------------------------------------------------------------------------------\n",
            "2025-05-01 08:25:52,743 EPOCH 14 done: loss 0.0001 - lr: 0.008596\n"
          ]
        },
        {
          "output_type": "stream",
          "name": "stderr",
          "text": [
            "100%|██████████| 3/3 [00:01<00:00,  2.45it/s]"
          ]
        },
        {
          "output_type": "stream",
          "name": "stdout",
          "text": [
            "2025-05-01 08:25:53,996 DEV : loss 0.22057121992111206 - f1-score (micro avg)  0.9762\n",
            "2025-05-01 08:25:54,038  - 3 epochs without improvement\n",
            "2025-05-01 08:25:54,039 ----------------------------------------------------------------------------------------------------\n"
          ]
        },
        {
          "output_type": "stream",
          "name": "stderr",
          "text": [
            "\n"
          ]
        },
        {
          "output_type": "stream",
          "name": "stdout",
          "text": [
            "2025-05-01 08:25:54,207 epoch 15 - iter 1/19 - loss 0.00021722 - time (sec): 0.17 - samples/sec: 193.85 - lr: 0.008596 - momentum: 0.000000\n",
            "2025-05-01 08:25:54,608 epoch 15 - iter 2/19 - loss 0.00015864 - time (sec): 0.57 - samples/sec: 113.02 - lr: 0.008596 - momentum: 0.000000\n",
            "2025-05-01 08:25:55,025 epoch 15 - iter 3/19 - loss 0.00011009 - time (sec): 0.98 - samples/sec: 97.67 - lr: 0.008596 - momentum: 0.000000\n",
            "2025-05-01 08:25:55,446 epoch 15 - iter 4/19 - loss 0.00008665 - time (sec): 1.40 - samples/sec: 91.14 - lr: 0.008596 - momentum: 0.000000\n",
            "2025-05-01 08:25:55,920 epoch 15 - iter 5/19 - loss 0.00007707 - time (sec): 1.88 - samples/sec: 85.20 - lr: 0.008596 - momentum: 0.000000\n",
            "2025-05-01 08:25:56,381 epoch 15 - iter 6/19 - loss 0.00006924 - time (sec): 2.34 - samples/sec: 82.09 - lr: 0.008596 - momentum: 0.000000\n",
            "2025-05-01 08:25:56,761 epoch 15 - iter 7/19 - loss 0.00006034 - time (sec): 2.72 - samples/sec: 82.36 - lr: 0.008596 - momentum: 0.000000\n",
            "2025-05-01 08:25:57,220 epoch 15 - iter 8/19 - loss 0.00006562 - time (sec): 3.18 - samples/sec: 80.54 - lr: 0.008596 - momentum: 0.000000\n",
            "2025-05-01 08:25:57,682 epoch 15 - iter 9/19 - loss 0.00007410 - time (sec): 3.64 - samples/sec: 79.11 - lr: 0.008596 - momentum: 0.000000\n",
            "2025-05-01 08:25:58,162 epoch 15 - iter 10/19 - loss 0.00006741 - time (sec): 4.12 - samples/sec: 77.66 - lr: 0.008596 - momentum: 0.000000\n",
            "2025-05-01 08:25:58,711 epoch 15 - iter 11/19 - loss 0.00006231 - time (sec): 4.67 - samples/sec: 75.39 - lr: 0.008596 - momentum: 0.000000\n",
            "2025-05-01 08:25:59,158 epoch 15 - iter 12/19 - loss 0.00005873 - time (sec): 5.12 - samples/sec: 75.05 - lr: 0.008596 - momentum: 0.000000\n",
            "2025-05-01 08:25:59,593 epoch 15 - iter 13/19 - loss 0.00005815 - time (sec): 5.55 - samples/sec: 74.94 - lr: 0.008596 - momentum: 0.000000\n",
            "2025-05-01 08:26:00,186 epoch 15 - iter 14/19 - loss 0.00005431 - time (sec): 6.14 - samples/sec: 72.91 - lr: 0.008596 - momentum: 0.000000\n",
            "2025-05-01 08:26:00,745 epoch 15 - iter 15/19 - loss 0.00005096 - time (sec): 6.70 - samples/sec: 71.60 - lr: 0.008596 - momentum: 0.000000\n",
            "2025-05-01 08:26:01,245 epoch 15 - iter 16/19 - loss 0.00004830 - time (sec): 7.20 - samples/sec: 71.07 - lr: 0.008596 - momentum: 0.000000\n",
            "2025-05-01 08:26:01,717 epoch 15 - iter 17/19 - loss 0.00004709 - time (sec): 7.68 - samples/sec: 70.88 - lr: 0.008596 - momentum: 0.000000\n",
            "2025-05-01 08:26:02,176 epoch 15 - iter 18/19 - loss 0.00004945 - time (sec): 8.13 - samples/sec: 70.81 - lr: 0.008596 - momentum: 0.000000\n",
            "2025-05-01 08:26:02,517 epoch 15 - iter 19/19 - loss 0.00004791 - time (sec): 8.48 - samples/sec: 71.14 - lr: 0.008596 - momentum: 0.000000\n",
            "2025-05-01 08:26:02,519 ----------------------------------------------------------------------------------------------------\n",
            "2025-05-01 08:26:02,520 EPOCH 15 done: loss 0.0000 - lr: 0.008596\n"
          ]
        },
        {
          "output_type": "stream",
          "name": "stderr",
          "text": [
            "100%|██████████| 3/3 [00:01<00:00,  2.40it/s]"
          ]
        },
        {
          "output_type": "stream",
          "name": "stdout",
          "text": [
            "2025-05-01 08:26:03,793 DEV : loss 0.22137492895126343 - f1-score (micro avg)  0.9762\n",
            "2025-05-01 08:26:03,833  - 4 epochs without improvement (above 'patience')-> annealing learning_rate to [0.004298232451609028]\n",
            "2025-05-01 08:26:03,834 ----------------------------------------------------------------------------------------------------\n"
          ]
        },
        {
          "output_type": "stream",
          "name": "stderr",
          "text": [
            "\n"
          ]
        },
        {
          "output_type": "stream",
          "name": "stdout",
          "text": [
            "2025-05-01 08:26:03,995 epoch 16 - iter 1/19 - loss 0.00004931 - time (sec): 0.16 - samples/sec: 200.75 - lr: 0.004298 - momentum: 0.000000\n",
            "2025-05-01 08:26:04,419 epoch 16 - iter 2/19 - loss 0.00003152 - time (sec): 0.58 - samples/sec: 109.69 - lr: 0.004298 - momentum: 0.000000\n",
            "2025-05-01 08:26:04,968 epoch 16 - iter 3/19 - loss 0.00002631 - time (sec): 1.13 - samples/sec: 84.82 - lr: 0.004298 - momentum: 0.000000\n",
            "2025-05-01 08:26:05,490 epoch 16 - iter 4/19 - loss 0.00003281 - time (sec): 1.65 - samples/sec: 77.38 - lr: 0.004298 - momentum: 0.000000\n",
            "2025-05-01 08:26:05,888 epoch 16 - iter 5/19 - loss 0.00002889 - time (sec): 2.05 - samples/sec: 77.96 - lr: 0.004298 - momentum: 0.000000\n",
            "2025-05-01 08:26:06,329 epoch 16 - iter 6/19 - loss 0.00002712 - time (sec): 2.49 - samples/sec: 77.00 - lr: 0.004298 - momentum: 0.000000\n",
            "2025-05-01 08:26:06,863 epoch 16 - iter 7/19 - loss 0.00002710 - time (sec): 3.03 - samples/sec: 73.99 - lr: 0.004298 - momentum: 0.000000\n",
            "2025-05-01 08:26:07,359 epoch 16 - iter 8/19 - loss 0.00002595 - time (sec): 3.52 - samples/sec: 72.65 - lr: 0.004298 - momentum: 0.000000\n",
            "2025-05-01 08:26:07,745 epoch 16 - iter 9/19 - loss 0.00002377 - time (sec): 3.91 - samples/sec: 73.68 - lr: 0.004298 - momentum: 0.000000\n",
            "2025-05-01 08:26:08,249 epoch 16 - iter 10/19 - loss 0.00002268 - time (sec): 4.41 - samples/sec: 72.51 - lr: 0.004298 - momentum: 0.000000\n",
            "2025-05-01 08:26:08,722 epoch 16 - iter 11/19 - loss 0.00002196 - time (sec): 4.89 - samples/sec: 72.04 - lr: 0.004298 - momentum: 0.000000\n",
            "2025-05-01 08:26:09,170 epoch 16 - iter 12/19 - loss 0.00002105 - time (sec): 5.33 - samples/sec: 71.99 - lr: 0.004298 - momentum: 0.000000\n",
            "2025-05-01 08:26:09,651 epoch 16 - iter 13/19 - loss 0.00002505 - time (sec): 5.82 - samples/sec: 71.53 - lr: 0.004298 - momentum: 0.000000\n",
            "2025-05-01 08:26:10,114 epoch 16 - iter 14/19 - loss 0.00002617 - time (sec): 6.28 - samples/sec: 71.36 - lr: 0.004298 - momentum: 0.000000\n",
            "2025-05-01 08:26:10,663 epoch 16 - iter 15/19 - loss 0.00002473 - time (sec): 6.83 - samples/sec: 70.31 - lr: 0.004298 - momentum: 0.000000\n",
            "2025-05-01 08:26:11,174 epoch 16 - iter 16/19 - loss 0.00002462 - time (sec): 7.34 - samples/sec: 69.77 - lr: 0.004298 - momentum: 0.000000\n",
            "2025-05-01 08:26:11,718 epoch 16 - iter 17/19 - loss 0.00002372 - time (sec): 7.88 - samples/sec: 69.02 - lr: 0.004298 - momentum: 0.000000\n",
            "2025-05-01 08:26:12,163 epoch 16 - iter 18/19 - loss 0.00002305 - time (sec): 8.33 - samples/sec: 69.17 - lr: 0.004298 - momentum: 0.000000\n",
            "2025-05-01 08:26:12,568 epoch 16 - iter 19/19 - loss 0.00002612 - time (sec): 8.73 - samples/sec: 69.06 - lr: 0.004298 - momentum: 0.000000\n",
            "2025-05-01 08:26:12,569 ----------------------------------------------------------------------------------------------------\n",
            "2025-05-01 08:26:12,570 EPOCH 16 done: loss 0.0000 - lr: 0.004298\n"
          ]
        },
        {
          "output_type": "stream",
          "name": "stderr",
          "text": [
            "100%|██████████| 3/3 [00:01<00:00,  2.33it/s]"
          ]
        },
        {
          "output_type": "stream",
          "name": "stdout",
          "text": [
            "2025-05-01 08:26:13,889 DEV : loss 0.22298264503479004 - f1-score (micro avg)  0.9702\n",
            "2025-05-01 08:26:13,930  - 1 epochs without improvement\n",
            "2025-05-01 08:26:13,931 ----------------------------------------------------------------------------------------------------\n"
          ]
        },
        {
          "output_type": "stream",
          "name": "stderr",
          "text": [
            "\n"
          ]
        },
        {
          "output_type": "stream",
          "name": "stdout",
          "text": [
            "2025-05-01 08:26:14,172 epoch 17 - iter 1/19 - loss 0.00003884 - time (sec): 0.24 - samples/sec: 134.94 - lr: 0.004298 - momentum: 0.000000\n",
            "2025-05-01 08:26:14,673 epoch 17 - iter 2/19 - loss 0.00002732 - time (sec): 0.74 - samples/sec: 86.64 - lr: 0.004298 - momentum: 0.000000\n",
            "2025-05-01 08:26:15,133 epoch 17 - iter 3/19 - loss 0.00002060 - time (sec): 1.20 - samples/sec: 80.14 - lr: 0.004298 - momentum: 0.000000\n",
            "2025-05-01 08:26:15,640 epoch 17 - iter 4/19 - loss 0.00001817 - time (sec): 1.71 - samples/sec: 75.04 - lr: 0.004298 - momentum: 0.000000\n",
            "2025-05-01 08:26:16,109 epoch 17 - iter 5/19 - loss 0.00001757 - time (sec): 2.17 - samples/sec: 73.59 - lr: 0.004298 - momentum: 0.000000\n",
            "2025-05-01 08:26:16,577 epoch 17 - iter 6/19 - loss 0.00001995 - time (sec): 2.64 - samples/sec: 72.66 - lr: 0.004298 - momentum: 0.000000\n",
            "2025-05-01 08:26:17,146 epoch 17 - iter 7/19 - loss 0.00001919 - time (sec): 3.21 - samples/sec: 69.75 - lr: 0.004298 - momentum: 0.000000\n",
            "2025-05-01 08:26:17,655 epoch 17 - iter 8/19 - loss 0.00001874 - time (sec): 3.72 - samples/sec: 68.81 - lr: 0.004298 - momentum: 0.000000\n",
            "2025-05-01 08:26:18,162 epoch 17 - iter 9/19 - loss 0.00001804 - time (sec): 4.23 - samples/sec: 68.13 - lr: 0.004298 - momentum: 0.000000\n",
            "2025-05-01 08:26:18,667 epoch 17 - iter 10/19 - loss 0.00001876 - time (sec): 4.73 - samples/sec: 67.63 - lr: 0.004298 - momentum: 0.000000\n",
            "2025-05-01 08:26:19,162 epoch 17 - iter 11/19 - loss 0.00001901 - time (sec): 5.23 - samples/sec: 67.33 - lr: 0.004298 - momentum: 0.000000\n",
            "2025-05-01 08:26:19,604 epoch 17 - iter 12/19 - loss 0.00002381 - time (sec): 5.67 - samples/sec: 67.73 - lr: 0.004298 - momentum: 0.000000\n",
            "2025-05-01 08:26:20,031 epoch 17 - iter 13/19 - loss 0.00002326 - time (sec): 6.10 - samples/sec: 68.24 - lr: 0.004298 - momentum: 0.000000\n",
            "2025-05-01 08:26:20,438 epoch 17 - iter 14/19 - loss 0.00002240 - time (sec): 6.50 - samples/sec: 68.89 - lr: 0.004298 - momentum: 0.000000\n",
            "2025-05-01 08:26:20,841 epoch 17 - iter 15/19 - loss 0.00002171 - time (sec): 6.91 - samples/sec: 69.50 - lr: 0.004298 - momentum: 0.000000\n",
            "2025-05-01 08:26:21,232 epoch 17 - iter 16/19 - loss 0.00002118 - time (sec): 7.30 - samples/sec: 70.17 - lr: 0.004298 - momentum: 0.000000\n",
            "2025-05-01 08:26:21,626 epoch 17 - iter 17/19 - loss 0.00002042 - time (sec): 7.69 - samples/sec: 70.73 - lr: 0.004298 - momentum: 0.000000\n",
            "2025-05-01 08:26:22,056 epoch 17 - iter 18/19 - loss 0.00001974 - time (sec): 8.12 - samples/sec: 70.92 - lr: 0.004298 - momentum: 0.000000\n",
            "2025-05-01 08:26:22,556 epoch 17 - iter 19/19 - loss 0.00001973 - time (sec): 8.62 - samples/sec: 69.94 - lr: 0.004298 - momentum: 0.000000\n",
            "2025-05-01 08:26:22,558 ----------------------------------------------------------------------------------------------------\n",
            "2025-05-01 08:26:22,559 EPOCH 17 done: loss 0.0000 - lr: 0.004298\n"
          ]
        },
        {
          "output_type": "stream",
          "name": "stderr",
          "text": [
            "100%|██████████| 3/3 [00:01<00:00,  2.21it/s]"
          ]
        },
        {
          "output_type": "stream",
          "name": "stdout",
          "text": [
            "2025-05-01 08:26:23,943 DEV : loss 0.22393099963665009 - f1-score (micro avg)  0.9702\n",
            "2025-05-01 08:26:24,004  - 2 epochs without improvement\n",
            "2025-05-01 08:26:24,005 ----------------------------------------------------------------------------------------------------\n"
          ]
        },
        {
          "output_type": "stream",
          "name": "stderr",
          "text": [
            "\n"
          ]
        },
        {
          "output_type": "stream",
          "name": "stdout",
          "text": [
            "2025-05-01 08:26:24,224 epoch 18 - iter 1/19 - loss 0.00003290 - time (sec): 0.22 - samples/sec: 147.70 - lr: 0.004298 - momentum: 0.000000\n",
            "2025-05-01 08:26:24,692 epoch 18 - iter 2/19 - loss 0.00002946 - time (sec): 0.68 - samples/sec: 93.54 - lr: 0.004298 - momentum: 0.000000\n",
            "2025-05-01 08:26:25,112 epoch 18 - iter 3/19 - loss 0.00002486 - time (sec): 1.10 - samples/sec: 86.93 - lr: 0.004298 - momentum: 0.000000\n",
            "2025-05-01 08:26:25,532 epoch 18 - iter 4/19 - loss 0.00002002 - time (sec): 1.52 - samples/sec: 83.96 - lr: 0.004298 - momentum: 0.000000\n",
            "2025-05-01 08:26:26,000 epoch 18 - iter 5/19 - loss 0.00002926 - time (sec): 1.99 - samples/sec: 80.33 - lr: 0.004298 - momentum: 0.000000\n",
            "2025-05-01 08:26:26,391 epoch 18 - iter 6/19 - loss 0.00002782 - time (sec): 2.38 - samples/sec: 80.57 - lr: 0.004298 - momentum: 0.000000\n",
            "2025-05-01 08:26:26,831 epoch 18 - iter 7/19 - loss 0.00002567 - time (sec): 2.82 - samples/sec: 79.35 - lr: 0.004298 - momentum: 0.000000\n",
            "2025-05-01 08:26:27,313 epoch 18 - iter 8/19 - loss 0.00002583 - time (sec): 3.30 - samples/sec: 77.46 - lr: 0.004298 - momentum: 0.000000\n",
            "2025-05-01 08:26:27,738 epoch 18 - iter 9/19 - loss 0.00002438 - time (sec): 3.73 - samples/sec: 77.20 - lr: 0.004298 - momentum: 0.000000\n",
            "2025-05-01 08:26:28,097 epoch 18 - iter 10/19 - loss 0.00002485 - time (sec): 4.09 - samples/sec: 78.26 - lr: 0.004298 - momentum: 0.000000\n",
            "2025-05-01 08:26:28,420 epoch 18 - iter 11/19 - loss 0.00002421 - time (sec): 4.41 - samples/sec: 79.78 - lr: 0.004298 - momentum: 0.000000\n",
            "2025-05-01 08:26:28,829 epoch 18 - iter 12/19 - loss 0.00002305 - time (sec): 4.82 - samples/sec: 79.64 - lr: 0.004298 - momentum: 0.000000\n",
            "2025-05-01 08:26:29,265 epoch 18 - iter 13/19 - loss 0.00002179 - time (sec): 5.26 - samples/sec: 79.13 - lr: 0.004298 - momentum: 0.000000\n",
            "2025-05-01 08:26:29,705 epoch 18 - iter 14/19 - loss 0.00002213 - time (sec): 5.70 - samples/sec: 78.63 - lr: 0.004298 - momentum: 0.000000\n",
            "2025-05-01 08:26:30,260 epoch 18 - iter 15/19 - loss 0.00002255 - time (sec): 6.25 - samples/sec: 76.77 - lr: 0.004298 - momentum: 0.000000\n",
            "2025-05-01 08:26:30,828 epoch 18 - iter 16/19 - loss 0.00002266 - time (sec): 6.82 - samples/sec: 75.07 - lr: 0.004298 - momentum: 0.000000\n",
            "2025-05-01 08:26:31,351 epoch 18 - iter 17/19 - loss 0.00002182 - time (sec): 7.34 - samples/sec: 74.08 - lr: 0.004298 - momentum: 0.000000\n",
            "2025-05-01 08:26:31,733 epoch 18 - iter 18/19 - loss 0.00002368 - time (sec): 7.72 - samples/sec: 74.56 - lr: 0.004298 - momentum: 0.000000\n",
            "2025-05-01 08:26:32,126 epoch 18 - iter 19/19 - loss 0.00002328 - time (sec): 8.12 - samples/sec: 74.28 - lr: 0.004298 - momentum: 0.000000\n",
            "2025-05-01 08:26:32,127 ----------------------------------------------------------------------------------------------------\n",
            "2025-05-01 08:26:32,128 EPOCH 18 done: loss 0.0000 - lr: 0.004298\n"
          ]
        },
        {
          "output_type": "stream",
          "name": "stderr",
          "text": [
            "100%|██████████| 3/3 [00:01<00:00,  2.40it/s]"
          ]
        },
        {
          "output_type": "stream",
          "name": "stdout",
          "text": [
            "2025-05-01 08:26:33,406 DEV : loss 0.22382569313049316 - f1-score (micro avg)  0.9762\n",
            "2025-05-01 08:26:33,460  - 3 epochs without improvement\n",
            "2025-05-01 08:26:33,462 ----------------------------------------------------------------------------------------------------\n"
          ]
        },
        {
          "output_type": "stream",
          "name": "stderr",
          "text": [
            "\n"
          ]
        },
        {
          "output_type": "stream",
          "name": "stdout",
          "text": [
            "2025-05-01 08:26:33,627 epoch 19 - iter 1/19 - loss 0.00001968 - time (sec): 0.16 - samples/sec: 197.10 - lr: 0.004298 - momentum: 0.000000\n",
            "2025-05-01 08:26:34,007 epoch 19 - iter 2/19 - loss 0.00001704 - time (sec): 0.54 - samples/sec: 118.16 - lr: 0.004298 - momentum: 0.000000\n",
            "2025-05-01 08:26:34,365 epoch 19 - iter 3/19 - loss 0.00001473 - time (sec): 0.90 - samples/sec: 106.67 - lr: 0.004298 - momentum: 0.000000\n",
            "2025-05-01 08:26:34,777 epoch 19 - iter 4/19 - loss 0.00001344 - time (sec): 1.31 - samples/sec: 97.53 - lr: 0.004298 - momentum: 0.000000\n",
            "2025-05-01 08:26:35,223 epoch 19 - iter 5/19 - loss 0.00001208 - time (sec): 1.76 - samples/sec: 91.03 - lr: 0.004298 - momentum: 0.000000\n",
            "2025-05-01 08:26:35,779 epoch 19 - iter 6/19 - loss 0.00002896 - time (sec): 2.31 - samples/sec: 82.99 - lr: 0.004298 - momentum: 0.000000\n",
            "2025-05-01 08:26:36,318 epoch 19 - iter 7/19 - loss 0.00002583 - time (sec): 2.85 - samples/sec: 78.50 - lr: 0.004298 - momentum: 0.000000\n",
            "2025-05-01 08:26:36,827 epoch 19 - iter 8/19 - loss 0.00002972 - time (sec): 3.36 - samples/sec: 76.14 - lr: 0.004298 - momentum: 0.000000\n",
            "2025-05-01 08:26:37,256 epoch 19 - iter 9/19 - loss 0.00016387 - time (sec): 3.79 - samples/sec: 75.97 - lr: 0.004298 - momentum: 0.000000\n",
            "2025-05-01 08:26:37,706 epoch 19 - iter 10/19 - loss 0.00015145 - time (sec): 4.24 - samples/sec: 75.45 - lr: 0.004298 - momentum: 0.000000\n",
            "2025-05-01 08:26:38,182 epoch 19 - iter 11/19 - loss 0.00013907 - time (sec): 4.72 - samples/sec: 74.63 - lr: 0.004298 - momentum: 0.000000\n",
            "2025-05-01 08:26:38,612 epoch 19 - iter 12/19 - loss 0.00012810 - time (sec): 5.15 - samples/sec: 74.60 - lr: 0.004298 - momentum: 0.000000\n",
            "2025-05-01 08:26:39,038 epoch 19 - iter 13/19 - loss 0.00011880 - time (sec): 5.57 - samples/sec: 74.64 - lr: 0.004298 - momentum: 0.000000\n",
            "2025-05-01 08:26:39,582 epoch 19 - iter 14/19 - loss 0.00011099 - time (sec): 6.12 - samples/sec: 73.24 - lr: 0.004298 - momentum: 0.000000\n",
            "2025-05-01 08:26:40,098 epoch 19 - iter 15/19 - loss 0.00011760 - time (sec): 6.63 - samples/sec: 72.37 - lr: 0.004298 - momentum: 0.000000\n",
            "2025-05-01 08:26:40,503 epoch 19 - iter 16/19 - loss 0.00011299 - time (sec): 7.04 - samples/sec: 72.75 - lr: 0.004298 - momentum: 0.000000\n",
            "2025-05-01 08:26:40,975 epoch 19 - iter 17/19 - loss 0.00010676 - time (sec): 7.51 - samples/sec: 72.44 - lr: 0.004298 - momentum: 0.000000\n",
            "2025-05-01 08:26:41,516 epoch 19 - iter 18/19 - loss 0.00010283 - time (sec): 8.05 - samples/sec: 71.55 - lr: 0.004298 - momentum: 0.000000\n",
            "2025-05-01 08:26:41,946 epoch 19 - iter 19/19 - loss 0.00009881 - time (sec): 8.48 - samples/sec: 71.10 - lr: 0.004298 - momentum: 0.000000\n",
            "2025-05-01 08:26:41,947 ----------------------------------------------------------------------------------------------------\n",
            "2025-05-01 08:26:41,948 EPOCH 19 done: loss 0.0001 - lr: 0.004298\n"
          ]
        },
        {
          "output_type": "stream",
          "name": "stderr",
          "text": [
            "100%|██████████| 3/3 [00:01<00:00,  2.37it/s]"
          ]
        },
        {
          "output_type": "stream",
          "name": "stdout",
          "text": [
            "2025-05-01 08:26:43,238 DEV : loss 0.22407445311546326 - f1-score (micro avg)  0.9762\n",
            "2025-05-01 08:26:43,284  - 4 epochs without improvement (above 'patience')-> annealing learning_rate to [0.002149116225804514]\n"
          ]
        },
        {
          "output_type": "stream",
          "name": "stderr",
          "text": [
            "\n"
          ]
        },
        {
          "output_type": "stream",
          "name": "stdout",
          "text": [
            "2025-05-01 08:26:44,432 ----------------------------------------------------------------------------------------------------\n",
            "2025-05-01 08:26:44,435 Loading model from best epoch ...\n"
          ]
        },
        {
          "output_type": "stream",
          "name": "stderr",
          "text": [
            "100%|██████████| 2/2 [00:00<00:00,  5.87it/s]"
          ]
        },
        {
          "output_type": "stream",
          "name": "stdout",
          "text": [
            "2025-05-01 08:26:46,984 \n",
            "Results:\n",
            "- F-score (micro) 1.0\n",
            "- F-score (macro) 1.0\n",
            "- Accuracy 1.0\n",
            "\n",
            "By class:\n",
            "              precision    recall  f1-score   support\n",
            "\n",
            "          공통     1.0000    1.0000    1.0000        18\n",
            "          교량     1.0000    1.0000    1.0000        14\n",
            "       가설구조물     1.0000    1.0000    1.0000        12\n",
            "        양중작업     1.0000    1.0000    1.0000        11\n",
            "        굴착공사     1.0000    1.0000    1.0000         8\n",
            "          건축     1.0000    1.0000    1.0000         4\n",
            "\n",
            "    accuracy                         1.0000        67\n",
            "   macro avg     1.0000    1.0000    1.0000        67\n",
            "weighted avg     1.0000    1.0000    1.0000        67\n",
            "\n",
            "2025-05-01 08:26:46,986 ----------------------------------------------------------------------------------------------------\n"
          ]
        },
        {
          "output_type": "stream",
          "name": "stderr",
          "text": [
            "\n"
          ]
        },
        {
          "output_type": "stream",
          "name": "stdout",
          "text": [
            "  훈련 결과: {'test_score': 1.0}\n",
            "  현재 폴드 정확도: 0.9762\n",
            "  폴드 3/5 학습 중...\n",
            "2025-05-01 08:26:52,368 Reading data from /tmp/tmpvj6q0_es\n",
            "2025-05-01 08:26:52,369 Train: /tmp/tmpvj6q0_es/train.txt\n",
            "2025-05-01 08:26:52,369 Dev: /tmp/tmpvj6q0_es/dev.txt\n",
            "2025-05-01 08:26:52,371 Test: None\n",
            "2025-05-01 08:26:52,418 No test split found. Using 10% (i.e. 67 samples) of the train split as test data\n",
            "2025-05-01 08:26:52,419 Initialized corpus /tmp/tmpvj6q0_es (label type name is 'class')\n",
            "2025-05-01 08:26:52,422 Computing label dictionary. Progress:\n"
          ]
        },
        {
          "output_type": "stream",
          "name": "stderr",
          "text": [
            "0it [00:00, ?it/s]\n",
            "603it [00:00, 4619.15it/s]"
          ]
        },
        {
          "output_type": "stream",
          "name": "stdout",
          "text": [
            "2025-05-01 08:26:52,563 Dictionary created for label 'class' with 7 values: 공통 (seen 172 times), 가설구조물 (seen 143 times), 교량 (seen 98 times), 굴착공사 (seen 82 times), 건축 (seen 53 times), 양중작업 (seen 52 times),  (seen 3 times)\n",
            "2025-05-01 08:26:52,571 ----------------------------------------------------------------------------------------------------\n",
            "2025-05-01 08:26:52,575 Model: \"TextClassifier(\n",
            "  (embeddings): TransformerDocumentEmbeddings(\n",
            "    (model): BertModel(\n",
            "      (embeddings): BertEmbeddings(\n",
            "        (word_embeddings): Embedding(32001, 768, padding_idx=0)\n",
            "        (position_embeddings): Embedding(512, 768)\n",
            "        (token_type_embeddings): Embedding(2, 768)\n",
            "        (LayerNorm): LayerNorm((768,), eps=1e-12, elementwise_affine=True)\n",
            "        (dropout): Dropout(p=0.1, inplace=False)\n",
            "      )\n",
            "      (encoder): BertEncoder(\n",
            "        (layer): ModuleList(\n",
            "          (0-11): 12 x BertLayer(\n",
            "            (attention): BertAttention(\n",
            "              (self): BertSdpaSelfAttention(\n",
            "                (query): Linear(in_features=768, out_features=768, bias=True)\n",
            "                (key): Linear(in_features=768, out_features=768, bias=True)\n",
            "                (value): Linear(in_features=768, out_features=768, bias=True)\n",
            "                (dropout): Dropout(p=0.1, inplace=False)\n",
            "              )\n",
            "              (output): BertSelfOutput(\n",
            "                (dense): Linear(in_features=768, out_features=768, bias=True)\n",
            "                (LayerNorm): LayerNorm((768,), eps=1e-12, elementwise_affine=True)\n",
            "                (dropout): Dropout(p=0.1, inplace=False)\n",
            "              )\n",
            "            )\n",
            "            (intermediate): BertIntermediate(\n",
            "              (dense): Linear(in_features=768, out_features=3072, bias=True)\n",
            "              (intermediate_act_fn): GELUActivation()\n",
            "            )\n",
            "            (output): BertOutput(\n",
            "              (dense): Linear(in_features=3072, out_features=768, bias=True)\n",
            "              (LayerNorm): LayerNorm((768,), eps=1e-12, elementwise_affine=True)\n",
            "              (dropout): Dropout(p=0.1, inplace=False)\n",
            "            )\n",
            "          )\n",
            "        )\n",
            "      )\n",
            "      (pooler): BertPooler(\n",
            "        (dense): Linear(in_features=768, out_features=768, bias=True)\n",
            "        (activation): Tanh()\n",
            "      )\n",
            "    )\n",
            "  )\n",
            "  (decoder): Linear(in_features=768, out_features=7, bias=True)\n",
            "  (dropout): Dropout(p=0.0, inplace=False)\n",
            "  (locked_dropout): LockedDropout(p=0.0)\n",
            "  (word_dropout): WordDropout(p=0.0)\n",
            "  (loss_function): CrossEntropyLoss()\n",
            "  (weights): None\n",
            "  (weight_tensor) None\n",
            ")\"\n",
            "2025-05-01 08:26:52,576 ----------------------------------------------------------------------------------------------------\n",
            "2025-05-01 08:26:52,576 Corpus: 603 train + 168 dev + 67 test sentences\n",
            "2025-05-01 08:26:52,577 ----------------------------------------------------------------------------------------------------\n",
            "2025-05-01 08:26:52,579 Train:  603 sentences\n",
            "2025-05-01 08:26:52,580         (train_with_dev=False, train_with_test=False)\n",
            "2025-05-01 08:26:52,581 ----------------------------------------------------------------------------------------------------\n",
            "2025-05-01 08:26:52,583 Training Params:\n",
            "2025-05-01 08:26:52,586  - learning_rate: \"0.03438585961287222\" \n",
            "2025-05-01 08:26:52,586  - mini_batch_size: \"32\"\n",
            "2025-05-01 08:26:52,587  - max_epochs: \"19\"\n",
            "2025-05-01 08:26:52,588  - shuffle: \"True\"\n",
            "2025-05-01 08:26:52,588 ----------------------------------------------------------------------------------------------------\n",
            "2025-05-01 08:26:52,589 Plugins:\n",
            "2025-05-01 08:26:52,590  - AnnealOnPlateau | patience: '3', anneal_factor: '0.5', min_learning_rate: '0.0001'\n",
            "2025-05-01 08:26:52,590 ----------------------------------------------------------------------------------------------------\n",
            "2025-05-01 08:26:52,591 Final evaluation on model from best epoch (best-model.pt)\n",
            "2025-05-01 08:26:52,593  - metric: \"('micro avg', 'f1-score')\"\n",
            "2025-05-01 08:26:52,594 ----------------------------------------------------------------------------------------------------\n",
            "2025-05-01 08:26:52,595 Computation:\n",
            "2025-05-01 08:26:52,595  - compute on device: cuda:0\n",
            "2025-05-01 08:26:52,596  - embedding storage: cpu\n",
            "2025-05-01 08:26:52,596 ----------------------------------------------------------------------------------------------------\n",
            "2025-05-01 08:26:52,597 Model training base path: \"/tmp/tmpvj6q0_es/model\"\n",
            "2025-05-01 08:26:52,597 ----------------------------------------------------------------------------------------------------\n",
            "2025-05-01 08:26:52,600 ----------------------------------------------------------------------------------------------------\n"
          ]
        },
        {
          "output_type": "stream",
          "name": "stderr",
          "text": [
            "\n",
            "/usr/local/lib/python3.11/dist-packages/flair/trainers/trainer.py:545: FutureWarning: `torch.cuda.amp.GradScaler(args...)` is deprecated. Please use `torch.amp.GradScaler('cuda', args...)` instead.\n",
            "  scaler = torch.cuda.amp.GradScaler(enabled=use_amp and flair.device.type != \"cpu\")\n"
          ]
        },
        {
          "output_type": "stream",
          "name": "stdout",
          "text": [
            "2025-05-01 08:26:52,808 epoch 1 - iter 1/19 - loss 2.38133597 - time (sec): 0.21 - samples/sec: 155.22 - lr: 0.034386 - momentum: 0.000000\n",
            "2025-05-01 08:26:53,299 epoch 1 - iter 2/19 - loss 1.63970298 - time (sec): 0.70 - samples/sec: 91.89 - lr: 0.034386 - momentum: 0.000000\n",
            "2025-05-01 08:26:53,838 epoch 1 - iter 3/19 - loss 1.24745646 - time (sec): 1.24 - samples/sec: 77.70 - lr: 0.034386 - momentum: 0.000000\n",
            "2025-05-01 08:26:54,256 epoch 1 - iter 4/19 - loss 1.00473622 - time (sec): 1.65 - samples/sec: 77.39 - lr: 0.034386 - momentum: 0.000000\n",
            "2025-05-01 08:26:54,713 epoch 1 - iter 5/19 - loss 0.83781862 - time (sec): 2.11 - samples/sec: 75.79 - lr: 0.034386 - momentum: 0.000000\n",
            "2025-05-01 08:26:55,214 epoch 1 - iter 6/19 - loss 0.71272019 - time (sec): 2.61 - samples/sec: 73.50 - lr: 0.034386 - momentum: 0.000000\n",
            "2025-05-01 08:26:55,623 epoch 1 - iter 7/19 - loss 0.61974751 - time (sec): 3.02 - samples/sec: 74.16 - lr: 0.034386 - momentum: 0.000000\n",
            "2025-05-01 08:26:56,098 epoch 1 - iter 8/19 - loss 0.54937050 - time (sec): 3.50 - samples/sec: 73.22 - lr: 0.034386 - momentum: 0.000000\n",
            "2025-05-01 08:26:56,588 epoch 1 - iter 9/19 - loss 0.54595341 - time (sec): 3.99 - samples/sec: 72.25 - lr: 0.034386 - momentum: 0.000000\n",
            "2025-05-01 08:26:57,011 epoch 1 - iter 10/19 - loss 0.49782022 - time (sec): 4.41 - samples/sec: 72.58 - lr: 0.034386 - momentum: 0.000000\n",
            "2025-05-01 08:26:57,368 epoch 1 - iter 11/19 - loss 0.45804956 - time (sec): 4.77 - samples/sec: 73.86 - lr: 0.034386 - momentum: 0.000000\n",
            "2025-05-01 08:26:57,735 epoch 1 - iter 12/19 - loss 0.44283249 - time (sec): 5.13 - samples/sec: 74.81 - lr: 0.034386 - momentum: 0.000000\n",
            "2025-05-01 08:26:58,204 epoch 1 - iter 13/19 - loss 0.41444027 - time (sec): 5.60 - samples/sec: 74.27 - lr: 0.034386 - momentum: 0.000000\n",
            "2025-05-01 08:26:58,741 epoch 1 - iter 14/19 - loss 0.38744879 - time (sec): 6.14 - samples/sec: 72.98 - lr: 0.034386 - momentum: 0.000000\n",
            "2025-05-01 08:26:59,292 epoch 1 - iter 15/19 - loss 0.37700327 - time (sec): 6.69 - samples/sec: 71.76 - lr: 0.034386 - momentum: 0.000000\n",
            "2025-05-01 08:26:59,795 epoch 1 - iter 16/19 - loss 0.36674386 - time (sec): 7.19 - samples/sec: 71.18 - lr: 0.034386 - momentum: 0.000000\n",
            "2025-05-01 08:27:00,276 epoch 1 - iter 17/19 - loss 0.34724399 - time (sec): 7.67 - samples/sec: 70.89 - lr: 0.034386 - momentum: 0.000000\n",
            "2025-05-01 08:27:00,697 epoch 1 - iter 18/19 - loss 0.34134287 - time (sec): 8.09 - samples/sec: 71.16 - lr: 0.034386 - momentum: 0.000000\n",
            "2025-05-01 08:27:01,096 epoch 1 - iter 19/19 - loss 0.32713265 - time (sec): 8.49 - samples/sec: 71.00 - lr: 0.034386 - momentum: 0.000000\n",
            "2025-05-01 08:27:01,097 ----------------------------------------------------------------------------------------------------\n",
            "2025-05-01 08:27:01,099 EPOCH 1 done: loss 0.3271 - lr: 0.034386\n"
          ]
        },
        {
          "output_type": "stream",
          "name": "stderr",
          "text": [
            "100%|██████████| 3/3 [00:01<00:00,  2.64it/s]"
          ]
        },
        {
          "output_type": "stream",
          "name": "stdout",
          "text": [
            "2025-05-01 08:27:02,263 DEV : loss 0.034890301525592804 - f1-score (micro avg)  0.9881\n"
          ]
        },
        {
          "output_type": "stream",
          "name": "stderr",
          "text": [
            "\n"
          ]
        },
        {
          "output_type": "stream",
          "name": "stdout",
          "text": [
            "2025-05-01 08:27:02,322  - 0 epochs without improvement\n",
            "2025-05-01 08:27:02,323 saving best model\n",
            "2025-05-01 08:27:03,678 ----------------------------------------------------------------------------------------------------\n",
            "2025-05-01 08:27:03,887 epoch 2 - iter 1/19 - loss 0.03596778 - time (sec): 0.20 - samples/sec: 157.79 - lr: 0.034386 - momentum: 0.000000\n",
            "2025-05-01 08:27:04,356 epoch 2 - iter 2/19 - loss 0.02326566 - time (sec): 0.67 - samples/sec: 95.25 - lr: 0.034386 - momentum: 0.000000\n",
            "2025-05-01 08:27:04,884 epoch 2 - iter 3/19 - loss 0.02533349 - time (sec): 1.20 - samples/sec: 80.03 - lr: 0.034386 - momentum: 0.000000\n",
            "2025-05-01 08:27:05,424 epoch 2 - iter 4/19 - loss 0.02347109 - time (sec): 1.74 - samples/sec: 73.56 - lr: 0.034386 - momentum: 0.000000\n",
            "2025-05-01 08:27:05,835 epoch 2 - iter 5/19 - loss 0.02271371 - time (sec): 2.15 - samples/sec: 74.40 - lr: 0.034386 - momentum: 0.000000\n",
            "2025-05-01 08:27:06,161 epoch 2 - iter 6/19 - loss 0.01913947 - time (sec): 2.48 - samples/sec: 77.52 - lr: 0.034386 - momentum: 0.000000\n",
            "2025-05-01 08:27:06,525 epoch 2 - iter 7/19 - loss 0.01765189 - time (sec): 2.84 - samples/sec: 78.86 - lr: 0.034386 - momentum: 0.000000\n",
            "2025-05-01 08:27:06,970 epoch 2 - iter 8/19 - loss 0.01879478 - time (sec): 3.29 - samples/sec: 77.90 - lr: 0.034386 - momentum: 0.000000\n",
            "2025-05-01 08:27:07,443 epoch 2 - iter 9/19 - loss 0.01754153 - time (sec): 3.76 - samples/sec: 76.62 - lr: 0.034386 - momentum: 0.000000\n",
            "2025-05-01 08:27:07,847 epoch 2 - iter 10/19 - loss 0.01629273 - time (sec): 4.16 - samples/sec: 76.87 - lr: 0.034386 - momentum: 0.000000\n",
            "2025-05-01 08:27:08,242 epoch 2 - iter 11/19 - loss 0.01512057 - time (sec): 4.56 - samples/sec: 77.23 - lr: 0.034386 - momentum: 0.000000\n",
            "2025-05-01 08:27:08,642 epoch 2 - iter 12/19 - loss 0.01486783 - time (sec): 4.96 - samples/sec: 77.45 - lr: 0.034386 - momentum: 0.000000\n",
            "2025-05-01 08:27:09,054 epoch 2 - iter 13/19 - loss 0.01380056 - time (sec): 5.37 - samples/sec: 77.47 - lr: 0.034386 - momentum: 0.000000\n",
            "2025-05-01 08:27:09,546 epoch 2 - iter 14/19 - loss 0.01338886 - time (sec): 5.86 - samples/sec: 76.43 - lr: 0.034386 - momentum: 0.000000\n",
            "2025-05-01 08:27:10,061 epoch 2 - iter 15/19 - loss 0.01271497 - time (sec): 6.38 - samples/sec: 75.27 - lr: 0.034386 - momentum: 0.000000\n",
            "2025-05-01 08:27:10,487 epoch 2 - iter 16/19 - loss 0.05182326 - time (sec): 6.80 - samples/sec: 75.26 - lr: 0.034386 - momentum: 0.000000\n",
            "2025-05-01 08:27:10,920 epoch 2 - iter 17/19 - loss 0.05975597 - time (sec): 7.24 - samples/sec: 75.18 - lr: 0.034386 - momentum: 0.000000\n",
            "2025-05-01 08:27:11,292 epoch 2 - iter 18/19 - loss 0.06087557 - time (sec): 7.61 - samples/sec: 75.71 - lr: 0.034386 - momentum: 0.000000\n",
            "2025-05-01 08:27:11,741 epoch 2 - iter 19/19 - loss 0.06698990 - time (sec): 8.06 - samples/sec: 74.84 - lr: 0.034386 - momentum: 0.000000\n",
            "2025-05-01 08:27:11,742 ----------------------------------------------------------------------------------------------------\n",
            "2025-05-01 08:27:11,743 EPOCH 2 done: loss 0.0670 - lr: 0.034386\n"
          ]
        },
        {
          "output_type": "stream",
          "name": "stderr",
          "text": [
            "100%|██████████| 3/3 [00:01<00:00,  2.55it/s]"
          ]
        },
        {
          "output_type": "stream",
          "name": "stdout",
          "text": [
            "2025-05-01 08:27:12,947 DEV : loss 0.04206617549061775 - f1-score (micro avg)  0.994\n"
          ]
        },
        {
          "output_type": "stream",
          "name": "stderr",
          "text": [
            "\n"
          ]
        },
        {
          "output_type": "stream",
          "name": "stdout",
          "text": [
            "2025-05-01 08:27:12,990  - 0 epochs without improvement\n",
            "2025-05-01 08:27:12,991 saving best model\n",
            "2025-05-01 08:27:20,238 ----------------------------------------------------------------------------------------------------\n",
            "2025-05-01 08:27:20,518 epoch 3 - iter 1/19 - loss 0.00865207 - time (sec): 0.27 - samples/sec: 116.40 - lr: 0.034386 - momentum: 0.000000\n",
            "2025-05-01 08:27:21,072 epoch 3 - iter 2/19 - loss 0.00663523 - time (sec): 0.83 - samples/sec: 77.15 - lr: 0.034386 - momentum: 0.000000\n",
            "2025-05-01 08:27:21,584 epoch 3 - iter 3/19 - loss 0.00657199 - time (sec): 1.34 - samples/sec: 71.56 - lr: 0.034386 - momentum: 0.000000\n",
            "2025-05-01 08:27:22,018 epoch 3 - iter 4/19 - loss 0.00540159 - time (sec): 1.78 - samples/sec: 72.10 - lr: 0.034386 - momentum: 0.000000\n",
            "2025-05-01 08:27:22,449 epoch 3 - iter 5/19 - loss 0.00502145 - time (sec): 2.21 - samples/sec: 72.53 - lr: 0.034386 - momentum: 0.000000\n",
            "2025-05-01 08:27:22,916 epoch 3 - iter 6/19 - loss 0.00454158 - time (sec): 2.67 - samples/sec: 71.81 - lr: 0.034386 - momentum: 0.000000\n",
            "2025-05-01 08:27:23,428 epoch 3 - iter 7/19 - loss 0.00499663 - time (sec): 3.19 - samples/sec: 70.32 - lr: 0.034386 - momentum: 0.000000\n",
            "2025-05-01 08:27:23,906 epoch 3 - iter 8/19 - loss 0.00533019 - time (sec): 3.66 - samples/sec: 69.88 - lr: 0.034386 - momentum: 0.000000\n",
            "2025-05-01 08:27:24,312 epoch 3 - iter 9/19 - loss 0.00490263 - time (sec): 4.07 - samples/sec: 70.77 - lr: 0.034386 - momentum: 0.000000\n",
            "2025-05-01 08:27:24,732 epoch 3 - iter 10/19 - loss 0.00464538 - time (sec): 4.49 - samples/sec: 71.28 - lr: 0.034386 - momentum: 0.000000\n",
            "2025-05-01 08:27:25,118 epoch 3 - iter 11/19 - loss 0.00841282 - time (sec): 4.88 - samples/sec: 72.20 - lr: 0.034386 - momentum: 0.000000\n",
            "2025-05-01 08:27:25,589 epoch 3 - iter 12/19 - loss 0.00902842 - time (sec): 5.35 - samples/sec: 71.83 - lr: 0.034386 - momentum: 0.000000\n",
            "2025-05-01 08:27:26,148 epoch 3 - iter 13/19 - loss 0.00912932 - time (sec): 5.90 - samples/sec: 70.45 - lr: 0.034386 - momentum: 0.000000\n",
            "2025-05-01 08:27:26,620 epoch 3 - iter 14/19 - loss 0.01918969 - time (sec): 6.38 - samples/sec: 70.25 - lr: 0.034386 - momentum: 0.000000\n",
            "2025-05-01 08:27:27,057 epoch 3 - iter 15/19 - loss 0.01945946 - time (sec): 6.81 - samples/sec: 70.44 - lr: 0.034386 - momentum: 0.000000\n",
            "2025-05-01 08:27:27,552 epoch 3 - iter 16/19 - loss 0.02737780 - time (sec): 7.31 - samples/sec: 70.04 - lr: 0.034386 - momentum: 0.000000\n",
            "2025-05-01 08:27:28,105 epoch 3 - iter 17/19 - loss 0.03938221 - time (sec): 7.86 - samples/sec: 69.19 - lr: 0.034386 - momentum: 0.000000\n",
            "2025-05-01 08:27:28,595 epoch 3 - iter 18/19 - loss 0.04287083 - time (sec): 8.35 - samples/sec: 68.96 - lr: 0.034386 - momentum: 0.000000\n",
            "2025-05-01 08:27:28,983 epoch 3 - iter 19/19 - loss 0.04105030 - time (sec): 8.74 - samples/sec: 68.99 - lr: 0.034386 - momentum: 0.000000\n",
            "2025-05-01 08:27:28,984 ----------------------------------------------------------------------------------------------------\n",
            "2025-05-01 08:27:28,989 EPOCH 3 done: loss 0.0411 - lr: 0.034386\n"
          ]
        },
        {
          "output_type": "stream",
          "name": "stderr",
          "text": [
            "100%|██████████| 3/3 [00:01<00:00,  2.72it/s]"
          ]
        },
        {
          "output_type": "stream",
          "name": "stdout",
          "text": [
            "2025-05-01 08:27:30,115 DEV : loss 0.07804340869188309 - f1-score (micro avg)  0.9821\n"
          ]
        },
        {
          "output_type": "stream",
          "name": "stderr",
          "text": [
            "\n"
          ]
        },
        {
          "output_type": "stream",
          "name": "stdout",
          "text": [
            "2025-05-01 08:27:30,160  - 1 epochs without improvement\n",
            "2025-05-01 08:27:30,161 ----------------------------------------------------------------------------------------------------\n",
            "2025-05-01 08:27:30,332 epoch 4 - iter 1/19 - loss 0.00120879 - time (sec): 0.17 - samples/sec: 188.75 - lr: 0.034386 - momentum: 0.000000\n",
            "2025-05-01 08:27:30,779 epoch 4 - iter 2/19 - loss 0.00068549 - time (sec): 0.62 - samples/sec: 103.83 - lr: 0.034386 - momentum: 0.000000\n",
            "2025-05-01 08:27:31,304 epoch 4 - iter 3/19 - loss 0.00077540 - time (sec): 1.14 - samples/sec: 84.15 - lr: 0.034386 - momentum: 0.000000\n",
            "2025-05-01 08:27:31,785 epoch 4 - iter 4/19 - loss 0.00955900 - time (sec): 1.62 - samples/sec: 78.89 - lr: 0.034386 - momentum: 0.000000\n",
            "2025-05-01 08:27:32,200 epoch 4 - iter 5/19 - loss 0.00834497 - time (sec): 2.04 - samples/sec: 78.56 - lr: 0.034386 - momentum: 0.000000\n",
            "2025-05-01 08:27:32,625 epoch 4 - iter 6/19 - loss 0.00707411 - time (sec): 2.46 - samples/sec: 77.97 - lr: 0.034386 - momentum: 0.000000\n",
            "2025-05-01 08:27:33,021 epoch 4 - iter 7/19 - loss 0.00617541 - time (sec): 2.86 - samples/sec: 78.38 - lr: 0.034386 - momentum: 0.000000\n",
            "2025-05-01 08:27:33,464 epoch 4 - iter 8/19 - loss 0.00559026 - time (sec): 3.30 - samples/sec: 77.56 - lr: 0.034386 - momentum: 0.000000\n",
            "2025-05-01 08:27:33,962 epoch 4 - iter 9/19 - loss 0.01151664 - time (sec): 3.80 - samples/sec: 75.81 - lr: 0.034386 - momentum: 0.000000\n",
            "2025-05-01 08:27:34,451 epoch 4 - iter 10/19 - loss 0.01040656 - time (sec): 4.29 - samples/sec: 74.62 - lr: 0.034386 - momentum: 0.000000\n",
            "2025-05-01 08:27:35,039 epoch 4 - iter 11/19 - loss 0.01164674 - time (sec): 4.88 - samples/sec: 72.18 - lr: 0.034386 - momentum: 0.000000\n",
            "2025-05-01 08:27:35,505 epoch 4 - iter 12/19 - loss 0.01137681 - time (sec): 5.34 - samples/sec: 71.88 - lr: 0.034386 - momentum: 0.000000\n",
            "2025-05-01 08:27:35,787 epoch 4 - iter 13/19 - loss 0.01056002 - time (sec): 5.62 - samples/sec: 73.97 - lr: 0.034386 - momentum: 0.000000\n",
            "2025-05-01 08:27:36,189 epoch 4 - iter 14/19 - loss 0.02257884 - time (sec): 6.03 - samples/sec: 74.34 - lr: 0.034386 - momentum: 0.000000\n",
            "2025-05-01 08:27:36,717 epoch 4 - iter 15/19 - loss 0.02131795 - time (sec): 6.55 - samples/sec: 73.24 - lr: 0.034386 - momentum: 0.000000\n",
            "2025-05-01 08:27:37,190 epoch 4 - iter 16/19 - loss 0.02022715 - time (sec): 7.03 - samples/sec: 72.87 - lr: 0.034386 - momentum: 0.000000\n",
            "2025-05-01 08:27:37,580 epoch 4 - iter 17/19 - loss 0.01914307 - time (sec): 7.42 - samples/sec: 73.34 - lr: 0.034386 - momentum: 0.000000\n",
            "2025-05-01 08:27:38,065 epoch 4 - iter 18/19 - loss 0.01811612 - time (sec): 7.90 - samples/sec: 72.89 - lr: 0.034386 - momentum: 0.000000\n",
            "2025-05-01 08:27:38,619 epoch 4 - iter 19/19 - loss 0.01747072 - time (sec): 8.46 - samples/sec: 71.31 - lr: 0.034386 - momentum: 0.000000\n",
            "2025-05-01 08:27:38,620 ----------------------------------------------------------------------------------------------------\n",
            "2025-05-01 08:27:38,621 EPOCH 4 done: loss 0.0175 - lr: 0.034386\n"
          ]
        },
        {
          "output_type": "stream",
          "name": "stderr",
          "text": [
            "100%|██████████| 3/3 [00:01<00:00,  2.45it/s]"
          ]
        },
        {
          "output_type": "stream",
          "name": "stdout",
          "text": [
            "2025-05-01 08:27:39,873 DEV : loss 0.11898726969957352 - f1-score (micro avg)  0.9821\n"
          ]
        },
        {
          "output_type": "stream",
          "name": "stderr",
          "text": [
            "\n"
          ]
        },
        {
          "output_type": "stream",
          "name": "stdout",
          "text": [
            "2025-05-01 08:27:39,940  - 2 epochs without improvement\n",
            "2025-05-01 08:27:39,944 ----------------------------------------------------------------------------------------------------\n",
            "2025-05-01 08:27:40,143 epoch 5 - iter 1/19 - loss 0.00012042 - time (sec): 0.19 - samples/sec: 164.51 - lr: 0.034386 - momentum: 0.000000\n",
            "2025-05-01 08:27:40,578 epoch 5 - iter 2/19 - loss 0.00073469 - time (sec): 0.63 - samples/sec: 101.73 - lr: 0.034386 - momentum: 0.000000\n",
            "2025-05-01 08:27:41,043 epoch 5 - iter 3/19 - loss 0.00053036 - time (sec): 1.09 - samples/sec: 87.77 - lr: 0.034386 - momentum: 0.000000\n",
            "2025-05-01 08:27:41,533 epoch 5 - iter 4/19 - loss 0.00045855 - time (sec): 1.58 - samples/sec: 80.81 - lr: 0.034386 - momentum: 0.000000\n",
            "2025-05-01 08:27:41,947 epoch 5 - iter 5/19 - loss 0.00051333 - time (sec): 2.00 - samples/sec: 80.08 - lr: 0.034386 - momentum: 0.000000\n",
            "2025-05-01 08:27:42,417 epoch 5 - iter 6/19 - loss 0.03077197 - time (sec): 2.47 - samples/sec: 77.78 - lr: 0.034386 - momentum: 0.000000\n",
            "2025-05-01 08:27:42,976 epoch 5 - iter 7/19 - loss 0.02644908 - time (sec): 3.03 - samples/sec: 73.99 - lr: 0.034386 - momentum: 0.000000\n",
            "2025-05-01 08:27:43,568 epoch 5 - iter 8/19 - loss 0.02318620 - time (sec): 3.62 - samples/sec: 70.74 - lr: 0.034386 - momentum: 0.000000\n",
            "2025-05-01 08:27:44,093 epoch 5 - iter 9/19 - loss 0.02083216 - time (sec): 4.14 - samples/sec: 69.50 - lr: 0.034386 - momentum: 0.000000\n",
            "2025-05-01 08:27:44,471 epoch 5 - iter 10/19 - loss 0.01877984 - time (sec): 4.52 - samples/sec: 70.77 - lr: 0.034386 - momentum: 0.000000\n",
            "2025-05-01 08:27:44,912 epoch 5 - iter 11/19 - loss 0.01710725 - time (sec): 4.96 - samples/sec: 70.92 - lr: 0.034386 - momentum: 0.000000\n",
            "2025-05-01 08:27:45,393 epoch 5 - iter 12/19 - loss 0.01694318 - time (sec): 5.44 - samples/sec: 70.53 - lr: 0.034386 - momentum: 0.000000\n",
            "2025-05-01 08:27:45,893 epoch 5 - iter 13/19 - loss 0.03126276 - time (sec): 5.94 - samples/sec: 69.99 - lr: 0.034386 - momentum: 0.000000\n",
            "2025-05-01 08:27:46,395 epoch 5 - iter 14/19 - loss 0.02937019 - time (sec): 6.45 - samples/sec: 69.50 - lr: 0.034386 - momentum: 0.000000\n",
            "2025-05-01 08:27:46,977 epoch 5 - iter 15/19 - loss 0.02758173 - time (sec): 7.03 - samples/sec: 68.30 - lr: 0.034386 - momentum: 0.000000\n",
            "2025-05-01 08:27:47,458 epoch 5 - iter 16/19 - loss 0.02586251 - time (sec): 7.51 - samples/sec: 68.18 - lr: 0.034386 - momentum: 0.000000\n",
            "2025-05-01 08:27:47,852 epoch 5 - iter 17/19 - loss 0.02435468 - time (sec): 7.90 - samples/sec: 68.83 - lr: 0.034386 - momentum: 0.000000\n",
            "2025-05-01 08:27:48,296 epoch 5 - iter 18/19 - loss 0.02301516 - time (sec): 8.35 - samples/sec: 69.00 - lr: 0.034386 - momentum: 0.000000\n",
            "2025-05-01 08:27:48,789 epoch 5 - iter 19/19 - loss 0.02199599 - time (sec): 8.84 - samples/sec: 68.21 - lr: 0.034386 - momentum: 0.000000\n",
            "2025-05-01 08:27:48,790 ----------------------------------------------------------------------------------------------------\n",
            "2025-05-01 08:27:48,791 EPOCH 5 done: loss 0.0220 - lr: 0.034386\n"
          ]
        },
        {
          "output_type": "stream",
          "name": "stderr",
          "text": [
            "100%|██████████| 3/3 [00:01<00:00,  2.47it/s]"
          ]
        },
        {
          "output_type": "stream",
          "name": "stdout",
          "text": [
            "2025-05-01 08:27:50,031 DEV : loss 0.07057012617588043 - f1-score (micro avg)  0.9881\n"
          ]
        },
        {
          "output_type": "stream",
          "name": "stderr",
          "text": [
            "\n"
          ]
        },
        {
          "output_type": "stream",
          "name": "stdout",
          "text": [
            "2025-05-01 08:27:50,074  - 3 epochs without improvement\n",
            "2025-05-01 08:27:50,075 ----------------------------------------------------------------------------------------------------\n",
            "2025-05-01 08:27:50,244 epoch 6 - iter 1/19 - loss 0.00235974 - time (sec): 0.17 - samples/sec: 192.66 - lr: 0.034386 - momentum: 0.000000\n",
            "2025-05-01 08:27:50,721 epoch 6 - iter 2/19 - loss 0.00160693 - time (sec): 0.64 - samples/sec: 99.59 - lr: 0.034386 - momentum: 0.000000\n",
            "2025-05-01 08:27:51,280 epoch 6 - iter 3/19 - loss 0.00112972 - time (sec): 1.20 - samples/sec: 79.85 - lr: 0.034386 - momentum: 0.000000\n",
            "2025-05-01 08:27:51,709 epoch 6 - iter 4/19 - loss 0.00088912 - time (sec): 1.63 - samples/sec: 78.47 - lr: 0.034386 - momentum: 0.000000\n",
            "2025-05-01 08:27:52,114 epoch 6 - iter 5/19 - loss 0.00074887 - time (sec): 2.04 - samples/sec: 78.58 - lr: 0.034386 - momentum: 0.000000\n",
            "2025-05-01 08:27:52,562 epoch 6 - iter 6/19 - loss 0.00064577 - time (sec): 2.48 - samples/sec: 77.29 - lr: 0.034386 - momentum: 0.000000\n",
            "2025-05-01 08:27:53,018 epoch 6 - iter 7/19 - loss 0.00057055 - time (sec): 2.94 - samples/sec: 76.19 - lr: 0.034386 - momentum: 0.000000\n",
            "2025-05-01 08:27:53,411 epoch 6 - iter 8/19 - loss 0.00066048 - time (sec): 3.33 - samples/sec: 76.81 - lr: 0.034386 - momentum: 0.000000\n",
            "2025-05-01 08:27:53,882 epoch 6 - iter 9/19 - loss 0.00059388 - time (sec): 3.80 - samples/sec: 75.71 - lr: 0.034386 - momentum: 0.000000\n",
            "2025-05-01 08:27:54,402 epoch 6 - iter 10/19 - loss 0.01038383 - time (sec): 4.32 - samples/sec: 74.01 - lr: 0.034386 - momentum: 0.000000\n",
            "2025-05-01 08:27:54,922 epoch 6 - iter 11/19 - loss 0.04899805 - time (sec): 4.84 - samples/sec: 72.67 - lr: 0.034386 - momentum: 0.000000\n",
            "2025-05-01 08:27:55,474 epoch 6 - iter 12/19 - loss 0.04496961 - time (sec): 5.40 - samples/sec: 71.17 - lr: 0.034386 - momentum: 0.000000\n",
            "2025-05-01 08:27:55,996 epoch 6 - iter 13/19 - loss 0.04152882 - time (sec): 5.92 - samples/sec: 70.29 - lr: 0.034386 - momentum: 0.000000\n",
            "2025-05-01 08:27:56,377 epoch 6 - iter 14/19 - loss 0.03856730 - time (sec): 6.30 - samples/sec: 71.12 - lr: 0.034386 - momentum: 0.000000\n",
            "2025-05-01 08:27:56,718 epoch 6 - iter 15/19 - loss 0.03612837 - time (sec): 6.64 - samples/sec: 72.29 - lr: 0.034386 - momentum: 0.000000\n",
            "2025-05-01 08:27:57,103 epoch 6 - iter 16/19 - loss 0.03387273 - time (sec): 7.03 - samples/sec: 72.88 - lr: 0.034386 - momentum: 0.000000\n",
            "2025-05-01 08:27:57,566 epoch 6 - iter 17/19 - loss 0.03521848 - time (sec): 7.49 - samples/sec: 72.65 - lr: 0.034386 - momentum: 0.000000\n",
            "2025-05-01 08:27:58,087 epoch 6 - iter 18/19 - loss 0.03331407 - time (sec): 8.01 - samples/sec: 71.92 - lr: 0.034386 - momentum: 0.000000\n",
            "2025-05-01 08:27:58,414 epoch 6 - iter 19/19 - loss 0.03184757 - time (sec): 8.34 - samples/sec: 72.34 - lr: 0.034386 - momentum: 0.000000\n",
            "2025-05-01 08:27:58,415 ----------------------------------------------------------------------------------------------------\n",
            "2025-05-01 08:27:58,416 EPOCH 6 done: loss 0.0318 - lr: 0.034386\n"
          ]
        },
        {
          "output_type": "stream",
          "name": "stderr",
          "text": [
            "100%|██████████| 3/3 [00:01<00:00,  2.73it/s]"
          ]
        },
        {
          "output_type": "stream",
          "name": "stdout",
          "text": [
            "2025-05-01 08:27:59,545 DEV : loss 0.09148576110601425 - f1-score (micro avg)  0.9881\n"
          ]
        },
        {
          "output_type": "stream",
          "name": "stderr",
          "text": [
            "\n"
          ]
        },
        {
          "output_type": "stream",
          "name": "stdout",
          "text": [
            "2025-05-01 08:27:59,587  - 4 epochs without improvement (above 'patience')-> annealing learning_rate to [0.01719292980643611]\n",
            "2025-05-01 08:27:59,588 ----------------------------------------------------------------------------------------------------\n",
            "2025-05-01 08:27:59,827 epoch 7 - iter 1/19 - loss 0.00021805 - time (sec): 0.24 - samples/sec: 135.38 - lr: 0.017193 - momentum: 0.000000\n",
            "2025-05-01 08:28:00,366 epoch 7 - iter 2/19 - loss 0.00012326 - time (sec): 0.78 - samples/sec: 82.52 - lr: 0.017193 - momentum: 0.000000\n",
            "2025-05-01 08:28:00,798 epoch 7 - iter 3/19 - loss 0.00085503 - time (sec): 1.21 - samples/sec: 79.49 - lr: 0.017193 - momentum: 0.000000\n",
            "2025-05-01 08:28:01,177 epoch 7 - iter 4/19 - loss 0.00069663 - time (sec): 1.59 - samples/sec: 80.67 - lr: 0.017193 - momentum: 0.000000\n",
            "2025-05-01 08:28:01,654 epoch 7 - iter 5/19 - loss 0.00056003 - time (sec): 2.06 - samples/sec: 77.54 - lr: 0.017193 - momentum: 0.000000\n",
            "2025-05-01 08:28:02,185 epoch 7 - iter 6/19 - loss 0.00048248 - time (sec): 2.59 - samples/sec: 74.00 - lr: 0.017193 - momentum: 0.000000\n",
            "2025-05-01 08:28:02,697 epoch 7 - iter 7/19 - loss 0.00059422 - time (sec): 3.11 - samples/sec: 72.09 - lr: 0.017193 - momentum: 0.000000\n",
            "2025-05-01 08:28:03,131 epoch 7 - iter 8/19 - loss 0.00055094 - time (sec): 3.54 - samples/sec: 72.31 - lr: 0.017193 - momentum: 0.000000\n",
            "2025-05-01 08:28:03,601 epoch 7 - iter 9/19 - loss 0.00055541 - time (sec): 4.01 - samples/sec: 71.81 - lr: 0.017193 - momentum: 0.000000\n",
            "2025-05-01 08:28:04,037 epoch 7 - iter 10/19 - loss 0.00055354 - time (sec): 4.45 - samples/sec: 71.96 - lr: 0.017193 - momentum: 0.000000\n",
            "2025-05-01 08:28:04,359 epoch 7 - iter 11/19 - loss 0.00053122 - time (sec): 4.77 - samples/sec: 73.81 - lr: 0.017193 - momentum: 0.000000\n",
            "2025-05-01 08:28:04,706 epoch 7 - iter 12/19 - loss 0.00051650 - time (sec): 5.12 - samples/sec: 75.06 - lr: 0.017193 - momentum: 0.000000\n",
            "2025-05-01 08:28:05,118 epoch 7 - iter 13/19 - loss 0.00048207 - time (sec): 5.53 - samples/sec: 75.25 - lr: 0.017193 - momentum: 0.000000\n",
            "2025-05-01 08:28:05,544 epoch 7 - iter 14/19 - loss 0.00691401 - time (sec): 5.95 - samples/sec: 75.24 - lr: 0.017193 - momentum: 0.000000\n",
            "2025-05-01 08:28:06,015 epoch 7 - iter 15/19 - loss 0.00645480 - time (sec): 6.42 - samples/sec: 74.71 - lr: 0.017193 - momentum: 0.000000\n",
            "2025-05-01 08:28:06,537 epoch 7 - iter 16/19 - loss 0.00616666 - time (sec): 6.95 - samples/sec: 73.70 - lr: 0.017193 - momentum: 0.000000\n",
            "2025-05-01 08:28:07,044 epoch 7 - iter 17/19 - loss 0.00580536 - time (sec): 7.45 - samples/sec: 72.98 - lr: 0.017193 - momentum: 0.000000\n",
            "2025-05-01 08:28:07,501 epoch 7 - iter 18/19 - loss 0.01342843 - time (sec): 7.91 - samples/sec: 72.81 - lr: 0.017193 - momentum: 0.000000\n",
            "2025-05-01 08:28:08,006 epoch 7 - iter 19/19 - loss 0.01284166 - time (sec): 8.42 - samples/sec: 71.65 - lr: 0.017193 - momentum: 0.000000\n",
            "2025-05-01 08:28:08,012 ----------------------------------------------------------------------------------------------------\n",
            "2025-05-01 08:28:08,013 EPOCH 7 done: loss 0.0128 - lr: 0.017193\n"
          ]
        },
        {
          "output_type": "stream",
          "name": "stderr",
          "text": [
            "100%|██████████| 3/3 [00:01<00:00,  2.42it/s]"
          ]
        },
        {
          "output_type": "stream",
          "name": "stdout",
          "text": [
            "2025-05-01 08:28:09,278 DEV : loss 0.058973994106054306 - f1-score (micro avg)  0.994\n"
          ]
        },
        {
          "output_type": "stream",
          "name": "stderr",
          "text": [
            "\n"
          ]
        },
        {
          "output_type": "stream",
          "name": "stdout",
          "text": [
            "2025-05-01 08:28:09,325  - 1 epochs without improvement\n",
            "2025-05-01 08:28:09,326 ----------------------------------------------------------------------------------------------------\n",
            "2025-05-01 08:28:09,510 epoch 8 - iter 1/19 - loss 0.09494785 - time (sec): 0.18 - samples/sec: 176.07 - lr: 0.017193 - momentum: 0.000000\n",
            "2025-05-01 08:28:10,042 epoch 8 - iter 2/19 - loss 0.04749218 - time (sec): 0.71 - samples/sec: 89.65 - lr: 0.017193 - momentum: 0.000000\n",
            "2025-05-01 08:28:10,565 epoch 8 - iter 3/19 - loss 0.03166979 - time (sec): 1.24 - samples/sec: 77.60 - lr: 0.017193 - momentum: 0.000000\n",
            "2025-05-01 08:28:11,019 epoch 8 - iter 4/19 - loss 0.02375786 - time (sec): 1.69 - samples/sec: 75.69 - lr: 0.017193 - momentum: 0.000000\n",
            "2025-05-01 08:28:11,499 epoch 8 - iter 5/19 - loss 0.01902172 - time (sec): 2.17 - samples/sec: 73.69 - lr: 0.017193 - momentum: 0.000000\n",
            "2025-05-01 08:28:11,912 epoch 8 - iter 6/19 - loss 0.01585843 - time (sec): 2.58 - samples/sec: 74.32 - lr: 0.017193 - momentum: 0.000000\n",
            "2025-05-01 08:28:12,313 epoch 8 - iter 7/19 - loss 0.01360048 - time (sec): 2.98 - samples/sec: 75.05 - lr: 0.017193 - momentum: 0.000000\n",
            "2025-05-01 08:28:12,731 epoch 8 - iter 8/19 - loss 0.01191216 - time (sec): 3.40 - samples/sec: 75.23 - lr: 0.017193 - momentum: 0.000000\n",
            "2025-05-01 08:28:13,129 epoch 8 - iter 9/19 - loss 0.01062121 - time (sec): 3.80 - samples/sec: 75.77 - lr: 0.017193 - momentum: 0.000000\n",
            "2025-05-01 08:28:13,547 epoch 8 - iter 10/19 - loss 0.00956073 - time (sec): 4.22 - samples/sec: 75.85 - lr: 0.017193 - momentum: 0.000000\n",
            "2025-05-01 08:28:14,058 epoch 8 - iter 11/19 - loss 0.00869963 - time (sec): 4.73 - samples/sec: 74.42 - lr: 0.017193 - momentum: 0.000000\n",
            "2025-05-01 08:28:14,504 epoch 8 - iter 12/19 - loss 0.00799884 - time (sec): 5.18 - samples/sec: 74.19 - lr: 0.017193 - momentum: 0.000000\n",
            "2025-05-01 08:28:14,969 epoch 8 - iter 13/19 - loss 0.00738684 - time (sec): 5.64 - samples/sec: 73.74 - lr: 0.017193 - momentum: 0.000000\n",
            "2025-05-01 08:28:15,414 epoch 8 - iter 14/19 - loss 0.00686662 - time (sec): 6.09 - samples/sec: 73.61 - lr: 0.017193 - momentum: 0.000000\n",
            "2025-05-01 08:28:15,918 epoch 8 - iter 15/19 - loss 0.00641176 - time (sec): 6.59 - samples/sec: 72.84 - lr: 0.017193 - momentum: 0.000000\n",
            "2025-05-01 08:28:16,444 epoch 8 - iter 16/19 - loss 0.00601394 - time (sec): 7.12 - samples/sec: 71.95 - lr: 0.017193 - momentum: 0.000000\n",
            "2025-05-01 08:28:16,918 epoch 8 - iter 17/19 - loss 0.00566347 - time (sec): 7.59 - samples/sec: 71.67 - lr: 0.017193 - momentum: 0.000000\n",
            "2025-05-01 08:28:17,404 epoch 8 - iter 18/19 - loss 0.00535095 - time (sec): 8.08 - samples/sec: 71.32 - lr: 0.017193 - momentum: 0.000000\n",
            "2025-05-01 08:28:17,903 epoch 8 - iter 19/19 - loss 0.00511808 - time (sec): 8.57 - samples/sec: 70.32 - lr: 0.017193 - momentum: 0.000000\n",
            "2025-05-01 08:28:17,904 ----------------------------------------------------------------------------------------------------\n",
            "2025-05-01 08:28:17,905 EPOCH 8 done: loss 0.0051 - lr: 0.017193\n"
          ]
        },
        {
          "output_type": "stream",
          "name": "stderr",
          "text": [
            "100%|██████████| 3/3 [00:01<00:00,  2.62it/s]"
          ]
        },
        {
          "output_type": "stream",
          "name": "stdout",
          "text": [
            "2025-05-01 08:28:19,074 DEV : loss 0.06714911013841629 - f1-score (micro avg)  0.994\n"
          ]
        },
        {
          "output_type": "stream",
          "name": "stderr",
          "text": [
            "\n"
          ]
        },
        {
          "output_type": "stream",
          "name": "stdout",
          "text": [
            "2025-05-01 08:28:19,143  - 2 epochs without improvement\n",
            "2025-05-01 08:28:19,144 ----------------------------------------------------------------------------------------------------\n",
            "2025-05-01 08:28:19,376 epoch 9 - iter 1/19 - loss 0.00001488 - time (sec): 0.23 - samples/sec: 140.20 - lr: 0.017193 - momentum: 0.000000\n",
            "2025-05-01 08:28:19,861 epoch 9 - iter 2/19 - loss 0.00001754 - time (sec): 0.71 - samples/sec: 89.80 - lr: 0.017193 - momentum: 0.000000\n",
            "2025-05-01 08:28:20,288 epoch 9 - iter 3/19 - loss 0.00002394 - time (sec): 1.14 - samples/sec: 84.19 - lr: 0.017193 - momentum: 0.000000\n",
            "2025-05-01 08:28:20,752 epoch 9 - iter 4/19 - loss 0.00002653 - time (sec): 1.60 - samples/sec: 79.80 - lr: 0.017193 - momentum: 0.000000\n",
            "2025-05-01 08:28:21,242 epoch 9 - iter 5/19 - loss 0.00003532 - time (sec): 2.09 - samples/sec: 76.39 - lr: 0.017193 - momentum: 0.000000\n",
            "2025-05-01 08:28:21,571 epoch 9 - iter 6/19 - loss 0.00003289 - time (sec): 2.42 - samples/sec: 79.25 - lr: 0.017193 - momentum: 0.000000\n",
            "2025-05-01 08:28:21,936 epoch 9 - iter 7/19 - loss 0.00017082 - time (sec): 2.79 - samples/sec: 80.35 - lr: 0.017193 - momentum: 0.000000\n",
            "2025-05-01 08:28:22,406 epoch 9 - iter 8/19 - loss 0.00015528 - time (sec): 3.26 - samples/sec: 78.58 - lr: 0.017193 - momentum: 0.000000\n",
            "2025-05-01 08:28:22,862 epoch 9 - iter 9/19 - loss 0.00016011 - time (sec): 3.71 - samples/sec: 77.54 - lr: 0.017193 - momentum: 0.000000\n",
            "2025-05-01 08:28:23,292 epoch 9 - iter 10/19 - loss 0.00014672 - time (sec): 4.14 - samples/sec: 77.21 - lr: 0.017193 - momentum: 0.000000\n",
            "2025-05-01 08:28:23,814 epoch 9 - iter 11/19 - loss 0.00013609 - time (sec): 4.67 - samples/sec: 75.44 - lr: 0.017193 - momentum: 0.000000\n",
            "2025-05-01 08:28:24,302 epoch 9 - iter 12/19 - loss 0.00013838 - time (sec): 5.15 - samples/sec: 74.51 - lr: 0.017193 - momentum: 0.000000\n",
            "2025-05-01 08:28:24,778 epoch 9 - iter 13/19 - loss 0.00013097 - time (sec): 5.63 - samples/sec: 73.89 - lr: 0.017193 - momentum: 0.000000\n",
            "2025-05-01 08:28:25,333 epoch 9 - iter 14/19 - loss 0.00012541 - time (sec): 6.19 - samples/sec: 72.43 - lr: 0.017193 - momentum: 0.000000\n",
            "2025-05-01 08:28:25,799 epoch 9 - iter 15/19 - loss 0.00012054 - time (sec): 6.65 - samples/sec: 72.17 - lr: 0.017193 - momentum: 0.000000\n",
            "2025-05-01 08:28:26,215 epoch 9 - iter 16/19 - loss 0.00011707 - time (sec): 7.07 - samples/sec: 72.45 - lr: 0.017193 - momentum: 0.000000\n",
            "2025-05-01 08:28:26,665 epoch 9 - iter 17/19 - loss 0.00011182 - time (sec): 7.52 - samples/sec: 72.36 - lr: 0.017193 - momentum: 0.000000\n",
            "2025-05-01 08:28:27,191 epoch 9 - iter 18/19 - loss 0.00010674 - time (sec): 8.04 - samples/sec: 71.61 - lr: 0.017193 - momentum: 0.000000\n",
            "2025-05-01 08:28:27,618 epoch 9 - iter 19/19 - loss 0.00010342 - time (sec): 8.47 - samples/sec: 71.19 - lr: 0.017193 - momentum: 0.000000\n",
            "2025-05-01 08:28:27,619 ----------------------------------------------------------------------------------------------------\n",
            "2025-05-01 08:28:27,620 EPOCH 9 done: loss 0.0001 - lr: 0.017193\n"
          ]
        },
        {
          "output_type": "stream",
          "name": "stderr",
          "text": [
            "100%|██████████| 3/3 [00:01<00:00,  2.55it/s]"
          ]
        },
        {
          "output_type": "stream",
          "name": "stdout",
          "text": [
            "2025-05-01 08:28:28,820 DEV : loss 0.07815033197402954 - f1-score (micro avg)  0.994\n"
          ]
        },
        {
          "output_type": "stream",
          "name": "stderr",
          "text": [
            "\n"
          ]
        },
        {
          "output_type": "stream",
          "name": "stdout",
          "text": [
            "2025-05-01 08:28:28,863  - 3 epochs without improvement\n",
            "2025-05-01 08:28:28,864 ----------------------------------------------------------------------------------------------------\n",
            "2025-05-01 08:28:28,988 epoch 10 - iter 1/19 - loss 0.00009637 - time (sec): 0.12 - samples/sec: 264.52 - lr: 0.017193 - momentum: 0.000000\n",
            "2025-05-01 08:28:29,358 epoch 10 - iter 2/19 - loss 0.00011505 - time (sec): 0.49 - samples/sec: 130.11 - lr: 0.017193 - momentum: 0.000000\n",
            "2025-05-01 08:28:29,913 epoch 10 - iter 3/19 - loss 0.00009363 - time (sec): 1.05 - samples/sec: 91.74 - lr: 0.017193 - momentum: 0.000000\n",
            "2025-05-01 08:28:30,419 epoch 10 - iter 4/19 - loss 0.00007533 - time (sec): 1.55 - samples/sec: 82.45 - lr: 0.017193 - momentum: 0.000000\n",
            "2025-05-01 08:28:30,834 epoch 10 - iter 5/19 - loss 0.00006558 - time (sec): 1.97 - samples/sec: 81.31 - lr: 0.017193 - momentum: 0.000000\n",
            "2025-05-01 08:28:31,264 epoch 10 - iter 6/19 - loss 0.00006124 - time (sec): 2.40 - samples/sec: 80.10 - lr: 0.017193 - momentum: 0.000000\n",
            "2025-05-01 08:28:31,715 epoch 10 - iter 7/19 - loss 0.00005549 - time (sec): 2.85 - samples/sec: 78.63 - lr: 0.017193 - momentum: 0.000000\n",
            "2025-05-01 08:28:32,158 epoch 10 - iter 8/19 - loss 0.00005943 - time (sec): 3.29 - samples/sec: 77.78 - lr: 0.017193 - momentum: 0.000000\n",
            "2025-05-01 08:28:32,510 epoch 10 - iter 9/19 - loss 0.00005487 - time (sec): 3.64 - samples/sec: 79.04 - lr: 0.017193 - momentum: 0.000000\n",
            "2025-05-01 08:28:32,929 epoch 10 - iter 10/19 - loss 0.00005333 - time (sec): 4.06 - samples/sec: 78.77 - lr: 0.017193 - momentum: 0.000000\n",
            "2025-05-01 08:28:33,317 epoch 10 - iter 11/19 - loss 0.00005745 - time (sec): 4.45 - samples/sec: 79.09 - lr: 0.017193 - momentum: 0.000000\n",
            "2025-05-01 08:28:33,757 epoch 10 - iter 12/19 - loss 0.00005413 - time (sec): 4.89 - samples/sec: 78.52 - lr: 0.017193 - momentum: 0.000000\n",
            "2025-05-01 08:28:34,230 epoch 10 - iter 13/19 - loss 0.00005060 - time (sec): 5.36 - samples/sec: 77.56 - lr: 0.017193 - momentum: 0.000000\n",
            "2025-05-01 08:28:34,602 epoch 10 - iter 14/19 - loss 0.00004754 - time (sec): 5.74 - samples/sec: 78.12 - lr: 0.017193 - momentum: 0.000000\n",
            "2025-05-01 08:28:35,001 epoch 10 - iter 15/19 - loss 0.00004622 - time (sec): 6.13 - samples/sec: 78.25 - lr: 0.017193 - momentum: 0.000000\n",
            "2025-05-01 08:28:35,464 epoch 10 - iter 16/19 - loss 0.00004439 - time (sec): 6.60 - samples/sec: 77.60 - lr: 0.017193 - momentum: 0.000000\n",
            "2025-05-01 08:28:35,938 epoch 10 - iter 17/19 - loss 0.00004651 - time (sec): 7.07 - samples/sec: 76.92 - lr: 0.017193 - momentum: 0.000000\n",
            "2025-05-01 08:28:36,475 epoch 10 - iter 18/19 - loss 0.00004783 - time (sec): 7.61 - samples/sec: 75.71 - lr: 0.017193 - momentum: 0.000000\n",
            "2025-05-01 08:28:36,927 epoch 10 - iter 19/19 - loss 0.00004935 - time (sec): 8.06 - samples/sec: 74.81 - lr: 0.017193 - momentum: 0.000000\n",
            "2025-05-01 08:28:36,928 ----------------------------------------------------------------------------------------------------\n",
            "2025-05-01 08:28:36,929 EPOCH 10 done: loss 0.0000 - lr: 0.017193\n"
          ]
        },
        {
          "output_type": "stream",
          "name": "stderr",
          "text": [
            "100%|██████████| 3/3 [00:01<00:00,  2.55it/s]"
          ]
        },
        {
          "output_type": "stream",
          "name": "stdout",
          "text": [
            "2025-05-01 08:28:38,133 DEV : loss 0.0791691467165947 - f1-score (micro avg)  0.994\n"
          ]
        },
        {
          "output_type": "stream",
          "name": "stderr",
          "text": [
            "\n"
          ]
        },
        {
          "output_type": "stream",
          "name": "stdout",
          "text": [
            "2025-05-01 08:28:38,778  - 4 epochs without improvement (above 'patience')-> annealing learning_rate to [0.008596464903218056]\n",
            "2025-05-01 08:28:38,779 ----------------------------------------------------------------------------------------------------\n",
            "2025-05-01 08:28:38,911 epoch 11 - iter 1/19 - loss 0.00001691 - time (sec): 0.13 - samples/sec: 248.42 - lr: 0.008596 - momentum: 0.000000\n",
            "2025-05-01 08:28:39,290 epoch 11 - iter 2/19 - loss 0.00003036 - time (sec): 0.51 - samples/sec: 126.15 - lr: 0.008596 - momentum: 0.000000\n",
            "2025-05-01 08:28:39,807 epoch 11 - iter 3/19 - loss 0.00002551 - time (sec): 1.02 - samples/sec: 93.67 - lr: 0.008596 - momentum: 0.000000\n",
            "2025-05-01 08:28:40,359 epoch 11 - iter 4/19 - loss 0.00002159 - time (sec): 1.58 - samples/sec: 81.22 - lr: 0.008596 - momentum: 0.000000\n",
            "2025-05-01 08:28:40,831 epoch 11 - iter 5/19 - loss 0.00003887 - time (sec): 2.05 - samples/sec: 78.10 - lr: 0.008596 - momentum: 0.000000\n",
            "2025-05-01 08:28:41,222 epoch 11 - iter 6/19 - loss 0.00003691 - time (sec): 2.44 - samples/sec: 78.70 - lr: 0.008596 - momentum: 0.000000\n",
            "2025-05-01 08:28:41,627 epoch 11 - iter 7/19 - loss 0.00003449 - time (sec): 2.84 - samples/sec: 78.76 - lr: 0.008596 - momentum: 0.000000\n",
            "2025-05-01 08:28:42,099 epoch 11 - iter 8/19 - loss 0.00003473 - time (sec): 3.32 - samples/sec: 77.19 - lr: 0.008596 - momentum: 0.000000\n",
            "2025-05-01 08:28:42,610 epoch 11 - iter 9/19 - loss 0.00003307 - time (sec): 3.83 - samples/sec: 75.24 - lr: 0.008596 - momentum: 0.000000\n",
            "2025-05-01 08:28:43,029 epoch 11 - iter 10/19 - loss 0.00003380 - time (sec): 4.25 - samples/sec: 75.36 - lr: 0.008596 - momentum: 0.000000\n",
            "2025-05-01 08:28:43,477 epoch 11 - iter 11/19 - loss 0.00003224 - time (sec): 4.69 - samples/sec: 74.99 - lr: 0.008596 - momentum: 0.000000\n",
            "2025-05-01 08:28:43,899 epoch 11 - iter 12/19 - loss 0.00003364 - time (sec): 5.12 - samples/sec: 75.05 - lr: 0.008596 - momentum: 0.000000\n",
            "2025-05-01 08:28:44,340 epoch 11 - iter 13/19 - loss 0.00003206 - time (sec): 5.56 - samples/sec: 74.85 - lr: 0.008596 - momentum: 0.000000\n",
            "2025-05-01 08:28:44,783 epoch 11 - iter 14/19 - loss 0.00003261 - time (sec): 6.00 - samples/sec: 74.67 - lr: 0.008596 - momentum: 0.000000\n",
            "2025-05-01 08:28:45,205 epoch 11 - iter 15/19 - loss 0.00003104 - time (sec): 6.42 - samples/sec: 74.73 - lr: 0.008596 - momentum: 0.000000\n",
            "2025-05-01 08:28:45,619 epoch 11 - iter 16/19 - loss 0.00004054 - time (sec): 6.84 - samples/sec: 74.89 - lr: 0.008596 - momentum: 0.000000\n",
            "2025-05-01 08:28:46,028 epoch 11 - iter 17/19 - loss 0.00004008 - time (sec): 7.25 - samples/sec: 75.08 - lr: 0.008596 - momentum: 0.000000\n",
            "2025-05-01 08:28:46,580 epoch 11 - iter 18/19 - loss 0.00007689 - time (sec): 7.80 - samples/sec: 73.87 - lr: 0.008596 - momentum: 0.000000\n",
            "2025-05-01 08:28:47,104 epoch 11 - iter 19/19 - loss 0.00007430 - time (sec): 8.32 - samples/sec: 72.47 - lr: 0.008596 - momentum: 0.000000\n",
            "2025-05-01 08:28:47,105 ----------------------------------------------------------------------------------------------------\n",
            "2025-05-01 08:28:47,105 EPOCH 11 done: loss 0.0001 - lr: 0.008596\n"
          ]
        },
        {
          "output_type": "stream",
          "name": "stderr",
          "text": [
            "100%|██████████| 3/3 [00:01<00:00,  2.52it/s]"
          ]
        },
        {
          "output_type": "stream",
          "name": "stdout",
          "text": [
            "2025-05-01 08:28:48,320 DEV : loss 0.08043830841779709 - f1-score (micro avg)  0.994\n"
          ]
        },
        {
          "output_type": "stream",
          "name": "stderr",
          "text": [
            "\n"
          ]
        },
        {
          "output_type": "stream",
          "name": "stdout",
          "text": [
            "2025-05-01 08:28:48,365  - 1 epochs without improvement\n",
            "2025-05-01 08:28:48,366 ----------------------------------------------------------------------------------------------------\n",
            "2025-05-01 08:28:48,530 epoch 12 - iter 1/19 - loss 0.00003969 - time (sec): 0.16 - samples/sec: 197.57 - lr: 0.008596 - momentum: 0.000000\n",
            "2025-05-01 08:28:48,915 epoch 12 - iter 2/19 - loss 0.00005371 - time (sec): 0.55 - samples/sec: 117.16 - lr: 0.008596 - momentum: 0.000000\n",
            "2025-05-01 08:28:49,318 epoch 12 - iter 3/19 - loss 0.00003745 - time (sec): 0.95 - samples/sec: 101.13 - lr: 0.008596 - momentum: 0.000000\n",
            "2025-05-01 08:28:49,748 epoch 12 - iter 4/19 - loss 0.00007065 - time (sec): 1.38 - samples/sec: 92.74 - lr: 0.008596 - momentum: 0.000000\n",
            "2025-05-01 08:28:50,192 epoch 12 - iter 5/19 - loss 0.00006240 - time (sec): 1.82 - samples/sec: 87.74 - lr: 0.008596 - momentum: 0.000000\n",
            "2025-05-01 08:28:50,587 epoch 12 - iter 6/19 - loss 0.00006081 - time (sec): 2.22 - samples/sec: 86.55 - lr: 0.008596 - momentum: 0.000000\n",
            "2025-05-01 08:28:50,998 epoch 12 - iter 7/19 - loss 0.00005564 - time (sec): 2.63 - samples/sec: 85.19 - lr: 0.008596 - momentum: 0.000000\n",
            "2025-05-01 08:28:51,481 epoch 12 - iter 8/19 - loss 0.00004971 - time (sec): 3.11 - samples/sec: 82.24 - lr: 0.008596 - momentum: 0.000000\n",
            "2025-05-01 08:28:52,009 epoch 12 - iter 9/19 - loss 0.00004630 - time (sec): 3.64 - samples/sec: 79.11 - lr: 0.008596 - momentum: 0.000000\n",
            "2025-05-01 08:28:52,430 epoch 12 - iter 10/19 - loss 0.00004290 - time (sec): 4.06 - samples/sec: 78.77 - lr: 0.008596 - momentum: 0.000000\n",
            "2025-05-01 08:28:52,901 epoch 12 - iter 11/19 - loss 0.00004154 - time (sec): 4.53 - samples/sec: 77.66 - lr: 0.008596 - momentum: 0.000000\n",
            "2025-05-01 08:28:53,422 epoch 12 - iter 12/19 - loss 0.00004043 - time (sec): 5.05 - samples/sec: 75.99 - lr: 0.008596 - momentum: 0.000000\n",
            "2025-05-01 08:28:53,949 epoch 12 - iter 13/19 - loss 0.00003964 - time (sec): 5.58 - samples/sec: 74.54 - lr: 0.008596 - momentum: 0.000000\n",
            "2025-05-01 08:28:54,548 epoch 12 - iter 14/19 - loss 0.00003848 - time (sec): 6.18 - samples/sec: 72.50 - lr: 0.008596 - momentum: 0.000000\n",
            "2025-05-01 08:28:55,103 epoch 12 - iter 15/19 - loss 0.00004214 - time (sec): 6.73 - samples/sec: 71.27 - lr: 0.008596 - momentum: 0.000000\n",
            "2025-05-01 08:28:55,582 epoch 12 - iter 16/19 - loss 0.00004011 - time (sec): 7.21 - samples/sec: 70.98 - lr: 0.008596 - momentum: 0.000000\n",
            "2025-05-01 08:28:56,012 epoch 12 - iter 17/19 - loss 0.00003908 - time (sec): 7.64 - samples/sec: 71.17 - lr: 0.008596 - momentum: 0.000000\n",
            "2025-05-01 08:28:56,474 epoch 12 - iter 18/19 - loss 0.00003758 - time (sec): 8.11 - samples/sec: 71.06 - lr: 0.008596 - momentum: 0.000000\n",
            "2025-05-01 08:28:56,847 epoch 12 - iter 19/19 - loss 0.00003676 - time (sec): 8.48 - samples/sec: 71.12 - lr: 0.008596 - momentum: 0.000000\n",
            "2025-05-01 08:28:56,848 ----------------------------------------------------------------------------------------------------\n",
            "2025-05-01 08:28:56,850 EPOCH 12 done: loss 0.0000 - lr: 0.008596\n"
          ]
        },
        {
          "output_type": "stream",
          "name": "stderr",
          "text": [
            "100%|██████████| 3/3 [00:01<00:00,  2.63it/s]"
          ]
        },
        {
          "output_type": "stream",
          "name": "stdout",
          "text": [
            "2025-05-01 08:28:58,030 DEV : loss 0.08431828022003174 - f1-score (micro avg)  0.994\n"
          ]
        },
        {
          "output_type": "stream",
          "name": "stderr",
          "text": [
            "\n"
          ]
        },
        {
          "output_type": "stream",
          "name": "stdout",
          "text": [
            "2025-05-01 08:28:58,099  - 2 epochs without improvement\n",
            "2025-05-01 08:28:58,100 ----------------------------------------------------------------------------------------------------\n",
            "2025-05-01 08:28:58,309 epoch 13 - iter 1/19 - loss 0.00002627 - time (sec): 0.21 - samples/sec: 154.61 - lr: 0.008596 - momentum: 0.000000\n",
            "2025-05-01 08:28:58,718 epoch 13 - iter 2/19 - loss 0.00002371 - time (sec): 0.62 - samples/sec: 103.79 - lr: 0.008596 - momentum: 0.000000\n",
            "2025-05-01 08:28:59,158 epoch 13 - iter 3/19 - loss 0.00001829 - time (sec): 1.06 - samples/sec: 90.93 - lr: 0.008596 - momentum: 0.000000\n",
            "2025-05-01 08:28:59,597 epoch 13 - iter 4/19 - loss 0.00002910 - time (sec): 1.50 - samples/sec: 85.62 - lr: 0.008596 - momentum: 0.000000\n",
            "2025-05-01 08:29:00,021 epoch 13 - iter 5/19 - loss 0.00002629 - time (sec): 1.92 - samples/sec: 83.36 - lr: 0.008596 - momentum: 0.000000\n",
            "2025-05-01 08:29:00,430 epoch 13 - iter 6/19 - loss 0.00002710 - time (sec): 2.33 - samples/sec: 82.48 - lr: 0.008596 - momentum: 0.000000\n",
            "2025-05-01 08:29:00,822 epoch 13 - iter 7/19 - loss 0.00002837 - time (sec): 2.72 - samples/sec: 82.36 - lr: 0.008596 - momentum: 0.000000\n",
            "2025-05-01 08:29:01,193 epoch 13 - iter 8/19 - loss 0.00002671 - time (sec): 3.09 - samples/sec: 82.80 - lr: 0.008596 - momentum: 0.000000\n",
            "2025-05-01 08:29:01,656 epoch 13 - iter 9/19 - loss 0.00004251 - time (sec): 3.55 - samples/sec: 81.04 - lr: 0.008596 - momentum: 0.000000\n",
            "2025-05-01 08:29:02,259 epoch 13 - iter 10/19 - loss 0.00004114 - time (sec): 4.16 - samples/sec: 76.98 - lr: 0.008596 - momentum: 0.000000\n",
            "2025-05-01 08:29:02,766 epoch 13 - iter 11/19 - loss 0.00003954 - time (sec): 4.66 - samples/sec: 75.47 - lr: 0.008596 - momentum: 0.000000\n",
            "2025-05-01 08:29:03,191 epoch 13 - iter 12/19 - loss 0.00003711 - time (sec): 5.09 - samples/sec: 75.46 - lr: 0.008596 - momentum: 0.000000\n",
            "2025-05-01 08:29:03,663 epoch 13 - iter 13/19 - loss 0.00003633 - time (sec): 5.56 - samples/sec: 74.81 - lr: 0.008596 - momentum: 0.000000\n",
            "2025-05-01 08:29:04,116 epoch 13 - iter 14/19 - loss 0.00003418 - time (sec): 6.01 - samples/sec: 74.49 - lr: 0.008596 - momentum: 0.000000\n",
            "2025-05-01 08:29:04,498 epoch 13 - iter 15/19 - loss 0.00003316 - time (sec): 6.40 - samples/sec: 75.04 - lr: 0.008596 - momentum: 0.000000\n",
            "2025-05-01 08:29:04,937 epoch 13 - iter 16/19 - loss 0.00003204 - time (sec): 6.83 - samples/sec: 74.91 - lr: 0.008596 - momentum: 0.000000\n",
            "2025-05-01 08:29:05,382 epoch 13 - iter 17/19 - loss 0.00003051 - time (sec): 7.28 - samples/sec: 74.73 - lr: 0.008596 - momentum: 0.000000\n",
            "2025-05-01 08:29:05,753 epoch 13 - iter 18/19 - loss 0.00002941 - time (sec): 7.65 - samples/sec: 75.29 - lr: 0.008596 - momentum: 0.000000\n",
            "2025-05-01 08:29:06,228 epoch 13 - iter 19/19 - loss 0.00002884 - time (sec): 8.13 - samples/sec: 74.20 - lr: 0.008596 - momentum: 0.000000\n",
            "2025-05-01 08:29:06,229 ----------------------------------------------------------------------------------------------------\n",
            "2025-05-01 08:29:06,230 EPOCH 13 done: loss 0.0000 - lr: 0.008596\n"
          ]
        },
        {
          "output_type": "stream",
          "name": "stderr",
          "text": [
            "100%|██████████| 3/3 [00:01<00:00,  2.42it/s]"
          ]
        },
        {
          "output_type": "stream",
          "name": "stdout",
          "text": [
            "2025-05-01 08:29:07,494 DEV : loss 0.0822332575917244 - f1-score (micro avg)  0.994\n"
          ]
        },
        {
          "output_type": "stream",
          "name": "stderr",
          "text": [
            "\n"
          ]
        },
        {
          "output_type": "stream",
          "name": "stdout",
          "text": [
            "2025-05-01 08:29:07,539  - 3 epochs without improvement\n",
            "2025-05-01 08:29:07,540 ----------------------------------------------------------------------------------------------------\n",
            "2025-05-01 08:29:07,677 epoch 14 - iter 1/19 - loss 0.00001134 - time (sec): 0.13 - samples/sec: 238.89 - lr: 0.008596 - momentum: 0.000000\n",
            "2025-05-01 08:29:08,048 epoch 14 - iter 2/19 - loss 0.00001340 - time (sec): 0.51 - samples/sec: 126.57 - lr: 0.008596 - momentum: 0.000000\n",
            "2025-05-01 08:29:08,495 epoch 14 - iter 3/19 - loss 0.00001175 - time (sec): 0.95 - samples/sec: 100.82 - lr: 0.008596 - momentum: 0.000000\n",
            "2025-05-01 08:29:08,936 epoch 14 - iter 4/19 - loss 0.00004152 - time (sec): 1.39 - samples/sec: 91.86 - lr: 0.008596 - momentum: 0.000000\n",
            "2025-05-01 08:29:09,408 epoch 14 - iter 5/19 - loss 0.00003644 - time (sec): 1.87 - samples/sec: 85.79 - lr: 0.008596 - momentum: 0.000000\n",
            "2025-05-01 08:29:09,796 epoch 14 - iter 6/19 - loss 0.00005023 - time (sec): 2.25 - samples/sec: 85.22 - lr: 0.008596 - momentum: 0.000000\n",
            "2025-05-01 08:29:10,241 epoch 14 - iter 7/19 - loss 0.00004495 - time (sec): 2.70 - samples/sec: 83.03 - lr: 0.008596 - momentum: 0.000000\n",
            "2025-05-01 08:29:10,807 epoch 14 - iter 8/19 - loss 0.00004331 - time (sec): 3.26 - samples/sec: 78.43 - lr: 0.008596 - momentum: 0.000000\n",
            "2025-05-01 08:29:11,345 epoch 14 - iter 9/19 - loss 0.00004026 - time (sec): 3.80 - samples/sec: 75.74 - lr: 0.008596 - momentum: 0.000000\n",
            "2025-05-01 08:29:11,868 epoch 14 - iter 10/19 - loss 0.00003701 - time (sec): 4.33 - samples/sec: 73.99 - lr: 0.008596 - momentum: 0.000000\n",
            "2025-05-01 08:29:12,362 epoch 14 - iter 11/19 - loss 0.00003471 - time (sec): 4.82 - samples/sec: 73.05 - lr: 0.008596 - momentum: 0.000000\n",
            "2025-05-01 08:29:12,928 epoch 14 - iter 12/19 - loss 0.00003292 - time (sec): 5.39 - samples/sec: 71.31 - lr: 0.008596 - momentum: 0.000000\n",
            "2025-05-01 08:29:13,430 epoch 14 - iter 13/19 - loss 0.00003344 - time (sec): 5.89 - samples/sec: 70.67 - lr: 0.008596 - momentum: 0.000000\n",
            "2025-05-01 08:29:13,881 epoch 14 - iter 14/19 - loss 0.00003293 - time (sec): 6.34 - samples/sec: 70.69 - lr: 0.008596 - momentum: 0.000000\n",
            "2025-05-01 08:29:14,334 epoch 14 - iter 15/19 - loss 0.00003135 - time (sec): 6.79 - samples/sec: 70.68 - lr: 0.008596 - momentum: 0.000000\n",
            "2025-05-01 08:29:14,699 epoch 14 - iter 16/19 - loss 0.00003009 - time (sec): 7.16 - samples/sec: 71.54 - lr: 0.008596 - momentum: 0.000000\n",
            "2025-05-01 08:29:15,047 epoch 14 - iter 17/19 - loss 0.00002970 - time (sec): 7.50 - samples/sec: 72.49 - lr: 0.008596 - momentum: 0.000000\n",
            "2025-05-01 08:29:15,481 epoch 14 - iter 18/19 - loss 0.00002878 - time (sec): 7.94 - samples/sec: 72.56 - lr: 0.008596 - momentum: 0.000000\n",
            "2025-05-01 08:29:15,876 epoch 14 - iter 19/19 - loss 0.00003127 - time (sec): 8.33 - samples/sec: 72.36 - lr: 0.008596 - momentum: 0.000000\n",
            "2025-05-01 08:29:15,878 ----------------------------------------------------------------------------------------------------\n",
            "2025-05-01 08:29:15,878 EPOCH 14 done: loss 0.0000 - lr: 0.008596\n"
          ]
        },
        {
          "output_type": "stream",
          "name": "stderr",
          "text": [
            "100%|██████████| 3/3 [00:01<00:00,  2.65it/s]"
          ]
        },
        {
          "output_type": "stream",
          "name": "stdout",
          "text": [
            "2025-05-01 08:29:17,044 DEV : loss 0.08174286782741547 - f1-score (micro avg)  0.994\n"
          ]
        },
        {
          "output_type": "stream",
          "name": "stderr",
          "text": [
            "\n"
          ]
        },
        {
          "output_type": "stream",
          "name": "stdout",
          "text": [
            "2025-05-01 08:29:17,087  - 4 epochs without improvement (above 'patience')-> annealing learning_rate to [0.004298232451609028]\n",
            "2025-05-01 08:29:17,088 ----------------------------------------------------------------------------------------------------\n",
            "2025-05-01 08:29:17,253 epoch 15 - iter 1/19 - loss 0.00001833 - time (sec): 0.16 - samples/sec: 196.13 - lr: 0.004298 - momentum: 0.000000\n",
            "2025-05-01 08:29:17,725 epoch 15 - iter 2/19 - loss 0.00001532 - time (sec): 0.63 - samples/sec: 100.84 - lr: 0.004298 - momentum: 0.000000\n",
            "2025-05-01 08:29:18,234 epoch 15 - iter 3/19 - loss 0.00001819 - time (sec): 1.14 - samples/sec: 83.92 - lr: 0.004298 - momentum: 0.000000\n",
            "2025-05-01 08:29:18,661 epoch 15 - iter 4/19 - loss 0.00001735 - time (sec): 1.57 - samples/sec: 81.48 - lr: 0.004298 - momentum: 0.000000\n",
            "2025-05-01 08:29:19,163 epoch 15 - iter 5/19 - loss 0.00001899 - time (sec): 2.07 - samples/sec: 77.18 - lr: 0.004298 - momentum: 0.000000\n",
            "2025-05-01 08:29:19,607 epoch 15 - iter 6/19 - loss 0.00002775 - time (sec): 2.52 - samples/sec: 76.29 - lr: 0.004298 - momentum: 0.000000\n",
            "2025-05-01 08:29:20,010 epoch 15 - iter 7/19 - loss 0.00002622 - time (sec): 2.92 - samples/sec: 76.73 - lr: 0.004298 - momentum: 0.000000\n",
            "2025-05-01 08:29:20,351 epoch 15 - iter 8/19 - loss 0.00002345 - time (sec): 3.26 - samples/sec: 78.51 - lr: 0.004298 - momentum: 0.000000\n",
            "2025-05-01 08:29:20,759 epoch 15 - iter 9/19 - loss 0.00002409 - time (sec): 3.67 - samples/sec: 78.50 - lr: 0.004298 - momentum: 0.000000\n",
            "2025-05-01 08:29:21,252 epoch 15 - iter 10/19 - loss 0.00002392 - time (sec): 4.16 - samples/sec: 76.89 - lr: 0.004298 - momentum: 0.000000\n",
            "2025-05-01 08:29:21,664 epoch 15 - iter 11/19 - loss 0.00013233 - time (sec): 4.57 - samples/sec: 76.96 - lr: 0.004298 - momentum: 0.000000\n",
            "2025-05-01 08:29:22,213 epoch 15 - iter 12/19 - loss 0.00014141 - time (sec): 5.12 - samples/sec: 74.96 - lr: 0.004298 - momentum: 0.000000\n",
            "2025-05-01 08:29:22,608 epoch 15 - iter 13/19 - loss 0.00013224 - time (sec): 5.52 - samples/sec: 75.39 - lr: 0.004298 - momentum: 0.000000\n",
            "2025-05-01 08:29:23,009 epoch 15 - iter 14/19 - loss 0.00012377 - time (sec): 5.92 - samples/sec: 75.69 - lr: 0.004298 - momentum: 0.000000\n",
            "2025-05-01 08:29:23,520 epoch 15 - iter 15/19 - loss 0.00011688 - time (sec): 6.43 - samples/sec: 74.65 - lr: 0.004298 - momentum: 0.000000\n",
            "2025-05-01 08:29:24,047 epoch 15 - iter 16/19 - loss 0.00011010 - time (sec): 6.96 - samples/sec: 73.60 - lr: 0.004298 - momentum: 0.000000\n",
            "2025-05-01 08:29:24,520 epoch 15 - iter 17/19 - loss 0.00010453 - time (sec): 7.43 - samples/sec: 73.22 - lr: 0.004298 - momentum: 0.000000\n",
            "2025-05-01 08:29:24,992 epoch 15 - iter 18/19 - loss 0.00009961 - time (sec): 7.90 - samples/sec: 72.90 - lr: 0.004298 - momentum: 0.000000\n",
            "2025-05-01 08:29:25,499 epoch 15 - iter 19/19 - loss 0.00009625 - time (sec): 8.41 - samples/sec: 71.71 - lr: 0.004298 - momentum: 0.000000\n",
            "2025-05-01 08:29:25,505 ----------------------------------------------------------------------------------------------------\n",
            "2025-05-01 08:29:25,506 EPOCH 15 done: loss 0.0001 - lr: 0.004298\n"
          ]
        },
        {
          "output_type": "stream",
          "name": "stderr",
          "text": [
            "100%|██████████| 3/3 [00:01<00:00,  2.48it/s]"
          ]
        },
        {
          "output_type": "stream",
          "name": "stdout",
          "text": [
            "2025-05-01 08:29:26,749 DEV : loss 0.08078768104314804 - f1-score (micro avg)  0.994\n"
          ]
        },
        {
          "output_type": "stream",
          "name": "stderr",
          "text": [
            "\n"
          ]
        },
        {
          "output_type": "stream",
          "name": "stdout",
          "text": [
            "2025-05-01 08:29:26,820  - 1 epochs without improvement\n",
            "2025-05-01 08:29:26,824 ----------------------------------------------------------------------------------------------------\n",
            "2025-05-01 08:29:27,016 epoch 16 - iter 1/19 - loss 0.00001265 - time (sec): 0.19 - samples/sec: 168.77 - lr: 0.004298 - momentum: 0.000000\n",
            "2025-05-01 08:29:27,435 epoch 16 - iter 2/19 - loss 0.00002045 - time (sec): 0.61 - samples/sec: 105.23 - lr: 0.004298 - momentum: 0.000000\n",
            "2025-05-01 08:29:27,902 epoch 16 - iter 3/19 - loss 0.00002329 - time (sec): 1.08 - samples/sec: 89.22 - lr: 0.004298 - momentum: 0.000000\n",
            "2025-05-01 08:29:28,343 epoch 16 - iter 4/19 - loss 0.00002262 - time (sec): 1.52 - samples/sec: 84.41 - lr: 0.004298 - momentum: 0.000000\n",
            "2025-05-01 08:29:28,804 epoch 16 - iter 5/19 - loss 0.00001894 - time (sec): 1.98 - samples/sec: 80.91 - lr: 0.004298 - momentum: 0.000000\n",
            "2025-05-01 08:29:29,318 epoch 16 - iter 6/19 - loss 0.00006173 - time (sec): 2.49 - samples/sec: 77.06 - lr: 0.004298 - momentum: 0.000000\n",
            "2025-05-01 08:29:29,807 epoch 16 - iter 7/19 - loss 0.00005375 - time (sec): 2.98 - samples/sec: 75.15 - lr: 0.004298 - momentum: 0.000000\n",
            "2025-05-01 08:29:30,267 epoch 16 - iter 8/19 - loss 0.00005079 - time (sec): 3.44 - samples/sec: 74.40 - lr: 0.004298 - momentum: 0.000000\n",
            "2025-05-01 08:29:30,756 epoch 16 - iter 9/19 - loss 0.00004598 - time (sec): 3.93 - samples/sec: 73.29 - lr: 0.004298 - momentum: 0.000000\n",
            "2025-05-01 08:29:31,206 epoch 16 - iter 10/19 - loss 0.00004282 - time (sec): 4.38 - samples/sec: 73.06 - lr: 0.004298 - momentum: 0.000000\n",
            "2025-05-01 08:29:31,643 epoch 16 - iter 11/19 - loss 0.00004023 - time (sec): 4.82 - samples/sec: 73.09 - lr: 0.004298 - momentum: 0.000000\n",
            "2025-05-01 08:29:32,230 epoch 16 - iter 12/19 - loss 0.00003943 - time (sec): 5.40 - samples/sec: 71.06 - lr: 0.004298 - momentum: 0.000000\n",
            "2025-05-01 08:29:32,797 epoch 16 - iter 13/19 - loss 0.00003695 - time (sec): 5.97 - samples/sec: 69.67 - lr: 0.004298 - momentum: 0.000000\n",
            "2025-05-01 08:29:33,262 epoch 16 - iter 14/19 - loss 0.00003675 - time (sec): 6.44 - samples/sec: 69.61 - lr: 0.004298 - momentum: 0.000000\n",
            "2025-05-01 08:29:33,718 epoch 16 - iter 15/19 - loss 0.00003505 - time (sec): 6.89 - samples/sec: 69.64 - lr: 0.004298 - momentum: 0.000000\n",
            "2025-05-01 08:29:34,238 epoch 16 - iter 16/19 - loss 0.00003482 - time (sec): 7.41 - samples/sec: 69.08 - lr: 0.004298 - momentum: 0.000000\n",
            "2025-05-01 08:29:34,641 epoch 16 - iter 17/19 - loss 0.00003374 - time (sec): 7.81 - samples/sec: 69.62 - lr: 0.004298 - momentum: 0.000000\n",
            "2025-05-01 08:29:35,079 epoch 16 - iter 18/19 - loss 0.00003344 - time (sec): 8.25 - samples/sec: 69.80 - lr: 0.004298 - momentum: 0.000000\n",
            "2025-05-01 08:29:35,465 epoch 16 - iter 19/19 - loss 0.00003345 - time (sec): 8.64 - samples/sec: 69.80 - lr: 0.004298 - momentum: 0.000000\n",
            "2025-05-01 08:29:35,466 ----------------------------------------------------------------------------------------------------\n",
            "2025-05-01 08:29:35,467 EPOCH 16 done: loss 0.0000 - lr: 0.004298\n"
          ]
        },
        {
          "output_type": "stream",
          "name": "stderr",
          "text": [
            "100%|██████████| 3/3 [00:01<00:00,  2.67it/s]"
          ]
        },
        {
          "output_type": "stream",
          "name": "stdout",
          "text": [
            "2025-05-01 08:29:36,618 DEV : loss 0.08061746507883072 - f1-score (micro avg)  0.994\n"
          ]
        },
        {
          "output_type": "stream",
          "name": "stderr",
          "text": [
            "\n"
          ]
        },
        {
          "output_type": "stream",
          "name": "stdout",
          "text": [
            "2025-05-01 08:29:36,660  - 2 epochs without improvement\n",
            "2025-05-01 08:29:36,661 ----------------------------------------------------------------------------------------------------\n",
            "2025-05-01 08:29:36,849 epoch 17 - iter 1/19 - loss 0.00000715 - time (sec): 0.18 - samples/sec: 173.71 - lr: 0.004298 - momentum: 0.000000\n",
            "2025-05-01 08:29:37,270 epoch 17 - iter 2/19 - loss 0.00001136 - time (sec): 0.60 - samples/sec: 105.83 - lr: 0.004298 - momentum: 0.000000\n",
            "2025-05-01 08:29:37,673 epoch 17 - iter 3/19 - loss 0.00001305 - time (sec): 1.01 - samples/sec: 95.22 - lr: 0.004298 - momentum: 0.000000\n",
            "2025-05-01 08:29:38,087 epoch 17 - iter 4/19 - loss 0.00001472 - time (sec): 1.42 - samples/sec: 90.00 - lr: 0.004298 - momentum: 0.000000\n",
            "2025-05-01 08:29:38,562 epoch 17 - iter 5/19 - loss 0.00001358 - time (sec): 1.90 - samples/sec: 84.35 - lr: 0.004298 - momentum: 0.000000\n",
            "2025-05-01 08:29:39,066 epoch 17 - iter 6/19 - loss 0.00001661 - time (sec): 2.40 - samples/sec: 79.99 - lr: 0.004298 - momentum: 0.000000\n",
            "2025-05-01 08:29:39,597 epoch 17 - iter 7/19 - loss 0.00001575 - time (sec): 2.93 - samples/sec: 76.41 - lr: 0.004298 - momentum: 0.000000\n",
            "2025-05-01 08:29:40,131 epoch 17 - iter 8/19 - loss 0.00001492 - time (sec): 3.47 - samples/sec: 73.86 - lr: 0.004298 - momentum: 0.000000\n",
            "2025-05-01 08:29:40,546 epoch 17 - iter 9/19 - loss 0.00001450 - time (sec): 3.88 - samples/sec: 74.21 - lr: 0.004298 - momentum: 0.000000\n",
            "2025-05-01 08:29:40,924 epoch 17 - iter 10/19 - loss 0.00001455 - time (sec): 4.26 - samples/sec: 75.15 - lr: 0.004298 - momentum: 0.000000\n",
            "2025-05-01 08:29:41,297 epoch 17 - iter 11/19 - loss 0.00001520 - time (sec): 4.63 - samples/sec: 76.00 - lr: 0.004298 - momentum: 0.000000\n",
            "2025-05-01 08:29:41,719 epoch 17 - iter 12/19 - loss 0.00001632 - time (sec): 5.05 - samples/sec: 75.99 - lr: 0.004298 - momentum: 0.000000\n",
            "2025-05-01 08:29:42,170 epoch 17 - iter 13/19 - loss 0.00001582 - time (sec): 5.50 - samples/sec: 75.57 - lr: 0.004298 - momentum: 0.000000\n",
            "2025-05-01 08:29:42,700 epoch 17 - iter 14/19 - loss 0.00001541 - time (sec): 6.04 - samples/sec: 74.23 - lr: 0.004298 - momentum: 0.000000\n",
            "2025-05-01 08:29:43,234 epoch 17 - iter 15/19 - loss 0.00001518 - time (sec): 6.57 - samples/sec: 73.07 - lr: 0.004298 - momentum: 0.000000\n",
            "2025-05-01 08:29:43,760 epoch 17 - iter 16/19 - loss 0.00002784 - time (sec): 7.09 - samples/sec: 72.16 - lr: 0.004298 - momentum: 0.000000\n",
            "2025-05-01 08:29:44,192 epoch 17 - iter 17/19 - loss 0.00002915 - time (sec): 7.53 - samples/sec: 72.28 - lr: 0.004298 - momentum: 0.000000\n",
            "2025-05-01 08:29:44,660 epoch 17 - iter 18/19 - loss 0.00003248 - time (sec): 8.00 - samples/sec: 72.04 - lr: 0.004298 - momentum: 0.000000\n",
            "2025-05-01 08:29:45,097 epoch 17 - iter 19/19 - loss 0.00003820 - time (sec): 8.43 - samples/sec: 71.51 - lr: 0.004298 - momentum: 0.000000\n",
            "2025-05-01 08:29:45,099 ----------------------------------------------------------------------------------------------------\n",
            "2025-05-01 08:29:45,100 EPOCH 17 done: loss 0.0000 - lr: 0.004298\n"
          ]
        },
        {
          "output_type": "stream",
          "name": "stderr",
          "text": [
            "100%|██████████| 3/3 [00:01<00:00,  2.70it/s]"
          ]
        },
        {
          "output_type": "stream",
          "name": "stdout",
          "text": [
            "2025-05-01 08:29:46,233 DEV : loss 0.08148972690105438 - f1-score (micro avg)  0.994\n"
          ]
        },
        {
          "output_type": "stream",
          "name": "stderr",
          "text": [
            "\n"
          ]
        },
        {
          "output_type": "stream",
          "name": "stdout",
          "text": [
            "2025-05-01 08:29:46,277  - 3 epochs without improvement\n",
            "2025-05-01 08:29:46,278 ----------------------------------------------------------------------------------------------------\n",
            "2025-05-01 08:29:46,533 epoch 18 - iter 1/19 - loss 0.00001760 - time (sec): 0.25 - samples/sec: 126.55 - lr: 0.004298 - momentum: 0.000000\n",
            "2025-05-01 08:29:47,078 epoch 18 - iter 2/19 - loss 0.00001327 - time (sec): 0.80 - samples/sec: 80.22 - lr: 0.004298 - momentum: 0.000000\n",
            "2025-05-01 08:29:47,547 epoch 18 - iter 3/19 - loss 0.00001264 - time (sec): 1.27 - samples/sec: 75.78 - lr: 0.004298 - momentum: 0.000000\n",
            "2025-05-01 08:29:47,941 epoch 18 - iter 4/19 - loss 0.00003538 - time (sec): 1.66 - samples/sec: 77.06 - lr: 0.004298 - momentum: 0.000000\n",
            "2025-05-01 08:29:48,439 epoch 18 - iter 5/19 - loss 0.00003092 - time (sec): 2.16 - samples/sec: 74.12 - lr: 0.004298 - momentum: 0.000000\n",
            "2025-05-01 08:29:48,838 epoch 18 - iter 6/19 - loss 0.00002940 - time (sec): 2.56 - samples/sec: 75.08 - lr: 0.004298 - momentum: 0.000000\n",
            "2025-05-01 08:29:49,214 epoch 18 - iter 7/19 - loss 0.00003258 - time (sec): 2.93 - samples/sec: 76.35 - lr: 0.004298 - momentum: 0.000000\n",
            "2025-05-01 08:29:49,625 epoch 18 - iter 8/19 - loss 0.00003131 - time (sec): 3.34 - samples/sec: 76.53 - lr: 0.004298 - momentum: 0.000000\n",
            "2025-05-01 08:29:50,032 epoch 18 - iter 9/19 - loss 0.00002925 - time (sec): 3.75 - samples/sec: 76.78 - lr: 0.004298 - momentum: 0.000000\n",
            "2025-05-01 08:29:50,488 epoch 18 - iter 10/19 - loss 0.00002792 - time (sec): 4.21 - samples/sec: 76.06 - lr: 0.004298 - momentum: 0.000000\n",
            "2025-05-01 08:29:50,852 epoch 18 - iter 11/19 - loss 0.00002622 - time (sec): 4.57 - samples/sec: 77.00 - lr: 0.004298 - momentum: 0.000000\n",
            "2025-05-01 08:29:51,239 epoch 18 - iter 12/19 - loss 0.00004699 - time (sec): 4.96 - samples/sec: 77.45 - lr: 0.004298 - momentum: 0.000000\n",
            "2025-05-01 08:29:51,670 epoch 18 - iter 13/19 - loss 0.00004376 - time (sec): 5.39 - samples/sec: 77.18 - lr: 0.004298 - momentum: 0.000000\n",
            "2025-05-01 08:29:52,063 epoch 18 - iter 14/19 - loss 0.00004172 - time (sec): 5.78 - samples/sec: 77.48 - lr: 0.004298 - momentum: 0.000000\n",
            "2025-05-01 08:29:52,523 epoch 18 - iter 15/19 - loss 0.00020888 - time (sec): 6.24 - samples/sec: 76.89 - lr: 0.004298 - momentum: 0.000000\n",
            "2025-05-01 08:29:53,049 epoch 18 - iter 16/19 - loss 0.00019651 - time (sec): 6.77 - samples/sec: 75.64 - lr: 0.004298 - momentum: 0.000000\n",
            "2025-05-01 08:29:53,498 epoch 18 - iter 17/19 - loss 0.00018569 - time (sec): 7.22 - samples/sec: 75.37 - lr: 0.004298 - momentum: 0.000000\n",
            "2025-05-01 08:29:53,984 epoch 18 - iter 18/19 - loss 0.00017624 - time (sec): 7.70 - samples/sec: 74.77 - lr: 0.004298 - momentum: 0.000000\n",
            "2025-05-01 08:29:54,443 epoch 18 - iter 19/19 - loss 0.00016922 - time (sec): 8.16 - samples/sec: 73.87 - lr: 0.004298 - momentum: 0.000000\n",
            "2025-05-01 08:29:54,444 ----------------------------------------------------------------------------------------------------\n",
            "2025-05-01 08:29:54,445 EPOCH 18 done: loss 0.0002 - lr: 0.004298\n"
          ]
        },
        {
          "output_type": "stream",
          "name": "stderr",
          "text": [
            "100%|██████████| 3/3 [00:01<00:00,  2.41it/s]"
          ]
        },
        {
          "output_type": "stream",
          "name": "stdout",
          "text": [
            "2025-05-01 08:29:55,714 DEV : loss 0.08832942694425583 - f1-score (micro avg)  0.9881\n"
          ]
        },
        {
          "output_type": "stream",
          "name": "stderr",
          "text": [
            "\n"
          ]
        },
        {
          "output_type": "stream",
          "name": "stdout",
          "text": [
            "2025-05-01 08:29:55,758  - 4 epochs without improvement (above 'patience')-> annealing learning_rate to [0.002149116225804514]\n",
            "2025-05-01 08:29:55,759 ----------------------------------------------------------------------------------------------------\n",
            "2025-05-01 08:29:55,951 epoch 19 - iter 1/19 - loss 0.00008691 - time (sec): 0.19 - samples/sec: 169.02 - lr: 0.002149 - momentum: 0.000000\n",
            "2025-05-01 08:29:56,415 epoch 19 - iter 2/19 - loss 0.00005505 - time (sec): 0.65 - samples/sec: 98.04 - lr: 0.002149 - momentum: 0.000000\n",
            "2025-05-01 08:29:56,948 epoch 19 - iter 3/19 - loss 0.00004933 - time (sec): 1.19 - samples/sec: 80.91 - lr: 0.002149 - momentum: 0.000000\n",
            "2025-05-01 08:29:57,403 epoch 19 - iter 4/19 - loss 0.00003869 - time (sec): 1.64 - samples/sec: 77.97 - lr: 0.002149 - momentum: 0.000000\n",
            "2025-05-01 08:29:57,778 epoch 19 - iter 5/19 - loss 0.00003221 - time (sec): 2.02 - samples/sec: 79.35 - lr: 0.002149 - momentum: 0.000000\n",
            "2025-05-01 08:29:58,202 epoch 19 - iter 6/19 - loss 0.00002920 - time (sec): 2.44 - samples/sec: 78.69 - lr: 0.002149 - momentum: 0.000000\n",
            "2025-05-01 08:29:58,635 epoch 19 - iter 7/19 - loss 0.00002688 - time (sec): 2.87 - samples/sec: 77.95 - lr: 0.002149 - momentum: 0.000000\n",
            "2025-05-01 08:29:59,025 epoch 19 - iter 8/19 - loss 0.00003414 - time (sec): 3.26 - samples/sec: 78.46 - lr: 0.002149 - momentum: 0.000000\n",
            "2025-05-01 08:29:59,367 epoch 19 - iter 9/19 - loss 0.00003129 - time (sec): 3.61 - samples/sec: 79.88 - lr: 0.002149 - momentum: 0.000000\n",
            "2025-05-01 08:29:59,745 epoch 19 - iter 10/19 - loss 0.00003120 - time (sec): 3.98 - samples/sec: 80.33 - lr: 0.002149 - momentum: 0.000000\n",
            "2025-05-01 08:30:00,179 epoch 19 - iter 11/19 - loss 0.00003013 - time (sec): 4.42 - samples/sec: 79.68 - lr: 0.002149 - momentum: 0.000000\n",
            "2025-05-01 08:30:00,663 epoch 19 - iter 12/19 - loss 0.00002891 - time (sec): 4.90 - samples/sec: 78.35 - lr: 0.002149 - momentum: 0.000000\n",
            "2025-05-01 08:30:01,093 epoch 19 - iter 13/19 - loss 0.00002729 - time (sec): 5.33 - samples/sec: 78.03 - lr: 0.002149 - momentum: 0.000000\n",
            "2025-05-01 08:30:01,558 epoch 19 - iter 14/19 - loss 0.00002656 - time (sec): 5.80 - samples/sec: 77.29 - lr: 0.002149 - momentum: 0.000000\n",
            "2025-05-01 08:30:02,142 epoch 19 - iter 15/19 - loss 0.00002621 - time (sec): 6.38 - samples/sec: 75.23 - lr: 0.002149 - momentum: 0.000000\n",
            "2025-05-01 08:30:02,669 epoch 19 - iter 16/19 - loss 0.00002577 - time (sec): 6.91 - samples/sec: 74.12 - lr: 0.002149 - momentum: 0.000000\n",
            "2025-05-01 08:30:03,119 epoch 19 - iter 17/19 - loss 0.00002494 - time (sec): 7.36 - samples/sec: 73.94 - lr: 0.002149 - momentum: 0.000000\n",
            "2025-05-01 08:30:03,647 epoch 19 - iter 18/19 - loss 0.00002572 - time (sec): 7.89 - samples/sec: 73.05 - lr: 0.002149 - momentum: 0.000000\n",
            "2025-05-01 08:30:04,101 epoch 19 - iter 19/19 - loss 0.00002667 - time (sec): 8.34 - samples/sec: 72.31 - lr: 0.002149 - momentum: 0.000000\n",
            "2025-05-01 08:30:04,103 ----------------------------------------------------------------------------------------------------\n",
            "2025-05-01 08:30:04,103 EPOCH 19 done: loss 0.0000 - lr: 0.002149\n"
          ]
        },
        {
          "output_type": "stream",
          "name": "stderr",
          "text": [
            "100%|██████████| 3/3 [00:01<00:00,  2.58it/s]"
          ]
        },
        {
          "output_type": "stream",
          "name": "stdout",
          "text": [
            "2025-05-01 08:30:05,300 DEV : loss 0.0887603685259819 - f1-score (micro avg)  0.9881\n"
          ]
        },
        {
          "output_type": "stream",
          "name": "stderr",
          "text": [
            "\n"
          ]
        },
        {
          "output_type": "stream",
          "name": "stdout",
          "text": [
            "2025-05-01 08:30:05,360  - 1 epochs without improvement\n",
            "2025-05-01 08:30:08,362 ----------------------------------------------------------------------------------------------------\n",
            "2025-05-01 08:30:08,365 Loading model from best epoch ...\n"
          ]
        },
        {
          "output_type": "stream",
          "name": "stderr",
          "text": [
            "100%|██████████| 2/2 [00:00<00:00,  5.40it/s]"
          ]
        },
        {
          "output_type": "stream",
          "name": "stdout",
          "text": [
            "2025-05-01 08:30:10,847 \n",
            "Results:\n",
            "- F-score (micro) 0.9851\n",
            "- F-score (macro) 0.8487\n",
            "- Accuracy 0.9851\n",
            "\n",
            "By class:\n",
            "              precision    recall  f1-score   support\n",
            "\n",
            "          공통     1.0000    1.0000    1.0000        23\n",
            "       가설구조물     1.0000    1.0000    1.0000        16\n",
            "          건축     0.8889    1.0000    0.9412         8\n",
            "          교량     1.0000    1.0000    1.0000         8\n",
            "        양중작업     1.0000    1.0000    1.0000         6\n",
            "        굴착공사     1.0000    1.0000    1.0000         5\n",
            "                 0.0000    0.0000    0.0000         1\n",
            "\n",
            "    accuracy                         0.9851        67\n",
            "   macro avg     0.8413    0.8571    0.8487        67\n",
            "weighted avg     0.9718    0.9851    0.9781        67\n",
            "\n",
            "2025-05-01 08:30:10,848 ----------------------------------------------------------------------------------------------------\n"
          ]
        },
        {
          "output_type": "stream",
          "name": "stderr",
          "text": [
            "\n"
          ]
        },
        {
          "output_type": "stream",
          "name": "stdout",
          "text": [
            "  훈련 결과: {'test_score': 0.9850746268656716}\n",
            "  현재 폴드 정확도: 0.9940\n",
            "  폴드 4/5 학습 중...\n",
            "2025-05-01 08:30:15,415 Reading data from /tmp/tmp6zwmxqh5\n",
            "2025-05-01 08:30:15,416 Train: /tmp/tmp6zwmxqh5/train.txt\n",
            "2025-05-01 08:30:15,417 Dev: /tmp/tmp6zwmxqh5/dev.txt\n",
            "2025-05-01 08:30:15,417 Test: None\n",
            "2025-05-01 08:30:15,473 No test split found. Using 10% (i.e. 67 samples) of the train split as test data\n",
            "2025-05-01 08:30:15,473 Initialized corpus /tmp/tmp6zwmxqh5 (label type name is 'class')\n",
            "2025-05-01 08:30:15,474 Computing label dictionary. Progress:\n"
          ]
        },
        {
          "output_type": "stream",
          "name": "stderr",
          "text": [
            "0it [00:00, ?it/s]\n",
            "604it [00:00, 4305.38it/s]"
          ]
        },
        {
          "output_type": "stream",
          "name": "stdout",
          "text": [
            "2025-05-01 08:30:15,621 Dictionary created for label 'class' with 7 values: 공통 (seen 177 times), 가설구조물 (seen 145 times), 교량 (seen 88 times), 굴착공사 (seen 81 times), 건축 (seen 57 times), 양중작업 (seen 52 times),  (seen 4 times)\n",
            "2025-05-01 08:30:15,630 ----------------------------------------------------------------------------------------------------\n",
            "2025-05-01 08:30:15,632 Model: \"TextClassifier(\n",
            "  (embeddings): TransformerDocumentEmbeddings(\n",
            "    (model): BertModel(\n",
            "      (embeddings): BertEmbeddings(\n",
            "        (word_embeddings): Embedding(32001, 768, padding_idx=0)\n",
            "        (position_embeddings): Embedding(512, 768)\n",
            "        (token_type_embeddings): Embedding(2, 768)\n",
            "        (LayerNorm): LayerNorm((768,), eps=1e-12, elementwise_affine=True)\n",
            "        (dropout): Dropout(p=0.1, inplace=False)\n",
            "      )\n",
            "      (encoder): BertEncoder(\n",
            "        (layer): ModuleList(\n",
            "          (0-11): 12 x BertLayer(\n",
            "            (attention): BertAttention(\n",
            "              (self): BertSdpaSelfAttention(\n",
            "                (query): Linear(in_features=768, out_features=768, bias=True)\n",
            "                (key): Linear(in_features=768, out_features=768, bias=True)\n",
            "                (value): Linear(in_features=768, out_features=768, bias=True)\n",
            "                (dropout): Dropout(p=0.1, inplace=False)\n",
            "              )\n",
            "              (output): BertSelfOutput(\n",
            "                (dense): Linear(in_features=768, out_features=768, bias=True)\n",
            "                (LayerNorm): LayerNorm((768,), eps=1e-12, elementwise_affine=True)\n",
            "                (dropout): Dropout(p=0.1, inplace=False)\n",
            "              )\n",
            "            )\n",
            "            (intermediate): BertIntermediate(\n",
            "              (dense): Linear(in_features=768, out_features=3072, bias=True)\n",
            "              (intermediate_act_fn): GELUActivation()\n",
            "            )\n",
            "            (output): BertOutput(\n",
            "              (dense): Linear(in_features=3072, out_features=768, bias=True)\n",
            "              (LayerNorm): LayerNorm((768,), eps=1e-12, elementwise_affine=True)\n",
            "              (dropout): Dropout(p=0.1, inplace=False)\n",
            "            )\n",
            "          )\n",
            "        )\n",
            "      )\n",
            "      (pooler): BertPooler(\n",
            "        (dense): Linear(in_features=768, out_features=768, bias=True)\n",
            "        (activation): Tanh()\n",
            "      )\n",
            "    )\n",
            "  )\n",
            "  (decoder): Linear(in_features=768, out_features=7, bias=True)\n",
            "  (dropout): Dropout(p=0.0, inplace=False)\n",
            "  (locked_dropout): LockedDropout(p=0.0)\n",
            "  (word_dropout): WordDropout(p=0.0)\n",
            "  (loss_function): CrossEntropyLoss()\n",
            "  (weights): None\n",
            "  (weight_tensor) None\n",
            ")\"\n",
            "2025-05-01 08:30:15,633 ----------------------------------------------------------------------------------------------------\n",
            "2025-05-01 08:30:15,633 Corpus: 604 train + 167 dev + 67 test sentences\n",
            "2025-05-01 08:30:15,634 ----------------------------------------------------------------------------------------------------\n",
            "2025-05-01 08:30:15,635 Train:  604 sentences\n",
            "2025-05-01 08:30:15,635         (train_with_dev=False, train_with_test=False)\n",
            "2025-05-01 08:30:15,636 ----------------------------------------------------------------------------------------------------\n",
            "2025-05-01 08:30:15,636 Training Params:\n",
            "2025-05-01 08:30:15,637  - learning_rate: \"0.03438585961287222\" \n",
            "2025-05-01 08:30:15,638  - mini_batch_size: \"32\"\n",
            "2025-05-01 08:30:15,638  - max_epochs: \"19\"\n",
            "2025-05-01 08:30:15,640  - shuffle: \"True\"\n",
            "2025-05-01 08:30:15,641 ----------------------------------------------------------------------------------------------------\n",
            "2025-05-01 08:30:15,642 Plugins:\n",
            "2025-05-01 08:30:15,642  - AnnealOnPlateau | patience: '3', anneal_factor: '0.5', min_learning_rate: '0.0001'\n",
            "2025-05-01 08:30:15,643 ----------------------------------------------------------------------------------------------------\n",
            "2025-05-01 08:30:15,644 Final evaluation on model from best epoch (best-model.pt)\n",
            "2025-05-01 08:30:15,645  - metric: \"('micro avg', 'f1-score')\"\n",
            "2025-05-01 08:30:15,645 ----------------------------------------------------------------------------------------------------\n",
            "2025-05-01 08:30:15,646 Computation:\n",
            "2025-05-01 08:30:15,647  - compute on device: cuda:0\n",
            "2025-05-01 08:30:15,648  - embedding storage: cpu\n",
            "2025-05-01 08:30:15,648 ----------------------------------------------------------------------------------------------------\n",
            "2025-05-01 08:30:15,649 Model training base path: \"/tmp/tmp6zwmxqh5/model\"\n",
            "2025-05-01 08:30:15,649 ----------------------------------------------------------------------------------------------------\n",
            "2025-05-01 08:30:15,650 ----------------------------------------------------------------------------------------------------\n"
          ]
        },
        {
          "output_type": "stream",
          "name": "stderr",
          "text": [
            "\n",
            "/usr/local/lib/python3.11/dist-packages/flair/trainers/trainer.py:545: FutureWarning: `torch.cuda.amp.GradScaler(args...)` is deprecated. Please use `torch.amp.GradScaler('cuda', args...)` instead.\n",
            "  scaler = torch.cuda.amp.GradScaler(enabled=use_amp and flair.device.type != \"cpu\")\n"
          ]
        },
        {
          "output_type": "stream",
          "name": "stdout",
          "text": [
            "2025-05-01 08:30:15,848 epoch 1 - iter 1/19 - loss 1.97597384 - time (sec): 0.20 - samples/sec: 162.83 - lr: 0.034386 - momentum: 0.000000\n",
            "2025-05-01 08:30:16,312 epoch 1 - iter 2/19 - loss 1.43709967 - time (sec): 0.66 - samples/sec: 96.88 - lr: 0.034386 - momentum: 0.000000\n",
            "2025-05-01 08:30:16,907 epoch 1 - iter 3/19 - loss 1.07742226 - time (sec): 1.25 - samples/sec: 76.50 - lr: 0.034386 - momentum: 0.000000\n",
            "2025-05-01 08:30:17,467 epoch 1 - iter 4/19 - loss 0.89122023 - time (sec): 1.81 - samples/sec: 70.53 - lr: 0.034386 - momentum: 0.000000\n",
            "2025-05-01 08:30:17,958 epoch 1 - iter 5/19 - loss 0.72499453 - time (sec): 2.31 - samples/sec: 69.39 - lr: 0.034386 - momentum: 0.000000\n",
            "2025-05-01 08:30:18,324 epoch 1 - iter 6/19 - loss 0.61789414 - time (sec): 2.67 - samples/sec: 71.85 - lr: 0.034386 - momentum: 0.000000\n",
            "2025-05-01 08:30:18,803 epoch 1 - iter 7/19 - loss 0.53899864 - time (sec): 3.15 - samples/sec: 71.09 - lr: 0.034386 - momentum: 0.000000\n",
            "2025-05-01 08:30:19,274 epoch 1 - iter 8/19 - loss 0.47315893 - time (sec): 3.62 - samples/sec: 70.67 - lr: 0.034386 - momentum: 0.000000\n",
            "2025-05-01 08:30:19,745 epoch 1 - iter 9/19 - loss 0.42985995 - time (sec): 4.09 - samples/sec: 70.36 - lr: 0.034386 - momentum: 0.000000\n",
            "2025-05-01 08:30:20,225 epoch 1 - iter 10/19 - loss 0.39777624 - time (sec): 4.57 - samples/sec: 69.97 - lr: 0.034386 - momentum: 0.000000\n",
            "2025-05-01 08:30:20,671 epoch 1 - iter 11/19 - loss 0.36230202 - time (sec): 5.02 - samples/sec: 70.12 - lr: 0.034386 - momentum: 0.000000\n",
            "2025-05-01 08:30:21,132 epoch 1 - iter 12/19 - loss 0.34357950 - time (sec): 5.48 - samples/sec: 70.07 - lr: 0.034386 - momentum: 0.000000\n",
            "2025-05-01 08:30:21,551 epoch 1 - iter 13/19 - loss 0.31766226 - time (sec): 5.90 - samples/sec: 70.51 - lr: 0.034386 - momentum: 0.000000\n",
            "2025-05-01 08:30:21,967 epoch 1 - iter 14/19 - loss 0.30784967 - time (sec): 6.31 - samples/sec: 70.94 - lr: 0.034386 - momentum: 0.000000\n",
            "2025-05-01 08:30:22,359 epoch 1 - iter 15/19 - loss 0.29801186 - time (sec): 6.71 - samples/sec: 71.56 - lr: 0.034386 - momentum: 0.000000\n",
            "2025-05-01 08:30:22,785 epoch 1 - iter 16/19 - loss 0.28686448 - time (sec): 7.13 - samples/sec: 71.78 - lr: 0.034386 - momentum: 0.000000\n",
            "2025-05-01 08:30:23,243 epoch 1 - iter 17/19 - loss 0.28692949 - time (sec): 7.59 - samples/sec: 71.66 - lr: 0.034386 - momentum: 0.000000\n",
            "2025-05-01 08:30:23,722 epoch 1 - iter 18/19 - loss 0.27132189 - time (sec): 8.07 - samples/sec: 71.37 - lr: 0.034386 - momentum: 0.000000\n",
            "2025-05-01 08:30:24,127 epoch 1 - iter 19/19 - loss 0.25923521 - time (sec): 8.48 - samples/sec: 71.26 - lr: 0.034386 - momentum: 0.000000\n",
            "2025-05-01 08:30:24,129 ----------------------------------------------------------------------------------------------------\n",
            "2025-05-01 08:30:24,130 EPOCH 1 done: loss 0.2592 - lr: 0.034386\n"
          ]
        },
        {
          "output_type": "stream",
          "name": "stderr",
          "text": [
            "100%|██████████| 3/3 [00:01<00:00,  2.57it/s]\n"
          ]
        },
        {
          "output_type": "stream",
          "name": "stdout",
          "text": [
            "2025-05-01 08:30:25,324 DEV : loss 0.046674590557813644 - f1-score (micro avg)  0.994\n",
            "2025-05-01 08:30:25,363  - 0 epochs without improvement\n",
            "2025-05-01 08:30:25,364 saving best model\n",
            "2025-05-01 08:30:26,549 ----------------------------------------------------------------------------------------------------\n",
            "2025-05-01 08:30:26,750 epoch 2 - iter 1/19 - loss 0.00485538 - time (sec): 0.20 - samples/sec: 161.59 - lr: 0.034386 - momentum: 0.000000\n",
            "2025-05-01 08:30:27,189 epoch 2 - iter 2/19 - loss 0.00428231 - time (sec): 0.64 - samples/sec: 100.57 - lr: 0.034386 - momentum: 0.000000\n",
            "2025-05-01 08:30:27,648 epoch 2 - iter 3/19 - loss 0.00356024 - time (sec): 1.10 - samples/sec: 87.64 - lr: 0.034386 - momentum: 0.000000\n",
            "2025-05-01 08:30:28,212 epoch 2 - iter 4/19 - loss 0.00385471 - time (sec): 1.66 - samples/sec: 77.13 - lr: 0.034386 - momentum: 0.000000\n",
            "2025-05-01 08:30:28,699 epoch 2 - iter 5/19 - loss 0.00395843 - time (sec): 2.15 - samples/sec: 74.54 - lr: 0.034386 - momentum: 0.000000\n",
            "2025-05-01 08:30:29,130 epoch 2 - iter 6/19 - loss 0.09202442 - time (sec): 2.58 - samples/sec: 74.49 - lr: 0.034386 - momentum: 0.000000\n",
            "2025-05-01 08:30:29,616 epoch 2 - iter 7/19 - loss 0.08014765 - time (sec): 3.06 - samples/sec: 73.12 - lr: 0.034386 - momentum: 0.000000\n",
            "2025-05-01 08:30:30,123 epoch 2 - iter 8/19 - loss 0.07053018 - time (sec): 3.57 - samples/sec: 71.70 - lr: 0.034386 - momentum: 0.000000\n",
            "2025-05-01 08:30:30,596 epoch 2 - iter 9/19 - loss 0.06413568 - time (sec): 4.04 - samples/sec: 71.22 - lr: 0.034386 - momentum: 0.000000\n",
            "2025-05-01 08:30:31,118 epoch 2 - iter 10/19 - loss 0.07558939 - time (sec): 4.57 - samples/sec: 70.09 - lr: 0.034386 - momentum: 0.000000\n",
            "2025-05-01 08:30:31,602 epoch 2 - iter 11/19 - loss 0.06887583 - time (sec): 5.05 - samples/sec: 69.71 - lr: 0.034386 - momentum: 0.000000\n",
            "2025-05-01 08:30:32,077 epoch 2 - iter 12/19 - loss 0.06547963 - time (sec): 5.53 - samples/sec: 69.50 - lr: 0.034386 - momentum: 0.000000\n",
            "2025-05-01 08:30:32,546 epoch 2 - iter 13/19 - loss 0.06106996 - time (sec): 5.99 - samples/sec: 69.40 - lr: 0.034386 - momentum: 0.000000\n",
            "2025-05-01 08:30:33,006 epoch 2 - iter 14/19 - loss 0.05677064 - time (sec): 6.45 - samples/sec: 69.42 - lr: 0.034386 - momentum: 0.000000\n",
            "2025-05-01 08:30:33,532 epoch 2 - iter 15/19 - loss 0.05301837 - time (sec): 6.98 - samples/sec: 68.78 - lr: 0.034386 - momentum: 0.000000\n",
            "2025-05-01 08:30:33,970 epoch 2 - iter 16/19 - loss 0.05642540 - time (sec): 7.42 - samples/sec: 69.02 - lr: 0.034386 - momentum: 0.000000\n",
            "2025-05-01 08:30:34,437 epoch 2 - iter 17/19 - loss 0.05378914 - time (sec): 7.88 - samples/sec: 69.00 - lr: 0.034386 - momentum: 0.000000\n",
            "2025-05-01 08:30:34,890 epoch 2 - iter 18/19 - loss 0.05109724 - time (sec): 8.34 - samples/sec: 69.08 - lr: 0.034386 - momentum: 0.000000\n",
            "2025-05-01 08:30:35,356 epoch 2 - iter 19/19 - loss 0.04948282 - time (sec): 8.80 - samples/sec: 68.61 - lr: 0.034386 - momentum: 0.000000\n",
            "2025-05-01 08:30:35,357 ----------------------------------------------------------------------------------------------------\n",
            "2025-05-01 08:30:35,358 EPOCH 2 done: loss 0.0495 - lr: 0.034386\n"
          ]
        },
        {
          "output_type": "stream",
          "name": "stderr",
          "text": [
            "100%|██████████| 3/3 [00:01<00:00,  2.36it/s]\n"
          ]
        },
        {
          "output_type": "stream",
          "name": "stdout",
          "text": [
            "2025-05-01 08:30:36,660 DEV : loss 0.01710347831249237 - f1-score (micro avg)  0.994\n",
            "2025-05-01 08:30:36,696  - 0 epochs without improvement\n",
            "2025-05-01 08:30:36,697 ----------------------------------------------------------------------------------------------------\n",
            "2025-05-01 08:30:36,859 epoch 3 - iter 1/19 - loss 0.00069708 - time (sec): 0.16 - samples/sec: 200.14 - lr: 0.034386 - momentum: 0.000000\n",
            "2025-05-01 08:30:37,316 epoch 3 - iter 2/19 - loss 0.00228708 - time (sec): 0.62 - samples/sec: 103.76 - lr: 0.034386 - momentum: 0.000000\n",
            "2025-05-01 08:30:37,844 epoch 3 - iter 3/19 - loss 0.02592573 - time (sec): 1.14 - samples/sec: 83.86 - lr: 0.034386 - momentum: 0.000000\n",
            "2025-05-01 08:30:38,253 epoch 3 - iter 4/19 - loss 0.01948653 - time (sec): 1.55 - samples/sec: 82.40 - lr: 0.034386 - momentum: 0.000000\n",
            "2025-05-01 08:30:38,756 epoch 3 - iter 5/19 - loss 0.03006742 - time (sec): 2.06 - samples/sec: 77.81 - lr: 0.034386 - momentum: 0.000000\n",
            "2025-05-01 08:30:39,316 epoch 3 - iter 6/19 - loss 0.02527067 - time (sec): 2.62 - samples/sec: 73.37 - lr: 0.034386 - momentum: 0.000000\n",
            "2025-05-01 08:30:39,782 epoch 3 - iter 7/19 - loss 0.02782119 - time (sec): 3.08 - samples/sec: 72.66 - lr: 0.034386 - momentum: 0.000000\n",
            "2025-05-01 08:30:40,178 epoch 3 - iter 8/19 - loss 0.02458253 - time (sec): 3.48 - samples/sec: 73.59 - lr: 0.034386 - momentum: 0.000000\n",
            "2025-05-01 08:30:40,622 epoch 3 - iter 9/19 - loss 0.02189537 - time (sec): 3.92 - samples/sec: 73.43 - lr: 0.034386 - momentum: 0.000000\n",
            "2025-05-01 08:30:41,059 epoch 3 - iter 10/19 - loss 0.01972075 - time (sec): 4.36 - samples/sec: 73.39 - lr: 0.034386 - momentum: 0.000000\n",
            "2025-05-01 08:30:41,518 epoch 3 - iter 11/19 - loss 0.01810652 - time (sec): 4.82 - samples/sec: 73.05 - lr: 0.034386 - momentum: 0.000000\n",
            "2025-05-01 08:30:42,082 epoch 3 - iter 12/19 - loss 0.01662464 - time (sec): 5.38 - samples/sec: 71.35 - lr: 0.034386 - momentum: 0.000000\n",
            "2025-05-01 08:30:42,531 epoch 3 - iter 13/19 - loss 0.01540622 - time (sec): 5.83 - samples/sec: 71.34 - lr: 0.034386 - momentum: 0.000000\n",
            "2025-05-01 08:30:42,938 epoch 3 - iter 14/19 - loss 0.01466432 - time (sec): 6.24 - samples/sec: 71.81 - lr: 0.034386 - momentum: 0.000000\n",
            "2025-05-01 08:30:43,378 epoch 3 - iter 15/19 - loss 0.01470635 - time (sec): 6.68 - samples/sec: 71.87 - lr: 0.034386 - momentum: 0.000000\n",
            "2025-05-01 08:30:43,820 epoch 3 - iter 16/19 - loss 0.03602372 - time (sec): 7.12 - samples/sec: 71.91 - lr: 0.034386 - momentum: 0.000000\n",
            "2025-05-01 08:30:44,199 epoch 3 - iter 17/19 - loss 0.03844327 - time (sec): 7.50 - samples/sec: 72.54 - lr: 0.034386 - momentum: 0.000000\n",
            "2025-05-01 08:30:44,632 epoch 3 - iter 18/19 - loss 0.04427457 - time (sec): 7.93 - samples/sec: 72.61 - lr: 0.034386 - momentum: 0.000000\n",
            "2025-05-01 08:30:45,121 epoch 3 - iter 19/19 - loss 0.04534013 - time (sec): 8.42 - samples/sec: 71.72 - lr: 0.034386 - momentum: 0.000000\n",
            "2025-05-01 08:30:45,125 ----------------------------------------------------------------------------------------------------\n",
            "2025-05-01 08:30:45,126 EPOCH 3 done: loss 0.0453 - lr: 0.034386\n"
          ]
        },
        {
          "output_type": "stream",
          "name": "stderr",
          "text": [
            "100%|██████████| 3/3 [00:01<00:00,  2.61it/s]\n"
          ]
        },
        {
          "output_type": "stream",
          "name": "stdout",
          "text": [
            "2025-05-01 08:30:46,305 DEV : loss 0.030147235840559006 - f1-score (micro avg)  0.994\n",
            "2025-05-01 08:30:46,359  - 1 epochs without improvement\n",
            "2025-05-01 08:30:46,361 ----------------------------------------------------------------------------------------------------\n",
            "2025-05-01 08:30:46,564 epoch 4 - iter 1/19 - loss 0.03683906 - time (sec): 0.20 - samples/sec: 159.40 - lr: 0.034386 - momentum: 0.000000\n",
            "2025-05-01 08:30:47,031 epoch 4 - iter 2/19 - loss 0.02264819 - time (sec): 0.67 - samples/sec: 95.81 - lr: 0.034386 - momentum: 0.000000\n",
            "2025-05-01 08:30:47,543 epoch 4 - iter 3/19 - loss 0.02130382 - time (sec): 1.18 - samples/sec: 81.36 - lr: 0.034386 - momentum: 0.000000\n",
            "2025-05-01 08:30:48,054 epoch 4 - iter 4/19 - loss 0.05409891 - time (sec): 1.69 - samples/sec: 75.68 - lr: 0.034386 - momentum: 0.000000\n",
            "2025-05-01 08:30:48,617 epoch 4 - iter 5/19 - loss 0.04454742 - time (sec): 2.25 - samples/sec: 70.98 - lr: 0.034386 - momentum: 0.000000\n",
            "2025-05-01 08:30:49,136 epoch 4 - iter 6/19 - loss 0.03733680 - time (sec): 2.77 - samples/sec: 69.25 - lr: 0.034386 - momentum: 0.000000\n",
            "2025-05-01 08:30:49,644 epoch 4 - iter 7/19 - loss 0.04068517 - time (sec): 3.28 - samples/sec: 68.27 - lr: 0.034386 - momentum: 0.000000\n",
            "2025-05-01 08:30:49,997 epoch 4 - iter 8/19 - loss 0.03563029 - time (sec): 3.63 - samples/sec: 70.45 - lr: 0.034386 - momentum: 0.000000\n",
            "2025-05-01 08:30:50,314 epoch 4 - iter 9/19 - loss 0.03344439 - time (sec): 3.95 - samples/sec: 72.90 - lr: 0.034386 - momentum: 0.000000\n",
            "2025-05-01 08:30:50,709 epoch 4 - iter 10/19 - loss 0.03713079 - time (sec): 4.35 - samples/sec: 73.63 - lr: 0.034386 - momentum: 0.000000\n",
            "2025-05-01 08:30:51,133 epoch 4 - iter 11/19 - loss 0.03465713 - time (sec): 4.77 - samples/sec: 73.79 - lr: 0.034386 - momentum: 0.000000\n",
            "2025-05-01 08:30:51,611 epoch 4 - iter 12/19 - loss 0.03178599 - time (sec): 5.25 - samples/sec: 73.17 - lr: 0.034386 - momentum: 0.000000\n",
            "2025-05-01 08:30:52,168 epoch 4 - iter 13/19 - loss 0.05254647 - time (sec): 5.80 - samples/sec: 71.66 - lr: 0.034386 - momentum: 0.000000\n",
            "2025-05-01 08:30:52,600 epoch 4 - iter 14/19 - loss 0.05522203 - time (sec): 6.24 - samples/sec: 71.83 - lr: 0.034386 - momentum: 0.000000\n",
            "2025-05-01 08:30:53,050 epoch 4 - iter 15/19 - loss 0.05161756 - time (sec): 6.69 - samples/sec: 71.78 - lr: 0.034386 - momentum: 0.000000\n",
            "2025-05-01 08:30:53,508 epoch 4 - iter 16/19 - loss 0.06102082 - time (sec): 7.14 - samples/sec: 71.66 - lr: 0.034386 - momentum: 0.000000\n",
            "2025-05-01 08:30:53,980 epoch 4 - iter 17/19 - loss 0.05768921 - time (sec): 7.62 - samples/sec: 71.42 - lr: 0.034386 - momentum: 0.000000\n",
            "2025-05-01 08:30:54,556 epoch 4 - iter 18/19 - loss 0.05451288 - time (sec): 8.19 - samples/sec: 70.31 - lr: 0.034386 - momentum: 0.000000\n",
            "2025-05-01 08:30:55,042 epoch 4 - iter 19/19 - loss 0.05204785 - time (sec): 8.68 - samples/sec: 69.60 - lr: 0.034386 - momentum: 0.000000\n",
            "2025-05-01 08:30:55,043 ----------------------------------------------------------------------------------------------------\n",
            "2025-05-01 08:30:55,044 EPOCH 4 done: loss 0.0520 - lr: 0.034386\n"
          ]
        },
        {
          "output_type": "stream",
          "name": "stderr",
          "text": [
            "100%|██████████| 3/3 [00:01<00:00,  2.39it/s]\n"
          ]
        },
        {
          "output_type": "stream",
          "name": "stdout",
          "text": [
            "2025-05-01 08:30:56,327 DEV : loss 0.02158508263528347 - f1-score (micro avg)  0.994\n",
            "2025-05-01 08:30:56,392  - 2 epochs without improvement\n",
            "2025-05-01 08:30:56,397 ----------------------------------------------------------------------------------------------------\n",
            "2025-05-01 08:30:56,597 epoch 5 - iter 1/19 - loss 0.00113403 - time (sec): 0.20 - samples/sec: 162.04 - lr: 0.034386 - momentum: 0.000000\n",
            "2025-05-01 08:30:57,081 epoch 5 - iter 2/19 - loss 0.00150837 - time (sec): 0.68 - samples/sec: 93.86 - lr: 0.034386 - momentum: 0.000000\n",
            "2025-05-01 08:30:57,514 epoch 5 - iter 3/19 - loss 0.01452713 - time (sec): 1.11 - samples/sec: 86.11 - lr: 0.034386 - momentum: 0.000000\n",
            "2025-05-01 08:30:57,967 epoch 5 - iter 4/19 - loss 0.01092694 - time (sec): 1.57 - samples/sec: 81.62 - lr: 0.034386 - momentum: 0.000000\n",
            "2025-05-01 08:30:58,513 epoch 5 - iter 5/19 - loss 0.02029132 - time (sec): 2.11 - samples/sec: 75.71 - lr: 0.034386 - momentum: 0.000000\n",
            "2025-05-01 08:30:58,981 epoch 5 - iter 6/19 - loss 0.01717449 - time (sec): 2.58 - samples/sec: 74.37 - lr: 0.034386 - momentum: 0.000000\n",
            "2025-05-01 08:30:59,554 epoch 5 - iter 7/19 - loss 0.01475571 - time (sec): 3.15 - samples/sec: 71.00 - lr: 0.034386 - momentum: 0.000000\n",
            "2025-05-01 08:31:00,075 epoch 5 - iter 8/19 - loss 0.01295559 - time (sec): 3.68 - samples/sec: 69.65 - lr: 0.034386 - momentum: 0.000000\n",
            "2025-05-01 08:31:00,505 epoch 5 - iter 9/19 - loss 0.04609466 - time (sec): 4.11 - samples/sec: 70.15 - lr: 0.034386 - momentum: 0.000000\n",
            "2025-05-01 08:31:01,013 epoch 5 - iter 10/19 - loss 0.04709352 - time (sec): 4.61 - samples/sec: 69.36 - lr: 0.034386 - momentum: 0.000000\n",
            "2025-05-01 08:31:01,488 epoch 5 - iter 11/19 - loss 0.04289825 - time (sec): 5.09 - samples/sec: 69.18 - lr: 0.034386 - momentum: 0.000000\n",
            "2025-05-01 08:31:01,842 epoch 5 - iter 12/19 - loss 0.03933119 - time (sec): 5.44 - samples/sec: 70.56 - lr: 0.034386 - momentum: 0.000000\n",
            "2025-05-01 08:31:02,194 epoch 5 - iter 13/19 - loss 0.03631986 - time (sec): 5.79 - samples/sec: 71.79 - lr: 0.034386 - momentum: 0.000000\n",
            "2025-05-01 08:31:02,633 epoch 5 - iter 14/19 - loss 0.03380366 - time (sec): 6.23 - samples/sec: 71.87 - lr: 0.034386 - momentum: 0.000000\n",
            "2025-05-01 08:31:03,081 epoch 5 - iter 15/19 - loss 0.03163497 - time (sec): 6.68 - samples/sec: 71.84 - lr: 0.034386 - momentum: 0.000000\n",
            "2025-05-01 08:31:03,526 epoch 5 - iter 16/19 - loss 0.02969052 - time (sec): 7.13 - samples/sec: 71.84 - lr: 0.034386 - momentum: 0.000000\n",
            "2025-05-01 08:31:04,011 epoch 5 - iter 17/19 - loss 0.02795294 - time (sec): 7.61 - samples/sec: 71.47 - lr: 0.034386 - momentum: 0.000000\n",
            "2025-05-01 08:31:04,438 epoch 5 - iter 18/19 - loss 0.02641228 - time (sec): 8.04 - samples/sec: 71.65 - lr: 0.034386 - momentum: 0.000000\n",
            "2025-05-01 08:31:04,925 epoch 5 - iter 19/19 - loss 0.02524524 - time (sec): 8.53 - samples/sec: 70.84 - lr: 0.034386 - momentum: 0.000000\n",
            "2025-05-01 08:31:04,926 ----------------------------------------------------------------------------------------------------\n",
            "2025-05-01 08:31:04,928 EPOCH 5 done: loss 0.0252 - lr: 0.034386\n"
          ]
        },
        {
          "output_type": "stream",
          "name": "stderr",
          "text": [
            "100%|██████████| 3/3 [00:01<00:00,  2.34it/s]\n"
          ]
        },
        {
          "output_type": "stream",
          "name": "stdout",
          "text": [
            "2025-05-01 08:31:06,239 DEV : loss 0.008678393438458443 - f1-score (micro avg)  0.994\n",
            "2025-05-01 08:31:06,279  - 0 epochs without improvement\n",
            "2025-05-01 08:31:06,280 ----------------------------------------------------------------------------------------------------\n",
            "2025-05-01 08:31:06,456 epoch 6 - iter 1/19 - loss 0.00039709 - time (sec): 0.17 - samples/sec: 184.06 - lr: 0.034386 - momentum: 0.000000\n",
            "2025-05-01 08:31:06,913 epoch 6 - iter 2/19 - loss 0.00038176 - time (sec): 0.63 - samples/sec: 101.50 - lr: 0.034386 - momentum: 0.000000\n",
            "2025-05-01 08:31:07,449 epoch 6 - iter 3/19 - loss 0.00106342 - time (sec): 1.17 - samples/sec: 82.25 - lr: 0.034386 - momentum: 0.000000\n",
            "2025-05-01 08:31:07,844 epoch 6 - iter 4/19 - loss 0.03552643 - time (sec): 1.56 - samples/sec: 81.96 - lr: 0.034386 - momentum: 0.000000\n",
            "2025-05-01 08:31:08,313 epoch 6 - iter 5/19 - loss 0.02845818 - time (sec): 2.03 - samples/sec: 78.81 - lr: 0.034386 - momentum: 0.000000\n",
            "2025-05-01 08:31:08,842 epoch 6 - iter 6/19 - loss 0.02372299 - time (sec): 2.56 - samples/sec: 75.01 - lr: 0.034386 - momentum: 0.000000\n",
            "2025-05-01 08:31:09,369 epoch 6 - iter 7/19 - loss 0.02264428 - time (sec): 3.09 - samples/sec: 72.57 - lr: 0.034386 - momentum: 0.000000\n",
            "2025-05-01 08:31:09,827 epoch 6 - iter 8/19 - loss 0.02009826 - time (sec): 3.54 - samples/sec: 72.22 - lr: 0.034386 - momentum: 0.000000\n",
            "2025-05-01 08:31:10,301 epoch 6 - iter 9/19 - loss 0.01876765 - time (sec): 4.02 - samples/sec: 71.67 - lr: 0.034386 - momentum: 0.000000\n",
            "2025-05-01 08:31:10,825 epoch 6 - iter 10/19 - loss 0.01690060 - time (sec): 4.54 - samples/sec: 70.44 - lr: 0.034386 - momentum: 0.000000\n",
            "2025-05-01 08:31:11,336 epoch 6 - iter 11/19 - loss 0.01544675 - time (sec): 5.05 - samples/sec: 69.65 - lr: 0.034386 - momentum: 0.000000\n",
            "2025-05-01 08:31:11,812 epoch 6 - iter 12/19 - loss 0.01417654 - time (sec): 5.53 - samples/sec: 69.44 - lr: 0.034386 - momentum: 0.000000\n",
            "2025-05-01 08:31:12,214 epoch 6 - iter 13/19 - loss 0.01309946 - time (sec): 5.93 - samples/sec: 70.13 - lr: 0.034386 - momentum: 0.000000\n",
            "2025-05-01 08:31:12,611 epoch 6 - iter 14/19 - loss 0.01227709 - time (sec): 6.33 - samples/sec: 70.79 - lr: 0.034386 - momentum: 0.000000\n",
            "2025-05-01 08:31:12,971 epoch 6 - iter 15/19 - loss 0.01146173 - time (sec): 6.69 - samples/sec: 71.76 - lr: 0.034386 - momentum: 0.000000\n",
            "2025-05-01 08:31:13,316 epoch 6 - iter 16/19 - loss 0.01078322 - time (sec): 7.03 - samples/sec: 72.79 - lr: 0.034386 - momentum: 0.000000\n",
            "2025-05-01 08:31:13,735 epoch 6 - iter 17/19 - loss 0.01041840 - time (sec): 7.45 - samples/sec: 72.99 - lr: 0.034386 - momentum: 0.000000\n",
            "2025-05-01 08:31:14,210 epoch 6 - iter 18/19 - loss 0.01080394 - time (sec): 7.93 - samples/sec: 72.66 - lr: 0.034386 - momentum: 0.000000\n",
            "2025-05-01 08:31:14,668 epoch 6 - iter 19/19 - loss 0.02885210 - time (sec): 8.39 - samples/sec: 72.03 - lr: 0.034386 - momentum: 0.000000\n",
            "2025-05-01 08:31:14,669 ----------------------------------------------------------------------------------------------------\n",
            "2025-05-01 08:31:14,670 EPOCH 6 done: loss 0.0289 - lr: 0.034386\n"
          ]
        },
        {
          "output_type": "stream",
          "name": "stderr",
          "text": [
            "100%|██████████| 3/3 [00:01<00:00,  2.50it/s]\n"
          ]
        },
        {
          "output_type": "stream",
          "name": "stdout",
          "text": [
            "2025-05-01 08:31:15,897 DEV : loss 0.054248496890068054 - f1-score (micro avg)  0.988\n",
            "2025-05-01 08:31:15,937  - 1 epochs without improvement\n",
            "2025-05-01 08:31:15,938 ----------------------------------------------------------------------------------------------------\n",
            "2025-05-01 08:31:16,173 epoch 7 - iter 1/19 - loss 0.02126423 - time (sec): 0.23 - samples/sec: 138.85 - lr: 0.034386 - momentum: 0.000000\n",
            "2025-05-01 08:31:16,669 epoch 7 - iter 2/19 - loss 0.03077473 - time (sec): 0.73 - samples/sec: 88.09 - lr: 0.034386 - momentum: 0.000000\n",
            "2025-05-01 08:31:17,129 epoch 7 - iter 3/19 - loss 0.12677147 - time (sec): 1.19 - samples/sec: 80.88 - lr: 0.034386 - momentum: 0.000000\n",
            "2025-05-01 08:31:17,682 epoch 7 - iter 4/19 - loss 0.09628773 - time (sec): 1.74 - samples/sec: 73.60 - lr: 0.034386 - momentum: 0.000000\n",
            "2025-05-01 08:31:18,174 epoch 7 - iter 5/19 - loss 0.07747107 - time (sec): 2.23 - samples/sec: 71.70 - lr: 0.034386 - momentum: 0.000000\n",
            "2025-05-01 08:31:18,599 epoch 7 - iter 6/19 - loss 0.06456791 - time (sec): 2.66 - samples/sec: 72.27 - lr: 0.034386 - momentum: 0.000000\n",
            "2025-05-01 08:31:18,987 epoch 7 - iter 7/19 - loss 0.05538545 - time (sec): 3.04 - samples/sec: 73.59 - lr: 0.034386 - momentum: 0.000000\n",
            "2025-05-01 08:31:19,367 epoch 7 - iter 8/19 - loss 0.04847411 - time (sec): 3.42 - samples/sec: 74.76 - lr: 0.034386 - momentum: 0.000000\n",
            "2025-05-01 08:31:19,765 epoch 7 - iter 9/19 - loss 0.04309998 - time (sec): 3.82 - samples/sec: 75.35 - lr: 0.034386 - momentum: 0.000000\n",
            "2025-05-01 08:31:20,242 epoch 7 - iter 10/19 - loss 0.03879351 - time (sec): 4.30 - samples/sec: 74.42 - lr: 0.034386 - momentum: 0.000000\n",
            "2025-05-01 08:31:20,687 epoch 7 - iter 11/19 - loss 0.03580232 - time (sec): 4.74 - samples/sec: 74.19 - lr: 0.034386 - momentum: 0.000000\n",
            "2025-05-01 08:31:21,032 epoch 7 - iter 12/19 - loss 0.03287521 - time (sec): 5.09 - samples/sec: 75.45 - lr: 0.034386 - momentum: 0.000000\n",
            "2025-05-01 08:31:21,411 epoch 7 - iter 13/19 - loss 0.03036507 - time (sec): 5.47 - samples/sec: 76.07 - lr: 0.034386 - momentum: 0.000000\n",
            "2025-05-01 08:31:21,785 epoch 7 - iter 14/19 - loss 0.02820822 - time (sec): 5.84 - samples/sec: 76.68 - lr: 0.034386 - momentum: 0.000000\n",
            "2025-05-01 08:31:22,247 epoch 7 - iter 15/19 - loss 0.02633760 - time (sec): 6.30 - samples/sec: 76.13 - lr: 0.034386 - momentum: 0.000000\n",
            "2025-05-01 08:31:22,722 epoch 7 - iter 16/19 - loss 0.02572695 - time (sec): 6.78 - samples/sec: 75.53 - lr: 0.034386 - momentum: 0.000000\n",
            "2025-05-01 08:31:23,124 epoch 7 - iter 17/19 - loss 0.02565737 - time (sec): 7.18 - samples/sec: 75.75 - lr: 0.034386 - momentum: 0.000000\n",
            "2025-05-01 08:31:23,612 epoch 7 - iter 18/19 - loss 0.02511076 - time (sec): 7.67 - samples/sec: 75.10 - lr: 0.034386 - momentum: 0.000000\n",
            "2025-05-01 08:31:24,141 epoch 7 - iter 19/19 - loss 0.02397119 - time (sec): 8.20 - samples/sec: 73.67 - lr: 0.034386 - momentum: 0.000000\n",
            "2025-05-01 08:31:24,144 ----------------------------------------------------------------------------------------------------\n",
            "2025-05-01 08:31:24,145 EPOCH 7 done: loss 0.0240 - lr: 0.034386\n"
          ]
        },
        {
          "output_type": "stream",
          "name": "stderr",
          "text": [
            "100%|██████████| 3/3 [00:01<00:00,  2.35it/s]\n"
          ]
        },
        {
          "output_type": "stream",
          "name": "stdout",
          "text": [
            "2025-05-01 08:31:25,455 DEV : loss 0.0019622219260782003 - f1-score (micro avg)  1.0\n",
            "2025-05-01 08:31:25,496  - 0 epochs without improvement\n",
            "2025-05-01 08:31:25,497 saving best model\n",
            "2025-05-01 08:31:26,757 ----------------------------------------------------------------------------------------------------\n",
            "2025-05-01 08:31:26,989 epoch 8 - iter 1/19 - loss 0.18693200 - time (sec): 0.22 - samples/sec: 142.81 - lr: 0.034386 - momentum: 0.000000\n",
            "2025-05-01 08:31:27,491 epoch 8 - iter 2/19 - loss 0.09349068 - time (sec): 0.73 - samples/sec: 88.08 - lr: 0.034386 - momentum: 0.000000\n",
            "2025-05-01 08:31:27,949 epoch 8 - iter 3/19 - loss 0.06235355 - time (sec): 1.18 - samples/sec: 81.05 - lr: 0.034386 - momentum: 0.000000\n",
            "2025-05-01 08:31:28,480 epoch 8 - iter 4/19 - loss 0.04762896 - time (sec): 1.72 - samples/sec: 74.63 - lr: 0.034386 - momentum: 0.000000\n",
            "2025-05-01 08:31:28,931 epoch 8 - iter 5/19 - loss 0.03812908 - time (sec): 2.17 - samples/sec: 73.84 - lr: 0.034386 - momentum: 0.000000\n",
            "2025-05-01 08:31:29,303 epoch 8 - iter 6/19 - loss 0.03194353 - time (sec): 2.54 - samples/sec: 75.64 - lr: 0.034386 - momentum: 0.000000\n",
            "2025-05-01 08:31:29,677 epoch 8 - iter 7/19 - loss 0.02739022 - time (sec): 2.91 - samples/sec: 76.90 - lr: 0.034386 - momentum: 0.000000\n",
            "2025-05-01 08:31:30,097 epoch 8 - iter 8/19 - loss 0.02397699 - time (sec): 3.33 - samples/sec: 76.81 - lr: 0.034386 - momentum: 0.000000\n",
            "2025-05-01 08:31:30,531 epoch 8 - iter 9/19 - loss 0.03436592 - time (sec): 3.77 - samples/sec: 76.46 - lr: 0.034386 - momentum: 0.000000\n",
            "2025-05-01 08:31:31,025 epoch 8 - iter 10/19 - loss 0.03095912 - time (sec): 4.26 - samples/sec: 75.10 - lr: 0.034386 - momentum: 0.000000\n",
            "2025-05-01 08:31:31,438 epoch 8 - iter 11/19 - loss 0.02815411 - time (sec): 4.67 - samples/sec: 75.31 - lr: 0.034386 - momentum: 0.000000\n",
            "2025-05-01 08:31:31,836 epoch 8 - iter 12/19 - loss 0.02582713 - time (sec): 5.07 - samples/sec: 75.71 - lr: 0.034386 - momentum: 0.000000\n",
            "2025-05-01 08:31:32,216 epoch 8 - iter 13/19 - loss 0.02384366 - time (sec): 5.45 - samples/sec: 76.30 - lr: 0.034386 - momentum: 0.000000\n",
            "2025-05-01 08:31:32,635 epoch 8 - iter 14/19 - loss 0.02215063 - time (sec): 5.87 - samples/sec: 76.32 - lr: 0.034386 - momentum: 0.000000\n",
            "2025-05-01 08:31:33,120 epoch 8 - iter 15/19 - loss 0.02067667 - time (sec): 6.36 - samples/sec: 75.52 - lr: 0.034386 - momentum: 0.000000\n",
            "2025-05-01 08:31:33,671 epoch 8 - iter 16/19 - loss 0.01938948 - time (sec): 6.91 - samples/sec: 74.13 - lr: 0.034386 - momentum: 0.000000\n",
            "2025-05-01 08:31:34,134 epoch 8 - iter 17/19 - loss 0.01826527 - time (sec): 7.37 - samples/sec: 73.81 - lr: 0.034386 - momentum: 0.000000\n",
            "2025-05-01 08:31:34,619 epoch 8 - iter 18/19 - loss 0.01876867 - time (sec): 7.85 - samples/sec: 73.33 - lr: 0.034386 - momentum: 0.000000\n",
            "2025-05-01 08:31:35,098 epoch 8 - iter 19/19 - loss 0.01790357 - time (sec): 8.33 - samples/sec: 72.48 - lr: 0.034386 - momentum: 0.000000\n",
            "2025-05-01 08:31:35,099 ----------------------------------------------------------------------------------------------------\n",
            "2025-05-01 08:31:35,102 EPOCH 8 done: loss 0.0179 - lr: 0.034386\n"
          ]
        },
        {
          "output_type": "stream",
          "name": "stderr",
          "text": [
            "100%|██████████| 3/3 [00:01<00:00,  2.61it/s]"
          ]
        },
        {
          "output_type": "stream",
          "name": "stdout",
          "text": [
            "2025-05-01 08:31:36,288 DEV : loss 0.003871581284329295 - f1-score (micro avg)  1.0\n",
            "2025-05-01 08:31:36,362  - 1 epochs without improvement\n",
            "2025-05-01 08:31:36,363 ----------------------------------------------------------------------------------------------------\n"
          ]
        },
        {
          "output_type": "stream",
          "name": "stderr",
          "text": [
            "\n"
          ]
        },
        {
          "output_type": "stream",
          "name": "stdout",
          "text": [
            "2025-05-01 08:31:36,588 epoch 9 - iter 1/19 - loss 0.00100163 - time (sec): 0.22 - samples/sec: 145.20 - lr: 0.034386 - momentum: 0.000000\n",
            "2025-05-01 08:31:37,086 epoch 9 - iter 2/19 - loss 0.00051402 - time (sec): 0.72 - samples/sec: 89.13 - lr: 0.034386 - momentum: 0.000000\n",
            "2025-05-01 08:31:37,589 epoch 9 - iter 3/19 - loss 0.00035739 - time (sec): 1.22 - samples/sec: 78.61 - lr: 0.034386 - momentum: 0.000000\n",
            "2025-05-01 08:31:38,058 epoch 9 - iter 4/19 - loss 0.00033963 - time (sec): 1.69 - samples/sec: 75.74 - lr: 0.034386 - momentum: 0.000000\n",
            "2025-05-01 08:31:38,537 epoch 9 - iter 5/19 - loss 0.00033105 - time (sec): 2.17 - samples/sec: 73.76 - lr: 0.034386 - momentum: 0.000000\n",
            "2025-05-01 08:31:38,897 epoch 9 - iter 6/19 - loss 0.05452106 - time (sec): 2.53 - samples/sec: 75.91 - lr: 0.034386 - momentum: 0.000000\n",
            "2025-05-01 08:31:39,387 epoch 9 - iter 7/19 - loss 0.04673679 - time (sec): 3.02 - samples/sec: 74.21 - lr: 0.034386 - momentum: 0.000000\n",
            "2025-05-01 08:31:39,822 epoch 9 - iter 8/19 - loss 0.04089761 - time (sec): 3.45 - samples/sec: 74.11 - lr: 0.034386 - momentum: 0.000000\n",
            "2025-05-01 08:31:40,291 epoch 9 - iter 9/19 - loss 0.03637061 - time (sec): 3.92 - samples/sec: 73.42 - lr: 0.034386 - momentum: 0.000000\n",
            "2025-05-01 08:31:40,851 epoch 9 - iter 10/19 - loss 0.03273514 - time (sec): 4.48 - samples/sec: 71.39 - lr: 0.034386 - momentum: 0.000000\n",
            "2025-05-01 08:31:41,363 epoch 9 - iter 11/19 - loss 0.02976123 - time (sec): 4.99 - samples/sec: 70.48 - lr: 0.034386 - momentum: 0.000000\n",
            "2025-05-01 08:31:41,745 epoch 9 - iter 12/19 - loss 0.02728324 - time (sec): 5.38 - samples/sec: 71.42 - lr: 0.034386 - momentum: 0.000000\n",
            "2025-05-01 08:31:42,187 epoch 9 - iter 13/19 - loss 0.02518926 - time (sec): 5.82 - samples/sec: 71.49 - lr: 0.034386 - momentum: 0.000000\n",
            "2025-05-01 08:31:42,661 epoch 9 - iter 14/19 - loss 0.02339290 - time (sec): 6.29 - samples/sec: 71.19 - lr: 0.034386 - momentum: 0.000000\n",
            "2025-05-01 08:31:43,084 epoch 9 - iter 15/19 - loss 0.02193166 - time (sec): 6.72 - samples/sec: 71.47 - lr: 0.034386 - momentum: 0.000000\n",
            "2025-05-01 08:31:43,492 epoch 9 - iter 16/19 - loss 0.02056630 - time (sec): 7.12 - samples/sec: 71.87 - lr: 0.034386 - momentum: 0.000000\n",
            "2025-05-01 08:31:43,910 epoch 9 - iter 17/19 - loss 0.02270075 - time (sec): 7.54 - samples/sec: 72.13 - lr: 0.034386 - momentum: 0.000000\n",
            "2025-05-01 08:31:44,303 epoch 9 - iter 18/19 - loss 0.02144768 - time (sec): 7.93 - samples/sec: 72.59 - lr: 0.034386 - momentum: 0.000000\n",
            "2025-05-01 08:31:44,654 epoch 9 - iter 19/19 - loss 0.02048480 - time (sec): 8.29 - samples/sec: 72.89 - lr: 0.034386 - momentum: 0.000000\n",
            "2025-05-01 08:31:44,655 ----------------------------------------------------------------------------------------------------\n",
            "2025-05-01 08:31:44,657 EPOCH 9 done: loss 0.0205 - lr: 0.034386\n"
          ]
        },
        {
          "output_type": "stream",
          "name": "stderr",
          "text": [
            "100%|██████████| 3/3 [00:01<00:00,  2.51it/s]\n"
          ]
        },
        {
          "output_type": "stream",
          "name": "stdout",
          "text": [
            "2025-05-01 08:31:45,882 DEV : loss 0.0006233021849766374 - f1-score (micro avg)  1.0\n",
            "2025-05-01 08:31:45,920  - 0 epochs without improvement\n",
            "2025-05-01 08:31:45,921 ----------------------------------------------------------------------------------------------------\n",
            "2025-05-01 08:31:46,132 epoch 10 - iter 1/19 - loss 0.00460146 - time (sec): 0.21 - samples/sec: 153.25 - lr: 0.034386 - momentum: 0.000000\n",
            "2025-05-01 08:31:46,644 epoch 10 - iter 2/19 - loss 0.00299476 - time (sec): 0.72 - samples/sec: 88.81 - lr: 0.034386 - momentum: 0.000000\n",
            "2025-05-01 08:31:47,095 epoch 10 - iter 3/19 - loss 0.00207483 - time (sec): 1.17 - samples/sec: 81.94 - lr: 0.034386 - momentum: 0.000000\n",
            "2025-05-01 08:31:47,508 epoch 10 - iter 4/19 - loss 0.00156331 - time (sec): 1.58 - samples/sec: 80.77 - lr: 0.034386 - momentum: 0.000000\n",
            "2025-05-01 08:31:48,020 epoch 10 - iter 5/19 - loss 0.00140019 - time (sec): 2.10 - samples/sec: 76.33 - lr: 0.034386 - momentum: 0.000000\n",
            "2025-05-01 08:31:48,473 epoch 10 - iter 6/19 - loss 0.00120566 - time (sec): 2.55 - samples/sec: 75.30 - lr: 0.034386 - momentum: 0.000000\n",
            "2025-05-01 08:31:49,036 epoch 10 - iter 7/19 - loss 0.00104332 - time (sec): 3.11 - samples/sec: 71.98 - lr: 0.034386 - momentum: 0.000000\n",
            "2025-05-01 08:31:49,546 epoch 10 - iter 8/19 - loss 0.00091490 - time (sec): 3.62 - samples/sec: 70.68 - lr: 0.034386 - momentum: 0.000000\n",
            "2025-05-01 08:31:50,014 epoch 10 - iter 9/19 - loss 0.00081968 - time (sec): 4.09 - samples/sec: 70.40 - lr: 0.034386 - momentum: 0.000000\n",
            "2025-05-01 08:31:50,434 epoch 10 - iter 10/19 - loss 0.00074457 - time (sec): 4.51 - samples/sec: 70.95 - lr: 0.034386 - momentum: 0.000000\n",
            "2025-05-01 08:31:50,858 epoch 10 - iter 11/19 - loss 0.00179779 - time (sec): 4.93 - samples/sec: 71.33 - lr: 0.034386 - momentum: 0.000000\n",
            "2025-05-01 08:31:51,286 epoch 10 - iter 12/19 - loss 0.00165108 - time (sec): 5.36 - samples/sec: 71.61 - lr: 0.034386 - momentum: 0.000000\n",
            "2025-05-01 08:31:51,776 epoch 10 - iter 13/19 - loss 0.00152475 - time (sec): 5.85 - samples/sec: 71.08 - lr: 0.034386 - momentum: 0.000000\n",
            "2025-05-01 08:31:52,343 epoch 10 - iter 14/19 - loss 0.00141709 - time (sec): 6.42 - samples/sec: 69.79 - lr: 0.034386 - momentum: 0.000000\n",
            "2025-05-01 08:31:52,884 epoch 10 - iter 15/19 - loss 0.00132793 - time (sec): 6.96 - samples/sec: 68.96 - lr: 0.034386 - momentum: 0.000000\n",
            "2025-05-01 08:31:53,318 epoch 10 - iter 16/19 - loss 0.00128467 - time (sec): 7.39 - samples/sec: 69.24 - lr: 0.034386 - momentum: 0.000000\n",
            "2025-05-01 08:31:53,736 epoch 10 - iter 17/19 - loss 0.00124309 - time (sec): 7.81 - samples/sec: 69.63 - lr: 0.034386 - momentum: 0.000000\n",
            "2025-05-01 08:31:54,182 epoch 10 - iter 18/19 - loss 0.00135633 - time (sec): 8.26 - samples/sec: 69.75 - lr: 0.034386 - momentum: 0.000000\n",
            "2025-05-01 08:31:54,566 epoch 10 - iter 19/19 - loss 0.00129748 - time (sec): 8.64 - samples/sec: 69.89 - lr: 0.034386 - momentum: 0.000000\n",
            "2025-05-01 08:31:54,567 ----------------------------------------------------------------------------------------------------\n",
            "2025-05-01 08:31:54,568 EPOCH 10 done: loss 0.0013 - lr: 0.034386\n"
          ]
        },
        {
          "output_type": "stream",
          "name": "stderr",
          "text": [
            "100%|██████████| 3/3 [00:01<00:00,  2.52it/s]\n"
          ]
        },
        {
          "output_type": "stream",
          "name": "stdout",
          "text": [
            "2025-05-01 08:31:55,784 DEV : loss 0.0006664679385721684 - f1-score (micro avg)  1.0\n",
            "2025-05-01 08:31:55,828  - 1 epochs without improvement\n",
            "2025-05-01 08:31:55,829 ----------------------------------------------------------------------------------------------------\n",
            "2025-05-01 08:31:56,017 epoch 11 - iter 1/19 - loss 0.00002679 - time (sec): 0.19 - samples/sec: 172.03 - lr: 0.034386 - momentum: 0.000000\n",
            "2025-05-01 08:31:56,513 epoch 11 - iter 2/19 - loss 0.00001760 - time (sec): 0.68 - samples/sec: 93.90 - lr: 0.034386 - momentum: 0.000000\n",
            "2025-05-01 08:31:57,074 epoch 11 - iter 3/19 - loss 0.00001603 - time (sec): 1.24 - samples/sec: 77.27 - lr: 0.034386 - momentum: 0.000000\n",
            "2025-05-01 08:31:57,551 epoch 11 - iter 4/19 - loss 0.00001688 - time (sec): 1.72 - samples/sec: 74.43 - lr: 0.034386 - momentum: 0.000000\n",
            "2025-05-01 08:31:58,008 epoch 11 - iter 5/19 - loss 0.00001722 - time (sec): 2.18 - samples/sec: 73.51 - lr: 0.034386 - momentum: 0.000000\n",
            "2025-05-01 08:31:58,428 epoch 11 - iter 6/19 - loss 0.00007223 - time (sec): 2.60 - samples/sec: 73.93 - lr: 0.034386 - momentum: 0.000000\n",
            "2025-05-01 08:31:58,956 epoch 11 - iter 7/19 - loss 0.00006594 - time (sec): 3.12 - samples/sec: 71.68 - lr: 0.034386 - momentum: 0.000000\n",
            "2025-05-01 08:31:59,486 epoch 11 - iter 8/19 - loss 0.00023596 - time (sec): 3.65 - samples/sec: 70.05 - lr: 0.034386 - momentum: 0.000000\n",
            "2025-05-01 08:31:59,957 epoch 11 - iter 9/19 - loss 0.00021249 - time (sec): 4.13 - samples/sec: 69.82 - lr: 0.034386 - momentum: 0.000000\n",
            "2025-05-01 08:32:00,444 epoch 11 - iter 10/19 - loss 0.00019264 - time (sec): 4.61 - samples/sec: 69.38 - lr: 0.034386 - momentum: 0.000000\n",
            "2025-05-01 08:32:00,818 epoch 11 - iter 11/19 - loss 0.00017588 - time (sec): 4.99 - samples/sec: 70.58 - lr: 0.034386 - momentum: 0.000000\n",
            "2025-05-01 08:32:01,181 epoch 11 - iter 12/19 - loss 0.00016242 - time (sec): 5.35 - samples/sec: 71.78 - lr: 0.034386 - momentum: 0.000000\n",
            "2025-05-01 08:32:01,632 epoch 11 - iter 13/19 - loss 0.00015455 - time (sec): 5.80 - samples/sec: 71.71 - lr: 0.034386 - momentum: 0.000000\n",
            "2025-05-01 08:32:02,132 epoch 11 - iter 14/19 - loss 0.00014407 - time (sec): 6.30 - samples/sec: 71.11 - lr: 0.034386 - momentum: 0.000000\n",
            "2025-05-01 08:32:02,627 epoch 11 - iter 15/19 - loss 0.00013514 - time (sec): 6.80 - samples/sec: 70.64 - lr: 0.034386 - momentum: 0.000000\n",
            "2025-05-01 08:32:02,972 epoch 11 - iter 16/19 - loss 0.00012746 - time (sec): 7.14 - samples/sec: 71.70 - lr: 0.034386 - momentum: 0.000000\n",
            "2025-05-01 08:32:03,364 epoch 11 - iter 17/19 - loss 0.00012131 - time (sec): 7.53 - samples/sec: 72.22 - lr: 0.034386 - momentum: 0.000000\n",
            "2025-05-01 08:32:03,706 epoch 11 - iter 18/19 - loss 0.00039039 - time (sec): 7.87 - samples/sec: 73.15 - lr: 0.034386 - momentum: 0.000000\n",
            "2025-05-01 08:32:04,105 epoch 11 - iter 19/19 - loss 0.00037537 - time (sec): 8.27 - samples/sec: 73.00 - lr: 0.034386 - momentum: 0.000000\n",
            "2025-05-01 08:32:04,106 ----------------------------------------------------------------------------------------------------\n",
            "2025-05-01 08:32:04,107 EPOCH 11 done: loss 0.0004 - lr: 0.034386\n"
          ]
        },
        {
          "output_type": "stream",
          "name": "stderr",
          "text": [
            "100%|██████████| 3/3 [00:01<00:00,  1.59it/s]\n"
          ]
        },
        {
          "output_type": "stream",
          "name": "stdout",
          "text": [
            "2025-05-01 08:32:06,020 DEV : loss 0.002738267183303833 - f1-score (micro avg)  1.0\n",
            "2025-05-01 08:32:06,064  - 2 epochs without improvement\n",
            "2025-05-01 08:32:06,065 ----------------------------------------------------------------------------------------------------\n",
            "2025-05-01 08:32:06,227 epoch 12 - iter 1/19 - loss 0.14191046 - time (sec): 0.16 - samples/sec: 199.98 - lr: 0.034386 - momentum: 0.000000\n",
            "2025-05-01 08:32:06,615 epoch 12 - iter 2/19 - loss 0.07095908 - time (sec): 0.55 - samples/sec: 116.89 - lr: 0.034386 - momentum: 0.000000\n",
            "2025-05-01 08:32:07,052 epoch 12 - iter 3/19 - loss 0.04732376 - time (sec): 0.99 - samples/sec: 97.46 - lr: 0.034386 - momentum: 0.000000\n",
            "2025-05-01 08:32:07,481 epoch 12 - iter 4/19 - loss 0.03549760 - time (sec): 1.41 - samples/sec: 90.55 - lr: 0.034386 - momentum: 0.000000\n",
            "2025-05-01 08:32:07,885 epoch 12 - iter 5/19 - loss 0.02839889 - time (sec): 1.82 - samples/sec: 88.00 - lr: 0.034386 - momentum: 0.000000\n",
            "2025-05-01 08:32:08,298 epoch 12 - iter 6/19 - loss 0.02366766 - time (sec): 2.23 - samples/sec: 86.08 - lr: 0.034386 - momentum: 0.000000\n",
            "2025-05-01 08:32:08,785 epoch 12 - iter 7/19 - loss 0.02034964 - time (sec): 2.72 - samples/sec: 82.43 - lr: 0.034386 - momentum: 0.000000\n",
            "2025-05-01 08:32:09,283 epoch 12 - iter 8/19 - loss 0.01781071 - time (sec): 3.22 - samples/sec: 79.62 - lr: 0.034386 - momentum: 0.000000\n",
            "2025-05-01 08:32:09,614 epoch 12 - iter 9/19 - loss 0.01583263 - time (sec): 3.55 - samples/sec: 81.20 - lr: 0.034386 - momentum: 0.000000\n",
            "2025-05-01 08:32:09,974 epoch 12 - iter 10/19 - loss 0.01425183 - time (sec): 3.91 - samples/sec: 81.90 - lr: 0.034386 - momentum: 0.000000\n",
            "2025-05-01 08:32:10,487 epoch 12 - iter 11/19 - loss 0.01304207 - time (sec): 4.42 - samples/sec: 79.65 - lr: 0.034386 - momentum: 0.000000\n",
            "2025-05-01 08:32:11,009 epoch 12 - iter 12/19 - loss 0.01196035 - time (sec): 4.94 - samples/sec: 77.71 - lr: 0.034386 - momentum: 0.000000\n",
            "2025-05-01 08:32:11,459 epoch 12 - iter 13/19 - loss 0.01104096 - time (sec): 5.39 - samples/sec: 77.15 - lr: 0.034386 - momentum: 0.000000\n",
            "2025-05-01 08:32:11,935 epoch 12 - iter 14/19 - loss 0.01025319 - time (sec): 5.87 - samples/sec: 76.35 - lr: 0.034386 - momentum: 0.000000\n",
            "2025-05-01 08:32:12,406 epoch 12 - iter 15/19 - loss 0.00957273 - time (sec): 6.34 - samples/sec: 75.73 - lr: 0.034386 - momentum: 0.000000\n",
            "2025-05-01 08:32:12,903 epoch 12 - iter 16/19 - loss 0.00897597 - time (sec): 6.84 - samples/sec: 74.90 - lr: 0.034386 - momentum: 0.000000\n",
            "2025-05-01 08:32:13,364 epoch 12 - iter 17/19 - loss 0.00850827 - time (sec): 7.30 - samples/sec: 74.56 - lr: 0.034386 - momentum: 0.000000\n",
            "2025-05-01 08:32:13,910 epoch 12 - iter 18/19 - loss 0.00804629 - time (sec): 7.84 - samples/sec: 73.44 - lr: 0.034386 - momentum: 0.000000\n",
            "2025-05-01 08:32:14,449 epoch 12 - iter 19/19 - loss 0.00767712 - time (sec): 8.38 - samples/sec: 72.06 - lr: 0.034386 - momentum: 0.000000\n",
            "2025-05-01 08:32:14,455 ----------------------------------------------------------------------------------------------------\n",
            "2025-05-01 08:32:14,456 EPOCH 12 done: loss 0.0077 - lr: 0.034386\n"
          ]
        },
        {
          "output_type": "stream",
          "name": "stderr",
          "text": [
            "100%|██████████| 3/3 [00:01<00:00,  2.35it/s]"
          ]
        },
        {
          "output_type": "stream",
          "name": "stdout",
          "text": [
            "2025-05-01 08:32:15,764 DEV : loss 0.006613796576857567 - f1-score (micro avg)  0.994\n",
            "2025-05-01 08:32:15,831  - 3 epochs without improvement\n",
            "2025-05-01 08:32:15,832 ----------------------------------------------------------------------------------------------------\n"
          ]
        },
        {
          "output_type": "stream",
          "name": "stderr",
          "text": [
            "\n"
          ]
        },
        {
          "output_type": "stream",
          "name": "stdout",
          "text": [
            "2025-05-01 08:32:16,040 epoch 13 - iter 1/19 - loss 0.00001164 - time (sec): 0.20 - samples/sec: 158.60 - lr: 0.034386 - momentum: 0.000000\n",
            "2025-05-01 08:32:16,488 epoch 13 - iter 2/19 - loss 0.00006821 - time (sec): 0.65 - samples/sec: 98.57 - lr: 0.034386 - momentum: 0.000000\n",
            "2025-05-01 08:32:16,916 epoch 13 - iter 3/19 - loss 0.00006661 - time (sec): 1.08 - samples/sec: 89.06 - lr: 0.034386 - momentum: 0.000000\n",
            "2025-05-01 08:32:17,314 epoch 13 - iter 4/19 - loss 0.00005402 - time (sec): 1.48 - samples/sec: 86.74 - lr: 0.034386 - momentum: 0.000000\n",
            "2025-05-01 08:32:17,880 epoch 13 - iter 5/19 - loss 0.00060522 - time (sec): 2.04 - samples/sec: 78.37 - lr: 0.034386 - momentum: 0.000000\n",
            "2025-05-01 08:32:18,368 epoch 13 - iter 6/19 - loss 0.00051520 - time (sec): 2.53 - samples/sec: 75.89 - lr: 0.034386 - momentum: 0.000000\n",
            "2025-05-01 08:32:18,796 epoch 13 - iter 7/19 - loss 0.00044280 - time (sec): 2.96 - samples/sec: 75.73 - lr: 0.034386 - momentum: 0.000000\n",
            "2025-05-01 08:32:19,257 epoch 13 - iter 8/19 - loss 0.00038832 - time (sec): 3.42 - samples/sec: 74.89 - lr: 0.034386 - momentum: 0.000000\n",
            "2025-05-01 08:32:19,754 epoch 13 - iter 9/19 - loss 0.00034598 - time (sec): 3.92 - samples/sec: 73.55 - lr: 0.034386 - momentum: 0.000000\n",
            "2025-05-01 08:32:20,294 epoch 13 - iter 10/19 - loss 0.00031253 - time (sec): 4.46 - samples/sec: 71.81 - lr: 0.034386 - momentum: 0.000000\n",
            "2025-05-01 08:32:20,804 epoch 13 - iter 11/19 - loss 0.00028505 - time (sec): 4.97 - samples/sec: 70.88 - lr: 0.034386 - momentum: 0.000000\n",
            "2025-05-01 08:32:21,304 epoch 13 - iter 12/19 - loss 0.00026180 - time (sec): 5.47 - samples/sec: 70.26 - lr: 0.034386 - momentum: 0.000000\n",
            "2025-05-01 08:32:21,650 epoch 13 - iter 13/19 - loss 0.00024267 - time (sec): 5.81 - samples/sec: 71.58 - lr: 0.034386 - momentum: 0.000000\n",
            "2025-05-01 08:32:22,105 epoch 13 - iter 14/19 - loss 0.00022574 - time (sec): 6.27 - samples/sec: 71.49 - lr: 0.034386 - momentum: 0.000000\n",
            "2025-05-01 08:32:22,568 epoch 13 - iter 15/19 - loss 0.00021232 - time (sec): 6.73 - samples/sec: 71.33 - lr: 0.034386 - momentum: 0.000000\n",
            "2025-05-01 08:32:22,971 epoch 13 - iter 16/19 - loss 0.00019968 - time (sec): 7.13 - samples/sec: 71.78 - lr: 0.034386 - momentum: 0.000000\n",
            "2025-05-01 08:32:23,432 epoch 13 - iter 17/19 - loss 0.00018886 - time (sec): 7.59 - samples/sec: 71.64 - lr: 0.034386 - momentum: 0.000000\n",
            "2025-05-01 08:32:23,848 epoch 13 - iter 18/19 - loss 0.00017908 - time (sec): 8.01 - samples/sec: 71.91 - lr: 0.034386 - momentum: 0.000000\n",
            "2025-05-01 08:32:24,231 epoch 13 - iter 19/19 - loss 0.00017105 - time (sec): 8.39 - samples/sec: 71.97 - lr: 0.034386 - momentum: 0.000000\n",
            "2025-05-01 08:32:24,232 ----------------------------------------------------------------------------------------------------\n",
            "2025-05-01 08:32:24,234 EPOCH 13 done: loss 0.0002 - lr: 0.034386\n"
          ]
        },
        {
          "output_type": "stream",
          "name": "stderr",
          "text": [
            "100%|██████████| 3/3 [00:01<00:00,  2.51it/s]\n"
          ]
        },
        {
          "output_type": "stream",
          "name": "stdout",
          "text": [
            "2025-05-01 08:32:25,460 DEV : loss 8.563917799619958e-05 - f1-score (micro avg)  1.0\n",
            "2025-05-01 08:32:25,500  - 0 epochs without improvement\n",
            "2025-05-01 08:32:25,501 ----------------------------------------------------------------------------------------------------\n",
            "2025-05-01 08:32:25,642 epoch 14 - iter 1/19 - loss 0.00000739 - time (sec): 0.14 - samples/sec: 230.60 - lr: 0.034386 - momentum: 0.000000\n",
            "2025-05-01 08:32:25,966 epoch 14 - iter 2/19 - loss 0.00001127 - time (sec): 0.46 - samples/sec: 138.28 - lr: 0.034386 - momentum: 0.000000\n",
            "2025-05-01 08:32:26,362 epoch 14 - iter 3/19 - loss 0.00001018 - time (sec): 0.86 - samples/sec: 111.76 - lr: 0.034386 - momentum: 0.000000\n",
            "2025-05-01 08:32:26,879 epoch 14 - iter 4/19 - loss 0.00000899 - time (sec): 1.38 - samples/sec: 93.04 - lr: 0.034386 - momentum: 0.000000\n",
            "2025-05-01 08:32:27,376 epoch 14 - iter 5/19 - loss 0.00000885 - time (sec): 1.87 - samples/sec: 85.43 - lr: 0.034386 - momentum: 0.000000\n",
            "2025-05-01 08:32:27,896 epoch 14 - iter 6/19 - loss 0.00000862 - time (sec): 2.39 - samples/sec: 80.23 - lr: 0.034386 - momentum: 0.000000\n",
            "2025-05-01 08:32:28,265 epoch 14 - iter 7/19 - loss 0.00000810 - time (sec): 2.76 - samples/sec: 81.10 - lr: 0.034386 - momentum: 0.000000\n",
            "2025-05-01 08:32:28,653 epoch 14 - iter 8/19 - loss 0.00000786 - time (sec): 3.15 - samples/sec: 81.28 - lr: 0.034386 - momentum: 0.000000\n",
            "2025-05-01 08:32:29,081 epoch 14 - iter 9/19 - loss 0.00000860 - time (sec): 3.58 - samples/sec: 80.51 - lr: 0.034386 - momentum: 0.000000\n",
            "2025-05-01 08:32:29,552 epoch 14 - iter 10/19 - loss 0.00000827 - time (sec): 4.05 - samples/sec: 79.04 - lr: 0.034386 - momentum: 0.000000\n",
            "2025-05-01 08:32:30,020 epoch 14 - iter 11/19 - loss 0.00000814 - time (sec): 4.52 - samples/sec: 77.93 - lr: 0.034386 - momentum: 0.000000\n",
            "2025-05-01 08:32:30,444 epoch 14 - iter 12/19 - loss 0.00000877 - time (sec): 4.94 - samples/sec: 77.72 - lr: 0.034386 - momentum: 0.000000\n",
            "2025-05-01 08:32:30,928 epoch 14 - iter 13/19 - loss 0.00001222 - time (sec): 5.42 - samples/sec: 76.68 - lr: 0.034386 - momentum: 0.000000\n",
            "2025-05-01 08:32:31,492 epoch 14 - iter 14/19 - loss 0.00001169 - time (sec): 5.99 - samples/sec: 74.81 - lr: 0.034386 - momentum: 0.000000\n",
            "2025-05-01 08:32:32,021 epoch 14 - iter 15/19 - loss 0.00001206 - time (sec): 6.52 - samples/sec: 73.65 - lr: 0.034386 - momentum: 0.000000\n",
            "2025-05-01 08:32:32,536 epoch 14 - iter 16/19 - loss 0.00001478 - time (sec): 7.03 - samples/sec: 72.80 - lr: 0.034386 - momentum: 0.000000\n",
            "2025-05-01 08:32:33,027 epoch 14 - iter 17/19 - loss 0.00001494 - time (sec): 7.52 - samples/sec: 72.30 - lr: 0.034386 - momentum: 0.000000\n",
            "2025-05-01 08:32:33,553 epoch 14 - iter 18/19 - loss 0.00001634 - time (sec): 8.05 - samples/sec: 71.56 - lr: 0.034386 - momentum: 0.000000\n",
            "2025-05-01 08:32:33,978 epoch 14 - iter 19/19 - loss 0.00001576 - time (sec): 8.47 - samples/sec: 71.27 - lr: 0.034386 - momentum: 0.000000\n",
            "2025-05-01 08:32:33,979 ----------------------------------------------------------------------------------------------------\n",
            "2025-05-01 08:32:33,980 EPOCH 14 done: loss 0.0000 - lr: 0.034386\n"
          ]
        },
        {
          "output_type": "stream",
          "name": "stderr",
          "text": [
            "100%|██████████| 3/3 [00:01<00:00,  2.46it/s]\n"
          ]
        },
        {
          "output_type": "stream",
          "name": "stdout",
          "text": [
            "2025-05-01 08:32:35,231 DEV : loss 0.000514553626999259 - f1-score (micro avg)  1.0\n",
            "2025-05-01 08:32:35,272  - 1 epochs without improvement\n",
            "2025-05-01 08:32:35,272 ----------------------------------------------------------------------------------------------------\n",
            "2025-05-01 08:32:35,480 epoch 15 - iter 1/19 - loss 0.00000565 - time (sec): 0.20 - samples/sec: 156.64 - lr: 0.034386 - momentum: 0.000000\n",
            "2025-05-01 08:32:35,960 epoch 15 - iter 2/19 - loss 0.00000645 - time (sec): 0.68 - samples/sec: 93.54 - lr: 0.034386 - momentum: 0.000000\n",
            "2025-05-01 08:32:36,410 epoch 15 - iter 3/19 - loss 0.00000747 - time (sec): 1.13 - samples/sec: 84.59 - lr: 0.034386 - momentum: 0.000000\n",
            "2025-05-01 08:32:36,850 epoch 15 - iter 4/19 - loss 0.00000699 - time (sec): 1.57 - samples/sec: 81.30 - lr: 0.034386 - momentum: 0.000000\n",
            "2025-05-01 08:32:37,282 epoch 15 - iter 5/19 - loss 0.00000624 - time (sec): 2.01 - samples/sec: 79.73 - lr: 0.034386 - momentum: 0.000000\n",
            "2025-05-01 08:32:37,625 epoch 15 - iter 6/19 - loss 0.00000979 - time (sec): 2.35 - samples/sec: 81.71 - lr: 0.034386 - momentum: 0.000000\n",
            "2025-05-01 08:32:37,975 epoch 15 - iter 7/19 - loss 0.00000899 - time (sec): 2.70 - samples/sec: 82.98 - lr: 0.034386 - momentum: 0.000000\n",
            "2025-05-01 08:32:38,335 epoch 15 - iter 8/19 - loss 0.00000888 - time (sec): 3.06 - samples/sec: 83.67 - lr: 0.034386 - momentum: 0.000000\n",
            "2025-05-01 08:32:38,736 epoch 15 - iter 9/19 - loss 0.00000841 - time (sec): 3.46 - samples/sec: 83.23 - lr: 0.034386 - momentum: 0.000000\n",
            "2025-05-01 08:32:39,141 epoch 15 - iter 10/19 - loss 0.00001189 - time (sec): 3.87 - samples/sec: 82.78 - lr: 0.034386 - momentum: 0.000000\n",
            "2025-05-01 08:32:39,540 epoch 15 - iter 11/19 - loss 0.00001131 - time (sec): 4.26 - samples/sec: 82.54 - lr: 0.034386 - momentum: 0.000000\n",
            "2025-05-01 08:32:40,018 epoch 15 - iter 12/19 - loss 0.00001104 - time (sec): 4.74 - samples/sec: 80.97 - lr: 0.034386 - momentum: 0.000000\n",
            "2025-05-01 08:32:40,501 epoch 15 - iter 13/19 - loss 0.00001092 - time (sec): 5.23 - samples/sec: 79.60 - lr: 0.034386 - momentum: 0.000000\n",
            "2025-05-01 08:32:40,909 epoch 15 - iter 14/19 - loss 0.00001048 - time (sec): 5.63 - samples/sec: 79.53 - lr: 0.034386 - momentum: 0.000000\n",
            "2025-05-01 08:32:41,412 epoch 15 - iter 15/19 - loss 0.00001272 - time (sec): 6.14 - samples/sec: 78.22 - lr: 0.034386 - momentum: 0.000000\n",
            "2025-05-01 08:32:41,917 epoch 15 - iter 16/19 - loss 0.00001216 - time (sec): 6.64 - samples/sec: 77.09 - lr: 0.034386 - momentum: 0.000000\n",
            "2025-05-01 08:32:42,429 epoch 15 - iter 17/19 - loss 0.00001191 - time (sec): 7.15 - samples/sec: 76.05 - lr: 0.034386 - momentum: 0.000000\n",
            "2025-05-01 08:32:42,881 epoch 15 - iter 18/19 - loss 0.00001268 - time (sec): 7.61 - samples/sec: 75.74 - lr: 0.034386 - momentum: 0.000000\n",
            "2025-05-01 08:32:43,415 epoch 15 - iter 19/19 - loss 0.00001264 - time (sec): 8.14 - samples/sec: 74.21 - lr: 0.034386 - momentum: 0.000000\n",
            "2025-05-01 08:32:43,416 ----------------------------------------------------------------------------------------------------\n",
            "2025-05-01 08:32:43,417 EPOCH 15 done: loss 0.0000 - lr: 0.034386\n"
          ]
        },
        {
          "output_type": "stream",
          "name": "stderr",
          "text": [
            "100%|██████████| 3/3 [00:01<00:00,  2.40it/s]\n"
          ]
        },
        {
          "output_type": "stream",
          "name": "stdout",
          "text": [
            "2025-05-01 08:32:44,695 DEV : loss 0.00045935847447253764 - f1-score (micro avg)  1.0\n",
            "2025-05-01 08:32:44,733  - 2 epochs without improvement\n",
            "2025-05-01 08:32:44,734 ----------------------------------------------------------------------------------------------------\n",
            "2025-05-01 08:32:44,968 epoch 16 - iter 1/19 - loss 0.00000981 - time (sec): 0.23 - samples/sec: 138.55 - lr: 0.034386 - momentum: 0.000000\n",
            "2025-05-01 08:32:45,499 epoch 16 - iter 2/19 - loss 0.00001029 - time (sec): 0.76 - samples/sec: 83.92 - lr: 0.034386 - momentum: 0.000000\n",
            "2025-05-01 08:32:45,936 epoch 16 - iter 3/19 - loss 0.00000873 - time (sec): 1.20 - samples/sec: 80.03 - lr: 0.034386 - momentum: 0.000000\n",
            "2025-05-01 08:32:46,361 epoch 16 - iter 4/19 - loss 0.00000824 - time (sec): 1.62 - samples/sec: 78.80 - lr: 0.034386 - momentum: 0.000000\n",
            "2025-05-01 08:32:46,797 epoch 16 - iter 5/19 - loss 0.00000800 - time (sec): 2.06 - samples/sec: 77.67 - lr: 0.034386 - momentum: 0.000000\n",
            "2025-05-01 08:32:47,228 epoch 16 - iter 6/19 - loss 0.00000759 - time (sec): 2.49 - samples/sec: 77.05 - lr: 0.034386 - momentum: 0.000000\n",
            "2025-05-01 08:32:47,645 epoch 16 - iter 7/19 - loss 0.00003345 - time (sec): 2.91 - samples/sec: 77.01 - lr: 0.034386 - momentum: 0.000000\n",
            "2025-05-01 08:32:48,122 epoch 16 - iter 8/19 - loss 0.00003086 - time (sec): 3.39 - samples/sec: 75.63 - lr: 0.034386 - momentum: 0.000000\n",
            "2025-05-01 08:32:48,635 epoch 16 - iter 9/19 - loss 0.00002874 - time (sec): 3.90 - samples/sec: 73.88 - lr: 0.034386 - momentum: 0.000000\n",
            "2025-05-01 08:32:49,099 epoch 16 - iter 10/19 - loss 0.00002625 - time (sec): 4.36 - samples/sec: 73.35 - lr: 0.034386 - momentum: 0.000000\n",
            "2025-05-01 08:32:49,619 epoch 16 - iter 11/19 - loss 0.00002413 - time (sec): 4.88 - samples/sec: 72.10 - lr: 0.034386 - momentum: 0.000000\n",
            "2025-05-01 08:32:50,129 epoch 16 - iter 12/19 - loss 0.00002276 - time (sec): 5.39 - samples/sec: 71.22 - lr: 0.034386 - momentum: 0.000000\n",
            "2025-05-01 08:32:50,569 epoch 16 - iter 13/19 - loss 0.00002190 - time (sec): 5.83 - samples/sec: 71.32 - lr: 0.034386 - momentum: 0.000000\n",
            "2025-05-01 08:32:50,943 epoch 16 - iter 14/19 - loss 0.00002090 - time (sec): 6.21 - samples/sec: 72.18 - lr: 0.034386 - momentum: 0.000000\n",
            "2025-05-01 08:32:51,357 epoch 16 - iter 15/19 - loss 0.00001994 - time (sec): 6.62 - samples/sec: 72.51 - lr: 0.034386 - momentum: 0.000000\n",
            "2025-05-01 08:32:51,732 epoch 16 - iter 16/19 - loss 0.00001913 - time (sec): 7.00 - samples/sec: 73.19 - lr: 0.034386 - momentum: 0.000000\n",
            "2025-05-01 08:32:52,080 epoch 16 - iter 17/19 - loss 0.00001885 - time (sec): 7.34 - samples/sec: 74.08 - lr: 0.034386 - momentum: 0.000000\n",
            "2025-05-01 08:32:52,468 epoch 16 - iter 18/19 - loss 0.00002802 - time (sec): 7.73 - samples/sec: 74.51 - lr: 0.034386 - momentum: 0.000000\n",
            "2025-05-01 08:32:52,858 epoch 16 - iter 19/19 - loss 0.00002697 - time (sec): 8.12 - samples/sec: 74.37 - lr: 0.034386 - momentum: 0.000000\n",
            "2025-05-01 08:32:52,859 ----------------------------------------------------------------------------------------------------\n",
            "2025-05-01 08:32:52,860 EPOCH 16 done: loss 0.0000 - lr: 0.034386\n"
          ]
        },
        {
          "output_type": "stream",
          "name": "stderr",
          "text": [
            "100%|██████████| 3/3 [00:01<00:00,  2.41it/s]\n"
          ]
        },
        {
          "output_type": "stream",
          "name": "stdout",
          "text": [
            "2025-05-01 08:32:54,135 DEV : loss 0.00021545466734096408 - f1-score (micro avg)  1.0\n",
            "2025-05-01 08:32:54,205  - 3 epochs without improvement\n",
            "2025-05-01 08:32:54,208 ----------------------------------------------------------------------------------------------------\n",
            "2025-05-01 08:32:54,388 epoch 17 - iter 1/19 - loss 0.00025802 - time (sec): 0.18 - samples/sec: 180.65 - lr: 0.034386 - momentum: 0.000000\n",
            "2025-05-01 08:32:54,790 epoch 17 - iter 2/19 - loss 0.00014576 - time (sec): 0.58 - samples/sec: 110.39 - lr: 0.034386 - momentum: 0.000000\n",
            "2025-05-01 08:32:55,242 epoch 17 - iter 3/19 - loss 0.00009804 - time (sec): 1.03 - samples/sec: 93.05 - lr: 0.034386 - momentum: 0.000000\n",
            "2025-05-01 08:32:55,676 epoch 17 - iter 4/19 - loss 0.00237682 - time (sec): 1.46 - samples/sec: 87.38 - lr: 0.034386 - momentum: 0.000000\n",
            "2025-05-01 08:32:56,056 epoch 17 - iter 5/19 - loss 0.00190246 - time (sec): 1.85 - samples/sec: 86.71 - lr: 0.034386 - momentum: 0.000000\n",
            "2025-05-01 08:32:56,496 epoch 17 - iter 6/19 - loss 0.00180443 - time (sec): 2.28 - samples/sec: 84.03 - lr: 0.034386 - momentum: 0.000000\n",
            "2025-05-01 08:32:56,978 epoch 17 - iter 7/19 - loss 0.00154891 - time (sec): 2.77 - samples/sec: 80.93 - lr: 0.034386 - momentum: 0.000000\n",
            "2025-05-01 08:32:57,466 epoch 17 - iter 8/19 - loss 0.00135625 - time (sec): 3.26 - samples/sec: 78.63 - lr: 0.034386 - momentum: 0.000000\n",
            "2025-05-01 08:32:57,823 epoch 17 - iter 9/19 - loss 0.00121330 - time (sec): 3.61 - samples/sec: 79.74 - lr: 0.034386 - momentum: 0.000000\n",
            "2025-05-01 08:32:58,302 epoch 17 - iter 10/19 - loss 0.00109324 - time (sec): 4.09 - samples/sec: 78.21 - lr: 0.034386 - momentum: 0.000000\n",
            "2025-05-01 08:32:58,890 epoch 17 - iter 11/19 - loss 0.00099461 - time (sec): 4.68 - samples/sec: 75.23 - lr: 0.034386 - momentum: 0.000000\n",
            "2025-05-01 08:32:59,449 epoch 17 - iter 12/19 - loss 0.00091241 - time (sec): 5.24 - samples/sec: 73.30 - lr: 0.034386 - momentum: 0.000000\n",
            "2025-05-01 08:32:59,909 epoch 17 - iter 13/19 - loss 0.00084249 - time (sec): 5.70 - samples/sec: 73.01 - lr: 0.034386 - momentum: 0.000000\n",
            "2025-05-01 08:33:00,378 epoch 17 - iter 14/19 - loss 0.00078271 - time (sec): 6.17 - samples/sec: 72.64 - lr: 0.034386 - momentum: 0.000000\n",
            "2025-05-01 08:33:00,929 epoch 17 - iter 15/19 - loss 0.00073070 - time (sec): 6.72 - samples/sec: 71.45 - lr: 0.034386 - momentum: 0.000000\n",
            "2025-05-01 08:33:01,451 epoch 17 - iter 16/19 - loss 0.00068604 - time (sec): 7.24 - samples/sec: 70.71 - lr: 0.034386 - momentum: 0.000000\n",
            "2025-05-01 08:33:01,937 epoch 17 - iter 17/19 - loss 0.00064627 - time (sec): 7.73 - samples/sec: 70.41 - lr: 0.034386 - momentum: 0.000000\n",
            "2025-05-01 08:33:02,324 epoch 17 - iter 18/19 - loss 0.00061076 - time (sec): 8.11 - samples/sec: 71.00 - lr: 0.034386 - momentum: 0.000000\n",
            "2025-05-01 08:33:02,634 epoch 17 - iter 19/19 - loss 0.00058291 - time (sec): 8.42 - samples/sec: 71.71 - lr: 0.034386 - momentum: 0.000000\n",
            "2025-05-01 08:33:02,636 ----------------------------------------------------------------------------------------------------\n",
            "2025-05-01 08:33:02,637 EPOCH 17 done: loss 0.0006 - lr: 0.034386\n"
          ]
        },
        {
          "output_type": "stream",
          "name": "stderr",
          "text": [
            "100%|██████████| 3/3 [00:01<00:00,  2.56it/s]\n"
          ]
        },
        {
          "output_type": "stream",
          "name": "stdout",
          "text": [
            "2025-05-01 08:33:03,841 DEV : loss 3.5979854146717116e-05 - f1-score (micro avg)  1.0\n",
            "2025-05-01 08:33:03,879  - 0 epochs without improvement\n",
            "2025-05-01 08:33:03,880 ----------------------------------------------------------------------------------------------------\n",
            "2025-05-01 08:33:04,090 epoch 18 - iter 1/19 - loss 0.00000659 - time (sec): 0.21 - samples/sec: 154.42 - lr: 0.034386 - momentum: 0.000000\n",
            "2025-05-01 08:33:04,561 epoch 18 - iter 2/19 - loss 0.00000588 - time (sec): 0.68 - samples/sec: 94.29 - lr: 0.034386 - momentum: 0.000000\n",
            "2025-05-01 08:33:05,013 epoch 18 - iter 3/19 - loss 0.00000688 - time (sec): 1.13 - samples/sec: 84.90 - lr: 0.034386 - momentum: 0.000000\n",
            "2025-05-01 08:33:05,480 epoch 18 - iter 4/19 - loss 0.00000829 - time (sec): 1.60 - samples/sec: 80.13 - lr: 0.034386 - momentum: 0.000000\n",
            "2025-05-01 08:33:06,065 epoch 18 - iter 5/19 - loss 0.00002060 - time (sec): 2.18 - samples/sec: 73.29 - lr: 0.034386 - momentum: 0.000000\n",
            "2025-05-01 08:33:06,499 epoch 18 - iter 6/19 - loss 0.00002035 - time (sec): 2.62 - samples/sec: 73.38 - lr: 0.034386 - momentum: 0.000000\n",
            "2025-05-01 08:33:06,862 epoch 18 - iter 7/19 - loss 0.00001838 - time (sec): 2.98 - samples/sec: 75.17 - lr: 0.034386 - momentum: 0.000000\n",
            "2025-05-01 08:33:07,324 epoch 18 - iter 8/19 - loss 0.00001662 - time (sec): 3.44 - samples/sec: 74.38 - lr: 0.034386 - momentum: 0.000000\n",
            "2025-05-01 08:33:07,865 epoch 18 - iter 9/19 - loss 0.00001551 - time (sec): 3.98 - samples/sec: 72.31 - lr: 0.034386 - momentum: 0.000000\n",
            "2025-05-01 08:33:08,351 epoch 18 - iter 10/19 - loss 0.00001655 - time (sec): 4.47 - samples/sec: 71.62 - lr: 0.034386 - momentum: 0.000000\n",
            "2025-05-01 08:33:08,887 epoch 18 - iter 11/19 - loss 0.00001540 - time (sec): 5.00 - samples/sec: 70.34 - lr: 0.034386 - momentum: 0.000000\n",
            "2025-05-01 08:33:09,412 epoch 18 - iter 12/19 - loss 0.00001436 - time (sec): 5.53 - samples/sec: 69.44 - lr: 0.034386 - momentum: 0.000000\n",
            "2025-05-01 08:33:09,865 epoch 18 - iter 13/19 - loss 0.00001447 - time (sec): 5.98 - samples/sec: 69.53 - lr: 0.034386 - momentum: 0.000000\n",
            "2025-05-01 08:33:10,355 epoch 18 - iter 14/19 - loss 0.00001614 - time (sec): 6.47 - samples/sec: 69.21 - lr: 0.034386 - momentum: 0.000000\n",
            "2025-05-01 08:33:10,868 epoch 18 - iter 15/19 - loss 0.00001544 - time (sec): 6.99 - samples/sec: 68.72 - lr: 0.034386 - momentum: 0.000000\n",
            "2025-05-01 08:33:11,262 epoch 18 - iter 16/19 - loss 0.00001492 - time (sec): 7.38 - samples/sec: 69.38 - lr: 0.034386 - momentum: 0.000000\n",
            "2025-05-01 08:33:11,663 epoch 18 - iter 17/19 - loss 0.00001457 - time (sec): 7.78 - samples/sec: 69.92 - lr: 0.034386 - momentum: 0.000000\n",
            "2025-05-01 08:33:12,087 epoch 18 - iter 18/19 - loss 0.00001406 - time (sec): 8.20 - samples/sec: 70.21 - lr: 0.034386 - momentum: 0.000000\n",
            "2025-05-01 08:33:12,494 epoch 18 - iter 19/19 - loss 0.00001390 - time (sec): 8.61 - samples/sec: 70.14 - lr: 0.034386 - momentum: 0.000000\n",
            "2025-05-01 08:33:12,495 ----------------------------------------------------------------------------------------------------\n",
            "2025-05-01 08:33:12,496 EPOCH 18 done: loss 0.0000 - lr: 0.034386\n"
          ]
        },
        {
          "output_type": "stream",
          "name": "stderr",
          "text": [
            "100%|██████████| 3/3 [00:01<00:00,  2.55it/s]\n"
          ]
        },
        {
          "output_type": "stream",
          "name": "stdout",
          "text": [
            "2025-05-01 08:33:13,702 DEV : loss 4.6662873501190916e-05 - f1-score (micro avg)  1.0\n",
            "2025-05-01 08:33:13,741  - 1 epochs without improvement\n",
            "2025-05-01 08:33:13,742 ----------------------------------------------------------------------------------------------------\n",
            "2025-05-01 08:33:13,915 epoch 19 - iter 1/19 - loss 0.00001449 - time (sec): 0.17 - samples/sec: 188.22 - lr: 0.034386 - momentum: 0.000000\n",
            "2025-05-01 08:33:14,314 epoch 19 - iter 2/19 - loss 0.00000949 - time (sec): 0.57 - samples/sec: 112.38 - lr: 0.034386 - momentum: 0.000000\n",
            "2025-05-01 08:33:14,758 epoch 19 - iter 3/19 - loss 0.00000814 - time (sec): 1.01 - samples/sec: 94.72 - lr: 0.034386 - momentum: 0.000000\n",
            "2025-05-01 08:33:15,299 epoch 19 - iter 4/19 - loss 0.00000760 - time (sec): 1.55 - samples/sec: 82.33 - lr: 0.034386 - momentum: 0.000000\n",
            "2025-05-01 08:33:15,789 epoch 19 - iter 5/19 - loss 0.00001556 - time (sec): 2.04 - samples/sec: 78.25 - lr: 0.034386 - momentum: 0.000000\n",
            "2025-05-01 08:33:16,197 epoch 19 - iter 6/19 - loss 0.00001366 - time (sec): 2.45 - samples/sec: 78.29 - lr: 0.034386 - momentum: 0.000000\n",
            "2025-05-01 08:33:16,753 epoch 19 - iter 7/19 - loss 0.00001269 - time (sec): 3.01 - samples/sec: 74.47 - lr: 0.034386 - momentum: 0.000000\n",
            "2025-05-01 08:33:17,195 epoch 19 - iter 8/19 - loss 0.00001166 - time (sec): 3.45 - samples/sec: 74.20 - lr: 0.034386 - momentum: 0.000000\n",
            "2025-05-01 08:33:17,594 epoch 19 - iter 9/19 - loss 0.00001053 - time (sec): 3.85 - samples/sec: 74.82 - lr: 0.034386 - momentum: 0.000000\n",
            "2025-05-01 08:33:18,060 epoch 19 - iter 10/19 - loss 0.00001296 - time (sec): 4.32 - samples/sec: 74.15 - lr: 0.034386 - momentum: 0.000000\n",
            "2025-05-01 08:33:18,574 epoch 19 - iter 11/19 - loss 0.00001244 - time (sec): 4.83 - samples/sec: 72.89 - lr: 0.034386 - momentum: 0.000000\n",
            "2025-05-01 08:33:19,132 epoch 19 - iter 12/19 - loss 0.00001197 - time (sec): 5.39 - samples/sec: 71.28 - lr: 0.034386 - momentum: 0.000000\n",
            "2025-05-01 08:33:19,558 epoch 19 - iter 13/19 - loss 0.00011962 - time (sec): 5.81 - samples/sec: 71.56 - lr: 0.034386 - momentum: 0.000000\n",
            "2025-05-01 08:33:19,983 epoch 19 - iter 14/19 - loss 0.00011326 - time (sec): 6.24 - samples/sec: 71.82 - lr: 0.034386 - momentum: 0.000000\n",
            "2025-05-01 08:33:20,386 epoch 19 - iter 15/19 - loss 0.00010612 - time (sec): 6.64 - samples/sec: 72.27 - lr: 0.034386 - momentum: 0.000000\n",
            "2025-05-01 08:33:20,797 epoch 19 - iter 16/19 - loss 0.00009978 - time (sec): 7.05 - samples/sec: 72.60 - lr: 0.034386 - momentum: 0.000000\n",
            "2025-05-01 08:33:21,346 epoch 19 - iter 17/19 - loss 0.00009419 - time (sec): 7.60 - samples/sec: 71.57 - lr: 0.034386 - momentum: 0.000000\n",
            "2025-05-01 08:33:21,775 epoch 19 - iter 18/19 - loss 0.00009031 - time (sec): 8.03 - samples/sec: 71.72 - lr: 0.034386 - momentum: 0.000000\n",
            "2025-05-01 08:33:22,222 epoch 19 - iter 19/19 - loss 0.00009179 - time (sec): 8.48 - samples/sec: 71.25 - lr: 0.034386 - momentum: 0.000000\n",
            "2025-05-01 08:33:22,223 ----------------------------------------------------------------------------------------------------\n",
            "2025-05-01 08:33:22,224 EPOCH 19 done: loss 0.0001 - lr: 0.034386\n"
          ]
        },
        {
          "output_type": "stream",
          "name": "stderr",
          "text": [
            "100%|██████████| 3/3 [00:01<00:00,  2.43it/s]\n"
          ]
        },
        {
          "output_type": "stream",
          "name": "stdout",
          "text": [
            "2025-05-01 08:33:23,486 DEV : loss 2.3752780180075206e-05 - f1-score (micro avg)  1.0\n",
            "2025-05-01 08:33:23,526  - 0 epochs without improvement\n",
            "2025-05-01 08:33:24,677 ----------------------------------------------------------------------------------------------------\n",
            "2025-05-01 08:33:24,681 Loading model from best epoch ...\n"
          ]
        },
        {
          "output_type": "stream",
          "name": "stderr",
          "text": [
            "100%|██████████| 2/2 [00:00<00:00,  4.30it/s]"
          ]
        },
        {
          "output_type": "stream",
          "name": "stdout",
          "text": [
            "2025-05-01 08:33:27,296 \n",
            "Results:\n",
            "- F-score (micro) 1.0\n",
            "- F-score (macro) 1.0\n",
            "- Accuracy 1.0\n",
            "\n",
            "By class:\n",
            "              precision    recall  f1-score   support\n",
            "\n",
            "          공통     1.0000    1.0000    1.0000        18\n",
            "          교량     1.0000    1.0000    1.0000        17\n",
            "       가설구조물     1.0000    1.0000    1.0000        13\n",
            "        양중작업     1.0000    1.0000    1.0000         7\n",
            "        굴착공사     1.0000    1.0000    1.0000         7\n",
            "          건축     1.0000    1.0000    1.0000         5\n",
            "\n",
            "    accuracy                         1.0000        67\n",
            "   macro avg     1.0000    1.0000    1.0000        67\n",
            "weighted avg     1.0000    1.0000    1.0000        67\n",
            "\n",
            "2025-05-01 08:33:27,297 ----------------------------------------------------------------------------------------------------\n"
          ]
        },
        {
          "output_type": "stream",
          "name": "stderr",
          "text": [
            "\n"
          ]
        },
        {
          "output_type": "stream",
          "name": "stdout",
          "text": [
            "  훈련 결과: {'test_score': 1.0}\n",
            "  현재 폴드 정확도: 1.0000\n",
            "  폴드 5/5 학습 중...\n",
            "2025-05-01 08:33:31,956 Reading data from /tmp/tmp273rk8vb\n",
            "2025-05-01 08:33:31,957 Train: /tmp/tmp273rk8vb/train.txt\n",
            "2025-05-01 08:33:31,958 Dev: /tmp/tmp273rk8vb/dev.txt\n",
            "2025-05-01 08:33:31,958 Test: None\n",
            "2025-05-01 08:33:32,037 No test split found. Using 10% (i.e. 67 samples) of the train split as test data\n",
            "2025-05-01 08:33:32,037 Initialized corpus /tmp/tmp273rk8vb (label type name is 'class')\n",
            "2025-05-01 08:33:32,038 Computing label dictionary. Progress:\n"
          ]
        },
        {
          "output_type": "stream",
          "name": "stderr",
          "text": [
            "0it [00:00, ?it/s]\n",
            "604it [00:00, 2565.49it/s]"
          ]
        },
        {
          "output_type": "stream",
          "name": "stdout",
          "text": [
            "2025-05-01 08:33:32,283 Dictionary created for label 'class' with 7 values: 공통 (seen 165 times), 가설구조물 (seen 148 times), 교량 (seen 97 times), 굴착공사 (seen 80 times), 건축 (seen 59 times), 양중작업 (seen 51 times),  (seen 4 times)\n",
            "2025-05-01 08:33:32,291 ----------------------------------------------------------------------------------------------------\n",
            "2025-05-01 08:33:32,293 Model: \"TextClassifier(\n",
            "  (embeddings): TransformerDocumentEmbeddings(\n",
            "    (model): BertModel(\n",
            "      (embeddings): BertEmbeddings(\n",
            "        (word_embeddings): Embedding(32001, 768, padding_idx=0)\n",
            "        (position_embeddings): Embedding(512, 768)\n",
            "        (token_type_embeddings): Embedding(2, 768)\n",
            "        (LayerNorm): LayerNorm((768,), eps=1e-12, elementwise_affine=True)\n",
            "        (dropout): Dropout(p=0.1, inplace=False)\n",
            "      )\n",
            "      (encoder): BertEncoder(\n",
            "        (layer): ModuleList(\n",
            "          (0-11): 12 x BertLayer(\n",
            "            (attention): BertAttention(\n",
            "              (self): BertSdpaSelfAttention(\n",
            "                (query): Linear(in_features=768, out_features=768, bias=True)\n",
            "                (key): Linear(in_features=768, out_features=768, bias=True)\n",
            "                (value): Linear(in_features=768, out_features=768, bias=True)\n",
            "                (dropout): Dropout(p=0.1, inplace=False)\n",
            "              )\n",
            "              (output): BertSelfOutput(\n",
            "                (dense): Linear(in_features=768, out_features=768, bias=True)\n",
            "                (LayerNorm): LayerNorm((768,), eps=1e-12, elementwise_affine=True)\n",
            "                (dropout): Dropout(p=0.1, inplace=False)\n",
            "              )\n",
            "            )\n",
            "            (intermediate): BertIntermediate(\n",
            "              (dense): Linear(in_features=768, out_features=3072, bias=True)\n",
            "              (intermediate_act_fn): GELUActivation()\n",
            "            )\n",
            "            (output): BertOutput(\n",
            "              (dense): Linear(in_features=3072, out_features=768, bias=True)\n",
            "              (LayerNorm): LayerNorm((768,), eps=1e-12, elementwise_affine=True)\n",
            "              (dropout): Dropout(p=0.1, inplace=False)\n",
            "            )\n",
            "          )\n",
            "        )\n",
            "      )\n",
            "      (pooler): BertPooler(\n",
            "        (dense): Linear(in_features=768, out_features=768, bias=True)\n",
            "        (activation): Tanh()\n",
            "      )\n",
            "    )\n",
            "  )\n",
            "  (decoder): Linear(in_features=768, out_features=7, bias=True)\n",
            "  (dropout): Dropout(p=0.0, inplace=False)\n",
            "  (locked_dropout): LockedDropout(p=0.0)\n",
            "  (word_dropout): WordDropout(p=0.0)\n",
            "  (loss_function): CrossEntropyLoss()\n",
            "  (weights): None\n",
            "  (weight_tensor) None\n",
            ")\"\n",
            "2025-05-01 08:33:32,294 ----------------------------------------------------------------------------------------------------\n",
            "2025-05-01 08:33:32,295 Corpus: 604 train + 167 dev + 67 test sentences\n",
            "2025-05-01 08:33:32,296 ----------------------------------------------------------------------------------------------------\n",
            "2025-05-01 08:33:32,297 Train:  604 sentences\n",
            "2025-05-01 08:33:32,297         (train_with_dev=False, train_with_test=False)\n",
            "2025-05-01 08:33:32,298 ----------------------------------------------------------------------------------------------------\n",
            "2025-05-01 08:33:32,299 Training Params:\n",
            "2025-05-01 08:33:32,299  - learning_rate: \"0.03438585961287222\" \n",
            "2025-05-01 08:33:32,300  - mini_batch_size: \"32\"\n",
            "2025-05-01 08:33:32,301  - max_epochs: \"19\"\n",
            "2025-05-01 08:33:32,301  - shuffle: \"True\"\n",
            "2025-05-01 08:33:32,302 ----------------------------------------------------------------------------------------------------\n",
            "2025-05-01 08:33:32,303 Plugins:\n",
            "2025-05-01 08:33:32,303  - AnnealOnPlateau | patience: '3', anneal_factor: '0.5', min_learning_rate: '0.0001'\n",
            "2025-05-01 08:33:32,304 ----------------------------------------------------------------------------------------------------\n",
            "2025-05-01 08:33:32,305 Final evaluation on model from best epoch (best-model.pt)\n",
            "2025-05-01 08:33:32,305  - metric: \"('micro avg', 'f1-score')\"\n",
            "2025-05-01 08:33:32,306 ----------------------------------------------------------------------------------------------------\n",
            "2025-05-01 08:33:32,307 Computation:\n",
            "2025-05-01 08:33:32,307  - compute on device: cuda:0\n",
            "2025-05-01 08:33:32,308  - embedding storage: cpu\n",
            "2025-05-01 08:33:32,308 ----------------------------------------------------------------------------------------------------\n",
            "2025-05-01 08:33:32,309 Model training base path: \"/tmp/tmp273rk8vb/model\"\n",
            "2025-05-01 08:33:32,310 ----------------------------------------------------------------------------------------------------\n",
            "2025-05-01 08:33:32,310 ----------------------------------------------------------------------------------------------------\n"
          ]
        },
        {
          "output_type": "stream",
          "name": "stderr",
          "text": [
            "\n",
            "/usr/local/lib/python3.11/dist-packages/flair/trainers/trainer.py:545: FutureWarning: `torch.cuda.amp.GradScaler(args...)` is deprecated. Please use `torch.amp.GradScaler('cuda', args...)` instead.\n",
            "  scaler = torch.cuda.amp.GradScaler(enabled=use_amp and flair.device.type != \"cpu\")\n"
          ]
        },
        {
          "output_type": "stream",
          "name": "stdout",
          "text": [
            "2025-05-01 08:33:32,543 epoch 1 - iter 1/19 - loss 2.44388366 - time (sec): 0.23 - samples/sec: 138.68 - lr: 0.034386 - momentum: 0.000000\n",
            "2025-05-01 08:33:33,029 epoch 1 - iter 2/19 - loss 1.56366262 - time (sec): 0.72 - samples/sec: 89.28 - lr: 0.034386 - momentum: 0.000000\n",
            "2025-05-01 08:33:33,595 epoch 1 - iter 3/19 - loss 1.14652763 - time (sec): 1.28 - samples/sec: 74.86 - lr: 0.034386 - momentum: 0.000000\n",
            "2025-05-01 08:33:34,113 epoch 1 - iter 4/19 - loss 0.90509875 - time (sec): 1.80 - samples/sec: 71.09 - lr: 0.034386 - momentum: 0.000000\n",
            "2025-05-01 08:33:34,600 epoch 1 - iter 5/19 - loss 0.74477120 - time (sec): 2.29 - samples/sec: 69.94 - lr: 0.034386 - momentum: 0.000000\n",
            "2025-05-01 08:33:34,998 epoch 1 - iter 6/19 - loss 0.62860476 - time (sec): 2.69 - samples/sec: 71.49 - lr: 0.034386 - momentum: 0.000000\n",
            "2025-05-01 08:33:35,434 epoch 1 - iter 7/19 - loss 0.54361672 - time (sec): 3.12 - samples/sec: 71.76 - lr: 0.034386 - momentum: 0.000000\n",
            "2025-05-01 08:33:35,956 epoch 1 - iter 8/19 - loss 0.47846070 - time (sec): 3.64 - samples/sec: 70.26 - lr: 0.034386 - momentum: 0.000000\n",
            "2025-05-01 08:33:36,511 epoch 1 - iter 9/19 - loss 0.42660543 - time (sec): 4.20 - samples/sec: 68.58 - lr: 0.034386 - momentum: 0.000000\n",
            "2025-05-01 08:33:36,984 epoch 1 - iter 10/19 - loss 0.38437051 - time (sec): 4.67 - samples/sec: 68.49 - lr: 0.034386 - momentum: 0.000000\n",
            "2025-05-01 08:33:37,448 epoch 1 - iter 11/19 - loss 0.35766227 - time (sec): 5.14 - samples/sec: 68.54 - lr: 0.034386 - momentum: 0.000000\n",
            "2025-05-01 08:33:37,911 epoch 1 - iter 12/19 - loss 0.32940752 - time (sec): 5.60 - samples/sec: 68.59 - lr: 0.034386 - momentum: 0.000000\n",
            "2025-05-01 08:33:38,302 epoch 1 - iter 13/19 - loss 0.30504178 - time (sec): 5.99 - samples/sec: 69.45 - lr: 0.034386 - momentum: 0.000000\n",
            "2025-05-01 08:33:38,700 epoch 1 - iter 14/19 - loss 0.28901407 - time (sec): 6.39 - samples/sec: 70.13 - lr: 0.034386 - momentum: 0.000000\n",
            "2025-05-01 08:33:39,111 epoch 1 - iter 15/19 - loss 0.27024638 - time (sec): 6.80 - samples/sec: 70.60 - lr: 0.034386 - momentum: 0.000000\n",
            "2025-05-01 08:33:39,551 epoch 1 - iter 16/19 - loss 0.25965598 - time (sec): 7.24 - samples/sec: 70.73 - lr: 0.034386 - momentum: 0.000000\n",
            "2025-05-01 08:33:40,023 epoch 1 - iter 17/19 - loss 0.24508113 - time (sec): 7.71 - samples/sec: 70.55 - lr: 0.034386 - momentum: 0.000000\n",
            "2025-05-01 08:33:40,506 epoch 1 - iter 18/19 - loss 0.23178260 - time (sec): 8.19 - samples/sec: 70.30 - lr: 0.034386 - momentum: 0.000000\n",
            "2025-05-01 08:33:40,886 epoch 1 - iter 19/19 - loss 0.22168538 - time (sec): 8.57 - samples/sec: 70.45 - lr: 0.034386 - momentum: 0.000000\n",
            "2025-05-01 08:33:40,887 ----------------------------------------------------------------------------------------------------\n",
            "2025-05-01 08:33:40,889 EPOCH 1 done: loss 0.2217 - lr: 0.034386\n"
          ]
        },
        {
          "output_type": "stream",
          "name": "stderr",
          "text": [
            "100%|██████████| 3/3 [00:01<00:00,  2.69it/s]"
          ]
        },
        {
          "output_type": "stream",
          "name": "stdout",
          "text": [
            "2025-05-01 08:33:42,031 DEV : loss 0.02706104889512062 - f1-score (micro avg)  0.982\n",
            "2025-05-01 08:33:42,071  - 0 epochs without improvement\n",
            "2025-05-01 08:33:42,071 saving best model\n"
          ]
        },
        {
          "output_type": "stream",
          "name": "stderr",
          "text": [
            "\n"
          ]
        },
        {
          "output_type": "stream",
          "name": "stdout",
          "text": [
            "2025-05-01 08:33:43,267 ----------------------------------------------------------------------------------------------------\n",
            "2025-05-01 08:33:43,497 epoch 2 - iter 1/19 - loss 0.00087366 - time (sec): 0.23 - samples/sec: 141.19 - lr: 0.034386 - momentum: 0.000000\n",
            "2025-05-01 08:33:44,003 epoch 2 - iter 2/19 - loss 0.00395421 - time (sec): 0.73 - samples/sec: 87.34 - lr: 0.034386 - momentum: 0.000000\n",
            "2025-05-01 08:33:44,431 epoch 2 - iter 3/19 - loss 0.00336815 - time (sec): 1.16 - samples/sec: 82.69 - lr: 0.034386 - momentum: 0.000000\n",
            "2025-05-01 08:33:44,882 epoch 2 - iter 4/19 - loss 0.00293766 - time (sec): 1.61 - samples/sec: 79.39 - lr: 0.034386 - momentum: 0.000000\n",
            "2025-05-01 08:33:45,420 epoch 2 - iter 5/19 - loss 0.00249970 - time (sec): 2.15 - samples/sec: 74.41 - lr: 0.034386 - momentum: 0.000000\n",
            "2025-05-01 08:33:45,941 epoch 2 - iter 6/19 - loss 0.00215600 - time (sec): 2.67 - samples/sec: 71.89 - lr: 0.034386 - momentum: 0.000000\n",
            "2025-05-01 08:33:46,428 epoch 2 - iter 7/19 - loss 0.00190436 - time (sec): 3.16 - samples/sec: 70.94 - lr: 0.034386 - momentum: 0.000000\n",
            "2025-05-01 08:33:46,896 epoch 2 - iter 8/19 - loss 0.00172790 - time (sec): 3.63 - samples/sec: 70.61 - lr: 0.034386 - momentum: 0.000000\n",
            "2025-05-01 08:33:47,435 epoch 2 - iter 9/19 - loss 0.00195458 - time (sec): 4.16 - samples/sec: 69.15 - lr: 0.034386 - momentum: 0.000000\n",
            "2025-05-01 08:33:47,937 epoch 2 - iter 10/19 - loss 0.00177242 - time (sec): 4.67 - samples/sec: 68.57 - lr: 0.034386 - momentum: 0.000000\n",
            "2025-05-01 08:33:48,473 epoch 2 - iter 11/19 - loss 0.00173610 - time (sec): 5.20 - samples/sec: 67.66 - lr: 0.034386 - momentum: 0.000000\n",
            "2025-05-01 08:33:49,019 epoch 2 - iter 12/19 - loss 0.00332328 - time (sec): 5.75 - samples/sec: 66.80 - lr: 0.034386 - momentum: 0.000000\n",
            "2025-05-01 08:33:49,446 epoch 2 - iter 13/19 - loss 0.00316655 - time (sec): 6.18 - samples/sec: 67.36 - lr: 0.034386 - momentum: 0.000000\n",
            "2025-05-01 08:33:49,864 epoch 2 - iter 14/19 - loss 0.01134875 - time (sec): 6.59 - samples/sec: 67.94 - lr: 0.034386 - momentum: 0.000000\n",
            "2025-05-01 08:33:50,366 epoch 2 - iter 15/19 - loss 0.01076585 - time (sec): 7.10 - samples/sec: 67.65 - lr: 0.034386 - momentum: 0.000000\n",
            "2025-05-01 08:33:50,861 epoch 2 - iter 16/19 - loss 0.01027263 - time (sec): 7.59 - samples/sec: 67.45 - lr: 0.034386 - momentum: 0.000000\n",
            "2025-05-01 08:33:51,202 epoch 2 - iter 17/19 - loss 0.00968488 - time (sec): 7.93 - samples/sec: 68.59 - lr: 0.034386 - momentum: 0.000000\n",
            "2025-05-01 08:33:51,579 epoch 2 - iter 18/19 - loss 0.01271228 - time (sec): 8.31 - samples/sec: 69.33 - lr: 0.034386 - momentum: 0.000000\n",
            "2025-05-01 08:33:51,993 epoch 2 - iter 19/19 - loss 0.01240449 - time (sec): 8.72 - samples/sec: 69.24 - lr: 0.034386 - momentum: 0.000000\n",
            "2025-05-01 08:33:51,995 ----------------------------------------------------------------------------------------------------\n",
            "2025-05-01 08:33:51,996 EPOCH 2 done: loss 0.0124 - lr: 0.034386\n"
          ]
        },
        {
          "output_type": "stream",
          "name": "stderr",
          "text": [
            "100%|██████████| 3/3 [00:01<00:00,  2.70it/s]"
          ]
        },
        {
          "output_type": "stream",
          "name": "stdout",
          "text": [
            "2025-05-01 08:33:53,131 DEV : loss 0.00790921226143837 - f1-score (micro avg)  0.994\n",
            "2025-05-01 08:33:53,169  - 0 epochs without improvement\n",
            "2025-05-01 08:33:53,170 saving best model\n"
          ]
        },
        {
          "output_type": "stream",
          "name": "stderr",
          "text": [
            "\n"
          ]
        },
        {
          "output_type": "stream",
          "name": "stdout",
          "text": [
            "2025-05-01 08:33:54,426 ----------------------------------------------------------------------------------------------------\n",
            "2025-05-01 08:33:54,603 epoch 3 - iter 1/19 - loss 0.00042903 - time (sec): 0.17 - samples/sec: 183.29 - lr: 0.034386 - momentum: 0.000000\n",
            "2025-05-01 08:33:55,012 epoch 3 - iter 2/19 - loss 0.00027581 - time (sec): 0.58 - samples/sec: 109.72 - lr: 0.034386 - momentum: 0.000000\n",
            "2025-05-01 08:33:55,512 epoch 3 - iter 3/19 - loss 0.01320603 - time (sec): 1.08 - samples/sec: 88.61 - lr: 0.034386 - momentum: 0.000000\n",
            "2025-05-01 08:33:56,086 epoch 3 - iter 4/19 - loss 0.00996311 - time (sec): 1.66 - samples/sec: 77.22 - lr: 0.034386 - momentum: 0.000000\n",
            "2025-05-01 08:33:56,606 epoch 3 - iter 5/19 - loss 0.00801706 - time (sec): 2.18 - samples/sec: 73.47 - lr: 0.034386 - momentum: 0.000000\n",
            "2025-05-01 08:33:57,001 epoch 3 - iter 6/19 - loss 0.00671579 - time (sec): 2.57 - samples/sec: 74.63 - lr: 0.034386 - momentum: 0.000000\n",
            "2025-05-01 08:33:57,392 epoch 3 - iter 7/19 - loss 0.00577054 - time (sec): 2.96 - samples/sec: 75.60 - lr: 0.034386 - momentum: 0.000000\n",
            "2025-05-01 08:33:57,834 epoch 3 - iter 8/19 - loss 0.00614003 - time (sec): 3.41 - samples/sec: 75.18 - lr: 0.034386 - momentum: 0.000000\n",
            "2025-05-01 08:33:58,309 epoch 3 - iter 9/19 - loss 0.00551039 - time (sec): 3.88 - samples/sec: 74.21 - lr: 0.034386 - momentum: 0.000000\n",
            "2025-05-01 08:33:58,755 epoch 3 - iter 10/19 - loss 0.03017418 - time (sec): 4.33 - samples/sec: 73.97 - lr: 0.034386 - momentum: 0.000000\n",
            "2025-05-01 08:33:59,278 epoch 3 - iter 11/19 - loss 0.03505635 - time (sec): 4.85 - samples/sec: 72.59 - lr: 0.034386 - momentum: 0.000000\n",
            "2025-05-01 08:33:59,781 epoch 3 - iter 12/19 - loss 0.03913051 - time (sec): 5.35 - samples/sec: 71.75 - lr: 0.034386 - momentum: 0.000000\n",
            "2025-05-01 08:34:00,232 epoch 3 - iter 13/19 - loss 0.03750911 - time (sec): 5.80 - samples/sec: 71.68 - lr: 0.034386 - momentum: 0.000000\n",
            "2025-05-01 08:34:00,754 epoch 3 - iter 14/19 - loss 0.03613746 - time (sec): 6.33 - samples/sec: 70.82 - lr: 0.034386 - momentum: 0.000000\n",
            "2025-05-01 08:34:01,222 epoch 3 - iter 15/19 - loss 0.03375449 - time (sec): 6.79 - samples/sec: 70.65 - lr: 0.034386 - momentum: 0.000000\n",
            "2025-05-01 08:34:01,634 epoch 3 - iter 16/19 - loss 0.03165432 - time (sec): 7.21 - samples/sec: 71.05 - lr: 0.034386 - momentum: 0.000000\n",
            "2025-05-01 08:34:02,107 epoch 3 - iter 17/19 - loss 0.02980001 - time (sec): 7.68 - samples/sec: 70.85 - lr: 0.034386 - momentum: 0.000000\n",
            "2025-05-01 08:34:02,647 epoch 3 - iter 18/19 - loss 0.02816341 - time (sec): 8.22 - samples/sec: 70.09 - lr: 0.034386 - momentum: 0.000000\n",
            "2025-05-01 08:34:03,148 epoch 3 - iter 19/19 - loss 0.02723230 - time (sec): 8.72 - samples/sec: 69.27 - lr: 0.034386 - momentum: 0.000000\n",
            "2025-05-01 08:34:03,149 ----------------------------------------------------------------------------------------------------\n",
            "2025-05-01 08:34:03,150 EPOCH 3 done: loss 0.0272 - lr: 0.034386\n"
          ]
        },
        {
          "output_type": "stream",
          "name": "stderr",
          "text": [
            "100%|██████████| 3/3 [00:01<00:00,  2.87it/s]"
          ]
        },
        {
          "output_type": "stream",
          "name": "stdout",
          "text": [
            "2025-05-01 08:34:04,224 DEV : loss 0.004622744396328926 - f1-score (micro avg)  1.0\n",
            "2025-05-01 08:34:04,265  - 0 epochs without improvement\n",
            "2025-05-01 08:34:04,266 saving best model\n"
          ]
        },
        {
          "output_type": "stream",
          "name": "stderr",
          "text": [
            "\n"
          ]
        },
        {
          "output_type": "stream",
          "name": "stdout",
          "text": [
            "2025-05-01 08:34:05,509 ----------------------------------------------------------------------------------------------------\n",
            "2025-05-01 08:34:05,663 epoch 4 - iter 1/19 - loss 0.00027836 - time (sec): 0.15 - samples/sec: 210.75 - lr: 0.034386 - momentum: 0.000000\n",
            "2025-05-01 08:34:06,045 epoch 4 - iter 2/19 - loss 0.00017145 - time (sec): 0.53 - samples/sec: 119.90 - lr: 0.034386 - momentum: 0.000000\n",
            "2025-05-01 08:34:06,534 epoch 4 - iter 3/19 - loss 0.00029408 - time (sec): 1.02 - samples/sec: 93.86 - lr: 0.034386 - momentum: 0.000000\n",
            "2025-05-01 08:34:07,125 epoch 4 - iter 4/19 - loss 0.00022831 - time (sec): 1.61 - samples/sec: 79.32 - lr: 0.034386 - momentum: 0.000000\n",
            "2025-05-01 08:34:07,658 epoch 4 - iter 5/19 - loss 0.00022105 - time (sec): 2.15 - samples/sec: 74.56 - lr: 0.034386 - momentum: 0.000000\n",
            "2025-05-01 08:34:08,141 epoch 4 - iter 6/19 - loss 0.00019599 - time (sec): 2.63 - samples/sec: 73.03 - lr: 0.034386 - momentum: 0.000000\n",
            "2025-05-01 08:34:08,641 epoch 4 - iter 7/19 - loss 0.00018252 - time (sec): 3.13 - samples/sec: 71.58 - lr: 0.034386 - momentum: 0.000000\n",
            "2025-05-01 08:34:09,198 epoch 4 - iter 8/19 - loss 0.00017813 - time (sec): 3.69 - samples/sec: 69.44 - lr: 0.034386 - momentum: 0.000000\n",
            "2025-05-01 08:34:09,685 epoch 4 - iter 9/19 - loss 0.00017075 - time (sec): 4.17 - samples/sec: 69.01 - lr: 0.034386 - momentum: 0.000000\n",
            "2025-05-01 08:34:10,130 epoch 4 - iter 10/19 - loss 0.00015829 - time (sec): 4.62 - samples/sec: 69.28 - lr: 0.034386 - momentum: 0.000000\n",
            "2025-05-01 08:34:10,490 epoch 4 - iter 11/19 - loss 0.00014768 - time (sec): 4.98 - samples/sec: 70.71 - lr: 0.034386 - momentum: 0.000000\n",
            "2025-05-01 08:34:10,888 epoch 4 - iter 12/19 - loss 0.00015403 - time (sec): 5.38 - samples/sec: 71.43 - lr: 0.034386 - momentum: 0.000000\n",
            "2025-05-01 08:34:11,361 epoch 4 - iter 13/19 - loss 0.00014472 - time (sec): 5.85 - samples/sec: 71.12 - lr: 0.034386 - momentum: 0.000000\n",
            "2025-05-01 08:34:11,838 epoch 4 - iter 14/19 - loss 0.00015693 - time (sec): 6.33 - samples/sec: 70.82 - lr: 0.034386 - momentum: 0.000000\n",
            "2025-05-01 08:34:12,234 epoch 4 - iter 15/19 - loss 0.00014940 - time (sec): 6.72 - samples/sec: 71.41 - lr: 0.034386 - momentum: 0.000000\n",
            "2025-05-01 08:34:12,641 epoch 4 - iter 16/19 - loss 0.00014244 - time (sec): 7.13 - samples/sec: 71.81 - lr: 0.034386 - momentum: 0.000000\n",
            "2025-05-01 08:34:13,118 epoch 4 - iter 17/19 - loss 0.00013625 - time (sec): 7.61 - samples/sec: 71.52 - lr: 0.034386 - momentum: 0.000000\n",
            "2025-05-01 08:34:13,526 epoch 4 - iter 18/19 - loss 0.00013116 - time (sec): 8.01 - samples/sec: 71.87 - lr: 0.034386 - momentum: 0.000000\n",
            "2025-05-01 08:34:13,976 epoch 4 - iter 19/19 - loss 0.00012710 - time (sec): 8.46 - samples/sec: 71.36 - lr: 0.034386 - momentum: 0.000000\n",
            "2025-05-01 08:34:13,982 ----------------------------------------------------------------------------------------------------\n",
            "2025-05-01 08:34:13,986 EPOCH 4 done: loss 0.0001 - lr: 0.034386\n"
          ]
        },
        {
          "output_type": "stream",
          "name": "stderr",
          "text": [
            "100%|██████████| 3/3 [00:01<00:00,  2.68it/s]"
          ]
        },
        {
          "output_type": "stream",
          "name": "stdout",
          "text": [
            "2025-05-01 08:34:15,135 DEV : loss 0.006100916303694248 - f1-score (micro avg)  0.994\n",
            "2025-05-01 08:34:15,175  - 1 epochs without improvement\n",
            "2025-05-01 08:34:15,176 ----------------------------------------------------------------------------------------------------\n"
          ]
        },
        {
          "output_type": "stream",
          "name": "stderr",
          "text": [
            "\n"
          ]
        },
        {
          "output_type": "stream",
          "name": "stdout",
          "text": [
            "2025-05-01 08:34:15,372 epoch 5 - iter 1/19 - loss 0.00003773 - time (sec): 0.19 - samples/sec: 164.81 - lr: 0.034386 - momentum: 0.000000\n",
            "2025-05-01 08:34:15,891 epoch 5 - iter 2/19 - loss 0.00212274 - time (sec): 0.71 - samples/sec: 89.75 - lr: 0.034386 - momentum: 0.000000\n",
            "2025-05-01 08:34:16,441 epoch 5 - iter 3/19 - loss 0.00145126 - time (sec): 1.26 - samples/sec: 76.03 - lr: 0.034386 - momentum: 0.000000\n",
            "2025-05-01 08:34:16,928 epoch 5 - iter 4/19 - loss 0.00111503 - time (sec): 1.75 - samples/sec: 73.16 - lr: 0.034386 - momentum: 0.000000\n",
            "2025-05-01 08:34:17,441 epoch 5 - iter 5/19 - loss 0.00092409 - time (sec): 2.26 - samples/sec: 70.69 - lr: 0.034386 - momentum: 0.000000\n",
            "2025-05-01 08:34:17,895 epoch 5 - iter 6/19 - loss 0.00078161 - time (sec): 2.72 - samples/sec: 70.66 - lr: 0.034386 - momentum: 0.000000\n",
            "2025-05-01 08:34:18,401 epoch 5 - iter 7/19 - loss 0.00067269 - time (sec): 3.22 - samples/sec: 69.50 - lr: 0.034386 - momentum: 0.000000\n",
            "2025-05-01 08:34:18,836 epoch 5 - iter 8/19 - loss 0.00059352 - time (sec): 3.66 - samples/sec: 69.98 - lr: 0.034386 - momentum: 0.000000\n",
            "2025-05-01 08:34:19,305 epoch 5 - iter 9/19 - loss 0.00053073 - time (sec): 4.13 - samples/sec: 69.78 - lr: 0.034386 - momentum: 0.000000\n",
            "2025-05-01 08:34:19,699 epoch 5 - iter 10/19 - loss 0.00048133 - time (sec): 4.52 - samples/sec: 70.79 - lr: 0.034386 - momentum: 0.000000\n",
            "2025-05-01 08:34:20,142 epoch 5 - iter 11/19 - loss 0.00043874 - time (sec): 4.96 - samples/sec: 70.92 - lr: 0.034386 - momentum: 0.000000\n",
            "2025-05-01 08:34:20,559 epoch 5 - iter 12/19 - loss 0.00043504 - time (sec): 5.38 - samples/sec: 71.36 - lr: 0.034386 - momentum: 0.000000\n",
            "2025-05-01 08:34:20,963 epoch 5 - iter 13/19 - loss 0.00045236 - time (sec): 5.78 - samples/sec: 71.91 - lr: 0.034386 - momentum: 0.000000\n",
            "2025-05-01 08:34:21,413 epoch 5 - iter 14/19 - loss 0.00042693 - time (sec): 6.23 - samples/sec: 71.86 - lr: 0.034386 - momentum: 0.000000\n",
            "2025-05-01 08:34:21,924 epoch 5 - iter 15/19 - loss 0.00040503 - time (sec): 6.75 - samples/sec: 71.15 - lr: 0.034386 - momentum: 0.000000\n",
            "2025-05-01 08:34:22,456 epoch 5 - iter 16/19 - loss 0.00038552 - time (sec): 7.28 - samples/sec: 70.35 - lr: 0.034386 - momentum: 0.000000\n",
            "2025-05-01 08:34:22,950 epoch 5 - iter 17/19 - loss 0.00036384 - time (sec): 7.77 - samples/sec: 69.99 - lr: 0.034386 - momentum: 0.000000\n",
            "2025-05-01 08:34:23,336 epoch 5 - iter 18/19 - loss 0.00034701 - time (sec): 8.16 - samples/sec: 70.60 - lr: 0.034386 - momentum: 0.000000\n",
            "2025-05-01 08:34:23,749 epoch 5 - iter 19/19 - loss 0.00033165 - time (sec): 8.57 - samples/sec: 70.47 - lr: 0.034386 - momentum: 0.000000\n",
            "2025-05-01 08:34:23,751 ----------------------------------------------------------------------------------------------------\n",
            "2025-05-01 08:34:23,752 EPOCH 5 done: loss 0.0003 - lr: 0.034386\n"
          ]
        },
        {
          "output_type": "stream",
          "name": "stderr",
          "text": [
            "100%|██████████| 3/3 [00:01<00:00,  2.89it/s]"
          ]
        },
        {
          "output_type": "stream",
          "name": "stdout",
          "text": [
            "2025-05-01 08:34:24,820 DEV : loss 0.01641668751835823 - f1-score (micro avg)  0.994\n",
            "2025-05-01 08:34:24,875  - 2 epochs without improvement\n",
            "2025-05-01 08:34:24,877 ----------------------------------------------------------------------------------------------------\n"
          ]
        },
        {
          "output_type": "stream",
          "name": "stderr",
          "text": [
            "\n"
          ]
        },
        {
          "output_type": "stream",
          "name": "stdout",
          "text": [
            "2025-05-01 08:34:25,018 epoch 6 - iter 1/19 - loss 0.00023129 - time (sec): 0.14 - samples/sec: 231.94 - lr: 0.034386 - momentum: 0.000000\n",
            "2025-05-01 08:34:25,402 epoch 6 - iter 2/19 - loss 0.00017566 - time (sec): 0.52 - samples/sec: 122.75 - lr: 0.034386 - momentum: 0.000000\n",
            "2025-05-01 08:34:25,887 epoch 6 - iter 3/19 - loss 0.01174886 - time (sec): 1.01 - samples/sec: 95.35 - lr: 0.034386 - momentum: 0.000000\n",
            "2025-05-01 08:34:26,391 epoch 6 - iter 4/19 - loss 0.00881769 - time (sec): 1.51 - samples/sec: 84.74 - lr: 0.034386 - momentum: 0.000000\n",
            "2025-05-01 08:34:26,896 epoch 6 - iter 5/19 - loss 0.00708903 - time (sec): 2.02 - samples/sec: 79.38 - lr: 0.034386 - momentum: 0.000000\n",
            "2025-05-01 08:34:27,263 epoch 6 - iter 6/19 - loss 0.00592600 - time (sec): 2.38 - samples/sec: 80.56 - lr: 0.034386 - momentum: 0.000000\n",
            "2025-05-01 08:34:27,687 epoch 6 - iter 7/19 - loss 0.00509236 - time (sec): 2.81 - samples/sec: 79.81 - lr: 0.034386 - momentum: 0.000000\n",
            "2025-05-01 08:34:28,116 epoch 6 - iter 8/19 - loss 0.00446307 - time (sec): 3.24 - samples/sec: 79.10 - lr: 0.034386 - momentum: 0.000000\n",
            "2025-05-01 08:34:28,521 epoch 6 - iter 9/19 - loss 0.00461869 - time (sec): 3.64 - samples/sec: 79.10 - lr: 0.034386 - momentum: 0.000000\n",
            "2025-05-01 08:34:29,057 epoch 6 - iter 10/19 - loss 0.00415928 - time (sec): 4.18 - samples/sec: 76.61 - lr: 0.034386 - momentum: 0.000000\n",
            "2025-05-01 08:34:29,603 epoch 6 - iter 11/19 - loss 0.00386536 - time (sec): 4.72 - samples/sec: 74.53 - lr: 0.034386 - momentum: 0.000000\n",
            "2025-05-01 08:34:30,093 epoch 6 - iter 12/19 - loss 0.00440587 - time (sec): 5.21 - samples/sec: 73.66 - lr: 0.034386 - momentum: 0.000000\n",
            "2025-05-01 08:34:30,615 epoch 6 - iter 13/19 - loss 0.00407350 - time (sec): 5.74 - samples/sec: 72.54 - lr: 0.034386 - momentum: 0.000000\n",
            "2025-05-01 08:34:31,112 epoch 6 - iter 14/19 - loss 0.00378670 - time (sec): 6.23 - samples/sec: 71.88 - lr: 0.034386 - momentum: 0.000000\n",
            "2025-05-01 08:34:31,425 epoch 6 - iter 15/19 - loss 0.00353641 - time (sec): 6.55 - samples/sec: 73.34 - lr: 0.034386 - momentum: 0.000000\n",
            "2025-05-01 08:34:31,793 epoch 6 - iter 16/19 - loss 0.00332218 - time (sec): 6.91 - samples/sec: 74.06 - lr: 0.034386 - momentum: 0.000000\n",
            "2025-05-01 08:34:32,247 epoch 6 - iter 17/19 - loss 0.00313322 - time (sec): 7.37 - samples/sec: 73.84 - lr: 0.034386 - momentum: 0.000000\n",
            "2025-05-01 08:34:32,734 epoch 6 - iter 18/19 - loss 0.00297008 - time (sec): 7.85 - samples/sec: 73.34 - lr: 0.034386 - momentum: 0.000000\n",
            "2025-05-01 08:34:33,256 epoch 6 - iter 19/19 - loss 0.00283847 - time (sec): 8.38 - samples/sec: 72.11 - lr: 0.034386 - momentum: 0.000000\n",
            "2025-05-01 08:34:33,258 ----------------------------------------------------------------------------------------------------\n",
            "2025-05-01 08:34:33,258 EPOCH 6 done: loss 0.0028 - lr: 0.034386\n"
          ]
        },
        {
          "output_type": "stream",
          "name": "stderr",
          "text": [
            "100%|██████████| 3/3 [00:01<00:00,  2.78it/s]"
          ]
        },
        {
          "output_type": "stream",
          "name": "stdout",
          "text": [
            "2025-05-01 08:34:34,365 DEV : loss 0.07080201804637909 - f1-score (micro avg)  0.988\n",
            "2025-05-01 08:34:34,407  - 3 epochs without improvement\n",
            "2025-05-01 08:34:34,408 ----------------------------------------------------------------------------------------------------\n"
          ]
        },
        {
          "output_type": "stream",
          "name": "stderr",
          "text": [
            "\n"
          ]
        },
        {
          "output_type": "stream",
          "name": "stdout",
          "text": [
            "2025-05-01 08:34:34,598 epoch 7 - iter 1/19 - loss 0.00009336 - time (sec): 0.19 - samples/sec: 171.35 - lr: 0.034386 - momentum: 0.000000\n",
            "2025-05-01 08:34:35,071 epoch 7 - iter 2/19 - loss 0.00005467 - time (sec): 0.66 - samples/sec: 96.92 - lr: 0.034386 - momentum: 0.000000\n",
            "2025-05-01 08:34:35,576 epoch 7 - iter 3/19 - loss 0.00011816 - time (sec): 1.16 - samples/sec: 82.40 - lr: 0.034386 - momentum: 0.000000\n",
            "2025-05-01 08:34:36,154 epoch 7 - iter 4/19 - loss 0.00169639 - time (sec): 1.74 - samples/sec: 73.45 - lr: 0.034386 - momentum: 0.000000\n",
            "2025-05-01 08:34:36,745 epoch 7 - iter 5/19 - loss 0.00136735 - time (sec): 2.33 - samples/sec: 68.54 - lr: 0.034386 - momentum: 0.000000\n",
            "2025-05-01 08:34:37,304 epoch 7 - iter 6/19 - loss 0.00177192 - time (sec): 2.89 - samples/sec: 66.37 - lr: 0.034386 - momentum: 0.000000\n",
            "2025-05-01 08:34:37,773 epoch 7 - iter 7/19 - loss 0.02277861 - time (sec): 3.36 - samples/sec: 66.62 - lr: 0.034386 - momentum: 0.000000\n",
            "2025-05-01 08:34:38,210 epoch 7 - iter 8/19 - loss 0.01993310 - time (sec): 3.80 - samples/sec: 67.39 - lr: 0.034386 - momentum: 0.000000\n",
            "2025-05-01 08:34:38,626 epoch 7 - iter 9/19 - loss 0.01772012 - time (sec): 4.22 - samples/sec: 68.32 - lr: 0.034386 - momentum: 0.000000\n",
            "2025-05-01 08:34:39,059 epoch 7 - iter 10/19 - loss 0.01637940 - time (sec): 4.65 - samples/sec: 68.85 - lr: 0.034386 - momentum: 0.000000\n",
            "2025-05-01 08:34:39,517 epoch 7 - iter 11/19 - loss 0.01489237 - time (sec): 5.11 - samples/sec: 68.94 - lr: 0.034386 - momentum: 0.000000\n",
            "2025-05-01 08:34:39,942 epoch 7 - iter 12/19 - loss 0.01365285 - time (sec): 5.53 - samples/sec: 69.43 - lr: 0.034386 - momentum: 0.000000\n",
            "2025-05-01 08:34:40,346 epoch 7 - iter 13/19 - loss 0.01260521 - time (sec): 5.94 - samples/sec: 70.09 - lr: 0.034386 - momentum: 0.000000\n",
            "2025-05-01 08:34:40,739 epoch 7 - iter 14/19 - loss 0.01171475 - time (sec): 6.33 - samples/sec: 70.79 - lr: 0.034386 - momentum: 0.000000\n",
            "2025-05-01 08:34:41,212 epoch 7 - iter 15/19 - loss 0.01143004 - time (sec): 6.80 - samples/sec: 70.58 - lr: 0.034386 - momentum: 0.000000\n",
            "2025-05-01 08:34:41,777 epoch 7 - iter 16/19 - loss 0.01071719 - time (sec): 7.37 - samples/sec: 69.51 - lr: 0.034386 - momentum: 0.000000\n",
            "2025-05-01 08:34:42,253 epoch 7 - iter 17/19 - loss 0.01014143 - time (sec): 7.84 - samples/sec: 69.37 - lr: 0.034386 - momentum: 0.000000\n",
            "2025-05-01 08:34:42,643 epoch 7 - iter 18/19 - loss 0.00957968 - time (sec): 8.23 - samples/sec: 69.97 - lr: 0.034386 - momentum: 0.000000\n",
            "2025-05-01 08:34:43,068 epoch 7 - iter 19/19 - loss 0.00917941 - time (sec): 8.66 - samples/sec: 69.77 - lr: 0.034386 - momentum: 0.000000\n",
            "2025-05-01 08:34:43,069 ----------------------------------------------------------------------------------------------------\n",
            "2025-05-01 08:34:43,070 EPOCH 7 done: loss 0.0092 - lr: 0.034386\n"
          ]
        },
        {
          "output_type": "stream",
          "name": "stderr",
          "text": [
            "100%|██████████| 3/3 [00:01<00:00,  2.72it/s]"
          ]
        },
        {
          "output_type": "stream",
          "name": "stdout",
          "text": [
            "2025-05-01 08:34:44,199 DEV : loss 0.03352341055870056 - f1-score (micro avg)  0.994\n",
            "2025-05-01 08:34:44,240  - 4 epochs without improvement (above 'patience')-> annealing learning_rate to [0.01719292980643611]\n",
            "2025-05-01 08:34:44,241 ----------------------------------------------------------------------------------------------------\n"
          ]
        },
        {
          "output_type": "stream",
          "name": "stderr",
          "text": [
            "\n"
          ]
        },
        {
          "output_type": "stream",
          "name": "stdout",
          "text": [
            "2025-05-01 08:34:44,421 epoch 8 - iter 1/19 - loss 0.00014554 - time (sec): 0.18 - samples/sec: 179.40 - lr: 0.017193 - momentum: 0.000000\n",
            "2025-05-01 08:34:44,822 epoch 8 - iter 2/19 - loss 0.00072724 - time (sec): 0.58 - samples/sec: 110.63 - lr: 0.017193 - momentum: 0.000000\n",
            "2025-05-01 08:34:45,225 epoch 8 - iter 3/19 - loss 0.00048910 - time (sec): 0.98 - samples/sec: 97.78 - lr: 0.017193 - momentum: 0.000000\n",
            "2025-05-01 08:34:45,599 epoch 8 - iter 4/19 - loss 0.00037397 - time (sec): 1.36 - samples/sec: 94.42 - lr: 0.017193 - momentum: 0.000000\n",
            "2025-05-01 08:34:46,070 epoch 8 - iter 5/19 - loss 0.00030980 - time (sec): 1.83 - samples/sec: 87.56 - lr: 0.017193 - momentum: 0.000000\n",
            "2025-05-01 08:34:46,541 epoch 8 - iter 6/19 - loss 0.00026136 - time (sec): 2.30 - samples/sec: 83.54 - lr: 0.017193 - momentum: 0.000000\n",
            "2025-05-01 08:34:46,975 epoch 8 - iter 7/19 - loss 0.00024658 - time (sec): 2.73 - samples/sec: 82.01 - lr: 0.017193 - momentum: 0.000000\n",
            "2025-05-01 08:34:47,485 epoch 8 - iter 8/19 - loss 0.02526233 - time (sec): 3.24 - samples/sec: 78.97 - lr: 0.017193 - momentum: 0.000000\n",
            "2025-05-01 08:34:47,944 epoch 8 - iter 9/19 - loss 0.02245665 - time (sec): 3.70 - samples/sec: 77.81 - lr: 0.017193 - momentum: 0.000000\n",
            "2025-05-01 08:34:48,416 epoch 8 - iter 10/19 - loss 0.02044019 - time (sec): 4.17 - samples/sec: 76.69 - lr: 0.017193 - momentum: 0.000000\n",
            "2025-05-01 08:34:48,995 epoch 8 - iter 11/19 - loss 0.01881140 - time (sec): 4.75 - samples/sec: 74.08 - lr: 0.017193 - momentum: 0.000000\n",
            "2025-05-01 08:34:49,518 epoch 8 - iter 12/19 - loss 0.01737783 - time (sec): 5.27 - samples/sec: 72.80 - lr: 0.017193 - momentum: 0.000000\n",
            "2025-05-01 08:34:49,939 epoch 8 - iter 13/19 - loss 0.01604289 - time (sec): 5.70 - samples/sec: 73.03 - lr: 0.017193 - momentum: 0.000000\n",
            "2025-05-01 08:34:50,425 epoch 8 - iter 14/19 - loss 0.01505554 - time (sec): 6.18 - samples/sec: 72.46 - lr: 0.017193 - momentum: 0.000000\n",
            "2025-05-01 08:34:50,918 epoch 8 - iter 15/19 - loss 0.01410605 - time (sec): 6.67 - samples/sec: 71.91 - lr: 0.017193 - momentum: 0.000000\n",
            "2025-05-01 08:34:51,447 epoch 8 - iter 16/19 - loss 0.01324299 - time (sec): 7.20 - samples/sec: 71.07 - lr: 0.017193 - momentum: 0.000000\n",
            "2025-05-01 08:34:51,881 epoch 8 - iter 17/19 - loss 0.01246603 - time (sec): 7.64 - samples/sec: 71.22 - lr: 0.017193 - momentum: 0.000000\n",
            "2025-05-01 08:34:52,230 epoch 8 - iter 18/19 - loss 0.01177428 - time (sec): 7.99 - samples/sec: 72.12 - lr: 0.017193 - momentum: 0.000000\n",
            "2025-05-01 08:34:52,629 epoch 8 - iter 19/19 - loss 0.01123423 - time (sec): 8.39 - samples/sec: 72.03 - lr: 0.017193 - momentum: 0.000000\n",
            "2025-05-01 08:34:52,630 ----------------------------------------------------------------------------------------------------\n",
            "2025-05-01 08:34:52,631 EPOCH 8 done: loss 0.0112 - lr: 0.017193\n"
          ]
        },
        {
          "output_type": "stream",
          "name": "stderr",
          "text": [
            "100%|██████████| 3/3 [00:01<00:00,  2.93it/s]"
          ]
        },
        {
          "output_type": "stream",
          "name": "stdout",
          "text": [
            "2025-05-01 08:34:53,687 DEV : loss 0.04046154394745827 - f1-score (micro avg)  0.994\n",
            "2025-05-01 08:34:53,731  - 1 epochs without improvement\n",
            "2025-05-01 08:34:53,732 ----------------------------------------------------------------------------------------------------\n"
          ]
        },
        {
          "output_type": "stream",
          "name": "stderr",
          "text": [
            "\n"
          ]
        },
        {
          "output_type": "stream",
          "name": "stdout",
          "text": [
            "2025-05-01 08:34:53,948 epoch 9 - iter 1/19 - loss 0.00001210 - time (sec): 0.21 - samples/sec: 150.22 - lr: 0.017193 - momentum: 0.000000\n",
            "2025-05-01 08:34:54,422 epoch 9 - iter 2/19 - loss 0.00005500 - time (sec): 0.69 - samples/sec: 93.18 - lr: 0.017193 - momentum: 0.000000\n",
            "2025-05-01 08:34:54,895 epoch 9 - iter 3/19 - loss 0.00004159 - time (sec): 1.16 - samples/sec: 82.75 - lr: 0.017193 - momentum: 0.000000\n",
            "2025-05-01 08:34:55,432 epoch 9 - iter 4/19 - loss 0.00004905 - time (sec): 1.70 - samples/sec: 75.41 - lr: 0.017193 - momentum: 0.000000\n",
            "2025-05-01 08:34:55,974 epoch 9 - iter 5/19 - loss 0.00004403 - time (sec): 2.24 - samples/sec: 71.45 - lr: 0.017193 - momentum: 0.000000\n",
            "2025-05-01 08:34:56,382 epoch 9 - iter 6/19 - loss 0.00003914 - time (sec): 2.65 - samples/sec: 72.54 - lr: 0.017193 - momentum: 0.000000\n",
            "2025-05-01 08:34:56,683 epoch 9 - iter 7/19 - loss 0.00003515 - time (sec): 2.95 - samples/sec: 75.99 - lr: 0.017193 - momentum: 0.000000\n",
            "2025-05-01 08:34:57,025 epoch 9 - iter 8/19 - loss 0.00003208 - time (sec): 3.29 - samples/sec: 77.82 - lr: 0.017193 - momentum: 0.000000\n",
            "2025-05-01 08:34:57,485 epoch 9 - iter 9/19 - loss 0.00003064 - time (sec): 3.75 - samples/sec: 76.80 - lr: 0.017193 - momentum: 0.000000\n",
            "2025-05-01 08:34:58,031 epoch 9 - iter 10/19 - loss 0.00002963 - time (sec): 4.30 - samples/sec: 74.50 - lr: 0.017193 - momentum: 0.000000\n",
            "2025-05-01 08:34:58,442 epoch 9 - iter 11/19 - loss 0.00002828 - time (sec): 4.71 - samples/sec: 74.78 - lr: 0.017193 - momentum: 0.000000\n",
            "2025-05-01 08:34:58,851 epoch 9 - iter 12/19 - loss 0.00002664 - time (sec): 5.12 - samples/sec: 75.06 - lr: 0.017193 - momentum: 0.000000\n",
            "2025-05-01 08:34:59,285 epoch 9 - iter 13/19 - loss 0.00002693 - time (sec): 5.55 - samples/sec: 74.95 - lr: 0.017193 - momentum: 0.000000\n",
            "2025-05-01 08:34:59,714 epoch 9 - iter 14/19 - loss 0.00002549 - time (sec): 5.98 - samples/sec: 74.93 - lr: 0.017193 - momentum: 0.000000\n",
            "2025-05-01 08:35:00,179 epoch 9 - iter 15/19 - loss 0.00002931 - time (sec): 6.44 - samples/sec: 74.49 - lr: 0.017193 - momentum: 0.000000\n",
            "2025-05-01 08:35:00,604 epoch 9 - iter 16/19 - loss 0.00002906 - time (sec): 6.87 - samples/sec: 74.54 - lr: 0.017193 - momentum: 0.000000\n",
            "2025-05-01 08:35:01,106 epoch 9 - iter 17/19 - loss 0.00002931 - time (sec): 7.37 - samples/sec: 73.80 - lr: 0.017193 - momentum: 0.000000\n",
            "2025-05-01 08:35:01,671 epoch 9 - iter 18/19 - loss 0.00002831 - time (sec): 7.94 - samples/sec: 72.58 - lr: 0.017193 - momentum: 0.000000\n",
            "2025-05-01 08:35:02,188 epoch 9 - iter 19/19 - loss 0.00002760 - time (sec): 8.45 - samples/sec: 71.46 - lr: 0.017193 - momentum: 0.000000\n",
            "2025-05-01 08:35:02,193 ----------------------------------------------------------------------------------------------------\n",
            "2025-05-01 08:35:02,198 EPOCH 9 done: loss 0.0000 - lr: 0.017193\n"
          ]
        },
        {
          "output_type": "stream",
          "name": "stderr",
          "text": [
            "100%|██████████| 3/3 [00:01<00:00,  2.80it/s]"
          ]
        },
        {
          "output_type": "stream",
          "name": "stdout",
          "text": [
            "2025-05-01 08:35:03,303 DEV : loss 0.04391857236623764 - f1-score (micro avg)  0.994\n",
            "2025-05-01 08:35:03,361  - 2 epochs without improvement\n",
            "2025-05-01 08:35:03,364 ----------------------------------------------------------------------------------------------------\n"
          ]
        },
        {
          "output_type": "stream",
          "name": "stderr",
          "text": [
            "\n"
          ]
        },
        {
          "output_type": "stream",
          "name": "stdout",
          "text": [
            "2025-05-01 08:35:03,531 epoch 10 - iter 1/19 - loss 0.00001146 - time (sec): 0.16 - samples/sec: 197.30 - lr: 0.017193 - momentum: 0.000000\n",
            "2025-05-01 08:35:03,917 epoch 10 - iter 2/19 - loss 0.00005847 - time (sec): 0.55 - samples/sec: 116.77 - lr: 0.017193 - momentum: 0.000000\n",
            "2025-05-01 08:35:04,461 epoch 10 - iter 3/19 - loss 0.00004365 - time (sec): 1.09 - samples/sec: 87.92 - lr: 0.017193 - momentum: 0.000000\n",
            "2025-05-01 08:35:04,974 epoch 10 - iter 4/19 - loss 0.00004515 - time (sec): 1.61 - samples/sec: 79.72 - lr: 0.017193 - momentum: 0.000000\n",
            "2025-05-01 08:35:05,429 epoch 10 - iter 5/19 - loss 0.00003805 - time (sec): 2.06 - samples/sec: 77.65 - lr: 0.017193 - momentum: 0.000000\n",
            "2025-05-01 08:35:05,889 epoch 10 - iter 6/19 - loss 0.00003624 - time (sec): 2.52 - samples/sec: 76.19 - lr: 0.017193 - momentum: 0.000000\n",
            "2025-05-01 08:35:06,337 epoch 10 - iter 7/19 - loss 0.00003785 - time (sec): 2.97 - samples/sec: 75.47 - lr: 0.017193 - momentum: 0.000000\n",
            "2025-05-01 08:35:06,875 epoch 10 - iter 8/19 - loss 0.00003475 - time (sec): 3.51 - samples/sec: 73.02 - lr: 0.017193 - momentum: 0.000000\n",
            "2025-05-01 08:35:07,393 epoch 10 - iter 9/19 - loss 0.00003319 - time (sec): 4.02 - samples/sec: 71.57 - lr: 0.017193 - momentum: 0.000000\n",
            "2025-05-01 08:35:07,861 epoch 10 - iter 10/19 - loss 0.00003065 - time (sec): 4.49 - samples/sec: 71.23 - lr: 0.017193 - momentum: 0.000000\n",
            "2025-05-01 08:35:08,347 epoch 10 - iter 11/19 - loss 0.00003035 - time (sec): 4.98 - samples/sec: 70.71 - lr: 0.017193 - momentum: 0.000000\n",
            "2025-05-01 08:35:08,863 epoch 10 - iter 12/19 - loss 0.00002926 - time (sec): 5.49 - samples/sec: 69.89 - lr: 0.017193 - momentum: 0.000000\n",
            "2025-05-01 08:35:09,422 epoch 10 - iter 13/19 - loss 0.00004090 - time (sec): 6.05 - samples/sec: 68.73 - lr: 0.017193 - momentum: 0.000000\n",
            "2025-05-01 08:35:09,893 epoch 10 - iter 14/19 - loss 0.00003958 - time (sec): 6.52 - samples/sec: 68.66 - lr: 0.017193 - momentum: 0.000000\n",
            "2025-05-01 08:35:10,265 epoch 10 - iter 15/19 - loss 0.00003776 - time (sec): 6.90 - samples/sec: 69.61 - lr: 0.017193 - momentum: 0.000000\n",
            "2025-05-01 08:35:10,735 epoch 10 - iter 16/19 - loss 0.00003605 - time (sec): 7.37 - samples/sec: 69.51 - lr: 0.017193 - momentum: 0.000000\n",
            "2025-05-01 08:35:11,278 epoch 10 - iter 17/19 - loss 0.00003486 - time (sec): 7.91 - samples/sec: 68.78 - lr: 0.017193 - momentum: 0.000000\n",
            "2025-05-01 08:35:11,717 epoch 10 - iter 18/19 - loss 0.00003334 - time (sec): 8.35 - samples/sec: 68.99 - lr: 0.017193 - momentum: 0.000000\n",
            "2025-05-01 08:35:12,129 epoch 10 - iter 19/19 - loss 0.00003232 - time (sec): 8.76 - samples/sec: 68.95 - lr: 0.017193 - momentum: 0.000000\n",
            "2025-05-01 08:35:12,131 ----------------------------------------------------------------------------------------------------\n",
            "2025-05-01 08:35:12,132 EPOCH 10 done: loss 0.0000 - lr: 0.017193\n"
          ]
        },
        {
          "output_type": "stream",
          "name": "stderr",
          "text": [
            "100%|██████████| 3/3 [00:01<00:00,  2.99it/s]"
          ]
        },
        {
          "output_type": "stream",
          "name": "stdout",
          "text": [
            "2025-05-01 08:35:13,161 DEV : loss 0.04381227493286133 - f1-score (micro avg)  0.994\n",
            "2025-05-01 08:35:13,202  - 3 epochs without improvement\n",
            "2025-05-01 08:35:13,203 ----------------------------------------------------------------------------------------------------\n"
          ]
        },
        {
          "output_type": "stream",
          "name": "stderr",
          "text": [
            "\n"
          ]
        },
        {
          "output_type": "stream",
          "name": "stdout",
          "text": [
            "2025-05-01 08:35:13,353 epoch 11 - iter 1/19 - loss 0.00002346 - time (sec): 0.15 - samples/sec: 216.68 - lr: 0.017193 - momentum: 0.000000\n",
            "2025-05-01 08:35:13,729 epoch 11 - iter 2/19 - loss 0.00002057 - time (sec): 0.52 - samples/sec: 122.32 - lr: 0.017193 - momentum: 0.000000\n",
            "2025-05-01 08:35:14,181 epoch 11 - iter 3/19 - loss 0.00001861 - time (sec): 0.98 - samples/sec: 98.44 - lr: 0.017193 - momentum: 0.000000\n",
            "2025-05-01 08:35:14,630 epoch 11 - iter 4/19 - loss 0.00002327 - time (sec): 1.42 - samples/sec: 89.84 - lr: 0.017193 - momentum: 0.000000\n",
            "2025-05-01 08:35:15,175 epoch 11 - iter 5/19 - loss 0.00002796 - time (sec): 1.97 - samples/sec: 81.22 - lr: 0.017193 - momentum: 0.000000\n",
            "2025-05-01 08:35:15,724 epoch 11 - iter 6/19 - loss 0.00002560 - time (sec): 2.52 - samples/sec: 76.25 - lr: 0.017193 - momentum: 0.000000\n",
            "2025-05-01 08:35:16,180 epoch 11 - iter 7/19 - loss 0.00002444 - time (sec): 2.97 - samples/sec: 75.31 - lr: 0.017193 - momentum: 0.000000\n",
            "2025-05-01 08:35:16,678 epoch 11 - iter 8/19 - loss 0.00002449 - time (sec): 3.47 - samples/sec: 73.71 - lr: 0.017193 - momentum: 0.000000\n",
            "2025-05-01 08:35:17,185 epoch 11 - iter 9/19 - loss 0.00002305 - time (sec): 3.98 - samples/sec: 72.36 - lr: 0.017193 - momentum: 0.000000\n",
            "2025-05-01 08:35:17,622 epoch 11 - iter 10/19 - loss 0.00002369 - time (sec): 4.42 - samples/sec: 72.46 - lr: 0.017193 - momentum: 0.000000\n",
            "2025-05-01 08:35:17,985 epoch 11 - iter 11/19 - loss 0.00002346 - time (sec): 4.78 - samples/sec: 73.65 - lr: 0.017193 - momentum: 0.000000\n",
            "2025-05-01 08:35:18,491 epoch 11 - iter 12/19 - loss 0.00002410 - time (sec): 5.29 - samples/sec: 72.65 - lr: 0.017193 - momentum: 0.000000\n",
            "2025-05-01 08:35:19,039 epoch 11 - iter 13/19 - loss 0.00002329 - time (sec): 5.83 - samples/sec: 71.31 - lr: 0.017193 - momentum: 0.000000\n",
            "2025-05-01 08:35:19,507 epoch 11 - iter 14/19 - loss 0.00002239 - time (sec): 6.30 - samples/sec: 71.09 - lr: 0.017193 - momentum: 0.000000\n",
            "2025-05-01 08:35:20,021 epoch 11 - iter 15/19 - loss 0.00002154 - time (sec): 6.82 - samples/sec: 70.43 - lr: 0.017193 - momentum: 0.000000\n",
            "2025-05-01 08:35:20,571 epoch 11 - iter 16/19 - loss 0.00002086 - time (sec): 7.37 - samples/sec: 69.51 - lr: 0.017193 - momentum: 0.000000\n",
            "2025-05-01 08:35:21,091 epoch 11 - iter 17/19 - loss 0.00002068 - time (sec): 7.89 - samples/sec: 68.99 - lr: 0.017193 - momentum: 0.000000\n",
            "2025-05-01 08:35:21,469 epoch 11 - iter 18/19 - loss 0.00002035 - time (sec): 8.26 - samples/sec: 69.70 - lr: 0.017193 - momentum: 0.000000\n",
            "2025-05-01 08:35:21,866 epoch 11 - iter 19/19 - loss 0.00002045 - time (sec): 8.66 - samples/sec: 69.74 - lr: 0.017193 - momentum: 0.000000\n",
            "2025-05-01 08:35:21,867 ----------------------------------------------------------------------------------------------------\n",
            "2025-05-01 08:35:21,869 EPOCH 11 done: loss 0.0000 - lr: 0.017193\n"
          ]
        },
        {
          "output_type": "stream",
          "name": "stderr",
          "text": [
            "100%|██████████| 3/3 [00:01<00:00,  1.73it/s]"
          ]
        },
        {
          "output_type": "stream",
          "name": "stdout",
          "text": [
            "2025-05-01 08:35:23,639 DEV : loss 0.04346955567598343 - f1-score (micro avg)  0.988\n",
            "2025-05-01 08:35:23,681  - 4 epochs without improvement (above 'patience')-> annealing learning_rate to [0.008596464903218056]\n",
            "2025-05-01 08:35:23,682 ----------------------------------------------------------------------------------------------------\n"
          ]
        },
        {
          "output_type": "stream",
          "name": "stderr",
          "text": [
            "\n"
          ]
        },
        {
          "output_type": "stream",
          "name": "stdout",
          "text": [
            "2025-05-01 08:35:23,865 epoch 12 - iter 1/19 - loss 0.00001067 - time (sec): 0.18 - samples/sec: 178.12 - lr: 0.008596 - momentum: 0.000000\n",
            "2025-05-01 08:35:24,273 epoch 12 - iter 2/19 - loss 0.00001484 - time (sec): 0.59 - samples/sec: 108.98 - lr: 0.008596 - momentum: 0.000000\n",
            "2025-05-01 08:35:24,748 epoch 12 - iter 3/19 - loss 0.00001700 - time (sec): 1.06 - samples/sec: 90.38 - lr: 0.008596 - momentum: 0.000000\n",
            "2025-05-01 08:35:25,293 epoch 12 - iter 4/19 - loss 0.00002549 - time (sec): 1.61 - samples/sec: 79.62 - lr: 0.008596 - momentum: 0.000000\n",
            "2025-05-01 08:35:25,790 epoch 12 - iter 5/19 - loss 0.00002296 - time (sec): 2.10 - samples/sec: 76.02 - lr: 0.008596 - momentum: 0.000000\n",
            "2025-05-01 08:35:26,186 epoch 12 - iter 6/19 - loss 0.00002067 - time (sec): 2.50 - samples/sec: 76.79 - lr: 0.008596 - momentum: 0.000000\n",
            "2025-05-01 08:35:26,609 epoch 12 - iter 7/19 - loss 0.00002001 - time (sec): 2.92 - samples/sec: 76.62 - lr: 0.008596 - momentum: 0.000000\n",
            "2025-05-01 08:35:27,106 epoch 12 - iter 8/19 - loss 0.00001940 - time (sec): 3.42 - samples/sec: 74.85 - lr: 0.008596 - momentum: 0.000000\n",
            "2025-05-01 08:35:27,619 epoch 12 - iter 9/19 - loss 0.00002042 - time (sec): 3.93 - samples/sec: 73.23 - lr: 0.008596 - momentum: 0.000000\n",
            "2025-05-01 08:35:28,095 epoch 12 - iter 10/19 - loss 0.00002042 - time (sec): 4.41 - samples/sec: 72.57 - lr: 0.008596 - momentum: 0.000000\n",
            "2025-05-01 08:35:28,602 epoch 12 - iter 11/19 - loss 0.00001973 - time (sec): 4.92 - samples/sec: 71.60 - lr: 0.008596 - momentum: 0.000000\n",
            "2025-05-01 08:35:29,036 epoch 12 - iter 12/19 - loss 0.00001861 - time (sec): 5.35 - samples/sec: 71.77 - lr: 0.008596 - momentum: 0.000000\n",
            "2025-05-01 08:35:29,485 epoch 12 - iter 13/19 - loss 0.00001919 - time (sec): 5.80 - samples/sec: 71.73 - lr: 0.008596 - momentum: 0.000000\n",
            "2025-05-01 08:35:29,857 epoch 12 - iter 14/19 - loss 0.00001933 - time (sec): 6.17 - samples/sec: 72.60 - lr: 0.008596 - momentum: 0.000000\n",
            "2025-05-01 08:35:30,152 epoch 12 - iter 15/19 - loss 0.00001887 - time (sec): 6.47 - samples/sec: 74.23 - lr: 0.008596 - momentum: 0.000000\n",
            "2025-05-01 08:35:30,476 epoch 12 - iter 16/19 - loss 0.00001840 - time (sec): 6.79 - samples/sec: 75.40 - lr: 0.008596 - momentum: 0.000000\n",
            "2025-05-01 08:35:30,868 epoch 12 - iter 17/19 - loss 0.00002018 - time (sec): 7.18 - samples/sec: 75.74 - lr: 0.008596 - momentum: 0.000000\n",
            "2025-05-01 08:35:31,326 epoch 12 - iter 18/19 - loss 0.00003478 - time (sec): 7.64 - samples/sec: 75.39 - lr: 0.008596 - momentum: 0.000000\n",
            "2025-05-01 08:35:31,665 epoch 12 - iter 19/19 - loss 0.00003386 - time (sec): 7.98 - samples/sec: 75.70 - lr: 0.008596 - momentum: 0.000000\n",
            "2025-05-01 08:35:31,666 ----------------------------------------------------------------------------------------------------\n",
            "2025-05-01 08:35:31,667 EPOCH 12 done: loss 0.0000 - lr: 0.008596\n"
          ]
        },
        {
          "output_type": "stream",
          "name": "stderr",
          "text": [
            "100%|██████████| 3/3 [00:01<00:00,  2.85it/s]"
          ]
        },
        {
          "output_type": "stream",
          "name": "stdout",
          "text": [
            "2025-05-01 08:35:32,747 DEV : loss 0.04145919159054756 - f1-score (micro avg)  0.994\n",
            "2025-05-01 08:35:32,786  - 1 epochs without improvement\n",
            "2025-05-01 08:35:32,787 ----------------------------------------------------------------------------------------------------\n"
          ]
        },
        {
          "output_type": "stream",
          "name": "stderr",
          "text": [
            "\n"
          ]
        },
        {
          "output_type": "stream",
          "name": "stdout",
          "text": [
            "2025-05-01 08:35:32,962 epoch 13 - iter 1/19 - loss 0.00003105 - time (sec): 0.17 - samples/sec: 186.00 - lr: 0.008596 - momentum: 0.000000\n",
            "2025-05-01 08:35:33,376 epoch 13 - iter 2/19 - loss 0.00002639 - time (sec): 0.59 - samples/sec: 109.16 - lr: 0.008596 - momentum: 0.000000\n",
            "2025-05-01 08:35:33,902 epoch 13 - iter 3/19 - loss 0.00003647 - time (sec): 1.11 - samples/sec: 86.36 - lr: 0.008596 - momentum: 0.000000\n",
            "2025-05-01 08:35:34,422 epoch 13 - iter 4/19 - loss 0.00003416 - time (sec): 1.63 - samples/sec: 78.43 - lr: 0.008596 - momentum: 0.000000\n",
            "2025-05-01 08:35:34,870 epoch 13 - iter 5/19 - loss 0.00002952 - time (sec): 2.08 - samples/sec: 76.92 - lr: 0.008596 - momentum: 0.000000\n",
            "2025-05-01 08:35:35,306 epoch 13 - iter 6/19 - loss 0.00002704 - time (sec): 2.52 - samples/sec: 76.31 - lr: 0.008596 - momentum: 0.000000\n",
            "2025-05-01 08:35:35,801 epoch 13 - iter 7/19 - loss 0.00002464 - time (sec): 3.01 - samples/sec: 74.40 - lr: 0.008596 - momentum: 0.000000\n",
            "2025-05-01 08:35:36,313 epoch 13 - iter 8/19 - loss 0.00002335 - time (sec): 3.52 - samples/sec: 72.68 - lr: 0.008596 - momentum: 0.000000\n",
            "2025-05-01 08:35:36,759 epoch 13 - iter 9/19 - loss 0.00002332 - time (sec): 3.97 - samples/sec: 72.56 - lr: 0.008596 - momentum: 0.000000\n",
            "2025-05-01 08:35:37,287 epoch 13 - iter 10/19 - loss 0.00002263 - time (sec): 4.50 - samples/sec: 71.16 - lr: 0.008596 - momentum: 0.000000\n",
            "2025-05-01 08:35:37,813 epoch 13 - iter 11/19 - loss 0.00015247 - time (sec): 5.02 - samples/sec: 70.08 - lr: 0.008596 - momentum: 0.000000\n",
            "2025-05-01 08:35:38,261 epoch 13 - iter 12/19 - loss 0.00014039 - time (sec): 5.47 - samples/sec: 70.19 - lr: 0.008596 - momentum: 0.000000\n",
            "2025-05-01 08:35:38,671 epoch 13 - iter 13/19 - loss 0.00013137 - time (sec): 5.88 - samples/sec: 70.74 - lr: 0.008596 - momentum: 0.000000\n",
            "2025-05-01 08:35:39,128 epoch 13 - iter 14/19 - loss 0.00012326 - time (sec): 6.34 - samples/sec: 70.68 - lr: 0.008596 - momentum: 0.000000\n",
            "2025-05-01 08:35:39,644 epoch 13 - iter 15/19 - loss 0.00011558 - time (sec): 6.85 - samples/sec: 70.03 - lr: 0.008596 - momentum: 0.000000\n",
            "2025-05-01 08:35:40,175 epoch 13 - iter 16/19 - loss 0.00010919 - time (sec): 7.38 - samples/sec: 69.33 - lr: 0.008596 - momentum: 0.000000\n",
            "2025-05-01 08:35:40,756 epoch 13 - iter 17/19 - loss 0.00010344 - time (sec): 7.97 - samples/sec: 68.29 - lr: 0.008596 - momentum: 0.000000\n",
            "2025-05-01 08:35:41,235 epoch 13 - iter 18/19 - loss 0.00016902 - time (sec): 8.44 - samples/sec: 68.21 - lr: 0.008596 - momentum: 0.000000\n",
            "2025-05-01 08:35:41,568 epoch 13 - iter 19/19 - loss 0.00016280 - time (sec): 8.78 - samples/sec: 68.81 - lr: 0.008596 - momentum: 0.000000\n",
            "2025-05-01 08:35:41,569 ----------------------------------------------------------------------------------------------------\n",
            "2025-05-01 08:35:41,570 EPOCH 13 done: loss 0.0002 - lr: 0.008596\n"
          ]
        },
        {
          "output_type": "stream",
          "name": "stderr",
          "text": [
            "100%|██████████| 3/3 [00:01<00:00,  2.73it/s]"
          ]
        },
        {
          "output_type": "stream",
          "name": "stdout",
          "text": [
            "2025-05-01 08:35:42,697 DEV : loss 0.04838554933667183 - f1-score (micro avg)  0.994\n",
            "2025-05-01 08:35:42,767  - 2 epochs without improvement\n",
            "2025-05-01 08:35:42,772 ----------------------------------------------------------------------------------------------------\n"
          ]
        },
        {
          "output_type": "stream",
          "name": "stderr",
          "text": [
            "\n"
          ]
        },
        {
          "output_type": "stream",
          "name": "stdout",
          "text": [
            "2025-05-01 08:35:42,966 epoch 14 - iter 1/19 - loss 0.00002185 - time (sec): 0.19 - samples/sec: 167.00 - lr: 0.008596 - momentum: 0.000000\n",
            "2025-05-01 08:35:43,435 epoch 14 - iter 2/19 - loss 0.00138836 - time (sec): 0.66 - samples/sec: 96.96 - lr: 0.008596 - momentum: 0.000000\n",
            "2025-05-01 08:35:43,948 epoch 14 - iter 3/19 - loss 0.00092980 - time (sec): 1.17 - samples/sec: 81.83 - lr: 0.008596 - momentum: 0.000000\n",
            "2025-05-01 08:35:44,400 epoch 14 - iter 4/19 - loss 0.00069864 - time (sec): 1.63 - samples/sec: 78.77 - lr: 0.008596 - momentum: 0.000000\n",
            "2025-05-01 08:35:44,835 epoch 14 - iter 5/19 - loss 0.00056126 - time (sec): 2.06 - samples/sec: 77.65 - lr: 0.008596 - momentum: 0.000000\n",
            "2025-05-01 08:35:45,255 epoch 14 - iter 6/19 - loss 0.00047041 - time (sec): 2.48 - samples/sec: 77.40 - lr: 0.008596 - momentum: 0.000000\n",
            "2025-05-01 08:35:45,806 epoch 14 - iter 7/19 - loss 0.00040428 - time (sec): 3.03 - samples/sec: 73.88 - lr: 0.008596 - momentum: 0.000000\n",
            "2025-05-01 08:35:46,293 epoch 14 - iter 8/19 - loss 0.00036376 - time (sec): 3.52 - samples/sec: 72.75 - lr: 0.008596 - momentum: 0.000000\n",
            "2025-05-01 08:35:46,709 epoch 14 - iter 9/19 - loss 0.00032598 - time (sec): 3.93 - samples/sec: 73.20 - lr: 0.008596 - momentum: 0.000000\n",
            "2025-05-01 08:35:47,188 epoch 14 - iter 10/19 - loss 0.00029480 - time (sec): 4.41 - samples/sec: 72.50 - lr: 0.008596 - momentum: 0.000000\n",
            "2025-05-01 08:35:47,760 epoch 14 - iter 11/19 - loss 0.00026935 - time (sec): 4.99 - samples/sec: 70.60 - lr: 0.008596 - momentum: 0.000000\n",
            "2025-05-01 08:35:48,279 epoch 14 - iter 12/19 - loss 0.00024738 - time (sec): 5.50 - samples/sec: 69.76 - lr: 0.008596 - momentum: 0.000000\n",
            "2025-05-01 08:35:48,696 epoch 14 - iter 13/19 - loss 0.00023098 - time (sec): 5.92 - samples/sec: 70.25 - lr: 0.008596 - momentum: 0.000000\n",
            "2025-05-01 08:35:49,130 epoch 14 - iter 14/19 - loss 0.00021619 - time (sec): 6.36 - samples/sec: 70.49 - lr: 0.008596 - momentum: 0.000000\n",
            "2025-05-01 08:35:49,570 epoch 14 - iter 15/19 - loss 0.00020342 - time (sec): 6.80 - samples/sec: 70.63 - lr: 0.008596 - momentum: 0.000000\n",
            "2025-05-01 08:35:49,979 epoch 14 - iter 16/19 - loss 0.00019133 - time (sec): 7.20 - samples/sec: 71.07 - lr: 0.008596 - momentum: 0.000000\n",
            "2025-05-01 08:35:50,349 epoch 14 - iter 17/19 - loss 0.00019388 - time (sec): 7.57 - samples/sec: 71.82 - lr: 0.008596 - momentum: 0.000000\n",
            "2025-05-01 08:35:50,768 epoch 14 - iter 18/19 - loss 0.00018349 - time (sec): 7.99 - samples/sec: 72.06 - lr: 0.008596 - momentum: 0.000000\n",
            "2025-05-01 08:35:51,176 epoch 14 - iter 19/19 - loss 0.00017586 - time (sec): 8.40 - samples/sec: 71.89 - lr: 0.008596 - momentum: 0.000000\n",
            "2025-05-01 08:35:51,178 ----------------------------------------------------------------------------------------------------\n",
            "2025-05-01 08:35:51,179 EPOCH 14 done: loss 0.0002 - lr: 0.008596\n"
          ]
        },
        {
          "output_type": "stream",
          "name": "stderr",
          "text": [
            "100%|██████████| 3/3 [00:01<00:00,  2.74it/s]"
          ]
        },
        {
          "output_type": "stream",
          "name": "stdout",
          "text": [
            "2025-05-01 08:35:52,302 DEV : loss 0.036271389573812485 - f1-score (micro avg)  0.994\n",
            "2025-05-01 08:35:52,340  - 3 epochs without improvement\n",
            "2025-05-01 08:35:52,341 ----------------------------------------------------------------------------------------------------\n"
          ]
        },
        {
          "output_type": "stream",
          "name": "stderr",
          "text": [
            "\n"
          ]
        },
        {
          "output_type": "stream",
          "name": "stdout",
          "text": [
            "2025-05-01 08:35:52,514 epoch 15 - iter 1/19 - loss 0.00002015 - time (sec): 0.17 - samples/sec: 188.50 - lr: 0.008596 - momentum: 0.000000\n",
            "2025-05-01 08:35:52,939 epoch 15 - iter 2/19 - loss 0.00001773 - time (sec): 0.60 - samples/sec: 107.50 - lr: 0.008596 - momentum: 0.000000\n",
            "2025-05-01 08:35:53,400 epoch 15 - iter 3/19 - loss 0.00001584 - time (sec): 1.06 - samples/sec: 90.93 - lr: 0.008596 - momentum: 0.000000\n",
            "2025-05-01 08:35:53,870 epoch 15 - iter 4/19 - loss 0.00001339 - time (sec): 1.53 - samples/sec: 83.86 - lr: 0.008596 - momentum: 0.000000\n",
            "2025-05-01 08:35:54,365 epoch 15 - iter 5/19 - loss 0.00001396 - time (sec): 2.02 - samples/sec: 79.17 - lr: 0.008596 - momentum: 0.000000\n",
            "2025-05-01 08:35:54,776 epoch 15 - iter 6/19 - loss 0.00001440 - time (sec): 2.43 - samples/sec: 78.95 - lr: 0.008596 - momentum: 0.000000\n",
            "2025-05-01 08:35:55,344 epoch 15 - iter 7/19 - loss 0.00003417 - time (sec): 3.00 - samples/sec: 74.66 - lr: 0.008596 - momentum: 0.000000\n",
            "2025-05-01 08:35:55,897 epoch 15 - iter 8/19 - loss 0.00003162 - time (sec): 3.55 - samples/sec: 72.04 - lr: 0.008596 - momentum: 0.000000\n",
            "2025-05-01 08:35:56,485 epoch 15 - iter 9/19 - loss 0.00002988 - time (sec): 4.14 - samples/sec: 69.54 - lr: 0.008596 - momentum: 0.000000\n",
            "2025-05-01 08:35:56,995 epoch 15 - iter 10/19 - loss 0.00002915 - time (sec): 4.65 - samples/sec: 68.80 - lr: 0.008596 - momentum: 0.000000\n",
            "2025-05-01 08:35:57,430 epoch 15 - iter 11/19 - loss 0.00002731 - time (sec): 5.09 - samples/sec: 69.21 - lr: 0.008596 - momentum: 0.000000\n",
            "2025-05-01 08:35:57,853 epoch 15 - iter 12/19 - loss 0.00002638 - time (sec): 5.51 - samples/sec: 69.70 - lr: 0.008596 - momentum: 0.000000\n",
            "2025-05-01 08:35:58,164 epoch 15 - iter 13/19 - loss 0.00002553 - time (sec): 5.82 - samples/sec: 71.47 - lr: 0.008596 - momentum: 0.000000\n",
            "2025-05-01 08:35:58,504 epoch 15 - iter 14/19 - loss 0.00002484 - time (sec): 6.16 - samples/sec: 72.72 - lr: 0.008596 - momentum: 0.000000\n",
            "2025-05-01 08:35:58,865 epoch 15 - iter 15/19 - loss 0.00002403 - time (sec): 6.52 - samples/sec: 73.61 - lr: 0.008596 - momentum: 0.000000\n",
            "2025-05-01 08:35:59,329 epoch 15 - iter 16/19 - loss 0.00002282 - time (sec): 6.99 - samples/sec: 73.30 - lr: 0.008596 - momentum: 0.000000\n",
            "2025-05-01 08:35:59,821 epoch 15 - iter 17/19 - loss 0.00002210 - time (sec): 7.48 - samples/sec: 72.76 - lr: 0.008596 - momentum: 0.000000\n",
            "2025-05-01 08:36:00,235 epoch 15 - iter 18/19 - loss 0.00002145 - time (sec): 7.89 - samples/sec: 72.99 - lr: 0.008596 - momentum: 0.000000\n",
            "2025-05-01 08:36:00,658 epoch 15 - iter 19/19 - loss 0.00002096 - time (sec): 8.31 - samples/sec: 72.65 - lr: 0.008596 - momentum: 0.000000\n",
            "2025-05-01 08:36:00,659 ----------------------------------------------------------------------------------------------------\n",
            "2025-05-01 08:36:00,661 EPOCH 15 done: loss 0.0000 - lr: 0.008596\n"
          ]
        },
        {
          "output_type": "stream",
          "name": "stderr",
          "text": [
            "100%|██████████| 3/3 [00:01<00:00,  2.71it/s]"
          ]
        },
        {
          "output_type": "stream",
          "name": "stdout",
          "text": [
            "2025-05-01 08:36:01,794 DEV : loss 0.03639521449804306 - f1-score (micro avg)  0.994\n",
            "2025-05-01 08:36:01,834  - 4 epochs without improvement (above 'patience')-> annealing learning_rate to [0.004298232451609028]\n",
            "2025-05-01 08:36:01,835 ----------------------------------------------------------------------------------------------------\n"
          ]
        },
        {
          "output_type": "stream",
          "name": "stderr",
          "text": [
            "\n"
          ]
        },
        {
          "output_type": "stream",
          "name": "stdout",
          "text": [
            "2025-05-01 08:36:02,048 epoch 16 - iter 1/19 - loss 0.00003162 - time (sec): 0.21 - samples/sec: 152.42 - lr: 0.004298 - momentum: 0.000000\n",
            "2025-05-01 08:36:02,505 epoch 16 - iter 2/19 - loss 0.00002350 - time (sec): 0.67 - samples/sec: 95.96 - lr: 0.004298 - momentum: 0.000000\n",
            "2025-05-01 08:36:02,893 epoch 16 - iter 3/19 - loss 0.00001777 - time (sec): 1.06 - samples/sec: 90.97 - lr: 0.004298 - momentum: 0.000000\n",
            "2025-05-01 08:36:03,306 epoch 16 - iter 4/19 - loss 0.00001577 - time (sec): 1.47 - samples/sec: 87.17 - lr: 0.004298 - momentum: 0.000000\n",
            "2025-05-01 08:36:03,733 epoch 16 - iter 5/19 - loss 0.00001459 - time (sec): 1.90 - samples/sec: 84.42 - lr: 0.004298 - momentum: 0.000000\n",
            "2025-05-01 08:36:04,194 epoch 16 - iter 6/19 - loss 0.00001371 - time (sec): 2.36 - samples/sec: 81.48 - lr: 0.004298 - momentum: 0.000000\n",
            "2025-05-01 08:36:04,793 epoch 16 - iter 7/19 - loss 0.00001252 - time (sec): 2.96 - samples/sec: 75.80 - lr: 0.004298 - momentum: 0.000000\n",
            "2025-05-01 08:36:05,367 epoch 16 - iter 8/19 - loss 0.00001265 - time (sec): 3.53 - samples/sec: 72.53 - lr: 0.004298 - momentum: 0.000000\n",
            "2025-05-01 08:36:05,883 epoch 16 - iter 9/19 - loss 0.00001166 - time (sec): 4.05 - samples/sec: 71.19 - lr: 0.004298 - momentum: 0.000000\n",
            "2025-05-01 08:36:06,254 epoch 16 - iter 10/19 - loss 0.00001308 - time (sec): 4.42 - samples/sec: 72.46 - lr: 0.004298 - momentum: 0.000000\n",
            "2025-05-01 08:36:06,597 epoch 16 - iter 11/19 - loss 0.00001253 - time (sec): 4.76 - samples/sec: 73.96 - lr: 0.004298 - momentum: 0.000000\n",
            "2025-05-01 08:36:07,033 epoch 16 - iter 12/19 - loss 0.00001244 - time (sec): 5.20 - samples/sec: 73.91 - lr: 0.004298 - momentum: 0.000000\n",
            "2025-05-01 08:36:07,551 epoch 16 - iter 13/19 - loss 0.00001266 - time (sec): 5.71 - samples/sec: 72.81 - lr: 0.004298 - momentum: 0.000000\n",
            "2025-05-01 08:36:08,010 epoch 16 - iter 14/19 - loss 0.00001408 - time (sec): 6.17 - samples/sec: 72.58 - lr: 0.004298 - momentum: 0.000000\n",
            "2025-05-01 08:36:08,438 epoch 16 - iter 15/19 - loss 0.00001412 - time (sec): 6.60 - samples/sec: 72.73 - lr: 0.004298 - momentum: 0.000000\n",
            "2025-05-01 08:36:08,923 epoch 16 - iter 16/19 - loss 0.00001449 - time (sec): 7.09 - samples/sec: 72.27 - lr: 0.004298 - momentum: 0.000000\n",
            "2025-05-01 08:36:09,340 epoch 16 - iter 17/19 - loss 0.00001443 - time (sec): 7.50 - samples/sec: 72.51 - lr: 0.004298 - momentum: 0.000000\n",
            "2025-05-01 08:36:09,868 epoch 16 - iter 18/19 - loss 0.00001398 - time (sec): 8.03 - samples/sec: 71.73 - lr: 0.004298 - momentum: 0.000000\n",
            "2025-05-01 08:36:10,397 epoch 16 - iter 19/19 - loss 0.00001385 - time (sec): 8.56 - samples/sec: 70.57 - lr: 0.004298 - momentum: 0.000000\n",
            "2025-05-01 08:36:10,408 ----------------------------------------------------------------------------------------------------\n",
            "2025-05-01 08:36:10,409 EPOCH 16 done: loss 0.0000 - lr: 0.004298\n"
          ]
        },
        {
          "output_type": "stream",
          "name": "stderr",
          "text": [
            "100%|██████████| 3/3 [00:01<00:00,  2.71it/s]"
          ]
        },
        {
          "output_type": "stream",
          "name": "stdout",
          "text": [
            "2025-05-01 08:36:11,545 DEV : loss 0.03647807240486145 - f1-score (micro avg)  0.994\n",
            "2025-05-01 08:36:11,608  - 1 epochs without improvement\n",
            "2025-05-01 08:36:11,610 ----------------------------------------------------------------------------------------------------\n"
          ]
        },
        {
          "output_type": "stream",
          "name": "stderr",
          "text": [
            "\n"
          ]
        },
        {
          "output_type": "stream",
          "name": "stdout",
          "text": [
            "2025-05-01 08:36:11,844 epoch 17 - iter 1/19 - loss 0.00000977 - time (sec): 0.23 - samples/sec: 139.81 - lr: 0.004298 - momentum: 0.000000\n",
            "2025-05-01 08:36:12,350 epoch 17 - iter 2/19 - loss 0.00000892 - time (sec): 0.74 - samples/sec: 87.05 - lr: 0.004298 - momentum: 0.000000\n",
            "2025-05-01 08:36:12,823 epoch 17 - iter 3/19 - loss 0.00000786 - time (sec): 1.21 - samples/sec: 79.47 - lr: 0.004298 - momentum: 0.000000\n",
            "2025-05-01 08:36:13,228 epoch 17 - iter 4/19 - loss 0.00000797 - time (sec): 1.61 - samples/sec: 79.34 - lr: 0.004298 - momentum: 0.000000\n",
            "2025-05-01 08:36:13,706 epoch 17 - iter 5/19 - loss 0.00000874 - time (sec): 2.09 - samples/sec: 76.49 - lr: 0.004298 - momentum: 0.000000\n",
            "2025-05-01 08:36:14,154 epoch 17 - iter 6/19 - loss 0.00000961 - time (sec): 2.54 - samples/sec: 75.62 - lr: 0.004298 - momentum: 0.000000\n",
            "2025-05-01 08:36:14,585 epoch 17 - iter 7/19 - loss 0.00001028 - time (sec): 2.97 - samples/sec: 75.41 - lr: 0.004298 - momentum: 0.000000\n",
            "2025-05-01 08:36:14,945 epoch 17 - iter 8/19 - loss 0.00000997 - time (sec): 3.33 - samples/sec: 76.87 - lr: 0.004298 - momentum: 0.000000\n",
            "2025-05-01 08:36:15,283 epoch 17 - iter 9/19 - loss 0.00000993 - time (sec): 3.67 - samples/sec: 78.51 - lr: 0.004298 - momentum: 0.000000\n",
            "2025-05-01 08:36:15,714 epoch 17 - iter 10/19 - loss 0.00001049 - time (sec): 4.10 - samples/sec: 78.06 - lr: 0.004298 - momentum: 0.000000\n",
            "2025-05-01 08:36:16,155 epoch 17 - iter 11/19 - loss 0.00001081 - time (sec): 4.54 - samples/sec: 77.53 - lr: 0.004298 - momentum: 0.000000\n",
            "2025-05-01 08:36:16,612 epoch 17 - iter 12/19 - loss 0.00001075 - time (sec): 5.00 - samples/sec: 76.83 - lr: 0.004298 - momentum: 0.000000\n",
            "2025-05-01 08:36:17,179 epoch 17 - iter 13/19 - loss 0.00001211 - time (sec): 5.56 - samples/sec: 74.77 - lr: 0.004298 - momentum: 0.000000\n",
            "2025-05-01 08:36:17,709 epoch 17 - iter 14/19 - loss 0.00001391 - time (sec): 6.09 - samples/sec: 73.51 - lr: 0.004298 - momentum: 0.000000\n",
            "2025-05-01 08:36:18,273 epoch 17 - iter 15/19 - loss 0.00001489 - time (sec): 6.66 - samples/sec: 72.09 - lr: 0.004298 - momentum: 0.000000\n",
            "2025-05-01 08:36:18,759 epoch 17 - iter 16/19 - loss 0.00001457 - time (sec): 7.14 - samples/sec: 71.66 - lr: 0.004298 - momentum: 0.000000\n",
            "2025-05-01 08:36:19,202 epoch 17 - iter 17/19 - loss 0.00001658 - time (sec): 7.59 - samples/sec: 71.70 - lr: 0.004298 - momentum: 0.000000\n",
            "2025-05-01 08:36:19,679 epoch 17 - iter 18/19 - loss 0.00001834 - time (sec): 8.06 - samples/sec: 71.43 - lr: 0.004298 - momentum: 0.000000\n",
            "2025-05-01 08:36:20,173 epoch 17 - iter 19/19 - loss 0.00001775 - time (sec): 8.56 - samples/sec: 70.57 - lr: 0.004298 - momentum: 0.000000\n",
            "2025-05-01 08:36:20,174 ----------------------------------------------------------------------------------------------------\n",
            "2025-05-01 08:36:20,175 EPOCH 17 done: loss 0.0000 - lr: 0.004298\n"
          ]
        },
        {
          "output_type": "stream",
          "name": "stderr",
          "text": [
            "100%|██████████| 3/3 [00:01<00:00,  2.90it/s]"
          ]
        },
        {
          "output_type": "stream",
          "name": "stdout",
          "text": [
            "2025-05-01 08:36:21,239 DEV : loss 0.03581586107611656 - f1-score (micro avg)  0.994\n",
            "2025-05-01 08:36:21,297  - 2 epochs without improvement\n",
            "2025-05-01 08:36:21,298 ----------------------------------------------------------------------------------------------------\n"
          ]
        },
        {
          "output_type": "stream",
          "name": "stderr",
          "text": [
            "\n"
          ]
        },
        {
          "output_type": "stream",
          "name": "stdout",
          "text": [
            "2025-05-01 08:36:21,459 epoch 18 - iter 1/19 - loss 0.00002628 - time (sec): 0.16 - samples/sec: 202.15 - lr: 0.004298 - momentum: 0.000000\n",
            "2025-05-01 08:36:21,906 epoch 18 - iter 2/19 - loss 0.00001967 - time (sec): 0.61 - samples/sec: 105.68 - lr: 0.004298 - momentum: 0.000000\n",
            "2025-05-01 08:36:22,428 epoch 18 - iter 3/19 - loss 0.00001602 - time (sec): 1.13 - samples/sec: 85.15 - lr: 0.004298 - momentum: 0.000000\n",
            "2025-05-01 08:36:22,943 epoch 18 - iter 4/19 - loss 0.00002781 - time (sec): 1.64 - samples/sec: 77.90 - lr: 0.004298 - momentum: 0.000000\n",
            "2025-05-01 08:36:23,441 epoch 18 - iter 5/19 - loss 0.00002477 - time (sec): 2.14 - samples/sec: 74.76 - lr: 0.004298 - momentum: 0.000000\n",
            "2025-05-01 08:36:23,957 epoch 18 - iter 6/19 - loss 0.00002243 - time (sec): 2.66 - samples/sec: 72.28 - lr: 0.004298 - momentum: 0.000000\n",
            "2025-05-01 08:36:24,388 epoch 18 - iter 7/19 - loss 0.00002011 - time (sec): 3.09 - samples/sec: 72.55 - lr: 0.004298 - momentum: 0.000000\n",
            "2025-05-01 08:36:24,806 epoch 18 - iter 8/19 - loss 0.00001890 - time (sec): 3.51 - samples/sec: 73.02 - lr: 0.004298 - momentum: 0.000000\n",
            "2025-05-01 08:36:25,234 epoch 18 - iter 9/19 - loss 0.00001905 - time (sec): 3.93 - samples/sec: 73.22 - lr: 0.004298 - momentum: 0.000000\n",
            "2025-05-01 08:36:25,797 epoch 18 - iter 10/19 - loss 0.00001809 - time (sec): 4.50 - samples/sec: 71.17 - lr: 0.004298 - momentum: 0.000000\n",
            "2025-05-01 08:36:26,273 epoch 18 - iter 11/19 - loss 0.00001710 - time (sec): 4.97 - samples/sec: 70.79 - lr: 0.004298 - momentum: 0.000000\n",
            "2025-05-01 08:36:26,708 epoch 18 - iter 12/19 - loss 0.00001705 - time (sec): 5.41 - samples/sec: 71.01 - lr: 0.004298 - momentum: 0.000000\n",
            "2025-05-01 08:36:27,232 epoch 18 - iter 13/19 - loss 0.00001703 - time (sec): 5.93 - samples/sec: 70.14 - lr: 0.004298 - momentum: 0.000000\n",
            "2025-05-01 08:36:27,727 epoch 18 - iter 14/19 - loss 0.00001760 - time (sec): 6.43 - samples/sec: 69.71 - lr: 0.004298 - momentum: 0.000000\n",
            "2025-05-01 08:36:28,135 epoch 18 - iter 15/19 - loss 0.00001802 - time (sec): 6.84 - samples/sec: 70.22 - lr: 0.004298 - momentum: 0.000000\n",
            "2025-05-01 08:36:28,563 epoch 18 - iter 16/19 - loss 0.00001743 - time (sec): 7.26 - samples/sec: 70.50 - lr: 0.004298 - momentum: 0.000000\n",
            "2025-05-01 08:36:29,006 epoch 18 - iter 17/19 - loss 0.00001689 - time (sec): 7.71 - samples/sec: 70.59 - lr: 0.004298 - momentum: 0.000000\n",
            "2025-05-01 08:36:29,380 epoch 18 - iter 18/19 - loss 0.00001703 - time (sec): 8.08 - samples/sec: 71.29 - lr: 0.004298 - momentum: 0.000000\n",
            "2025-05-01 08:36:29,876 epoch 18 - iter 19/19 - loss 0.00001664 - time (sec): 8.58 - samples/sec: 70.43 - lr: 0.004298 - momentum: 0.000000\n",
            "2025-05-01 08:36:29,877 ----------------------------------------------------------------------------------------------------\n",
            "2025-05-01 08:36:29,878 EPOCH 18 done: loss 0.0000 - lr: 0.004298\n"
          ]
        },
        {
          "output_type": "stream",
          "name": "stderr",
          "text": [
            "100%|██████████| 3/3 [00:01<00:00,  2.65it/s]"
          ]
        },
        {
          "output_type": "stream",
          "name": "stdout",
          "text": [
            "2025-05-01 08:36:31,039 DEV : loss 0.03578036651015282 - f1-score (micro avg)  0.994\n",
            "2025-05-01 08:36:31,085  - 3 epochs without improvement\n",
            "2025-05-01 08:36:31,087 ----------------------------------------------------------------------------------------------------\n"
          ]
        },
        {
          "output_type": "stream",
          "name": "stderr",
          "text": [
            "\n"
          ]
        },
        {
          "output_type": "stream",
          "name": "stdout",
          "text": [
            "2025-05-01 08:36:31,274 epoch 19 - iter 1/19 - loss 0.00001653 - time (sec): 0.18 - samples/sec: 173.17 - lr: 0.004298 - momentum: 0.000000\n",
            "2025-05-01 08:36:31,765 epoch 19 - iter 2/19 - loss 0.00001332 - time (sec): 0.68 - samples/sec: 94.76 - lr: 0.004298 - momentum: 0.000000\n",
            "2025-05-01 08:36:32,232 epoch 19 - iter 3/19 - loss 0.00001402 - time (sec): 1.14 - samples/sec: 83.98 - lr: 0.004298 - momentum: 0.000000\n",
            "2025-05-01 08:36:32,588 epoch 19 - iter 4/19 - loss 0.00001412 - time (sec): 1.50 - samples/sec: 85.39 - lr: 0.004298 - momentum: 0.000000\n",
            "2025-05-01 08:36:32,992 epoch 19 - iter 5/19 - loss 0.00001501 - time (sec): 1.90 - samples/sec: 84.09 - lr: 0.004298 - momentum: 0.000000\n",
            "2025-05-01 08:36:33,451 epoch 19 - iter 6/19 - loss 0.00001491 - time (sec): 2.36 - samples/sec: 81.28 - lr: 0.004298 - momentum: 0.000000\n",
            "2025-05-01 08:36:33,974 epoch 19 - iter 7/19 - loss 0.00007520 - time (sec): 2.88 - samples/sec: 77.65 - lr: 0.004298 - momentum: 0.000000\n",
            "2025-05-01 08:36:34,403 epoch 19 - iter 8/19 - loss 0.00006675 - time (sec): 3.31 - samples/sec: 77.26 - lr: 0.004298 - momentum: 0.000000\n",
            "2025-05-01 08:36:34,913 epoch 19 - iter 9/19 - loss 0.00006057 - time (sec): 3.82 - samples/sec: 75.32 - lr: 0.004298 - momentum: 0.000000\n",
            "2025-05-01 08:36:35,359 epoch 19 - iter 10/19 - loss 0.00005597 - time (sec): 4.27 - samples/sec: 74.94 - lr: 0.004298 - momentum: 0.000000\n",
            "2025-05-01 08:36:35,770 epoch 19 - iter 11/19 - loss 0.00005481 - time (sec): 4.68 - samples/sec: 75.20 - lr: 0.004298 - momentum: 0.000000\n",
            "2025-05-01 08:36:36,178 epoch 19 - iter 12/19 - loss 0.00005108 - time (sec): 5.09 - samples/sec: 75.47 - lr: 0.004298 - momentum: 0.000000\n",
            "2025-05-01 08:36:36,650 epoch 19 - iter 13/19 - loss 0.00004776 - time (sec): 5.56 - samples/sec: 74.81 - lr: 0.004298 - momentum: 0.000000\n",
            "2025-05-01 08:36:37,164 epoch 19 - iter 14/19 - loss 0.00004487 - time (sec): 6.08 - samples/sec: 73.74 - lr: 0.004298 - momentum: 0.000000\n",
            "2025-05-01 08:36:37,565 epoch 19 - iter 15/19 - loss 0.00004600 - time (sec): 6.48 - samples/sec: 74.13 - lr: 0.004298 - momentum: 0.000000\n",
            "2025-05-01 08:36:38,011 epoch 19 - iter 16/19 - loss 0.00004407 - time (sec): 6.92 - samples/sec: 73.97 - lr: 0.004298 - momentum: 0.000000\n",
            "2025-05-01 08:36:38,563 epoch 19 - iter 17/19 - loss 0.00004311 - time (sec): 7.47 - samples/sec: 72.78 - lr: 0.004298 - momentum: 0.000000\n",
            "2025-05-01 08:36:39,021 epoch 19 - iter 18/19 - loss 0.00004131 - time (sec): 7.93 - samples/sec: 72.62 - lr: 0.004298 - momentum: 0.000000\n",
            "2025-05-01 08:36:39,422 epoch 19 - iter 19/19 - loss 0.00003980 - time (sec): 8.33 - samples/sec: 72.49 - lr: 0.004298 - momentum: 0.000000\n",
            "2025-05-01 08:36:39,423 ----------------------------------------------------------------------------------------------------\n",
            "2025-05-01 08:36:39,424 EPOCH 19 done: loss 0.0000 - lr: 0.004298\n"
          ]
        },
        {
          "output_type": "stream",
          "name": "stderr",
          "text": [
            "100%|██████████| 3/3 [00:01<00:00,  2.79it/s]"
          ]
        },
        {
          "output_type": "stream",
          "name": "stdout",
          "text": [
            "2025-05-01 08:36:40,531 DEV : loss 0.03724370896816254 - f1-score (micro avg)  0.988\n",
            "2025-05-01 08:36:40,573  - 4 epochs without improvement (above 'patience')-> annealing learning_rate to [0.002149116225804514]\n"
          ]
        },
        {
          "output_type": "stream",
          "name": "stderr",
          "text": [
            "\n"
          ]
        },
        {
          "output_type": "stream",
          "name": "stdout",
          "text": [
            "2025-05-01 08:36:43,748 ----------------------------------------------------------------------------------------------------\n",
            "2025-05-01 08:36:43,750 Loading model from best epoch ...\n"
          ]
        },
        {
          "output_type": "stream",
          "name": "stderr",
          "text": [
            "100%|██████████| 2/2 [00:00<00:00,  4.34it/s]"
          ]
        },
        {
          "output_type": "stream",
          "name": "stdout",
          "text": [
            "2025-05-01 08:36:46,360 \n",
            "Results:\n",
            "- F-score (micro) 0.9851\n",
            "- F-score (macro) 0.9862\n",
            "- Accuracy 0.9851\n",
            "\n",
            "By class:\n",
            "              precision    recall  f1-score   support\n",
            "\n",
            "          공통     0.9688    1.0000    0.9841        31\n",
            "       가설구조물     1.0000    1.0000    1.0000        10\n",
            "          교량     1.0000    1.0000    1.0000         8\n",
            "        양중작업     1.0000    0.8750    0.9333         8\n",
            "        굴착공사     1.0000    1.0000    1.0000         7\n",
            "          건축     1.0000    1.0000    1.0000         3\n",
            "\n",
            "    accuracy                         0.9851        67\n",
            "   macro avg     0.9948    0.9792    0.9862        67\n",
            "weighted avg     0.9855    0.9851    0.9847        67\n",
            "\n",
            "2025-05-01 08:36:46,360 ----------------------------------------------------------------------------------------------------\n"
          ]
        },
        {
          "output_type": "stream",
          "name": "stderr",
          "text": [
            "\n"
          ]
        },
        {
          "output_type": "stream",
          "name": "stdout",
          "text": [
            "  훈련 결과: {'test_score': 0.9850746268656716}\n",
            "  현재 폴드 정확도: 1.0000\n",
            "  평균 성능: 0.9905 (유효한 폴드: 5/5)\n",
            "\n",
            "=== 랜덤 서치 결과 요약 ===\n",
            "1위: lr=0.0344, batch_size=32, epochs=19 - 점수: 0.9905 (유효 폴드: 5/5)\n",
            "2위: lr=0.0503, batch_size=16, epochs=8 - 점수: 0.8916 (유효 폴드: 5/5)\n",
            "\n",
            "최적 하이퍼파라미터: {'learning_rate': np.float64(0.03438585961287222), 'batch_size': 32, 'epochs': 19}, 점수: 0.9905\n"
          ]
        }
      ]
    },
    {
      "cell_type": "markdown",
      "source": [
        "random_state=42의 기능:\n",
        "\n",
        "- 재현성 보장: 같은 코드를 여러 번 실행해도 항상 동일한 데이터 분할 결과가 나오도록 함\n",
        "무작위성 제어: 데이터를 섞는(shuffle) 과정에서 난수 생성기의 시드 값을 고정 -> shuffle = true의 기능은 random 알고리즘의 난수값 고정여부를 참으로 설정 , 그 고정 난수값 random state = 42\n",
        "\n",
        "- 실험 비교 용이: 하이퍼파라미터만 바꿔서 실험해도 같은 데이터 분할을 사용하므로 공정한 비교 가능\n",
        "값의 의미: 42라는 숫자 자체는 특별한 의미가 없으며, 관례적으로 많이 사용되는 값임\n",
        "\n",
        "create_stratified_folds 함수의 기능:\n",
        "\n",
        "- 계층적 데이터 분할: 각 클래스의 비율을 모든 폴드에 동일하게 유지하며 분할(우리의 훈련용 데이터를 그냥 나누기에는 비슷한 category들끼리 모여있어 어려움이 있음\n",
        "\n",
        " -> 훈련용 데이터 fold 5개를 각 label 별로 일정한\n",
        "비율로 생성\n",
        "-> 그리고 그 fold 안에서 또 훈련용/시험용 데이터 분할)\n",
        "\n",
        "데이터 균형 유지:\n",
        "\n",
        "- 예: 원본 데이터에 '교량공사' 30%, '터널공사' 20%, '도로공사' 50%의 비율이라면\n",
        "각 폴드에도 이 비율이 유지됨\n",
        "\n",
        "\n",
        "샘플링 편향 방지:\n",
        "- 특정 카테고리가 특정 폴드에만 집중되는 것을 방지\n",
        "\n",
        "교차 검증 준비:\n",
        "-  각 폴드별 훈련/검증 데이터 인덱스를 생성하여 교차 검증에 사용할 수 있게 함\n",
        "\n",
        "이 함수는 교차 검증의 품질을 높이기 위한 핵심 단계로, 특히 클래스 불균형이 있는 텍스트 분류 데이터셋에서 매우 중요합니다.\n",
        "\n",
        "그러면 이렇게 fold하는 scikit-learn 패키지를 사용했을때 그 결과는 어떻게 나오는가?\n",
        "\n",
        "fold_indices 안에 들어있는 데이터는 다음과 같은 형식입니다:\n",
        "\n",
        "python[\n",
        "\n",
        "      (train_indices_fold1, val_indices_fold1),  # 1번 폴드\n",
        "      (train_indices_fold2, val_indices_fold2),  # 2번 폴드\n",
        "      (train_indices_fold3, val_indices_fold3),  # 3번 폴드\n",
        "      (train_indices_fold4, val_indices_fold4),  # 4번 폴드\n",
        "      (train_indices_fold5, val_indices_fold5)   # 5번 폴드\n",
        "]\n",
        "\n",
        "여기서:\n",
        "\n",
        "- 각 폴드는 튜플로 표현됩니다: (훈련 인덱스 배열, 검증 인덱스 배열)\n",
        "\n",
        "- 각 인덱스 배열은 numpy.ndarray 타입:\n",
        "\n",
        "    train_indices_fold1 = numpy.array([0, 1, 3, 4, 6, 7, ...])\n",
        "    val_indices_fold1 = numpy.array([2, 5, 8, ...])\n",
        "\n",
        "인덱스 비율:\n",
        "\n",
        "- 훈련 인덱스: 전체 데이터의 약 80% (5-fold의 경우)\n",
        "- 검증 인덱스: 전체 데이터의 약 20% (5-fold의 경우)\n",
        "\n",
        "\n",
        "각 인덱스의 의미:\n",
        "\n",
        "- 인덱스 값은 원본 데이터(texts와 labels 리스트)에서의 위치를 가리키는 정수\n",
        "- 예: train_indices_fold1[0] = 3이면 원본 데이터의 3번째 항목\n",
        "\n",
        "\n",
        "\n",
        "이 인덱스를 사용하여 원본 데이터에서 각 폴드별로 훈련/검증 데이터를 추출하고 모델을 학습/평가할 수 있습니다.\n",
        "\n",
        "\n",
        "위와 같은 과정을 통해서 교차검증을 위한 fold를 생성하고 , 각 교차검증에 사용할 하이퍼파라미터를 랜덤서치 하는 과정을 수행, 각 fold별로 train-file , dev-file , corpus 생성 , 분류생성 , tainer 인스턴스 생성 , 각 train 의 결과 즉 accuracy 구하는 과정을 수행,\n",
        "\n",
        "각 fold별로 , 각 하이퍼 파라미터 별로 수행했을때 가장 높은 acuuracy를 찾음으로써 하이퍼 파라미터 최적화 완료.\n"
      ],
      "metadata": {
        "id": "LN8NuynlOiod"
      }
    },
    {
      "cell_type": "markdown",
      "source": [],
      "metadata": {
        "id": "y1uaIPU8P1dI"
      }
    },
    {
      "cell_type": "code",
      "source": [
        "# 새로운 분류기 생성\n",
        "final_classifier = TextClassifier(document_embeddings,\n",
        "                                 label_dictionary=construction_corpus.make_label_dictionary(),\n",
        "                                 label_type='class')\n",
        "\n",
        "# 트레이너 생성\n",
        "trainer = ModelTrainer(final_classifier, construction_corpus)\n",
        "\n",
        "# 최종 모델 학습 (train+dev 데이터 모두 사용)\n",
        "trainer.train('models/final_construction_model',\n",
        "             learning_rate=best_params['learning_rate'],\n",
        "             mini_batch_size=best_params['batch_size'],\n",
        "             max_epochs=best_params['epochs'])"
      ],
      "metadata": {
        "id": "wjzyKoqz7vTV"
      },
      "execution_count": null,
      "outputs": []
    },
    {
      "cell_type": "code",
      "source": [
        "# 최종 테스트 수행\n",
        "test_result = trainer.final_test('models/final_construction_model/best-model.pt')\n",
        "print(f\"최종 테스트 성능: {test_result}\") # 내가 랜덤서치 + 교차검증으로 추적한 최적의 하이퍼파라미터를 최초의 test 데이터에 적용했을때 나오는 성능평가점수"
      ],
      "metadata": {
        "id": "Usvf4Ocq7vy6"
      },
      "execution_count": null,
      "outputs": []
    },
    {
      "cell_type": "markdown",
      "source": [
        "#교차검증의 효과는 파라미터 최적화 보다는 실제 성능평가값을 더 정확하게 나타낼 수 있다는 점에 포커스를 맞추는건가?\n",
        "\n",
        "- 맞습니다. 교차검증(Cross-validation)의 주요 목적은 실제 성능평가값을 더 정확하게 추정하는 데 있습니다.\n",
        "\n",
        "##교차검증의 핵심 가치는:\n",
        "\n",
        "- 데이터 활용 효율성: 제한된 데이터셋을 최대한 활용하여 모델의 일반화 성능을 평가합니다.\n",
        "- 성능 평가의 신뢰성: 단일 테스트셋에 의존할 때 발생할 수 있는 편향을 줄이고, 여러 분할에서의 평균 성능을 측정함으로써 더 안정적인 평가 지표를 얻습니다.\n",
        "- 과적합 감지: 학습 데이터와 검증 데이터 간의 성능 차이를 통해 모델의 과적합 여부를 확인할 수 있습니다.\n",
        "\n",
        "## 단일 테스트셋에 의존하면 편향이 많이 발생하는가?\n",
        "\n",
        "- 네, 단일 테스트셋에 의존하면 여러 종류의 편향이 발생할 수 있습니다:\n",
        "\n",
        "- 샘플링 편향: 특정 테스트셋이 전체 데이터 분포를 충분히 대표하지 못할 수 있습니다. 예를 들어, 우연히 쉬운 샘플이나 어려운 샘플이 많이 포함될 수 있습니다.\n",
        "- 데이터 분할 운(luck): 단일 분할에서는 우연히 \"운 좋은\" 또는 \"운 나쁜\" 분할이 발생할 수 있습니다. 즉, 특정 분할에서 모델이 비정상적으로 좋거나 나쁜 성능을 보일 수 있습니다.\n",
        "- 과적합에 취약: 단일 테스트셋을 반복적으로 사용하면, 무의식적으로 이 특정 테스트셋에 최적화된 모델을 선택하게 되어 실제 환경에서의 일반화 성능이 떨어질 수 있습니다.\n",
        "- 이상치(outlier) 영향: 작은 테스트셋에서는 소수의 이상치가 전체 성능 평가에 큰 영향을 미칠 수 있습니다.\n",
        "\n",
        "교차검증은 이러한 문제들을 여러 번의 다른 데이터 분할을 통해 평균화함으로써 완화합니다. 예를 들어, k-fold 교차검증에서는 데이터를 k개의 부분으로 나누고 k번의 다른 학습-테스트 조합으로 모델을 평가합니다. 이렇게 하면 모든 데이터 포인트가 한 번은 테스트 세트에 포함되므로 더 안정적이고 일반화된 성능 추정치를 얻을 수 있습니다."
      ],
      "metadata": {
        "id": "Au3dTAIC8BBV"
      }
    },
    {
      "cell_type": "code",
      "source": [
        "# 1. 지침 유형 분류 모델 학습\n",
        "# 데이터셋 로드 및 준비\n",
        "type_corpus = ClassificationCorpus(\"/content/sample_data/type_train_dev_test\",  # 데이터 디렉토리 경로\n",
        "                                 train_file='type_train.txt',  # 학습 데이터 파일\n",
        "                                 dev_file='type_dev.txt',  # 검증 데이터 파일\n",
        "                                 test_file='type_test.txt')  # 테스트 데이터 파일\n",
        "\n",
        "#-> 이 밑에 label_type 이라는 다른 속성을 따로 설정을 하지 않았으니 우리의 type_train.txt 의 라벨은 기본 설정인 class 라벨의 타입으로 변환된다.\n",
        "\n",
        "# 한국어에 특화된 KLUE BERT 모델을 문서 임베딩으로 사용\n",
        "document_embeddings = TransformerDocumentEmbeddings('klue/bert-base')\n",
        "\n",
        "# 지침 유형 분류기 모델 초기화\n",
        "# label_dictionary는 학습 데이터에서 자동으로 생성됨\n",
        "type_classifier = TextClassifier(document_embeddings,\n",
        "                                label_dictionary=type_corpus.make_label_dictionary(label_type= 'class'), label_type='class')\n",
        "# 마지막의 label_type = 'class' 의 의미는 예측 결과로 나올 값의 타입이 class 라는 것\n",
        "\n",
        "# 모델 트레이너 초기화\n",
        "type_trainer = ModelTrainer(type_classifier, type_corpus)\n",
        "\n",
        "# 모델 학습 시작\n",
        "# models/type-classifier 경로에 모델 저장\n",
        "type_trainer.train('models/type-classifier',\n",
        "                  learning_rate=0.02,  # 학습률 설정\n",
        "                  mini_batch_size=16,  # 배치 크기 설정\n",
        "                  max_epochs=10,\n",
        "                   )  # 최대 에폭 수 설정\n",
        "\n",
        "# 지침 유형 중 위험 경고의 데이터가 너무 적어서 그런지 -> accuracy 가 지나치게 낮게 나옴.(train용 데이터가 더 많이 필요할 듯.)\n",
        "\n",
        "# 샘플 데이터 출력해보기\n",
        "print(\"훈련 데이터 샘플:\")\n",
        "for i, sentence in enumerate(type_corpus.train):\n",
        "    print(f\"문장 {i}: {sentence.text}\")\n",
        "    print(f\"레이블: {sentence.get_label('class')}\")\n",
        "    if i >= 2: break  # 처음 3개만 출력"
      ],
      "metadata": {
        "id": "cU1iDTfMdRyg",
        "colab": {
          "base_uri": "https://localhost:8080/"
        },
        "outputId": "d6bcfb76-da04-4765-dc9c-a560916441cc",
        "collapsed": true
      },
      "execution_count": null,
      "outputs": [
        {
          "output_type": "stream",
          "name": "stdout",
          "text": [
            "2025-05-01 04:13:12,303 Reading data from /content/sample_data/type_train_dev_test\n",
            "2025-05-01 04:13:12,304 Train: /content/sample_data/type_train_dev_test/type_train.txt\n",
            "2025-05-01 04:13:12,305 Dev: /content/sample_data/type_train_dev_test/type_dev.txt\n",
            "2025-05-01 04:13:12,306 Test: /content/sample_data/type_train_dev_test/type_test.txt\n",
            "2025-05-01 04:13:12,353 Initialized corpus /content/sample_data/type_train_dev_test (label type name is 'class')\n",
            "2025-05-01 04:13:15,483 Computing label dictionary. Progress:\n"
          ]
        },
        {
          "output_type": "stream",
          "name": "stderr",
          "text": [
            "0it [00:00, ?it/s]\n",
            "838it [00:00, 2787.82it/s]"
          ]
        },
        {
          "output_type": "stream",
          "name": "stdout",
          "text": [
            "2025-05-01 04:13:15,791 Dictionary created for label 'class' with 3 values: 예방조치 (seen 419 times), 점검사항 (seen 325 times), 위험경고 (seen 94 times)\n",
            "2025-05-01 04:13:15,860 ----------------------------------------------------------------------------------------------------\n",
            "2025-05-01 04:13:15,862 Model: \"TextClassifier(\n",
            "  (embeddings): TransformerDocumentEmbeddings(\n",
            "    (model): BertModel(\n",
            "      (embeddings): BertEmbeddings(\n",
            "        (word_embeddings): Embedding(32001, 768, padding_idx=0)\n",
            "        (position_embeddings): Embedding(512, 768)\n",
            "        (token_type_embeddings): Embedding(2, 768)\n",
            "        (LayerNorm): LayerNorm((768,), eps=1e-12, elementwise_affine=True)\n",
            "        (dropout): Dropout(p=0.1, inplace=False)\n",
            "      )\n",
            "      (encoder): BertEncoder(\n",
            "        (layer): ModuleList(\n",
            "          (0-11): 12 x BertLayer(\n",
            "            (attention): BertAttention(\n",
            "              (self): BertSdpaSelfAttention(\n",
            "                (query): Linear(in_features=768, out_features=768, bias=True)\n",
            "                (key): Linear(in_features=768, out_features=768, bias=True)\n",
            "                (value): Linear(in_features=768, out_features=768, bias=True)\n",
            "                (dropout): Dropout(p=0.1, inplace=False)\n",
            "              )\n",
            "              (output): BertSelfOutput(\n",
            "                (dense): Linear(in_features=768, out_features=768, bias=True)\n",
            "                (LayerNorm): LayerNorm((768,), eps=1e-12, elementwise_affine=True)\n",
            "                (dropout): Dropout(p=0.1, inplace=False)\n",
            "              )\n",
            "            )\n",
            "            (intermediate): BertIntermediate(\n",
            "              (dense): Linear(in_features=768, out_features=3072, bias=True)\n",
            "              (intermediate_act_fn): GELUActivation()\n",
            "            )\n",
            "            (output): BertOutput(\n",
            "              (dense): Linear(in_features=3072, out_features=768, bias=True)\n",
            "              (LayerNorm): LayerNorm((768,), eps=1e-12, elementwise_affine=True)\n",
            "              (dropout): Dropout(p=0.1, inplace=False)\n",
            "            )\n",
            "          )\n",
            "        )\n",
            "      )\n",
            "      (pooler): BertPooler(\n",
            "        (dense): Linear(in_features=768, out_features=768, bias=True)\n",
            "        (activation): Tanh()\n",
            "      )\n",
            "    )\n",
            "  )\n",
            "  (decoder): Linear(in_features=768, out_features=3, bias=True)\n",
            "  (dropout): Dropout(p=0.0, inplace=False)\n",
            "  (locked_dropout): LockedDropout(p=0.0)\n",
            "  (word_dropout): WordDropout(p=0.0)\n",
            "  (loss_function): CrossEntropyLoss()\n",
            "  (weights): None\n",
            "  (weight_tensor) None\n",
            ")\"\n",
            "2025-05-01 04:13:15,863 ----------------------------------------------------------------------------------------------------\n",
            "2025-05-01 04:13:15,865 Corpus: 838 train + 105 dev + 105 test sentences\n",
            "2025-05-01 04:13:15,866 ----------------------------------------------------------------------------------------------------\n",
            "2025-05-01 04:13:15,867 Train:  838 sentences\n",
            "2025-05-01 04:13:15,868         (train_with_dev=False, train_with_test=False)\n",
            "2025-05-01 04:13:15,868 ----------------------------------------------------------------------------------------------------\n",
            "2025-05-01 04:13:15,869 Training Params:\n",
            "2025-05-01 04:13:15,869  - learning_rate: \"0.02\" \n",
            "2025-05-01 04:13:15,870  - mini_batch_size: \"16\"\n",
            "2025-05-01 04:13:15,872  - max_epochs: \"10\"\n",
            "2025-05-01 04:13:15,873  - shuffle: \"True\"\n",
            "2025-05-01 04:13:15,874 ----------------------------------------------------------------------------------------------------\n",
            "2025-05-01 04:13:15,875 Plugins:\n",
            "2025-05-01 04:13:15,876  - AnnealOnPlateau | patience: '3', anneal_factor: '0.5', min_learning_rate: '0.0001'\n",
            "2025-05-01 04:13:15,876 ----------------------------------------------------------------------------------------------------\n",
            "2025-05-01 04:13:15,877 Final evaluation on model from best epoch (best-model.pt)\n",
            "2025-05-01 04:13:15,878  - metric: \"('micro avg', 'f1-score')\"\n",
            "2025-05-01 04:13:15,878 ----------------------------------------------------------------------------------------------------\n",
            "2025-05-01 04:13:15,879 Computation:\n",
            "2025-05-01 04:13:15,880  - compute on device: cuda:0\n",
            "2025-05-01 04:13:15,880  - embedding storage: cpu\n",
            "2025-05-01 04:13:15,881 ----------------------------------------------------------------------------------------------------\n",
            "2025-05-01 04:13:15,882 Model training base path: \"models/type-classifier\"\n",
            "2025-05-01 04:13:15,882 ----------------------------------------------------------------------------------------------------\n",
            "2025-05-01 04:13:15,883 ----------------------------------------------------------------------------------------------------\n"
          ]
        },
        {
          "output_type": "stream",
          "name": "stderr",
          "text": [
            "\n",
            "/usr/local/lib/python3.11/dist-packages/flair/trainers/trainer.py:107: UserWarning: There should be no best model saved at epoch 1 except there is a model from previous trainings in your training folder. All previous best models will be deleted.\n",
            "  warnings.warn(\n",
            "/usr/local/lib/python3.11/dist-packages/flair/trainers/trainer.py:545: FutureWarning: `torch.cuda.amp.GradScaler(args...)` is deprecated. Please use `torch.amp.GradScaler('cuda', args...)` instead.\n",
            "  scaler = torch.cuda.amp.GradScaler(enabled=use_amp and flair.device.type != \"cpu\")\n"
          ]
        },
        {
          "output_type": "stream",
          "name": "stdout",
          "text": [
            "2025-05-01 04:13:16,847 epoch 1 - iter 5/53 - loss 1.74800799 - time (sec): 0.96 - samples/sec: 83.17 - lr: 0.020000 - momentum: 0.000000\n",
            "2025-05-01 04:13:18,042 epoch 1 - iter 10/53 - loss 1.90164078 - time (sec): 2.16 - samples/sec: 74.19 - lr: 0.020000 - momentum: 0.000000\n",
            "2025-05-01 04:13:19,141 epoch 1 - iter 15/53 - loss 1.69551675 - time (sec): 3.26 - samples/sec: 73.71 - lr: 0.020000 - momentum: 0.000000\n",
            "2025-05-01 04:13:19,984 epoch 1 - iter 20/53 - loss 1.61677293 - time (sec): 4.10 - samples/sec: 78.06 - lr: 0.020000 - momentum: 0.000000\n",
            "2025-05-01 04:13:20,896 epoch 1 - iter 25/53 - loss 1.55796776 - time (sec): 5.01 - samples/sec: 79.83 - lr: 0.020000 - momentum: 0.000000\n",
            "2025-05-01 04:13:21,878 epoch 1 - iter 30/53 - loss 1.53239835 - time (sec): 5.99 - samples/sec: 80.09 - lr: 0.020000 - momentum: 0.000000\n",
            "2025-05-01 04:13:22,982 epoch 1 - iter 35/53 - loss 1.45984234 - time (sec): 7.10 - samples/sec: 78.91 - lr: 0.020000 - momentum: 0.000000\n",
            "2025-05-01 04:13:24,057 epoch 1 - iter 40/53 - loss 1.43107220 - time (sec): 8.17 - samples/sec: 78.32 - lr: 0.020000 - momentum: 0.000000\n",
            "2025-05-01 04:13:25,117 epoch 1 - iter 45/53 - loss 1.39700184 - time (sec): 9.23 - samples/sec: 77.99 - lr: 0.020000 - momentum: 0.000000\n",
            "2025-05-01 04:13:26,344 epoch 1 - iter 50/53 - loss 1.35711616 - time (sec): 10.46 - samples/sec: 76.49 - lr: 0.020000 - momentum: 0.000000\n",
            "2025-05-01 04:13:26,976 ----------------------------------------------------------------------------------------------------\n",
            "2025-05-01 04:13:26,979 EPOCH 1 done: loss 1.3502 - lr: 0.020000\n"
          ]
        },
        {
          "output_type": "stream",
          "name": "stderr",
          "text": [
            "100%|██████████| 2/2 [00:00<00:00,  3.55it/s]"
          ]
        },
        {
          "output_type": "stream",
          "name": "stdout",
          "text": [
            "2025-05-01 04:13:27,577 DEV : loss 1.204790472984314 - f1-score (micro avg)  0.5905\n",
            "2025-05-01 04:13:27,621  - 0 epochs without improvement\n",
            "2025-05-01 04:13:27,626 saving best model\n"
          ]
        },
        {
          "output_type": "stream",
          "name": "stderr",
          "text": [
            "\n"
          ]
        },
        {
          "output_type": "stream",
          "name": "stdout",
          "text": [
            "2025-05-01 04:13:28,997 ----------------------------------------------------------------------------------------------------\n",
            "2025-05-01 04:13:29,957 epoch 2 - iter 5/53 - loss 1.22368810 - time (sec): 0.96 - samples/sec: 83.77 - lr: 0.020000 - momentum: 0.000000\n",
            "2025-05-01 04:13:31,153 epoch 2 - iter 10/53 - loss 0.97073907 - time (sec): 2.15 - samples/sec: 74.40 - lr: 0.020000 - momentum: 0.000000\n",
            "2025-05-01 04:13:32,001 epoch 2 - iter 15/53 - loss 0.99113278 - time (sec): 3.00 - samples/sec: 80.04 - lr: 0.020000 - momentum: 0.000000\n",
            "2025-05-01 04:13:32,948 epoch 2 - iter 20/53 - loss 0.94776118 - time (sec): 3.95 - samples/sec: 81.11 - lr: 0.020000 - momentum: 0.000000\n",
            "2025-05-01 04:13:34,059 epoch 2 - iter 25/53 - loss 0.94316841 - time (sec): 5.06 - samples/sec: 79.11 - lr: 0.020000 - momentum: 0.000000\n",
            "2025-05-01 04:13:35,292 epoch 2 - iter 30/53 - loss 0.92069004 - time (sec): 6.29 - samples/sec: 76.32 - lr: 0.020000 - momentum: 0.000000\n",
            "2025-05-01 04:13:36,205 epoch 2 - iter 35/53 - loss 0.90581331 - time (sec): 7.20 - samples/sec: 77.75 - lr: 0.020000 - momentum: 0.000000\n",
            "2025-05-01 04:13:37,383 epoch 2 - iter 40/53 - loss 0.91905815 - time (sec): 8.38 - samples/sec: 76.37 - lr: 0.020000 - momentum: 0.000000\n",
            "2025-05-01 04:13:38,365 epoch 2 - iter 45/53 - loss 0.90631190 - time (sec): 9.36 - samples/sec: 76.90 - lr: 0.020000 - momentum: 0.000000\n",
            "2025-05-01 04:13:39,350 epoch 2 - iter 50/53 - loss 0.91708631 - time (sec): 10.35 - samples/sec: 77.31 - lr: 0.020000 - momentum: 0.000000\n",
            "2025-05-01 04:13:39,960 ----------------------------------------------------------------------------------------------------\n",
            "2025-05-01 04:13:39,963 EPOCH 2 done: loss 0.9092 - lr: 0.020000\n"
          ]
        },
        {
          "output_type": "stream",
          "name": "stderr",
          "text": [
            "100%|██████████| 2/2 [00:00<00:00,  3.66it/s]"
          ]
        },
        {
          "output_type": "stream",
          "name": "stdout",
          "text": [
            "2025-05-01 04:13:40,538 DEV : loss 0.9883937835693359 - f1-score (micro avg)  0.619\n",
            "2025-05-01 04:13:40,575  - 0 epochs without improvement\n",
            "2025-05-01 04:13:40,578 saving best model\n"
          ]
        },
        {
          "output_type": "stream",
          "name": "stderr",
          "text": [
            "\n"
          ]
        },
        {
          "output_type": "stream",
          "name": "stdout",
          "text": [
            "2025-05-01 04:13:41,980 ----------------------------------------------------------------------------------------------------\n",
            "2025-05-01 04:13:42,975 epoch 3 - iter 5/53 - loss 0.66554874 - time (sec): 0.99 - samples/sec: 80.75 - lr: 0.020000 - momentum: 0.000000\n",
            "2025-05-01 04:13:43,963 epoch 3 - iter 10/53 - loss 0.66676834 - time (sec): 1.98 - samples/sec: 80.85 - lr: 0.020000 - momentum: 0.000000\n",
            "2025-05-01 04:13:45,079 epoch 3 - iter 15/53 - loss 0.77707487 - time (sec): 3.09 - samples/sec: 77.56 - lr: 0.020000 - momentum: 0.000000\n",
            "2025-05-01 04:13:45,984 epoch 3 - iter 20/53 - loss 0.74071439 - time (sec): 4.00 - samples/sec: 80.02 - lr: 0.020000 - momentum: 0.000000\n",
            "2025-05-01 04:13:47,009 epoch 3 - iter 25/53 - loss 0.74750571 - time (sec): 5.03 - samples/sec: 79.60 - lr: 0.020000 - momentum: 0.000000\n",
            "2025-05-01 04:13:47,894 epoch 3 - iter 30/53 - loss 0.76537270 - time (sec): 5.91 - samples/sec: 81.22 - lr: 0.020000 - momentum: 0.000000\n",
            "2025-05-01 04:13:48,933 epoch 3 - iter 35/53 - loss 0.77383164 - time (sec): 6.95 - samples/sec: 80.59 - lr: 0.020000 - momentum: 0.000000\n",
            "2025-05-01 04:13:49,930 epoch 3 - iter 40/53 - loss 0.75721604 - time (sec): 7.95 - samples/sec: 80.55 - lr: 0.020000 - momentum: 0.000000\n",
            "2025-05-01 04:13:51,062 epoch 3 - iter 45/53 - loss 0.75343724 - time (sec): 9.08 - samples/sec: 79.31 - lr: 0.020000 - momentum: 0.000000\n",
            "2025-05-01 04:13:52,029 epoch 3 - iter 50/53 - loss 0.76334300 - time (sec): 10.05 - samples/sec: 79.64 - lr: 0.020000 - momentum: 0.000000\n",
            "2025-05-01 04:13:52,619 ----------------------------------------------------------------------------------------------------\n",
            "2025-05-01 04:13:52,620 EPOCH 3 done: loss 0.7557 - lr: 0.020000\n"
          ]
        },
        {
          "output_type": "stream",
          "name": "stderr",
          "text": [
            "100%|██████████| 2/2 [00:00<00:00,  3.93it/s]"
          ]
        },
        {
          "output_type": "stream",
          "name": "stdout",
          "text": [
            "2025-05-01 04:13:53,160 DEV : loss 0.9696639776229858 - f1-score (micro avg)  0.6476\n",
            "2025-05-01 04:13:53,185  - 0 epochs without improvement\n",
            "2025-05-01 04:13:53,186 saving best model\n"
          ]
        },
        {
          "output_type": "stream",
          "name": "stderr",
          "text": [
            "\n"
          ]
        },
        {
          "output_type": "stream",
          "name": "stdout",
          "text": [
            "2025-05-01 04:13:54,550 ----------------------------------------------------------------------------------------------------\n",
            "2025-05-01 04:13:55,571 epoch 4 - iter 5/53 - loss 0.67459149 - time (sec): 1.02 - samples/sec: 78.60 - lr: 0.020000 - momentum: 0.000000\n",
            "2025-05-01 04:13:56,610 epoch 4 - iter 10/53 - loss 0.54725660 - time (sec): 2.06 - samples/sec: 77.77 - lr: 0.020000 - momentum: 0.000000\n",
            "2025-05-01 04:13:57,616 epoch 4 - iter 15/53 - loss 0.56847692 - time (sec): 3.06 - samples/sec: 78.35 - lr: 0.020000 - momentum: 0.000000\n",
            "2025-05-01 04:13:58,597 epoch 4 - iter 20/53 - loss 0.60027022 - time (sec): 4.04 - samples/sec: 79.14 - lr: 0.020000 - momentum: 0.000000\n",
            "2025-05-01 04:13:59,573 epoch 4 - iter 25/53 - loss 0.60709778 - time (sec): 5.02 - samples/sec: 79.69 - lr: 0.020000 - momentum: 0.000000\n",
            "2025-05-01 04:14:00,683 epoch 4 - iter 30/53 - loss 0.60530417 - time (sec): 6.13 - samples/sec: 78.31 - lr: 0.020000 - momentum: 0.000000\n",
            "2025-05-01 04:14:01,715 epoch 4 - iter 35/53 - loss 0.60384275 - time (sec): 7.16 - samples/sec: 78.19 - lr: 0.020000 - momentum: 0.000000\n",
            "2025-05-01 04:14:02,937 epoch 4 - iter 40/53 - loss 0.60125920 - time (sec): 8.38 - samples/sec: 76.33 - lr: 0.020000 - momentum: 0.000000\n",
            "2025-05-01 04:14:03,852 epoch 4 - iter 45/53 - loss 0.59405384 - time (sec): 9.30 - samples/sec: 77.43 - lr: 0.020000 - momentum: 0.000000\n",
            "2025-05-01 04:14:04,803 epoch 4 - iter 50/53 - loss 0.58976414 - time (sec): 10.25 - samples/sec: 78.05 - lr: 0.020000 - momentum: 0.000000\n",
            "2025-05-01 04:14:05,358 ----------------------------------------------------------------------------------------------------\n",
            "2025-05-01 04:14:05,359 EPOCH 4 done: loss 0.5918 - lr: 0.020000\n"
          ]
        },
        {
          "output_type": "stream",
          "name": "stderr",
          "text": [
            "100%|██████████| 2/2 [00:00<00:00,  3.80it/s]"
          ]
        },
        {
          "output_type": "stream",
          "name": "stdout",
          "text": [
            "2025-05-01 04:14:05,906 DEV : loss 0.8445630073547363 - f1-score (micro avg)  0.6667\n",
            "2025-05-01 04:14:05,930  - 0 epochs without improvement\n",
            "2025-05-01 04:14:05,931 saving best model\n"
          ]
        },
        {
          "output_type": "stream",
          "name": "stderr",
          "text": [
            "\n"
          ]
        },
        {
          "output_type": "stream",
          "name": "stdout",
          "text": [
            "2025-05-01 04:14:07,115 ----------------------------------------------------------------------------------------------------\n",
            "2025-05-01 04:14:08,083 epoch 5 - iter 5/53 - loss 0.54664066 - time (sec): 0.97 - samples/sec: 82.88 - lr: 0.020000 - momentum: 0.000000\n",
            "2025-05-01 04:14:09,207 epoch 5 - iter 10/53 - loss 0.46518450 - time (sec): 2.09 - samples/sec: 76.58 - lr: 0.020000 - momentum: 0.000000\n",
            "2025-05-01 04:14:10,188 epoch 5 - iter 15/53 - loss 0.47423676 - time (sec): 3.07 - samples/sec: 78.17 - lr: 0.020000 - momentum: 0.000000\n",
            "2025-05-01 04:14:11,263 epoch 5 - iter 20/53 - loss 0.42754085 - time (sec): 4.14 - samples/sec: 77.21 - lr: 0.020000 - momentum: 0.000000\n",
            "2025-05-01 04:14:12,151 epoch 5 - iter 25/53 - loss 0.46987355 - time (sec): 5.03 - samples/sec: 79.47 - lr: 0.020000 - momentum: 0.000000\n",
            "2025-05-01 04:14:13,205 epoch 5 - iter 30/53 - loss 0.48104014 - time (sec): 6.09 - samples/sec: 78.85 - lr: 0.020000 - momentum: 0.000000\n",
            "2025-05-01 04:14:14,225 epoch 5 - iter 35/53 - loss 0.47006615 - time (sec): 7.11 - samples/sec: 78.80 - lr: 0.020000 - momentum: 0.000000\n",
            "2025-05-01 04:14:15,166 epoch 5 - iter 40/53 - loss 0.48675710 - time (sec): 8.05 - samples/sec: 79.52 - lr: 0.020000 - momentum: 0.000000\n",
            "2025-05-01 04:14:16,172 epoch 5 - iter 45/53 - loss 0.48126340 - time (sec): 9.05 - samples/sec: 79.52 - lr: 0.020000 - momentum: 0.000000\n",
            "2025-05-01 04:14:17,045 epoch 5 - iter 50/53 - loss 0.47855332 - time (sec): 9.93 - samples/sec: 80.59 - lr: 0.020000 - momentum: 0.000000\n",
            "2025-05-01 04:14:17,581 ----------------------------------------------------------------------------------------------------\n",
            "2025-05-01 04:14:17,583 EPOCH 5 done: loss 0.4923 - lr: 0.020000\n"
          ]
        },
        {
          "output_type": "stream",
          "name": "stderr",
          "text": [
            "100%|██████████| 2/2 [00:00<00:00,  3.95it/s]"
          ]
        },
        {
          "output_type": "stream",
          "name": "stdout",
          "text": [
            "2025-05-01 04:14:18,112 DEV : loss 0.8927222490310669 - f1-score (micro avg)  0.6667\n",
            "2025-05-01 04:14:18,138  - 1 epochs without improvement\n",
            "2025-05-01 04:14:18,139 ----------------------------------------------------------------------------------------------------\n"
          ]
        },
        {
          "output_type": "stream",
          "name": "stderr",
          "text": [
            "\n"
          ]
        },
        {
          "output_type": "stream",
          "name": "stdout",
          "text": [
            "2025-05-01 04:14:18,948 epoch 6 - iter 5/53 - loss 0.37015054 - time (sec): 0.81 - samples/sec: 99.26 - lr: 0.020000 - momentum: 0.000000\n",
            "2025-05-01 04:14:19,822 epoch 6 - iter 10/53 - loss 0.34448309 - time (sec): 1.68 - samples/sec: 95.21 - lr: 0.020000 - momentum: 0.000000\n",
            "2025-05-01 04:14:20,841 epoch 6 - iter 15/53 - loss 0.39288744 - time (sec): 2.70 - samples/sec: 88.90 - lr: 0.020000 - momentum: 0.000000\n",
            "2025-05-01 04:14:21,692 epoch 6 - iter 20/53 - loss 0.37267174 - time (sec): 3.55 - samples/sec: 90.13 - lr: 0.020000 - momentum: 0.000000\n",
            "2025-05-01 04:14:22,732 epoch 6 - iter 25/53 - loss 0.36960504 - time (sec): 4.59 - samples/sec: 87.14 - lr: 0.020000 - momentum: 0.000000\n",
            "2025-05-01 04:14:23,821 epoch 6 - iter 30/53 - loss 0.36307844 - time (sec): 5.68 - samples/sec: 84.51 - lr: 0.020000 - momentum: 0.000000\n",
            "2025-05-01 04:14:24,801 epoch 6 - iter 35/53 - loss 0.36531527 - time (sec): 6.66 - samples/sec: 84.09 - lr: 0.020000 - momentum: 0.000000\n",
            "2025-05-01 04:14:25,953 epoch 6 - iter 40/53 - loss 0.37718281 - time (sec): 7.81 - samples/sec: 81.93 - lr: 0.020000 - momentum: 0.000000\n",
            "2025-05-01 04:14:27,022 epoch 6 - iter 45/53 - loss 0.38913528 - time (sec): 8.88 - samples/sec: 81.08 - lr: 0.020000 - momentum: 0.000000\n",
            "2025-05-01 04:14:27,924 epoch 6 - iter 50/53 - loss 0.39120548 - time (sec): 9.78 - samples/sec: 81.78 - lr: 0.020000 - momentum: 0.000000\n",
            "2025-05-01 04:14:28,531 ----------------------------------------------------------------------------------------------------\n",
            "2025-05-01 04:14:28,532 EPOCH 6 done: loss 0.3851 - lr: 0.020000\n"
          ]
        },
        {
          "output_type": "stream",
          "name": "stderr",
          "text": [
            "100%|██████████| 2/2 [00:00<00:00,  3.97it/s]"
          ]
        },
        {
          "output_type": "stream",
          "name": "stdout",
          "text": [
            "2025-05-01 04:14:29,061 DEV : loss 1.2653685808181763 - f1-score (micro avg)  0.6286\n",
            "2025-05-01 04:14:29,085  - 2 epochs without improvement\n",
            "2025-05-01 04:14:29,087 ----------------------------------------------------------------------------------------------------\n"
          ]
        },
        {
          "output_type": "stream",
          "name": "stderr",
          "text": [
            "\n"
          ]
        },
        {
          "output_type": "stream",
          "name": "stdout",
          "text": [
            "2025-05-01 04:14:30,041 epoch 7 - iter 5/53 - loss 0.25534852 - time (sec): 0.95 - samples/sec: 84.16 - lr: 0.020000 - momentum: 0.000000\n",
            "2025-05-01 04:14:31,161 epoch 7 - iter 10/53 - loss 0.21573948 - time (sec): 2.07 - samples/sec: 77.31 - lr: 0.020000 - momentum: 0.000000\n",
            "2025-05-01 04:14:32,126 epoch 7 - iter 15/53 - loss 0.22565193 - time (sec): 3.04 - samples/sec: 79.06 - lr: 0.020000 - momentum: 0.000000\n",
            "2025-05-01 04:14:32,989 epoch 7 - iter 20/53 - loss 0.24294591 - time (sec): 3.90 - samples/sec: 82.09 - lr: 0.020000 - momentum: 0.000000\n",
            "2025-05-01 04:14:34,082 epoch 7 - iter 25/53 - loss 0.27058908 - time (sec): 4.99 - samples/sec: 80.14 - lr: 0.020000 - momentum: 0.000000\n",
            "2025-05-01 04:14:34,941 epoch 7 - iter 30/53 - loss 0.27016848 - time (sec): 5.85 - samples/sec: 82.05 - lr: 0.020000 - momentum: 0.000000\n",
            "2025-05-01 04:14:36,012 epoch 7 - iter 35/53 - loss 0.29207014 - time (sec): 6.92 - samples/sec: 80.92 - lr: 0.020000 - momentum: 0.000000\n",
            "2025-05-01 04:14:37,025 epoch 7 - iter 40/53 - loss 0.29996196 - time (sec): 7.93 - samples/sec: 80.66 - lr: 0.020000 - momentum: 0.000000\n",
            "2025-05-01 04:14:38,073 epoch 7 - iter 45/53 - loss 0.31275035 - time (sec): 8.98 - samples/sec: 80.16 - lr: 0.020000 - momentum: 0.000000\n",
            "2025-05-01 04:14:39,149 epoch 7 - iter 50/53 - loss 0.30918711 - time (sec): 10.06 - samples/sec: 79.53 - lr: 0.020000 - momentum: 0.000000\n",
            "2025-05-01 04:14:39,646 ----------------------------------------------------------------------------------------------------\n",
            "2025-05-01 04:14:39,647 EPOCH 7 done: loss 0.3093 - lr: 0.020000\n"
          ]
        },
        {
          "output_type": "stream",
          "name": "stderr",
          "text": [
            "100%|██████████| 2/2 [00:00<00:00,  3.88it/s]"
          ]
        },
        {
          "output_type": "stream",
          "name": "stdout",
          "text": [
            "2025-05-01 04:14:40,185 DEV : loss 1.0122158527374268 - f1-score (micro avg)  0.6857\n",
            "2025-05-01 04:14:40,209  - 0 epochs without improvement\n",
            "2025-05-01 04:14:40,211 saving best model\n"
          ]
        },
        {
          "output_type": "stream",
          "name": "stderr",
          "text": [
            "\n"
          ]
        },
        {
          "output_type": "stream",
          "name": "stdout",
          "text": [
            "2025-05-01 04:14:41,395 ----------------------------------------------------------------------------------------------------\n",
            "2025-05-01 04:14:42,239 epoch 8 - iter 5/53 - loss 0.12907432 - time (sec): 0.84 - samples/sec: 95.09 - lr: 0.020000 - momentum: 0.000000\n",
            "2025-05-01 04:14:43,230 epoch 8 - iter 10/53 - loss 0.20944484 - time (sec): 1.83 - samples/sec: 87.30 - lr: 0.020000 - momentum: 0.000000\n",
            "2025-05-01 04:14:44,133 epoch 8 - iter 15/53 - loss 0.20376523 - time (sec): 2.74 - samples/sec: 87.72 - lr: 0.020000 - momentum: 0.000000\n",
            "2025-05-01 04:14:45,207 epoch 8 - iter 20/53 - loss 0.18681749 - time (sec): 3.81 - samples/sec: 84.00 - lr: 0.020000 - momentum: 0.000000\n",
            "2025-05-01 04:14:46,300 epoch 8 - iter 25/53 - loss 0.18473927 - time (sec): 4.90 - samples/sec: 81.59 - lr: 0.020000 - momentum: 0.000000\n",
            "2025-05-01 04:14:47,442 epoch 8 - iter 30/53 - loss 0.21220247 - time (sec): 6.04 - samples/sec: 79.41 - lr: 0.020000 - momentum: 0.000000\n",
            "2025-05-01 04:14:48,515 epoch 8 - iter 35/53 - loss 0.19957940 - time (sec): 7.12 - samples/sec: 78.68 - lr: 0.020000 - momentum: 0.000000\n",
            "2025-05-01 04:14:49,596 epoch 8 - iter 40/53 - loss 0.19678969 - time (sec): 8.20 - samples/sec: 78.07 - lr: 0.020000 - momentum: 0.000000\n",
            "2025-05-01 04:14:50,527 epoch 8 - iter 45/53 - loss 0.21016099 - time (sec): 9.13 - samples/sec: 78.87 - lr: 0.020000 - momentum: 0.000000\n",
            "2025-05-01 04:14:51,464 epoch 8 - iter 50/53 - loss 0.21447685 - time (sec): 10.07 - samples/sec: 79.47 - lr: 0.020000 - momentum: 0.000000\n",
            "2025-05-01 04:14:52,015 ----------------------------------------------------------------------------------------------------\n",
            "2025-05-01 04:14:52,016 EPOCH 8 done: loss 0.2189 - lr: 0.020000\n"
          ]
        },
        {
          "output_type": "stream",
          "name": "stderr",
          "text": [
            "100%|██████████| 2/2 [00:00<00:00,  3.70it/s]"
          ]
        },
        {
          "output_type": "stream",
          "name": "stdout",
          "text": [
            "2025-05-01 04:14:52,579 DEV : loss 1.218551516532898 - f1-score (micro avg)  0.6381\n",
            "2025-05-01 04:14:52,603  - 1 epochs without improvement\n",
            "2025-05-01 04:14:52,604 ----------------------------------------------------------------------------------------------------\n"
          ]
        },
        {
          "output_type": "stream",
          "name": "stderr",
          "text": [
            "\n"
          ]
        },
        {
          "output_type": "stream",
          "name": "stdout",
          "text": [
            "2025-05-01 04:14:53,528 epoch 9 - iter 5/53 - loss 0.13088261 - time (sec): 0.92 - samples/sec: 86.93 - lr: 0.020000 - momentum: 0.000000\n",
            "2025-05-01 04:14:54,612 epoch 9 - iter 10/53 - loss 0.18639174 - time (sec): 2.00 - samples/sec: 79.82 - lr: 0.020000 - momentum: 0.000000\n",
            "2025-05-01 04:14:55,643 epoch 9 - iter 15/53 - loss 0.18662945 - time (sec): 3.04 - samples/sec: 79.05 - lr: 0.020000 - momentum: 0.000000\n",
            "2025-05-01 04:14:56,589 epoch 9 - iter 20/53 - loss 0.16327712 - time (sec): 3.98 - samples/sec: 80.36 - lr: 0.020000 - momentum: 0.000000\n",
            "2025-05-01 04:14:57,628 epoch 9 - iter 25/53 - loss 0.17873120 - time (sec): 5.02 - samples/sec: 79.66 - lr: 0.020000 - momentum: 0.000000\n",
            "2025-05-01 04:14:58,571 epoch 9 - iter 30/53 - loss 0.17576646 - time (sec): 5.96 - samples/sec: 80.49 - lr: 0.020000 - momentum: 0.000000\n",
            "2025-05-01 04:14:59,613 epoch 9 - iter 35/53 - loss 0.16738644 - time (sec): 7.01 - samples/sec: 79.93 - lr: 0.020000 - momentum: 0.000000\n",
            "2025-05-01 04:15:00,519 epoch 9 - iter 40/53 - loss 0.15865204 - time (sec): 7.91 - samples/sec: 80.89 - lr: 0.020000 - momentum: 0.000000\n",
            "2025-05-01 04:15:01,640 epoch 9 - iter 45/53 - loss 0.16341226 - time (sec): 9.03 - samples/sec: 79.71 - lr: 0.020000 - momentum: 0.000000\n",
            "2025-05-01 04:15:02,706 epoch 9 - iter 50/53 - loss 0.16098334 - time (sec): 10.10 - samples/sec: 79.22 - lr: 0.020000 - momentum: 0.000000\n",
            "2025-05-01 04:15:03,228 ----------------------------------------------------------------------------------------------------\n",
            "2025-05-01 04:15:03,232 EPOCH 9 done: loss 0.1590 - lr: 0.020000\n"
          ]
        },
        {
          "output_type": "stream",
          "name": "stderr",
          "text": [
            "100%|██████████| 2/2 [00:00<00:00,  3.74it/s]"
          ]
        },
        {
          "output_type": "stream",
          "name": "stdout",
          "text": [
            "2025-05-01 04:15:03,792 DEV : loss 1.5445303916931152 - f1-score (micro avg)  0.6762\n",
            "2025-05-01 04:15:03,818  - 2 epochs without improvement\n",
            "2025-05-01 04:15:03,820 ----------------------------------------------------------------------------------------------------\n"
          ]
        },
        {
          "output_type": "stream",
          "name": "stderr",
          "text": [
            "\n"
          ]
        },
        {
          "output_type": "stream",
          "name": "stdout",
          "text": [
            "2025-05-01 04:15:04,702 epoch 10 - iter 5/53 - loss 0.13294869 - time (sec): 0.88 - samples/sec: 90.96 - lr: 0.020000 - momentum: 0.000000\n",
            "2025-05-01 04:15:05,722 epoch 10 - iter 10/53 - loss 0.13584819 - time (sec): 1.90 - samples/sec: 84.25 - lr: 0.020000 - momentum: 0.000000\n",
            "2025-05-01 04:15:06,747 epoch 10 - iter 15/53 - loss 0.11884555 - time (sec): 2.92 - samples/sec: 82.06 - lr: 0.020000 - momentum: 0.000000\n",
            "2025-05-01 04:15:07,795 epoch 10 - iter 20/53 - loss 0.12330704 - time (sec): 3.97 - samples/sec: 80.56 - lr: 0.020000 - momentum: 0.000000\n",
            "2025-05-01 04:15:08,825 epoch 10 - iter 25/53 - loss 0.11672223 - time (sec): 5.00 - samples/sec: 79.96 - lr: 0.020000 - momentum: 0.000000\n",
            "2025-05-01 04:15:09,801 epoch 10 - iter 30/53 - loss 0.10872875 - time (sec): 5.98 - samples/sec: 80.29 - lr: 0.020000 - momentum: 0.000000\n",
            "2025-05-01 04:15:10,796 epoch 10 - iter 35/53 - loss 0.11252740 - time (sec): 6.97 - samples/sec: 80.31 - lr: 0.020000 - momentum: 0.000000\n",
            "2025-05-01 04:15:11,995 epoch 10 - iter 40/53 - loss 0.10730108 - time (sec): 8.17 - samples/sec: 78.32 - lr: 0.020000 - momentum: 0.000000\n",
            "2025-05-01 04:15:12,971 epoch 10 - iter 45/53 - loss 0.09890487 - time (sec): 9.15 - samples/sec: 78.70 - lr: 0.020000 - momentum: 0.000000\n",
            "2025-05-01 04:15:14,076 epoch 10 - iter 50/53 - loss 0.09838994 - time (sec): 10.25 - samples/sec: 78.03 - lr: 0.020000 - momentum: 0.000000\n",
            "2025-05-01 04:15:14,737 ----------------------------------------------------------------------------------------------------\n",
            "2025-05-01 04:15:14,739 EPOCH 10 done: loss 0.1082 - lr: 0.020000\n"
          ]
        },
        {
          "output_type": "stream",
          "name": "stderr",
          "text": [
            "100%|██████████| 2/2 [00:00<00:00,  3.73it/s]"
          ]
        },
        {
          "output_type": "stream",
          "name": "stdout",
          "text": [
            "2025-05-01 04:15:15,305 DEV : loss 1.516379475593567 - f1-score (micro avg)  0.7143\n",
            "2025-05-01 04:15:15,346  - 0 epochs without improvement\n",
            "2025-05-01 04:15:15,349 saving best model\n"
          ]
        },
        {
          "output_type": "stream",
          "name": "stderr",
          "text": [
            "\n"
          ]
        },
        {
          "output_type": "stream",
          "name": "stdout",
          "text": [
            "2025-05-01 04:15:18,575 ----------------------------------------------------------------------------------------------------\n",
            "2025-05-01 04:15:18,578 Loading model from best epoch ...\n"
          ]
        },
        {
          "output_type": "stream",
          "name": "stderr",
          "text": [
            "100%|██████████| 2/2 [00:00<00:00,  3.42it/s]\n"
          ]
        },
        {
          "output_type": "stream",
          "name": "stdout",
          "text": [
            "2025-05-01 04:15:21,782 \n",
            "Results:\n",
            "- F-score (micro) 0.6857\n",
            "- F-score (macro) 0.5945\n",
            "- Accuracy 0.6857\n",
            "\n",
            "By class:\n",
            "              precision    recall  f1-score   support\n",
            "\n",
            "        예방조치     0.7925    0.7241    0.7568        58\n",
            "        점검사항     0.6341    0.7647    0.6933        34\n",
            "        위험경고     0.3636    0.3077    0.3333        13\n",
            "\n",
            "    accuracy                         0.6857       105\n",
            "   macro avg     0.5967    0.5988    0.5945       105\n",
            "weighted avg     0.6881    0.6857    0.6838       105\n",
            "\n",
            "2025-05-01 04:15:21,783 ----------------------------------------------------------------------------------------------------\n",
            "훈련 데이터 샘플:\n",
            "문장 0: 철거작업에 사용되는 수동 및 전동기계․기구에 대하여는 반입 전에 이상 유무 점검을 실시한다.\n",
            "레이블: Sentence[13]: \"철거작업에 사용되는 수동 및 전동기계․기구에 대하여는 반입 전에 이상 유무 점검을 실시한다.\" → 점검사항 (1.0)\n",
            "문장 1: 굴착작업 진행 시 일반 슬래브는 토압, 수압 등의 횡력에 버팀 역할을 하나, 램프 슬래브는 상하층 경사로로 시공되어 구조물이 완성되기 전까지는 횡력에 대한 버팀대의 역할을 하지 못하므로 횡력에 저항토록 버팀대(Strut)등을 별도로 설치 하여 붕괴 및 변형을 방지하도록 하여야 한다.\n",
            "레이블: Sentence[43]: \"굴착작업 진행 시 일반 슬래브는 토압, 수압 등의 횡력에 버팀 역할을 하나, 램프 슬래브는 상하층 경사로로 시공되어 구조물이 완성되기 전까지는 횡력에 대한 버팀대의 역할을 하지 못하므로 횡력에 저항토록 버팀대(Strut)등을 별도로 설치 하여 붕괴 및 변형을 방지하도록 하여야 한다.\" → 예방조치 (1.0)\n",
            "문장 2: 우물통의 인양, 운반, 거치공사 시 충분한 인양능력을 가진 크레인을 투입하고 조금구를 사용하여 우물통 들고리에 동일한 하중이 분배되도록 한다.\n",
            "레이블: Sentence[21]: \"우물통의 인양, 운반, 거치공사 시 충분한 인양능력을 가진 크레인을 투입하고 조금구를 사용하여 우물통 들고리에 동일한 하중이 분배되도록 한다.\" → 예방조치 (1.0)\n"
          ]
        }
      ]
    },
    {
      "cell_type": "code",
      "source": [
        "!pip install git+https://github.com/flairNLP/flair.git"
      ],
      "metadata": {
        "colab": {
          "base_uri": "https://localhost:8080/"
        },
        "collapsed": true,
        "id": "D3byJNGxNeWj",
        "outputId": "fe59b517-e102-4937-a1a0-cb4aa34d25c9"
      },
      "execution_count": null,
      "outputs": [
        {
          "output_type": "stream",
          "name": "stdout",
          "text": [
            "Collecting git+https://github.com/flairNLP/flair.git\n",
            "  Cloning https://github.com/flairNLP/flair.git to /tmp/pip-req-build-wu64qljk\n",
            "  Running command git clone --filter=blob:none --quiet https://github.com/flairNLP/flair.git /tmp/pip-req-build-wu64qljk\n",
            "  Resolved https://github.com/flairNLP/flair.git to commit ee8596c2bbe737ec9ddeb1c6cb62fa0b161f4d84\n",
            "  Installing build dependencies ... \u001b[?25l\u001b[?25hdone\n",
            "  Getting requirements to build wheel ... \u001b[?25l\u001b[?25hdone\n",
            "  Preparing metadata (pyproject.toml) ... \u001b[?25l\u001b[?25hdone\n",
            "Requirement already satisfied: boto3>=1.20.27 in /usr/local/lib/python3.11/dist-packages (from flair==0.15.1) (1.38.6)\n",
            "Requirement already satisfied: conllu<5.0.0,>=4.0 in /usr/local/lib/python3.11/dist-packages (from flair==0.15.1) (4.5.3)\n",
            "Requirement already satisfied: deprecated>=1.2.13 in /usr/local/lib/python3.11/dist-packages (from flair==0.15.1) (1.2.18)\n",
            "Requirement already satisfied: ftfy>=6.1.0 in /usr/local/lib/python3.11/dist-packages (from flair==0.15.1) (6.3.1)\n",
            "Requirement already satisfied: gdown>=4.4.0 in /usr/local/lib/python3.11/dist-packages (from flair==0.15.1) (5.2.0)\n",
            "Requirement already satisfied: huggingface-hub>=0.10.0 in /usr/local/lib/python3.11/dist-packages (from flair==0.15.1) (0.30.2)\n",
            "Requirement already satisfied: langdetect>=1.0.9 in /usr/local/lib/python3.11/dist-packages (from flair==0.15.1) (1.0.9)\n",
            "Requirement already satisfied: lxml>=4.8.0 in /usr/local/lib/python3.11/dist-packages (from flair==0.15.1) (5.4.0)\n",
            "Requirement already satisfied: matplotlib>=2.2.3 in /usr/local/lib/python3.11/dist-packages (from flair==0.15.1) (3.10.0)\n",
            "Requirement already satisfied: more-itertools>=8.13.0 in /usr/local/lib/python3.11/dist-packages (from flair==0.15.1) (10.7.0)\n",
            "Requirement already satisfied: mpld3>=0.3 in /usr/local/lib/python3.11/dist-packages (from flair==0.15.1) (0.5.10)\n",
            "Requirement already satisfied: pptree>=3.1 in /usr/local/lib/python3.11/dist-packages (from flair==0.15.1) (3.1)\n",
            "Requirement already satisfied: python-dateutil>=2.8.2 in /usr/local/lib/python3.11/dist-packages (from flair==0.15.1) (2.9.0.post0)\n",
            "Requirement already satisfied: pytorch_revgrad>=0.2.0 in /usr/local/lib/python3.11/dist-packages (from flair==0.15.1) (0.2.0)\n",
            "Requirement already satisfied: regex>=2022.1.18 in /usr/local/lib/python3.11/dist-packages (from flair==0.15.1) (2024.11.6)\n",
            "Requirement already satisfied: scikit-learn>=1.0.2 in /usr/local/lib/python3.11/dist-packages (from flair==0.15.1) (1.6.1)\n",
            "Requirement already satisfied: segtok>=1.5.11 in /usr/local/lib/python3.11/dist-packages (from flair==0.15.1) (1.5.11)\n",
            "Requirement already satisfied: sqlitedict>=2.0.0 in /usr/local/lib/python3.11/dist-packages (from flair==0.15.1) (2.1.0)\n",
            "Requirement already satisfied: tabulate>=0.8.10 in /usr/local/lib/python3.11/dist-packages (from flair==0.15.1) (0.9.0)\n",
            "Requirement already satisfied: torch>=1.13.1 in /usr/local/lib/python3.11/dist-packages (from flair==0.15.1) (2.6.0+cu124)\n",
            "Requirement already satisfied: tqdm>=4.63.0 in /usr/local/lib/python3.11/dist-packages (from flair==0.15.1) (4.67.1)\n",
            "Requirement already satisfied: transformer-smaller-training-vocab>=0.2.3 in /usr/local/lib/python3.11/dist-packages (from flair==0.15.1) (0.4.1)\n",
            "Requirement already satisfied: transformers<5.0.0,>=4.25.0 in /usr/local/lib/python3.11/dist-packages (from transformers[sentencepiece]<5.0.0,>=4.25.0->flair==0.15.1) (4.51.3)\n",
            "Requirement already satisfied: wikipedia-api>=0.5.7 in /usr/local/lib/python3.11/dist-packages (from flair==0.15.1) (0.8.1)\n",
            "Requirement already satisfied: bioc<3.0.0,>=2.0.0 in /usr/local/lib/python3.11/dist-packages (from flair==0.15.1) (2.1)\n",
            "Requirement already satisfied: jsonlines>=1.2.0 in /usr/local/lib/python3.11/dist-packages (from bioc<3.0.0,>=2.0.0->flair==0.15.1) (4.0.0)\n",
            "Requirement already satisfied: intervaltree in /usr/local/lib/python3.11/dist-packages (from bioc<3.0.0,>=2.0.0->flair==0.15.1) (3.1.0)\n",
            "Requirement already satisfied: docopt in /usr/local/lib/python3.11/dist-packages (from bioc<3.0.0,>=2.0.0->flair==0.15.1) (0.6.2)\n",
            "Requirement already satisfied: botocore<1.39.0,>=1.38.6 in /usr/local/lib/python3.11/dist-packages (from boto3>=1.20.27->flair==0.15.1) (1.38.6)\n",
            "Requirement already satisfied: jmespath<2.0.0,>=0.7.1 in /usr/local/lib/python3.11/dist-packages (from boto3>=1.20.27->flair==0.15.1) (1.0.1)\n",
            "Requirement already satisfied: s3transfer<0.13.0,>=0.12.0 in /usr/local/lib/python3.11/dist-packages (from boto3>=1.20.27->flair==0.15.1) (0.12.0)\n",
            "Requirement already satisfied: wrapt<2,>=1.10 in /usr/local/lib/python3.11/dist-packages (from deprecated>=1.2.13->flair==0.15.1) (1.17.2)\n",
            "Requirement already satisfied: wcwidth in /usr/local/lib/python3.11/dist-packages (from ftfy>=6.1.0->flair==0.15.1) (0.2.13)\n",
            "Requirement already satisfied: beautifulsoup4 in /usr/local/lib/python3.11/dist-packages (from gdown>=4.4.0->flair==0.15.1) (4.13.4)\n",
            "Requirement already satisfied: filelock in /usr/local/lib/python3.11/dist-packages (from gdown>=4.4.0->flair==0.15.1) (3.18.0)\n",
            "Requirement already satisfied: requests[socks] in /usr/local/lib/python3.11/dist-packages (from gdown>=4.4.0->flair==0.15.1) (2.32.3)\n",
            "Requirement already satisfied: fsspec>=2023.5.0 in /usr/local/lib/python3.11/dist-packages (from huggingface-hub>=0.10.0->flair==0.15.1) (2025.3.2)\n",
            "Requirement already satisfied: packaging>=20.9 in /usr/local/lib/python3.11/dist-packages (from huggingface-hub>=0.10.0->flair==0.15.1) (24.2)\n",
            "Requirement already satisfied: pyyaml>=5.1 in /usr/local/lib/python3.11/dist-packages (from huggingface-hub>=0.10.0->flair==0.15.1) (6.0.2)\n",
            "Requirement already satisfied: typing-extensions>=3.7.4.3 in /usr/local/lib/python3.11/dist-packages (from huggingface-hub>=0.10.0->flair==0.15.1) (4.13.2)\n",
            "Requirement already satisfied: six in /usr/local/lib/python3.11/dist-packages (from langdetect>=1.0.9->flair==0.15.1) (1.17.0)\n",
            "Requirement already satisfied: contourpy>=1.0.1 in /usr/local/lib/python3.11/dist-packages (from matplotlib>=2.2.3->flair==0.15.1) (1.3.2)\n",
            "Requirement already satisfied: cycler>=0.10 in /usr/local/lib/python3.11/dist-packages (from matplotlib>=2.2.3->flair==0.15.1) (0.12.1)\n",
            "Requirement already satisfied: fonttools>=4.22.0 in /usr/local/lib/python3.11/dist-packages (from matplotlib>=2.2.3->flair==0.15.1) (4.57.0)\n",
            "Requirement already satisfied: kiwisolver>=1.3.1 in /usr/local/lib/python3.11/dist-packages (from matplotlib>=2.2.3->flair==0.15.1) (1.4.8)\n",
            "Requirement already satisfied: numpy>=1.23 in /usr/local/lib/python3.11/dist-packages (from matplotlib>=2.2.3->flair==0.15.1) (2.0.2)\n",
            "Requirement already satisfied: pillow>=8 in /usr/local/lib/python3.11/dist-packages (from matplotlib>=2.2.3->flair==0.15.1) (11.2.1)\n",
            "Requirement already satisfied: pyparsing>=2.3.1 in /usr/local/lib/python3.11/dist-packages (from matplotlib>=2.2.3->flair==0.15.1) (3.2.3)\n",
            "Requirement already satisfied: jinja2 in /usr/local/lib/python3.11/dist-packages (from mpld3>=0.3->flair==0.15.1) (3.1.6)\n",
            "Requirement already satisfied: scipy>=1.6.0 in /usr/local/lib/python3.11/dist-packages (from scikit-learn>=1.0.2->flair==0.15.1) (1.15.2)\n",
            "Requirement already satisfied: joblib>=1.2.0 in /usr/local/lib/python3.11/dist-packages (from scikit-learn>=1.0.2->flair==0.15.1) (1.4.2)\n",
            "Requirement already satisfied: threadpoolctl>=3.1.0 in /usr/local/lib/python3.11/dist-packages (from scikit-learn>=1.0.2->flair==0.15.1) (3.6.0)\n",
            "Requirement already satisfied: networkx in /usr/local/lib/python3.11/dist-packages (from torch>=1.13.1->flair==0.15.1) (3.4.2)\n",
            "Requirement already satisfied: nvidia-cuda-nvrtc-cu12==12.4.127 in /usr/local/lib/python3.11/dist-packages (from torch>=1.13.1->flair==0.15.1) (12.4.127)\n",
            "Requirement already satisfied: nvidia-cuda-runtime-cu12==12.4.127 in /usr/local/lib/python3.11/dist-packages (from torch>=1.13.1->flair==0.15.1) (12.4.127)\n",
            "Requirement already satisfied: nvidia-cuda-cupti-cu12==12.4.127 in /usr/local/lib/python3.11/dist-packages (from torch>=1.13.1->flair==0.15.1) (12.4.127)\n",
            "Requirement already satisfied: nvidia-cudnn-cu12==9.1.0.70 in /usr/local/lib/python3.11/dist-packages (from torch>=1.13.1->flair==0.15.1) (9.1.0.70)\n",
            "Requirement already satisfied: nvidia-cublas-cu12==12.4.5.8 in /usr/local/lib/python3.11/dist-packages (from torch>=1.13.1->flair==0.15.1) (12.4.5.8)\n",
            "Requirement already satisfied: nvidia-cufft-cu12==11.2.1.3 in /usr/local/lib/python3.11/dist-packages (from torch>=1.13.1->flair==0.15.1) (11.2.1.3)\n",
            "Requirement already satisfied: nvidia-curand-cu12==10.3.5.147 in /usr/local/lib/python3.11/dist-packages (from torch>=1.13.1->flair==0.15.1) (10.3.5.147)\n",
            "Requirement already satisfied: nvidia-cusolver-cu12==11.6.1.9 in /usr/local/lib/python3.11/dist-packages (from torch>=1.13.1->flair==0.15.1) (11.6.1.9)\n",
            "Requirement already satisfied: nvidia-cusparse-cu12==12.3.1.170 in /usr/local/lib/python3.11/dist-packages (from torch>=1.13.1->flair==0.15.1) (12.3.1.170)\n",
            "Requirement already satisfied: nvidia-cusparselt-cu12==0.6.2 in /usr/local/lib/python3.11/dist-packages (from torch>=1.13.1->flair==0.15.1) (0.6.2)\n",
            "Requirement already satisfied: nvidia-nccl-cu12==2.21.5 in /usr/local/lib/python3.11/dist-packages (from torch>=1.13.1->flair==0.15.1) (2.21.5)\n",
            "Requirement already satisfied: nvidia-nvtx-cu12==12.4.127 in /usr/local/lib/python3.11/dist-packages (from torch>=1.13.1->flair==0.15.1) (12.4.127)\n",
            "Requirement already satisfied: nvidia-nvjitlink-cu12==12.4.127 in /usr/local/lib/python3.11/dist-packages (from torch>=1.13.1->flair==0.15.1) (12.4.127)\n",
            "Requirement already satisfied: triton==3.2.0 in /usr/local/lib/python3.11/dist-packages (from torch>=1.13.1->flair==0.15.1) (3.2.0)\n",
            "Requirement already satisfied: sympy==1.13.1 in /usr/local/lib/python3.11/dist-packages (from torch>=1.13.1->flair==0.15.1) (1.13.1)\n",
            "Requirement already satisfied: mpmath<1.4,>=1.1.0 in /usr/local/lib/python3.11/dist-packages (from sympy==1.13.1->torch>=1.13.1->flair==0.15.1) (1.3.0)\n",
            "Requirement already satisfied: tokenizers<0.22,>=0.21 in /usr/local/lib/python3.11/dist-packages (from transformers<5.0.0,>=4.25.0->transformers[sentencepiece]<5.0.0,>=4.25.0->flair==0.15.1) (0.21.1)\n",
            "Requirement already satisfied: safetensors>=0.4.3 in /usr/local/lib/python3.11/dist-packages (from transformers<5.0.0,>=4.25.0->transformers[sentencepiece]<5.0.0,>=4.25.0->flair==0.15.1) (0.5.3)\n",
            "Requirement already satisfied: sentencepiece!=0.1.92,>=0.1.91 in /usr/local/lib/python3.11/dist-packages (from transformers[sentencepiece]<5.0.0,>=4.25.0->flair==0.15.1) (0.2.0)\n",
            "Requirement already satisfied: protobuf in /usr/local/lib/python3.11/dist-packages (from transformers[sentencepiece]<5.0.0,>=4.25.0->flair==0.15.1) (5.29.4)\n",
            "Requirement already satisfied: urllib3!=2.2.0,<3,>=1.25.4 in /usr/local/lib/python3.11/dist-packages (from botocore<1.39.0,>=1.38.6->boto3>=1.20.27->flair==0.15.1) (2.4.0)\n",
            "Requirement already satisfied: attrs>=19.2.0 in /usr/local/lib/python3.11/dist-packages (from jsonlines>=1.2.0->bioc<3.0.0,>=2.0.0->flair==0.15.1) (25.3.0)\n",
            "Requirement already satisfied: accelerate>=0.26.0 in /usr/local/lib/python3.11/dist-packages (from transformers[sentencepiece,torch]<5.0,>=4.1->transformer-smaller-training-vocab>=0.2.3->flair==0.15.1) (1.6.0)\n",
            "Requirement already satisfied: soupsieve>1.2 in /usr/local/lib/python3.11/dist-packages (from beautifulsoup4->gdown>=4.4.0->flair==0.15.1) (2.7)\n",
            "Requirement already satisfied: sortedcontainers<3.0,>=2.0 in /usr/local/lib/python3.11/dist-packages (from intervaltree->bioc<3.0.0,>=2.0.0->flair==0.15.1) (2.4.0)\n",
            "Requirement already satisfied: MarkupSafe>=2.0 in /usr/local/lib/python3.11/dist-packages (from jinja2->mpld3>=0.3->flair==0.15.1) (3.0.2)\n",
            "Requirement already satisfied: charset-normalizer<4,>=2 in /usr/local/lib/python3.11/dist-packages (from requests[socks]->gdown>=4.4.0->flair==0.15.1) (3.4.1)\n",
            "Requirement already satisfied: idna<4,>=2.5 in /usr/local/lib/python3.11/dist-packages (from requests[socks]->gdown>=4.4.0->flair==0.15.1) (3.10)\n",
            "Requirement already satisfied: certifi>=2017.4.17 in /usr/local/lib/python3.11/dist-packages (from requests[socks]->gdown>=4.4.0->flair==0.15.1) (2025.1.31)\n",
            "Requirement already satisfied: PySocks!=1.5.7,>=1.5.6 in /usr/local/lib/python3.11/dist-packages (from requests[socks]->gdown>=4.4.0->flair==0.15.1) (1.7.1)\n",
            "Requirement already satisfied: psutil in /usr/local/lib/python3.11/dist-packages (from accelerate>=0.26.0->transformers[sentencepiece,torch]<5.0,>=4.1->transformer-smaller-training-vocab>=0.2.3->flair==0.15.1) (5.9.5)\n"
          ]
        }
      ]
    },
    {
      "cell_type": "code",
      "source": [
        "import flair\n",
        "print(flair.__version__)"
      ],
      "metadata": {
        "colab": {
          "base_uri": "https://localhost:8080/"
        },
        "id": "iTQnHcLMNsFy",
        "outputId": "7f5711eb-838d-4cd0-a7ee-dca00f733e36"
      },
      "execution_count": null,
      "outputs": [
        {
          "output_type": "stream",
          "name": "stdout",
          "text": [
            "0.15.1\n"
          ]
        }
      ]
    },
    {
      "cell_type": "code",
      "source": [
        "# 2. 공사 종류 분류 모델 학습\n",
        "# 데이터셋 로드 및 준비\n",
        "construction_corpus = ClassificationCorpus(\"/content/sample_data/construction_train_dev_test\",  # 데이터 디렉토리 경로\n",
        "                                         train_file='construction_train.txt',  # 학습 데이터 파일\n",
        "                                         dev_file='construction_dev.txt',  # 검증 데이터 파일\n",
        "                                         test_file='construction_test.txt', # 테스트 데이터 파일\n",
        "                                         )\n",
        "# test.txt에 있는 레이블 확인하기\n",
        "label_counts = {}\n",
        "\n",
        "# 테스트 데이터의 각 문장을 순회하며 레이블 카운트\n",
        "for sentence in construction_corpus.train:\n",
        "    label = sentence.get_label('class').value\n",
        "    if label in label_counts:\n",
        "        label_counts[label] += 1\n",
        "    else:\n",
        "        label_counts[label] = 1\n",
        "\n",
        "# 결과 출력\n",
        "print(\"=== 테스트 데이터(test.txt) 레이블 분포 ===\")\n",
        "for label, count in sorted(label_counts.items()):\n",
        "    percentage = (count / sum(label_counts.values())) * 100\n",
        "    print(f\"레이블: {label} - {count}개 ({percentage:.2f}%)\")\n",
        "\n",
        "print(f\"총 샘플 수: {sum(label_counts.values())}\")\n",
        "print(f\"고유 레이블 수: {len(label_counts)}\")\n",
        "print(f\"레이블 목록: {list(label_counts.keys())}\")\n",
        "\n",
        "# test.txt에 있는 레이블 확인하기\n",
        "label_counts = {}\n",
        "\n",
        "# 테스트 데이터의 각 문장을 순회하며 레이블 카운트\n",
        "for sentence in construction_corpus.test:\n",
        "    label = sentence.get_label('class').value\n",
        "    if label in label_counts:\n",
        "        label_counts[label] += 1\n",
        "    else:\n",
        "        label_counts[label] = 1\n",
        "\n",
        "# 결과 출력\n",
        "print(\"=== 테스트 데이터(test.txt) 레이블 분포 ===\")\n",
        "for label, count in sorted(label_counts.items()):\n",
        "    percentage = (count / sum(label_counts.values())) * 100\n",
        "    print(f\"레이블: {label} - {count}개 ({percentage:.2f}%)\")\n",
        "\n",
        "print(f\"총 샘플 수: {sum(label_counts.values())}\")\n",
        "print(f\"고유 레이블 수: {len(label_counts)}\")\n",
        "print(f\"레이블 목록: {list(label_counts.keys())}\")\n",
        "\n",
        "# 앞서 생성한 document_embeddings를 재사용 (모델 공유)\n",
        "construction_classifier = TextClassifier(document_embeddings,\n",
        "                                       label_dictionary=construction_corpus.make_label_dictionary(label_type= 'class'), label_type='class')  # 공사 유형 레이블 사전 생성\n",
        "\n",
        "# 모델 트레이너 초기화\n",
        "construction_trainer = ModelTrainer(construction_classifier, construction_corpus)\n",
        "\n",
        "construction_trainer.train('models/construction-classifier',\n",
        "                  learning_rate=0.0382,  # 학습률 설정\n",
        "                  mini_batch_size=16,  # 배치 크기 설정\n",
        "                  max_epochs=18\n",
        "                  )  # 최대 에폭 수 설정\n",
        "\n",
        "print(\"레이블 분포:\", label_counts)\n"
      ],
      "metadata": {
        "colab": {
          "base_uri": "https://localhost:8080/"
        },
        "collapsed": true,
        "id": "xWnhNv6L33JB",
        "outputId": "b4b288ee-c16f-4a0d-c3a7-b242336283fb"
      },
      "execution_count": null,
      "outputs": [
        {
          "output_type": "stream",
          "name": "stdout",
          "text": [
            "2025-05-01 06:11:02,201 Reading data from /content/sample_data/construction_train_dev_test\n",
            "2025-05-01 06:11:02,202 Train: /content/sample_data/construction_train_dev_test/construction_train.txt\n",
            "2025-05-01 06:11:02,203 Dev: /content/sample_data/construction_train_dev_test/construction_dev.txt\n",
            "2025-05-01 06:11:02,205 Test: /content/sample_data/construction_train_dev_test/construction_test.txt\n",
            "2025-05-01 06:11:02,253 Initialized corpus /content/sample_data/construction_train_dev_test (label type name is 'class')\n",
            "=== 테스트 데이터(test.txt) 레이블 분포 ===\n",
            "레이블:  - 5개 (0.60%)\n",
            "레이블: 가설구조물 - 198개 (23.63%)\n",
            "레이블: 건축 - 77개 (9.19%)\n",
            "레이블: 공통 - 244개 (29.12%)\n",
            "레이블: 교량 - 132개 (15.75%)\n",
            "레이블: 굴착공사 - 109개 (13.01%)\n",
            "레이블: 양중작업 - 73개 (8.71%)\n",
            "총 샘플 수: 838\n",
            "고유 레이블 수: 7\n",
            "레이블 목록: ['공통', '굴착공사', '가설구조물', '건축', '교량', '양중작업', '']\n",
            "=== 테스트 데이터(test.txt) 레이블 분포 ===\n",
            "레이블: 가설구조물 - 24개 (22.86%)\n",
            "레이블: 건축 - 12개 (11.43%)\n",
            "레이블: 공통 - 25개 (23.81%)\n",
            "레이블: 교량 - 27개 (25.71%)\n",
            "레이블: 굴착공사 - 11개 (10.48%)\n",
            "레이블: 양중작업 - 6개 (5.71%)\n",
            "총 샘플 수: 105\n",
            "고유 레이블 수: 6\n",
            "레이블 목록: ['공통', '가설구조물', '교량', '굴착공사', '건축', '양중작업']\n",
            "2025-05-01 06:11:02,396 Computing label dictionary. Progress:\n"
          ]
        },
        {
          "output_type": "stream",
          "name": "stderr",
          "text": [
            "0it [00:00, ?it/s]\n",
            "838it [00:00, 3742.91it/s]"
          ]
        },
        {
          "output_type": "stream",
          "name": "stdout",
          "text": [
            "2025-05-01 06:11:02,627 Dictionary created for label 'class' with 7 values: 공통 (seen 244 times), 가설구조물 (seen 198 times), 교량 (seen 132 times), 굴착공사 (seen 109 times), 건축 (seen 77 times), 양중작업 (seen 73 times),  (seen 5 times)\n",
            "2025-05-01 06:11:02,634 ----------------------------------------------------------------------------------------------------\n",
            "2025-05-01 06:11:02,635 Model: \"TextClassifier(\n",
            "  (embeddings): TransformerDocumentEmbeddings(\n",
            "    (model): BertModel(\n",
            "      (embeddings): BertEmbeddings(\n",
            "        (word_embeddings): Embedding(32001, 768, padding_idx=0)\n",
            "        (position_embeddings): Embedding(512, 768)\n",
            "        (token_type_embeddings): Embedding(2, 768)\n",
            "        (LayerNorm): LayerNorm((768,), eps=1e-12, elementwise_affine=True)\n",
            "        (dropout): Dropout(p=0.1, inplace=False)\n",
            "      )\n",
            "      (encoder): BertEncoder(\n",
            "        (layer): ModuleList(\n",
            "          (0-11): 12 x BertLayer(\n",
            "            (attention): BertAttention(\n",
            "              (self): BertSdpaSelfAttention(\n",
            "                (query): Linear(in_features=768, out_features=768, bias=True)\n",
            "                (key): Linear(in_features=768, out_features=768, bias=True)\n",
            "                (value): Linear(in_features=768, out_features=768, bias=True)\n",
            "                (dropout): Dropout(p=0.1, inplace=False)\n",
            "              )\n",
            "              (output): BertSelfOutput(\n",
            "                (dense): Linear(in_features=768, out_features=768, bias=True)\n",
            "                (LayerNorm): LayerNorm((768,), eps=1e-12, elementwise_affine=True)\n",
            "                (dropout): Dropout(p=0.1, inplace=False)\n",
            "              )\n",
            "            )\n",
            "            (intermediate): BertIntermediate(\n",
            "              (dense): Linear(in_features=768, out_features=3072, bias=True)\n",
            "              (intermediate_act_fn): GELUActivation()\n",
            "            )\n",
            "            (output): BertOutput(\n",
            "              (dense): Linear(in_features=3072, out_features=768, bias=True)\n",
            "              (LayerNorm): LayerNorm((768,), eps=1e-12, elementwise_affine=True)\n",
            "              (dropout): Dropout(p=0.1, inplace=False)\n",
            "            )\n",
            "          )\n",
            "        )\n",
            "      )\n",
            "      (pooler): BertPooler(\n",
            "        (dense): Linear(in_features=768, out_features=768, bias=True)\n",
            "        (activation): Tanh()\n",
            "      )\n",
            "    )\n",
            "  )\n",
            "  (decoder): Linear(in_features=768, out_features=7, bias=True)\n",
            "  (dropout): Dropout(p=0.0, inplace=False)\n",
            "  (locked_dropout): LockedDropout(p=0.0)\n",
            "  (word_dropout): WordDropout(p=0.0)\n",
            "  (loss_function): CrossEntropyLoss()\n",
            "  (weights): None\n",
            "  (weight_tensor) None\n",
            ")\"\n",
            "2025-05-01 06:11:02,637 ----------------------------------------------------------------------------------------------------\n",
            "2025-05-01 06:11:02,638 Corpus: 838 train + 105 dev + 105 test sentences\n",
            "2025-05-01 06:11:02,638 ----------------------------------------------------------------------------------------------------\n",
            "2025-05-01 06:11:02,639 Train:  838 sentences\n",
            "2025-05-01 06:11:02,640         (train_with_dev=False, train_with_test=False)\n",
            "2025-05-01 06:11:02,641 ----------------------------------------------------------------------------------------------------\n",
            "2025-05-01 06:11:02,642 Training Params:\n",
            "2025-05-01 06:11:02,643  - learning_rate: \"0.0382\" \n",
            "2025-05-01 06:11:02,644  - mini_batch_size: \"16\"\n",
            "2025-05-01 06:11:02,645  - max_epochs: \"18\"\n",
            "2025-05-01 06:11:02,646  - shuffle: \"True\"\n",
            "2025-05-01 06:11:02,647 ----------------------------------------------------------------------------------------------------\n",
            "2025-05-01 06:11:02,648 Plugins:\n",
            "2025-05-01 06:11:02,649  - AnnealOnPlateau | patience: '3', anneal_factor: '0.5', min_learning_rate: '0.0001'\n",
            "2025-05-01 06:11:02,649 ----------------------------------------------------------------------------------------------------\n",
            "2025-05-01 06:11:02,650 Final evaluation on model from best epoch (best-model.pt)\n",
            "2025-05-01 06:11:02,651  - metric: \"('micro avg', 'f1-score')\"\n",
            "2025-05-01 06:11:02,652 ----------------------------------------------------------------------------------------------------\n",
            "2025-05-01 06:11:02,652 Computation:\n",
            "2025-05-01 06:11:02,653  - compute on device: cuda:0\n",
            "2025-05-01 06:11:02,654  - embedding storage: cpu\n",
            "2025-05-01 06:11:02,655 ----------------------------------------------------------------------------------------------------\n",
            "2025-05-01 06:11:02,655 Model training base path: \"models/construction-classifier\"\n",
            "2025-05-01 06:11:02,656 ----------------------------------------------------------------------------------------------------\n",
            "2025-05-01 06:11:02,657 ----------------------------------------------------------------------------------------------------\n"
          ]
        },
        {
          "output_type": "stream",
          "name": "stderr",
          "text": [
            "\n",
            "/usr/local/lib/python3.11/dist-packages/flair/trainers/trainer.py:545: FutureWarning: `torch.cuda.amp.GradScaler(args...)` is deprecated. Please use `torch.amp.GradScaler('cuda', args...)` instead.\n",
            "  scaler = torch.cuda.amp.GradScaler(enabled=use_amp and flair.device.type != \"cpu\")\n"
          ]
        },
        {
          "output_type": "stream",
          "name": "stdout",
          "text": [
            "2025-05-01 06:11:03,581 epoch 1 - iter 5/53 - loss 0.70823773 - time (sec): 0.92 - samples/sec: 86.70 - lr: 0.038200 - momentum: 0.000000\n",
            "2025-05-01 06:11:04,484 epoch 1 - iter 10/53 - loss 0.35816162 - time (sec): 1.83 - samples/sec: 87.67 - lr: 0.038200 - momentum: 0.000000\n",
            "2025-05-01 06:11:05,347 epoch 1 - iter 15/53 - loss 0.25857840 - time (sec): 2.69 - samples/sec: 89.29 - lr: 0.038200 - momentum: 0.000000\n",
            "2025-05-01 06:11:06,271 epoch 1 - iter 20/53 - loss 0.19517475 - time (sec): 3.61 - samples/sec: 88.59 - lr: 0.038200 - momentum: 0.000000\n",
            "2025-05-01 06:11:07,252 epoch 1 - iter 25/53 - loss 0.15988458 - time (sec): 4.59 - samples/sec: 87.09 - lr: 0.038200 - momentum: 0.000000\n",
            "2025-05-01 06:11:08,270 epoch 1 - iter 30/53 - loss 0.13336549 - time (sec): 5.61 - samples/sec: 85.54 - lr: 0.038200 - momentum: 0.000000\n",
            "2025-05-01 06:11:09,248 epoch 1 - iter 35/53 - loss 0.11437082 - time (sec): 6.59 - samples/sec: 84.98 - lr: 0.038200 - momentum: 0.000000\n",
            "2025-05-01 06:11:10,296 epoch 1 - iter 40/53 - loss 0.10009944 - time (sec): 7.64 - samples/sec: 83.80 - lr: 0.038200 - momentum: 0.000000\n",
            "2025-05-01 06:11:11,351 epoch 1 - iter 45/53 - loss 0.08935277 - time (sec): 8.69 - samples/sec: 82.83 - lr: 0.038200 - momentum: 0.000000\n",
            "2025-05-01 06:11:12,273 epoch 1 - iter 50/53 - loss 0.08064632 - time (sec): 9.61 - samples/sec: 83.21 - lr: 0.038200 - momentum: 0.000000\n",
            "2025-05-01 06:11:12,860 ----------------------------------------------------------------------------------------------------\n",
            "2025-05-01 06:11:12,861 EPOCH 1 done: loss 0.0770 - lr: 0.038200\n"
          ]
        },
        {
          "output_type": "stream",
          "name": "stderr",
          "text": [
            "100%|██████████| 2/2 [00:00<00:00,  4.07it/s]"
          ]
        },
        {
          "output_type": "stream",
          "name": "stdout",
          "text": [
            "2025-05-01 06:11:13,380 DEV : loss 3.1870150566101074 - f1-score (micro avg)  0.6286\n",
            "2025-05-01 06:11:13,406  - 0 epochs without improvement\n",
            "2025-05-01 06:11:13,408 saving best model\n"
          ]
        },
        {
          "output_type": "stream",
          "name": "stderr",
          "text": [
            "\n"
          ]
        },
        {
          "output_type": "stream",
          "name": "stdout",
          "text": [
            "2025-05-01 06:11:14,642 ----------------------------------------------------------------------------------------------------\n",
            "2025-05-01 06:11:15,404 epoch 2 - iter 5/53 - loss 0.00017241 - time (sec): 0.76 - samples/sec: 105.43 - lr: 0.038200 - momentum: 0.000000\n",
            "2025-05-01 06:11:16,314 epoch 2 - iter 10/53 - loss 0.02586830 - time (sec): 1.67 - samples/sec: 95.91 - lr: 0.038200 - momentum: 0.000000\n",
            "2025-05-01 06:11:17,382 epoch 2 - iter 15/53 - loss 0.04647034 - time (sec): 2.74 - samples/sec: 87.71 - lr: 0.038200 - momentum: 0.000000\n",
            "2025-05-01 06:11:18,389 epoch 2 - iter 20/53 - loss 0.03488729 - time (sec): 3.74 - samples/sec: 85.49 - lr: 0.038200 - momentum: 0.000000\n",
            "2025-05-01 06:11:19,488 epoch 2 - iter 25/53 - loss 0.02820712 - time (sec): 4.84 - samples/sec: 82.61 - lr: 0.038200 - momentum: 0.000000\n",
            "2025-05-01 06:11:20,490 epoch 2 - iter 30/53 - loss 0.02541217 - time (sec): 5.84 - samples/sec: 82.13 - lr: 0.038200 - momentum: 0.000000\n",
            "2025-05-01 06:11:21,586 epoch 2 - iter 35/53 - loss 0.02180571 - time (sec): 6.94 - samples/sec: 80.68 - lr: 0.038200 - momentum: 0.000000\n",
            "2025-05-01 06:11:22,504 epoch 2 - iter 40/53 - loss 0.01909728 - time (sec): 7.86 - samples/sec: 81.44 - lr: 0.038200 - momentum: 0.000000\n",
            "2025-05-01 06:11:23,367 epoch 2 - iter 45/53 - loss 0.02394159 - time (sec): 8.72 - samples/sec: 82.56 - lr: 0.038200 - momentum: 0.000000\n",
            "2025-05-01 06:11:24,422 epoch 2 - iter 50/53 - loss 0.02155941 - time (sec): 9.78 - samples/sec: 81.83 - lr: 0.038200 - momentum: 0.000000\n",
            "2025-05-01 06:11:25,516 ----------------------------------------------------------------------------------------------------\n",
            "2025-05-01 06:11:25,517 EPOCH 2 done: loss 0.0206 - lr: 0.038200\n"
          ]
        },
        {
          "output_type": "stream",
          "name": "stderr",
          "text": [
            "100%|██████████| 2/2 [00:00<00:00,  3.95it/s]"
          ]
        },
        {
          "output_type": "stream",
          "name": "stdout",
          "text": [
            "2025-05-01 06:11:26,044 DEV : loss 3.1537554264068604 - f1-score (micro avg)  0.6762\n",
            "2025-05-01 06:11:26,070  - 0 epochs without improvement\n",
            "2025-05-01 06:11:26,071 saving best model\n"
          ]
        },
        {
          "output_type": "stream",
          "name": "stderr",
          "text": [
            "\n"
          ]
        },
        {
          "output_type": "stream",
          "name": "stdout",
          "text": [
            "2025-05-01 06:11:27,291 ----------------------------------------------------------------------------------------------------\n",
            "2025-05-01 06:11:28,218 epoch 3 - iter 5/53 - loss 0.05113013 - time (sec): 0.92 - samples/sec: 86.71 - lr: 0.038200 - momentum: 0.000000\n",
            "2025-05-01 06:11:29,135 epoch 3 - iter 10/53 - loss 0.02562474 - time (sec): 1.84 - samples/sec: 86.95 - lr: 0.038200 - momentum: 0.000000\n",
            "2025-05-01 06:11:30,059 epoch 3 - iter 15/53 - loss 0.01963454 - time (sec): 2.76 - samples/sec: 86.83 - lr: 0.038200 - momentum: 0.000000\n",
            "2025-05-01 06:11:31,094 epoch 3 - iter 20/53 - loss 0.01473611 - time (sec): 3.80 - samples/sec: 84.25 - lr: 0.038200 - momentum: 0.000000\n",
            "2025-05-01 06:11:32,152 epoch 3 - iter 25/53 - loss 0.01183949 - time (sec): 4.86 - samples/sec: 82.36 - lr: 0.038200 - momentum: 0.000000\n",
            "2025-05-01 06:11:33,216 epoch 3 - iter 30/53 - loss 0.00988682 - time (sec): 5.92 - samples/sec: 81.08 - lr: 0.038200 - momentum: 0.000000\n",
            "2025-05-01 06:11:34,158 epoch 3 - iter 35/53 - loss 0.00848263 - time (sec): 6.86 - samples/sec: 81.60 - lr: 0.038200 - momentum: 0.000000\n",
            "2025-05-01 06:11:35,199 epoch 3 - iter 40/53 - loss 0.00742678 - time (sec): 7.90 - samples/sec: 80.98 - lr: 0.038200 - momentum: 0.000000\n",
            "2025-05-01 06:11:36,142 epoch 3 - iter 45/53 - loss 0.01128642 - time (sec): 8.85 - samples/sec: 81.39 - lr: 0.038200 - momentum: 0.000000\n",
            "2025-05-01 06:11:37,196 epoch 3 - iter 50/53 - loss 0.01016100 - time (sec): 9.90 - samples/sec: 80.80 - lr: 0.038200 - momentum: 0.000000\n",
            "2025-05-01 06:11:37,768 ----------------------------------------------------------------------------------------------------\n",
            "2025-05-01 06:11:37,769 EPOCH 3 done: loss 0.0097 - lr: 0.038200\n"
          ]
        },
        {
          "output_type": "stream",
          "name": "stderr",
          "text": [
            "100%|██████████| 2/2 [00:00<00:00,  3.69it/s]"
          ]
        },
        {
          "output_type": "stream",
          "name": "stdout",
          "text": [
            "2025-05-01 06:11:38,335 DEV : loss 3.170771360397339 - f1-score (micro avg)  0.6667\n",
            "2025-05-01 06:11:38,358  - 1 epochs without improvement\n",
            "2025-05-01 06:11:38,359 ----------------------------------------------------------------------------------------------------\n"
          ]
        },
        {
          "output_type": "stream",
          "name": "stderr",
          "text": [
            "\n"
          ]
        },
        {
          "output_type": "stream",
          "name": "stdout",
          "text": [
            "2025-05-01 06:11:39,181 epoch 4 - iter 5/53 - loss 0.00298541 - time (sec): 0.82 - samples/sec: 97.73 - lr: 0.038200 - momentum: 0.000000\n",
            "2025-05-01 06:11:40,333 epoch 4 - iter 10/53 - loss 0.00313614 - time (sec): 1.97 - samples/sec: 81.20 - lr: 0.038200 - momentum: 0.000000\n",
            "2025-05-01 06:11:41,320 epoch 4 - iter 15/53 - loss 0.00305462 - time (sec): 2.96 - samples/sec: 81.15 - lr: 0.038200 - momentum: 0.000000\n",
            "2025-05-01 06:11:42,297 epoch 4 - iter 20/53 - loss 0.00229457 - time (sec): 3.93 - samples/sec: 81.33 - lr: 0.038200 - momentum: 0.000000\n",
            "2025-05-01 06:11:43,515 epoch 4 - iter 25/53 - loss 0.00184606 - time (sec): 5.15 - samples/sec: 77.63 - lr: 0.038200 - momentum: 0.000000\n",
            "2025-05-01 06:11:44,600 epoch 4 - iter 30/53 - loss 0.00154026 - time (sec): 6.24 - samples/sec: 76.96 - lr: 0.038200 - momentum: 0.000000\n",
            "2025-05-01 06:11:45,748 epoch 4 - iter 35/53 - loss 0.00132216 - time (sec): 7.39 - samples/sec: 75.82 - lr: 0.038200 - momentum: 0.000000\n",
            "2025-05-01 06:11:46,676 epoch 4 - iter 40/53 - loss 0.00118037 - time (sec): 8.31 - samples/sec: 76.99 - lr: 0.038200 - momentum: 0.000000\n",
            "2025-05-01 06:11:47,753 epoch 4 - iter 45/53 - loss 0.00107022 - time (sec): 9.39 - samples/sec: 76.67 - lr: 0.038200 - momentum: 0.000000\n",
            "2025-05-01 06:11:48,657 epoch 4 - iter 50/53 - loss 0.00102182 - time (sec): 10.30 - samples/sec: 77.71 - lr: 0.038200 - momentum: 0.000000\n",
            "2025-05-01 06:11:49,235 ----------------------------------------------------------------------------------------------------\n",
            "2025-05-01 06:11:49,235 EPOCH 4 done: loss 0.0025 - lr: 0.038200\n"
          ]
        },
        {
          "output_type": "stream",
          "name": "stderr",
          "text": [
            "100%|██████████| 2/2 [00:00<00:00,  3.73it/s]"
          ]
        },
        {
          "output_type": "stream",
          "name": "stdout",
          "text": [
            "2025-05-01 06:11:49,796 DEV : loss 3.4195189476013184 - f1-score (micro avg)  0.6286\n",
            "2025-05-01 06:11:49,820  - 2 epochs without improvement\n",
            "2025-05-01 06:11:49,821 ----------------------------------------------------------------------------------------------------\n"
          ]
        },
        {
          "output_type": "stream",
          "name": "stderr",
          "text": [
            "\n"
          ]
        },
        {
          "output_type": "stream",
          "name": "stdout",
          "text": [
            "2025-05-01 06:11:50,589 epoch 5 - iter 5/53 - loss 0.00008156 - time (sec): 0.76 - samples/sec: 104.63 - lr: 0.038200 - momentum: 0.000000\n",
            "2025-05-01 06:11:51,465 epoch 5 - iter 10/53 - loss 0.00005146 - time (sec): 1.64 - samples/sec: 97.53 - lr: 0.038200 - momentum: 0.000000\n",
            "2025-05-01 06:11:52,625 epoch 5 - iter 15/53 - loss 0.00003797 - time (sec): 2.80 - samples/sec: 85.70 - lr: 0.038200 - momentum: 0.000000\n",
            "2025-05-01 06:11:53,643 epoch 5 - iter 20/53 - loss 0.00003943 - time (sec): 3.82 - samples/sec: 83.80 - lr: 0.038200 - momentum: 0.000000\n",
            "2025-05-01 06:11:54,588 epoch 5 - iter 25/53 - loss 0.00003461 - time (sec): 4.76 - samples/sec: 83.97 - lr: 0.038200 - momentum: 0.000000\n",
            "2025-05-01 06:11:55,604 epoch 5 - iter 30/53 - loss 0.00003018 - time (sec): 5.78 - samples/sec: 83.05 - lr: 0.038200 - momentum: 0.000000\n",
            "2025-05-01 06:11:56,696 epoch 5 - iter 35/53 - loss 0.00004205 - time (sec): 6.87 - samples/sec: 81.50 - lr: 0.038200 - momentum: 0.000000\n",
            "2025-05-01 06:11:57,755 epoch 5 - iter 40/53 - loss 0.00337482 - time (sec): 7.93 - samples/sec: 80.70 - lr: 0.038200 - momentum: 0.000000\n",
            "2025-05-01 06:11:58,858 epoch 5 - iter 45/53 - loss 0.00300151 - time (sec): 9.03 - samples/sec: 79.70 - lr: 0.038200 - momentum: 0.000000\n",
            "2025-05-01 06:12:00,061 epoch 5 - iter 50/53 - loss 0.00270264 - time (sec): 10.24 - samples/sec: 78.15 - lr: 0.038200 - momentum: 0.000000\n",
            "2025-05-01 06:12:00,659 ----------------------------------------------------------------------------------------------------\n",
            "2025-05-01 06:12:00,660 EPOCH 5 done: loss 0.0026 - lr: 0.038200\n"
          ]
        },
        {
          "output_type": "stream",
          "name": "stderr",
          "text": [
            "100%|██████████| 2/2 [00:00<00:00,  3.81it/s]"
          ]
        },
        {
          "output_type": "stream",
          "name": "stdout",
          "text": [
            "2025-05-01 06:12:01,210 DEV : loss 3.3707258701324463 - f1-score (micro avg)  0.6857\n",
            "2025-05-01 06:12:01,240  - 0 epochs without improvement\n",
            "2025-05-01 06:12:01,241 saving best model\n"
          ]
        },
        {
          "output_type": "stream",
          "name": "stderr",
          "text": [
            "\n"
          ]
        },
        {
          "output_type": "stream",
          "name": "stdout",
          "text": [
            "2025-05-01 06:12:02,470 ----------------------------------------------------------------------------------------------------\n",
            "2025-05-01 06:12:03,341 epoch 6 - iter 5/53 - loss 0.00184329 - time (sec): 0.87 - samples/sec: 92.12 - lr: 0.038200 - momentum: 0.000000\n",
            "2025-05-01 06:12:04,241 epoch 6 - iter 10/53 - loss 0.08557183 - time (sec): 1.77 - samples/sec: 90.46 - lr: 0.038200 - momentum: 0.000000\n",
            "2025-05-01 06:12:05,371 epoch 6 - iter 15/53 - loss 0.05721535 - time (sec): 2.90 - samples/sec: 82.81 - lr: 0.038200 - momentum: 0.000000\n",
            "2025-05-01 06:12:06,321 epoch 6 - iter 20/53 - loss 0.04291527 - time (sec): 3.85 - samples/sec: 83.16 - lr: 0.038200 - momentum: 0.000000\n",
            "2025-05-01 06:12:07,293 epoch 6 - iter 25/53 - loss 0.03434045 - time (sec): 4.82 - samples/sec: 82.99 - lr: 0.038200 - momentum: 0.000000\n",
            "2025-05-01 06:12:08,447 epoch 6 - iter 30/53 - loss 0.02861898 - time (sec): 5.97 - samples/sec: 80.35 - lr: 0.038200 - momentum: 0.000000\n",
            "2025-05-01 06:12:09,344 epoch 6 - iter 35/53 - loss 0.02453163 - time (sec): 6.87 - samples/sec: 81.49 - lr: 0.038200 - momentum: 0.000000\n",
            "2025-05-01 06:12:10,485 epoch 6 - iter 40/53 - loss 0.02146774 - time (sec): 8.01 - samples/sec: 79.88 - lr: 0.038200 - momentum: 0.000000\n",
            "2025-05-01 06:12:11,469 epoch 6 - iter 45/53 - loss 0.01908374 - time (sec): 9.00 - samples/sec: 80.03 - lr: 0.038200 - momentum: 0.000000\n",
            "2025-05-01 06:12:12,600 epoch 6 - iter 50/53 - loss 0.01717642 - time (sec): 10.13 - samples/sec: 79.00 - lr: 0.038200 - momentum: 0.000000\n",
            "2025-05-01 06:12:13,160 ----------------------------------------------------------------------------------------------------\n",
            "2025-05-01 06:12:13,162 EPOCH 6 done: loss 0.0164 - lr: 0.038200\n"
          ]
        },
        {
          "output_type": "stream",
          "name": "stderr",
          "text": [
            "100%|██████████| 2/2 [00:00<00:00,  3.85it/s]"
          ]
        },
        {
          "output_type": "stream",
          "name": "stdout",
          "text": [
            "2025-05-01 06:12:13,707 DEV : loss 3.576502799987793 - f1-score (micro avg)  0.6667\n",
            "2025-05-01 06:12:13,733  - 1 epochs without improvement\n",
            "2025-05-01 06:12:13,735 ----------------------------------------------------------------------------------------------------\n"
          ]
        },
        {
          "output_type": "stream",
          "name": "stderr",
          "text": [
            "\n"
          ]
        },
        {
          "output_type": "stream",
          "name": "stdout",
          "text": [
            "2025-05-01 06:12:14,680 epoch 7 - iter 5/53 - loss 0.00001559 - time (sec): 0.94 - samples/sec: 84.84 - lr: 0.038200 - momentum: 0.000000\n",
            "2025-05-01 06:12:15,789 epoch 7 - iter 10/53 - loss 0.00001548 - time (sec): 2.05 - samples/sec: 77.99 - lr: 0.038200 - momentum: 0.000000\n",
            "2025-05-01 06:12:16,922 epoch 7 - iter 15/53 - loss 0.00001375 - time (sec): 3.18 - samples/sec: 75.36 - lr: 0.038200 - momentum: 0.000000\n",
            "2025-05-01 06:12:17,695 epoch 7 - iter 20/53 - loss 0.00001384 - time (sec): 3.96 - samples/sec: 80.86 - lr: 0.038200 - momentum: 0.000000\n",
            "2025-05-01 06:12:18,662 epoch 7 - iter 25/53 - loss 0.00001556 - time (sec): 4.92 - samples/sec: 81.23 - lr: 0.038200 - momentum: 0.000000\n",
            "2025-05-01 06:12:19,758 epoch 7 - iter 30/53 - loss 0.00001431 - time (sec): 6.02 - samples/sec: 79.72 - lr: 0.038200 - momentum: 0.000000\n",
            "2025-05-01 06:12:20,717 epoch 7 - iter 35/53 - loss 0.00001474 - time (sec): 6.98 - samples/sec: 80.24 - lr: 0.038200 - momentum: 0.000000\n",
            "2025-05-01 06:12:21,754 epoch 7 - iter 40/53 - loss 0.00001395 - time (sec): 8.02 - samples/sec: 79.84 - lr: 0.038200 - momentum: 0.000000\n",
            "2025-05-01 06:12:22,801 epoch 7 - iter 45/53 - loss 0.00001307 - time (sec): 9.06 - samples/sec: 79.44 - lr: 0.038200 - momentum: 0.000000\n",
            "2025-05-01 06:12:23,783 epoch 7 - iter 50/53 - loss 0.00002383 - time (sec): 10.05 - samples/sec: 79.64 - lr: 0.038200 - momentum: 0.000000\n",
            "2025-05-01 06:12:24,427 ----------------------------------------------------------------------------------------------------\n",
            "2025-05-01 06:12:24,429 EPOCH 7 done: loss 0.0000 - lr: 0.038200\n"
          ]
        },
        {
          "output_type": "stream",
          "name": "stderr",
          "text": [
            "100%|██████████| 2/2 [00:00<00:00,  3.82it/s]"
          ]
        },
        {
          "output_type": "stream",
          "name": "stdout",
          "text": [
            "2025-05-01 06:12:24,982 DEV : loss 4.028983116149902 - f1-score (micro avg)  0.619\n",
            "2025-05-01 06:12:25,018  - 2 epochs without improvement\n",
            "2025-05-01 06:12:25,022 ----------------------------------------------------------------------------------------------------\n"
          ]
        },
        {
          "output_type": "stream",
          "name": "stderr",
          "text": [
            "\n"
          ]
        },
        {
          "output_type": "stream",
          "name": "stdout",
          "text": [
            "2025-05-01 06:12:25,879 epoch 8 - iter 5/53 - loss 0.00006458 - time (sec): 0.85 - samples/sec: 93.57 - lr: 0.038200 - momentum: 0.000000\n",
            "2025-05-01 06:12:26,928 epoch 8 - iter 10/53 - loss 0.00003789 - time (sec): 1.90 - samples/sec: 84.05 - lr: 0.038200 - momentum: 0.000000\n",
            "2025-05-01 06:12:27,834 epoch 8 - iter 15/53 - loss 0.00002765 - time (sec): 2.81 - samples/sec: 85.39 - lr: 0.038200 - momentum: 0.000000\n",
            "2025-05-01 06:12:28,903 epoch 8 - iter 20/53 - loss 0.00003496 - time (sec): 3.88 - samples/sec: 82.49 - lr: 0.038200 - momentum: 0.000000\n",
            "2025-05-01 06:12:29,997 epoch 8 - iter 25/53 - loss 0.00003167 - time (sec): 4.97 - samples/sec: 80.43 - lr: 0.038200 - momentum: 0.000000\n",
            "2025-05-01 06:12:30,977 epoch 8 - iter 30/53 - loss 0.00002955 - time (sec): 5.95 - samples/sec: 80.63 - lr: 0.038200 - momentum: 0.000000\n",
            "2025-05-01 06:12:31,943 epoch 8 - iter 35/53 - loss 0.00002766 - time (sec): 6.92 - samples/sec: 80.94 - lr: 0.038200 - momentum: 0.000000\n",
            "2025-05-01 06:12:32,957 epoch 8 - iter 40/53 - loss 0.00002813 - time (sec): 7.93 - samples/sec: 80.67 - lr: 0.038200 - momentum: 0.000000\n",
            "2025-05-01 06:12:33,995 epoch 8 - iter 45/53 - loss 0.00002652 - time (sec): 8.97 - samples/sec: 80.26 - lr: 0.038200 - momentum: 0.000000\n",
            "2025-05-01 06:12:35,043 epoch 8 - iter 50/53 - loss 0.00002535 - time (sec): 10.02 - samples/sec: 79.85 - lr: 0.038200 - momentum: 0.000000\n",
            "2025-05-01 06:12:35,604 ----------------------------------------------------------------------------------------------------\n",
            "2025-05-01 06:12:35,605 EPOCH 8 done: loss 0.0000 - lr: 0.038200\n"
          ]
        },
        {
          "output_type": "stream",
          "name": "stderr",
          "text": [
            "100%|██████████| 2/2 [00:00<00:00,  3.96it/s]"
          ]
        },
        {
          "output_type": "stream",
          "name": "stdout",
          "text": [
            "2025-05-01 06:12:36,134 DEV : loss 3.7548415660858154 - f1-score (micro avg)  0.6286\n",
            "2025-05-01 06:12:36,158  - 3 epochs without improvement\n",
            "2025-05-01 06:12:36,159 ----------------------------------------------------------------------------------------------------\n"
          ]
        },
        {
          "output_type": "stream",
          "name": "stderr",
          "text": [
            "\n"
          ]
        },
        {
          "output_type": "stream",
          "name": "stdout",
          "text": [
            "2025-05-01 06:12:37,014 epoch 9 - iter 5/53 - loss 0.00000903 - time (sec): 0.85 - samples/sec: 93.93 - lr: 0.038200 - momentum: 0.000000\n",
            "2025-05-01 06:12:38,023 epoch 9 - iter 10/53 - loss 0.00008181 - time (sec): 1.86 - samples/sec: 85.97 - lr: 0.038200 - momentum: 0.000000\n",
            "2025-05-01 06:12:38,952 epoch 9 - iter 15/53 - loss 0.00011920 - time (sec): 2.79 - samples/sec: 86.01 - lr: 0.038200 - momentum: 0.000000\n",
            "2025-05-01 06:12:39,850 epoch 9 - iter 20/53 - loss 0.00009488 - time (sec): 3.69 - samples/sec: 86.76 - lr: 0.038200 - momentum: 0.000000\n",
            "2025-05-01 06:12:40,766 epoch 9 - iter 25/53 - loss 0.00007770 - time (sec): 4.60 - samples/sec: 86.89 - lr: 0.038200 - momentum: 0.000000\n",
            "2025-05-01 06:12:41,720 epoch 9 - iter 30/53 - loss 0.00006606 - time (sec): 5.56 - samples/sec: 86.36 - lr: 0.038200 - momentum: 0.000000\n",
            "2025-05-01 06:12:42,832 epoch 9 - iter 35/53 - loss 0.00005726 - time (sec): 6.67 - samples/sec: 83.96 - lr: 0.038200 - momentum: 0.000000\n",
            "2025-05-01 06:12:43,938 epoch 9 - iter 40/53 - loss 0.00005101 - time (sec): 7.78 - samples/sec: 82.31 - lr: 0.038200 - momentum: 0.000000\n",
            "2025-05-01 06:12:45,063 epoch 9 - iter 45/53 - loss 0.00004671 - time (sec): 8.90 - samples/sec: 80.89 - lr: 0.038200 - momentum: 0.000000\n",
            "2025-05-01 06:12:46,109 epoch 9 - iter 50/53 - loss 0.00004319 - time (sec): 9.95 - samples/sec: 80.43 - lr: 0.038200 - momentum: 0.000000\n",
            "2025-05-01 06:12:46,635 ----------------------------------------------------------------------------------------------------\n",
            "2025-05-01 06:12:46,636 EPOCH 9 done: loss 0.0000 - lr: 0.038200\n"
          ]
        },
        {
          "output_type": "stream",
          "name": "stderr",
          "text": [
            "100%|██████████| 2/2 [00:00<00:00,  3.74it/s]"
          ]
        },
        {
          "output_type": "stream",
          "name": "stdout",
          "text": [
            "2025-05-01 06:12:47,192 DEV : loss 3.640953540802002 - f1-score (micro avg)  0.6381\n",
            "2025-05-01 06:12:47,216  - 4 epochs without improvement (above 'patience')-> annealing learning_rate to [0.0191]\n",
            "2025-05-01 06:12:47,218 ----------------------------------------------------------------------------------------------------\n"
          ]
        },
        {
          "output_type": "stream",
          "name": "stderr",
          "text": [
            "\n"
          ]
        },
        {
          "output_type": "stream",
          "name": "stdout",
          "text": [
            "2025-05-01 06:12:48,038 epoch 10 - iter 5/53 - loss 0.00000733 - time (sec): 0.82 - samples/sec: 97.80 - lr: 0.019100 - momentum: 0.000000\n",
            "2025-05-01 06:12:49,000 epoch 10 - iter 10/53 - loss 0.00000817 - time (sec): 1.78 - samples/sec: 89.91 - lr: 0.019100 - momentum: 0.000000\n",
            "2025-05-01 06:12:50,079 epoch 10 - iter 15/53 - loss 0.00000877 - time (sec): 2.86 - samples/sec: 83.94 - lr: 0.019100 - momentum: 0.000000\n",
            "2025-05-01 06:12:51,124 epoch 10 - iter 20/53 - loss 0.00004102 - time (sec): 3.90 - samples/sec: 81.97 - lr: 0.019100 - momentum: 0.000000\n",
            "2025-05-01 06:12:52,175 epoch 10 - iter 25/53 - loss 0.00015006 - time (sec): 4.95 - samples/sec: 80.73 - lr: 0.019100 - momentum: 0.000000\n",
            "2025-05-01 06:12:53,079 epoch 10 - iter 30/53 - loss 0.00012593 - time (sec): 5.86 - samples/sec: 81.93 - lr: 0.019100 - momentum: 0.000000\n",
            "2025-05-01 06:12:54,026 epoch 10 - iter 35/53 - loss 0.00010913 - time (sec): 6.81 - samples/sec: 82.29 - lr: 0.019100 - momentum: 0.000000\n",
            "2025-05-01 06:12:55,133 epoch 10 - iter 40/53 - loss 0.00009728 - time (sec): 7.91 - samples/sec: 80.89 - lr: 0.019100 - momentum: 0.000000\n",
            "2025-05-01 06:12:56,143 epoch 10 - iter 45/53 - loss 0.00008788 - time (sec): 8.92 - samples/sec: 80.69 - lr: 0.019100 - momentum: 0.000000\n",
            "2025-05-01 06:12:57,182 epoch 10 - iter 50/53 - loss 0.00007971 - time (sec): 9.96 - samples/sec: 80.31 - lr: 0.019100 - momentum: 0.000000\n",
            "2025-05-01 06:12:57,692 ----------------------------------------------------------------------------------------------------\n",
            "2025-05-01 06:12:57,692 EPOCH 10 done: loss 0.0001 - lr: 0.019100\n"
          ]
        },
        {
          "output_type": "stream",
          "name": "stderr",
          "text": [
            "100%|██████████| 2/2 [00:00<00:00,  3.96it/s]"
          ]
        },
        {
          "output_type": "stream",
          "name": "stdout",
          "text": [
            "2025-05-01 06:12:58,227 DEV : loss 3.6435701847076416 - f1-score (micro avg)  0.6286\n",
            "2025-05-01 06:12:58,251  - 1 epochs without improvement\n",
            "2025-05-01 06:12:58,252 ----------------------------------------------------------------------------------------------------\n"
          ]
        },
        {
          "output_type": "stream",
          "name": "stderr",
          "text": [
            "\n"
          ]
        },
        {
          "output_type": "stream",
          "name": "stdout",
          "text": [
            "2025-05-01 06:12:59,069 epoch 11 - iter 5/53 - loss 0.00000417 - time (sec): 0.81 - samples/sec: 98.22 - lr: 0.019100 - momentum: 0.000000\n",
            "2025-05-01 06:13:00,102 epoch 11 - iter 10/53 - loss 0.00499477 - time (sec): 1.85 - samples/sec: 86.60 - lr: 0.019100 - momentum: 0.000000\n",
            "2025-05-01 06:13:01,145 epoch 11 - iter 15/53 - loss 0.00333794 - time (sec): 2.89 - samples/sec: 83.05 - lr: 0.019100 - momentum: 0.000000\n",
            "2025-05-01 06:13:02,056 epoch 11 - iter 20/53 - loss 0.00250992 - time (sec): 3.80 - samples/sec: 84.18 - lr: 0.019100 - momentum: 0.000000\n",
            "2025-05-01 06:13:03,115 epoch 11 - iter 25/53 - loss 0.00201372 - time (sec): 4.86 - samples/sec: 82.30 - lr: 0.019100 - momentum: 0.000000\n",
            "2025-05-01 06:13:04,285 epoch 11 - iter 30/53 - loss 0.00167938 - time (sec): 6.03 - samples/sec: 79.60 - lr: 0.019100 - momentum: 0.000000\n",
            "2025-05-01 06:13:05,270 epoch 11 - iter 35/53 - loss 0.00144104 - time (sec): 7.01 - samples/sec: 79.83 - lr: 0.019100 - momentum: 0.000000\n",
            "2025-05-01 06:13:06,184 epoch 11 - iter 40/53 - loss 0.00126162 - time (sec): 7.93 - samples/sec: 80.71 - lr: 0.019100 - momentum: 0.000000\n",
            "2025-05-01 06:13:07,168 epoch 11 - iter 45/53 - loss 0.00113066 - time (sec): 8.91 - samples/sec: 80.78 - lr: 0.019100 - momentum: 0.000000\n",
            "2025-05-01 06:13:08,317 epoch 11 - iter 50/53 - loss 0.00101825 - time (sec): 10.06 - samples/sec: 79.50 - lr: 0.019100 - momentum: 0.000000\n",
            "2025-05-01 06:13:08,911 ----------------------------------------------------------------------------------------------------\n",
            "2025-05-01 06:13:08,912 EPOCH 11 done: loss 0.0010 - lr: 0.019100\n"
          ]
        },
        {
          "output_type": "stream",
          "name": "stderr",
          "text": [
            "100%|██████████| 2/2 [00:00<00:00,  3.93it/s]"
          ]
        },
        {
          "output_type": "stream",
          "name": "stdout",
          "text": [
            "2025-05-01 06:13:09,441 DEV : loss 3.705130100250244 - f1-score (micro avg)  0.619\n",
            "2025-05-01 06:13:09,463  - 2 epochs without improvement\n",
            "2025-05-01 06:13:09,464 ----------------------------------------------------------------------------------------------------\n"
          ]
        },
        {
          "output_type": "stream",
          "name": "stderr",
          "text": [
            "\n"
          ]
        },
        {
          "output_type": "stream",
          "name": "stdout",
          "text": [
            "2025-05-01 06:13:10,443 epoch 12 - iter 5/53 - loss 0.00000569 - time (sec): 0.98 - samples/sec: 81.99 - lr: 0.019100 - momentum: 0.000000\n",
            "2025-05-01 06:13:11,298 epoch 12 - iter 10/53 - loss 0.00000993 - time (sec): 1.83 - samples/sec: 87.35 - lr: 0.019100 - momentum: 0.000000\n",
            "2025-05-01 06:13:12,420 epoch 12 - iter 15/53 - loss 0.00000843 - time (sec): 2.95 - samples/sec: 81.27 - lr: 0.019100 - momentum: 0.000000\n",
            "2025-05-01 06:13:13,465 epoch 12 - iter 20/53 - loss 0.00000770 - time (sec): 4.00 - samples/sec: 80.04 - lr: 0.019100 - momentum: 0.000000\n",
            "2025-05-01 06:13:14,538 epoch 12 - iter 25/53 - loss 0.00000848 - time (sec): 5.07 - samples/sec: 78.88 - lr: 0.019100 - momentum: 0.000000\n",
            "2025-05-01 06:13:15,374 epoch 12 - iter 30/53 - loss 0.00000948 - time (sec): 5.91 - samples/sec: 81.26 - lr: 0.019100 - momentum: 0.000000\n",
            "2025-05-01 06:13:16,239 epoch 12 - iter 35/53 - loss 0.00008272 - time (sec): 6.77 - samples/sec: 82.69 - lr: 0.019100 - momentum: 0.000000\n",
            "2025-05-01 06:13:17,326 epoch 12 - iter 40/53 - loss 0.00007430 - time (sec): 7.86 - samples/sec: 81.44 - lr: 0.019100 - momentum: 0.000000\n",
            "2025-05-01 06:13:18,344 epoch 12 - iter 45/53 - loss 0.00006679 - time (sec): 8.88 - samples/sec: 81.10 - lr: 0.019100 - momentum: 0.000000\n",
            "2025-05-01 06:13:19,409 epoch 12 - iter 50/53 - loss 0.00006062 - time (sec): 9.94 - samples/sec: 80.46 - lr: 0.019100 - momentum: 0.000000\n",
            "2025-05-01 06:13:19,980 ----------------------------------------------------------------------------------------------------\n",
            "2025-05-01 06:13:19,981 EPOCH 12 done: loss 0.0001 - lr: 0.019100\n"
          ]
        },
        {
          "output_type": "stream",
          "name": "stderr",
          "text": [
            "100%|██████████| 2/2 [00:00<00:00,  3.93it/s]"
          ]
        },
        {
          "output_type": "stream",
          "name": "stdout",
          "text": [
            "2025-05-01 06:13:20,513 DEV : loss 3.6525683403015137 - f1-score (micro avg)  0.6476\n",
            "2025-05-01 06:13:20,537  - 3 epochs without improvement\n",
            "2025-05-01 06:13:20,538 ----------------------------------------------------------------------------------------------------\n"
          ]
        },
        {
          "output_type": "stream",
          "name": "stderr",
          "text": [
            "\n"
          ]
        },
        {
          "output_type": "stream",
          "name": "stdout",
          "text": [
            "2025-05-01 06:13:21,387 epoch 13 - iter 5/53 - loss 0.00000656 - time (sec): 0.85 - samples/sec: 94.53 - lr: 0.019100 - momentum: 0.000000\n",
            "2025-05-01 06:13:22,472 epoch 13 - iter 10/53 - loss 0.00000542 - time (sec): 1.93 - samples/sec: 82.84 - lr: 0.019100 - momentum: 0.000000\n",
            "2025-05-01 06:13:23,379 epoch 13 - iter 15/53 - loss 0.00000807 - time (sec): 2.84 - samples/sec: 84.57 - lr: 0.019100 - momentum: 0.000000\n",
            "2025-05-01 06:13:24,395 epoch 13 - iter 20/53 - loss 0.00000694 - time (sec): 3.85 - samples/sec: 83.03 - lr: 0.019100 - momentum: 0.000000\n",
            "2025-05-01 06:13:25,367 epoch 13 - iter 25/53 - loss 0.00000656 - time (sec): 4.83 - samples/sec: 82.88 - lr: 0.019100 - momentum: 0.000000\n",
            "2025-05-01 06:13:26,490 epoch 13 - iter 30/53 - loss 0.00000670 - time (sec): 5.95 - samples/sec: 80.69 - lr: 0.019100 - momentum: 0.000000\n",
            "2025-05-01 06:13:27,543 epoch 13 - iter 35/53 - loss 0.00000669 - time (sec): 7.00 - samples/sec: 79.97 - lr: 0.019100 - momentum: 0.000000\n",
            "2025-05-01 06:13:28,532 epoch 13 - iter 40/53 - loss 0.00000658 - time (sec): 7.99 - samples/sec: 80.08 - lr: 0.019100 - momentum: 0.000000\n",
            "2025-05-01 06:13:29,596 epoch 13 - iter 45/53 - loss 0.00000680 - time (sec): 9.06 - samples/sec: 79.51 - lr: 0.019100 - momentum: 0.000000\n",
            "2025-05-01 06:13:30,587 epoch 13 - iter 50/53 - loss 0.00000704 - time (sec): 10.05 - samples/sec: 79.63 - lr: 0.019100 - momentum: 0.000000\n",
            "2025-05-01 06:13:31,123 ----------------------------------------------------------------------------------------------------\n",
            "2025-05-01 06:13:31,125 EPOCH 13 done: loss 0.0000 - lr: 0.019100\n"
          ]
        },
        {
          "output_type": "stream",
          "name": "stderr",
          "text": [
            "100%|██████████| 2/2 [00:00<00:00,  3.76it/s]"
          ]
        },
        {
          "output_type": "stream",
          "name": "stdout",
          "text": [
            "2025-05-01 06:13:31,678 DEV : loss 3.669687509536743 - f1-score (micro avg)  0.6381\n",
            "2025-05-01 06:13:31,702  - 4 epochs without improvement (above 'patience')-> annealing learning_rate to [0.00955]\n",
            "2025-05-01 06:13:31,703 ----------------------------------------------------------------------------------------------------\n"
          ]
        },
        {
          "output_type": "stream",
          "name": "stderr",
          "text": [
            "\n"
          ]
        },
        {
          "output_type": "stream",
          "name": "stdout",
          "text": [
            "2025-05-01 06:13:32,639 epoch 14 - iter 5/53 - loss 0.00000459 - time (sec): 0.93 - samples/sec: 85.71 - lr: 0.009550 - momentum: 0.000000\n",
            "2025-05-01 06:13:33,558 epoch 14 - iter 10/53 - loss 0.00000561 - time (sec): 1.85 - samples/sec: 86.38 - lr: 0.009550 - momentum: 0.000000\n",
            "2025-05-01 06:13:34,548 epoch 14 - iter 15/53 - loss 0.00000614 - time (sec): 2.84 - samples/sec: 84.44 - lr: 0.009550 - momentum: 0.000000\n",
            "2025-05-01 06:13:35,678 epoch 14 - iter 20/53 - loss 0.00000581 - time (sec): 3.97 - samples/sec: 80.57 - lr: 0.009550 - momentum: 0.000000\n",
            "2025-05-01 06:13:36,585 epoch 14 - iter 25/53 - loss 0.00000559 - time (sec): 4.88 - samples/sec: 81.98 - lr: 0.009550 - momentum: 0.000000\n",
            "2025-05-01 06:13:37,580 epoch 14 - iter 30/53 - loss 0.00000569 - time (sec): 5.87 - samples/sec: 81.71 - lr: 0.009550 - momentum: 0.000000\n",
            "2025-05-01 06:13:38,626 epoch 14 - iter 35/53 - loss 0.00000741 - time (sec): 6.92 - samples/sec: 80.93 - lr: 0.009550 - momentum: 0.000000\n",
            "2025-05-01 06:13:39,599 epoch 14 - iter 40/53 - loss 0.00000733 - time (sec): 7.89 - samples/sec: 81.08 - lr: 0.009550 - momentum: 0.000000\n",
            "2025-05-01 06:13:40,626 epoch 14 - iter 45/53 - loss 0.00000709 - time (sec): 8.92 - samples/sec: 80.72 - lr: 0.009550 - momentum: 0.000000\n",
            "2025-05-01 06:13:41,581 epoch 14 - iter 50/53 - loss 0.00000696 - time (sec): 9.88 - samples/sec: 81.01 - lr: 0.009550 - momentum: 0.000000\n",
            "2025-05-01 06:13:42,222 ----------------------------------------------------------------------------------------------------\n",
            "2025-05-01 06:13:42,226 EPOCH 14 done: loss 0.0000 - lr: 0.009550\n"
          ]
        },
        {
          "output_type": "stream",
          "name": "stderr",
          "text": [
            "100%|██████████| 2/2 [00:00<00:00,  3.76it/s]"
          ]
        },
        {
          "output_type": "stream",
          "name": "stdout",
          "text": [
            "2025-05-01 06:13:42,794 DEV : loss 3.6637537479400635 - f1-score (micro avg)  0.6381\n",
            "2025-05-01 06:13:42,838  - 1 epochs without improvement\n",
            "2025-05-01 06:13:42,840 ----------------------------------------------------------------------------------------------------\n"
          ]
        },
        {
          "output_type": "stream",
          "name": "stderr",
          "text": [
            "\n"
          ]
        },
        {
          "output_type": "stream",
          "name": "stdout",
          "text": [
            "2025-05-01 06:13:43,718 epoch 15 - iter 5/53 - loss 0.00000451 - time (sec): 0.87 - samples/sec: 91.62 - lr: 0.009550 - momentum: 0.000000\n",
            "2025-05-01 06:13:44,720 epoch 15 - iter 10/53 - loss 0.00000741 - time (sec): 1.88 - samples/sec: 85.33 - lr: 0.009550 - momentum: 0.000000\n",
            "2025-05-01 06:13:45,691 epoch 15 - iter 15/53 - loss 0.00159446 - time (sec): 2.85 - samples/sec: 84.32 - lr: 0.009550 - momentum: 0.000000\n",
            "2025-05-01 06:13:46,580 epoch 15 - iter 20/53 - loss 0.00119683 - time (sec): 3.74 - samples/sec: 85.67 - lr: 0.009550 - momentum: 0.000000\n",
            "2025-05-01 06:13:47,599 epoch 15 - iter 25/53 - loss 0.00095810 - time (sec): 4.76 - samples/sec: 84.12 - lr: 0.009550 - momentum: 0.000000\n",
            "2025-05-01 06:13:48,590 epoch 15 - iter 30/53 - loss 0.00079898 - time (sec): 5.75 - samples/sec: 83.55 - lr: 0.009550 - momentum: 0.000000\n",
            "2025-05-01 06:13:49,695 epoch 15 - iter 35/53 - loss 0.00068760 - time (sec): 6.85 - samples/sec: 81.75 - lr: 0.009550 - momentum: 0.000000\n",
            "2025-05-01 06:13:50,718 epoch 15 - iter 40/53 - loss 0.00060411 - time (sec): 7.87 - samples/sec: 81.29 - lr: 0.009550 - momentum: 0.000000\n",
            "2025-05-01 06:13:51,834 epoch 15 - iter 45/53 - loss 0.00053751 - time (sec): 8.99 - samples/sec: 80.09 - lr: 0.009550 - momentum: 0.000000\n",
            "2025-05-01 06:13:52,717 epoch 15 - iter 50/53 - loss 0.00048644 - time (sec): 9.87 - samples/sec: 81.03 - lr: 0.009550 - momentum: 0.000000\n",
            "2025-05-01 06:13:53,272 ----------------------------------------------------------------------------------------------------\n",
            "2025-05-01 06:13:53,273 EPOCH 15 done: loss 0.0005 - lr: 0.009550\n"
          ]
        },
        {
          "output_type": "stream",
          "name": "stderr",
          "text": [
            "100%|██████████| 2/2 [00:00<00:00,  3.92it/s]"
          ]
        },
        {
          "output_type": "stream",
          "name": "stdout",
          "text": [
            "2025-05-01 06:13:53,805 DEV : loss 3.6564745903015137 - f1-score (micro avg)  0.6476\n",
            "2025-05-01 06:13:53,830  - 2 epochs without improvement\n",
            "2025-05-01 06:13:53,831 ----------------------------------------------------------------------------------------------------\n"
          ]
        },
        {
          "output_type": "stream",
          "name": "stderr",
          "text": [
            "\n"
          ]
        },
        {
          "output_type": "stream",
          "name": "stdout",
          "text": [
            "2025-05-01 06:13:54,809 epoch 16 - iter 5/53 - loss 0.00000438 - time (sec): 0.98 - samples/sec: 82.05 - lr: 0.009550 - momentum: 0.000000\n",
            "2025-05-01 06:13:55,937 epoch 16 - iter 10/53 - loss 0.00000424 - time (sec): 2.10 - samples/sec: 76.10 - lr: 0.009550 - momentum: 0.000000\n",
            "2025-05-01 06:13:56,900 epoch 16 - iter 15/53 - loss 0.00000472 - time (sec): 3.07 - samples/sec: 78.28 - lr: 0.009550 - momentum: 0.000000\n",
            "2025-05-01 06:13:57,781 epoch 16 - iter 20/53 - loss 0.00000647 - time (sec): 3.95 - samples/sec: 81.07 - lr: 0.009550 - momentum: 0.000000\n",
            "2025-05-01 06:13:58,804 epoch 16 - iter 25/53 - loss 0.00000680 - time (sec): 4.97 - samples/sec: 80.49 - lr: 0.009550 - momentum: 0.000000\n",
            "2025-05-01 06:13:59,773 epoch 16 - iter 30/53 - loss 0.00000737 - time (sec): 5.94 - samples/sec: 80.82 - lr: 0.009550 - momentum: 0.000000\n",
            "2025-05-01 06:14:00,755 epoch 16 - iter 35/53 - loss 0.00000724 - time (sec): 6.92 - samples/sec: 80.92 - lr: 0.009550 - momentum: 0.000000\n",
            "2025-05-01 06:14:01,775 epoch 16 - iter 40/53 - loss 0.00000693 - time (sec): 7.94 - samples/sec: 80.60 - lr: 0.009550 - momentum: 0.000000\n",
            "2025-05-01 06:14:02,758 epoch 16 - iter 45/53 - loss 0.00000675 - time (sec): 8.92 - samples/sec: 80.69 - lr: 0.009550 - momentum: 0.000000\n",
            "2025-05-01 06:14:03,669 epoch 16 - iter 50/53 - loss 0.00000668 - time (sec): 9.83 - samples/sec: 81.34 - lr: 0.009550 - momentum: 0.000000\n",
            "2025-05-01 06:14:04,226 ----------------------------------------------------------------------------------------------------\n",
            "2025-05-01 06:14:04,227 EPOCH 16 done: loss 0.0000 - lr: 0.009550\n"
          ]
        },
        {
          "output_type": "stream",
          "name": "stderr",
          "text": [
            "100%|██████████| 2/2 [00:00<00:00,  3.99it/s]"
          ]
        },
        {
          "output_type": "stream",
          "name": "stdout",
          "text": [
            "2025-05-01 06:14:04,751 DEV : loss 3.6545348167419434 - f1-score (micro avg)  0.6476\n",
            "2025-05-01 06:14:04,791  - 3 epochs without improvement\n",
            "2025-05-01 06:14:04,792 ----------------------------------------------------------------------------------------------------\n"
          ]
        },
        {
          "output_type": "stream",
          "name": "stderr",
          "text": [
            "\n"
          ]
        },
        {
          "output_type": "stream",
          "name": "stdout",
          "text": [
            "2025-05-01 06:14:05,721 epoch 17 - iter 5/53 - loss 0.00000839 - time (sec): 0.93 - samples/sec: 86.29 - lr: 0.009550 - momentum: 0.000000\n",
            "2025-05-01 06:14:06,787 epoch 17 - iter 10/53 - loss 0.00000596 - time (sec): 1.99 - samples/sec: 80.29 - lr: 0.009550 - momentum: 0.000000\n",
            "2025-05-01 06:14:07,909 epoch 17 - iter 15/53 - loss 0.00000831 - time (sec): 3.11 - samples/sec: 77.06 - lr: 0.009550 - momentum: 0.000000\n",
            "2025-05-01 06:14:08,939 epoch 17 - iter 20/53 - loss 0.00026356 - time (sec): 4.15 - samples/sec: 77.20 - lr: 0.009550 - momentum: 0.000000\n",
            "2025-05-01 06:14:09,894 epoch 17 - iter 25/53 - loss 0.00021166 - time (sec): 5.10 - samples/sec: 78.44 - lr: 0.009550 - momentum: 0.000000\n",
            "2025-05-01 06:14:10,824 epoch 17 - iter 30/53 - loss 0.00017747 - time (sec): 6.03 - samples/sec: 79.60 - lr: 0.009550 - momentum: 0.000000\n",
            "2025-05-01 06:14:11,764 epoch 17 - iter 35/53 - loss 0.00015265 - time (sec): 6.97 - samples/sec: 80.34 - lr: 0.009550 - momentum: 0.000000\n",
            "2025-05-01 06:14:12,832 epoch 17 - iter 40/53 - loss 0.00013399 - time (sec): 8.04 - samples/sec: 79.62 - lr: 0.009550 - momentum: 0.000000\n",
            "2025-05-01 06:14:13,922 epoch 17 - iter 45/53 - loss 0.00011982 - time (sec): 9.13 - samples/sec: 78.88 - lr: 0.009550 - momentum: 0.000000\n",
            "2025-05-01 06:14:14,941 epoch 17 - iter 50/53 - loss 0.00011021 - time (sec): 10.15 - samples/sec: 78.84 - lr: 0.009550 - momentum: 0.000000\n",
            "2025-05-01 06:14:15,508 ----------------------------------------------------------------------------------------------------\n",
            "2025-05-01 06:14:15,508 EPOCH 17 done: loss 0.0001 - lr: 0.009550\n"
          ]
        },
        {
          "output_type": "stream",
          "name": "stderr",
          "text": [
            "100%|██████████| 2/2 [00:00<00:00,  3.97it/s]\n"
          ]
        },
        {
          "output_type": "stream",
          "name": "stdout",
          "text": [
            "2025-05-01 06:14:16,037 DEV : loss 3.633474826812744 - f1-score (micro avg)  0.6381\n",
            "2025-05-01 06:14:16,062  - 4 epochs without improvement (above 'patience')-> annealing learning_rate to [0.004775]\n",
            "2025-05-01 06:14:16,063 ----------------------------------------------------------------------------------------------------\n",
            "2025-05-01 06:14:16,928 epoch 18 - iter 5/53 - loss 0.00000309 - time (sec): 0.86 - samples/sec: 92.96 - lr: 0.004775 - momentum: 0.000000\n",
            "2025-05-01 06:14:17,746 epoch 18 - iter 10/53 - loss 0.00000342 - time (sec): 1.68 - samples/sec: 95.33 - lr: 0.004775 - momentum: 0.000000\n",
            "2025-05-01 06:14:18,644 epoch 18 - iter 15/53 - loss 0.00000433 - time (sec): 2.58 - samples/sec: 93.14 - lr: 0.004775 - momentum: 0.000000\n",
            "2025-05-01 06:14:19,462 epoch 18 - iter 20/53 - loss 0.00000440 - time (sec): 3.40 - samples/sec: 94.26 - lr: 0.004775 - momentum: 0.000000\n",
            "2025-05-01 06:14:20,619 epoch 18 - iter 25/53 - loss 0.00000496 - time (sec): 4.55 - samples/sec: 87.88 - lr: 0.004775 - momentum: 0.000000\n",
            "2025-05-01 06:14:21,745 epoch 18 - iter 30/53 - loss 0.00000489 - time (sec): 5.68 - samples/sec: 84.54 - lr: 0.004775 - momentum: 0.000000\n",
            "2025-05-01 06:14:22,767 epoch 18 - iter 35/53 - loss 0.00000520 - time (sec): 6.70 - samples/sec: 83.59 - lr: 0.004775 - momentum: 0.000000\n",
            "2025-05-01 06:14:23,820 epoch 18 - iter 40/53 - loss 0.00000533 - time (sec): 7.75 - samples/sec: 82.56 - lr: 0.004775 - momentum: 0.000000\n",
            "2025-05-01 06:14:24,773 epoch 18 - iter 45/53 - loss 0.00000516 - time (sec): 8.71 - samples/sec: 82.71 - lr: 0.004775 - momentum: 0.000000\n",
            "2025-05-01 06:14:25,895 epoch 18 - iter 50/53 - loss 0.00000549 - time (sec): 9.83 - samples/sec: 81.41 - lr: 0.004775 - momentum: 0.000000\n",
            "2025-05-01 06:14:26,542 ----------------------------------------------------------------------------------------------------\n",
            "2025-05-01 06:14:26,543 EPOCH 18 done: loss 0.0000 - lr: 0.004775\n"
          ]
        },
        {
          "output_type": "stream",
          "name": "stderr",
          "text": [
            "100%|██████████| 2/2 [00:01<00:00,  1.85it/s]"
          ]
        },
        {
          "output_type": "stream",
          "name": "stdout",
          "text": [
            "2025-05-01 06:14:27,644 DEV : loss 3.6342153549194336 - f1-score (micro avg)  0.6381\n",
            "2025-05-01 06:14:27,665  - 1 epochs without improvement\n"
          ]
        },
        {
          "output_type": "stream",
          "name": "stderr",
          "text": [
            "\n"
          ]
        },
        {
          "output_type": "stream",
          "name": "stdout",
          "text": [
            "2025-05-01 06:14:30,489 ----------------------------------------------------------------------------------------------------\n",
            "2025-05-01 06:14:30,494 Loading model from best epoch ...\n"
          ]
        },
        {
          "output_type": "stream",
          "name": "stderr",
          "text": [
            "100%|██████████| 2/2 [00:00<00:00,  3.40it/s]"
          ]
        },
        {
          "output_type": "stream",
          "name": "stdout",
          "text": [
            "2025-05-01 06:14:33,301 \n",
            "Results:\n",
            "- F-score (micro) 0.6857\n",
            "- F-score (macro) 0.5175\n",
            "- Accuracy 0.6857\n",
            "\n",
            "By class:\n",
            "              precision    recall  f1-score   support\n",
            "\n",
            "          교량     0.6875    0.8148    0.7458        27\n",
            "          공통     0.6897    0.8000    0.7407        25\n",
            "       가설구조물     0.8571    0.7500    0.8000        24\n",
            "        굴착공사     0.5385    0.6364    0.5833        11\n",
            "          건축     0.6000    0.2500    0.3529        12\n",
            "        양중작업     0.5000    0.3333    0.4000         6\n",
            "                 0.0000    0.0000    0.0000         0\n",
            "\n",
            "    accuracy                         0.6857       105\n",
            "   macro avg     0.5533    0.5121    0.5175       105\n",
            "weighted avg     0.6905    0.6857    0.6753       105\n",
            "\n",
            "2025-05-01 06:14:33,301 ----------------------------------------------------------------------------------------------------\n",
            "레이블 분포: {'공통': 25, '가설구조물': 24, '교량': 27, '굴착공사': 11, '건축': 12, '양중작업': 6}\n"
          ]
        },
        {
          "output_type": "stream",
          "name": "stderr",
          "text": [
            "\n"
          ]
        }
      ]
    },
    {
      "cell_type": "markdown",
      "source": [
        "학습 단계:\n",
        "\n",
        "- 코퍼스에 있는 텍스트 데이터들을 document_embeddings를 통해 벡터화합니다.\n",
        "- 각 벡터와 해당 텍스트의 라벨('label'로 시작하는) 간의 관계를 학습합니다.\n",
        "- 이 과정에서 각 클래스(라벨)에 해당하는 벡터 공간의 특성을 파악합니다.\n",
        "\n",
        "\n",
        "예측 단계:\n",
        "\n",
        "- 새로운 텍스트가 입력되면, 같은 document_embeddings를 사용해 벡터로 변환합니다.\n",
        "- 이 벡터가 학습 데이터의 어떤 클래스 벡터들과 가장 유사한지 계산합니다.\n",
        "- 가장 유사도가 높은 클래스를 예측 결과로 출력합니다.\n",
        "\n",
        "\n",
        "\n",
        "이는 마치 벡터 공간에서 각 클래스별로 데이터 포인트들이 모여있는 영역(클러스터)이 형성되고, 새로운 데이터가 어떤 클러스터에 가장 가까운지를 판단하는 것과 유사합니다. 라벨 사전(label_dictionary)은 이 클래스들의 정보를 관리하는 역할을 합니다."
      ],
      "metadata": {
        "id": "8_nx312R2Z5O"
      }
    },
    {
      "cell_type": "markdown",
      "source": [
        "--------------------------------------\n",
        "\n",
        "학습률(learning_rate=0.02):\n",
        "\n",
        "- 모델이 학습 과정에서 가중치를 업데이트하는 스텝 크기를 결정합니다.\n",
        "  값이 크면 학습이 빠르게 진행되지만 최적점을 지나칠 수 있고, 작으면 학습이 느리지만 더 정확한 최적점에 도달할 가능성이 높아집니다.\n",
        "\n",
        "\n",
        "\n",
        "배치 크기(mini_batch_size=16):\n",
        "\n",
        "- 한 번에 처리되는 학습 데이터 샘플의 수입니다.\n",
        "메모리 사용량과 학습 안정성 사이의 균형을 맞추는 중요한 요소입니다.\n",
        "\n",
        "\n",
        "\n",
        "최대 에폭 수(max_epochs=10):\n",
        "\n",
        "- 전체 학습 데이터셋을 몇 번 반복해서 학습할지 결정합니다.\n",
        "너무 적으면 학습이 부족할 수 있고, 너무 많으면 과적합이 발생할 수 있습니다.\n",
        "\n",
        "\n",
        "\n",
        "이 매개변수들이 달라지면 모델 성능에 다음과 같은 영향을 미칩니다:\n",
        "\n",
        "- 학습률 변경 시: 너무 높으면 학습이 불안정해지고, 너무 낮으면 학습이 매우 느리거나 지역 최적점에 갇힐 수 있습니다.\n",
        "- 배치 크기 변경 시: 큰 배치는 더 안정적인 그래디언트를 제공하지만 메모리를 많이 사용하고 일반화 성능이 떨어질 수 있습니다. 작은 배치는 노이즈가 있지만 종종 더 나은 일반화를 제공합니다.\n",
        "- 에폭 수 변경 시: 에폭이 너무 적으면 과소적합, 너무 많으면 과적합이 발생할 수 있습니다.\n",
        "\n",
        "이러한 매개변수들은 모델의 학습 과정과 최종 성능에 직접적인 영향을 미치므로, 일반적으로 하이퍼파라미터 튜닝 과정을 통해 최적값을 찾는 것이 중요합니다."
      ],
      "metadata": {
        "id": "WGbZPiMeL6W-"
      }
    },
    {
      "cell_type": "markdown",
      "source": [
        "![learning-rate-visualization.svg](data:image/svg+xml;base64,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)"
      ],
      "metadata": {
        "id": "Dz11lKcZMti4"
      }
    },
    {
      "cell_type": "markdown",
      "source": [
        "![correct-epochs-error-graph.svg](data:image/svg+xml;base64,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)"
      ],
      "metadata": {
        "id": "gHHGWk9HPSF5"
      }
    },
    {
      "cell_type": "markdown",
      "source": [
        "가중치의 의미:\n",
        "\n",
        "- 머신러닝 모델에서 가중치는 입력 데이터의 각 특성(feature)이 최종 출력에 얼마나 영향을 미치는지 결정하는 값입니다.\n",
        "예를 들어 신경망에서는 뉴런 간의 연결 강도를 나타냅니다.\n",
        "\n",
        "\n",
        "가중치 업데이트 과정:\n",
        "\n",
        "- 초기에는 가중치가 랜덤한 값으로 설정됩니다.\n",
        "모델이 훈련 데이터로 예측을 수행하고, 실제 값과 예측 값의 차이(오차)를 계산합니다.\n",
        "이 오차를 최소화하는 방향으로 가중치를 조정합니다.\n",
        "이 과정을 반복하며 모델이 점점 더 정확한 예측을 할 수 있도록 합니다.\n",
        "\n",
        "\n",
        "업데이트 수식:\n",
        "\n",
        "- 가장 기본적인 형태: 새 가중치 = 기존 가중치 - (학습률 × 오차에 대한 가중치의 영향도)\n",
        "여기서 '오차에 대한 가중치의 영향도'는 경사(gradient)로 계산됩니다.\n",
        "학습률(learning rate)은 한 번에 가중치를 얼마나 크게 조정할지 결정합니다.\n",
        "\n",
        "\n",
        "에폭과의 관계:\n",
        "\n",
        "- 한 에폭은 전체 훈련 데이터를 한 번 순회하는 것을 의미합니다.\n",
        "각 에폭에서 모델은 훈련 데이터를 보고 가중치를 여러 번 업데이트합니다.\n",
        "에폭을 반복할수록 모델의 가중치는 최적값에 가까워지게 됩니다.\n",
        "\n",
        "\n",
        "\n",
        "이 가중치 업데이트 과정이 바로 머신러닝에서 말하는 '학습'의 본질. 모델이 데이터로부터 패턴을 학습한다는 것은 결국 이 가중치들을 데이터에 맞게 조정해나가는 과정입다."
      ],
      "metadata": {
        "id": "ckCCto_nP_F9"
      }
    },
    {
      "cell_type": "code",
      "source": [
        "# 우리가 직접 입력한\n",
        "\n",
        "from sentence_transformers import SentenceTransformer\n",
        "\n",
        "# 두 모델 로드\n",
        "type_classifier = TextClassifier.load('models/type-classifier')\n",
        "construction_classifier = TextClassifier.load('models/construction-classifier')\n",
        "\n",
        "def classify_guideline(text):\n",
        "    # 지침 유형 분류\n",
        "    type_sentence = Sentence(text)\n",
        "    type_classifier.predict(type_sentence)\n",
        "    guideline_type = type_sentence.labels[0].value\n",
        "    type_confidence = type_sentence.labels[0].score\n",
        "\n",
        "    # 공사 종류 분류\n",
        "    construction_sentence = Sentence(text)\n",
        "    construction_classifier.predict(construction_sentence)\n",
        "    construction_type = construction_sentence.labels[0].value\n",
        "    construction_confidence = construction_sentence.labels[0].score\n",
        "\n",
        "    return {\n",
        "        'text': text,\n",
        "        'guideline_type': guideline_type,\n",
        "        'construction_type': construction_type,\n",
        "        'type_confidence': type_confidence,\n",
        "        'construction_confidence': construction_confidence\n",
        "    }\n",
        "\n",
        "# PDF에서 추출한 모든 지침에 적용\n",
        "classified_guidelines = []\n",
        "for guideline in fcm_guidelines + ilm_guidelines:\n",
        "    classification = classify_guideline(guideline)\n",
        "\n",
        "    # 두 분류 모두 충분한 신뢰도를 가질 경우만 사용\n",
        "    if classification['type_confidence'] > 0.7 and classification['construction_confidence'] > 0.7:\n",
        "        # 임베딩 생성\n",
        "        embedding = model.encode(guideline)\n",
        "        classification['embedding'] = embedding\n",
        "        classified_guidelines.append(classification)"
      ],
      "metadata": {
        "id": "IhPK5EkwNfsC",
        "colab": {
          "base_uri": "https://localhost:8080/",
          "height": 373
        },
        "outputId": "749303e9-ed3e-48e0-b17b-5e307e2a6754"
      },
      "execution_count": null,
      "outputs": [
        {
          "output_type": "error",
          "ename": "IsADirectoryError",
          "evalue": "[Errno 21] Is a directory: 'models/type-classifier'",
          "traceback": [
            "\u001b[0;31m---------------------------------------------------------------------------\u001b[0m",
            "\u001b[0;31mIsADirectoryError\u001b[0m                         Traceback (most recent call last)",
            "\u001b[0;32m<ipython-input-16-fd301386292f>\u001b[0m in \u001b[0;36m<cell line: 0>\u001b[0;34m()\u001b[0m\n\u001b[1;32m      4\u001b[0m \u001b[0;34m\u001b[0m\u001b[0m\n\u001b[1;32m      5\u001b[0m \u001b[0;31m# 두 모델 로드\u001b[0m\u001b[0;34m\u001b[0m\u001b[0;34m\u001b[0m\u001b[0m\n\u001b[0;32m----> 6\u001b[0;31m \u001b[0mtype_classifier\u001b[0m \u001b[0;34m=\u001b[0m \u001b[0mTextClassifier\u001b[0m\u001b[0;34m.\u001b[0m\u001b[0mload\u001b[0m\u001b[0;34m(\u001b[0m\u001b[0;34m'models/type-classifier'\u001b[0m\u001b[0;34m)\u001b[0m\u001b[0;34m\u001b[0m\u001b[0;34m\u001b[0m\u001b[0m\n\u001b[0m\u001b[1;32m      7\u001b[0m \u001b[0mconstruction_classifier\u001b[0m \u001b[0;34m=\u001b[0m \u001b[0mTextClassifier\u001b[0m\u001b[0;34m.\u001b[0m\u001b[0mload\u001b[0m\u001b[0;34m(\u001b[0m\u001b[0;34m'models/construction-classifier'\u001b[0m\u001b[0;34m)\u001b[0m\u001b[0;34m\u001b[0m\u001b[0;34m\u001b[0m\u001b[0m\n\u001b[1;32m      8\u001b[0m \u001b[0;34m\u001b[0m\u001b[0m\n",
            "\u001b[0;32m/usr/local/lib/python3.11/dist-packages/flair/models/text_classification_model.py\u001b[0m in \u001b[0;36mload\u001b[0;34m(cls, model_path)\u001b[0m\n\u001b[1;32m    137\u001b[0m         \u001b[0;32mfrom\u001b[0m \u001b[0mtyping\u001b[0m \u001b[0;32mimport\u001b[0m \u001b[0mcast\u001b[0m\u001b[0;34m\u001b[0m\u001b[0;34m\u001b[0m\u001b[0m\n\u001b[1;32m    138\u001b[0m \u001b[0;34m\u001b[0m\u001b[0m\n\u001b[0;32m--> 139\u001b[0;31m         \u001b[0;32mreturn\u001b[0m \u001b[0mcast\u001b[0m\u001b[0;34m(\u001b[0m\u001b[0;34m\"TextClassifier\"\u001b[0m\u001b[0;34m,\u001b[0m \u001b[0msuper\u001b[0m\u001b[0;34m(\u001b[0m\u001b[0;34m)\u001b[0m\u001b[0;34m.\u001b[0m\u001b[0mload\u001b[0m\u001b[0;34m(\u001b[0m\u001b[0mmodel_path\u001b[0m\u001b[0;34m=\u001b[0m\u001b[0mmodel_path\u001b[0m\u001b[0;34m)\u001b[0m\u001b[0;34m)\u001b[0m\u001b[0;34m\u001b[0m\u001b[0;34m\u001b[0m\u001b[0m\n\u001b[0m",
            "\u001b[0;32m/usr/local/lib/python3.11/dist-packages/flair/nn/model.py\u001b[0m in \u001b[0;36mload\u001b[0;34m(cls, model_path)\u001b[0m\n\u001b[1;32m   1010\u001b[0m         \u001b[0;32mfrom\u001b[0m \u001b[0mtyping\u001b[0m \u001b[0;32mimport\u001b[0m \u001b[0mcast\u001b[0m\u001b[0;34m\u001b[0m\u001b[0;34m\u001b[0m\u001b[0m\n\u001b[1;32m   1011\u001b[0m \u001b[0;34m\u001b[0m\u001b[0m\n\u001b[0;32m-> 1012\u001b[0;31m         \u001b[0;32mreturn\u001b[0m \u001b[0mcast\u001b[0m\u001b[0;34m(\u001b[0m\u001b[0;34m\"DefaultClassifier\"\u001b[0m\u001b[0;34m,\u001b[0m \u001b[0msuper\u001b[0m\u001b[0;34m(\u001b[0m\u001b[0;34m)\u001b[0m\u001b[0;34m.\u001b[0m\u001b[0mload\u001b[0m\u001b[0;34m(\u001b[0m\u001b[0mmodel_path\u001b[0m\u001b[0;34m=\u001b[0m\u001b[0mmodel_path\u001b[0m\u001b[0;34m)\u001b[0m\u001b[0;34m)\u001b[0m\u001b[0;34m\u001b[0m\u001b[0;34m\u001b[0m\u001b[0m\n\u001b[0m",
            "\u001b[0;32m/usr/local/lib/python3.11/dist-packages/flair/nn/model.py\u001b[0m in \u001b[0;36mload\u001b[0;34m(cls, model_path)\u001b[0m\n\u001b[1;32m    581\u001b[0m         \u001b[0;32mfrom\u001b[0m \u001b[0mtyping\u001b[0m \u001b[0;32mimport\u001b[0m \u001b[0mcast\u001b[0m\u001b[0;34m\u001b[0m\u001b[0;34m\u001b[0m\u001b[0m\n\u001b[1;32m    582\u001b[0m \u001b[0;34m\u001b[0m\u001b[0m\n\u001b[0;32m--> 583\u001b[0;31m         \u001b[0;32mreturn\u001b[0m \u001b[0mcast\u001b[0m\u001b[0;34m(\u001b[0m\u001b[0;34m\"Classifier\"\u001b[0m\u001b[0;34m,\u001b[0m \u001b[0msuper\u001b[0m\u001b[0;34m(\u001b[0m\u001b[0;34m)\u001b[0m\u001b[0;34m.\u001b[0m\u001b[0mload\u001b[0m\u001b[0;34m(\u001b[0m\u001b[0mmodel_path\u001b[0m\u001b[0;34m=\u001b[0m\u001b[0mmodel_path\u001b[0m\u001b[0;34m)\u001b[0m\u001b[0;34m)\u001b[0m\u001b[0;34m\u001b[0m\u001b[0;34m\u001b[0m\u001b[0m\n\u001b[0m\u001b[1;32m    584\u001b[0m \u001b[0;34m\u001b[0m\u001b[0m\n\u001b[1;32m    585\u001b[0m \u001b[0;34m\u001b[0m\u001b[0m\n",
            "\u001b[0;32m/usr/local/lib/python3.11/dist-packages/flair/nn/model.py\u001b[0m in \u001b[0;36mload\u001b[0;34m(cls, model_path)\u001b[0m\n\u001b[1;32m    191\u001b[0m             \u001b[0;32mif\u001b[0m \u001b[0;32mnot\u001b[0m \u001b[0misinstance\u001b[0m\u001b[0;34m(\u001b[0m\u001b[0mmodel_path\u001b[0m\u001b[0;34m,\u001b[0m \u001b[0mdict\u001b[0m\u001b[0;34m)\u001b[0m\u001b[0;34m:\u001b[0m\u001b[0;34m\u001b[0m\u001b[0;34m\u001b[0m\u001b[0m\n\u001b[1;32m    192\u001b[0m                 \u001b[0mmodel_file\u001b[0m \u001b[0;34m=\u001b[0m \u001b[0mcls\u001b[0m\u001b[0;34m.\u001b[0m\u001b[0m_fetch_model\u001b[0m\u001b[0;34m(\u001b[0m\u001b[0mstr\u001b[0m\u001b[0;34m(\u001b[0m\u001b[0mmodel_path\u001b[0m\u001b[0;34m)\u001b[0m\u001b[0;34m)\u001b[0m\u001b[0;34m\u001b[0m\u001b[0;34m\u001b[0m\u001b[0m\n\u001b[0;32m--> 193\u001b[0;31m                 \u001b[0mstate\u001b[0m \u001b[0;34m=\u001b[0m \u001b[0mload_torch_state\u001b[0m\u001b[0;34m(\u001b[0m\u001b[0mmodel_file\u001b[0m\u001b[0;34m)\u001b[0m\u001b[0;34m\u001b[0m\u001b[0;34m\u001b[0m\u001b[0m\n\u001b[0m\u001b[1;32m    194\u001b[0m             \u001b[0;32melse\u001b[0m\u001b[0;34m:\u001b[0m\u001b[0;34m\u001b[0m\u001b[0;34m\u001b[0m\u001b[0m\n\u001b[1;32m    195\u001b[0m                 \u001b[0mstate\u001b[0m \u001b[0;34m=\u001b[0m \u001b[0mmodel_path\u001b[0m\u001b[0;34m\u001b[0m\u001b[0;34m\u001b[0m\u001b[0m\n",
            "\u001b[0;32m/usr/local/lib/python3.11/dist-packages/flair/file_utils.py\u001b[0m in \u001b[0;36mload_torch_state\u001b[0;34m(model_file)\u001b[0m\n\u001b[1;32m    382\u001b[0m         \u001b[0;31m# to load models on some Mac/Windows setups\u001b[0m\u001b[0;34m\u001b[0m\u001b[0;34m\u001b[0m\u001b[0m\n\u001b[1;32m    383\u001b[0m         \u001b[0;31m# see https://github.com/zalandoresearch/flair/issues/351\u001b[0m\u001b[0;34m\u001b[0m\u001b[0;34m\u001b[0m\u001b[0m\n\u001b[0;32m--> 384\u001b[0;31m         \u001b[0mf\u001b[0m \u001b[0;34m=\u001b[0m \u001b[0mload_big_file\u001b[0m\u001b[0;34m(\u001b[0m\u001b[0mmodel_file\u001b[0m\u001b[0;34m)\u001b[0m\u001b[0;34m\u001b[0m\u001b[0;34m\u001b[0m\u001b[0m\n\u001b[0m\u001b[1;32m    385\u001b[0m         \u001b[0;32mreturn\u001b[0m \u001b[0mtorch\u001b[0m\u001b[0;34m.\u001b[0m\u001b[0mload\u001b[0m\u001b[0;34m(\u001b[0m\u001b[0mf\u001b[0m\u001b[0;34m,\u001b[0m \u001b[0mmap_location\u001b[0m\u001b[0;34m=\u001b[0m\u001b[0;34m\"cpu\"\u001b[0m\u001b[0;34m,\u001b[0m \u001b[0mweights_only\u001b[0m\u001b[0;34m=\u001b[0m\u001b[0;32mFalse\u001b[0m\u001b[0;34m)\u001b[0m\u001b[0;34m\u001b[0m\u001b[0;34m\u001b[0m\u001b[0m\n",
            "\u001b[0;32m/usr/local/lib/python3.11/dist-packages/flair/file_utils.py\u001b[0m in \u001b[0;36mload_big_file\u001b[0;34m(f)\u001b[0m\n\u001b[1;32m     50\u001b[0m     \u001b[0mFiles\u001b[0m \u001b[0mover\u001b[0m \u001b[0;36m2\u001b[0m\u001b[0mGB\u001b[0m \u001b[0mcause\u001b[0m \u001b[0mpickle\u001b[0m \u001b[0merrors\u001b[0m \u001b[0mon\u001b[0m \u001b[0mcertain\u001b[0m \u001b[0mMac\u001b[0m \u001b[0;32mand\u001b[0m \u001b[0mWindows\u001b[0m \u001b[0mdistributions\u001b[0m\u001b[0;34m.\u001b[0m\u001b[0;34m\u001b[0m\u001b[0;34m\u001b[0m\u001b[0m\n\u001b[1;32m     51\u001b[0m     \"\"\"\n\u001b[0;32m---> 52\u001b[0;31m     \u001b[0;32mwith\u001b[0m \u001b[0mopen\u001b[0m\u001b[0;34m(\u001b[0m\u001b[0mf\u001b[0m\u001b[0;34m,\u001b[0m \u001b[0;34m\"rb\"\u001b[0m\u001b[0;34m)\u001b[0m \u001b[0;32mas\u001b[0m \u001b[0mf_in\u001b[0m\u001b[0;34m:\u001b[0m\u001b[0;34m\u001b[0m\u001b[0;34m\u001b[0m\u001b[0m\n\u001b[0m\u001b[1;32m     53\u001b[0m         \u001b[0;31m# mmap seems to be much more memory efficient\u001b[0m\u001b[0;34m\u001b[0m\u001b[0;34m\u001b[0m\u001b[0m\n\u001b[1;32m     54\u001b[0m         \u001b[0mbf\u001b[0m \u001b[0;34m=\u001b[0m \u001b[0mmmap\u001b[0m\u001b[0;34m.\u001b[0m\u001b[0mmmap\u001b[0m\u001b[0;34m(\u001b[0m\u001b[0mf_in\u001b[0m\u001b[0;34m.\u001b[0m\u001b[0mfileno\u001b[0m\u001b[0;34m(\u001b[0m\u001b[0;34m)\u001b[0m\u001b[0;34m,\u001b[0m \u001b[0;36m0\u001b[0m\u001b[0;34m,\u001b[0m \u001b[0maccess\u001b[0m\u001b[0;34m=\u001b[0m\u001b[0mmmap\u001b[0m\u001b[0;34m.\u001b[0m\u001b[0mACCESS_READ\u001b[0m\u001b[0;34m)\u001b[0m\u001b[0;34m\u001b[0m\u001b[0;34m\u001b[0m\u001b[0m\n",
            "\u001b[0;31mIsADirectoryError\u001b[0m: [Errno 21] Is a directory: 'models/type-classifier'"
          ]
        }
      ]
    },
    {
      "cell_type": "markdown",
      "source": [],
      "metadata": {
        "id": "l1W3DH-JNd9m"
      }
    },
    {
      "cell_type": "markdown",
      "source": [],
      "metadata": {
        "id": "CckIUb0wM1K3"
      }
    }
  ]
}